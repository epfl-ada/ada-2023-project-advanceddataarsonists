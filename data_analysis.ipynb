{
 "cells": [
  {
   "cell_type": "code",
   "execution_count": 1,
   "metadata": {
    "tags": []
   },
   "outputs": [],
   "source": [
    "import sys\n",
    "import matplotlib.pyplot as plt\n",
    "import matplotlib as mpl\n",
    "import statsmodels.api as sm\n",
    "import seaborn as sns\n",
    "import numpy as np\n",
    "import math\n",
    "from collections import Counter\n",
    "import pandas as pd\n",
    "import warnings\n",
    "import json\n",
    "import os\n",
    "import scipy\n",
    "\n",
    "# Allow python to import modules from the preprocessing folder\n",
    "sys.path.append(\"src/preprocessing/\")\n",
    "warnings.filterwarnings(\"ignore\") # For seaborn\n",
    "\n",
    "from load_dataset import *\n",
    "\n",
    "SAVE_PATH = \"./data/refined\"\n",
    "if not os.path.exists(SAVE_PATH):\n",
    "    os.mkdir(SAVE_PATH)"
   ]
  },
  {
   "cell_type": "markdown",
   "metadata": {},
   "source": [
    "# Table of contents\n",
    "Given the multiple sources of data and the various steps required to set up our future analysis, this notebook is relatively large. To make assessment of our work easier, we provide a table of contents with dynamic links using html anchors for your convenience. Sadly, the dynamic links **do not work** on Github's web interface, so we encourage you to download this notebook and open it in the browser of your choice."
   ]
  },
  {
   "cell_type": "markdown",
   "metadata": {},
   "source": [
    "## [Part 0: Requirements](#part_0_title)\n",
    "\n",
    "### &emsp; [Download data](#part_0_download_data)\n",
    "\n",
    "## [Part I: Load, explore and join movie datasets](#part_1_title)\n",
    "\n",
    "### &emsp; [CMU dataset](#part_1_cmu)\n",
    "\n",
    "#### &emsp; &emsp; [CMU characters](#part_1_cmu_characters)\n",
    "#### &emsp; &emsp; [CMU movies](#part_1_cmu_movies)\n",
    "#### &emsp; &emsp; [CMU plots](#part_1_cmu_plots)\n",
    "#### &emsp; &emsp; [CMU tropes](#part_1_cmu_tropes)\n",
    "\n",
    "### &emsp; [IMDb dataset](#part_1_imdb)\n",
    "\n",
    "#### &emsp; &emsp; [IMDb ratings](#part_1_imdb_ratings)\n",
    "#### &emsp; &emsp; [IMDb titles](#part_1_imdb_title)\n",
    "#### &emsp; &emsp; [IMDb principals](#part_1_imdb_principals)\n",
    "#### &emsp; &emsp; [IMDb people](#part_1_imdb_people)\n",
    "\n",
    "### &emsp; [Joining titles with ratings](#part_1_imdb_title_with_ratings)\n",
    "\n",
    "### &emsp; [Joining CMU movies & plots with IMDb titles & ratings](#part_1_cmu_movies_joined_imdb_title_with_ratings)\n",
    "\n",
    "### &emsp; [Joining IMDb people with IMDb principals](#part_1_imdb_people_with_principals)\n",
    "\n",
    "### &emsp; [Filtering CMU characters](#part_1_cmu_filter_characters)\n",
    "\n",
    "### &emsp; [Joining CMU characters with IMDb people & principals](#part_1_imdb_actors_characters_with_cmu_characters)\n",
    "\n",
    "### &emsp; [Part I summary](#part_1_summary)\n",
    "\n",
    "#### &emsp; &emsp; [Saving](#part_1_saving)\n",
    "\n",
    "## [Part 2: Character tropes / Personas](#part_2_title)\n",
    "\n",
    "### &emsp; [TVTropes personas](#part_2_tv_tropes_personas)\n",
    "\n",
    "#### &emsp; &emsp; [Analyse tropes characters](#part_2_tv_tropes_per_actor)\n",
    "#### &emsp; &emsp; [Introduction of the preference metric](#part_2_preference_metric)\n",
    "#### &emsp; &emsp; [Joining TVTropes with movies](#part_2_tvtropes_joined_movies)\n",
    "\n",
    "### &emsp; [Joining original paper tropes with actors & characters](#part_2_cmu_personas_joined_character)\n",
    "\n",
    "### &emsp; [Part II summary](#part_2_summary)\n",
    "\n",
    "#### &emsp; &emsp; [Saving](#part_2_saving)\n",
    "\n",
    "## [Part 3: Movie based comfort zones](#part_3_movie_based_comfort_zones)\n",
    "\n",
    "### &emsp; [Based on genre](#part_3_movie_based_comfort_zones_genre)\n",
    "\n",
    "#### &emsp; &emsp; [Genre frequency vector per actor](#part_3_genre_freq_vector)\n",
    "#### &emsp; &emsp; [Joining genre frequency vector with actors & characters & tropes](#part_3_merge_characters_genre_freq_vector)\n",
    "#### &emsp; &emsp; [Saving](#part_3_saving)\n",
    "\n",
    "### &emsp; [Part III summary](#part_3_summary)\n",
    "\n",
    "## [Intermezzo : Possible sources of bias and limitations](#part_3_possible_bias_and_limitations)\n",
    "\n",
    "## [Part 4: Analysis](#part_4_title)"
   ]
  },
  {
   "cell_type": "markdown",
   "metadata": {},
   "source": [
    "<hr style=\"height:2px;border:none;color:#333;background-color:#333;\">"
   ]
  },
  {
   "cell_type": "markdown",
   "metadata": {},
   "source": [
    "# Part 0: Requirements <a name=\"part_0_title\"></a>"
   ]
  },
  {
   "cell_type": "markdown",
   "metadata": {},
   "source": [
    "## Download data <a name=\"part_0_download_data\"></a>\n",
    "\n",
    "In order to download all required datasets, run the cell bellow (may take a while the first time)."
   ]
  },
  {
   "cell_type": "code",
   "execution_count": 4,
   "metadata": {},
   "outputs": [
    {
     "name": "stdout",
     "output_type": "stream",
     "text": [
      "[x] Fail to register archieve format .gz (make sure requirements.txt are satisfied)\n",
      ".gz is already registered for \"gz\"\n",
      "[+] Found cached dataset for url https://www.cs.cmu.edu/~ark/personas/data/MovieSummaries.tar.gz\n",
      "[+] Found cached dataset for url https://datasets.imdbws.com/title.basics.tsv.gz\n",
      "[+] Found cached dataset for url https://datasets.imdbws.com/name.basics.tsv.gz\n",
      "[+] Found cached dataset for url https://datasets.imdbws.com/title.ratings.tsv.gz\n",
      "[+] Found cached dataset for url https://datasets.imdbws.com/title.principals.tsv.gz\n",
      "[+] Found cached dataset for url https://raw.githubusercontent.com/MichelDucartier/ACL_personas_dump/master/personas/25.100.lda.cond.log.txt.gz\n",
      "[+] Found cached dataset for url https://raw.githubusercontent.com/MichelDucartier/ACL_personas_dump/master/personas/25.100.lda.log.txt.gz\n",
      "[+] Found cached dataset for url https://raw.githubusercontent.com/MichelDucartier/ACL_personas_dump/master/personas/featureFile.txt.gz\n",
      "[+] Found cached dataset for url https://raw.githubusercontent.com/MichelDucartier/ACL_personas_dump/master/personas/featureMeans.txt.gz\n",
      "[+] Found cached dataset for url https://raw.githubusercontent.com/MichelDucartier/ACL_personas_dump/master/personas/lr.weights.txt.gz\n",
      "[+] Found cached dataset for url https://raw.githubusercontent.com/MichelDucartier/ACL_personas_dump/master/personas/out.phi.weights.gz\n",
      "[+] Found cached dataset for url https://raw.githubusercontent.com/MichelDucartier/ACL_personas_dump/master/personas/personaFile.gz\n",
      "[+] Found cached dataset for url https://raw.githubusercontent.com/MichelDucartier/ACL_personas_dump/master/tvtropes/trope2characters.json.gz\n",
      "[+] Found existing translation for wiki_movie_id to imdb' tconst\n",
      "[+] Found existing translation for characters wiki id to imdb' tconst\n"
     ]
    }
   ],
   "source": [
    "%run src/preprocessing/download_dataset.py"
   ]
  },
  {
   "cell_type": "markdown",
   "metadata": {},
   "source": [
    "# Part I: Load, explore and join movie datasets <a name=\"part_1_title\"></a>"
   ]
  },
  {
   "cell_type": "markdown",
   "metadata": {},
   "source": [
    "## CMU dataset <a name=\"part_1_cmu\"></a>\n",
    "\n",
    "We load the 4 `.tsv` and `.txt` files of the CMU dataset into 4 different dataframes"
   ]
  },
  {
   "cell_type": "code",
   "execution_count": 44,
   "metadata": {
    "tags": []
   },
   "outputs": [],
   "source": [
    "characters_df = load_characters_df()\n",
    "movies_df = load_movies_df()\n",
    "plot_df = load_plot_df()\n",
    "tvtropes_df = load_tvtropes_df()"
   ]
  },
  {
   "cell_type": "markdown",
   "metadata": {},
   "source": [
    "### Characters <a name=\"part_1_cmu_characters\"></a>\n",
    "\n",
    "The characters dataframe comes from the CMU movies dataset. This dataframe describes movie characters and provides information about the actor who played the corresponding character. Here is a sample of this dataframe :"
   ]
  },
  {
   "cell_type": "code",
   "execution_count": 45,
   "metadata": {
    "tags": []
   },
   "outputs": [
    {
     "data": {
      "text/html": [
       "<div>\n",
       "<style scoped>\n",
       "    .dataframe tbody tr th:only-of-type {\n",
       "        vertical-align: middle;\n",
       "    }\n",
       "\n",
       "    .dataframe tbody tr th {\n",
       "        vertical-align: top;\n",
       "    }\n",
       "\n",
       "    .dataframe thead th {\n",
       "        text-align: right;\n",
       "    }\n",
       "</style>\n",
       "<table border=\"1\" class=\"dataframe\">\n",
       "  <thead>\n",
       "    <tr style=\"text-align: right;\">\n",
       "      <th></th>\n",
       "      <th>wiki_movie_id</th>\n",
       "      <th>freebase_movie_id</th>\n",
       "      <th>release_date</th>\n",
       "      <th>character_name</th>\n",
       "      <th>actor_birth</th>\n",
       "      <th>actor_gender</th>\n",
       "      <th>actor_height</th>\n",
       "      <th>actor_ethnicity</th>\n",
       "      <th>actor_name</th>\n",
       "      <th>release_actor_age</th>\n",
       "      <th>freebase_map_id</th>\n",
       "      <th>freebase_character_id</th>\n",
       "      <th>freebase_actor_id</th>\n",
       "    </tr>\n",
       "  </thead>\n",
       "  <tbody>\n",
       "    <tr>\n",
       "      <th>420079</th>\n",
       "      <td>28670423</td>\n",
       "      <td>/m/0czf7dh</td>\n",
       "      <td>1935</td>\n",
       "      <td>NaN</td>\n",
       "      <td>1920-03-09</td>\n",
       "      <td>M</td>\n",
       "      <td>NaN</td>\n",
       "      <td>NaN</td>\n",
       "      <td>Douglas Haig</td>\n",
       "      <td>14.0</td>\n",
       "      <td>/m/0hzvkpp</td>\n",
       "      <td>NaN</td>\n",
       "      <td>/m/0czf092</td>\n",
       "    </tr>\n",
       "    <tr>\n",
       "      <th>149705</th>\n",
       "      <td>2609661</td>\n",
       "      <td>/m/07rhc5</td>\n",
       "      <td>1949-10-28</td>\n",
       "      <td>Pablo Rodriguez</td>\n",
       "      <td>1920-11-25</td>\n",
       "      <td>M</td>\n",
       "      <td>1.83</td>\n",
       "      <td>/m/09k5jvk</td>\n",
       "      <td>Ricardo Montalbán</td>\n",
       "      <td>28.0</td>\n",
       "      <td>/m/0jvp8m</td>\n",
       "      <td>/m/0h37rhh</td>\n",
       "      <td>/m/0k014</td>\n",
       "    </tr>\n",
       "    <tr>\n",
       "      <th>361267</th>\n",
       "      <td>27477214</td>\n",
       "      <td>/m/0c01jnf</td>\n",
       "      <td>1950-11-17</td>\n",
       "      <td>NaN</td>\n",
       "      <td>1915-06-07</td>\n",
       "      <td>F</td>\n",
       "      <td>NaN</td>\n",
       "      <td>NaN</td>\n",
       "      <td>Patricia Roc</td>\n",
       "      <td>35.0</td>\n",
       "      <td>/m/0g9mxry</td>\n",
       "      <td>NaN</td>\n",
       "      <td>/m/03wcbfk</td>\n",
       "    </tr>\n",
       "    <tr>\n",
       "      <th>277069</th>\n",
       "      <td>5672796</td>\n",
       "      <td>/m/0dzf2d</td>\n",
       "      <td>1973</td>\n",
       "      <td>NaN</td>\n",
       "      <td>1925-06-06</td>\n",
       "      <td>M</td>\n",
       "      <td>NaN</td>\n",
       "      <td>NaN</td>\n",
       "      <td>Hideji Otaki</td>\n",
       "      <td>47.0</td>\n",
       "      <td>/m/0gz1fjb</td>\n",
       "      <td>NaN</td>\n",
       "      <td>/m/0jsz6z</td>\n",
       "    </tr>\n",
       "    <tr>\n",
       "      <th>275973</th>\n",
       "      <td>16029585</td>\n",
       "      <td>/m/03ql9rn</td>\n",
       "      <td>1994</td>\n",
       "      <td>NaN</td>\n",
       "      <td>1946-03-19</td>\n",
       "      <td>M</td>\n",
       "      <td>NaN</td>\n",
       "      <td>NaN</td>\n",
       "      <td>Bigas Luna</td>\n",
       "      <td>47.0</td>\n",
       "      <td>/m/0cs3_52</td>\n",
       "      <td>NaN</td>\n",
       "      <td>/m/07btn6</td>\n",
       "    </tr>\n",
       "  </tbody>\n",
       "</table>\n",
       "</div>"
      ],
      "text/plain": [
       "        wiki_movie_id freebase_movie_id release_date   character_name  \\\n",
       "420079       28670423        /m/0czf7dh         1935              NaN   \n",
       "149705        2609661         /m/07rhc5   1949-10-28  Pablo Rodriguez   \n",
       "361267       27477214        /m/0c01jnf   1950-11-17              NaN   \n",
       "277069        5672796         /m/0dzf2d         1973              NaN   \n",
       "275973       16029585        /m/03ql9rn         1994              NaN   \n",
       "\n",
       "       actor_birth actor_gender  actor_height actor_ethnicity  \\\n",
       "420079  1920-03-09            M           NaN             NaN   \n",
       "149705  1920-11-25            M          1.83      /m/09k5jvk   \n",
       "361267  1915-06-07            F           NaN             NaN   \n",
       "277069  1925-06-06            M           NaN             NaN   \n",
       "275973  1946-03-19            M           NaN             NaN   \n",
       "\n",
       "               actor_name  release_actor_age freebase_map_id  \\\n",
       "420079       Douglas Haig               14.0      /m/0hzvkpp   \n",
       "149705  Ricardo Montalbán               28.0       /m/0jvp8m   \n",
       "361267       Patricia Roc               35.0      /m/0g9mxry   \n",
       "277069       Hideji Otaki               47.0      /m/0gz1fjb   \n",
       "275973         Bigas Luna               47.0      /m/0cs3_52   \n",
       "\n",
       "       freebase_character_id freebase_actor_id  \n",
       "420079                   NaN        /m/0czf092  \n",
       "149705            /m/0h37rhh          /m/0k014  \n",
       "361267                   NaN        /m/03wcbfk  \n",
       "277069                   NaN         /m/0jsz6z  \n",
       "275973                   NaN         /m/07btn6  "
      ]
     },
     "execution_count": 45,
     "metadata": {},
     "output_type": "execute_result"
    }
   ],
   "source": [
    "characters_df.sample(5)"
   ]
  },
  {
   "cell_type": "code",
   "execution_count": 46,
   "metadata": {
    "tags": []
   },
   "outputs": [
    {
     "name": "stdout",
     "output_type": "stream",
     "text": [
      "Number of characters loaded: 450669\n",
      "Number of unique movies: 64330\n",
      "Number of unique actors: 135761\n",
      "\n",
      "Percentage of missing gender: 10.12%\n",
      "Percentage of missing height: 65.65%\n",
      "Percentage of missing ethnicity: 76.47%\n",
      "Percentage of missing age upon release: 35.08%\n",
      "\n",
      "Number of character records for which ethnicity is known: 106058\n",
      "Number of unique actors for which ethnicity is known: 8151\n"
     ]
    }
   ],
   "source": [
    "total_characters = len(characters_df)\n",
    "print(f\"Number of characters loaded: {total_characters}\")\n",
    "print(f\"Number of unique movies: {len(characters_df['wiki_movie_id'].unique())}\")\n",
    "print(f\"Number of unique actors: {len(characters_df['freebase_actor_id'].unique())}\", end=\"\\n\\n\")\n",
    "\n",
    "print(f\"Percentage of missing gender: {characters_df['actor_gender'].isna().sum()/total_characters*100:.2f}%\")\n",
    "print(f\"Percentage of missing height: {characters_df['actor_height'].isna().sum()/total_characters*100:.2f}%\")\n",
    "print(f\"Percentage of missing ethnicity: {characters_df['actor_ethnicity'].isna().sum()/total_characters*100:.2f}%\")\n",
    "print(f\"Percentage of missing age upon release: {characters_df['release_actor_age'].isna().sum()/total_characters*100:.2f}%\", end=\"\\n\\n\")\n",
    "\n",
    "print(f\"Number of character records for which ethnicity is known: {len(characters_df[~characters_df['actor_ethnicity'].isna()])}\")\n",
    "print(f\"Number of unique actors for which ethnicity is known: {len(characters_df[~characters_df['actor_ethnicity'].isna()]['freebase_actor_id'].unique())}\")"
   ]
  },
  {
   "cell_type": "markdown",
   "metadata": {},
   "source": [
    "We can first notice that a great percentage of actor's ethnicity is missing. This may become a problem when we study the impact of actors' ethnicity on the success of a movie. Let's investigate a bit."
   ]
  },
  {
   "cell_type": "code",
   "execution_count": 47,
   "metadata": {},
   "outputs": [
    {
     "data": {
      "image/png": "[encoded data removed]",
      "text/plain": [
       "<Figure size 2000x600 with 1 Axes>"
      ]
     },
     "metadata": {},
     "output_type": "display_data"
    }
   ],
   "source": [
    "actors_ethnicities = characters_df[['freebase_actor_id', 'actor_ethnicity']].dropna().groupby(by='actor_ethnicity').count()\n",
    "actors_ethnicities = actors_ethnicities.sort_values(by='freebase_actor_id')\n",
    "\n",
    "plt.figure(figsize=(20,6))\n",
    "plt.bar(actors_ethnicities.index, actors_ethnicities['freebase_actor_id'], label='')\n",
    "plt.title(\"Actors ethnicities distribution\")\n",
    "plt.yscale('log')\n",
    "plt.xticks([])\n",
    "plt.ylabel(\"Count\")\n",
    "plt.xlabel(\"Ethnicity\")\n",
    "plt.show()"
   ]
  },
  {
   "cell_type": "markdown",
   "metadata": {},
   "source": [
    "As shown, the ethnicities distribution is very heterogeneous. Some ethnicities have only one representative whereas others have more than thousands elements. During analysis, we must be careful on our conclusions as variance gets higher for the ethnicities with fewer representatives. Fortunately, we can quantify uncertainty in our results using tools like p-value and confidence interval."
   ]
  },
  {
   "cell_type": "markdown",
   "metadata": {},
   "source": [
    "### Movies <a name=\"part_1_cmu_movies\"></a>\n",
    "\n",
    "The movies dataframe also comes from the CMU dataset and provides information about movies such as its origins, runtime and box office."
   ]
  },
  {
   "cell_type": "code",
   "execution_count": 48,
   "metadata": {},
   "outputs": [
    {
     "data": {
      "text/html": [
       "<div>\n",
       "<style scoped>\n",
       "    .dataframe tbody tr th:only-of-type {\n",
       "        vertical-align: middle;\n",
       "    }\n",
       "\n",
       "    .dataframe tbody tr th {\n",
       "        vertical-align: top;\n",
       "    }\n",
       "\n",
       "    .dataframe thead th {\n",
       "        text-align: right;\n",
       "    }\n",
       "</style>\n",
       "<table border=\"1\" class=\"dataframe\">\n",
       "  <thead>\n",
       "    <tr style=\"text-align: right;\">\n",
       "      <th></th>\n",
       "      <th>wiki_movie_id</th>\n",
       "      <th>freebase_movie_id</th>\n",
       "      <th>movie_name</th>\n",
       "      <th>movie_release_date</th>\n",
       "      <th>box_office</th>\n",
       "      <th>movie_runtime</th>\n",
       "      <th>movie_languages</th>\n",
       "      <th>movie_countries</th>\n",
       "      <th>movie_genres</th>\n",
       "    </tr>\n",
       "  </thead>\n",
       "  <tbody>\n",
       "    <tr>\n",
       "      <th>58834</th>\n",
       "      <td>20692099</td>\n",
       "      <td>/m/051y485</td>\n",
       "      <td>Pudhu Pudhu Arthangal</td>\n",
       "      <td>1989</td>\n",
       "      <td>NaN</td>\n",
       "      <td>NaN</td>\n",
       "      <td>{'/m/07c9s': 'Tamil Language'}</td>\n",
       "      <td>{'/m/03rk0': 'India'}</td>\n",
       "      <td>{'/m/07s9rl0': 'Drama'}</td>\n",
       "    </tr>\n",
       "    <tr>\n",
       "      <th>77002</th>\n",
       "      <td>12214336</td>\n",
       "      <td>/m/02vw3q6</td>\n",
       "      <td>Assume the Position with Mr. Wuhl</td>\n",
       "      <td>2007</td>\n",
       "      <td>NaN</td>\n",
       "      <td>90.0</td>\n",
       "      <td>{}</td>\n",
       "      <td>{'/m/09c7w0': 'United States of America'}</td>\n",
       "      <td>{'/m/01z4y': 'Comedy', '/m/0q00t': 'Stand-up c...</td>\n",
       "    </tr>\n",
       "    <tr>\n",
       "      <th>76654</th>\n",
       "      <td>9912631</td>\n",
       "      <td>/m/06_y78c</td>\n",
       "      <td>Ensayo final</td>\n",
       "      <td>1955</td>\n",
       "      <td>NaN</td>\n",
       "      <td>NaN</td>\n",
       "      <td>{'/m/06nm1': 'Spanish Language'}</td>\n",
       "      <td>{'/m/0jgd': 'Argentina'}</td>\n",
       "      <td>{'/m/01g6gs': 'Black-and-white'}</td>\n",
       "    </tr>\n",
       "    <tr>\n",
       "      <th>69337</th>\n",
       "      <td>25659086</td>\n",
       "      <td>/m/09v8xg2</td>\n",
       "      <td>Training Rules</td>\n",
       "      <td>2009-03</td>\n",
       "      <td>NaN</td>\n",
       "      <td>63.0</td>\n",
       "      <td>{'/m/02h40lc': 'English Language'}</td>\n",
       "      <td>{'/m/09c7w0': 'United States of America'}</td>\n",
       "      <td>{'/m/0hn10': 'LGBT', '/m/0hj3n07': 'Culture &amp; ...</td>\n",
       "    </tr>\n",
       "    <tr>\n",
       "      <th>6457</th>\n",
       "      <td>23799090</td>\n",
       "      <td>/m/06_v731</td>\n",
       "      <td>Jajabara</td>\n",
       "      <td>1975</td>\n",
       "      <td>NaN</td>\n",
       "      <td>NaN</td>\n",
       "      <td>{'/m/01y6qp': 'Oriya Language'}</td>\n",
       "      <td>{'/m/03rk0': 'India'}</td>\n",
       "      <td>{'/m/07s9rl0': 'Drama'}</td>\n",
       "    </tr>\n",
       "  </tbody>\n",
       "</table>\n",
       "</div>"
      ],
      "text/plain": [
       "       wiki_movie_id freebase_movie_id                         movie_name  \\\n",
       "58834       20692099        /m/051y485              Pudhu Pudhu Arthangal   \n",
       "77002       12214336        /m/02vw3q6  Assume the Position with Mr. Wuhl   \n",
       "76654        9912631        /m/06_y78c                       Ensayo final   \n",
       "69337       25659086        /m/09v8xg2                     Training Rules   \n",
       "6457        23799090        /m/06_v731                           Jajabara   \n",
       "\n",
       "      movie_release_date  box_office  movie_runtime  \\\n",
       "58834               1989         NaN            NaN   \n",
       "77002               2007         NaN           90.0   \n",
       "76654               1955         NaN            NaN   \n",
       "69337            2009-03         NaN           63.0   \n",
       "6457                1975         NaN            NaN   \n",
       "\n",
       "                          movie_languages  \\\n",
       "58834      {'/m/07c9s': 'Tamil Language'}   \n",
       "77002                                  {}   \n",
       "76654    {'/m/06nm1': 'Spanish Language'}   \n",
       "69337  {'/m/02h40lc': 'English Language'}   \n",
       "6457      {'/m/01y6qp': 'Oriya Language'}   \n",
       "\n",
       "                                 movie_countries  \\\n",
       "58834                      {'/m/03rk0': 'India'}   \n",
       "77002  {'/m/09c7w0': 'United States of America'}   \n",
       "76654                   {'/m/0jgd': 'Argentina'}   \n",
       "69337  {'/m/09c7w0': 'United States of America'}   \n",
       "6457                       {'/m/03rk0': 'India'}   \n",
       "\n",
       "                                            movie_genres  \n",
       "58834                            {'/m/07s9rl0': 'Drama'}  \n",
       "77002  {'/m/01z4y': 'Comedy', '/m/0q00t': 'Stand-up c...  \n",
       "76654                   {'/m/01g6gs': 'Black-and-white'}  \n",
       "69337  {'/m/0hn10': 'LGBT', '/m/0hj3n07': 'Culture & ...  \n",
       "6457                             {'/m/07s9rl0': 'Drama'}  "
      ]
     },
     "execution_count": 48,
     "metadata": {},
     "output_type": "execute_result"
    }
   ],
   "source": [
    "movies_df.sample(5)"
   ]
  },
  {
   "cell_type": "code",
   "execution_count": 49,
   "metadata": {},
   "outputs": [
    {
     "name": "stdout",
     "output_type": "stream",
     "text": [
      "Number of movies loaded: 81741\n",
      "Percentage of missing box office revenue: 89.72%\n",
      "Number of movies for which we have matching character data: 64330\n"
     ]
    }
   ],
   "source": [
    "total_movies = len(movies_df)\n",
    "print(f\"Number of movies loaded: {total_movies}\")\n",
    "print(f\"Percentage of missing box office revenue: {movies_df['box_office'].isna().sum()/total_movies*100:.2f}%\")\n",
    "print(f\"Number of movies for which we have matching character data: {len(movies_df.merge(characters_df, how='inner', on=['wiki_movie_id', 'freebase_movie_id'])['freebase_movie_id'].unique())}\")"
   ]
  },
  {
   "cell_type": "markdown",
   "metadata": {},
   "source": [
    "A great proportion of box office revenue data is missing (almost 90%). This makes sense as lots of movies are not shown in cinemas such as TV movies, short movies. Indeed, to get a movie to the box office, one needs to work with studios or convince distributors to distribute the movie.\n",
    "\n",
    "Thus, using box office as a way to measure a movie's performance may be biased because we already filter a specific type of movie. Furthermore, box office does not necessarily reflect the quality of a movie. Indeed some movies may not get a high box office revenue because of a lack of advertising. To fix this issue, we will use users rating from the IMDb database."
   ]
  },
  {
   "cell_type": "code",
   "execution_count": 50,
   "metadata": {},
   "outputs": [],
   "source": [
    "# Extract years from the release date of movies\n",
    "movies_df['movie_release_year'] = movies_df[~movies_df['movie_release_date'].isna()]['movie_release_date'].astype(str).str[:4].astype(int)"
   ]
  },
  {
   "cell_type": "code",
   "execution_count": 51,
   "metadata": {},
   "outputs": [
    {
     "data": {
      "image/png": "[encoded data removed]",
      "text/plain": [
       "<Figure size 640x480 with 1 Axes>"
      ]
     },
     "metadata": {},
     "output_type": "display_data"
    }
   ],
   "source": [
    "plt.hist(movies_df['movie_release_year'], bins=100)\n",
    "plt.yscale(\"log\")\n",
    "plt.xlabel(\"Year\")\n",
    "plt.ylabel(\"Count\")\n",
    "plt.title(\"Movies count per year\")\n",
    "plt.show()"
   ]
  },
  {
   "cell_type": "markdown",
   "metadata": {},
   "source": [
    "We notice that a movie has been produced 700 years before the invention of potography ! Let's investigate:"
   ]
  },
  {
   "cell_type": "code",
   "execution_count": 52,
   "metadata": {},
   "outputs": [
    {
     "data": {
      "text/html": [
       "<div>\n",
       "<style scoped>\n",
       "    .dataframe tbody tr th:only-of-type {\n",
       "        vertical-align: middle;\n",
       "    }\n",
       "\n",
       "    .dataframe tbody tr th {\n",
       "        vertical-align: top;\n",
       "    }\n",
       "\n",
       "    .dataframe thead th {\n",
       "        text-align: right;\n",
       "    }\n",
       "</style>\n",
       "<table border=\"1\" class=\"dataframe\">\n",
       "  <thead>\n",
       "    <tr style=\"text-align: right;\">\n",
       "      <th></th>\n",
       "      <th>wiki_movie_id</th>\n",
       "      <th>freebase_movie_id</th>\n",
       "      <th>movie_name</th>\n",
       "      <th>movie_release_date</th>\n",
       "      <th>box_office</th>\n",
       "      <th>movie_runtime</th>\n",
       "      <th>movie_languages</th>\n",
       "      <th>movie_countries</th>\n",
       "      <th>movie_genres</th>\n",
       "      <th>movie_release_year</th>\n",
       "    </tr>\n",
       "  </thead>\n",
       "  <tbody>\n",
       "    <tr>\n",
       "      <th>62836</th>\n",
       "      <td>29666067</td>\n",
       "      <td>/m/0fphzrf</td>\n",
       "      <td>Hunting Season</td>\n",
       "      <td>1010-12-02</td>\n",
       "      <td>12160978.0</td>\n",
       "      <td>140.0</td>\n",
       "      <td>{'/m/02hwyss': 'Turkish Language', '/m/02h40lc...</td>\n",
       "      <td>{'/m/01znc_': 'Turkey'}</td>\n",
       "      <td>{'/m/0lsxr': 'Crime Fiction', '/m/02n4kr': 'My...</td>\n",
       "      <td>1010.0</td>\n",
       "    </tr>\n",
       "  </tbody>\n",
       "</table>\n",
       "</div>"
      ],
      "text/plain": [
       "       wiki_movie_id freebase_movie_id      movie_name movie_release_date  \\\n",
       "62836       29666067        /m/0fphzrf  Hunting Season         1010-12-02   \n",
       "\n",
       "       box_office  movie_runtime  \\\n",
       "62836  12160978.0          140.0   \n",
       "\n",
       "                                         movie_languages  \\\n",
       "62836  {'/m/02hwyss': 'Turkish Language', '/m/02h40lc...   \n",
       "\n",
       "               movie_countries  \\\n",
       "62836  {'/m/01znc_': 'Turkey'}   \n",
       "\n",
       "                                            movie_genres  movie_release_year  \n",
       "62836  {'/m/0lsxr': 'Crime Fiction', '/m/02n4kr': 'My...              1010.0  "
      ]
     },
     "execution_count": 52,
     "metadata": {},
     "output_type": "execute_result"
    }
   ],
   "source": [
    "wrong_dates = movies_df[movies_df['movie_release_year'] < 1800].index\n",
    "movies_df.loc[wrong_dates]"
   ]
  },
  {
   "cell_type": "markdown",
   "metadata": {},
   "source": [
    "By googling the movie's name, we find that `Hunting season` should be released in 2010 (instead of 1010). This is obviously a typo and 1010 should be replaced by 2010."
   ]
  },
  {
   "cell_type": "code",
   "execution_count": 53,
   "metadata": {},
   "outputs": [],
   "source": [
    "# A movie that has the release date 1010. We fix the typo to 2010\n",
    "movies_df.loc[wrong_dates, 'movie_release_year']= 2010\n",
    "movies_df.loc[wrong_dates, 'movie_release_date'] ='2010-12-02'"
   ]
  },
  {
   "cell_type": "code",
   "execution_count": 54,
   "metadata": {},
   "outputs": [
    {
     "data": {
      "image/png": "[encoded data removed]",
      "text/plain": [
       "<Figure size 1200x600 with 1 Axes>"
      ]
     },
     "metadata": {},
     "output_type": "display_data"
    }
   ],
   "source": [
    "n_years = len(movies_df['movie_release_year'].dropna().unique())\n",
    "\n",
    "plt.figure(figsize=(12, 6))\n",
    "plt.hist(movies_df['movie_release_year'], bins=n_years)\n",
    "plt.xlabel(\"Year\")\n",
    "plt.ylabel(\"Count\")\n",
    "plt.title(\"Movies count per year\")\n",
    "plt.show()"
   ]
  },
  {
   "cell_type": "markdown",
   "metadata": {},
   "source": [
    "There are significantly more movies released after 1990 than before in our dataset."
   ]
  },
  {
   "cell_type": "markdown",
   "metadata": {},
   "source": [
    "### Plots <a name=\"part_1_cmu_plots\"></a>\n",
    "\n",
    "The plot dataframe comes from the CMU dataset and provides a summary of the plot of a given movie."
   ]
  },
  {
   "cell_type": "code",
   "execution_count": 55,
   "metadata": {
    "tags": []
   },
   "outputs": [
    {
     "data": {
      "text/html": [
       "<div>\n",
       "<style scoped>\n",
       "    .dataframe tbody tr th:only-of-type {\n",
       "        vertical-align: middle;\n",
       "    }\n",
       "\n",
       "    .dataframe tbody tr th {\n",
       "        vertical-align: top;\n",
       "    }\n",
       "\n",
       "    .dataframe thead th {\n",
       "        text-align: right;\n",
       "    }\n",
       "</style>\n",
       "<table border=\"1\" class=\"dataframe\">\n",
       "  <thead>\n",
       "    <tr style=\"text-align: right;\">\n",
       "      <th></th>\n",
       "      <th>wiki_movie_id</th>\n",
       "      <th>plot_summary</th>\n",
       "    </tr>\n",
       "  </thead>\n",
       "  <tbody>\n",
       "    <tr>\n",
       "      <th>18606</th>\n",
       "      <td>883446</td>\n",
       "      <td>The rocketship MR-1 , returns to Earth after t...</td>\n",
       "    </tr>\n",
       "    <tr>\n",
       "      <th>29068</th>\n",
       "      <td>17344938</td>\n",
       "      <td>During the Battle of Sarıkamış, the Ottoman ar...</td>\n",
       "    </tr>\n",
       "    <tr>\n",
       "      <th>21193</th>\n",
       "      <td>18302086</td>\n",
       "      <td>In debt and out of money, Kang Chul-jung is ti...</td>\n",
       "    </tr>\n",
       "    <tr>\n",
       "      <th>8296</th>\n",
       "      <td>8846464</td>\n",
       "      <td>Master Sergeant Dan O'Farrell is a G.I. on an ...</td>\n",
       "    </tr>\n",
       "    <tr>\n",
       "      <th>1621</th>\n",
       "      <td>16771910</td>\n",
       "      <td>In the closing days of World War II, a small G...</td>\n",
       "    </tr>\n",
       "  </tbody>\n",
       "</table>\n",
       "</div>"
      ],
      "text/plain": [
       "       wiki_movie_id                                       plot_summary\n",
       "18606         883446  The rocketship MR-1 , returns to Earth after t...\n",
       "29068       17344938  During the Battle of Sarıkamış, the Ottoman ar...\n",
       "21193       18302086  In debt and out of money, Kang Chul-jung is ti...\n",
       "8296         8846464  Master Sergeant Dan O'Farrell is a G.I. on an ...\n",
       "1621        16771910  In the closing days of World War II, a small G..."
      ]
     },
     "execution_count": 55,
     "metadata": {},
     "output_type": "execute_result"
    }
   ],
   "source": [
    "plot_df.sample(5)"
   ]
  },
  {
   "cell_type": "code",
   "execution_count": 56,
   "metadata": {},
   "outputs": [
    {
     "name": "stdout",
     "output_type": "stream",
     "text": [
      "Number of plot summaries loaded: 42303\n"
     ]
    }
   ],
   "source": [
    "total_plot = len(plot_df)\n",
    "print(f\"Number of plot summaries loaded: {total_plot}\")"
   ]
  },
  {
   "cell_type": "markdown",
   "metadata": {},
   "source": [
    "### Tropes <a name=\"part_1_cmu_tropes\"></a>\n",
    "\n",
    "The tvtropes dataframe is the one used by the CMU researchers to validate their personas learning algorithm. Unfortunately, this dataset does not contain a lot of tvtropes and can not be used for our analysis. Thus we need other databases to get the persona of movie characters."
   ]
  },
  {
   "cell_type": "code",
   "execution_count": 57,
   "metadata": {
    "scrolled": true,
    "tags": []
   },
   "outputs": [
    {
     "data": {
      "text/html": [
       "<div>\n",
       "<style scoped>\n",
       "    .dataframe tbody tr th:only-of-type {\n",
       "        vertical-align: middle;\n",
       "    }\n",
       "\n",
       "    .dataframe tbody tr th {\n",
       "        vertical-align: top;\n",
       "    }\n",
       "\n",
       "    .dataframe thead th {\n",
       "        text-align: right;\n",
       "    }\n",
       "</style>\n",
       "<table border=\"1\" class=\"dataframe\">\n",
       "  <thead>\n",
       "    <tr style=\"text-align: right;\">\n",
       "      <th></th>\n",
       "      <th>trope_name</th>\n",
       "      <th>character_data</th>\n",
       "    </tr>\n",
       "  </thead>\n",
       "  <tbody>\n",
       "    <tr>\n",
       "      <th>424</th>\n",
       "      <td>slacker</td>\n",
       "      <td>{'char': 'Shaun', 'movie': 'Shaun of the Dead'...</td>\n",
       "    </tr>\n",
       "    <tr>\n",
       "      <th>122</th>\n",
       "      <td>corrupt_corporate_executive</td>\n",
       "      <td>{'char': 'James McCullen - 1641', 'movie': 'G....</td>\n",
       "    </tr>\n",
       "    <tr>\n",
       "      <th>430</th>\n",
       "      <td>slacker</td>\n",
       "      <td>{'char': 'Dewey Finn', 'movie': 'School of Roc...</td>\n",
       "    </tr>\n",
       "    <tr>\n",
       "      <th>213</th>\n",
       "      <td>dumb_muscle</td>\n",
       "      <td>{'char': 'Fezzik', 'movie': 'The Princess Brid...</td>\n",
       "    </tr>\n",
       "    <tr>\n",
       "      <th>215</th>\n",
       "      <td>eccentric_mentor</td>\n",
       "      <td>{'char': 'Aughra', 'movie': 'The Dark Crystal'...</td>\n",
       "    </tr>\n",
       "  </tbody>\n",
       "</table>\n",
       "</div>"
      ],
      "text/plain": [
       "                      trope_name  \\\n",
       "424                      slacker   \n",
       "122  corrupt_corporate_executive   \n",
       "430                      slacker   \n",
       "213                  dumb_muscle   \n",
       "215             eccentric_mentor   \n",
       "\n",
       "                                        character_data  \n",
       "424  {'char': 'Shaun', 'movie': 'Shaun of the Dead'...  \n",
       "122  {'char': 'James McCullen - 1641', 'movie': 'G....  \n",
       "430  {'char': 'Dewey Finn', 'movie': 'School of Roc...  \n",
       "213  {'char': 'Fezzik', 'movie': 'The Princess Brid...  \n",
       "215  {'char': 'Aughra', 'movie': 'The Dark Crystal'...  "
      ]
     },
     "execution_count": 57,
     "metadata": {},
     "output_type": "execute_result"
    }
   ],
   "source": [
    "tvtropes_df.sample(5)"
   ]
  },
  {
   "cell_type": "code",
   "execution_count": 58,
   "metadata": {},
   "outputs": [
    {
     "name": "stdout",
     "output_type": "stream",
     "text": [
      "Number of tropes loaded: 501\n"
     ]
    }
   ],
   "source": [
    "total_tropes = len(tvtropes_df)\n",
    "print(f\"Number of tropes loaded: {total_tropes}\")"
   ]
  },
  {
   "cell_type": "markdown",
   "metadata": {},
   "source": [
    "## IMDB dataset <a name=\"part_1_imdb\"></a>\n",
    "\n",
    "We need to define a metric of \"success\" of a film. Even if we are already provided with the `box_office` column in the cmu dataset, it only includes data for the bigger movies, wihch represent only 10% of the movies. We have therefore decided to use the imdb rating of the film as a metric defining its performance.\n",
    "\n",
    "We also used the `people` and `principals` collections from IMDb to enrich the `characters` collection from the CMU corpus, reducing the amount of missing information.\n",
    "\n",
    "We load the 4 `.tsv` files of the IMDB dataset into 4 different dataframes"
   ]
  },
  {
   "cell_type": "code",
   "execution_count": 59,
   "metadata": {
    "tags": []
   },
   "outputs": [],
   "source": [
    "imdb_ratings_df = load_imdb_ratings()\n",
    "imdb_title_df = load_imdb_title_basics()\n",
    "imdb_principals_df = load_imdb_title_principals()\n",
    "imdb_people_df = load_imdb_person_basics()"
   ]
  },
  {
   "cell_type": "code",
   "execution_count": 60,
   "metadata": {},
   "outputs": [
    {
     "data": {
      "text/html": [
       "<div>\n",
       "<style scoped>\n",
       "    .dataframe tbody tr th:only-of-type {\n",
       "        vertical-align: middle;\n",
       "    }\n",
       "\n",
       "    .dataframe tbody tr th {\n",
       "        vertical-align: top;\n",
       "    }\n",
       "\n",
       "    .dataframe thead th {\n",
       "        text-align: right;\n",
       "    }\n",
       "</style>\n",
       "<table border=\"1\" class=\"dataframe\">\n",
       "  <thead>\n",
       "    <tr style=\"text-align: right;\">\n",
       "      <th></th>\n",
       "      <th>tconst</th>\n",
       "      <th>ordering</th>\n",
       "      <th>nconst</th>\n",
       "      <th>category</th>\n",
       "      <th>job</th>\n",
       "      <th>characters</th>\n",
       "    </tr>\n",
       "  </thead>\n",
       "  <tbody>\n",
       "    <tr>\n",
       "      <th>9536610</th>\n",
       "      <td>tt10594090</td>\n",
       "      <td>7</td>\n",
       "      <td>nm2276735</td>\n",
       "      <td>writer</td>\n",
       "      <td>\\N</td>\n",
       "      <td>\\N</td>\n",
       "    </tr>\n",
       "    <tr>\n",
       "      <th>40828444</th>\n",
       "      <td>tt29387340</td>\n",
       "      <td>3</td>\n",
       "      <td>nm12105472</td>\n",
       "      <td>actress</td>\n",
       "      <td>\\N</td>\n",
       "      <td>[\"Amudha\"]</td>\n",
       "    </tr>\n",
       "    <tr>\n",
       "      <th>13697391</th>\n",
       "      <td>tt11833880</td>\n",
       "      <td>2</td>\n",
       "      <td>nm1029736</td>\n",
       "      <td>self</td>\n",
       "      <td>\\N</td>\n",
       "      <td>[\"Self - Host\"]</td>\n",
       "    </tr>\n",
       "    <tr>\n",
       "      <th>32348991</th>\n",
       "      <td>tt21637606</td>\n",
       "      <td>2</td>\n",
       "      <td>nm1379134</td>\n",
       "      <td>actress</td>\n",
       "      <td>\\N</td>\n",
       "      <td>[\"Genevieve Saavedra\"]</td>\n",
       "    </tr>\n",
       "    <tr>\n",
       "      <th>40599598</th>\n",
       "      <td>tt2923596</td>\n",
       "      <td>2</td>\n",
       "      <td>nm0304792</td>\n",
       "      <td>self</td>\n",
       "      <td>\\N</td>\n",
       "      <td>[\"Self - Color Commentator\"]</td>\n",
       "    </tr>\n",
       "  </tbody>\n",
       "</table>\n",
       "</div>"
      ],
      "text/plain": [
       "              tconst  ordering      nconst category job  \\\n",
       "9536610   tt10594090         7   nm2276735   writer  \\N   \n",
       "40828444  tt29387340         3  nm12105472  actress  \\N   \n",
       "13697391  tt11833880         2   nm1029736     self  \\N   \n",
       "32348991  tt21637606         2   nm1379134  actress  \\N   \n",
       "40599598   tt2923596         2   nm0304792     self  \\N   \n",
       "\n",
       "                            characters  \n",
       "9536610                             \\N  \n",
       "40828444                    [\"Amudha\"]  \n",
       "13697391               [\"Self - Host\"]  \n",
       "32348991        [\"Genevieve Saavedra\"]  \n",
       "40599598  [\"Self - Color Commentator\"]  "
      ]
     },
     "execution_count": 60,
     "metadata": {},
     "output_type": "execute_result"
    }
   ],
   "source": [
    "imdb_principals_df.sample(5)"
   ]
  },
  {
   "cell_type": "markdown",
   "metadata": {},
   "source": [
    "### Ratings <a name=\"part_1_imdb_ratings\"></a>"
   ]
  },
  {
   "cell_type": "code",
   "execution_count": 61,
   "metadata": {},
   "outputs": [
    {
     "data": {
      "text/html": [
       "<div>\n",
       "<style scoped>\n",
       "    .dataframe tbody tr th:only-of-type {\n",
       "        vertical-align: middle;\n",
       "    }\n",
       "\n",
       "    .dataframe tbody tr th {\n",
       "        vertical-align: top;\n",
       "    }\n",
       "\n",
       "    .dataframe thead th {\n",
       "        text-align: right;\n",
       "    }\n",
       "</style>\n",
       "<table border=\"1\" class=\"dataframe\">\n",
       "  <thead>\n",
       "    <tr style=\"text-align: right;\">\n",
       "      <th></th>\n",
       "      <th>tconst</th>\n",
       "      <th>averageRating</th>\n",
       "      <th>numVotes</th>\n",
       "    </tr>\n",
       "  </thead>\n",
       "  <tbody>\n",
       "    <tr>\n",
       "      <th>1346371</th>\n",
       "      <td>tt9310742</td>\n",
       "      <td>6.6</td>\n",
       "      <td>14</td>\n",
       "    </tr>\n",
       "    <tr>\n",
       "      <th>1334245</th>\n",
       "      <td>tt9033310</td>\n",
       "      <td>9.2</td>\n",
       "      <td>18</td>\n",
       "    </tr>\n",
       "    <tr>\n",
       "      <th>1054296</th>\n",
       "      <td>tt3753206</td>\n",
       "      <td>2.9</td>\n",
       "      <td>183</td>\n",
       "    </tr>\n",
       "    <tr>\n",
       "      <th>1343120</th>\n",
       "      <td>tt9218046</td>\n",
       "      <td>8.0</td>\n",
       "      <td>1197</td>\n",
       "    </tr>\n",
       "    <tr>\n",
       "      <th>177201</th>\n",
       "      <td>tt0295231</td>\n",
       "      <td>3.7</td>\n",
       "      <td>169</td>\n",
       "    </tr>\n",
       "  </tbody>\n",
       "</table>\n",
       "</div>"
      ],
      "text/plain": [
       "            tconst  averageRating  numVotes\n",
       "1346371  tt9310742            6.6        14\n",
       "1334245  tt9033310            9.2        18\n",
       "1054296  tt3753206            2.9       183\n",
       "1343120  tt9218046            8.0      1197\n",
       "177201   tt0295231            3.7       169"
      ]
     },
     "execution_count": 61,
     "metadata": {},
     "output_type": "execute_result"
    }
   ],
   "source": [
    "imdb_ratings_df.sample(5)"
   ]
  },
  {
   "cell_type": "code",
   "execution_count": 62,
   "metadata": {},
   "outputs": [
    {
     "name": "stdout",
     "output_type": "stream",
     "text": [
      "We have 1365868 movies for which we have a rating.\n"
     ]
    },
    {
     "data": {
      "image/png": "[encoded data removed]",
      "text/plain": [
       "<Figure size 640x480 with 1 Axes>"
      ]
     },
     "metadata": {},
     "output_type": "display_data"
    },
    {
     "data": {
      "image/png": "[encoded data removed]",
      "text/plain": [
       "<Figure size 640x480 with 1 Axes>"
      ]
     },
     "metadata": {},
     "output_type": "display_data"
    }
   ],
   "source": [
    "total_ratings = len(imdb_ratings_df)\n",
    "print(f\"We have {total_ratings} movies for which we have a rating.\")\n",
    "\n",
    "# Check the distribution of grades\n",
    "sns.histplot(data=imdb_ratings_df, x=\"averageRating\", bins=50)\n",
    "\n",
    "plt.title(\"Distribution of movie ratings\")\n",
    "plt.xlabel(\"Rating\")\n",
    "plt.ylabel(\"Number of movies\")\n",
    "plt.show()\n",
    "\n",
    "# Check the distribution of votes\n",
    "sns.histplot(data=imdb_ratings_df, x=\"numVotes\", bins=100, log_scale=True)\n",
    "plt.yscale(\"log\")\n",
    "\n",
    "plt.title(\"Number of movies over number of votes\")\n",
    "plt.xlabel(\"Number of votes\")\n",
    "plt.ylabel(\"Number of movies\")\n",
    "plt.show()"
   ]
  },
  {
   "cell_type": "markdown",
   "metadata": {},
   "source": [
    "### Titles <a name=\"part_1_imdb_title\"></a>"
   ]
  },
  {
   "cell_type": "code",
   "execution_count": 63,
   "metadata": {},
   "outputs": [
    {
     "data": {
      "text/html": [
       "<div>\n",
       "<style scoped>\n",
       "    .dataframe tbody tr th:only-of-type {\n",
       "        vertical-align: middle;\n",
       "    }\n",
       "\n",
       "    .dataframe tbody tr th {\n",
       "        vertical-align: top;\n",
       "    }\n",
       "\n",
       "    .dataframe thead th {\n",
       "        text-align: right;\n",
       "    }\n",
       "</style>\n",
       "<table border=\"1\" class=\"dataframe\">\n",
       "  <thead>\n",
       "    <tr style=\"text-align: right;\">\n",
       "      <th></th>\n",
       "      <th>tconst</th>\n",
       "      <th>titleType</th>\n",
       "      <th>primaryTitle</th>\n",
       "      <th>originalTitle</th>\n",
       "      <th>isAdult</th>\n",
       "      <th>startYear</th>\n",
       "      <th>endYear</th>\n",
       "      <th>runtimeMinutes</th>\n",
       "      <th>genres</th>\n",
       "    </tr>\n",
       "  </thead>\n",
       "  <tbody>\n",
       "    <tr>\n",
       "      <th>7512856</th>\n",
       "      <td>tt3771900</td>\n",
       "      <td>movie</td>\n",
       "      <td>Arsho</td>\n",
       "      <td>Arsho</td>\n",
       "      <td>0</td>\n",
       "      <td>2014</td>\n",
       "      <td>\\N</td>\n",
       "      <td>99</td>\n",
       "      <td>[Romance]</td>\n",
       "    </tr>\n",
       "    <tr>\n",
       "      <th>177608</th>\n",
       "      <td>tt0184281</td>\n",
       "      <td>movie</td>\n",
       "      <td>Black Bimbos in Heat</td>\n",
       "      <td>Black Bimbos in Heat</td>\n",
       "      <td>1</td>\n",
       "      <td>1989</td>\n",
       "      <td>\\N</td>\n",
       "      <td>\\N</td>\n",
       "      <td>[Adult]</td>\n",
       "    </tr>\n",
       "    <tr>\n",
       "      <th>8586064</th>\n",
       "      <td>tt6195526</td>\n",
       "      <td>movie</td>\n",
       "      <td>The Cancer Conflict</td>\n",
       "      <td>The Cancer Conflict</td>\n",
       "      <td>0</td>\n",
       "      <td>2021</td>\n",
       "      <td>\\N</td>\n",
       "      <td>\\N</td>\n",
       "      <td>[Documentary]</td>\n",
       "    </tr>\n",
       "    <tr>\n",
       "      <th>327371</th>\n",
       "      <td>tt0342052</td>\n",
       "      <td>movie</td>\n",
       "      <td>Land of Dreams</td>\n",
       "      <td>Ard el ahlam</td>\n",
       "      <td>0</td>\n",
       "      <td>1956</td>\n",
       "      <td>\\N</td>\n",
       "      <td>\\N</td>\n",
       "      <td>[Crime, Drama]</td>\n",
       "    </tr>\n",
       "    <tr>\n",
       "      <th>6391819</th>\n",
       "      <td>tt26898886</td>\n",
       "      <td>movie</td>\n",
       "      <td>Trauma in Paradise</td>\n",
       "      <td>Trauma in Paradise</td>\n",
       "      <td>0</td>\n",
       "      <td>2020</td>\n",
       "      <td>\\N</td>\n",
       "      <td>\\N</td>\n",
       "      <td>[Drama]</td>\n",
       "    </tr>\n",
       "  </tbody>\n",
       "</table>\n",
       "</div>"
      ],
      "text/plain": [
       "             tconst titleType          primaryTitle         originalTitle  \\\n",
       "7512856   tt3771900     movie                 Arsho                 Arsho   \n",
       "177608    tt0184281     movie  Black Bimbos in Heat  Black Bimbos in Heat   \n",
       "8586064   tt6195526     movie   The Cancer Conflict   The Cancer Conflict   \n",
       "327371    tt0342052     movie        Land of Dreams          Ard el ahlam   \n",
       "6391819  tt26898886     movie    Trauma in Paradise    Trauma in Paradise   \n",
       "\n",
       "        isAdult startYear endYear runtimeMinutes          genres  \n",
       "7512856       0      2014      \\N             99       [Romance]  \n",
       "177608        1      1989      \\N             \\N         [Adult]  \n",
       "8586064       0      2021      \\N             \\N   [Documentary]  \n",
       "327371        0      1956      \\N             \\N  [Crime, Drama]  \n",
       "6391819       0      2020      \\N             \\N         [Drama]  "
      ]
     },
     "execution_count": 63,
     "metadata": {},
     "output_type": "execute_result"
    }
   ],
   "source": [
    "imdb_title_df.sample(5)"
   ]
  },
  {
   "cell_type": "code",
   "execution_count": 64,
   "metadata": {},
   "outputs": [
    {
     "name": "stdout",
     "output_type": "stream",
     "text": [
      "We have 651888 movie titles\n"
     ]
    }
   ],
   "source": [
    "# Remove adult content\n",
    "imdb_title_df = imdb_title_df[imdb_title_df[\"isAdult\"].astype(int) == 0]\n",
    "total_title = len(imdb_title_df)\n",
    "print(f\"We have {total_title} movie titles\")"
   ]
  },
  {
   "cell_type": "markdown",
   "metadata": {},
   "source": [
    "### Principals <a name=\"part_1_imdb_principals\"></a>"
   ]
  },
  {
   "cell_type": "code",
   "execution_count": 65,
   "metadata": {},
   "outputs": [
    {
     "name": "stdout",
     "output_type": "stream",
     "text": [
      "We have 58900432 principals records\n",
      "We have 12 categories\n",
      "We have 5169350 unique persons\n",
      "\n"
     ]
    },
    {
     "data": {
      "text/html": [
       "<div>\n",
       "<style scoped>\n",
       "    .dataframe tbody tr th:only-of-type {\n",
       "        vertical-align: middle;\n",
       "    }\n",
       "\n",
       "    .dataframe tbody tr th {\n",
       "        vertical-align: top;\n",
       "    }\n",
       "\n",
       "    .dataframe thead th {\n",
       "        text-align: right;\n",
       "    }\n",
       "</style>\n",
       "<table border=\"1\" class=\"dataframe\">\n",
       "  <thead>\n",
       "    <tr style=\"text-align: right;\">\n",
       "      <th></th>\n",
       "      <th>tconst</th>\n",
       "      <th>ordering</th>\n",
       "      <th>nconst</th>\n",
       "      <th>category</th>\n",
       "      <th>job</th>\n",
       "      <th>characters</th>\n",
       "    </tr>\n",
       "  </thead>\n",
       "  <tbody>\n",
       "    <tr>\n",
       "      <th>721281</th>\n",
       "      <td>tt0084558</td>\n",
       "      <td>10</td>\n",
       "      <td>nm0825279</td>\n",
       "      <td>production_designer</td>\n",
       "      <td>\\N</td>\n",
       "      <td>\\N</td>\n",
       "    </tr>\n",
       "    <tr>\n",
       "      <th>13016813</th>\n",
       "      <td>tt11630076</td>\n",
       "      <td>8</td>\n",
       "      <td>nm9009760</td>\n",
       "      <td>writer</td>\n",
       "      <td>\\N</td>\n",
       "      <td>\\N</td>\n",
       "    </tr>\n",
       "    <tr>\n",
       "      <th>22304281</th>\n",
       "      <td>tt14850906</td>\n",
       "      <td>1</td>\n",
       "      <td>nm6003787</td>\n",
       "      <td>self</td>\n",
       "      <td>\\N</td>\n",
       "      <td>[\"Self (host\",\"creator)\"]</td>\n",
       "    </tr>\n",
       "    <tr>\n",
       "      <th>51188025</th>\n",
       "      <td>tt7180284</td>\n",
       "      <td>6</td>\n",
       "      <td>nm2145337</td>\n",
       "      <td>director</td>\n",
       "      <td>\\N</td>\n",
       "      <td>\\N</td>\n",
       "    </tr>\n",
       "    <tr>\n",
       "      <th>56332949</th>\n",
       "      <td>tt9047818</td>\n",
       "      <td>7</td>\n",
       "      <td>nm1231177</td>\n",
       "      <td>producer</td>\n",
       "      <td>producer</td>\n",
       "      <td>\\N</td>\n",
       "    </tr>\n",
       "  </tbody>\n",
       "</table>\n",
       "</div>"
      ],
      "text/plain": [
       "              tconst  ordering     nconst             category       job  \\\n",
       "721281     tt0084558        10  nm0825279  production_designer        \\N   \n",
       "13016813  tt11630076         8  nm9009760               writer        \\N   \n",
       "22304281  tt14850906         1  nm6003787                 self        \\N   \n",
       "51188025   tt7180284         6  nm2145337             director        \\N   \n",
       "56332949   tt9047818         7  nm1231177             producer  producer   \n",
       "\n",
       "                         characters  \n",
       "721281                           \\N  \n",
       "13016813                         \\N  \n",
       "22304281  [\"Self (host\",\"creator)\"]  \n",
       "51188025                         \\N  \n",
       "56332949                         \\N  "
      ]
     },
     "execution_count": 65,
     "metadata": {},
     "output_type": "execute_result"
    }
   ],
   "source": [
    "total_principals = len(imdb_principals_df)\n",
    "print(f\"We have {total_principals} principals records\")\n",
    "print(f\"We have {len(imdb_principals_df['category'].unique())} categories\")\n",
    "print(f\"We have {len(imdb_principals_df['nconst'].unique())} unique persons\", end=\"\\n\\n\")\n",
    "\n",
    "imdb_principals_df.sample(5)"
   ]
  },
  {
   "cell_type": "markdown",
   "metadata": {},
   "source": [
    "### People <a name=\"part_1_imdb_people\"></a>"
   ]
  },
  {
   "cell_type": "code",
   "execution_count": 66,
   "metadata": {},
   "outputs": [
    {
     "name": "stdout",
     "output_type": "stream",
     "text": [
      "We have 12978070 people records\n",
      "We have 12978070 unique persons\n"
     ]
    },
    {
     "data": {
      "text/html": [
       "<div>\n",
       "<style scoped>\n",
       "    .dataframe tbody tr th:only-of-type {\n",
       "        vertical-align: middle;\n",
       "    }\n",
       "\n",
       "    .dataframe tbody tr th {\n",
       "        vertical-align: top;\n",
       "    }\n",
       "\n",
       "    .dataframe thead th {\n",
       "        text-align: right;\n",
       "    }\n",
       "</style>\n",
       "<table border=\"1\" class=\"dataframe\">\n",
       "  <thead>\n",
       "    <tr style=\"text-align: right;\">\n",
       "      <th></th>\n",
       "      <th>nconst</th>\n",
       "      <th>primaryName</th>\n",
       "      <th>birthYear</th>\n",
       "      <th>deathYear</th>\n",
       "      <th>primaryProfession</th>\n",
       "      <th>knownForTitles</th>\n",
       "    </tr>\n",
       "  </thead>\n",
       "  <tbody>\n",
       "    <tr>\n",
       "      <th>1994679</th>\n",
       "      <td>nm11138784</td>\n",
       "      <td>Vanessa Mitma</td>\n",
       "      <td>\\N</td>\n",
       "      <td>\\N</td>\n",
       "      <td>[actress]</td>\n",
       "      <td>[tt11299870]</td>\n",
       "    </tr>\n",
       "    <tr>\n",
       "      <th>5940208</th>\n",
       "      <td>nm15416579</td>\n",
       "      <td>Jacob Vouza</td>\n",
       "      <td>\\N</td>\n",
       "      <td>\\N</td>\n",
       "      <td>NaN</td>\n",
       "      <td>[\\N]</td>\n",
       "    </tr>\n",
       "    <tr>\n",
       "      <th>4177778</th>\n",
       "      <td>nm13440937</td>\n",
       "      <td>Sama Goldie</td>\n",
       "      <td>\\N</td>\n",
       "      <td>\\N</td>\n",
       "      <td>NaN</td>\n",
       "      <td>[\\N]</td>\n",
       "    </tr>\n",
       "    <tr>\n",
       "      <th>9321384</th>\n",
       "      <td>nm5370918</td>\n",
       "      <td>Dave Cote</td>\n",
       "      <td>\\N</td>\n",
       "      <td>\\N</td>\n",
       "      <td>[editor]</td>\n",
       "      <td>[tt2525316]</td>\n",
       "    </tr>\n",
       "    <tr>\n",
       "      <th>4905335</th>\n",
       "      <td>nm14243738</td>\n",
       "      <td>Ahmed Sami</td>\n",
       "      <td>\\N</td>\n",
       "      <td>\\N</td>\n",
       "      <td>[assistant_director, editor, director]</td>\n",
       "      <td>[tt12204810, tt9011712, tt23753088]</td>\n",
       "    </tr>\n",
       "  </tbody>\n",
       "</table>\n",
       "</div>"
      ],
      "text/plain": [
       "             nconst    primaryName birthYear deathYear  \\\n",
       "1994679  nm11138784  Vanessa Mitma        \\N        \\N   \n",
       "5940208  nm15416579    Jacob Vouza        \\N        \\N   \n",
       "4177778  nm13440937    Sama Goldie        \\N        \\N   \n",
       "9321384   nm5370918      Dave Cote        \\N        \\N   \n",
       "4905335  nm14243738     Ahmed Sami        \\N        \\N   \n",
       "\n",
       "                              primaryProfession  \\\n",
       "1994679                               [actress]   \n",
       "5940208                                     NaN   \n",
       "4177778                                     NaN   \n",
       "9321384                                [editor]   \n",
       "4905335  [assistant_director, editor, director]   \n",
       "\n",
       "                              knownForTitles  \n",
       "1994679                         [tt11299870]  \n",
       "5940208                                 [\\N]  \n",
       "4177778                                 [\\N]  \n",
       "9321384                          [tt2525316]  \n",
       "4905335  [tt12204810, tt9011712, tt23753088]  "
      ]
     },
     "execution_count": 66,
     "metadata": {},
     "output_type": "execute_result"
    }
   ],
   "source": [
    "total_people = len(imdb_people_df)\n",
    "print(f\"We have {total_people} people records\")\n",
    "print(f\"We have {len(imdb_people_df['nconst'].unique())} unique persons\")\n",
    "\n",
    "imdb_people_df.sample(5)"
   ]
  },
  {
   "cell_type": "markdown",
   "metadata": {},
   "source": [
    "## Merge IMDb movie titles with IMDb ratings <a name=\"part_1_imdb_title_with_ratings\"></a>"
   ]
  },
  {
   "cell_type": "code",
   "execution_count": 67,
   "metadata": {
    "tags": []
   },
   "outputs": [
    {
     "name": "stdout",
     "output_type": "stream",
     "text": [
      "We have 294744 movies with ratings\n"
     ]
    },
    {
     "data": {
      "text/html": [
       "<div>\n",
       "<style scoped>\n",
       "    .dataframe tbody tr th:only-of-type {\n",
       "        vertical-align: middle;\n",
       "    }\n",
       "\n",
       "    .dataframe tbody tr th {\n",
       "        vertical-align: top;\n",
       "    }\n",
       "\n",
       "    .dataframe thead th {\n",
       "        text-align: right;\n",
       "    }\n",
       "</style>\n",
       "<table border=\"1\" class=\"dataframe\">\n",
       "  <thead>\n",
       "    <tr style=\"text-align: right;\">\n",
       "      <th></th>\n",
       "      <th>tconst</th>\n",
       "      <th>titleType</th>\n",
       "      <th>primaryTitle</th>\n",
       "      <th>originalTitle</th>\n",
       "      <th>isAdult</th>\n",
       "      <th>startYear</th>\n",
       "      <th>endYear</th>\n",
       "      <th>runtimeMinutes</th>\n",
       "      <th>genres</th>\n",
       "      <th>averageRating</th>\n",
       "      <th>numVotes</th>\n",
       "    </tr>\n",
       "  </thead>\n",
       "  <tbody>\n",
       "    <tr>\n",
       "      <th>77693</th>\n",
       "      <td>tt0172918</td>\n",
       "      <td>movie</td>\n",
       "      <td>Oni ne proydut</td>\n",
       "      <td>Oni ne proydut</td>\n",
       "      <td>0</td>\n",
       "      <td>1965</td>\n",
       "      <td>\\N</td>\n",
       "      <td>77</td>\n",
       "      <td>[Drama, War]</td>\n",
       "      <td>4.7</td>\n",
       "      <td>10</td>\n",
       "    </tr>\n",
       "    <tr>\n",
       "      <th>119213</th>\n",
       "      <td>tt0369299</td>\n",
       "      <td>movie</td>\n",
       "      <td>Brush with Death</td>\n",
       "      <td>Brush with Death</td>\n",
       "      <td>0</td>\n",
       "      <td>1990</td>\n",
       "      <td>\\N</td>\n",
       "      <td>90</td>\n",
       "      <td>[Action, Crime, Drama]</td>\n",
       "      <td>6.0</td>\n",
       "      <td>11</td>\n",
       "    </tr>\n",
       "    <tr>\n",
       "      <th>13581</th>\n",
       "      <td>tt0035875</td>\n",
       "      <td>movie</td>\n",
       "      <td>Fighting Valley</td>\n",
       "      <td>Fighting Valley</td>\n",
       "      <td>0</td>\n",
       "      <td>1943</td>\n",
       "      <td>\\N</td>\n",
       "      <td>60</td>\n",
       "      <td>[Drama, Western]</td>\n",
       "      <td>5.1</td>\n",
       "      <td>17</td>\n",
       "    </tr>\n",
       "    <tr>\n",
       "      <th>260794</th>\n",
       "      <td>tt5475564</td>\n",
       "      <td>movie</td>\n",
       "      <td>National Theatre Live: Jane Eyre</td>\n",
       "      <td>National Theatre Live: Jane Eyre</td>\n",
       "      <td>0</td>\n",
       "      <td>2015</td>\n",
       "      <td>\\N</td>\n",
       "      <td>200</td>\n",
       "      <td>[Drama, Music]</td>\n",
       "      <td>7.9</td>\n",
       "      <td>378</td>\n",
       "    </tr>\n",
       "    <tr>\n",
       "      <th>183314</th>\n",
       "      <td>tt15276374</td>\n",
       "      <td>movie</td>\n",
       "      <td>Ya Ben Ölürsem</td>\n",
       "      <td>Ya Ben Ölürsem</td>\n",
       "      <td>0</td>\n",
       "      <td>2022</td>\n",
       "      <td>\\N</td>\n",
       "      <td>100</td>\n",
       "      <td>[Drama]</td>\n",
       "      <td>6.7</td>\n",
       "      <td>6</td>\n",
       "    </tr>\n",
       "  </tbody>\n",
       "</table>\n",
       "</div>"
      ],
      "text/plain": [
       "            tconst titleType                      primaryTitle  \\\n",
       "77693    tt0172918     movie                    Oni ne proydut   \n",
       "119213   tt0369299     movie                  Brush with Death   \n",
       "13581    tt0035875     movie                   Fighting Valley   \n",
       "260794   tt5475564     movie  National Theatre Live: Jane Eyre   \n",
       "183314  tt15276374     movie                    Ya Ben Ölürsem   \n",
       "\n",
       "                           originalTitle isAdult startYear endYear  \\\n",
       "77693                     Oni ne proydut       0      1965      \\N   \n",
       "119213                  Brush with Death       0      1990      \\N   \n",
       "13581                    Fighting Valley       0      1943      \\N   \n",
       "260794  National Theatre Live: Jane Eyre       0      2015      \\N   \n",
       "183314                    Ya Ben Ölürsem       0      2022      \\N   \n",
       "\n",
       "       runtimeMinutes                  genres  averageRating  numVotes  \n",
       "77693              77            [Drama, War]            4.7        10  \n",
       "119213             90  [Action, Crime, Drama]            6.0        11  \n",
       "13581              60        [Drama, Western]            5.1        17  \n",
       "260794            200          [Drama, Music]            7.9       378  \n",
       "183314            100                 [Drama]            6.7         6  "
      ]
     },
     "execution_count": 67,
     "metadata": {},
     "output_type": "execute_result"
    }
   ],
   "source": [
    "imdb_title_with_rating = imdb_title_df.merge(imdb_ratings_df, on='tconst', how='inner')\n",
    "\n",
    "total_movies_w_rating = len(imdb_title_with_rating)\n",
    "print(f\"We have {total_movies_w_rating} movies with ratings\")\n",
    "\n",
    "imdb_title_with_rating.sample(5)"
   ]
  },
  {
   "cell_type": "markdown",
   "metadata": {},
   "source": [
    "There is more than one quarter of a million movies for which we have at least one rating. We have clearly much more data to work with than with box office revenue. Furthermore, there is a substantial amount of movies who have at least a few hundreds votes. This will allow us to get better confidence interval and reduce uncertainty in our analysis."
   ]
  },
  {
   "cell_type": "markdown",
   "metadata": {},
   "source": [
    "## Merge CMU movies and plot summaries with IMDB titles and ratings <a name=\"part_1_cmu_movies_joined_imdb_title_with_ratings\"></a>\n",
    "\n",
    "The translation dataframe from wikidata, which includes both the IMDB id and the Freebase id, enables us to combine the IMDB dataset with the CMU dataset"
   ]
  },
  {
   "cell_type": "code",
   "execution_count": 68,
   "metadata": {},
   "outputs": [
    {
     "name": "stdout",
     "output_type": "stream",
     "text": [
      "The merged dataframe contains 44467 movies with corresponding ratings\n"
     ]
    }
   ],
   "source": [
    "translation_id = load_translation_df()\n",
    "\n",
    "imdb_title_with_rating_translated = imdb_title_with_rating.merge(translation_id, how='inner', left_on='tconst', right_on='imdb_id').copy()\n",
    "imdb_title_with_rating_translated = imdb_title_with_rating_translated.drop([\"imdb_id\"], axis=1)\n",
    "\n",
    "cmu_movies_w_imdb_rating = imdb_title_with_rating_translated.merge(movies_df, how='inner', left_on='freebase_id', right_on='freebase_movie_id').copy()\n",
    "\n",
    "# Enriching CMU data\n",
    "# IMDB start year has no missing data, so we insert it into \"NaN\" fields of \"movie_release_date\" and drop \"startYear\"\n",
    "missing_years = cmu_movies_w_imdb_rating[cmu_movies_w_imdb_rating['movie_release_date'].isna()].index\n",
    "cmu_movies_w_imdb_rating.loc[missing_years, 'movie_release_date'] = cmu_movies_w_imdb_rating.loc[missing_years, 'startYear']\n",
    "\n",
    "# We have MANY depulicated attributes\n",
    "# We evaluated for each pair which column had more missing data and dropped it in favor of the other\n",
    "cmu_movies_w_imdb_rating = cmu_movies_w_imdb_rating.drop([\"freebase_movie_id\", \"titleType\", \"isAdult\", \"endYear\", \"primaryTitle\", \"originalTitle\", \"movie_release_year\", \"movie_runtime\", \"startYear\"], axis=1)\n",
    "\n",
    "cmu_movies_w_imdb_rating = cmu_movies_w_imdb_rating.drop_duplicates(\"tconst\")\n",
    "print(f\"The merged dataframe contains {len(cmu_movies_w_imdb_rating)} movies with corresponding ratings\")"
   ]
  },
  {
   "cell_type": "code",
   "execution_count": 69,
   "metadata": {},
   "outputs": [
    {
     "data": {
      "text/html": [
       "<div>\n",
       "<style scoped>\n",
       "    .dataframe tbody tr th:only-of-type {\n",
       "        vertical-align: middle;\n",
       "    }\n",
       "\n",
       "    .dataframe tbody tr th {\n",
       "        vertical-align: top;\n",
       "    }\n",
       "\n",
       "    .dataframe thead th {\n",
       "        text-align: right;\n",
       "    }\n",
       "</style>\n",
       "<table border=\"1\" class=\"dataframe\">\n",
       "  <thead>\n",
       "    <tr style=\"text-align: right;\">\n",
       "      <th></th>\n",
       "      <th>tconst</th>\n",
       "      <th>runtimeMinutes</th>\n",
       "      <th>genres</th>\n",
       "      <th>averageRating</th>\n",
       "      <th>numVotes</th>\n",
       "      <th>freebase_id</th>\n",
       "      <th>wiki_movie_id</th>\n",
       "      <th>movie_name</th>\n",
       "      <th>movie_release_date</th>\n",
       "      <th>box_office</th>\n",
       "      <th>movie_languages</th>\n",
       "      <th>movie_countries</th>\n",
       "      <th>movie_genres</th>\n",
       "      <th>plot_summary</th>\n",
       "    </tr>\n",
       "  </thead>\n",
       "  <tbody>\n",
       "    <tr>\n",
       "      <th>35910</th>\n",
       "      <td>tt0439511</td>\n",
       "      <td>78</td>\n",
       "      <td>[Documentary]</td>\n",
       "      <td>6.6</td>\n",
       "      <td>427</td>\n",
       "      <td>/m/0dgqprc</td>\n",
       "      <td>11601018</td>\n",
       "      <td>Commune</td>\n",
       "      <td>2005</td>\n",
       "      <td>NaN</td>\n",
       "      <td>{'/m/02h40lc': 'English Language'}</td>\n",
       "      <td>{'/m/09c7w0': 'United States of America'}</td>\n",
       "      <td>{'/m/0jtdp': 'Documentary'}</td>\n",
       "      <td>NaN</td>\n",
       "    </tr>\n",
       "    <tr>\n",
       "      <th>4354</th>\n",
       "      <td>tt0030820</td>\n",
       "      <td>77</td>\n",
       "      <td>[Comedy, Music, Romance]</td>\n",
       "      <td>5.0</td>\n",
       "      <td>578</td>\n",
       "      <td>/m/0fqqjkg</td>\n",
       "      <td>29531230</td>\n",
       "      <td>Swing Your Lady</td>\n",
       "      <td>1938-01-08</td>\n",
       "      <td>NaN</td>\n",
       "      <td>{'/m/02h40lc': 'English Language'}</td>\n",
       "      <td>{'/m/09c7w0': 'United States of America'}</td>\n",
       "      <td>{'/m/01z02hx': 'Sports', '/m/04rlf': 'Music', ...</td>\n",
       "      <td>Promoter Ed Hatch comes to the Ozarks with his...</td>\n",
       "    </tr>\n",
       "    <tr>\n",
       "      <th>24850</th>\n",
       "      <td>tt0112740</td>\n",
       "      <td>116</td>\n",
       "      <td>[Action, Drama, Thriller]</td>\n",
       "      <td>7.3</td>\n",
       "      <td>120380</td>\n",
       "      <td>/m/04sg0b</td>\n",
       "      <td>1317604</td>\n",
       "      <td>Crimson Tide</td>\n",
       "      <td>1995-05-12</td>\n",
       "      <td>157387195.0</td>\n",
       "      <td>{'/m/02h40lc': 'English Language'}</td>\n",
       "      <td>{'/m/09c7w0': 'United States of America'}</td>\n",
       "      <td>{'/m/01jfsb': 'Thriller', '/m/0cq22f9': 'Actio...</td>\n",
       "      <td>In post-Soviet Russia, military units loyal to...</td>\n",
       "    </tr>\n",
       "    <tr>\n",
       "      <th>17422</th>\n",
       "      <td>tt0075164</td>\n",
       "      <td>86</td>\n",
       "      <td>[Drama, Horror]</td>\n",
       "      <td>5.2</td>\n",
       "      <td>2067</td>\n",
       "      <td>/m/0bs02dn</td>\n",
       "      <td>26977302</td>\n",
       "      <td>Satan's Slave</td>\n",
       "      <td>1976-12</td>\n",
       "      <td>NaN</td>\n",
       "      <td>{'/m/02h40lc': 'English Language'}</td>\n",
       "      <td>{'/m/07ssc': 'United Kingdom'}</td>\n",
       "      <td>{'/m/03npn': 'Horror'}</td>\n",
       "      <td>A young girl, Catherine Yorke , shares a ride ...</td>\n",
       "    </tr>\n",
       "    <tr>\n",
       "      <th>18751</th>\n",
       "      <td>tt0081270</td>\n",
       "      <td>106</td>\n",
       "      <td>[Comedy, History]</td>\n",
       "      <td>6.3</td>\n",
       "      <td>27</td>\n",
       "      <td>/m/0dddhj8</td>\n",
       "      <td>28857780</td>\n",
       "      <td>Ojciec królowej</td>\n",
       "      <td>1979</td>\n",
       "      <td>NaN</td>\n",
       "      <td>{'/m/05qqm': 'Polish Language'}</td>\n",
       "      <td>{'/m/05qhw': 'Poland'}</td>\n",
       "      <td>{'/m/02p0szs': 'Historical fiction'}</td>\n",
       "      <td>NaN</td>\n",
       "    </tr>\n",
       "  </tbody>\n",
       "</table>\n",
       "</div>"
      ],
      "text/plain": [
       "          tconst runtimeMinutes                     genres  averageRating  \\\n",
       "35910  tt0439511             78              [Documentary]            6.6   \n",
       "4354   tt0030820             77   [Comedy, Music, Romance]            5.0   \n",
       "24850  tt0112740            116  [Action, Drama, Thriller]            7.3   \n",
       "17422  tt0075164             86            [Drama, Horror]            5.2   \n",
       "18751  tt0081270            106          [Comedy, History]            6.3   \n",
       "\n",
       "       numVotes freebase_id  wiki_movie_id       movie_name  \\\n",
       "35910       427  /m/0dgqprc       11601018          Commune   \n",
       "4354        578  /m/0fqqjkg       29531230  Swing Your Lady   \n",
       "24850    120380   /m/04sg0b        1317604     Crimson Tide   \n",
       "17422      2067  /m/0bs02dn       26977302    Satan's Slave   \n",
       "18751        27  /m/0dddhj8       28857780  Ojciec królowej   \n",
       "\n",
       "      movie_release_date   box_office                     movie_languages  \\\n",
       "35910               2005          NaN  {'/m/02h40lc': 'English Language'}   \n",
       "4354          1938-01-08          NaN  {'/m/02h40lc': 'English Language'}   \n",
       "24850         1995-05-12  157387195.0  {'/m/02h40lc': 'English Language'}   \n",
       "17422            1976-12          NaN  {'/m/02h40lc': 'English Language'}   \n",
       "18751               1979          NaN     {'/m/05qqm': 'Polish Language'}   \n",
       "\n",
       "                                 movie_countries  \\\n",
       "35910  {'/m/09c7w0': 'United States of America'}   \n",
       "4354   {'/m/09c7w0': 'United States of America'}   \n",
       "24850  {'/m/09c7w0': 'United States of America'}   \n",
       "17422             {'/m/07ssc': 'United Kingdom'}   \n",
       "18751                     {'/m/05qhw': 'Poland'}   \n",
       "\n",
       "                                            movie_genres  \\\n",
       "35910                        {'/m/0jtdp': 'Documentary'}   \n",
       "4354   {'/m/01z02hx': 'Sports', '/m/04rlf': 'Music', ...   \n",
       "24850  {'/m/01jfsb': 'Thriller', '/m/0cq22f9': 'Actio...   \n",
       "17422                             {'/m/03npn': 'Horror'}   \n",
       "18751               {'/m/02p0szs': 'Historical fiction'}   \n",
       "\n",
       "                                            plot_summary  \n",
       "35910                                                NaN  \n",
       "4354   Promoter Ed Hatch comes to the Ozarks with his...  \n",
       "24850  In post-Soviet Russia, military units loyal to...  \n",
       "17422  A young girl, Catherine Yorke , shares a ride ...  \n",
       "18751                                                NaN  "
      ]
     },
     "execution_count": 69,
     "metadata": {},
     "output_type": "execute_result"
    }
   ],
   "source": [
    "# Add summaries\n",
    "cmu_movies_w_imdb_rating = cmu_movies_w_imdb_rating.merge(plot_df, on=\"wiki_movie_id\", how=\"left\")\n",
    "cmu_movies_w_imdb_rating.sample(5)"
   ]
  },
  {
   "cell_type": "markdown",
   "metadata": {},
   "source": [
    "## Merge IMDb people and IMDb principals <a name=\"part_1_imdb_people_with_principals\"></a>\n",
    "We now focus on characters and actors. We merge the two dataframes from IMDB and keep records of interest i.e for which the movie is in the collection above."
   ]
  },
  {
   "cell_type": "code",
   "execution_count": 70,
   "metadata": {},
   "outputs": [],
   "source": [
    "titles_of_interest = set(cmu_movies_w_imdb_rating[\"tconst\"].to_list())\n",
    "\n",
    "imdb_people_not_nan = imdb_people_df[imdb_people_df[\"primaryProfession\"].notna()]\n",
    "\n",
    "# Filter IMDb data to keep actors and actresses\n",
    "imdb_actors = imdb_people_not_nan[imdb_people_not_nan[\"primaryProfession\"].apply(lambda l : (\"actor\" in l) or (\"actress\" in l))].copy()\n",
    "imdb_principals_actors = imdb_principals_df[(imdb_principals_df[\"category\"] == \"actress\") | (imdb_principals_df[\"category\"] == \"actor\")].copy()\n",
    "\n",
    "imdb_actors_and_characters = imdb_actors.merge(imdb_principals_actors, on=\"nconst\", how=\"inner\").copy()\n",
    "\n",
    "# Only keep actors and actresses from movies that have a rating\n",
    "imdb_actors_and_characters = imdb_actors_and_characters[imdb_actors_and_characters[\"tconst\"].isin(titles_of_interest)]\n",
    "imdb_actors_and_characters = imdb_actors_and_characters.drop([\"ordering\", \"category\", \"job\", \"primaryProfession\"], axis=1)"
   ]
  },
  {
   "cell_type": "code",
   "execution_count": 71,
   "metadata": {},
   "outputs": [
    {
     "data": {
      "text/html": [
       "<div>\n",
       "<style scoped>\n",
       "    .dataframe tbody tr th:only-of-type {\n",
       "        vertical-align: middle;\n",
       "    }\n",
       "\n",
       "    .dataframe tbody tr th {\n",
       "        vertical-align: top;\n",
       "    }\n",
       "\n",
       "    .dataframe thead th {\n",
       "        text-align: right;\n",
       "    }\n",
       "</style>\n",
       "<table border=\"1\" class=\"dataframe\">\n",
       "  <thead>\n",
       "    <tr style=\"text-align: right;\">\n",
       "      <th></th>\n",
       "      <th>nconst</th>\n",
       "      <th>primaryName</th>\n",
       "      <th>birthYear</th>\n",
       "      <th>deathYear</th>\n",
       "      <th>knownForTitles</th>\n",
       "      <th>tconst</th>\n",
       "      <th>characters</th>\n",
       "    </tr>\n",
       "  </thead>\n",
       "  <tbody>\n",
       "    <tr>\n",
       "      <th>15399105</th>\n",
       "      <td>nm2284321</td>\n",
       "      <td>Samuthirakani</td>\n",
       "      <td>1973</td>\n",
       "      <td>\\N</td>\n",
       "      <td>[tt4991384, tt1997455, tt2606826, tt8178634]</td>\n",
       "      <td>tt2544722</td>\n",
       "      <td>[\"Uduman Gani\"]</td>\n",
       "    </tr>\n",
       "    <tr>\n",
       "      <th>3891065</th>\n",
       "      <td>nm0310173</td>\n",
       "      <td>Kumar Gaurav</td>\n",
       "      <td>1956</td>\n",
       "      <td>\\N</td>\n",
       "      <td>[tt0091598, tt0294662, tt0249986, tt0246286]</td>\n",
       "      <td>tt0268585</td>\n",
       "      <td>[\"Amar\"]</td>\n",
       "    </tr>\n",
       "    <tr>\n",
       "      <th>4520336</th>\n",
       "      <td>nm0382391</td>\n",
       "      <td>Anne Heywood</td>\n",
       "      <td>1931</td>\n",
       "      <td>\\N</td>\n",
       "      <td>[tt0064682, tt0064148, tt0068726, tt0062990]</td>\n",
       "      <td>tt0079228</td>\n",
       "      <td>[\"Evelyn Wyckoff\"]</td>\n",
       "    </tr>\n",
       "    <tr>\n",
       "      <th>362247</th>\n",
       "      <td>nm0005068</td>\n",
       "      <td>Vinnie Jones</td>\n",
       "      <td>1965</td>\n",
       "      <td>\\N</td>\n",
       "      <td>[tt0805570, tt0376994, tt0208092, tt0120735]</td>\n",
       "      <td>tt0928375</td>\n",
       "      <td>[\"Mr. Hunter\"]</td>\n",
       "    </tr>\n",
       "    <tr>\n",
       "      <th>3988453</th>\n",
       "      <td>nm0320808</td>\n",
       "      <td>Bernard Giraudeau</td>\n",
       "      <td>1947</td>\n",
       "      <td>2010</td>\n",
       "      <td>[tt0117477, tt0099071, tt0093205, tt0343524]</td>\n",
       "      <td>tt0103710</td>\n",
       "      <td>[\"David\"]</td>\n",
       "    </tr>\n",
       "  </tbody>\n",
       "</table>\n",
       "</div>"
      ],
      "text/plain": [
       "             nconst        primaryName birthYear deathYear  \\\n",
       "15399105  nm2284321      Samuthirakani      1973        \\N   \n",
       "3891065   nm0310173       Kumar Gaurav      1956        \\N   \n",
       "4520336   nm0382391       Anne Heywood      1931        \\N   \n",
       "362247    nm0005068       Vinnie Jones      1965        \\N   \n",
       "3988453   nm0320808  Bernard Giraudeau      1947      2010   \n",
       "\n",
       "                                        knownForTitles     tconst  \\\n",
       "15399105  [tt4991384, tt1997455, tt2606826, tt8178634]  tt2544722   \n",
       "3891065   [tt0091598, tt0294662, tt0249986, tt0246286]  tt0268585   \n",
       "4520336   [tt0064682, tt0064148, tt0068726, tt0062990]  tt0079228   \n",
       "362247    [tt0805570, tt0376994, tt0208092, tt0120735]  tt0928375   \n",
       "3988453   [tt0117477, tt0099071, tt0093205, tt0343524]  tt0103710   \n",
       "\n",
       "                  characters  \n",
       "15399105     [\"Uduman Gani\"]  \n",
       "3891065             [\"Amar\"]  \n",
       "4520336   [\"Evelyn Wyckoff\"]  \n",
       "362247        [\"Mr. Hunter\"]  \n",
       "3988453            [\"David\"]  "
      ]
     },
     "execution_count": 71,
     "metadata": {},
     "output_type": "execute_result"
    }
   ],
   "source": [
    "imdb_actors_and_characters.sample(5)"
   ]
  },
  {
   "cell_type": "markdown",
   "metadata": {},
   "source": [
    "## Filter CMU characters <a name=\"part_1_cmu_filter_characters\"></a>\n",
    "We keep records of interest in the same fashion as done above"
   ]
  },
  {
   "cell_type": "code",
   "execution_count": 72,
   "metadata": {},
   "outputs": [
    {
     "data": {
      "text/html": [
       "<div>\n",
       "<style scoped>\n",
       "    .dataframe tbody tr th:only-of-type {\n",
       "        vertical-align: middle;\n",
       "    }\n",
       "\n",
       "    .dataframe tbody tr th {\n",
       "        vertical-align: top;\n",
       "    }\n",
       "\n",
       "    .dataframe thead th {\n",
       "        text-align: right;\n",
       "    }\n",
       "</style>\n",
       "<table border=\"1\" class=\"dataframe\">\n",
       "  <thead>\n",
       "    <tr style=\"text-align: right;\">\n",
       "      <th></th>\n",
       "      <th>wiki_movie_id</th>\n",
       "      <th>freebase_movie_id</th>\n",
       "      <th>release_date</th>\n",
       "      <th>character_name</th>\n",
       "      <th>actor_birth</th>\n",
       "      <th>actor_gender</th>\n",
       "      <th>actor_height</th>\n",
       "      <th>actor_ethnicity</th>\n",
       "      <th>actor_name</th>\n",
       "      <th>release_actor_age</th>\n",
       "      <th>freebase_map_id</th>\n",
       "      <th>freebase_character_id</th>\n",
       "      <th>freebase_actor_id</th>\n",
       "    </tr>\n",
       "  </thead>\n",
       "  <tbody>\n",
       "    <tr>\n",
       "      <th>165478</th>\n",
       "      <td>5540939</td>\n",
       "      <td>/m/0drmym</td>\n",
       "      <td>2001-09-16</td>\n",
       "      <td>NaN</td>\n",
       "      <td>1975-04-25</td>\n",
       "      <td>F</td>\n",
       "      <td>1.65</td>\n",
       "      <td>/m/09vc4s</td>\n",
       "      <td>Emily Bergl</td>\n",
       "      <td>26.0</td>\n",
       "      <td>/m/0jw8sf</td>\n",
       "      <td>NaN</td>\n",
       "      <td>/m/0cf4p0</td>\n",
       "    </tr>\n",
       "    <tr>\n",
       "      <th>330562</th>\n",
       "      <td>1346469</td>\n",
       "      <td>/m/04vjzm</td>\n",
       "      <td>1966-06-07</td>\n",
       "      <td>NaN</td>\n",
       "      <td>1910-02-17</td>\n",
       "      <td>M</td>\n",
       "      <td>NaN</td>\n",
       "      <td>NaN</td>\n",
       "      <td>Arthur Hunnicutt</td>\n",
       "      <td>56.0</td>\n",
       "      <td>/m/03jsq57</td>\n",
       "      <td>NaN</td>\n",
       "      <td>/m/04xbsk</td>\n",
       "    </tr>\n",
       "    <tr>\n",
       "      <th>283812</th>\n",
       "      <td>21447563</td>\n",
       "      <td>/m/05f889z</td>\n",
       "      <td>1957-05-13</td>\n",
       "      <td>NaN</td>\n",
       "      <td>1921-08-28</td>\n",
       "      <td>M</td>\n",
       "      <td>NaN</td>\n",
       "      <td>/m/03ttfc</td>\n",
       "      <td>Fernando Fernan Gomez</td>\n",
       "      <td>35.0</td>\n",
       "      <td>/m/07p4zwc</td>\n",
       "      <td>NaN</td>\n",
       "      <td>/m/05lbhv</td>\n",
       "    </tr>\n",
       "    <tr>\n",
       "      <th>257261</th>\n",
       "      <td>76361</td>\n",
       "      <td>/m/0k4d7</td>\n",
       "      <td>1937-12-21</td>\n",
       "      <td>The Magic Mirror</td>\n",
       "      <td>1889-06-27</td>\n",
       "      <td>M</td>\n",
       "      <td>NaN</td>\n",
       "      <td>NaN</td>\n",
       "      <td>Moroni Olsen</td>\n",
       "      <td>NaN</td>\n",
       "      <td>/m/062jfhj</td>\n",
       "      <td>/m/062jfhm</td>\n",
       "      <td>/m/0g6zr3</td>\n",
       "    </tr>\n",
       "    <tr>\n",
       "      <th>236688</th>\n",
       "      <td>3671998</td>\n",
       "      <td>/m/09tm6h</td>\n",
       "      <td>1992</td>\n",
       "      <td>NaN</td>\n",
       "      <td>1938-01</td>\n",
       "      <td>M</td>\n",
       "      <td>1.80</td>\n",
       "      <td>NaN</td>\n",
       "      <td>Tom Bower</td>\n",
       "      <td>NaN</td>\n",
       "      <td>/m/03lg3dt</td>\n",
       "      <td>NaN</td>\n",
       "      <td>/m/02pjtlw</td>\n",
       "    </tr>\n",
       "  </tbody>\n",
       "</table>\n",
       "</div>"
      ],
      "text/plain": [
       "        wiki_movie_id freebase_movie_id release_date    character_name  \\\n",
       "165478        5540939         /m/0drmym   2001-09-16               NaN   \n",
       "330562        1346469         /m/04vjzm   1966-06-07               NaN   \n",
       "283812       21447563        /m/05f889z   1957-05-13               NaN   \n",
       "257261          76361          /m/0k4d7   1937-12-21  The Magic Mirror   \n",
       "236688        3671998         /m/09tm6h         1992               NaN   \n",
       "\n",
       "       actor_birth actor_gender  actor_height actor_ethnicity  \\\n",
       "165478  1975-04-25            F          1.65       /m/09vc4s   \n",
       "330562  1910-02-17            M           NaN             NaN   \n",
       "283812  1921-08-28            M           NaN       /m/03ttfc   \n",
       "257261  1889-06-27            M           NaN             NaN   \n",
       "236688     1938-01            M          1.80             NaN   \n",
       "\n",
       "                   actor_name  release_actor_age freebase_map_id  \\\n",
       "165478            Emily Bergl               26.0       /m/0jw8sf   \n",
       "330562       Arthur Hunnicutt               56.0      /m/03jsq57   \n",
       "283812  Fernando Fernan Gomez               35.0      /m/07p4zwc   \n",
       "257261           Moroni Olsen                NaN      /m/062jfhj   \n",
       "236688              Tom Bower                NaN      /m/03lg3dt   \n",
       "\n",
       "       freebase_character_id freebase_actor_id  \n",
       "165478                   NaN         /m/0cf4p0  \n",
       "330562                   NaN         /m/04xbsk  \n",
       "283812                   NaN         /m/05lbhv  \n",
       "257261            /m/062jfhm         /m/0g6zr3  \n",
       "236688                   NaN        /m/02pjtlw  "
      ]
     },
     "execution_count": 72,
     "metadata": {},
     "output_type": "execute_result"
    }
   ],
   "source": [
    "titles_of_interest_wiki = cmu_movies_w_imdb_rating[\"wiki_movie_id\"].to_list()\n",
    "characters_interest = characters_df[characters_df[\"wiki_movie_id\"].isin(titles_of_interest_wiki)]\n",
    "characters_interest.sample(5)"
   ]
  },
  {
   "cell_type": "markdown",
   "metadata": {},
   "source": [
    "## Merge IMDb actors and characters with CMU characters <a name=\"part_1_imdb_actors_characters_with_cmu_characters\"></a>\n",
    "\n",
    "We merge IMDB character and actor data with the CMU data. We make use of the movie translation dataframe again and the actor translation dataframe. We assume that an actor only plays one role in a movie. This is not necessarily true as some actors may play many roles in the same movie, but we assume that those cases are sufficiently rare so that we can ignore them."
   ]
  },
  {
   "cell_type": "code",
   "execution_count": 73,
   "metadata": {},
   "outputs": [],
   "source": [
    "# Actor translation dataframe\n",
    "actor_translation_df = load_actors_translation_df()\n",
    "actor_translation_df = actor_translation_df.rename(columns={'imdb_id' : 'actor_imdb_id', 'freebase_id' : 'actor_freebase_id'})"
   ]
  },
  {
   "cell_type": "code",
   "execution_count": 74,
   "metadata": {},
   "outputs": [],
   "source": [
    "# Prepare the datasets for merging by adding translation information\n",
    "imdb_actors_and_characters_translated = imdb_actors_and_characters.merge(translation_id, how='inner', left_on='tconst', right_on='imdb_id').copy()\n",
    "imdb_actors_and_characters_translated = imdb_actors_and_characters_translated.merge(actor_translation_df, how='inner', left_on='nconst', right_on='actor_imdb_id')\n",
    "imdb_actors_and_characters_translated = imdb_actors_and_characters_translated.drop([\"imdb_id\", \"actor_imdb_id\"], axis=1)"
   ]
  },
  {
   "cell_type": "code",
   "execution_count": 75,
   "metadata": {},
   "outputs": [],
   "source": [
    "imdb_actors_w_cmu_characters = imdb_actors_and_characters_translated.merge(characters_interest, how='right', left_on=['freebase_id', 'actor_freebase_id'], right_on=['freebase_movie_id', 'freebase_actor_id']).copy()"
   ]
  },
  {
   "cell_type": "code",
   "execution_count": 76,
   "metadata": {},
   "outputs": [
    {
     "data": {
      "text/html": [
       "<div>\n",
       "<style scoped>\n",
       "    .dataframe tbody tr th:only-of-type {\n",
       "        vertical-align: middle;\n",
       "    }\n",
       "\n",
       "    .dataframe tbody tr th {\n",
       "        vertical-align: top;\n",
       "    }\n",
       "\n",
       "    .dataframe thead th {\n",
       "        text-align: right;\n",
       "    }\n",
       "</style>\n",
       "<table border=\"1\" class=\"dataframe\">\n",
       "  <thead>\n",
       "    <tr style=\"text-align: right;\">\n",
       "      <th></th>\n",
       "      <th>wiki_movie_id</th>\n",
       "      <th>freebase_id</th>\n",
       "      <th>release_date</th>\n",
       "      <th>character_name</th>\n",
       "      <th>actor_birth</th>\n",
       "      <th>actor_gender</th>\n",
       "      <th>actor_height</th>\n",
       "      <th>actor_ethnicity</th>\n",
       "      <th>actor_name</th>\n",
       "      <th>release_actor_age</th>\n",
       "      <th>freebase_map_id</th>\n",
       "      <th>freebase_character_id</th>\n",
       "      <th>freebase_actor_id</th>\n",
       "    </tr>\n",
       "  </thead>\n",
       "  <tbody>\n",
       "    <tr>\n",
       "      <th>0</th>\n",
       "      <td>975900</td>\n",
       "      <td>/m/03vyhn</td>\n",
       "      <td>2001-08-24</td>\n",
       "      <td>Akooshay</td>\n",
       "      <td>1958-08-26</td>\n",
       "      <td>F</td>\n",
       "      <td>1.620</td>\n",
       "      <td>NaN</td>\n",
       "      <td>Wanda De Jesus</td>\n",
       "      <td>42.0</td>\n",
       "      <td>/m/0bgchxw</td>\n",
       "      <td>/m/0bgcj3x</td>\n",
       "      <td>/m/03wcfv7</td>\n",
       "    </tr>\n",
       "    <tr>\n",
       "      <th>1</th>\n",
       "      <td>975900</td>\n",
       "      <td>/m/03vyhn</td>\n",
       "      <td>2001-08-24</td>\n",
       "      <td>Lieutenant Melanie Ballard</td>\n",
       "      <td>1974-08-15</td>\n",
       "      <td>F</td>\n",
       "      <td>1.780</td>\n",
       "      <td>/m/044038p</td>\n",
       "      <td>Natasha Henstridge</td>\n",
       "      <td>27.0</td>\n",
       "      <td>/m/0jys3m</td>\n",
       "      <td>/m/0bgchn4</td>\n",
       "      <td>/m/0346l4</td>\n",
       "    </tr>\n",
       "    <tr>\n",
       "      <th>2</th>\n",
       "      <td>975900</td>\n",
       "      <td>/m/03vyhn</td>\n",
       "      <td>2001-08-24</td>\n",
       "      <td>Desolation Williams</td>\n",
       "      <td>1969-06-15</td>\n",
       "      <td>M</td>\n",
       "      <td>1.727</td>\n",
       "      <td>/m/0x67</td>\n",
       "      <td>Ice Cube</td>\n",
       "      <td>32.0</td>\n",
       "      <td>/m/0jys3g</td>\n",
       "      <td>/m/0bgchn_</td>\n",
       "      <td>/m/01vw26l</td>\n",
       "    </tr>\n",
       "    <tr>\n",
       "      <th>3</th>\n",
       "      <td>975900</td>\n",
       "      <td>/m/03vyhn</td>\n",
       "      <td>2001-08-24</td>\n",
       "      <td>Sgt Jericho Butler</td>\n",
       "      <td>1967-09-12</td>\n",
       "      <td>M</td>\n",
       "      <td>1.750</td>\n",
       "      <td>NaN</td>\n",
       "      <td>Jason Statham</td>\n",
       "      <td>33.0</td>\n",
       "      <td>/m/02vchl6</td>\n",
       "      <td>/m/0bgchnq</td>\n",
       "      <td>/m/034hyc</td>\n",
       "    </tr>\n",
       "    <tr>\n",
       "      <th>4</th>\n",
       "      <td>975900</td>\n",
       "      <td>/m/03vyhn</td>\n",
       "      <td>2001-08-24</td>\n",
       "      <td>Bashira Kincaid</td>\n",
       "      <td>1977-09-25</td>\n",
       "      <td>F</td>\n",
       "      <td>1.650</td>\n",
       "      <td>NaN</td>\n",
       "      <td>Clea DuVall</td>\n",
       "      <td>23.0</td>\n",
       "      <td>/m/02vbb3r</td>\n",
       "      <td>/m/0bgchp9</td>\n",
       "      <td>/m/01y9xg</td>\n",
       "    </tr>\n",
       "  </tbody>\n",
       "</table>\n",
       "</div>"
      ],
      "text/plain": [
       "   wiki_movie_id freebase_id release_date              character_name  \\\n",
       "0         975900   /m/03vyhn   2001-08-24                    Akooshay   \n",
       "1         975900   /m/03vyhn   2001-08-24  Lieutenant Melanie Ballard   \n",
       "2         975900   /m/03vyhn   2001-08-24         Desolation Williams   \n",
       "3         975900   /m/03vyhn   2001-08-24          Sgt Jericho Butler   \n",
       "4         975900   /m/03vyhn   2001-08-24             Bashira Kincaid   \n",
       "\n",
       "  actor_birth actor_gender  actor_height actor_ethnicity          actor_name  \\\n",
       "0  1958-08-26            F         1.620             NaN      Wanda De Jesus   \n",
       "1  1974-08-15            F         1.780      /m/044038p  Natasha Henstridge   \n",
       "2  1969-06-15            M         1.727         /m/0x67            Ice Cube   \n",
       "3  1967-09-12            M         1.750             NaN       Jason Statham   \n",
       "4  1977-09-25            F         1.650             NaN         Clea DuVall   \n",
       "\n",
       "   release_actor_age freebase_map_id freebase_character_id freebase_actor_id  \n",
       "0               42.0      /m/0bgchxw            /m/0bgcj3x        /m/03wcfv7  \n",
       "1               27.0       /m/0jys3m            /m/0bgchn4         /m/0346l4  \n",
       "2               32.0       /m/0jys3g            /m/0bgchn_        /m/01vw26l  \n",
       "3               33.0      /m/02vchl6            /m/0bgchnq         /m/034hyc  \n",
       "4               23.0      /m/02vbb3r            /m/0bgchp9         /m/01y9xg  "
      ]
     },
     "execution_count": 76,
     "metadata": {},
     "output_type": "execute_result"
    }
   ],
   "source": [
    "# Merge birth year information\n",
    "missing_birth_years = imdb_actors_w_cmu_characters[imdb_actors_w_cmu_characters['actor_birth'].isna()].index\n",
    "imdb_actors_w_cmu_characters.loc[missing_birth_years, 'actor_birth'] = imdb_actors_w_cmu_characters.loc[missing_birth_years, 'birthYear']\n",
    "\n",
    "def get_first_characters(ls):\n",
    "    \"\"\"\n",
    "    Retrieves the first character of the corresponding IMDb column\n",
    "\n",
    "    Parameters\n",
    "    ----------\n",
    "    ls : str\n",
    "        List-like string of characters\n",
    "        \n",
    "    Returns\n",
    "    -------\n",
    "    str\n",
    "        The character name\n",
    "    \"\"\"\n",
    "    \n",
    "    if isinstance(ls, float) | (ls == \"\\\\N\"):\n",
    "        return np.nan\n",
    "    return ls.split('\"')[1]\n",
    "\n",
    "# Merge character information\n",
    "imdb_actors_w_cmu_characters[\"characters\"] = imdb_actors_w_cmu_characters[\"characters\"].apply(get_first_characters)\n",
    "missing_characters = imdb_actors_w_cmu_characters[imdb_actors_w_cmu_characters['character_name'].isna()].index\n",
    "imdb_actors_w_cmu_characters.loc[missing_characters, 'character_name'] = imdb_actors_w_cmu_characters.loc[missing_characters, 'characters']\n",
    "\n",
    "# Drop duplicates and column names\n",
    "imdb_actors_w_cmu_characters = imdb_actors_w_cmu_characters.drop([\"freebase_id\", \"actor_freebase_id\", \"primaryName\", \"deathYear\", \"birthYear\", \"knownForTitles\", \"nconst\", \"tconst\", \"characters\"], axis=1)\n",
    "imdb_actors_w_cmu_characters = imdb_actors_w_cmu_characters.drop_duplicates(subset=\"freebase_map_id\")\n",
    "imdb_actors_w_cmu_characters = imdb_actors_w_cmu_characters.rename(columns={'freebase_movie_id' : 'freebase_id'})\n",
    "\n",
    "imdb_actors_w_cmu_characters.head(5)"
   ]
  },
  {
   "cell_type": "markdown",
   "metadata": {},
   "source": [
    "## Summary of results for part I <a name=\"part_1_summary\"></a>\n",
    "We now have two main dataframes for further analysis. One containing everything related to movies and their ratings and the other containing everything related to actors, their features and characters they played in a given movie."
   ]
  },
  {
   "cell_type": "code",
   "execution_count": 77,
   "metadata": {},
   "outputs": [
    {
     "data": {
      "text/html": [
       "<div>\n",
       "<style scoped>\n",
       "    .dataframe tbody tr th:only-of-type {\n",
       "        vertical-align: middle;\n",
       "    }\n",
       "\n",
       "    .dataframe tbody tr th {\n",
       "        vertical-align: top;\n",
       "    }\n",
       "\n",
       "    .dataframe thead th {\n",
       "        text-align: right;\n",
       "    }\n",
       "</style>\n",
       "<table border=\"1\" class=\"dataframe\">\n",
       "  <thead>\n",
       "    <tr style=\"text-align: right;\">\n",
       "      <th></th>\n",
       "      <th>tconst</th>\n",
       "      <th>runtimeMinutes</th>\n",
       "      <th>genres</th>\n",
       "      <th>averageRating</th>\n",
       "      <th>numVotes</th>\n",
       "      <th>freebase_id</th>\n",
       "      <th>wiki_movie_id</th>\n",
       "      <th>movie_name</th>\n",
       "      <th>movie_release_date</th>\n",
       "      <th>box_office</th>\n",
       "      <th>movie_languages</th>\n",
       "      <th>movie_countries</th>\n",
       "      <th>movie_genres</th>\n",
       "      <th>plot_summary</th>\n",
       "    </tr>\n",
       "  </thead>\n",
       "  <tbody>\n",
       "    <tr>\n",
       "      <th>0</th>\n",
       "      <td>tt0000009</td>\n",
       "      <td>45</td>\n",
       "      <td>[Romance]</td>\n",
       "      <td>5.3</td>\n",
       "      <td>207</td>\n",
       "      <td>/m/02q23xk</td>\n",
       "      <td>10109752</td>\n",
       "      <td>Miss Jerry</td>\n",
       "      <td>1894-10-09</td>\n",
       "      <td>NaN</td>\n",
       "      <td>{'/m/06ppq': 'Silent film'}</td>\n",
       "      <td>{'/m/09c7w0': 'United States of America'}</td>\n",
       "      <td>{'/m/02hmvc': 'Short Film', '/m/06ppq': 'Silen...</td>\n",
       "      <td>After finding out that her father is suffering...</td>\n",
       "    </tr>\n",
       "    <tr>\n",
       "      <th>1</th>\n",
       "      <td>tt0000147</td>\n",
       "      <td>100</td>\n",
       "      <td>[Documentary, News, Sport]</td>\n",
       "      <td>5.3</td>\n",
       "      <td>484</td>\n",
       "      <td>/m/0czdh_n</td>\n",
       "      <td>28703057</td>\n",
       "      <td>The Corbett-Fitzsimmons Fight</td>\n",
       "      <td>1897-05-22</td>\n",
       "      <td>100000.0</td>\n",
       "      <td>{}</td>\n",
       "      <td>{}</td>\n",
       "      <td>{'/m/01z02hx': 'Sports'}</td>\n",
       "      <td>The film no longer exists in its entirety; how...</td>\n",
       "    </tr>\n",
       "    <tr>\n",
       "      <th>2</th>\n",
       "      <td>tt0000574</td>\n",
       "      <td>70</td>\n",
       "      <td>[Action, Adventure, Biography]</td>\n",
       "      <td>6.0</td>\n",
       "      <td>854</td>\n",
       "      <td>/m/0120y4</td>\n",
       "      <td>142995</td>\n",
       "      <td>The Story of the Kelly Gang</td>\n",
       "      <td>1906-12-26</td>\n",
       "      <td>NaN</td>\n",
       "      <td>{'/m/02h40lc': 'English Language'}</td>\n",
       "      <td>{'/m/0chghy': 'Australia'}</td>\n",
       "      <td>{'/m/0lsxr': 'Crime Fiction', '/m/06ppq': 'Sil...</td>\n",
       "      <td>The Story of the Kelly Gangs tone is of sorrow...</td>\n",
       "    </tr>\n",
       "    <tr>\n",
       "      <th>3</th>\n",
       "      <td>tt0000591</td>\n",
       "      <td>90</td>\n",
       "      <td>[Drama]</td>\n",
       "      <td>5.0</td>\n",
       "      <td>21</td>\n",
       "      <td>/m/07s67rr</td>\n",
       "      <td>4849466</td>\n",
       "      <td>L'Enfant prodigue</td>\n",
       "      <td>1907-06-20</td>\n",
       "      <td>NaN</td>\n",
       "      <td>{'/m/064_8sq': 'French Language'}</td>\n",
       "      <td>{'/m/0f8l9c': 'France'}</td>\n",
       "      <td>{'/m/02hmvc': 'Short Film', '/m/06ppq': 'Silen...</td>\n",
       "      <td>NaN</td>\n",
       "    </tr>\n",
       "    <tr>\n",
       "      <th>4</th>\n",
       "      <td>tt0000679</td>\n",
       "      <td>120</td>\n",
       "      <td>[Adventure, Fantasy]</td>\n",
       "      <td>5.1</td>\n",
       "      <td>68</td>\n",
       "      <td>/m/0fgfyy</td>\n",
       "      <td>5954041</td>\n",
       "      <td>The Fairylogue and Radio-Plays</td>\n",
       "      <td>1908-09-24</td>\n",
       "      <td>NaN</td>\n",
       "      <td>{'/m/02h40lc': 'English Language'}</td>\n",
       "      <td>{'/m/09c7w0': 'United States of America'}</td>\n",
       "      <td>{'/m/06ppq': 'Silent film', '/m/01g6gs': 'Blac...</td>\n",
       "      <td>NaN</td>\n",
       "    </tr>\n",
       "  </tbody>\n",
       "</table>\n",
       "</div>"
      ],
      "text/plain": [
       "      tconst runtimeMinutes                          genres  averageRating  \\\n",
       "0  tt0000009             45                       [Romance]            5.3   \n",
       "1  tt0000147            100      [Documentary, News, Sport]            5.3   \n",
       "2  tt0000574             70  [Action, Adventure, Biography]            6.0   \n",
       "3  tt0000591             90                         [Drama]            5.0   \n",
       "4  tt0000679            120            [Adventure, Fantasy]            5.1   \n",
       "\n",
       "   numVotes freebase_id  wiki_movie_id                      movie_name  \\\n",
       "0       207  /m/02q23xk       10109752                      Miss Jerry   \n",
       "1       484  /m/0czdh_n       28703057   The Corbett-Fitzsimmons Fight   \n",
       "2       854   /m/0120y4         142995     The Story of the Kelly Gang   \n",
       "3        21  /m/07s67rr        4849466               L'Enfant prodigue   \n",
       "4        68   /m/0fgfyy        5954041  The Fairylogue and Radio-Plays   \n",
       "\n",
       "  movie_release_date  box_office                     movie_languages  \\\n",
       "0         1894-10-09         NaN         {'/m/06ppq': 'Silent film'}   \n",
       "1         1897-05-22    100000.0                                  {}   \n",
       "2         1906-12-26         NaN  {'/m/02h40lc': 'English Language'}   \n",
       "3         1907-06-20         NaN   {'/m/064_8sq': 'French Language'}   \n",
       "4         1908-09-24         NaN  {'/m/02h40lc': 'English Language'}   \n",
       "\n",
       "                             movie_countries  \\\n",
       "0  {'/m/09c7w0': 'United States of America'}   \n",
       "1                                         {}   \n",
       "2                 {'/m/0chghy': 'Australia'}   \n",
       "3                    {'/m/0f8l9c': 'France'}   \n",
       "4  {'/m/09c7w0': 'United States of America'}   \n",
       "\n",
       "                                        movie_genres  \\\n",
       "0  {'/m/02hmvc': 'Short Film', '/m/06ppq': 'Silen...   \n",
       "1                           {'/m/01z02hx': 'Sports'}   \n",
       "2  {'/m/0lsxr': 'Crime Fiction', '/m/06ppq': 'Sil...   \n",
       "3  {'/m/02hmvc': 'Short Film', '/m/06ppq': 'Silen...   \n",
       "4  {'/m/06ppq': 'Silent film', '/m/01g6gs': 'Blac...   \n",
       "\n",
       "                                        plot_summary  \n",
       "0  After finding out that her father is suffering...  \n",
       "1  The film no longer exists in its entirety; how...  \n",
       "2  The Story of the Kelly Gangs tone is of sorrow...  \n",
       "3                                                NaN  \n",
       "4                                                NaN  "
      ]
     },
     "execution_count": 77,
     "metadata": {},
     "output_type": "execute_result"
    }
   ],
   "source": [
    "movies = cmu_movies_w_imdb_rating.copy()\n",
    "actors_characters = imdb_actors_w_cmu_characters.copy()\n",
    "movies.head()"
   ]
  },
  {
   "cell_type": "code",
   "execution_count": 78,
   "metadata": {
    "scrolled": true
   },
   "outputs": [
    {
     "data": {
      "text/html": [
       "<div>\n",
       "<style scoped>\n",
       "    .dataframe tbody tr th:only-of-type {\n",
       "        vertical-align: middle;\n",
       "    }\n",
       "\n",
       "    .dataframe tbody tr th {\n",
       "        vertical-align: top;\n",
       "    }\n",
       "\n",
       "    .dataframe thead th {\n",
       "        text-align: right;\n",
       "    }\n",
       "</style>\n",
       "<table border=\"1\" class=\"dataframe\">\n",
       "  <thead>\n",
       "    <tr style=\"text-align: right;\">\n",
       "      <th></th>\n",
       "      <th>wiki_movie_id</th>\n",
       "      <th>freebase_id</th>\n",
       "      <th>release_date</th>\n",
       "      <th>character_name</th>\n",
       "      <th>actor_birth</th>\n",
       "      <th>actor_gender</th>\n",
       "      <th>actor_height</th>\n",
       "      <th>actor_ethnicity</th>\n",
       "      <th>actor_name</th>\n",
       "      <th>release_actor_age</th>\n",
       "      <th>freebase_map_id</th>\n",
       "      <th>freebase_character_id</th>\n",
       "      <th>freebase_actor_id</th>\n",
       "    </tr>\n",
       "  </thead>\n",
       "  <tbody>\n",
       "    <tr>\n",
       "      <th>0</th>\n",
       "      <td>975900</td>\n",
       "      <td>/m/03vyhn</td>\n",
       "      <td>2001-08-24</td>\n",
       "      <td>Akooshay</td>\n",
       "      <td>1958-08-26</td>\n",
       "      <td>F</td>\n",
       "      <td>1.620</td>\n",
       "      <td>NaN</td>\n",
       "      <td>Wanda De Jesus</td>\n",
       "      <td>42.0</td>\n",
       "      <td>/m/0bgchxw</td>\n",
       "      <td>/m/0bgcj3x</td>\n",
       "      <td>/m/03wcfv7</td>\n",
       "    </tr>\n",
       "    <tr>\n",
       "      <th>1</th>\n",
       "      <td>975900</td>\n",
       "      <td>/m/03vyhn</td>\n",
       "      <td>2001-08-24</td>\n",
       "      <td>Lieutenant Melanie Ballard</td>\n",
       "      <td>1974-08-15</td>\n",
       "      <td>F</td>\n",
       "      <td>1.780</td>\n",
       "      <td>/m/044038p</td>\n",
       "      <td>Natasha Henstridge</td>\n",
       "      <td>27.0</td>\n",
       "      <td>/m/0jys3m</td>\n",
       "      <td>/m/0bgchn4</td>\n",
       "      <td>/m/0346l4</td>\n",
       "    </tr>\n",
       "    <tr>\n",
       "      <th>2</th>\n",
       "      <td>975900</td>\n",
       "      <td>/m/03vyhn</td>\n",
       "      <td>2001-08-24</td>\n",
       "      <td>Desolation Williams</td>\n",
       "      <td>1969-06-15</td>\n",
       "      <td>M</td>\n",
       "      <td>1.727</td>\n",
       "      <td>/m/0x67</td>\n",
       "      <td>Ice Cube</td>\n",
       "      <td>32.0</td>\n",
       "      <td>/m/0jys3g</td>\n",
       "      <td>/m/0bgchn_</td>\n",
       "      <td>/m/01vw26l</td>\n",
       "    </tr>\n",
       "    <tr>\n",
       "      <th>3</th>\n",
       "      <td>975900</td>\n",
       "      <td>/m/03vyhn</td>\n",
       "      <td>2001-08-24</td>\n",
       "      <td>Sgt Jericho Butler</td>\n",
       "      <td>1967-09-12</td>\n",
       "      <td>M</td>\n",
       "      <td>1.750</td>\n",
       "      <td>NaN</td>\n",
       "      <td>Jason Statham</td>\n",
       "      <td>33.0</td>\n",
       "      <td>/m/02vchl6</td>\n",
       "      <td>/m/0bgchnq</td>\n",
       "      <td>/m/034hyc</td>\n",
       "    </tr>\n",
       "    <tr>\n",
       "      <th>4</th>\n",
       "      <td>975900</td>\n",
       "      <td>/m/03vyhn</td>\n",
       "      <td>2001-08-24</td>\n",
       "      <td>Bashira Kincaid</td>\n",
       "      <td>1977-09-25</td>\n",
       "      <td>F</td>\n",
       "      <td>1.650</td>\n",
       "      <td>NaN</td>\n",
       "      <td>Clea DuVall</td>\n",
       "      <td>23.0</td>\n",
       "      <td>/m/02vbb3r</td>\n",
       "      <td>/m/0bgchp9</td>\n",
       "      <td>/m/01y9xg</td>\n",
       "    </tr>\n",
       "  </tbody>\n",
       "</table>\n",
       "</div>"
      ],
      "text/plain": [
       "   wiki_movie_id freebase_id release_date              character_name  \\\n",
       "0         975900   /m/03vyhn   2001-08-24                    Akooshay   \n",
       "1         975900   /m/03vyhn   2001-08-24  Lieutenant Melanie Ballard   \n",
       "2         975900   /m/03vyhn   2001-08-24         Desolation Williams   \n",
       "3         975900   /m/03vyhn   2001-08-24          Sgt Jericho Butler   \n",
       "4         975900   /m/03vyhn   2001-08-24             Bashira Kincaid   \n",
       "\n",
       "  actor_birth actor_gender  actor_height actor_ethnicity          actor_name  \\\n",
       "0  1958-08-26            F         1.620             NaN      Wanda De Jesus   \n",
       "1  1974-08-15            F         1.780      /m/044038p  Natasha Henstridge   \n",
       "2  1969-06-15            M         1.727         /m/0x67            Ice Cube   \n",
       "3  1967-09-12            M         1.750             NaN       Jason Statham   \n",
       "4  1977-09-25            F         1.650             NaN         Clea DuVall   \n",
       "\n",
       "   release_actor_age freebase_map_id freebase_character_id freebase_actor_id  \n",
       "0               42.0      /m/0bgchxw            /m/0bgcj3x        /m/03wcfv7  \n",
       "1               27.0       /m/0jys3m            /m/0bgchn4         /m/0346l4  \n",
       "2               32.0       /m/0jys3g            /m/0bgchn_        /m/01vw26l  \n",
       "3               33.0      /m/02vchl6            /m/0bgchnq         /m/034hyc  \n",
       "4               23.0      /m/02vbb3r            /m/0bgchp9         /m/01y9xg  "
      ]
     },
     "execution_count": 78,
     "metadata": {},
     "output_type": "execute_result"
    }
   ],
   "source": [
    "actors_characters.head()"
   ]
  },
  {
   "cell_type": "markdown",
   "metadata": {},
   "source": [
    "### Saving <a name=\"part_1_saving\"></a>"
   ]
  },
  {
   "cell_type": "code",
   "execution_count": 42,
   "metadata": {},
   "outputs": [],
   "source": [
    "movies.to_json(os.path.join(SAVE_PATH, \"movies.json\"), orient='records')"
   ]
  },
  {
   "cell_type": "code",
   "execution_count": 43,
   "metadata": {},
   "outputs": [],
   "source": [
    "actors_characters.to_json(os.path.join(SAVE_PATH, \"characters.json\"), orient='records')"
   ]
  },
  {
   "cell_type": "markdown",
   "metadata": {},
   "source": [
    "# Part II: Character tropes / Personas <a name=\"part_2_title\"></a>"
   ]
  },
  {
   "cell_type": "code",
   "execution_count": 79,
   "metadata": {},
   "outputs": [],
   "source": [
    "# Load results of part I\n",
    "movies = pd.read_json(os.path.join(SAVE_PATH, \"movies.json\"))\n",
    "actors_characters = pd.read_json(os.path.join(SAVE_PATH, \"characters.json\"))"
   ]
  },
  {
   "cell_type": "markdown",
   "metadata": {},
   "source": [
    "## TVTropes personas <a name=\"part_2_tv_tropes_personas\"></a>\n",
    "We now load the 500 personas records we extracted from TVTropes"
   ]
  },
  {
   "cell_type": "code",
   "execution_count": 80,
   "metadata": {},
   "outputs": [
    {
     "data": {
      "text/html": [
       "<div>\n",
       "<style scoped>\n",
       "    .dataframe tbody tr th:only-of-type {\n",
       "        vertical-align: middle;\n",
       "    }\n",
       "\n",
       "    .dataframe tbody tr th {\n",
       "        vertical-align: top;\n",
       "    }\n",
       "\n",
       "    .dataframe thead th {\n",
       "        text-align: right;\n",
       "    }\n",
       "</style>\n",
       "<table border=\"1\" class=\"dataframe\">\n",
       "  <thead>\n",
       "    <tr style=\"text-align: right;\">\n",
       "      <th></th>\n",
       "      <th>id</th>\n",
       "      <th>trope</th>\n",
       "      <th>actor</th>\n",
       "      <th>character</th>\n",
       "      <th>movie_name</th>\n",
       "    </tr>\n",
       "  </thead>\n",
       "  <tbody>\n",
       "    <tr>\n",
       "      <th>0</th>\n",
       "      <td>/m/02wszk9</td>\n",
       "      <td>chanteuse</td>\n",
       "      <td>Kathleen Turner</td>\n",
       "      <td>Jessica Rabbit</td>\n",
       "      <td>Who Framed Roger Rabbit</td>\n",
       "    </tr>\n",
       "    <tr>\n",
       "      <th>1</th>\n",
       "      <td>/m/0k5wls</td>\n",
       "      <td>chanteuse</td>\n",
       "      <td>Cameron Diaz</td>\n",
       "      <td>Tina Carlyle</td>\n",
       "      <td>The Mask</td>\n",
       "    </tr>\n",
       "    <tr>\n",
       "      <th>2</th>\n",
       "      <td>/m/0k50tl</td>\n",
       "      <td>chanteuse</td>\n",
       "      <td>Michelle Pfeiffer</td>\n",
       "      <td>Susie Diamond</td>\n",
       "      <td>The Fabulous Baker Boys</td>\n",
       "    </tr>\n",
       "    <tr>\n",
       "      <th>3</th>\n",
       "      <td>/m/0k3j8v</td>\n",
       "      <td>chanteuse</td>\n",
       "      <td>Marilyn Monroe</td>\n",
       "      <td>Sugar Kane Kowalczyk</td>\n",
       "      <td>Some Like It Hot</td>\n",
       "    </tr>\n",
       "    <tr>\n",
       "      <th>4</th>\n",
       "      <td>/m/0jvlc4</td>\n",
       "      <td>chanteuse</td>\n",
       "      <td>Isabella Rossellini</td>\n",
       "      <td>Dorothy Vallens</td>\n",
       "      <td>Blue Velvet</td>\n",
       "    </tr>\n",
       "  </tbody>\n",
       "</table>\n",
       "</div>"
      ],
      "text/plain": [
       "           id      trope                actor             character  \\\n",
       "0  /m/02wszk9  chanteuse      Kathleen Turner        Jessica Rabbit   \n",
       "1   /m/0k5wls  chanteuse         Cameron Diaz          Tina Carlyle   \n",
       "2   /m/0k50tl  chanteuse    Michelle Pfeiffer         Susie Diamond   \n",
       "3   /m/0k3j8v  chanteuse       Marilyn Monroe  Sugar Kane Kowalczyk   \n",
       "4   /m/0jvlc4  chanteuse  Isabella Rossellini       Dorothy Vallens   \n",
       "\n",
       "                movie_name  \n",
       "0  Who Framed Roger Rabbit  \n",
       "1                 The Mask  \n",
       "2  The Fabulous Baker Boys  \n",
       "3         Some Like It Hot  \n",
       "4              Blue Velvet  "
      ]
     },
     "execution_count": 80,
     "metadata": {},
     "output_type": "execute_result"
    }
   ],
   "source": [
    "tvtropes_personas = load_tv_tropes_personas_df()\n",
    "tvtropes_personas.head()"
   ]
  },
  {
   "cell_type": "markdown",
   "metadata": {},
   "source": [
    "### Analyse tropes per actor <a name=\"part_2_tv_tropes_per_actor\"></a>\n",
    "Let's see if actors have diverse tropes"
   ]
  },
  {
   "cell_type": "code",
   "execution_count": 81,
   "metadata": {},
   "outputs": [
    {
     "data": {
      "text/html": [
       "<div>\n",
       "<style scoped>\n",
       "    .dataframe tbody tr th:only-of-type {\n",
       "        vertical-align: middle;\n",
       "    }\n",
       "\n",
       "    .dataframe tbody tr th {\n",
       "        vertical-align: top;\n",
       "    }\n",
       "\n",
       "    .dataframe thead th {\n",
       "        text-align: right;\n",
       "    }\n",
       "</style>\n",
       "<table border=\"1\" class=\"dataframe\">\n",
       "  <thead>\n",
       "    <tr style=\"text-align: right;\">\n",
       "      <th></th>\n",
       "      <th>actor</th>\n",
       "      <th>trope</th>\n",
       "      <th>num_tropes</th>\n",
       "    </tr>\n",
       "  </thead>\n",
       "  <tbody>\n",
       "    <tr>\n",
       "      <th>166</th>\n",
       "      <td>Johnny Depp</td>\n",
       "      <td>[casanova, charmer, byronic_hero, byronic_hero...</td>\n",
       "      <td>7</td>\n",
       "    </tr>\n",
       "    <tr>\n",
       "      <th>279</th>\n",
       "      <td>Robert De Niro</td>\n",
       "      <td>[crazy_jealous_guy, crazy_jealous_guy, tranqui...</td>\n",
       "      <td>6</td>\n",
       "    </tr>\n",
       "    <tr>\n",
       "      <th>109</th>\n",
       "      <td>Harrison Ford</td>\n",
       "      <td>[charmer, bounty_hunter, loveable_rogue, trick...</td>\n",
       "      <td>6</td>\n",
       "    </tr>\n",
       "    <tr>\n",
       "      <th>57</th>\n",
       "      <td>Clint Eastwood</td>\n",
       "      <td>[retired_outlaw, heartbroken_badass, bounty_hu...</td>\n",
       "      <td>6</td>\n",
       "    </tr>\n",
       "    <tr>\n",
       "      <th>64</th>\n",
       "      <td>Daniel Craig</td>\n",
       "      <td>[cultured_badass, heartbroken_badass, charmer,...</td>\n",
       "      <td>5</td>\n",
       "    </tr>\n",
       "  </tbody>\n",
       "</table>\n",
       "</div>"
      ],
      "text/plain": [
       "              actor                                              trope  \\\n",
       "166     Johnny Depp  [casanova, charmer, byronic_hero, byronic_hero...   \n",
       "279  Robert De Niro  [crazy_jealous_guy, crazy_jealous_guy, tranqui...   \n",
       "109   Harrison Ford  [charmer, bounty_hunter, loveable_rogue, trick...   \n",
       "57   Clint Eastwood  [retired_outlaw, heartbroken_badass, bounty_hu...   \n",
       "64     Daniel Craig  [cultured_badass, heartbroken_badass, charmer,...   \n",
       "\n",
       "     num_tropes  \n",
       "166           7  \n",
       "279           6  \n",
       "109           6  \n",
       "57            6  \n",
       "64            5  "
      ]
     },
     "execution_count": 81,
     "metadata": {},
     "output_type": "execute_result"
    }
   ],
   "source": [
    "# We group by actors and aggregate tropes together. We sort the resulting dataframe by the number of tropes\n",
    "tvtropes_per_actor = tvtropes_personas[[\"actor\", \"trope\"]].copy().groupby(\"actor\").agg(list).reset_index()\n",
    "tvtropes_per_actor[\"num_tropes\"] = tvtropes_per_actor[\"trope\"].apply(lambda ls: len(list(dict.fromkeys(ls))))\n",
    "tvtropes_per_actor = tvtropes_per_actor.sort_values(\"num_tropes\", ascending = False)\n",
    "\n",
    "tvtropes_per_actor.head()"
   ]
  },
  {
   "cell_type": "code",
   "execution_count": 82,
   "metadata": {},
   "outputs": [
    {
     "data": {
      "image/png": "[encoded data removed]",
      "text/plain": [
       "<Figure size 800x400 with 1 Axes>"
      ]
     },
     "metadata": {},
     "output_type": "display_data"
    }
   ],
   "source": [
    "plt.figure(figsize=(8, 4))\n",
    "sns.barplot(data = tvtropes_per_actor.head(20), x=\"num_tropes\", y=\"actor\", orient='h')\n",
    "plt.xlabel('Number of Tropes')\n",
    "plt.ylabel('Actor')\n",
    "plt.title('Top 20 actors with the most diverse tropes')\n",
    "plt.show()"
   ]
  },
  {
   "cell_type": "markdown",
   "metadata": {},
   "source": [
    "As we can see we have a problem. We only have very few well known actors with multiple personas. This makes further analysis impossible, but we use this very high quality dataset to introduce our metrics"
   ]
  },
  {
   "cell_type": "markdown",
   "metadata": {},
   "source": [
    "### Preference Metric <a name=\"part_2_preference_metric\"></a>\n",
    "\n",
    "As describe in the [`README.md`](./README.md#methods), we need a **preference metric** per actor. This metric should measure the tendency for a given actor $A$ to have a preferred trope (or set of tropes). A naïve approach would be to compare the distribution of a given actor $A$ to the uniform distribution of tropes. However a rapid analysis show us that the global tropes distribution is not uniform (and as such a more meaningful metric should be determined).\n",
    "\n"
   ]
  },
  {
   "cell_type": "markdown",
   "metadata": {},
   "source": [
    "A more meaningfull metric need to be extracted\n",
    "\n",
    "- **Cross Entropy based metric**:\n",
    "       \n",
    "   The Cross Entropy Metric focuses on the entropy of persona choices given the actor\n",
    "   $$\\text{pref}(\\text{actor}) = \\frac{ H(\\text{Persona}) }{ H(\\text{Persona} | \\text{Actor} = \\text{actor})}$$\n",
    "\n",
    "   This metric has the following property\n",
    "   - If the actor $a$ always plays the same persona, then $\\text{pref}(a) = +\\infty$\n",
    "   - If the actor $a$ plays each persona randomly (same distribution than the global distribution), then $\\text{pref}(a) = 1$\n",
    "\n",
    "   > Note that this metric is not well-behaved as it is not bounded. We can take the inverse to keep a value between 0 and 1, the value 1 would mean that $A$ plays each persona randomly and 0 would mean that $A$ keeps playing the same persona"
   ]
  },
  {
   "cell_type": "code",
   "execution_count": 83,
   "metadata": {},
   "outputs": [
    {
     "data": {
      "text/html": [
       "<div>\n",
       "<style scoped>\n",
       "    .dataframe tbody tr th:only-of-type {\n",
       "        vertical-align: middle;\n",
       "    }\n",
       "\n",
       "    .dataframe tbody tr th {\n",
       "        vertical-align: top;\n",
       "    }\n",
       "\n",
       "    .dataframe thead th {\n",
       "        text-align: right;\n",
       "    }\n",
       "</style>\n",
       "<table border=\"1\" class=\"dataframe\">\n",
       "  <thead>\n",
       "    <tr style=\"text-align: right;\">\n",
       "      <th></th>\n",
       "      <th>actor</th>\n",
       "      <th>trope</th>\n",
       "      <th>num_tropes</th>\n",
       "      <th>cross_entropy_based</th>\n",
       "    </tr>\n",
       "  </thead>\n",
       "  <tbody>\n",
       "    <tr>\n",
       "      <th>166</th>\n",
       "      <td>Johnny Depp</td>\n",
       "      <td>[casanova, charmer, byronic_hero, byronic_hero...</td>\n",
       "      <td>7</td>\n",
       "      <td>1.598494</td>\n",
       "    </tr>\n",
       "    <tr>\n",
       "      <th>279</th>\n",
       "      <td>Robert De Niro</td>\n",
       "      <td>[crazy_jealous_guy, crazy_jealous_guy, tranqui...</td>\n",
       "      <td>6</td>\n",
       "      <td>1.756055</td>\n",
       "    </tr>\n",
       "    <tr>\n",
       "      <th>109</th>\n",
       "      <td>Harrison Ford</td>\n",
       "      <td>[charmer, bounty_hunter, loveable_rogue, trick...</td>\n",
       "      <td>6</td>\n",
       "      <td>1.827315</td>\n",
       "    </tr>\n",
       "    <tr>\n",
       "      <th>57</th>\n",
       "      <td>Clint Eastwood</td>\n",
       "      <td>[retired_outlaw, heartbroken_badass, bounty_hu...</td>\n",
       "      <td>6</td>\n",
       "      <td>1.743254</td>\n",
       "    </tr>\n",
       "    <tr>\n",
       "      <th>64</th>\n",
       "      <td>Daniel Craig</td>\n",
       "      <td>[cultured_badass, heartbroken_badass, charmer,...</td>\n",
       "      <td>5</td>\n",
       "      <td>1.893194</td>\n",
       "    </tr>\n",
       "  </tbody>\n",
       "</table>\n",
       "</div>"
      ],
      "text/plain": [
       "              actor                                              trope  \\\n",
       "166     Johnny Depp  [casanova, charmer, byronic_hero, byronic_hero...   \n",
       "279  Robert De Niro  [crazy_jealous_guy, crazy_jealous_guy, tranqui...   \n",
       "109   Harrison Ford  [charmer, bounty_hunter, loveable_rogue, trick...   \n",
       "57   Clint Eastwood  [retired_outlaw, heartbroken_badass, bounty_hu...   \n",
       "64     Daniel Craig  [cultured_badass, heartbroken_badass, charmer,...   \n",
       "\n",
       "     num_tropes  cross_entropy_based  \n",
       "166           7             1.598494  \n",
       "279           6             1.756055  \n",
       "109           6             1.827315  \n",
       "57            6             1.743254  \n",
       "64            5             1.893194  "
      ]
     },
     "execution_count": 83,
     "metadata": {},
     "output_type": "execute_result"
    }
   ],
   "source": [
    "# Implementation of the cross entropy per actors\n",
    "tvtropes_per_actor_filtered = tvtropes_per_actor[tvtropes_per_actor[\"num_tropes\"] > 3].copy()\n",
    "tvtropes_per_actor_filtered\n",
    "\n",
    "def compute_entropy(array_like):\n",
    "    array_like = list(array_like)\n",
    "    dic = {}\n",
    "    for elem in array_like:\n",
    "        dic[elem] = dic.get(elem, 0) + 1\n",
    "    occurences = np.array(list(dic.values()))\n",
    "    probabilities = occurences / np.sum(occurences)\n",
    "    return -np.dot(np.log2(probabilities), probabilities)\n",
    "\n",
    "H_global = compute_entropy(tvtropes_per_actor_filtered['trope'].sum())\n",
    "\n",
    "tvtropes_per_actor_filtered['cross_entropy_based'] = H_global / tvtropes_per_actor_filtered['trope'].apply(compute_entropy)\n",
    "tvtropes_per_actor_filtered.head()"
   ]
  },
  {
   "cell_type": "markdown",
   "metadata": {},
   "source": [
    "- **Mutual Information**:\n",
    "\n",
    "   The Mutual Information Metric captures the information gain about the actor's persona choices relative to the global persona distribution\n",
    "   $$\\text{pref}(\\text{actor}) = \\frac{ H(\\text{Persona}) - H(\\text{Persona} | \\text{Actor} = \\text{actor}) }{H(\\text{Persona})}$$\n",
    "      \n",
    "   This metric has the following property\n",
    "   - If the actor $a$ always plays the same persona, then $\\text{pref}(a) = 1$\n",
    "   - If the actor $a$ plays each persona randomly (same distribution than the global distribution), then $\\text{pref}(a) = 0$"
   ]
  },
  {
   "cell_type": "code",
   "execution_count": 84,
   "metadata": {},
   "outputs": [
    {
     "data": {
      "text/html": [
       "<div>\n",
       "<style scoped>\n",
       "    .dataframe tbody tr th:only-of-type {\n",
       "        vertical-align: middle;\n",
       "    }\n",
       "\n",
       "    .dataframe tbody tr th {\n",
       "        vertical-align: top;\n",
       "    }\n",
       "\n",
       "    .dataframe thead th {\n",
       "        text-align: right;\n",
       "    }\n",
       "</style>\n",
       "<table border=\"1\" class=\"dataframe\">\n",
       "  <thead>\n",
       "    <tr style=\"text-align: right;\">\n",
       "      <th></th>\n",
       "      <th>actor</th>\n",
       "      <th>trope</th>\n",
       "      <th>num_tropes</th>\n",
       "      <th>cross_entropy_based</th>\n",
       "      <th>mutual_information_based</th>\n",
       "    </tr>\n",
       "  </thead>\n",
       "  <tbody>\n",
       "    <tr>\n",
       "      <th>166</th>\n",
       "      <td>Johnny Depp</td>\n",
       "      <td>[casanova, charmer, byronic_hero, byronic_hero...</td>\n",
       "      <td>7</td>\n",
       "      <td>1.598494</td>\n",
       "      <td>0.374411</td>\n",
       "    </tr>\n",
       "    <tr>\n",
       "      <th>279</th>\n",
       "      <td>Robert De Niro</td>\n",
       "      <td>[crazy_jealous_guy, crazy_jealous_guy, tranqui...</td>\n",
       "      <td>6</td>\n",
       "      <td>1.756055</td>\n",
       "      <td>0.430542</td>\n",
       "    </tr>\n",
       "    <tr>\n",
       "      <th>109</th>\n",
       "      <td>Harrison Ford</td>\n",
       "      <td>[charmer, bounty_hunter, loveable_rogue, trick...</td>\n",
       "      <td>6</td>\n",
       "      <td>1.827315</td>\n",
       "      <td>0.452749</td>\n",
       "    </tr>\n",
       "    <tr>\n",
       "      <th>57</th>\n",
       "      <td>Clint Eastwood</td>\n",
       "      <td>[retired_outlaw, heartbroken_badass, bounty_hu...</td>\n",
       "      <td>6</td>\n",
       "      <td>1.743254</td>\n",
       "      <td>0.426360</td>\n",
       "    </tr>\n",
       "    <tr>\n",
       "      <th>64</th>\n",
       "      <td>Daniel Craig</td>\n",
       "      <td>[cultured_badass, heartbroken_badass, charmer,...</td>\n",
       "      <td>5</td>\n",
       "      <td>1.893194</td>\n",
       "      <td>0.471792</td>\n",
       "    </tr>\n",
       "  </tbody>\n",
       "</table>\n",
       "</div>"
      ],
      "text/plain": [
       "              actor                                              trope  \\\n",
       "166     Johnny Depp  [casanova, charmer, byronic_hero, byronic_hero...   \n",
       "279  Robert De Niro  [crazy_jealous_guy, crazy_jealous_guy, tranqui...   \n",
       "109   Harrison Ford  [charmer, bounty_hunter, loveable_rogue, trick...   \n",
       "57   Clint Eastwood  [retired_outlaw, heartbroken_badass, bounty_hu...   \n",
       "64     Daniel Craig  [cultured_badass, heartbroken_badass, charmer,...   \n",
       "\n",
       "     num_tropes  cross_entropy_based  mutual_information_based  \n",
       "166           7             1.598494                  0.374411  \n",
       "279           6             1.756055                  0.430542  \n",
       "109           6             1.827315                  0.452749  \n",
       "57            6             1.743254                  0.426360  \n",
       "64            5             1.893194                  0.471792  "
      ]
     },
     "execution_count": 84,
     "metadata": {},
     "output_type": "execute_result"
    }
   ],
   "source": [
    "tvtropes_per_actor_filtered['mutual_information_based'] = (H_global - tvtropes_per_actor_filtered['trope'].apply(compute_entropy)) / H_global\n",
    "tvtropes_per_actor_filtered.head()"
   ]
  },
  {
   "cell_type": "markdown",
   "metadata": {},
   "source": [
    "### Analyse frequency of tropes when joined with our movies <a name=\"part_2_tvtropes_joined_movies\"></a>\n",
    "Get an idea of the distribution of personas."
   ]
  },
  {
   "cell_type": "code",
   "execution_count": 85,
   "metadata": {},
   "outputs": [],
   "source": [
    "# We \"standardize\" movie name and try joining TVTropes personas and Movies\n",
    "tvtropes_personas_std = tvtropes_personas.copy()\n",
    "tvtropes_personas_std['movie_name_standardized'] = tvtropes_personas_std['movie_name'].str.lower()\n",
    "\n",
    "movies_std = movies.copy()\n",
    "movies_std['movie_name_standardized'] = movies_std['movie_name'].str.lower()\n",
    "\n",
    "movies_personas = movies_std.merge(tvtropes_personas_std, on='movie_name_standardized', how='inner')"
   ]
  },
  {
   "cell_type": "code",
   "execution_count": 86,
   "metadata": {},
   "outputs": [
    {
     "data": {
      "image/png": "[encoded data removed]",
      "text/plain": [
       "<Figure size 2000x1800 with 1 Axes>"
      ]
     },
     "metadata": {},
     "output_type": "display_data"
    }
   ],
   "source": [
    "trope_value_counts = movies_personas['trope'].value_counts()\n",
    "\n",
    "plt.figure(figsize=(20, 18))\n",
    "trope_value_counts.plot(kind='barh', xticks=[])\n",
    "plt.xlabel('Count')\n",
    "plt.ylabel('Tropes')\n",
    "plt.title('Frequency of Tropes in Movies')\n",
    "plt.gca().invert_yaxis()\n",
    "plt.show()"
   ]
  },
  {
   "cell_type": "markdown",
   "metadata": {},
   "source": [
    "## CMU tropes with actors & characters <a name=\"part_2_cmu_personas_joined_character\"></a>\n",
    "\n",
    "We merge the actors and characters information we extracted in part I with the tropes from the original paper"
   ]
  },
  {
   "cell_type": "code",
   "execution_count": 87,
   "metadata": {},
   "outputs": [
    {
     "data": {
      "text/html": [
       "<div>\n",
       "<style scoped>\n",
       "    .dataframe tbody tr th:only-of-type {\n",
       "        vertical-align: middle;\n",
       "    }\n",
       "\n",
       "    .dataframe tbody tr th {\n",
       "        vertical-align: top;\n",
       "    }\n",
       "\n",
       "    .dataframe thead th {\n",
       "        text-align: right;\n",
       "    }\n",
       "</style>\n",
       "<table border=\"1\" class=\"dataframe\">\n",
       "  <thead>\n",
       "    <tr style=\"text-align: right;\">\n",
       "      <th></th>\n",
       "      <th>freebase_id</th>\n",
       "      <th>wiki_id</th>\n",
       "      <th>movie_name</th>\n",
       "      <th>secondary_name</th>\n",
       "      <th>full_name</th>\n",
       "      <th>token_occurences</th>\n",
       "      <th>estimated_trope</th>\n",
       "      <th>trope_distrib</th>\n",
       "    </tr>\n",
       "  </thead>\n",
       "  <tbody>\n",
       "    <tr>\n",
       "      <th>49076</th>\n",
       "      <td>e12</td>\n",
       "      <td>1934924</td>\n",
       "      <td>Where the Sidewalk Ends</td>\n",
       "      <td>father</td>\n",
       "      <td>Morgan 's father</td>\n",
       "      <td>4</td>\n",
       "      <td>28</td>\n",
       "      <td>[0.0, 0.0, 0.0, 0.0, 0.0, 0.0, 0.0, 0.0, 0.0, ...</td>\n",
       "    </tr>\n",
       "    <tr>\n",
       "      <th>95059</th>\n",
       "      <td>e8</td>\n",
       "      <td>286893</td>\n",
       "      <td>Rudy</td>\n",
       "      <td>assistant</td>\n",
       "      <td>a teaching assistant at his junior college</td>\n",
       "      <td>4</td>\n",
       "      <td>17</td>\n",
       "      <td>[0.0, 0.0, 0.19, 0.01, 0.0, 0.0, 0.02, 0.0, 0....</td>\n",
       "    </tr>\n",
       "    <tr>\n",
       "      <th>143169</th>\n",
       "      <td>e32</td>\n",
       "      <td>5523710</td>\n",
       "      <td>The Devil's Backbone</td>\n",
       "      <td>they</td>\n",
       "      <td>many orphans</td>\n",
       "      <td>5</td>\n",
       "      <td>21</td>\n",
       "      <td>[0.0, 0.33, 0.0, 0.0, 0.0, 0.0, 0.0, 0.0, 0.0,...</td>\n",
       "    </tr>\n",
       "    <tr>\n",
       "      <th>27189</th>\n",
       "      <td>e2</td>\n",
       "      <td>14693181</td>\n",
       "      <td>Of Human Bondage</td>\n",
       "      <td>she</td>\n",
       "      <td>her</td>\n",
       "      <td>5</td>\n",
       "      <td>2</td>\n",
       "      <td>[0.0, 0.03, 0.21, 0.09, 0.0, 0.01, 0.0, 0.0, 0...</td>\n",
       "    </tr>\n",
       "    <tr>\n",
       "      <th>144669</th>\n",
       "      <td>e6</td>\n",
       "      <td>5654699</td>\n",
       "      <td>Simhadri</td>\n",
       "      <td>Indu</td>\n",
       "      <td>Indu</td>\n",
       "      <td>8</td>\n",
       "      <td>46</td>\n",
       "      <td>[0.0, 0.01, 0.01, 0.02, 0.0, 0.02, 0.02, 0.0, ...</td>\n",
       "    </tr>\n",
       "  </tbody>\n",
       "</table>\n",
       "</div>"
      ],
      "text/plain": [
       "       freebase_id   wiki_id               movie_name secondary_name  \\\n",
       "49076          e12   1934924  Where the Sidewalk Ends         father   \n",
       "95059           e8    286893                     Rudy      assistant   \n",
       "143169         e32   5523710     The Devil's Backbone           they   \n",
       "27189           e2  14693181         Of Human Bondage            she   \n",
       "144669          e6   5654699                 Simhadri           Indu   \n",
       "\n",
       "                                         full_name  token_occurences  \\\n",
       "49076                             Morgan 's father                 4   \n",
       "95059   a teaching assistant at his junior college                 4   \n",
       "143169                                many orphans                 5   \n",
       "27189                                          her                 5   \n",
       "144669                                        Indu                 8   \n",
       "\n",
       "        estimated_trope                                      trope_distrib  \n",
       "49076                28  [0.0, 0.0, 0.0, 0.0, 0.0, 0.0, 0.0, 0.0, 0.0, ...  \n",
       "95059                17  [0.0, 0.0, 0.19, 0.01, 0.0, 0.0, 0.02, 0.0, 0....  \n",
       "143169               21  [0.0, 0.33, 0.0, 0.0, 0.0, 0.0, 0.0, 0.0, 0.0,...  \n",
       "27189                 2  [0.0, 0.03, 0.21, 0.09, 0.0, 0.01, 0.0, 0.0, 0...  \n",
       "144669               46  [0.0, 0.01, 0.01, 0.02, 0.0, 0.02, 0.02, 0.0, ...  "
      ]
     },
     "execution_count": 87,
     "metadata": {},
     "output_type": "execute_result"
    }
   ],
   "source": [
    "cmu_personas = load_personas()\n",
    "cmu_personas.sample(5)"
   ]
  },
  {
   "cell_type": "code",
   "execution_count": 88,
   "metadata": {},
   "outputs": [],
   "source": [
    "# Rename mapping columns and perform inner join\n",
    "cmu_personas = cmu_personas.drop(columns=['secondary_name', 'full_name', \"wiki_id\"])\n",
    "cmu_personas = cmu_personas.rename(columns={'freebase_id' : 'freebase_map_id'})\n",
    "movies_personas_cmu = cmu_personas.merge(actors_characters, on='freebase_map_id')"
   ]
  },
  {
   "cell_type": "code",
   "execution_count": 89,
   "metadata": {},
   "outputs": [
    {
     "name": "stdout",
     "output_type": "stream",
     "text": [
      "We have 11985 records for characters and their corresponding trope\n"
     ]
    }
   ],
   "source": [
    "print(f\"We have {len(movies_personas_cmu)} records for characters and their corresponding trope\")"
   ]
  },
  {
   "cell_type": "markdown",
   "metadata": {},
   "source": [
    "This offers us one possiblity for further analysis, as we have more than 30'000 records"
   ]
  },
  {
   "cell_type": "code",
   "execution_count": 90,
   "metadata": {},
   "outputs": [
    {
     "data": {
      "image/png": "[encoded data removed]",
      "text/plain": [
       "<Figure size 640x480 with 1 Axes>"
      ]
     },
     "metadata": {},
     "output_type": "display_data"
    }
   ],
   "source": [
    "characters_per_actor = movies_personas_cmu[['freebase_actor_id', 'freebase_map_id']].groupby(by='freebase_actor_id').count()\n",
    "sns.histplot(data=characters_per_actor, x='freebase_map_id', bins=range(50))\n",
    "plt.yscale('log')\n",
    "plt.xlabel(\"Number of roles\")\n",
    "plt.ylabel(\"Number of actors\")\n",
    "plt.title(\"Histogram of number of roles per actor\")\n",
    "plt.show()"
   ]
  },
  {
   "cell_type": "code",
   "execution_count": 91,
   "metadata": {},
   "outputs": [
    {
     "name": "stdout",
     "output_type": "stream",
     "text": [
      "Number of actors with 5 roles or more : 603\n",
      "Number of actors with less than 5 roles : 3106\n"
     ]
    }
   ],
   "source": [
    "print(f\"Number of actors with 5 roles or more : {len(characters_per_actor[characters_per_actor['freebase_map_id'] >= 5])}\")\n",
    "print(f\"Number of actors with less than 5 roles : {len(characters_per_actor[characters_per_actor['freebase_map_id'] < 5])}\")"
   ]
  },
  {
   "cell_type": "markdown",
   "metadata": {},
   "source": [
    "With 5 roles or more, we consider that we can decide \"with some confidence\" if an actor has a preferred persona or not (under this threshold, data may not be significant enough). There is a reasonable amount of actors for which we gathered enough roles to be confident in our analysis (1481 actors have more than 5 personas). \n",
    "\n",
    "Nevertheless, in further methods, we may decide to only keep actors with a number of roles greater than some threshold (to be confident in our metric computations). This may become a source of bias as there is more chance that an actor is successful if he plays in more movies (thus our analysis may become relevant only for \"successful\" actors and not for actors in general). "
   ]
  },
  {
   "cell_type": "code",
   "execution_count": 92,
   "metadata": {},
   "outputs": [
    {
     "data": {
      "image/png": "[encoded data removed]",
      "text/plain": [
       "<Figure size 640x480 with 1 Axes>"
      ]
     },
     "metadata": {},
     "output_type": "display_data"
    }
   ],
   "source": [
    "sns.histplot(data=movies_personas_cmu, x='estimated_trope', bins=range(50))\n",
    "plt.yscale(\"log\")\n",
    "plt.xlabel('Estimated persona index')\n",
    "plt.ylabel('Count')\n",
    "plt.title('Distribution of estimated personas')\n",
    "plt.show()"
   ]
  },
  {
   "cell_type": "markdown",
   "metadata": {},
   "source": [
    "The distribution of estimated personas is very heterogeneous, some personas only have one representative ! This can lead to very high variance. For instance suppose for those personas that their representative (movie role) is in a very good movie (according to our movies' success evaluation), then we will deduce that this persona always lead to very good rating and will bias our analysis. We hope that this issue can be mitigated with uncertainty estimation.\n",
    "\n",
    "Because of all of those possible limitations, to be even more confident with our result, we introduce another way to determine an actor's comfort zone which is based on the movies' genres (presented in next part)."
   ]
  },
  {
   "cell_type": "markdown",
   "metadata": {},
   "source": [
    "## Summary of results for part II <a name=\"part_2_summary\"></a>\n",
    "We took the dataframe containing everything related to actors, their features and characters they played in a given movie from the results of part I and added the character tropes distribution from the original CMU paper. We have also defined our preference metrics and showed an example computation on a subsample of data."
   ]
  },
  {
   "cell_type": "code",
   "execution_count": 93,
   "metadata": {},
   "outputs": [
    {
     "data": {
      "text/html": [
       "<div>\n",
       "<style scoped>\n",
       "    .dataframe tbody tr th:only-of-type {\n",
       "        vertical-align: middle;\n",
       "    }\n",
       "\n",
       "    .dataframe tbody tr th {\n",
       "        vertical-align: top;\n",
       "    }\n",
       "\n",
       "    .dataframe thead th {\n",
       "        text-align: right;\n",
       "    }\n",
       "</style>\n",
       "<table border=\"1\" class=\"dataframe\">\n",
       "  <thead>\n",
       "    <tr style=\"text-align: right;\">\n",
       "      <th></th>\n",
       "      <th>freebase_map_id</th>\n",
       "      <th>movie_name</th>\n",
       "      <th>token_occurences</th>\n",
       "      <th>estimated_trope</th>\n",
       "      <th>trope_distrib</th>\n",
       "      <th>nconst</th>\n",
       "      <th>knownForTitles</th>\n",
       "      <th>tconst</th>\n",
       "      <th>characters</th>\n",
       "      <th>freebase_id</th>\n",
       "      <th>wiki_movie_id</th>\n",
       "      <th>release_date</th>\n",
       "      <th>actor_birth</th>\n",
       "      <th>actor_gender</th>\n",
       "      <th>actor_height</th>\n",
       "      <th>actor_ethnicity</th>\n",
       "      <th>actor_name</th>\n",
       "      <th>release_actor_age</th>\n",
       "      <th>freebase_character_id</th>\n",
       "      <th>freebase_actor_id</th>\n",
       "    </tr>\n",
       "  </thead>\n",
       "  <tbody>\n",
       "    <tr>\n",
       "      <th>0</th>\n",
       "      <td>/m/02vcl4m</td>\n",
       "      <td>Halls of Montezuma</td>\n",
       "      <td>5</td>\n",
       "      <td>35</td>\n",
       "      <td>[0.0, 0.0, 0.0, 0.0, 0.0, 0.0, 0.0, 0.01, 0.0,...</td>\n",
       "      <td>nm0001588</td>\n",
       "      <td>tt0101587,tt0057345,tt0046303,tt0098439</td>\n",
       "      <td>tt0042539</td>\n",
       "      <td>[\"Pigeon Lane\"]</td>\n",
       "      <td>/m/02pzjvb</td>\n",
       "      <td>10004330</td>\n",
       "      <td>1950</td>\n",
       "      <td>1919-02-18</td>\n",
       "      <td>M</td>\n",
       "      <td>1.930</td>\n",
       "      <td>/m/0ffjvd</td>\n",
       "      <td>Jack Palance</td>\n",
       "      <td>30.0</td>\n",
       "      <td>/m/0h5cz0m</td>\n",
       "      <td>/m/02t_w8</td>\n",
       "    </tr>\n",
       "    <tr>\n",
       "      <th>1</th>\n",
       "      <td>/m/0k52jp</td>\n",
       "      <td>The First of the Few</td>\n",
       "      <td>8</td>\n",
       "      <td>12</td>\n",
       "      <td>[0.0, 0.02, 0.36, 0.01, 0.0, 0.01, 0.0, 0.0, 0...</td>\n",
       "      <td>nm0001366</td>\n",
       "      <td>tt0030637,tt0034027,tt0025748,tt0031381</td>\n",
       "      <td>tt0034734</td>\n",
       "      <td>[\"R.J. Mitchell\"]</td>\n",
       "      <td>/m/03y7jr</td>\n",
       "      <td>1001896</td>\n",
       "      <td>1942</td>\n",
       "      <td>1893-04-03</td>\n",
       "      <td>M</td>\n",
       "      <td>NaN</td>\n",
       "      <td>/m/041rx</td>\n",
       "      <td>Leslie Howard</td>\n",
       "      <td>NaN</td>\n",
       "      <td>/m/0hhch2q</td>\n",
       "      <td>/m/0lcf1</td>\n",
       "    </tr>\n",
       "    <tr>\n",
       "      <th>2</th>\n",
       "      <td>/m/02s9nyl</td>\n",
       "      <td>Foul Play</td>\n",
       "      <td>12</td>\n",
       "      <td>35</td>\n",
       "      <td>[0.0, 0.0, 0.0, 0.0, 0.0, 0.0, 0.0, 0.0, 0.0, ...</td>\n",
       "      <td>nm0000331</td>\n",
       "      <td>tt0085995,tt0080487,tt0092086,tt0104850</td>\n",
       "      <td>tt0077578</td>\n",
       "      <td>[\"Tony Carlson\"]</td>\n",
       "      <td>/m/03y9n_</td>\n",
       "      <td>1002717</td>\n",
       "      <td>1978-07-14</td>\n",
       "      <td>1943-10-08</td>\n",
       "      <td>M</td>\n",
       "      <td>1.930</td>\n",
       "      <td>None</td>\n",
       "      <td>Chevy Chase</td>\n",
       "      <td>34.0</td>\n",
       "      <td>/m/02s9nyn</td>\n",
       "      <td>/m/0p_jc</td>\n",
       "    </tr>\n",
       "    <tr>\n",
       "      <th>3</th>\n",
       "      <td>/m/0jznfp</td>\n",
       "      <td>Hudson Hawk</td>\n",
       "      <td>5</td>\n",
       "      <td>5</td>\n",
       "      <td>[0.0, 0.0, 0.0, 0.0, 0.0, 0.52, 0.03, 0.0, 0.0...</td>\n",
       "      <td>nm0000732</td>\n",
       "      <td>tt0110413,tt0097216,tt0093565,tt0099871</td>\n",
       "      <td>tt0102070</td>\n",
       "      <td>[\"Tommy Five-Tone\"]</td>\n",
       "      <td>/m/0pk1p</td>\n",
       "      <td>100274</td>\n",
       "      <td>1991-05-24</td>\n",
       "      <td>1933-06-20</td>\n",
       "      <td>M</td>\n",
       "      <td>1.910</td>\n",
       "      <td>/m/0xnvg</td>\n",
       "      <td>Danny Aiello</td>\n",
       "      <td>57.0</td>\n",
       "      <td>/m/0lyzr6x</td>\n",
       "      <td>/m/01r7t9</td>\n",
       "    </tr>\n",
       "    <tr>\n",
       "      <th>4</th>\n",
       "      <td>/m/02vc5km</td>\n",
       "      <td>Red Dust</td>\n",
       "      <td>3</td>\n",
       "      <td>40</td>\n",
       "      <td>[0.0, 0.0, 0.13, 0.01, 0.0, 0.05, 0.02, 0.0, 0...</td>\n",
       "      <td>nm0252230</td>\n",
       "      <td>tt0301199,tt7533152,tt2024544,tt0379786</td>\n",
       "      <td>tt0388364</td>\n",
       "      <td>[\"Alex Mpondo\"]</td>\n",
       "      <td>/m/02p_921</td>\n",
       "      <td>10028410</td>\n",
       "      <td>2004</td>\n",
       "      <td>1977-07-10</td>\n",
       "      <td>M</td>\n",
       "      <td>1.778</td>\n",
       "      <td>/m/0278pqj</td>\n",
       "      <td>Chiwetel Ejiofor</td>\n",
       "      <td>26.0</td>\n",
       "      <td>/m/0h32y39</td>\n",
       "      <td>/m/05vsxz</td>\n",
       "    </tr>\n",
       "  </tbody>\n",
       "</table>\n",
       "</div>"
      ],
      "text/plain": [
       "  freebase_map_id            movie_name  token_occurences  estimated_trope  \\\n",
       "0      /m/02vcl4m    Halls of Montezuma                 5               35   \n",
       "1       /m/0k52jp  The First of the Few                 8               12   \n",
       "2      /m/02s9nyl             Foul Play                12               35   \n",
       "3       /m/0jznfp           Hudson Hawk                 5                5   \n",
       "4      /m/02vc5km              Red Dust                 3               40   \n",
       "\n",
       "                                       trope_distrib     nconst  \\\n",
       "0  [0.0, 0.0, 0.0, 0.0, 0.0, 0.0, 0.0, 0.01, 0.0,...  nm0001588   \n",
       "1  [0.0, 0.02, 0.36, 0.01, 0.0, 0.01, 0.0, 0.0, 0...  nm0001366   \n",
       "2  [0.0, 0.0, 0.0, 0.0, 0.0, 0.0, 0.0, 0.0, 0.0, ...  nm0000331   \n",
       "3  [0.0, 0.0, 0.0, 0.0, 0.0, 0.52, 0.03, 0.0, 0.0...  nm0000732   \n",
       "4  [0.0, 0.0, 0.13, 0.01, 0.0, 0.05, 0.02, 0.0, 0...  nm0252230   \n",
       "\n",
       "                            knownForTitles     tconst           characters  \\\n",
       "0  tt0101587,tt0057345,tt0046303,tt0098439  tt0042539      [\"Pigeon Lane\"]   \n",
       "1  tt0030637,tt0034027,tt0025748,tt0031381  tt0034734    [\"R.J. Mitchell\"]   \n",
       "2  tt0085995,tt0080487,tt0092086,tt0104850  tt0077578     [\"Tony Carlson\"]   \n",
       "3  tt0110413,tt0097216,tt0093565,tt0099871  tt0102070  [\"Tommy Five-Tone\"]   \n",
       "4  tt0301199,tt7533152,tt2024544,tt0379786  tt0388364      [\"Alex Mpondo\"]   \n",
       "\n",
       "  freebase_id  wiki_movie_id release_date actor_birth actor_gender  \\\n",
       "0  /m/02pzjvb       10004330         1950  1919-02-18            M   \n",
       "1   /m/03y7jr        1001896         1942  1893-04-03            M   \n",
       "2   /m/03y9n_        1002717   1978-07-14  1943-10-08            M   \n",
       "3    /m/0pk1p         100274   1991-05-24  1933-06-20            M   \n",
       "4  /m/02p_921       10028410         2004  1977-07-10            M   \n",
       "\n",
       "   actor_height actor_ethnicity        actor_name  release_actor_age  \\\n",
       "0         1.930       /m/0ffjvd      Jack Palance               30.0   \n",
       "1           NaN        /m/041rx     Leslie Howard                NaN   \n",
       "2         1.930            None       Chevy Chase               34.0   \n",
       "3         1.910        /m/0xnvg      Danny Aiello               57.0   \n",
       "4         1.778      /m/0278pqj  Chiwetel Ejiofor               26.0   \n",
       "\n",
       "  freebase_character_id freebase_actor_id  \n",
       "0            /m/0h5cz0m         /m/02t_w8  \n",
       "1            /m/0hhch2q          /m/0lcf1  \n",
       "2            /m/02s9nyn          /m/0p_jc  \n",
       "3            /m/0lyzr6x         /m/01r7t9  \n",
       "4            /m/0h32y39         /m/05vsxz  "
      ]
     },
     "execution_count": 93,
     "metadata": {},
     "output_type": "execute_result"
    }
   ],
   "source": [
    "actors_characters_personas = movies_personas_cmu.copy()\n",
    "actors_characters_personas.head()"
   ]
  },
  {
   "cell_type": "markdown",
   "metadata": {},
   "source": [
    "### Saving <a name=\"part_2_saving\"></a>"
   ]
  },
  {
   "cell_type": "code",
   "execution_count": 59,
   "metadata": {},
   "outputs": [],
   "source": [
    "actors_characters_personas.to_json(os.path.join(SAVE_PATH, \"characters_personas.json\"), orient='records')"
   ]
  },
  {
   "cell_type": "markdown",
   "metadata": {},
   "source": [
    "# Part III: Movie-based comfort zones <a name=\"part_3_movie_based_comfort_zones\"></a>\n",
    "\n",
    "We investigate the possiblity of coming up with comfort zones by analysing movie features for a given actor instead of personas. Defining an actor's comfort zone as such seems at first glance like a reasonable approach. Indeed, even when an actor embodies diverse characters, if they still play for the same type of movies this would raise questions about whether they are truly venturing beyond their comfort zone. Whereas with totally different genres (such as Sport and Action/Adventure movies for instance), we would be more confident that the difference is significant enough to make a difference for the critics.\n",
    "\n",
    "However this is a much more coarse-grained analysis as differences in actors' tropes may still be really noticeable even for similar genres."
   ]
  },
  {
   "cell_type": "code",
   "execution_count": 2,
   "metadata": {
    "tags": []
   },
   "outputs": [],
   "source": [
    "# Load results of part I\n",
    "actors_characters = pd.read_json(os.path.join(SAVE_PATH, \"characters.json\"))\n",
    "movies = pd.read_json(os.path.join(SAVE_PATH, \"movies.json\"))\n",
    "\n",
    "# Load results of part II\n",
    "actors_characters_personas = pd.read_json(os.path.join(SAVE_PATH, \"characters_personas.json\"))"
   ]
  },
  {
   "cell_type": "code",
   "execution_count": 3,
   "metadata": {
    "tags": []
   },
   "outputs": [
    {
     "data": {
      "text/html": [
       "<div>\n",
       "<style scoped>\n",
       "    .dataframe tbody tr th:only-of-type {\n",
       "        vertical-align: middle;\n",
       "    }\n",
       "\n",
       "    .dataframe tbody tr th {\n",
       "        vertical-align: top;\n",
       "    }\n",
       "\n",
       "    .dataframe thead th {\n",
       "        text-align: right;\n",
       "    }\n",
       "</style>\n",
       "<table border=\"1\" class=\"dataframe\">\n",
       "  <thead>\n",
       "    <tr style=\"text-align: right;\">\n",
       "      <th></th>\n",
       "      <th>tconst</th>\n",
       "      <th>runtimeMinutes</th>\n",
       "      <th>genres</th>\n",
       "      <th>averageRating</th>\n",
       "      <th>numVotes</th>\n",
       "      <th>freebase_id</th>\n",
       "      <th>wiki_movie_id</th>\n",
       "      <th>movie_name</th>\n",
       "      <th>movie_release_date</th>\n",
       "      <th>box_office</th>\n",
       "      <th>movie_languages</th>\n",
       "      <th>movie_countries</th>\n",
       "      <th>movie_genres</th>\n",
       "      <th>plot_summary</th>\n",
       "    </tr>\n",
       "  </thead>\n",
       "  <tbody>\n",
       "    <tr>\n",
       "      <th>0</th>\n",
       "      <td>tt0000009</td>\n",
       "      <td>45</td>\n",
       "      <td>[Romance]</td>\n",
       "      <td>5.3</td>\n",
       "      <td>207</td>\n",
       "      <td>/m/02q23xk</td>\n",
       "      <td>10109752</td>\n",
       "      <td>Miss Jerry</td>\n",
       "      <td>1894-10-09</td>\n",
       "      <td>NaN</td>\n",
       "      <td>{'/m/06ppq': 'Silent film'}</td>\n",
       "      <td>{'/m/09c7w0': 'United States of America'}</td>\n",
       "      <td>{'/m/02hmvc': 'Short Film', '/m/06ppq': 'Silen...</td>\n",
       "      <td>After finding out that her father is suffering...</td>\n",
       "    </tr>\n",
       "    <tr>\n",
       "      <th>1</th>\n",
       "      <td>tt0000147</td>\n",
       "      <td>100</td>\n",
       "      <td>[Documentary, News, Sport]</td>\n",
       "      <td>5.3</td>\n",
       "      <td>484</td>\n",
       "      <td>/m/0czdh_n</td>\n",
       "      <td>28703057</td>\n",
       "      <td>The Corbett-Fitzsimmons Fight</td>\n",
       "      <td>1897-05-22</td>\n",
       "      <td>100000.0</td>\n",
       "      <td>{}</td>\n",
       "      <td>{}</td>\n",
       "      <td>{'/m/01z02hx': 'Sports'}</td>\n",
       "      <td>The film no longer exists in its entirety; how...</td>\n",
       "    </tr>\n",
       "    <tr>\n",
       "      <th>2</th>\n",
       "      <td>tt0000574</td>\n",
       "      <td>70</td>\n",
       "      <td>[Action, Adventure, Biography]</td>\n",
       "      <td>6.0</td>\n",
       "      <td>855</td>\n",
       "      <td>/m/0120y4</td>\n",
       "      <td>142995</td>\n",
       "      <td>The Story of the Kelly Gang</td>\n",
       "      <td>1906-12-26</td>\n",
       "      <td>NaN</td>\n",
       "      <td>{'/m/02h40lc': 'English Language'}</td>\n",
       "      <td>{'/m/0chghy': 'Australia'}</td>\n",
       "      <td>{'/m/0lsxr': 'Crime Fiction', '/m/06ppq': 'Sil...</td>\n",
       "      <td>The Story of the Kelly Gangs tone is of sorrow...</td>\n",
       "    </tr>\n",
       "    <tr>\n",
       "      <th>3</th>\n",
       "      <td>tt0000591</td>\n",
       "      <td>90</td>\n",
       "      <td>[Drama]</td>\n",
       "      <td>5.0</td>\n",
       "      <td>21</td>\n",
       "      <td>/m/07s67rr</td>\n",
       "      <td>4849466</td>\n",
       "      <td>L'Enfant prodigue</td>\n",
       "      <td>1907-06-20</td>\n",
       "      <td>NaN</td>\n",
       "      <td>{'/m/064_8sq': 'French Language'}</td>\n",
       "      <td>{'/m/0f8l9c': 'France'}</td>\n",
       "      <td>{'/m/02hmvc': 'Short Film', '/m/06ppq': 'Silen...</td>\n",
       "      <td>None</td>\n",
       "    </tr>\n",
       "    <tr>\n",
       "      <th>4</th>\n",
       "      <td>tt0000679</td>\n",
       "      <td>120</td>\n",
       "      <td>[Adventure, Fantasy]</td>\n",
       "      <td>5.1</td>\n",
       "      <td>68</td>\n",
       "      <td>/m/0fgfyy</td>\n",
       "      <td>5954041</td>\n",
       "      <td>The Fairylogue and Radio-Plays</td>\n",
       "      <td>1908-09-24</td>\n",
       "      <td>NaN</td>\n",
       "      <td>{'/m/02h40lc': 'English Language'}</td>\n",
       "      <td>{'/m/09c7w0': 'United States of America'}</td>\n",
       "      <td>{'/m/06ppq': 'Silent film', '/m/01g6gs': 'Blac...</td>\n",
       "      <td>None</td>\n",
       "    </tr>\n",
       "  </tbody>\n",
       "</table>\n",
       "</div>"
      ],
      "text/plain": [
       "      tconst runtimeMinutes                          genres  averageRating  \\\n",
       "0  tt0000009             45                       [Romance]            5.3   \n",
       "1  tt0000147            100      [Documentary, News, Sport]            5.3   \n",
       "2  tt0000574             70  [Action, Adventure, Biography]            6.0   \n",
       "3  tt0000591             90                         [Drama]            5.0   \n",
       "4  tt0000679            120            [Adventure, Fantasy]            5.1   \n",
       "\n",
       "   numVotes freebase_id  wiki_movie_id                      movie_name  \\\n",
       "0       207  /m/02q23xk       10109752                      Miss Jerry   \n",
       "1       484  /m/0czdh_n       28703057   The Corbett-Fitzsimmons Fight   \n",
       "2       855   /m/0120y4         142995     The Story of the Kelly Gang   \n",
       "3        21  /m/07s67rr        4849466               L'Enfant prodigue   \n",
       "4        68   /m/0fgfyy        5954041  The Fairylogue and Radio-Plays   \n",
       "\n",
       "  movie_release_date  box_office                     movie_languages  \\\n",
       "0         1894-10-09         NaN         {'/m/06ppq': 'Silent film'}   \n",
       "1         1897-05-22    100000.0                                  {}   \n",
       "2         1906-12-26         NaN  {'/m/02h40lc': 'English Language'}   \n",
       "3         1907-06-20         NaN   {'/m/064_8sq': 'French Language'}   \n",
       "4         1908-09-24         NaN  {'/m/02h40lc': 'English Language'}   \n",
       "\n",
       "                             movie_countries  \\\n",
       "0  {'/m/09c7w0': 'United States of America'}   \n",
       "1                                         {}   \n",
       "2                 {'/m/0chghy': 'Australia'}   \n",
       "3                    {'/m/0f8l9c': 'France'}   \n",
       "4  {'/m/09c7w0': 'United States of America'}   \n",
       "\n",
       "                                        movie_genres  \\\n",
       "0  {'/m/02hmvc': 'Short Film', '/m/06ppq': 'Silen...   \n",
       "1                           {'/m/01z02hx': 'Sports'}   \n",
       "2  {'/m/0lsxr': 'Crime Fiction', '/m/06ppq': 'Sil...   \n",
       "3  {'/m/02hmvc': 'Short Film', '/m/06ppq': 'Silen...   \n",
       "4  {'/m/06ppq': 'Silent film', '/m/01g6gs': 'Blac...   \n",
       "\n",
       "                                        plot_summary  \n",
       "0  After finding out that her father is suffering...  \n",
       "1  The film no longer exists in its entirety; how...  \n",
       "2  The Story of the Kelly Gangs tone is of sorrow...  \n",
       "3                                               None  \n",
       "4                                               None  "
      ]
     },
     "execution_count": 3,
     "metadata": {},
     "output_type": "execute_result"
    }
   ],
   "source": [
    "movies.head()"
   ]
  },
  {
   "cell_type": "code",
   "execution_count": 4,
   "metadata": {
    "tags": []
   },
   "outputs": [
    {
     "data": {
      "text/html": [
       "<div>\n",
       "<style scoped>\n",
       "    .dataframe tbody tr th:only-of-type {\n",
       "        vertical-align: middle;\n",
       "    }\n",
       "\n",
       "    .dataframe tbody tr th {\n",
       "        vertical-align: top;\n",
       "    }\n",
       "\n",
       "    .dataframe thead th {\n",
       "        text-align: right;\n",
       "    }\n",
       "</style>\n",
       "<table border=\"1\" class=\"dataframe\">\n",
       "  <thead>\n",
       "    <tr style=\"text-align: right;\">\n",
       "      <th></th>\n",
       "      <th>wiki_movie_id</th>\n",
       "      <th>freebase_id</th>\n",
       "      <th>release_date</th>\n",
       "      <th>character_name</th>\n",
       "      <th>actor_birth</th>\n",
       "      <th>actor_gender</th>\n",
       "      <th>actor_height</th>\n",
       "      <th>actor_ethnicity</th>\n",
       "      <th>actor_name</th>\n",
       "      <th>release_actor_age</th>\n",
       "      <th>freebase_map_id</th>\n",
       "      <th>freebase_character_id</th>\n",
       "      <th>freebase_actor_id</th>\n",
       "    </tr>\n",
       "  </thead>\n",
       "  <tbody>\n",
       "    <tr>\n",
       "      <th>0</th>\n",
       "      <td>975900</td>\n",
       "      <td>/m/03vyhn</td>\n",
       "      <td>2001-08-24</td>\n",
       "      <td>Akooshay</td>\n",
       "      <td>1958-08-26</td>\n",
       "      <td>F</td>\n",
       "      <td>1.620</td>\n",
       "      <td>None</td>\n",
       "      <td>Wanda De Jesus</td>\n",
       "      <td>42.0</td>\n",
       "      <td>/m/0bgchxw</td>\n",
       "      <td>/m/0bgcj3x</td>\n",
       "      <td>/m/03wcfv7</td>\n",
       "    </tr>\n",
       "    <tr>\n",
       "      <th>1</th>\n",
       "      <td>975900</td>\n",
       "      <td>/m/03vyhn</td>\n",
       "      <td>2001-08-24</td>\n",
       "      <td>Lieutenant Melanie Ballard</td>\n",
       "      <td>1974-08-15</td>\n",
       "      <td>F</td>\n",
       "      <td>1.780</td>\n",
       "      <td>/m/044038p</td>\n",
       "      <td>Natasha Henstridge</td>\n",
       "      <td>27.0</td>\n",
       "      <td>/m/0jys3m</td>\n",
       "      <td>/m/0bgchn4</td>\n",
       "      <td>/m/0346l4</td>\n",
       "    </tr>\n",
       "    <tr>\n",
       "      <th>2</th>\n",
       "      <td>975900</td>\n",
       "      <td>/m/03vyhn</td>\n",
       "      <td>2001-08-24</td>\n",
       "      <td>Desolation Williams</td>\n",
       "      <td>1969-06-15</td>\n",
       "      <td>M</td>\n",
       "      <td>1.727</td>\n",
       "      <td>/m/0x67</td>\n",
       "      <td>Ice Cube</td>\n",
       "      <td>32.0</td>\n",
       "      <td>/m/0jys3g</td>\n",
       "      <td>/m/0bgchn_</td>\n",
       "      <td>/m/01vw26l</td>\n",
       "    </tr>\n",
       "    <tr>\n",
       "      <th>3</th>\n",
       "      <td>975900</td>\n",
       "      <td>/m/03vyhn</td>\n",
       "      <td>2001-08-24</td>\n",
       "      <td>Sgt Jericho Butler</td>\n",
       "      <td>1967-09-12</td>\n",
       "      <td>M</td>\n",
       "      <td>1.750</td>\n",
       "      <td>None</td>\n",
       "      <td>Jason Statham</td>\n",
       "      <td>33.0</td>\n",
       "      <td>/m/02vchl6</td>\n",
       "      <td>/m/0bgchnq</td>\n",
       "      <td>/m/034hyc</td>\n",
       "    </tr>\n",
       "    <tr>\n",
       "      <th>4</th>\n",
       "      <td>975900</td>\n",
       "      <td>/m/03vyhn</td>\n",
       "      <td>2001-08-24</td>\n",
       "      <td>Bashira Kincaid</td>\n",
       "      <td>1977-09-25</td>\n",
       "      <td>F</td>\n",
       "      <td>1.650</td>\n",
       "      <td>None</td>\n",
       "      <td>Clea DuVall</td>\n",
       "      <td>23.0</td>\n",
       "      <td>/m/02vbb3r</td>\n",
       "      <td>/m/0bgchp9</td>\n",
       "      <td>/m/01y9xg</td>\n",
       "    </tr>\n",
       "  </tbody>\n",
       "</table>\n",
       "</div>"
      ],
      "text/plain": [
       "   wiki_movie_id freebase_id release_date              character_name  \\\n",
       "0         975900   /m/03vyhn   2001-08-24                    Akooshay   \n",
       "1         975900   /m/03vyhn   2001-08-24  Lieutenant Melanie Ballard   \n",
       "2         975900   /m/03vyhn   2001-08-24         Desolation Williams   \n",
       "3         975900   /m/03vyhn   2001-08-24          Sgt Jericho Butler   \n",
       "4         975900   /m/03vyhn   2001-08-24             Bashira Kincaid   \n",
       "\n",
       "  actor_birth actor_gender  actor_height actor_ethnicity          actor_name  \\\n",
       "0  1958-08-26            F         1.620            None      Wanda De Jesus   \n",
       "1  1974-08-15            F         1.780      /m/044038p  Natasha Henstridge   \n",
       "2  1969-06-15            M         1.727         /m/0x67            Ice Cube   \n",
       "3  1967-09-12            M         1.750            None       Jason Statham   \n",
       "4  1977-09-25            F         1.650            None         Clea DuVall   \n",
       "\n",
       "   release_actor_age freebase_map_id freebase_character_id freebase_actor_id  \n",
       "0               42.0      /m/0bgchxw            /m/0bgcj3x        /m/03wcfv7  \n",
       "1               27.0       /m/0jys3m            /m/0bgchn4         /m/0346l4  \n",
       "2               32.0       /m/0jys3g            /m/0bgchn_        /m/01vw26l  \n",
       "3               33.0      /m/02vchl6            /m/0bgchnq         /m/034hyc  \n",
       "4               23.0      /m/02vbb3r            /m/0bgchp9         /m/01y9xg  "
      ]
     },
     "execution_count": 4,
     "metadata": {},
     "output_type": "execute_result"
    }
   ],
   "source": [
    "actors_characters.head()"
   ]
  },
  {
   "cell_type": "code",
   "execution_count": 17,
   "metadata": {
    "tags": []
   },
   "outputs": [
    {
     "data": {
      "text/html": [
       "<div>\n",
       "<style scoped>\n",
       "    .dataframe tbody tr th:only-of-type {\n",
       "        vertical-align: middle;\n",
       "    }\n",
       "\n",
       "    .dataframe tbody tr th {\n",
       "        vertical-align: top;\n",
       "    }\n",
       "\n",
       "    .dataframe thead th {\n",
       "        text-align: right;\n",
       "    }\n",
       "</style>\n",
       "<table border=\"1\" class=\"dataframe\">\n",
       "  <thead>\n",
       "    <tr style=\"text-align: right;\">\n",
       "      <th></th>\n",
       "      <th>tconst</th>\n",
       "      <th>runtimeMinutes</th>\n",
       "      <th>genres</th>\n",
       "      <th>averageRating</th>\n",
       "      <th>numVotes</th>\n",
       "      <th>freebase_id</th>\n",
       "      <th>wiki_movie_id</th>\n",
       "      <th>movie_name</th>\n",
       "      <th>movie_release_date</th>\n",
       "      <th>box_office</th>\n",
       "      <th>...</th>\n",
       "      <th>character_name</th>\n",
       "      <th>actor_birth</th>\n",
       "      <th>actor_gender</th>\n",
       "      <th>actor_height</th>\n",
       "      <th>actor_ethnicity</th>\n",
       "      <th>actor_name</th>\n",
       "      <th>release_actor_age</th>\n",
       "      <th>freebase_map_id</th>\n",
       "      <th>freebase_character_id</th>\n",
       "      <th>freebase_actor_id</th>\n",
       "    </tr>\n",
       "  </thead>\n",
       "  <tbody>\n",
       "    <tr>\n",
       "      <th>0</th>\n",
       "      <td>tt0000147</td>\n",
       "      <td>100</td>\n",
       "      <td>[Documentary, News, Sport]</td>\n",
       "      <td>5.3</td>\n",
       "      <td>484</td>\n",
       "      <td>/m/0czdh_n</td>\n",
       "      <td>28703057</td>\n",
       "      <td>The Corbett-Fitzsimmons Fight</td>\n",
       "      <td>1897-05-22</td>\n",
       "      <td>100000.0</td>\n",
       "      <td>...</td>\n",
       "      <td>None</td>\n",
       "      <td>1866-09-01</td>\n",
       "      <td>M</td>\n",
       "      <td>NaN</td>\n",
       "      <td>None</td>\n",
       "      <td>James J. Corbett</td>\n",
       "      <td>NaN</td>\n",
       "      <td>/m/0gvztx7</td>\n",
       "      <td>None</td>\n",
       "      <td>/m/037fcq</td>\n",
       "    </tr>\n",
       "    <tr>\n",
       "      <th>1</th>\n",
       "      <td>tt0000574</td>\n",
       "      <td>70</td>\n",
       "      <td>[Action, Adventure, Biography]</td>\n",
       "      <td>6.0</td>\n",
       "      <td>855</td>\n",
       "      <td>/m/0120y4</td>\n",
       "      <td>142995</td>\n",
       "      <td>The Story of the Kelly Gang</td>\n",
       "      <td>1906-12-26</td>\n",
       "      <td>NaN</td>\n",
       "      <td>...</td>\n",
       "      <td>None</td>\n",
       "      <td>None</td>\n",
       "      <td>None</td>\n",
       "      <td>NaN</td>\n",
       "      <td>None</td>\n",
       "      <td>Mr. Marshall</td>\n",
       "      <td>NaN</td>\n",
       "      <td>/m/0bxl509</td>\n",
       "      <td>None</td>\n",
       "      <td>/m/0bxl506</td>\n",
       "    </tr>\n",
       "    <tr>\n",
       "      <th>2</th>\n",
       "      <td>tt0000574</td>\n",
       "      <td>70</td>\n",
       "      <td>[Action, Adventure, Biography]</td>\n",
       "      <td>6.0</td>\n",
       "      <td>855</td>\n",
       "      <td>/m/0120y4</td>\n",
       "      <td>142995</td>\n",
       "      <td>The Story of the Kelly Gang</td>\n",
       "      <td>1906-12-26</td>\n",
       "      <td>NaN</td>\n",
       "      <td>...</td>\n",
       "      <td>None</td>\n",
       "      <td>None</td>\n",
       "      <td>None</td>\n",
       "      <td>NaN</td>\n",
       "      <td>None</td>\n",
       "      <td>Vera Linden</td>\n",
       "      <td>NaN</td>\n",
       "      <td>/m/0bxl501</td>\n",
       "      <td>None</td>\n",
       "      <td>/m/0bxl4__</td>\n",
       "    </tr>\n",
       "    <tr>\n",
       "      <th>3</th>\n",
       "      <td>tt0000574</td>\n",
       "      <td>70</td>\n",
       "      <td>[Action, Adventure, Biography]</td>\n",
       "      <td>6.0</td>\n",
       "      <td>855</td>\n",
       "      <td>/m/0120y4</td>\n",
       "      <td>142995</td>\n",
       "      <td>The Story of the Kelly Gang</td>\n",
       "      <td>1906-12-26</td>\n",
       "      <td>NaN</td>\n",
       "      <td>...</td>\n",
       "      <td>None</td>\n",
       "      <td>None</td>\n",
       "      <td>M</td>\n",
       "      <td>NaN</td>\n",
       "      <td>None</td>\n",
       "      <td>John Tait</td>\n",
       "      <td>NaN</td>\n",
       "      <td>/m/0k6ktp</td>\n",
       "      <td>None</td>\n",
       "      <td>/m/0k6ksg</td>\n",
       "    </tr>\n",
       "    <tr>\n",
       "      <th>4</th>\n",
       "      <td>tt0000574</td>\n",
       "      <td>70</td>\n",
       "      <td>[Action, Adventure, Biography]</td>\n",
       "      <td>6.0</td>\n",
       "      <td>855</td>\n",
       "      <td>/m/0120y4</td>\n",
       "      <td>142995</td>\n",
       "      <td>The Story of the Kelly Gang</td>\n",
       "      <td>1906-12-26</td>\n",
       "      <td>NaN</td>\n",
       "      <td>...</td>\n",
       "      <td>None</td>\n",
       "      <td>None</td>\n",
       "      <td>F</td>\n",
       "      <td>NaN</td>\n",
       "      <td>None</td>\n",
       "      <td>Elizabeth Tait</td>\n",
       "      <td>NaN</td>\n",
       "      <td>/m/0k6ktj</td>\n",
       "      <td>None</td>\n",
       "      <td>/m/0k6ks8</td>\n",
       "    </tr>\n",
       "  </tbody>\n",
       "</table>\n",
       "<p>5 rows × 24 columns</p>\n",
       "</div>"
      ],
      "text/plain": [
       "      tconst runtimeMinutes                          genres  averageRating  \\\n",
       "0  tt0000147            100      [Documentary, News, Sport]            5.3   \n",
       "1  tt0000574             70  [Action, Adventure, Biography]            6.0   \n",
       "2  tt0000574             70  [Action, Adventure, Biography]            6.0   \n",
       "3  tt0000574             70  [Action, Adventure, Biography]            6.0   \n",
       "4  tt0000574             70  [Action, Adventure, Biography]            6.0   \n",
       "\n",
       "   numVotes freebase_id  wiki_movie_id                     movie_name  \\\n",
       "0       484  /m/0czdh_n       28703057  The Corbett-Fitzsimmons Fight   \n",
       "1       855   /m/0120y4         142995    The Story of the Kelly Gang   \n",
       "2       855   /m/0120y4         142995    The Story of the Kelly Gang   \n",
       "3       855   /m/0120y4         142995    The Story of the Kelly Gang   \n",
       "4       855   /m/0120y4         142995    The Story of the Kelly Gang   \n",
       "\n",
       "  movie_release_date  box_office  ... character_name actor_birth actor_gender  \\\n",
       "0         1897-05-22    100000.0  ...           None  1866-09-01            M   \n",
       "1         1906-12-26         NaN  ...           None        None         None   \n",
       "2         1906-12-26         NaN  ...           None        None         None   \n",
       "3         1906-12-26         NaN  ...           None        None            M   \n",
       "4         1906-12-26         NaN  ...           None        None            F   \n",
       "\n",
       "  actor_height actor_ethnicity        actor_name release_actor_age  \\\n",
       "0          NaN            None  James J. Corbett               NaN   \n",
       "1          NaN            None      Mr. Marshall               NaN   \n",
       "2          NaN            None       Vera Linden               NaN   \n",
       "3          NaN            None         John Tait               NaN   \n",
       "4          NaN            None    Elizabeth Tait               NaN   \n",
       "\n",
       "   freebase_map_id freebase_character_id freebase_actor_id  \n",
       "0       /m/0gvztx7                  None         /m/037fcq  \n",
       "1       /m/0bxl509                  None        /m/0bxl506  \n",
       "2       /m/0bxl501                  None        /m/0bxl4__  \n",
       "3        /m/0k6ktp                  None         /m/0k6ksg  \n",
       "4        /m/0k6ktj                  None         /m/0k6ks8  \n",
       "\n",
       "[5 rows x 24 columns]"
      ]
     },
     "execution_count": 17,
     "metadata": {},
     "output_type": "execute_result"
    }
   ],
   "source": [
    "all_data = movies.merge(actors_characters, how=\"inner\", on=[\"freebase_id\", \"wiki_movie_id\"])\n",
    "\n",
    "# First get rid of the genres of CMU (aka movie_genres)\n",
    "all_data = all_data.drop(columns=[\"movie_genres\"])\n",
    "all_data.head()"
   ]
  },
  {
   "cell_type": "code",
   "execution_count": 18,
   "metadata": {
    "tags": []
   },
   "outputs": [
    {
     "data": {
      "text/plain": [
       "Index(['tconst', 'runtimeMinutes', 'genres', 'averageRating', 'numVotes',\n",
       "       'freebase_id', 'wiki_movie_id', 'movie_name', 'movie_release_date',\n",
       "       'box_office', 'movie_languages', 'movie_countries', 'plot_summary',\n",
       "       'release_date', 'character_name', 'actor_birth', 'actor_gender',\n",
       "       'actor_height', 'actor_ethnicity', 'actor_name', 'release_actor_age',\n",
       "       'freebase_map_id', 'freebase_character_id', 'freebase_actor_id'],\n",
       "      dtype='object')"
      ]
     },
     "execution_count": 18,
     "metadata": {},
     "output_type": "execute_result"
    }
   ],
   "source": [
    "all_data.columns"
   ]
  },
  {
   "cell_type": "markdown",
   "metadata": {},
   "source": [
    "## Based on movie genre <a name=\"part_3_movie_based_comfort_zones_genre\"></a>"
   ]
  },
  {
   "cell_type": "code",
   "execution_count": 24,
   "metadata": {
    "tags": []
   },
   "outputs": [],
   "source": [
    "# Get rid of the freebase_id genre and create an other column simply containing a list of genres\n",
    "movie_genre_per_actor = all_data[[\"freebase_actor_id\", \"actor_name\", \"genres\"]].copy()\n",
    "movie_genre_per_actor = movie_genre_per_actor.rename(columns={\"genres\" : \"genres_flattened\"})\n",
    "\n",
    "# Group data by actor and aggregate genres by simply putting them in a list\n",
    "movie_genre_per_actor = movie_genre_per_actor.groupby([\"freebase_actor_id\", \"actor_name\"]).agg(list).reset_index()\n",
    "movie_genre_per_actor[\"total_movies\"] = movie_genre_per_actor[\"genres_flattened\"].apply(len)\n",
    "\n",
    "# Flatten list of lists\n",
    "movie_genre_per_actor[\"genres_flattened\"] = movie_genre_per_actor[\"genres_flattened\"].apply(lambda ls: [item for row in ls for item in row])\n",
    "\n",
    "# Transform list into dictionary of frequencies\n",
    "movie_genre_per_actor[\"genres_freq\"] = movie_genre_per_actor[\"genres_flattened\"].apply(lambda ls: dict(sorted(dict(Counter(ls)).items(), key=lambda item: item[1], reverse=True)))\n",
    "movie_genre_per_actor = movie_genre_per_actor.drop(\"genres_flattened\", axis=1)"
   ]
  },
  {
   "cell_type": "code",
   "execution_count": 25,
   "metadata": {
    "tags": []
   },
   "outputs": [
    {
     "data": {
      "text/html": [
       "<div>\n",
       "<style scoped>\n",
       "    .dataframe tbody tr th:only-of-type {\n",
       "        vertical-align: middle;\n",
       "    }\n",
       "\n",
       "    .dataframe tbody tr th {\n",
       "        vertical-align: top;\n",
       "    }\n",
       "\n",
       "    .dataframe thead th {\n",
       "        text-align: right;\n",
       "    }\n",
       "</style>\n",
       "<table border=\"1\" class=\"dataframe\">\n",
       "  <thead>\n",
       "    <tr style=\"text-align: right;\">\n",
       "      <th></th>\n",
       "      <th>freebase_actor_id</th>\n",
       "      <th>actor_name</th>\n",
       "      <th>total_movies</th>\n",
       "      <th>genres_freq</th>\n",
       "    </tr>\n",
       "  </thead>\n",
       "  <tbody>\n",
       "    <tr>\n",
       "      <th>0</th>\n",
       "      <td>/m/010p3</td>\n",
       "      <td>Adam Carolla</td>\n",
       "      <td>8</td>\n",
       "      <td>{'Comedy': 8, 'Romance': 6, 'Drama': 2, 'Sport...</td>\n",
       "    </tr>\n",
       "    <tr>\n",
       "      <th>1</th>\n",
       "      <td>/m/010q36</td>\n",
       "      <td>Fred Rogers</td>\n",
       "      <td>1</td>\n",
       "      <td>{'Comedy': 1, 'Family': 1, 'Fantasy': 1}</td>\n",
       "    </tr>\n",
       "    <tr>\n",
       "      <th>2</th>\n",
       "      <td>/m/010xjr</td>\n",
       "      <td>Richard Harris</td>\n",
       "      <td>50</td>\n",
       "      <td>{'Drama': 40, 'Adventure': 22, 'Action': 10, '...</td>\n",
       "    </tr>\n",
       "    <tr>\n",
       "      <th>3</th>\n",
       "      <td>/m/0112yl</td>\n",
       "      <td>Toshiro Mifune</td>\n",
       "      <td>40</td>\n",
       "      <td>{'Drama': 35, 'Action': 18, 'Adventure': 9, 'C...</td>\n",
       "    </tr>\n",
       "    <tr>\n",
       "      <th>4</th>\n",
       "      <td>/m/011_24</td>\n",
       "      <td>Les Brown</td>\n",
       "      <td>2</td>\n",
       "      <td>{'Comedy': 2, 'Romance': 2, 'Musical': 1, 'Sci...</td>\n",
       "    </tr>\n",
       "  </tbody>\n",
       "</table>\n",
       "</div>"
      ],
      "text/plain": [
       "  freebase_actor_id      actor_name  total_movies  \\\n",
       "0          /m/010p3    Adam Carolla             8   \n",
       "1         /m/010q36     Fred Rogers             1   \n",
       "2         /m/010xjr  Richard Harris            50   \n",
       "3         /m/0112yl  Toshiro Mifune            40   \n",
       "4         /m/011_24       Les Brown             2   \n",
       "\n",
       "                                         genres_freq  \n",
       "0  {'Comedy': 8, 'Romance': 6, 'Drama': 2, 'Sport...  \n",
       "1           {'Comedy': 1, 'Family': 1, 'Fantasy': 1}  \n",
       "2  {'Drama': 40, 'Adventure': 22, 'Action': 10, '...  \n",
       "3  {'Drama': 35, 'Action': 18, 'Adventure': 9, 'C...  \n",
       "4  {'Comedy': 2, 'Romance': 2, 'Musical': 1, 'Sci...  "
      ]
     },
     "execution_count": 25,
     "metadata": {},
     "output_type": "execute_result"
    }
   ],
   "source": [
    "movie_genre_per_actor.head()"
   ]
  },
  {
   "cell_type": "markdown",
   "metadata": {},
   "source": [
    "### Distribution of some actors"
   ]
  },
  {
   "cell_type": "code",
   "execution_count": 26,
   "metadata": {
    "tags": []
   },
   "outputs": [
    {
     "data": {
      "image/png": "[encoded data removed]",
      "text/plain": [
       "<Figure size 864x288 with 1 Axes>"
      ]
     },
     "metadata": {
      "needs_background": "light"
     },
     "output_type": "display_data"
    }
   ],
   "source": [
    "# We check the most active actor distribution, i.e. the one who played the most total movies\n",
    "top_actors = movie_genre_per_actor.sort_values(\"total_movies\", ascending=False).copy().head()\n",
    "actor_1 = top_actors[\"genres_freq\"].iloc[0]\n",
    "\n",
    "plt.figure(figsize=(12, 4))\n",
    "plt.title('Counts of movie genres for most active actor')\n",
    "sns.barplot(x=list(actor_1.keys()), y=list(actor_1.values()))\n",
    "plt.ylabel(\"Frequency\")\n",
    "plt.xticks(rotation=90)\n",
    "plt.show()"
   ]
  },
  {
   "cell_type": "code",
   "execution_count": 27,
   "metadata": {
    "tags": []
   },
   "outputs": [
    {
     "data": {
      "image/png": "[encoded data removed]",
      "text/plain": [
       "<Figure size 1152x288 with 1 Axes>"
      ]
     },
     "metadata": {
      "needs_background": "light"
     },
     "output_type": "display_data"
    }
   ],
   "source": [
    "# We check the second most active actor distribution\n",
    "actor_2 = top_actors[\"genres_freq\"].iloc[1]\n",
    "\n",
    "plt.figure(figsize=(16, 4))\n",
    "plt.title('Counts of movie genres for second most active actor')\n",
    "sns.barplot(x=list(actor_2.keys()), y=list(actor_2.values()))\n",
    "plt.ylabel(\"Frequency\")\n",
    "plt.xticks(rotation=90)\n",
    "plt.show()"
   ]
  },
  {
   "cell_type": "markdown",
   "metadata": {},
   "source": [
    "### Create genre frequency vector <a name=\"part_3_genre_freq_vector\"></a>"
   ]
  },
  {
   "cell_type": "code",
   "execution_count": 29,
   "metadata": {
    "tags": []
   },
   "outputs": [],
   "source": [
    "# Compute the set of movie genres\n",
    "movie_genres = all_data[\"genres\"]\n",
    "movie_genres_unique = set()\n",
    "for genres in movie_genres:\n",
    "    for genre in genres:\n",
    "        movie_genres_unique.add(genre)\n",
    "        \n",
    "# Unique movie genres sorted alphabetically\n",
    "movie_genres_unique = sorted(list(movie_genres_unique))\n",
    "\n",
    "# Save genres for later interpretation of vectors\n",
    "with open(os.path.join(SAVE_PATH, \"movie_genres.json\"), \"w\") as outfile:\n",
    "    json.dump(movie_genres_unique, outfile)"
   ]
  },
  {
   "cell_type": "code",
   "execution_count": 30,
   "metadata": {
    "tags": []
   },
   "outputs": [],
   "source": [
    "def create_movie_genre_frequency_vector(genres_dict):\n",
    "    \"\"\"\n",
    "    Transforms the dictionary of movie genre counts into a {0,1} vector of frequencies\n",
    "\n",
    "    Parameters\n",
    "    ----------\n",
    "    genres_dict : dictionary\n",
    "        keys are movie genres and values are counts\n",
    "        \n",
    "    Returns\n",
    "    -------\n",
    "    list\n",
    "        The frequency vector\n",
    "    \"\"\"\n",
    "    # Initialize\n",
    "    freq_dict = {}\n",
    "    for genre in movie_genres_unique:\n",
    "        freq_dict[genre] = 0\n",
    "    \n",
    "    # Fill our dictionary\n",
    "    tot_count = 0\n",
    "    for genre, freq in genres_dict.items():\n",
    "        tot_count += freq\n",
    "        freq_dict[genre] += freq\n",
    "    \n",
    "    # Compute frequencies\n",
    "    if tot_count != 0:\n",
    "        for genre, freq in freq_dict.items():\n",
    "            freq_dict[genre] /= tot_count\n",
    "    \n",
    "    return list(freq_dict.values())"
   ]
  },
  {
   "cell_type": "code",
   "execution_count": 31,
   "metadata": {
    "tags": []
   },
   "outputs": [],
   "source": [
    "movie_genre_freq_vector = movie_genre_per_actor.copy()\n",
    "movie_genre_freq_vector[\"genres_freq\"] = movie_genre_per_actor[\"genres_freq\"].apply(create_movie_genre_frequency_vector)\n",
    "movie_genre_freq_vector = movie_genre_freq_vector.drop([\"actor_name\"], axis=1)"
   ]
  },
  {
   "cell_type": "code",
   "execution_count": 32,
   "metadata": {
    "tags": []
   },
   "outputs": [
    {
     "data": {
      "text/html": [
       "<div>\n",
       "<style scoped>\n",
       "    .dataframe tbody tr th:only-of-type {\n",
       "        vertical-align: middle;\n",
       "    }\n",
       "\n",
       "    .dataframe tbody tr th {\n",
       "        vertical-align: top;\n",
       "    }\n",
       "\n",
       "    .dataframe thead th {\n",
       "        text-align: right;\n",
       "    }\n",
       "</style>\n",
       "<table border=\"1\" class=\"dataframe\">\n",
       "  <thead>\n",
       "    <tr style=\"text-align: right;\">\n",
       "      <th></th>\n",
       "      <th>freebase_actor_id</th>\n",
       "      <th>total_movies</th>\n",
       "      <th>genres_freq</th>\n",
       "    </tr>\n",
       "  </thead>\n",
       "  <tbody>\n",
       "    <tr>\n",
       "      <th>0</th>\n",
       "      <td>/m/010p3</td>\n",
       "      <td>8</td>\n",
       "      <td>[0.047619047619047616, 0.0, 0.0476190476190476...</td>\n",
       "    </tr>\n",
       "    <tr>\n",
       "      <th>1</th>\n",
       "      <td>/m/010q36</td>\n",
       "      <td>1</td>\n",
       "      <td>[0.0, 0.0, 0.0, 0.0, 0.0, 0.3333333333333333, ...</td>\n",
       "    </tr>\n",
       "    <tr>\n",
       "      <th>2</th>\n",
       "      <td>/m/010xjr</td>\n",
       "      <td>50</td>\n",
       "      <td>[0.07936507936507936, 0.0, 0.1746031746031746,...</td>\n",
       "    </tr>\n",
       "    <tr>\n",
       "      <th>3</th>\n",
       "      <td>/m/0112yl</td>\n",
       "      <td>40</td>\n",
       "      <td>[0.1978021978021978, 0.0, 0.0989010989010989, ...</td>\n",
       "    </tr>\n",
       "    <tr>\n",
       "      <th>4</th>\n",
       "      <td>/m/011_24</td>\n",
       "      <td>2</td>\n",
       "      <td>[0.0, 0.0, 0.0, 0.0, 0.0, 0.3333333333333333, ...</td>\n",
       "    </tr>\n",
       "  </tbody>\n",
       "</table>\n",
       "</div>"
      ],
      "text/plain": [
       "  freebase_actor_id  total_movies  \\\n",
       "0          /m/010p3             8   \n",
       "1         /m/010q36             1   \n",
       "2         /m/010xjr            50   \n",
       "3         /m/0112yl            40   \n",
       "4         /m/011_24             2   \n",
       "\n",
       "                                         genres_freq  \n",
       "0  [0.047619047619047616, 0.0, 0.0476190476190476...  \n",
       "1  [0.0, 0.0, 0.0, 0.0, 0.0, 0.3333333333333333, ...  \n",
       "2  [0.07936507936507936, 0.0, 0.1746031746031746,...  \n",
       "3  [0.1978021978021978, 0.0, 0.0989010989010989, ...  \n",
       "4  [0.0, 0.0, 0.0, 0.0, 0.0, 0.3333333333333333, ...  "
      ]
     },
     "execution_count": 32,
     "metadata": {},
     "output_type": "execute_result"
    }
   ],
   "source": [
    "movie_genre_freq_vector.head()"
   ]
  },
  {
   "cell_type": "markdown",
   "metadata": {},
   "source": [
    "### Merge genre frequency with actors and characters <a name=\"part_3_merge_characters_genre_freq_vector\"></a>"
   ]
  },
  {
   "cell_type": "code",
   "execution_count": 33,
   "metadata": {
    "tags": []
   },
   "outputs": [],
   "source": [
    "actors_characters_personas_genres = actors_characters_personas.merge(movie_genre_freq_vector, on=\"freebase_actor_id\", how=\"inner\").copy()"
   ]
  },
  {
   "cell_type": "markdown",
   "metadata": {},
   "source": [
    "### Saving <a name=\"part_3_saving\"></a>"
   ]
  },
  {
   "cell_type": "code",
   "execution_count": 34,
   "metadata": {
    "tags": []
   },
   "outputs": [
    {
     "data": {
      "text/html": [
       "<div>\n",
       "<style scoped>\n",
       "    .dataframe tbody tr th:only-of-type {\n",
       "        vertical-align: middle;\n",
       "    }\n",
       "\n",
       "    .dataframe tbody tr th {\n",
       "        vertical-align: top;\n",
       "    }\n",
       "\n",
       "    .dataframe thead th {\n",
       "        text-align: right;\n",
       "    }\n",
       "</style>\n",
       "<table border=\"1\" class=\"dataframe\">\n",
       "  <thead>\n",
       "    <tr style=\"text-align: right;\">\n",
       "      <th></th>\n",
       "      <th>freebase_map_id</th>\n",
       "      <th>movie_name</th>\n",
       "      <th>token_occurences</th>\n",
       "      <th>estimated_trope</th>\n",
       "      <th>trope_distrib</th>\n",
       "      <th>wiki_movie_id</th>\n",
       "      <th>freebase_id</th>\n",
       "      <th>release_date</th>\n",
       "      <th>character_name</th>\n",
       "      <th>actor_birth</th>\n",
       "      <th>actor_gender</th>\n",
       "      <th>actor_height</th>\n",
       "      <th>actor_ethnicity</th>\n",
       "      <th>actor_name</th>\n",
       "      <th>release_actor_age</th>\n",
       "      <th>freebase_character_id</th>\n",
       "      <th>freebase_actor_id</th>\n",
       "      <th>total_movies</th>\n",
       "      <th>genres_freq</th>\n",
       "    </tr>\n",
       "  </thead>\n",
       "  <tbody>\n",
       "    <tr>\n",
       "      <th>0</th>\n",
       "      <td>/m/02vcl4m</td>\n",
       "      <td>Halls of Montezuma</td>\n",
       "      <td>5</td>\n",
       "      <td>35</td>\n",
       "      <td>[0.0, 0.0, 0.0, 0.0, 0.0, 0.0, 0.0, 0.00999999...</td>\n",
       "      <td>10004330</td>\n",
       "      <td>/m/02pzjvb</td>\n",
       "      <td>1950</td>\n",
       "      <td>Pigeon Lane</td>\n",
       "      <td>1919-02-18</td>\n",
       "      <td>M</td>\n",
       "      <td>1.93</td>\n",
       "      <td>/m/0ffjvd</td>\n",
       "      <td>Jack Palance</td>\n",
       "      <td>30.0</td>\n",
       "      <td>/m/0h5cz0m</td>\n",
       "      <td>/m/02t_w8</td>\n",
       "      <td>62</td>\n",
       "      <td>[0.0958904109589041, 0.0, 0.0684931506849315, ...</td>\n",
       "    </tr>\n",
       "    <tr>\n",
       "      <th>1</th>\n",
       "      <td>/m/0jwnks</td>\n",
       "      <td>Contempt</td>\n",
       "      <td>6</td>\n",
       "      <td>2</td>\n",
       "      <td>[0.0, 0.0, 0.7699999809, 0.0, 0.0, 0.0, 0.0199...</td>\n",
       "      <td>1109777</td>\n",
       "      <td>/m/046t_0</td>\n",
       "      <td>1963</td>\n",
       "      <td>Jeremy Prokosch</td>\n",
       "      <td>1919-02-18</td>\n",
       "      <td>M</td>\n",
       "      <td>1.93</td>\n",
       "      <td>/m/0ffjvd</td>\n",
       "      <td>Jack Palance</td>\n",
       "      <td>43.0</td>\n",
       "      <td>/m/0by49h9</td>\n",
       "      <td>/m/02t_w8</td>\n",
       "      <td>62</td>\n",
       "      <td>[0.0958904109589041, 0.0, 0.0684931506849315, ...</td>\n",
       "    </tr>\n",
       "    <tr>\n",
       "      <th>2</th>\n",
       "      <td>/m/03jrzwk</td>\n",
       "      <td>Monte Walsh</td>\n",
       "      <td>5</td>\n",
       "      <td>30</td>\n",
       "      <td>[0.0, 0.0, 0.019999999600000002, 0.2899999917,...</td>\n",
       "      <td>12122757</td>\n",
       "      <td>/m/02vqjnv</td>\n",
       "      <td>2003-01-17</td>\n",
       "      <td>Chet Rollins</td>\n",
       "      <td>1919-02-18</td>\n",
       "      <td>M</td>\n",
       "      <td>1.93</td>\n",
       "      <td>/m/0ffjvd</td>\n",
       "      <td>Jack Palance</td>\n",
       "      <td>83.0</td>\n",
       "      <td>/m/0h5cz5s</td>\n",
       "      <td>/m/02t_w8</td>\n",
       "      <td>62</td>\n",
       "      <td>[0.0958904109589041, 0.0, 0.0684931506849315, ...</td>\n",
       "    </tr>\n",
       "    <tr>\n",
       "      <th>3</th>\n",
       "      <td>/m/03jrt6y</td>\n",
       "      <td>The Professionals</td>\n",
       "      <td>15</td>\n",
       "      <td>35</td>\n",
       "      <td>[0.0, 0.0, 0.0, 0.0, 0.0, 0.0, 0.0, 0.0, 0.0, ...</td>\n",
       "      <td>1443103</td>\n",
       "      <td>/m/051_vd</td>\n",
       "      <td>1966-11-02</td>\n",
       "      <td>Jesus Raza</td>\n",
       "      <td>1919-02-18</td>\n",
       "      <td>M</td>\n",
       "      <td>1.93</td>\n",
       "      <td>/m/0ffjvd</td>\n",
       "      <td>Jack Palance</td>\n",
       "      <td>47.0</td>\n",
       "      <td>/m/0h5cz2s</td>\n",
       "      <td>/m/02t_w8</td>\n",
       "      <td>62</td>\n",
       "      <td>[0.0958904109589041, 0.0, 0.0684931506849315, ...</td>\n",
       "    </tr>\n",
       "    <tr>\n",
       "      <th>4</th>\n",
       "      <td>/m/0k1qv6</td>\n",
       "      <td>Panic in the Streets</td>\n",
       "      <td>20</td>\n",
       "      <td>41</td>\n",
       "      <td>[0.0, 0.0, 0.0, 0.0, 0.0, 0.0, 0.0, 0.0, 0.0, ...</td>\n",
       "      <td>1611941</td>\n",
       "      <td>/m/05glbt</td>\n",
       "      <td>1950</td>\n",
       "      <td>Blackie</td>\n",
       "      <td>1919-02-18</td>\n",
       "      <td>M</td>\n",
       "      <td>1.93</td>\n",
       "      <td>/m/0ffjvd</td>\n",
       "      <td>Jack Palance</td>\n",
       "      <td>30.0</td>\n",
       "      <td>/m/0h5cz6_</td>\n",
       "      <td>/m/02t_w8</td>\n",
       "      <td>62</td>\n",
       "      <td>[0.0958904109589041, 0.0, 0.0684931506849315, ...</td>\n",
       "    </tr>\n",
       "  </tbody>\n",
       "</table>\n",
       "</div>"
      ],
      "text/plain": [
       "  freebase_map_id            movie_name  token_occurences  estimated_trope  \\\n",
       "0      /m/02vcl4m    Halls of Montezuma                 5               35   \n",
       "1       /m/0jwnks              Contempt                 6                2   \n",
       "2      /m/03jrzwk           Monte Walsh                 5               30   \n",
       "3      /m/03jrt6y     The Professionals                15               35   \n",
       "4       /m/0k1qv6  Panic in the Streets                20               41   \n",
       "\n",
       "                                       trope_distrib  wiki_movie_id  \\\n",
       "0  [0.0, 0.0, 0.0, 0.0, 0.0, 0.0, 0.0, 0.00999999...       10004330   \n",
       "1  [0.0, 0.0, 0.7699999809, 0.0, 0.0, 0.0, 0.0199...        1109777   \n",
       "2  [0.0, 0.0, 0.019999999600000002, 0.2899999917,...       12122757   \n",
       "3  [0.0, 0.0, 0.0, 0.0, 0.0, 0.0, 0.0, 0.0, 0.0, ...        1443103   \n",
       "4  [0.0, 0.0, 0.0, 0.0, 0.0, 0.0, 0.0, 0.0, 0.0, ...        1611941   \n",
       "\n",
       "  freebase_id release_date   character_name actor_birth actor_gender  \\\n",
       "0  /m/02pzjvb         1950      Pigeon Lane  1919-02-18            M   \n",
       "1   /m/046t_0         1963  Jeremy Prokosch  1919-02-18            M   \n",
       "2  /m/02vqjnv   2003-01-17     Chet Rollins  1919-02-18            M   \n",
       "3   /m/051_vd   1966-11-02       Jesus Raza  1919-02-18            M   \n",
       "4   /m/05glbt         1950          Blackie  1919-02-18            M   \n",
       "\n",
       "   actor_height actor_ethnicity    actor_name  release_actor_age  \\\n",
       "0          1.93       /m/0ffjvd  Jack Palance               30.0   \n",
       "1          1.93       /m/0ffjvd  Jack Palance               43.0   \n",
       "2          1.93       /m/0ffjvd  Jack Palance               83.0   \n",
       "3          1.93       /m/0ffjvd  Jack Palance               47.0   \n",
       "4          1.93       /m/0ffjvd  Jack Palance               30.0   \n",
       "\n",
       "  freebase_character_id freebase_actor_id  total_movies  \\\n",
       "0            /m/0h5cz0m         /m/02t_w8            62   \n",
       "1            /m/0by49h9         /m/02t_w8            62   \n",
       "2            /m/0h5cz5s         /m/02t_w8            62   \n",
       "3            /m/0h5cz2s         /m/02t_w8            62   \n",
       "4            /m/0h5cz6_         /m/02t_w8            62   \n",
       "\n",
       "                                         genres_freq  \n",
       "0  [0.0958904109589041, 0.0, 0.0684931506849315, ...  \n",
       "1  [0.0958904109589041, 0.0, 0.0684931506849315, ...  \n",
       "2  [0.0958904109589041, 0.0, 0.0684931506849315, ...  \n",
       "3  [0.0958904109589041, 0.0, 0.0684931506849315, ...  \n",
       "4  [0.0958904109589041, 0.0, 0.0684931506849315, ...  "
      ]
     },
     "execution_count": 34,
     "metadata": {},
     "output_type": "execute_result"
    }
   ],
   "source": [
    "# tvtropes_per_actor.to_json(os.path.join(SAVE_PATH, \"tvtropes_per_actor.json\"), orient='records')\n",
    "actors_characters_personas_genres.to_json(os.path.join(SAVE_PATH, \"characters_personas_genres.json\"), orient='records')\n",
    "actors_characters_personas_genres.head()"
   ]
  },
  {
   "cell_type": "code",
   "execution_count": 36,
   "metadata": {
    "tags": []
   },
   "outputs": [],
   "source": [
    "df = all_data[[\"freebase_actor_id\", \"actor_name\", \"genres\"]]\n",
    "df.to_json(os.path.join(SAVE_PATH, \"actor_movies_with_genre.json\"), orient=\"records\")"
   ]
  },
  {
   "cell_type": "markdown",
   "metadata": {},
   "source": [
    "## Summary of results for part III <a name=\"part_3_summary\"></a>\n",
    "We have enriched our characters with tropes in part II and genre frequencies in part III. We have setup our two main dataframes for further analysis `movies` and `actors_characters_personas_genres`."
   ]
  },
  {
   "cell_type": "code",
   "execution_count": 37,
   "metadata": {
    "tags": []
   },
   "outputs": [
    {
     "data": {
      "text/html": [
       "<div>\n",
       "<style scoped>\n",
       "    .dataframe tbody tr th:only-of-type {\n",
       "        vertical-align: middle;\n",
       "    }\n",
       "\n",
       "    .dataframe tbody tr th {\n",
       "        vertical-align: top;\n",
       "    }\n",
       "\n",
       "    .dataframe thead th {\n",
       "        text-align: right;\n",
       "    }\n",
       "</style>\n",
       "<table border=\"1\" class=\"dataframe\">\n",
       "  <thead>\n",
       "    <tr style=\"text-align: right;\">\n",
       "      <th></th>\n",
       "      <th>tconst</th>\n",
       "      <th>runtimeMinutes</th>\n",
       "      <th>genres</th>\n",
       "      <th>averageRating</th>\n",
       "      <th>numVotes</th>\n",
       "      <th>freebase_id</th>\n",
       "      <th>wiki_movie_id</th>\n",
       "      <th>movie_name</th>\n",
       "      <th>movie_release_date</th>\n",
       "      <th>box_office</th>\n",
       "      <th>movie_languages</th>\n",
       "      <th>movie_countries</th>\n",
       "      <th>movie_genres</th>\n",
       "      <th>plot_summary</th>\n",
       "    </tr>\n",
       "  </thead>\n",
       "  <tbody>\n",
       "    <tr>\n",
       "      <th>0</th>\n",
       "      <td>tt0000009</td>\n",
       "      <td>45</td>\n",
       "      <td>[Romance]</td>\n",
       "      <td>5.3</td>\n",
       "      <td>207</td>\n",
       "      <td>/m/02q23xk</td>\n",
       "      <td>10109752</td>\n",
       "      <td>Miss Jerry</td>\n",
       "      <td>1894-10-09</td>\n",
       "      <td>NaN</td>\n",
       "      <td>{'/m/06ppq': 'Silent film'}</td>\n",
       "      <td>{'/m/09c7w0': 'United States of America'}</td>\n",
       "      <td>{'/m/02hmvc': 'Short Film', '/m/06ppq': 'Silen...</td>\n",
       "      <td>After finding out that her father is suffering...</td>\n",
       "    </tr>\n",
       "    <tr>\n",
       "      <th>1</th>\n",
       "      <td>tt0000147</td>\n",
       "      <td>100</td>\n",
       "      <td>[Documentary, News, Sport]</td>\n",
       "      <td>5.3</td>\n",
       "      <td>484</td>\n",
       "      <td>/m/0czdh_n</td>\n",
       "      <td>28703057</td>\n",
       "      <td>The Corbett-Fitzsimmons Fight</td>\n",
       "      <td>1897-05-22</td>\n",
       "      <td>100000.0</td>\n",
       "      <td>{}</td>\n",
       "      <td>{}</td>\n",
       "      <td>{'/m/01z02hx': 'Sports'}</td>\n",
       "      <td>The film no longer exists in its entirety; how...</td>\n",
       "    </tr>\n",
       "    <tr>\n",
       "      <th>2</th>\n",
       "      <td>tt0000574</td>\n",
       "      <td>70</td>\n",
       "      <td>[Action, Adventure, Biography]</td>\n",
       "      <td>6.0</td>\n",
       "      <td>855</td>\n",
       "      <td>/m/0120y4</td>\n",
       "      <td>142995</td>\n",
       "      <td>The Story of the Kelly Gang</td>\n",
       "      <td>1906-12-26</td>\n",
       "      <td>NaN</td>\n",
       "      <td>{'/m/02h40lc': 'English Language'}</td>\n",
       "      <td>{'/m/0chghy': 'Australia'}</td>\n",
       "      <td>{'/m/0lsxr': 'Crime Fiction', '/m/06ppq': 'Sil...</td>\n",
       "      <td>The Story of the Kelly Gangs tone is of sorrow...</td>\n",
       "    </tr>\n",
       "    <tr>\n",
       "      <th>3</th>\n",
       "      <td>tt0000591</td>\n",
       "      <td>90</td>\n",
       "      <td>[Drama]</td>\n",
       "      <td>5.0</td>\n",
       "      <td>21</td>\n",
       "      <td>/m/07s67rr</td>\n",
       "      <td>4849466</td>\n",
       "      <td>L'Enfant prodigue</td>\n",
       "      <td>1907-06-20</td>\n",
       "      <td>NaN</td>\n",
       "      <td>{'/m/064_8sq': 'French Language'}</td>\n",
       "      <td>{'/m/0f8l9c': 'France'}</td>\n",
       "      <td>{'/m/02hmvc': 'Short Film', '/m/06ppq': 'Silen...</td>\n",
       "      <td>None</td>\n",
       "    </tr>\n",
       "    <tr>\n",
       "      <th>4</th>\n",
       "      <td>tt0000679</td>\n",
       "      <td>120</td>\n",
       "      <td>[Adventure, Fantasy]</td>\n",
       "      <td>5.1</td>\n",
       "      <td>68</td>\n",
       "      <td>/m/0fgfyy</td>\n",
       "      <td>5954041</td>\n",
       "      <td>The Fairylogue and Radio-Plays</td>\n",
       "      <td>1908-09-24</td>\n",
       "      <td>NaN</td>\n",
       "      <td>{'/m/02h40lc': 'English Language'}</td>\n",
       "      <td>{'/m/09c7w0': 'United States of America'}</td>\n",
       "      <td>{'/m/06ppq': 'Silent film', '/m/01g6gs': 'Blac...</td>\n",
       "      <td>None</td>\n",
       "    </tr>\n",
       "  </tbody>\n",
       "</table>\n",
       "</div>"
      ],
      "text/plain": [
       "      tconst runtimeMinutes                          genres  averageRating  \\\n",
       "0  tt0000009             45                       [Romance]            5.3   \n",
       "1  tt0000147            100      [Documentary, News, Sport]            5.3   \n",
       "2  tt0000574             70  [Action, Adventure, Biography]            6.0   \n",
       "3  tt0000591             90                         [Drama]            5.0   \n",
       "4  tt0000679            120            [Adventure, Fantasy]            5.1   \n",
       "\n",
       "   numVotes freebase_id  wiki_movie_id                      movie_name  \\\n",
       "0       207  /m/02q23xk       10109752                      Miss Jerry   \n",
       "1       484  /m/0czdh_n       28703057   The Corbett-Fitzsimmons Fight   \n",
       "2       855   /m/0120y4         142995     The Story of the Kelly Gang   \n",
       "3        21  /m/07s67rr        4849466               L'Enfant prodigue   \n",
       "4        68   /m/0fgfyy        5954041  The Fairylogue and Radio-Plays   \n",
       "\n",
       "  movie_release_date  box_office                     movie_languages  \\\n",
       "0         1894-10-09         NaN         {'/m/06ppq': 'Silent film'}   \n",
       "1         1897-05-22    100000.0                                  {}   \n",
       "2         1906-12-26         NaN  {'/m/02h40lc': 'English Language'}   \n",
       "3         1907-06-20         NaN   {'/m/064_8sq': 'French Language'}   \n",
       "4         1908-09-24         NaN  {'/m/02h40lc': 'English Language'}   \n",
       "\n",
       "                             movie_countries  \\\n",
       "0  {'/m/09c7w0': 'United States of America'}   \n",
       "1                                         {}   \n",
       "2                 {'/m/0chghy': 'Australia'}   \n",
       "3                    {'/m/0f8l9c': 'France'}   \n",
       "4  {'/m/09c7w0': 'United States of America'}   \n",
       "\n",
       "                                        movie_genres  \\\n",
       "0  {'/m/02hmvc': 'Short Film', '/m/06ppq': 'Silen...   \n",
       "1                           {'/m/01z02hx': 'Sports'}   \n",
       "2  {'/m/0lsxr': 'Crime Fiction', '/m/06ppq': 'Sil...   \n",
       "3  {'/m/02hmvc': 'Short Film', '/m/06ppq': 'Silen...   \n",
       "4  {'/m/06ppq': 'Silent film', '/m/01g6gs': 'Blac...   \n",
       "\n",
       "                                        plot_summary  \n",
       "0  After finding out that her father is suffering...  \n",
       "1  The film no longer exists in its entirety; how...  \n",
       "2  The Story of the Kelly Gangs tone is of sorrow...  \n",
       "3                                               None  \n",
       "4                                               None  "
      ]
     },
     "execution_count": 37,
     "metadata": {},
     "output_type": "execute_result"
    }
   ],
   "source": [
    "movies.head()"
   ]
  },
  {
   "cell_type": "code",
   "execution_count": 38,
   "metadata": {
    "tags": []
   },
   "outputs": [
    {
     "data": {
      "text/html": [
       "<div>\n",
       "<style scoped>\n",
       "    .dataframe tbody tr th:only-of-type {\n",
       "        vertical-align: middle;\n",
       "    }\n",
       "\n",
       "    .dataframe tbody tr th {\n",
       "        vertical-align: top;\n",
       "    }\n",
       "\n",
       "    .dataframe thead th {\n",
       "        text-align: right;\n",
       "    }\n",
       "</style>\n",
       "<table border=\"1\" class=\"dataframe\">\n",
       "  <thead>\n",
       "    <tr style=\"text-align: right;\">\n",
       "      <th></th>\n",
       "      <th>freebase_map_id</th>\n",
       "      <th>movie_name</th>\n",
       "      <th>token_occurences</th>\n",
       "      <th>estimated_trope</th>\n",
       "      <th>trope_distrib</th>\n",
       "      <th>wiki_movie_id</th>\n",
       "      <th>freebase_id</th>\n",
       "      <th>release_date</th>\n",
       "      <th>character_name</th>\n",
       "      <th>actor_birth</th>\n",
       "      <th>actor_gender</th>\n",
       "      <th>actor_height</th>\n",
       "      <th>actor_ethnicity</th>\n",
       "      <th>actor_name</th>\n",
       "      <th>release_actor_age</th>\n",
       "      <th>freebase_character_id</th>\n",
       "      <th>freebase_actor_id</th>\n",
       "      <th>total_movies</th>\n",
       "      <th>genres_freq</th>\n",
       "    </tr>\n",
       "  </thead>\n",
       "  <tbody>\n",
       "    <tr>\n",
       "      <th>0</th>\n",
       "      <td>/m/02vcl4m</td>\n",
       "      <td>Halls of Montezuma</td>\n",
       "      <td>5</td>\n",
       "      <td>35</td>\n",
       "      <td>[0.0, 0.0, 0.0, 0.0, 0.0, 0.0, 0.0, 0.00999999...</td>\n",
       "      <td>10004330</td>\n",
       "      <td>/m/02pzjvb</td>\n",
       "      <td>1950</td>\n",
       "      <td>Pigeon Lane</td>\n",
       "      <td>1919-02-18</td>\n",
       "      <td>M</td>\n",
       "      <td>1.93</td>\n",
       "      <td>/m/0ffjvd</td>\n",
       "      <td>Jack Palance</td>\n",
       "      <td>30.0</td>\n",
       "      <td>/m/0h5cz0m</td>\n",
       "      <td>/m/02t_w8</td>\n",
       "      <td>62</td>\n",
       "      <td>[0.0958904109589041, 0.0, 0.0684931506849315, ...</td>\n",
       "    </tr>\n",
       "    <tr>\n",
       "      <th>1</th>\n",
       "      <td>/m/0jwnks</td>\n",
       "      <td>Contempt</td>\n",
       "      <td>6</td>\n",
       "      <td>2</td>\n",
       "      <td>[0.0, 0.0, 0.7699999809, 0.0, 0.0, 0.0, 0.0199...</td>\n",
       "      <td>1109777</td>\n",
       "      <td>/m/046t_0</td>\n",
       "      <td>1963</td>\n",
       "      <td>Jeremy Prokosch</td>\n",
       "      <td>1919-02-18</td>\n",
       "      <td>M</td>\n",
       "      <td>1.93</td>\n",
       "      <td>/m/0ffjvd</td>\n",
       "      <td>Jack Palance</td>\n",
       "      <td>43.0</td>\n",
       "      <td>/m/0by49h9</td>\n",
       "      <td>/m/02t_w8</td>\n",
       "      <td>62</td>\n",
       "      <td>[0.0958904109589041, 0.0, 0.0684931506849315, ...</td>\n",
       "    </tr>\n",
       "    <tr>\n",
       "      <th>2</th>\n",
       "      <td>/m/03jrzwk</td>\n",
       "      <td>Monte Walsh</td>\n",
       "      <td>5</td>\n",
       "      <td>30</td>\n",
       "      <td>[0.0, 0.0, 0.019999999600000002, 0.2899999917,...</td>\n",
       "      <td>12122757</td>\n",
       "      <td>/m/02vqjnv</td>\n",
       "      <td>2003-01-17</td>\n",
       "      <td>Chet Rollins</td>\n",
       "      <td>1919-02-18</td>\n",
       "      <td>M</td>\n",
       "      <td>1.93</td>\n",
       "      <td>/m/0ffjvd</td>\n",
       "      <td>Jack Palance</td>\n",
       "      <td>83.0</td>\n",
       "      <td>/m/0h5cz5s</td>\n",
       "      <td>/m/02t_w8</td>\n",
       "      <td>62</td>\n",
       "      <td>[0.0958904109589041, 0.0, 0.0684931506849315, ...</td>\n",
       "    </tr>\n",
       "    <tr>\n",
       "      <th>3</th>\n",
       "      <td>/m/03jrt6y</td>\n",
       "      <td>The Professionals</td>\n",
       "      <td>15</td>\n",
       "      <td>35</td>\n",
       "      <td>[0.0, 0.0, 0.0, 0.0, 0.0, 0.0, 0.0, 0.0, 0.0, ...</td>\n",
       "      <td>1443103</td>\n",
       "      <td>/m/051_vd</td>\n",
       "      <td>1966-11-02</td>\n",
       "      <td>Jesus Raza</td>\n",
       "      <td>1919-02-18</td>\n",
       "      <td>M</td>\n",
       "      <td>1.93</td>\n",
       "      <td>/m/0ffjvd</td>\n",
       "      <td>Jack Palance</td>\n",
       "      <td>47.0</td>\n",
       "      <td>/m/0h5cz2s</td>\n",
       "      <td>/m/02t_w8</td>\n",
       "      <td>62</td>\n",
       "      <td>[0.0958904109589041, 0.0, 0.0684931506849315, ...</td>\n",
       "    </tr>\n",
       "    <tr>\n",
       "      <th>4</th>\n",
       "      <td>/m/0k1qv6</td>\n",
       "      <td>Panic in the Streets</td>\n",
       "      <td>20</td>\n",
       "      <td>41</td>\n",
       "      <td>[0.0, 0.0, 0.0, 0.0, 0.0, 0.0, 0.0, 0.0, 0.0, ...</td>\n",
       "      <td>1611941</td>\n",
       "      <td>/m/05glbt</td>\n",
       "      <td>1950</td>\n",
       "      <td>Blackie</td>\n",
       "      <td>1919-02-18</td>\n",
       "      <td>M</td>\n",
       "      <td>1.93</td>\n",
       "      <td>/m/0ffjvd</td>\n",
       "      <td>Jack Palance</td>\n",
       "      <td>30.0</td>\n",
       "      <td>/m/0h5cz6_</td>\n",
       "      <td>/m/02t_w8</td>\n",
       "      <td>62</td>\n",
       "      <td>[0.0958904109589041, 0.0, 0.0684931506849315, ...</td>\n",
       "    </tr>\n",
       "  </tbody>\n",
       "</table>\n",
       "</div>"
      ],
      "text/plain": [
       "  freebase_map_id            movie_name  token_occurences  estimated_trope  \\\n",
       "0      /m/02vcl4m    Halls of Montezuma                 5               35   \n",
       "1       /m/0jwnks              Contempt                 6                2   \n",
       "2      /m/03jrzwk           Monte Walsh                 5               30   \n",
       "3      /m/03jrt6y     The Professionals                15               35   \n",
       "4       /m/0k1qv6  Panic in the Streets                20               41   \n",
       "\n",
       "                                       trope_distrib  wiki_movie_id  \\\n",
       "0  [0.0, 0.0, 0.0, 0.0, 0.0, 0.0, 0.0, 0.00999999...       10004330   \n",
       "1  [0.0, 0.0, 0.7699999809, 0.0, 0.0, 0.0, 0.0199...        1109777   \n",
       "2  [0.0, 0.0, 0.019999999600000002, 0.2899999917,...       12122757   \n",
       "3  [0.0, 0.0, 0.0, 0.0, 0.0, 0.0, 0.0, 0.0, 0.0, ...        1443103   \n",
       "4  [0.0, 0.0, 0.0, 0.0, 0.0, 0.0, 0.0, 0.0, 0.0, ...        1611941   \n",
       "\n",
       "  freebase_id release_date   character_name actor_birth actor_gender  \\\n",
       "0  /m/02pzjvb         1950      Pigeon Lane  1919-02-18            M   \n",
       "1   /m/046t_0         1963  Jeremy Prokosch  1919-02-18            M   \n",
       "2  /m/02vqjnv   2003-01-17     Chet Rollins  1919-02-18            M   \n",
       "3   /m/051_vd   1966-11-02       Jesus Raza  1919-02-18            M   \n",
       "4   /m/05glbt         1950          Blackie  1919-02-18            M   \n",
       "\n",
       "   actor_height actor_ethnicity    actor_name  release_actor_age  \\\n",
       "0          1.93       /m/0ffjvd  Jack Palance               30.0   \n",
       "1          1.93       /m/0ffjvd  Jack Palance               43.0   \n",
       "2          1.93       /m/0ffjvd  Jack Palance               83.0   \n",
       "3          1.93       /m/0ffjvd  Jack Palance               47.0   \n",
       "4          1.93       /m/0ffjvd  Jack Palance               30.0   \n",
       "\n",
       "  freebase_character_id freebase_actor_id  total_movies  \\\n",
       "0            /m/0h5cz0m         /m/02t_w8            62   \n",
       "1            /m/0by49h9         /m/02t_w8            62   \n",
       "2            /m/0h5cz5s         /m/02t_w8            62   \n",
       "3            /m/0h5cz2s         /m/02t_w8            62   \n",
       "4            /m/0h5cz6_         /m/02t_w8            62   \n",
       "\n",
       "                                         genres_freq  \n",
       "0  [0.0958904109589041, 0.0, 0.0684931506849315, ...  \n",
       "1  [0.0958904109589041, 0.0, 0.0684931506849315, ...  \n",
       "2  [0.0958904109589041, 0.0, 0.0684931506849315, ...  \n",
       "3  [0.0958904109589041, 0.0, 0.0684931506849315, ...  \n",
       "4  [0.0958904109589041, 0.0, 0.0684931506849315, ...  "
      ]
     },
     "execution_count": 38,
     "metadata": {},
     "output_type": "execute_result"
    }
   ],
   "source": [
    "actors_characters_personas_genres.head()"
   ]
  },
  {
   "cell_type": "markdown",
   "metadata": {},
   "source": [
    "# Intermezzo : Possible bias and Limitations <a name=\"part_3_possible_bias_and_limitations\"></a>\n",
    "\n",
    "After exploring the data and performing some initial analyses, some doubt arise about our methods. Unfortunately, we could not clear those doubts with those basic analyses as some of them are too insiduous and require deeper analysis. \n",
    "\n",
    "Here are some of the main possible limitations and biases that can occur (and their possible solutions) :\n",
    "\n",
    " - Actor *fame* as a confounder :\n",
    "\n",
    "   Assume that a given actor $A$ have a high preference for a persona $P$. Movies he played as persona $P' \\neq P$ tend to under-perform compare to the other movies. This could be explained by the fact that most movies he played as $P'$ were before he became \"famous\" and as such he was playing roles in movies with much smaller franchise. When he/she became famous, he could take the luxury to decide whether he wanted to play as $P'$ or not.\n",
    "\n",
    "\n",
    "   **Possible Solution** : Based on the assumption that actors *fame* came with time\n",
    "   \n",
    "   - Add a threshold $\\alpha$ and only consider movies for actors that have already played in $K \\geq \\alpha$ movies previously (drop first $\\alpha - 1$ movies for \n",
    "   each actors)\n",
    "      \n",
    "   - Add a third metric $R$ to our model defined as $$R(\\text{Actor}, \\text{Movie}) = \\frac{\\text{Number of movies played by actor A prior to M}}{\\text{Number of movies played by actor A}}$$\n",
    "\n",
    "     This would be able to distinguish between the case where $R < \\alpha$ and $R > \\alpha$ for a given $\\alpha$. We could also try to evaluate the strength of this bias by testing the model *with* and *without* this metric. Notice that this is just an extension of the previously defined method. However this extension is more polyvalent than the previos method.\n",
    "   \n",
    " - Impact of certain *personas* on the overall success of the film :\n",
    "\n",
    "   We could imagine a scenario where the presence of a persona $P$ in our film has a possive effect on the success of this film. As such our model may conclude that actors that have a preference for persona $P$ playing as $P$ have a better effect on the movie success than if he were playing as $P'$ instead.\n",
    "\n",
    "   **Possible Solution** :\n",
    "\n",
    "    - Instead of comparing actors that play in their preferred role or not, we should compare how much better an actor playing in his preferred persona\n",
    "     will improve the movie compared to another actor without particular preference (Let us called this actor the *neutral actor*). We can therefore either\n",
    "     perform\n",
    "\n",
    "      - A difference in difference of means between the both (where *neutral actors* are defined by a certain threshold $\\alpha$ defined on the metric `1.`).\n",
    "     \n",
    "      - Matching between *neutral actors* and *actors* with a preference (however this may end up being complexified by the limited amount)"
   ]
  },
  {
   "cell_type": "markdown",
   "metadata": {},
   "source": [
    "# Part IV: Analysis <a name=\"part_4_title\"></a>"
   ]
  },
  {
   "cell_type": "code",
   "execution_count": 39,
   "metadata": {
    "tags": []
   },
   "outputs": [],
   "source": [
    "# Load all previous results\n",
    "movies = pd.read_json(os.path.join(SAVE_PATH, \"movies.json\"))\n",
    "movie_genres = pd.read_json(os.path.join(SAVE_PATH, \"movie_genres.json\"))\n",
    "\n",
    "actors_characters = pd.read_json(os.path.join(SAVE_PATH, \"characters.json\"))\n",
    "actors_characters_personas = pd.read_json(os.path.join(SAVE_PATH, \"characters_personas.json\"))\n",
    "actors_characters_personas_genres = pd.read_json(os.path.join(SAVE_PATH, \"characters_personas_genres.json\"))\n",
    "\n",
    "actor_movies_with_genre = pd.read_json(os.path.join(SAVE_PATH, \"actor_movies_with_genre.json\"))"
   ]
  },
  {
   "cell_type": "markdown",
   "metadata": {},
   "source": [
    "## (1) What is the proportion of actors that tend to play the same type of movies/personas ?  \n",
    "## (3) Do actors exhibit a recurring persona accross the characters they play ?"
   ]
  },
  {
   "cell_type": "markdown",
   "metadata": {},
   "source": [
    "### First Approach: Herfindahl-Hirschman Index (HHI)\n",
    "\n",
    "**Herfindahl-Hirschman Index (HHI)**:  \n",
    "Can be used to measure to measure market concentration. A high HHI would indicate an actor frequently plays in the same genre/ the same persona, whereas a low HHI would indicate a more diverse range.\n",
    "\n",
    "$$\n",
    "    \\text{HHI}(a) = \\sum_{i=1}^N (F_{i;a})^2\n",
    "$$\n",
    "\n",
    "Where $F_{i;a}$ is the frequency at which actor $a$ play genre/persona $i$. If the frequency is equally distributed among each role/persona then the HHI index is going to be close to $\\frac{1}{N}$ while if a clear preferrence can be observed then the HHI index is going to be high (close to $1$)"
   ]
  },
  {
   "cell_type": "code",
   "execution_count": 41,
   "metadata": {
    "tags": []
   },
   "outputs": [],
   "source": [
    "def calculate_hhi(frequencies):\n",
    "    # Normalize the frequencies\n",
    "    total = sum(frequencies)\n",
    "    normalized_freq = [f/total for f in frequencies] if total > 0 else frequencies\n",
    "\n",
    "    # Calculate HHI\n",
    "    hhi = sum(f**2 for f in normalized_freq)\n",
    "    return hhi"
   ]
  },
  {
   "cell_type": "markdown",
   "metadata": {},
   "source": [
    "### Second Approach: Use our defined preference metric\n",
    "\n",
    "- **Mutual Information Preference (MIP)**:\n",
    "\n",
    "   The Mutual Information metric captures the information gain about the actor's persona choices relative to the global persona distribution. This metric can also be applied on genres.\n",
    "   $$\\text{MIP}(\\text{actor}) = \\frac{ H(\\text{Persona}) - H(\\text{Persona} | \\text{Actor} = \\text{actor}) }{H(\\text{Persona})}$$\n",
    "      \n",
    "   This metric has the following property\n",
    "   - If the actor $a$ always plays the same persona, then $\\text{pref}(a) = 1$\n",
    "   - If the actor $a$ plays each persona with the same distribution than the global distribution, then $\\text{pref}(a) = 0$\n",
    "   - If the actor$a$ play each persona with a more uniform distribution than the global distribution, then $\\text{pref}(a) < 0$"
   ]
  },
  {
   "cell_type": "code",
   "execution_count": 42,
   "metadata": {},
   "outputs": [],
   "source": [
    "def calculate_mip(frequencies, h_prior):\n",
    "    # Build the posteriori distribution (conditionned on actor)\n",
    "    h_posteriori = scipy.stats.entropy(frequencies, base=2)\n",
    "\n",
    "    return (h_prior - h_posteriori) / h_prior"
   ]
  },
  {
   "cell_type": "markdown",
   "metadata": {},
   "source": [
    "### Movie genres"
   ]
  },
  {
   "cell_type": "code",
   "execution_count": 43,
   "metadata": {},
   "outputs": [
    {
     "name": "stdout",
     "output_type": "stream",
     "text": [
      "Dropping 11.89% of actor characters (27330 remaining)\n"
     ]
    }
   ],
   "source": [
    "# This parameter allows us to filter out actors that did not play many movies\n",
    "MINIMUM_NUM_MOVIES_GENRES = 3\n",
    "mask_movies_genre = actors_characters_personas_genres[\"total_movies\"] >= MINIMUM_NUM_MOVIES_GENRES\n",
    "\n",
    "print(\"Dropping {:.2f}% of actor characters ({} remaining)\".format(100 - 100 * sum(mask_movies_genre) / len(mask_movies_genre), sum(mask_movies_genre)))"
   ]
  },
  {
   "cell_type": "markdown",
   "metadata": {},
   "source": [
    "#### HHI"
   ]
  },
  {
   "cell_type": "code",
   "execution_count": 44,
   "metadata": {},
   "outputs": [],
   "source": [
    "actors_characters_personas_genres[\"hhi_genre\"] = actors_characters_personas_genres[\"genres_freq\"].apply(calculate_hhi)"
   ]
  },
  {
   "cell_type": "code",
   "execution_count": 45,
   "metadata": {},
   "outputs": [
    {
     "data": {
      "image/png": "[encoded data removed]",
      "text/plain": [
       "<Figure size 432x288 with 1 Axes>"
      ]
     },
     "metadata": {
      "needs_background": "light"
     },
     "output_type": "display_data"
    }
   ],
   "source": [
    "sns.histplot(actors_characters_personas_genres.drop_duplicates(\"freebase_actor_id\")[mask_movies_genre][\"hhi_genre\"], bins=50, kde=True)\n",
    "plt.xlabel(\"HHI score of genres\")\n",
    "plt.ylabel(\"Number of actors\")\n",
    "plt.xlim([0,1])\n",
    "plt.title(\"Distribution of actors with respect to HHI score of genres\")\n",
    "plt.grid()\n",
    "plt.show()"
   ]
  },
  {
   "cell_type": "markdown",
   "metadata": {},
   "source": [
    "#### MIP"
   ]
  },
  {
   "cell_type": "code",
   "execution_count": 46,
   "metadata": {},
   "outputs": [
    {
     "name": "stdout",
     "output_type": "stream",
     "text": [
      "Prior entropy of movie genres: 3.69\n"
     ]
    }
   ],
   "source": [
    "# Retrieve movies for which we have characters\n",
    "movies_from_characters = actors_characters.wiki_movie_id.unique()\n",
    "movies_with_characters = movies[movies.wiki_movie_id.isin(movies_from_characters)].reset_index(drop = True).copy()\n",
    "\n",
    "# Retrieve global genre distribution\n",
    "all_movie_genres = movies_with_characters[\"genres\"]\n",
    "\n",
    "# Compute the entropy of movie genres\n",
    "movie_frequency_genre = dict(Counter(all_movie_genres.explode().to_list()))\n",
    "movie_genre_prior_h = scipy.stats.entropy(list(movie_frequency_genre.values()), base=2)\n",
    "print(\"Prior entropy of movie genres: {:.2f}\".format(movie_genre_prior_h))"
   ]
  },
  {
   "cell_type": "code",
   "execution_count": 47,
   "metadata": {},
   "outputs": [],
   "source": [
    "actors_characters_personas_genres[\"mip_genre\"] = actors_characters_personas_genres[\"genres_freq\"].apply(lambda genre_freq: calculate_mip(genre_freq, movie_genre_prior_h))"
   ]
  },
  {
   "cell_type": "code",
   "execution_count": 48,
   "metadata": {},
   "outputs": [
    {
     "data": {
      "image/png": "[encoded data removed]",
      "text/plain": [
       "<Figure size 432x288 with 1 Axes>"
      ]
     },
     "metadata": {
      "needs_background": "light"
     },
     "output_type": "display_data"
    }
   ],
   "source": [
    "sns.histplot(actors_characters_personas_genres.drop_duplicates(\"freebase_actor_id\")[actors_characters_personas_genres[\"total_movies\"] >= MINIMUM_NUM_MOVIES_GENRES][\"mip_genre\"], bins=50, kde=True)\n",
    "plt.xlabel(\"MIP score of genres\")\n",
    "plt.ylabel(\"Number of actors\")\n",
    "plt.xlim([-1,1])\n",
    "plt.title(\"Distribution of actors with respect to MIP score of genres\")\n",
    "plt.grid()\n",
    "plt.show()"
   ]
  },
  {
   "cell_type": "markdown",
   "metadata": {},
   "source": [
    "### Movie personas"
   ]
  },
  {
   "cell_type": "code",
   "execution_count": 49,
   "metadata": {},
   "outputs": [
    {
     "name": "stdout",
     "output_type": "stream",
     "text": [
      "Dropping 25.27% of actor characters (23182 remaining)\n"
     ]
    }
   ],
   "source": [
    "# This parameter allows us to filter out actors that did not play many movies\n",
    "MINIMUM_NUM_MOVIES_PERSONAS = 8\n",
    "mask_movies_personas = actors_characters_personas_genres[\"total_movies\"] >= MINIMUM_NUM_MOVIES_PERSONAS\n",
    "\n",
    "print(\"Dropping {:.2f}% of actor characters ({} remaining)\".format(100 - 100 * sum(mask_movies_personas) / len(mask_movies_personas), sum(mask_movies_personas)))"
   ]
  },
  {
   "cell_type": "code",
   "execution_count": 50,
   "metadata": {},
   "outputs": [],
   "source": [
    "# This is a copy of the dataframe when i will eventuall screwed up\n",
    "# TODO: remove this\n",
    "actors_characters_personas_genres_copy = actors_characters_personas_genres.copy()"
   ]
  },
  {
   "cell_type": "markdown",
   "metadata": {},
   "source": [
    "#### HHI"
   ]
  },
  {
   "cell_type": "code",
   "execution_count": 51,
   "metadata": {},
   "outputs": [],
   "source": [
    "aggregated_trope_distrib = actors_characters_personas_genres[mask_movies_personas][[\"freebase_actor_id\", \"trope_distrib\"]]\\\n",
    "    .groupby(\"freebase_actor_id\")\\\n",
    "    .agg(lambda xs: np.mean(np.array([x for x in xs]), axis=0))\\\n",
    "    .rename(columns={\"trope_distrib\": \"actor_trope_distrib\"})\n",
    "\n",
    "# Merge the result back into the main dataframe\n",
    "actors_characters_personas_genres = actors_characters_personas_genres.merge(aggregated_trope_distrib, on=\"freebase_actor_id\", how=\"outer\")"
   ]
  },
  {
   "cell_type": "code",
   "execution_count": 52,
   "metadata": {},
   "outputs": [],
   "source": [
    "# Compute the HHI of tropes\n",
    "actors_characters_personas_genres[\"hhi_trope\"] = actors_characters_personas_genres[\"actor_trope_distrib\"].apply(\n",
    "    lambda x: calculate_hhi(x) if not np.isnan(x).any() else np.nan\n",
    ")"
   ]
  },
  {
   "cell_type": "code",
   "execution_count": 53,
   "metadata": {},
   "outputs": [],
   "source": [
    "# Aggregate per actor\n",
    "average_hhi_per_actor = actors_characters_personas_genres[mask_movies_personas][[\"freebase_actor_id\", \"hhi_trope\"]]\\\n",
    "    .groupby(\"freebase_actor_id\")\\\n",
    "    .agg(\"mean\")\\\n",
    "    .reset_index()"
   ]
  },
  {
   "cell_type": "code",
   "execution_count": 54,
   "metadata": {},
   "outputs": [
    {
     "data": {
      "image/png": "[encoded data removed]",
      "text/plain": [
       "<Figure size 432x288 with 1 Axes>"
      ]
     },
     "metadata": {
      "needs_background": "light"
     },
     "output_type": "display_data"
    }
   ],
   "source": [
    "sns.histplot(average_hhi_per_actor[\"hhi_trope\"], bins=50, kde=True)\n",
    "plt.xlabel(\"HHI score of personas\")\n",
    "plt.ylabel(\"Number of actors\")\n",
    "plt.xlim([0,1])\n",
    "plt.title(\"Distribution of actors with respect to HHI score of personas\")\n",
    "plt.grid()\n",
    "plt.show()"
   ]
  },
  {
   "cell_type": "markdown",
   "metadata": {},
   "source": [
    "#### MIP"
   ]
  },
  {
   "cell_type": "code",
   "execution_count": 55,
   "metadata": {},
   "outputs": [
    {
     "name": "stdout",
     "output_type": "stream",
     "text": [
      "Prior entropy of character tropes: 4.83\n"
     ]
    }
   ],
   "source": [
    "# Retrieve all distinct character tropes\n",
    "all_character_tropes = np.array([list(x) for x in actors_characters_personas.copy().drop_duplicates(\"freebase_character_id\")[\"trope_distrib\"]])\n",
    "\n",
    "# Reconstruct global distribution\n",
    "global_trope_distribution = np.mean(all_character_tropes, axis=0)\n",
    "\n",
    "# Compute the entropy of personas\n",
    "character_tropes_prior_h = scipy.stats.entropy(global_trope_distribution, base=2)\n",
    "print(\"Prior entropy of character tropes: {:.2f}\".format(character_tropes_prior_h))"
   ]
  },
  {
   "cell_type": "code",
   "execution_count": 56,
   "metadata": {},
   "outputs": [],
   "source": [
    "actors_characters_personas_genres[\"mip_trope\"] = actors_characters_personas_genres[\"actor_trope_distrib\"].apply(\n",
    "    lambda trope_distrib: calculate_mip(trope_distrib, character_tropes_prior_h) if not np.isnan(trope_distrib).any() else np.nan\n",
    ")"
   ]
  },
  {
   "cell_type": "code",
   "execution_count": 57,
   "metadata": {},
   "outputs": [],
   "source": [
    "# Aggregate per actor\n",
    "average_mip_per_actor = actors_characters_personas_genres[mask_movies_personas][[\"freebase_actor_id\", \"mip_trope\"]]\\\n",
    "    .groupby(\"freebase_actor_id\")\\\n",
    "    .agg(\"mean\")\\\n",
    "    .reset_index()"
   ]
  },
  {
   "cell_type": "code",
   "execution_count": 58,
   "metadata": {},
   "outputs": [
    {
     "data": {
      "image/png": "[encoded data removed]",
      "text/plain": [
       "<Figure size 432x288 with 1 Axes>"
      ]
     },
     "metadata": {
      "needs_background": "light"
     },
     "output_type": "display_data"
    }
   ],
   "source": [
    "sns.histplot(average_mip_per_actor[\"mip_trope\"], bins=50, kde=True)\n",
    "plt.xlabel(\"Average MIP score of personas\")\n",
    "plt.ylabel(\"Number of actors\")\n",
    "plt.xlim([0,1])\n",
    "plt.title(\"Distribution of actors with respect to MIP score of personas\")\n",
    "plt.grid()\n",
    "plt.show()"
   ]
  },
  {
   "cell_type": "markdown",
   "metadata": {},
   "source": [
    "### Summary & Interpretation"
   ]
  },
  {
   "cell_type": "code",
   "execution_count": 59,
   "metadata": {},
   "outputs": [
    {
     "data": {
      "text/html": [
       "<div>\n",
       "<style scoped>\n",
       "    .dataframe tbody tr th:only-of-type {\n",
       "        vertical-align: middle;\n",
       "    }\n",
       "\n",
       "    .dataframe tbody tr th {\n",
       "        vertical-align: top;\n",
       "    }\n",
       "\n",
       "    .dataframe thead th {\n",
       "        text-align: right;\n",
       "    }\n",
       "</style>\n",
       "<table border=\"1\" class=\"dataframe\">\n",
       "  <thead>\n",
       "    <tr style=\"text-align: right;\">\n",
       "      <th></th>\n",
       "      <th>freebase_map_id</th>\n",
       "      <th>movie_name</th>\n",
       "      <th>token_occurences</th>\n",
       "      <th>estimated_trope</th>\n",
       "      <th>trope_distrib</th>\n",
       "      <th>wiki_movie_id</th>\n",
       "      <th>freebase_id</th>\n",
       "      <th>release_date</th>\n",
       "      <th>character_name</th>\n",
       "      <th>actor_birth</th>\n",
       "      <th>...</th>\n",
       "      <th>release_actor_age</th>\n",
       "      <th>freebase_character_id</th>\n",
       "      <th>freebase_actor_id</th>\n",
       "      <th>total_movies</th>\n",
       "      <th>genres_freq</th>\n",
       "      <th>hhi_genre</th>\n",
       "      <th>mip_genre</th>\n",
       "      <th>actor_trope_distrib</th>\n",
       "      <th>hhi_trope</th>\n",
       "      <th>mip_trope</th>\n",
       "    </tr>\n",
       "  </thead>\n",
       "  <tbody>\n",
       "    <tr>\n",
       "      <th>0</th>\n",
       "      <td>/m/02vcl4m</td>\n",
       "      <td>Halls of Montezuma</td>\n",
       "      <td>5</td>\n",
       "      <td>35</td>\n",
       "      <td>[0.0, 0.0, 0.0, 0.0, 0.0, 0.0, 0.0, 0.00999999...</td>\n",
       "      <td>10004330</td>\n",
       "      <td>/m/02pzjvb</td>\n",
       "      <td>1950</td>\n",
       "      <td>Pigeon Lane</td>\n",
       "      <td>1919-02-18</td>\n",
       "      <td>...</td>\n",
       "      <td>30.0</td>\n",
       "      <td>/m/0h5cz0m</td>\n",
       "      <td>/m/02t_w8</td>\n",
       "      <td>62</td>\n",
       "      <td>[0.09589041100000001, 0.0, 0.0684931507, 0.006...</td>\n",
       "      <td>0.101145</td>\n",
       "      <td>0.01004</td>\n",
       "      <td>[0.0, 0.00043478260000000003, 0.03913043399130...</td>\n",
       "      <td>0.08218</td>\n",
       "      <td>0.172131</td>\n",
       "    </tr>\n",
       "    <tr>\n",
       "      <th>1</th>\n",
       "      <td>/m/0jwnks</td>\n",
       "      <td>Contempt</td>\n",
       "      <td>6</td>\n",
       "      <td>2</td>\n",
       "      <td>[0.0, 0.0, 0.7699999809, 0.0, 0.0, 0.0, 0.0199...</td>\n",
       "      <td>1109777</td>\n",
       "      <td>/m/046t_0</td>\n",
       "      <td>1963</td>\n",
       "      <td>Jeremy Prokosch</td>\n",
       "      <td>1919-02-18</td>\n",
       "      <td>...</td>\n",
       "      <td>43.0</td>\n",
       "      <td>/m/0by49h9</td>\n",
       "      <td>/m/02t_w8</td>\n",
       "      <td>62</td>\n",
       "      <td>[0.09589041100000001, 0.0, 0.0684931507, 0.006...</td>\n",
       "      <td>0.101145</td>\n",
       "      <td>0.01004</td>\n",
       "      <td>[0.0, 0.00043478260000000003, 0.03913043399130...</td>\n",
       "      <td>0.08218</td>\n",
       "      <td>0.172131</td>\n",
       "    </tr>\n",
       "    <tr>\n",
       "      <th>2</th>\n",
       "      <td>/m/03jrzwk</td>\n",
       "      <td>Monte Walsh</td>\n",
       "      <td>5</td>\n",
       "      <td>30</td>\n",
       "      <td>[0.0, 0.0, 0.019999999600000002, 0.2899999917,...</td>\n",
       "      <td>12122757</td>\n",
       "      <td>/m/02vqjnv</td>\n",
       "      <td>2003-01-17</td>\n",
       "      <td>Chet Rollins</td>\n",
       "      <td>1919-02-18</td>\n",
       "      <td>...</td>\n",
       "      <td>83.0</td>\n",
       "      <td>/m/0h5cz5s</td>\n",
       "      <td>/m/02t_w8</td>\n",
       "      <td>62</td>\n",
       "      <td>[0.09589041100000001, 0.0, 0.0684931507, 0.006...</td>\n",
       "      <td>0.101145</td>\n",
       "      <td>0.01004</td>\n",
       "      <td>[0.0, 0.00043478260000000003, 0.03913043399130...</td>\n",
       "      <td>0.08218</td>\n",
       "      <td>0.172131</td>\n",
       "    </tr>\n",
       "    <tr>\n",
       "      <th>3</th>\n",
       "      <td>/m/03jrt6y</td>\n",
       "      <td>The Professionals</td>\n",
       "      <td>15</td>\n",
       "      <td>35</td>\n",
       "      <td>[0.0, 0.0, 0.0, 0.0, 0.0, 0.0, 0.0, 0.0, 0.0, ...</td>\n",
       "      <td>1443103</td>\n",
       "      <td>/m/051_vd</td>\n",
       "      <td>1966-11-02</td>\n",
       "      <td>Jesus Raza</td>\n",
       "      <td>1919-02-18</td>\n",
       "      <td>...</td>\n",
       "      <td>47.0</td>\n",
       "      <td>/m/0h5cz2s</td>\n",
       "      <td>/m/02t_w8</td>\n",
       "      <td>62</td>\n",
       "      <td>[0.09589041100000001, 0.0, 0.0684931507, 0.006...</td>\n",
       "      <td>0.101145</td>\n",
       "      <td>0.01004</td>\n",
       "      <td>[0.0, 0.00043478260000000003, 0.03913043399130...</td>\n",
       "      <td>0.08218</td>\n",
       "      <td>0.172131</td>\n",
       "    </tr>\n",
       "    <tr>\n",
       "      <th>4</th>\n",
       "      <td>/m/0k1qv6</td>\n",
       "      <td>Panic in the Streets</td>\n",
       "      <td>20</td>\n",
       "      <td>41</td>\n",
       "      <td>[0.0, 0.0, 0.0, 0.0, 0.0, 0.0, 0.0, 0.0, 0.0, ...</td>\n",
       "      <td>1611941</td>\n",
       "      <td>/m/05glbt</td>\n",
       "      <td>1950</td>\n",
       "      <td>Blackie</td>\n",
       "      <td>1919-02-18</td>\n",
       "      <td>...</td>\n",
       "      <td>30.0</td>\n",
       "      <td>/m/0h5cz6_</td>\n",
       "      <td>/m/02t_w8</td>\n",
       "      <td>62</td>\n",
       "      <td>[0.09589041100000001, 0.0, 0.0684931507, 0.006...</td>\n",
       "      <td>0.101145</td>\n",
       "      <td>0.01004</td>\n",
       "      <td>[0.0, 0.00043478260000000003, 0.03913043399130...</td>\n",
       "      <td>0.08218</td>\n",
       "      <td>0.172131</td>\n",
       "    </tr>\n",
       "  </tbody>\n",
       "</table>\n",
       "<p>5 rows × 24 columns</p>\n",
       "</div>"
      ],
      "text/plain": [
       "  freebase_map_id            movie_name  token_occurences  estimated_trope  \\\n",
       "0      /m/02vcl4m    Halls of Montezuma                 5               35   \n",
       "1       /m/0jwnks              Contempt                 6                2   \n",
       "2      /m/03jrzwk           Monte Walsh                 5               30   \n",
       "3      /m/03jrt6y     The Professionals                15               35   \n",
       "4       /m/0k1qv6  Panic in the Streets                20               41   \n",
       "\n",
       "                                       trope_distrib  wiki_movie_id  \\\n",
       "0  [0.0, 0.0, 0.0, 0.0, 0.0, 0.0, 0.0, 0.00999999...       10004330   \n",
       "1  [0.0, 0.0, 0.7699999809, 0.0, 0.0, 0.0, 0.0199...        1109777   \n",
       "2  [0.0, 0.0, 0.019999999600000002, 0.2899999917,...       12122757   \n",
       "3  [0.0, 0.0, 0.0, 0.0, 0.0, 0.0, 0.0, 0.0, 0.0, ...        1443103   \n",
       "4  [0.0, 0.0, 0.0, 0.0, 0.0, 0.0, 0.0, 0.0, 0.0, ...        1611941   \n",
       "\n",
       "  freebase_id release_date   character_name actor_birth  ...  \\\n",
       "0  /m/02pzjvb         1950      Pigeon Lane  1919-02-18  ...   \n",
       "1   /m/046t_0         1963  Jeremy Prokosch  1919-02-18  ...   \n",
       "2  /m/02vqjnv   2003-01-17     Chet Rollins  1919-02-18  ...   \n",
       "3   /m/051_vd   1966-11-02       Jesus Raza  1919-02-18  ...   \n",
       "4   /m/05glbt         1950          Blackie  1919-02-18  ...   \n",
       "\n",
       "  release_actor_age  freebase_character_id freebase_actor_id total_movies  \\\n",
       "0              30.0             /m/0h5cz0m         /m/02t_w8           62   \n",
       "1              43.0             /m/0by49h9         /m/02t_w8           62   \n",
       "2              83.0             /m/0h5cz5s         /m/02t_w8           62   \n",
       "3              47.0             /m/0h5cz2s         /m/02t_w8           62   \n",
       "4              30.0             /m/0h5cz6_         /m/02t_w8           62   \n",
       "\n",
       "                                         genres_freq hhi_genre mip_genre  \\\n",
       "0  [0.09589041100000001, 0.0, 0.0684931507, 0.006...  0.101145   0.01004   \n",
       "1  [0.09589041100000001, 0.0, 0.0684931507, 0.006...  0.101145   0.01004   \n",
       "2  [0.09589041100000001, 0.0, 0.0684931507, 0.006...  0.101145   0.01004   \n",
       "3  [0.09589041100000001, 0.0, 0.0684931507, 0.006...  0.101145   0.01004   \n",
       "4  [0.09589041100000001, 0.0, 0.0684931507, 0.006...  0.101145   0.01004   \n",
       "\n",
       "                                 actor_trope_distrib hhi_trope  mip_trope  \n",
       "0  [0.0, 0.00043478260000000003, 0.03913043399130...   0.08218   0.172131  \n",
       "1  [0.0, 0.00043478260000000003, 0.03913043399130...   0.08218   0.172131  \n",
       "2  [0.0, 0.00043478260000000003, 0.03913043399130...   0.08218   0.172131  \n",
       "3  [0.0, 0.00043478260000000003, 0.03913043399130...   0.08218   0.172131  \n",
       "4  [0.0, 0.00043478260000000003, 0.03913043399130...   0.08218   0.172131  \n",
       "\n",
       "[5 rows x 24 columns]"
      ]
     },
     "execution_count": 59,
     "metadata": {},
     "output_type": "execute_result"
    }
   ],
   "source": [
    "# Notice the 4 new columns with scores\n",
    "actors_characters_personas_genres.head()"
   ]
  },
  {
   "cell_type": "code",
   "execution_count": 60,
   "metadata": {},
   "outputs": [],
   "source": [
    "# TODO REWRITE INTERPRETATIONS SINCE EVERYTHING CHANGED"
   ]
  },
  {
   "cell_type": "markdown",
   "metadata": {},
   "source": [
    "**Interpretation:**\n",
    "- Peak Near Zero: A concentration of actors with low HHI scores suggests that most actors in your dataset play a variety of roles and are not limited to a specific genre.\n",
    "- Left-Skewed Distribution: The fact that the distribution tails off to the right indicates that fewer actors are consistently appearing in the same genre.\n",
    "- Long Tail: The long tail towards the higher HHI scores suggests that while there are actors who are typecast, they are in the minority.\n",
    "\n",
    "\n",
    "**Limitation:**\n",
    "- This first approach presuppose that the prior distribution of role is uniform (which is clearly not the case). A more robust approach should be use to isolate the effect of the prior distribution\n",
    "\n",
    "**Conclusions:**\n",
    "- Diversity in Roles: There is a significant diversity in the roles that actors play, with many taking on a wide range of genres.\n",
    "- Limited Typecasting: Only a small proportion of actors may be typecast into specific genres, as indicated by the tail of the distribution."
   ]
  },
  {
   "cell_type": "code",
   "execution_count": 61,
   "metadata": {},
   "outputs": [],
   "source": [
    "# END OF TODO REWRITE INTERPRETATIONS SINCE EVERYTHING CHANGED"
   ]
  },
  {
   "cell_type": "markdown",
   "metadata": {},
   "source": [
    "### Binning according to HHI"
   ]
  },
  {
   "cell_type": "code",
   "execution_count": 62,
   "metadata": {},
   "outputs": [
    {
     "ename": "KeyError",
     "evalue": "'hhi_personas'",
     "output_type": "error",
     "traceback": [
      "\u001b[1;31m---------------------------------------------------------------------------\u001b[0m",
      "\u001b[1;31mKeyError\u001b[0m                                  Traceback (most recent call last)",
      "\u001b[1;32m~\\AppData\\Local\\Programs\\Python\\Python310\\lib\\site-packages\\pandas\\core\\indexes\\base.py\u001b[0m in \u001b[0;36mget_loc\u001b[1;34m(self, key, method, tolerance)\u001b[0m\n\u001b[0;32m   3802\u001b[0m             \u001b[1;32mtry\u001b[0m\u001b[1;33m:\u001b[0m\u001b[1;33m\u001b[0m\u001b[1;33m\u001b[0m\u001b[0m\n\u001b[1;32m-> 3803\u001b[1;33m                 \u001b[1;32mreturn\u001b[0m \u001b[0mself\u001b[0m\u001b[1;33m.\u001b[0m\u001b[0m_engine\u001b[0m\u001b[1;33m.\u001b[0m\u001b[0mget_loc\u001b[0m\u001b[1;33m(\u001b[0m\u001b[0mcasted_key\u001b[0m\u001b[1;33m)\u001b[0m\u001b[1;33m\u001b[0m\u001b[1;33m\u001b[0m\u001b[0m\n\u001b[0m\u001b[0;32m   3804\u001b[0m             \u001b[1;32mexcept\u001b[0m \u001b[0mKeyError\u001b[0m \u001b[1;32mas\u001b[0m \u001b[0merr\u001b[0m\u001b[1;33m:\u001b[0m\u001b[1;33m\u001b[0m\u001b[1;33m\u001b[0m\u001b[0m\n",
      "\u001b[1;32m~\\AppData\\Local\\Programs\\Python\\Python310\\lib\\site-packages\\pandas\\_libs\\index.pyx\u001b[0m in \u001b[0;36mpandas._libs.index.IndexEngine.get_loc\u001b[1;34m()\u001b[0m\n",
      "\u001b[1;32m~\\AppData\\Local\\Programs\\Python\\Python310\\lib\\site-packages\\pandas\\_libs\\index.pyx\u001b[0m in \u001b[0;36mpandas._libs.index.IndexEngine.get_loc\u001b[1;34m()\u001b[0m\n",
      "\u001b[1;32mpandas\\_libs\\hashtable_class_helper.pxi\u001b[0m in \u001b[0;36mpandas._libs.hashtable.PyObjectHashTable.get_item\u001b[1;34m()\u001b[0m\n",
      "\u001b[1;32mpandas\\_libs\\hashtable_class_helper.pxi\u001b[0m in \u001b[0;36mpandas._libs.hashtable.PyObjectHashTable.get_item\u001b[1;34m()\u001b[0m\n",
      "\u001b[1;31mKeyError\u001b[0m: 'hhi_personas'",
      "\nThe above exception was the direct cause of the following exception:\n",
      "\u001b[1;31mKeyError\u001b[0m                                  Traceback (most recent call last)",
      "\u001b[1;32m~\\AppData\\Local\\Temp/ipykernel_12916/4131740290.py\u001b[0m in \u001b[0;36m<module>\u001b[1;34m\u001b[0m\n\u001b[0;32m      4\u001b[0m \u001b[1;33m\u001b[0m\u001b[0m\n\u001b[0;32m      5\u001b[0m \u001b[1;31m# Create a new column for HHI Category\u001b[0m\u001b[1;33m\u001b[0m\u001b[1;33m\u001b[0m\u001b[0m\n\u001b[1;32m----> 6\u001b[1;33m actors_characters_personas_genres['hhi_category'] = pd.cut(actors_characters_personas_genres['hhi_personas'], \n\u001b[0m\u001b[0;32m      7\u001b[0m                                                            \u001b[0mbins\u001b[0m\u001b[1;33m=\u001b[0m\u001b[1;33m[\u001b[0m\u001b[1;36m0\u001b[0m\u001b[1;33m,\u001b[0m \u001b[0mlow_threshold\u001b[0m\u001b[1;33m,\u001b[0m \u001b[0mmedium_threshold\u001b[0m\u001b[1;33m,\u001b[0m \u001b[1;36m1\u001b[0m\u001b[1;33m]\u001b[0m\u001b[1;33m,\u001b[0m\u001b[1;33m\u001b[0m\u001b[1;33m\u001b[0m\u001b[0m\n\u001b[0;32m      8\u001b[0m                                                            labels=['Low', 'Medium', 'High'])\n",
      "\u001b[1;32m~\\AppData\\Local\\Programs\\Python\\Python310\\lib\\site-packages\\pandas\\core\\frame.py\u001b[0m in \u001b[0;36m__getitem__\u001b[1;34m(self, key)\u001b[0m\n\u001b[0;32m   3803\u001b[0m             \u001b[1;32mif\u001b[0m \u001b[0mself\u001b[0m\u001b[1;33m.\u001b[0m\u001b[0mcolumns\u001b[0m\u001b[1;33m.\u001b[0m\u001b[0mnlevels\u001b[0m \u001b[1;33m>\u001b[0m \u001b[1;36m1\u001b[0m\u001b[1;33m:\u001b[0m\u001b[1;33m\u001b[0m\u001b[1;33m\u001b[0m\u001b[0m\n\u001b[0;32m   3804\u001b[0m                 \u001b[1;32mreturn\u001b[0m \u001b[0mself\u001b[0m\u001b[1;33m.\u001b[0m\u001b[0m_getitem_multilevel\u001b[0m\u001b[1;33m(\u001b[0m\u001b[0mkey\u001b[0m\u001b[1;33m)\u001b[0m\u001b[1;33m\u001b[0m\u001b[1;33m\u001b[0m\u001b[0m\n\u001b[1;32m-> 3805\u001b[1;33m             \u001b[0mindexer\u001b[0m \u001b[1;33m=\u001b[0m \u001b[0mself\u001b[0m\u001b[1;33m.\u001b[0m\u001b[0mcolumns\u001b[0m\u001b[1;33m.\u001b[0m\u001b[0mget_loc\u001b[0m\u001b[1;33m(\u001b[0m\u001b[0mkey\u001b[0m\u001b[1;33m)\u001b[0m\u001b[1;33m\u001b[0m\u001b[1;33m\u001b[0m\u001b[0m\n\u001b[0m\u001b[0;32m   3806\u001b[0m             \u001b[1;32mif\u001b[0m \u001b[0mis_integer\u001b[0m\u001b[1;33m(\u001b[0m\u001b[0mindexer\u001b[0m\u001b[1;33m)\u001b[0m\u001b[1;33m:\u001b[0m\u001b[1;33m\u001b[0m\u001b[1;33m\u001b[0m\u001b[0m\n\u001b[0;32m   3807\u001b[0m                 \u001b[0mindexer\u001b[0m \u001b[1;33m=\u001b[0m \u001b[1;33m[\u001b[0m\u001b[0mindexer\u001b[0m\u001b[1;33m]\u001b[0m\u001b[1;33m\u001b[0m\u001b[1;33m\u001b[0m\u001b[0m\n",
      "\u001b[1;32m~\\AppData\\Local\\Programs\\Python\\Python310\\lib\\site-packages\\pandas\\core\\indexes\\base.py\u001b[0m in \u001b[0;36mget_loc\u001b[1;34m(self, key, method, tolerance)\u001b[0m\n\u001b[0;32m   3803\u001b[0m                 \u001b[1;32mreturn\u001b[0m \u001b[0mself\u001b[0m\u001b[1;33m.\u001b[0m\u001b[0m_engine\u001b[0m\u001b[1;33m.\u001b[0m\u001b[0mget_loc\u001b[0m\u001b[1;33m(\u001b[0m\u001b[0mcasted_key\u001b[0m\u001b[1;33m)\u001b[0m\u001b[1;33m\u001b[0m\u001b[1;33m\u001b[0m\u001b[0m\n\u001b[0;32m   3804\u001b[0m             \u001b[1;32mexcept\u001b[0m \u001b[0mKeyError\u001b[0m \u001b[1;32mas\u001b[0m \u001b[0merr\u001b[0m\u001b[1;33m:\u001b[0m\u001b[1;33m\u001b[0m\u001b[1;33m\u001b[0m\u001b[0m\n\u001b[1;32m-> 3805\u001b[1;33m                 \u001b[1;32mraise\u001b[0m \u001b[0mKeyError\u001b[0m\u001b[1;33m(\u001b[0m\u001b[0mkey\u001b[0m\u001b[1;33m)\u001b[0m \u001b[1;32mfrom\u001b[0m \u001b[0merr\u001b[0m\u001b[1;33m\u001b[0m\u001b[1;33m\u001b[0m\u001b[0m\n\u001b[0m\u001b[0;32m   3806\u001b[0m             \u001b[1;32mexcept\u001b[0m \u001b[0mTypeError\u001b[0m\u001b[1;33m:\u001b[0m\u001b[1;33m\u001b[0m\u001b[1;33m\u001b[0m\u001b[0m\n\u001b[0;32m   3807\u001b[0m                 \u001b[1;31m# If we have a listlike key, _check_indexing_error will raise\u001b[0m\u001b[1;33m\u001b[0m\u001b[1;33m\u001b[0m\u001b[0m\n",
      "\u001b[1;31mKeyError\u001b[0m: 'hhi_personas'"
     ]
    }
   ],
   "source": [
    "# Define the HHI score thresholds for low, medium, and high typecasting\n",
    "low_threshold = 0.3 # TODO ARBITRARY ?\n",
    "medium_threshold = 0.7 # TODO ARBITRARY ?\n",
    "\n",
    "# Create a new column for HHI Category\n",
    "actors_characters_personas_genres['hhi_category'] = pd.cut(actors_characters_personas_genres['hhi_personas'], \n",
    "                                                           bins=[0, low_threshold, medium_threshold, 1], \n",
    "                                                           labels=['Low', 'Medium', 'High'])\n",
    "\n",
    "category_counts = actors_characters_personas_genres['hhi_category'].value_counts()\n",
    "\n",
    "# Calculate the proportions\n",
    "category_proportions = category_counts / len(actors_characters_personas_genres)\n",
    "\n",
    "\n",
    "category_proportions"
   ]
  },
  {
   "cell_type": "code",
   "execution_count": null,
   "metadata": {},
   "outputs": [],
   "source": [
    "# TODO REWRITE INTERPRETATIONS SINCE EVERYTHING CHANGED"
   ]
  },
  {
   "cell_type": "markdown",
   "metadata": {},
   "source": [
    "-  79.31% of actors have a low HHI score, indicating they have a diverse range of roles across various genres. This is the largest category and suggests that the vast majority of actors are not being typecast and are instead taking on a variety of roles.\n",
    "\n",
    "-  17.36% of actors fall into the medium category, which means they have some level of specialization but not to the extent that they are being strongly typecast. These actors may have a few genres they appear in more frequently than others, but they still have a mix in their filming carrer.\n",
    "\n",
    "- 3.32% of actors have a high HHI score, suggesting that they tend to play roles in a limited range of genres, indicating a higher level of typecasting. Relatively few actors have consistenly recurrent roles.\n"
   ]
  },
  {
   "cell_type": "code",
   "execution_count": null,
   "metadata": {},
   "outputs": [],
   "source": [
    "# END OF TODO REWRITE INTERPRETATIONS SINCE EVERYTHING CHANGED"
   ]
  },
  {
   "cell_type": "markdown",
   "metadata": {},
   "source": [
    "## (2) When did an actor start to play in similar movies/similar characters ?"
   ]
  },
  {
   "cell_type": "code",
   "execution_count": null,
   "metadata": {},
   "outputs": [],
   "source": [
    "#TODO LUCA ENDED POLISH HERE - OK"
   ]
  },
  {
   "cell_type": "markdown",
   "metadata": {},
   "source": [
    "The idea of this part is to determine if there are tends in the progression of tropes preferences in actors lifetime. The hypothesis we want to test for is that young actor don't have a saying in what role they want to play. However when casting actors that are very famous, the general public (and therefore the producer) already have an idea on which role this actor will play in. "
   ]
  },
  {
   "cell_type": "markdown",
   "metadata": {},
   "source": [
    "This research question is quite hard to answer due to the fact that a lot of actors haven't played in many movies. As such it is only possible to reliable study this question on actors that have succeeded (aka. are famous enought to play in many movies)."
   ]
  },
  {
   "cell_type": "markdown",
   "metadata": {},
   "source": [
    "## (3) Do actors exhibit a recurring persona accross the characters they play ?"
   ]
  },
  {
   "cell_type": "markdown",
   "metadata": {},
   "source": [
    "## (4) Is there a clear distribution shift in the performance of a movie when this actor is/isn't in his comfort zone ?\n",
    "\n",
    "In order to dertermine if an actor is (or not) within its comfort zone, we need a way to quantify whether an actor is playing in a movie of a genre he is used to (or a trope he is used to). To do so we will compute the *log likelihood* of a role given an actor defined as~:\n",
    "\n",
    "$$\n",
    "    \\mathcal{L}(G_i | A) = \\frac{1}{|M_A|} \\sum_{M \\in M_A} 1_{M \\in G_i}\n",
    "$$\n",
    "\n",
    "$$\n",
    "    \\mathcal{L}(G | A) = \\sum_{i} \\log \\mathcal{L}(G_i | A)^{p(i | G)} + \\log \\left( 1 - \\mathcal{L}(G_i | A)^{1 - p(i | G)} \\right)\n",
    "$$"
   ]
  },
  {
   "cell_type": "code",
   "execution_count": 63,
   "metadata": {},
   "outputs": [],
   "source": [
    "def compute_log_likelihood(general_distribution, specific_distribution, eps=1e-10):\n",
    "    general_distribution = np.array(general_distribution) # General distribution of tropes per actor\n",
    "    specific_distribution = np.array(specific_distribution) # Distribution of tropes for a given character \n",
    "    \n",
    "    # Compute the log likelihood\n",
    "    # We add 1e-10 to avoid log(0)\n",
    "    log_likelihood = np.log(general_distribution**specific_distribution + 1e-10) + np.log((1 - general_distribution)**(1 - specific_distribution) + 1e-10)\n",
    "    log_likelihood = np.sum(log_likelihood)\n",
    "    assert np.isnan(log_likelihood) == False\n",
    "    return log_likelihood\n",
    "\n",
    "# Compute the log likelihood for each character\n",
    "actors_characters_personas_genres[\"trope_log_likelihood\"] = actors_characters_personas_genres.apply(\n",
    "    lambda row: compute_log_likelihood(row[\"actor_trope_distrib\"], row[\"trope_distrib\"]) if not np.isnan(row[\"actor_trope_distrib\"]).any() else np.nan, axis=1\n",
    ")"
   ]
  },
  {
   "cell_type": "code",
   "execution_count": 64,
   "metadata": {},
   "outputs": [
    {
     "data": {
      "image/png": "[encoded data removed]",
      "text/plain": [
       "<Figure size 432x288 with 1 Axes>"
      ]
     },
     "metadata": {
      "needs_background": "light"
     },
     "output_type": "display_data"
    }
   ],
   "source": [
    "# Plot the tropes log likelihood distribution\n",
    "sns.histplot(actors_characters_personas_genres[\"trope_log_likelihood\"], bins=50, kde=True)\n",
    "plt.xlabel(\"Log likelihood of tropes\")\n",
    "plt.ylabel(\"Number of characters\")\n",
    "plt.title(\"Distribution of log likelihood of tropes\")\n",
    "plt.grid()\n",
    "plt.show()\n"
   ]
  },
  {
   "cell_type": "code",
   "execution_count": 65,
   "metadata": {},
   "outputs": [],
   "source": [
    "# Do the same for log-likelihood of genres\n",
    "# This time we use the global distribution of genres (aggregate over all movies)\n",
    "# Each freebase_id must be unique\n",
    "genre_distribution = np.mean(np.array([np.array(x) for x in actors_characters_personas_genres.drop_duplicates(\"freebase_id\")[\"genres_freq\"]]), axis=0)\n",
    "\n",
    "actors_characters_personas_genres[\"genre_log_likelihood\"] = actors_characters_personas_genres.apply(\n",
    "    lambda row: compute_log_likelihood(row[\"genres_freq\"], genre_distribution) if not np.isnan(row[\"genres_freq\"]).any() else np.nan, axis=1\n",
    ")\n"
   ]
  },
  {
   "cell_type": "code",
   "execution_count": 75,
   "metadata": {
    "tags": []
   },
   "outputs": [
    {
     "data": {
      "text/plain": [
       "array([7.76026859e-02, 1.78253119e-06, 5.65237348e-02, 1.17956240e-02,\n",
       "       1.82153865e-02, 1.58571300e-01, 7.34783915e-02, 2.61385396e-03,\n",
       "       2.52324096e-01, 2.16110924e-02, 2.26985413e-02, 4.83339094e-03,\n",
       "       1.35757070e-02, 2.98601234e-02, 1.17078853e-02, 1.31675717e-02,\n",
       "       3.15699513e-02, 1.00375112e-03, 8.39512144e-06, 0.00000000e+00,\n",
       "       9.57649304e-02, 1.88950256e-02, 7.82382920e-03, 5.13546834e-02,\n",
       "       1.30158078e-02, 1.09787068e-02, 1.00375112e-03])"
      ]
     },
     "execution_count": 75,
     "metadata": {},
     "output_type": "execute_result"
    }
   ],
   "source": [
    "genre_distribution"
   ]
  },
  {
   "cell_type": "code",
   "execution_count": 86,
   "metadata": {
    "tags": []
   },
   "outputs": [
    {
     "data": {
      "text/plain": [
       "0          Jack Palance\n",
       "1          Jack Palance\n",
       "2          Jack Palance\n",
       "3          Jack Palance\n",
       "4          Jack Palance\n",
       "              ...      \n",
       "31014    Joseph Cousins\n",
       "31015         Ju Jin-mo\n",
       "31016       Eung-soo No\n",
       "31017        Seo-yun Ji\n",
       "31018      Kim, A-joong\n",
       "Name: actor_name, Length: 31019, dtype: object"
      ]
     },
     "execution_count": 86,
     "metadata": {},
     "output_type": "execute_result"
    }
   ],
   "source": [
    "actors_characters_personas_genres[\"actor_name\"]"
   ]
  },
  {
   "cell_type": "code",
   "execution_count": 79,
   "metadata": {
    "tags": []
   },
   "outputs": [
    {
     "data": {
      "text/plain": [
       "-187.64488753861306"
      ]
     },
     "execution_count": 79,
     "metadata": {},
     "output_type": "execute_result"
    }
   ],
   "source": [
    "actor_freq = actors_characters_personas_genres.iloc[0][\"genres_freq\"]\n",
    "compute_log_likelihood(actor_freq, genre_distribution)"
   ]
  },
  {
   "cell_type": "code",
   "execution_count": 84,
   "metadata": {
    "tags": []
   },
   "outputs": [
    {
     "data": {
      "text/plain": [
       "[0.09589041100000001,\n",
       " 0.0,\n",
       " 0.0684931507,\n",
       " 0.0068493151,\n",
       " 0.013698630100000001,\n",
       " 0.1095890411,\n",
       " 0.0890410959,\n",
       " 0.0,\n",
       " 0.2123287671,\n",
       " 0.0068493151,\n",
       " 0.0205479452,\n",
       " 0.0342465753,\n",
       " 0.0205479452,\n",
       " 0.0410958904,\n",
       " 0.0,\n",
       " 0.0,\n",
       " 0.0205479452,\n",
       " 0.0,\n",
       " 0.0,\n",
       " 0.0,\n",
       " 0.0273972603,\n",
       " 0.0547945205,\n",
       " 0.0,\n",
       " 0.0684931507,\n",
       " 0.013698630100000001,\n",
       " 0.09589041100000001,\n",
       " 0.0]"
      ]
     },
     "execution_count": 84,
     "metadata": {},
     "output_type": "execute_result"
    }
   ],
   "source": [
    "actor_freq"
   ]
  },
  {
   "cell_type": "code",
   "execution_count": null,
   "metadata": {},
   "outputs": [],
   "source": []
  },
  {
   "cell_type": "code",
   "execution_count": 82,
   "metadata": {
    "tags": []
   },
   "outputs": [
    {
     "data": {
      "text/plain": [
       "1.0"
      ]
     },
     "execution_count": 82,
     "metadata": {},
     "output_type": "execute_result"
    }
   ],
   "source": [
    "sum(actor_freq)"
   ]
  },
  {
   "cell_type": "code",
   "execution_count": 83,
   "metadata": {
    "tags": []
   },
   "outputs": [
    {
     "data": {
      "text/plain": [
       "0.9999999999940297"
      ]
     },
     "execution_count": 83,
     "metadata": {},
     "output_type": "execute_result"
    }
   ],
   "source": [
    "sum(genre_distribution)"
   ]
  },
  {
   "cell_type": "code",
   "execution_count": 69,
   "metadata": {},
   "outputs": [
    {
     "data": {
      "image/png": "[encoded data removed]",
      "text/plain": [
       "<Figure size 432x288 with 1 Axes>"
      ]
     },
     "metadata": {
      "needs_background": "light"
     },
     "output_type": "display_data"
    }
   ],
   "source": [
    "# Plot the genres log likelihood distribution\n",
    "sns.histplot(actors_characters_personas_genres[\"genre_log_likelihood\"], bins=20, kde=True)\n",
    "plt.xlabel(\"Log likelihood of genres\")\n",
    "plt.ylabel(\"Number of characters\")\n",
    "plt.title(\"Distribution of log likelihood of genres\")\n",
    "plt.grid(True)\n",
    "plt.show()"
   ]
  },
  {
   "cell_type": "code",
   "execution_count": 72,
   "metadata": {
    "tags": []
   },
   "outputs": [
    {
     "data": {
      "text/plain": [
       "{'Documentary': 1079,\n",
       " 'News': 12,\n",
       " 'Sport': 598,\n",
       " 'Action': 5334,\n",
       " 'Adventure': 4277,\n",
       " 'Biography': 1387,\n",
       " 'Drama': 22196,\n",
       " 'Fantasy': 1757,\n",
       " 'Romance': 7448,\n",
       " 'History': 1275,\n",
       " 'Thriller': 3805,\n",
       " 'War': 1452,\n",
       " 'Crime': 5909,\n",
       " 'Horror': 3240,\n",
       " 'Western': 1324,\n",
       " 'Comedy': 12946,\n",
       " 'Family': 1746,\n",
       " 'Mystery': 2487,\n",
       " 'Sci-Fi': 1548,\n",
       " '\\\\N': 256,\n",
       " 'Music': 1301,\n",
       " 'Musical': 1412,\n",
       " 'Film-Noir': 591,\n",
       " 'Animation': 788,\n",
       " 'Adult': 1,\n",
       " 'Reality-TV': 1}"
      ]
     },
     "execution_count": 72,
     "metadata": {},
     "output_type": "execute_result"
    }
   ],
   "source": [
    "movie_frequency_genre"
   ]
  },
  {
   "cell_type": "code",
   "execution_count": null,
   "metadata": {},
   "outputs": [],
   "source": [
    "movies.columns"
   ]
  },
  {
   "cell_type": "code",
   "execution_count": null,
   "metadata": {},
   "outputs": [],
   "source": [
    "df = actors_characters_personas_genres.dropna(subset=[\"mip_trope\", \"trope_log_likelihood\"])[[\"mip_trope\", \"mip_genre\", \"genre_log_likelihood\", \"trope_log_likelihood\", \"freebase_actor_id\", \"freebase_id\"]].copy()\n",
    "df = df.merge(movies[[\"freebase_id\", \"averageRating\", \"numVotes\", \"box_office\"]], on=\"freebase_id\", how=\"inner\")\n",
    "df[\"rating_category\"] = pd.qcut(df[\"averageRating\"], 3, labels=[\"Low\", \"Medium\", \"High\"])\n",
    "df"
   ]
  },
  {
   "cell_type": "code",
   "execution_count": null,
   "metadata": {},
   "outputs": [],
   "source": [
    "# Method 1: OLS\n",
    "X = df[[\"mip_trope\", \"trope_log_likelihood\"]].to_numpy()\n",
    "X = sm.add_constant(X)\n",
    "Y = df[\"averageRating\"].to_numpy()"
   ]
  },
  {
   "cell_type": "code",
   "execution_count": null,
   "metadata": {},
   "outputs": [],
   "source": [
    "g = sns.JointGrid(x=X[:,1], y=X[:,2], space=0)\n",
    "g.plot_joint(sns.kdeplot,\n",
    "             fill=True,# clip=((2200, 6800), (10, 25)),\n",
    "             thresh=0, levels=100, cmap=\"rocket\")\n",
    "g.plot_marginals(sns.histplot, color=\"#03051A\", alpha=1, bins=25)"
   ]
  },
  {
   "cell_type": "code",
   "execution_count": null,
   "metadata": {},
   "outputs": [],
   "source": [
    "# Use pyplot.hist2d to plot the distribution of the data (use log scale)\n",
    "cmap = plt.cm.get_cmap('viridis')\n",
    "cmap.set_bad(cmap(0))\n",
    "\n",
    "plt.hist2d(X[:,1], X[:,2], bins=60, norm=mpl.colors.LogNorm(vmin=2, vmax=500), cmap=cmap)\n",
    "plt.xlabel(\"MIP score of tropes\")\n",
    "plt.ylabel(\"Log likelihood of tropes\")\n",
    "plt.title(\"Distribution of tropes scores\")\n",
    "plt.colorbar()"
   ]
  },
  {
   "cell_type": "code",
   "execution_count": null,
   "metadata": {},
   "outputs": [],
   "source": [
    "# We use OLS to fit a linear regression model using the MIP score and the log likelihood of genres\n",
    "sm.OLS(Y, X, missing='raise').fit().summary()"
   ]
  },
  {
   "cell_type": "code",
   "execution_count": null,
   "metadata": {},
   "outputs": [],
   "source": [
    "# Create a jointplot to visualize the relationship between the two variables, using the rating_category as hue\n",
    "sns.jointplot(data=df, x=\"mip_trope\", y=\"trope_log_likelihood\", hue=\"rating_category\", kind=\"kde\")\n",
    "plt.show()"
   ]
  },
  {
   "cell_type": "code",
   "execution_count": null,
   "metadata": {},
   "outputs": [],
   "source": [
    "# Same thing for genres\n",
    "X = df[[\"mip_genre\", \"genre_log_likelihood\"]].to_numpy()\n",
    "X = sm.add_constant(X)\n",
    "Y = df[\"averageRating\"].to_numpy()"
   ]
  },
  {
   "cell_type": "code",
   "execution_count": null,
   "metadata": {},
   "outputs": [],
   "source": [
    "# Use pyplot.hist2d to plot the distribution of the data (use log scale)\n",
    "cmap = plt.cm.get_cmap('viridis')\n",
    "cmap.set_bad(cmap(0))\n",
    "\n",
    "plt.hist2d(X[:,1], X[:,2], bins=60, norm=mpl.colors.LogNorm(vmin=2, vmax=500), cmap=cmap)\n",
    "plt.xlabel(\"MIP score of genres\")\n",
    "plt.ylabel(\"Log likelihood of genres\")\n",
    "plt.title(\"Distribution of genres scores\")\n",
    "plt.colorbar()"
   ]
  },
  {
   "cell_type": "code",
   "execution_count": null,
   "metadata": {},
   "outputs": [],
   "source": [
    "# We use OLS to fit a linear regression model using the MIP score and the log likelihood of genres\n",
    "sm.OLS(Y, X, missing='raise').fit().summary()"
   ]
  },
  {
   "cell_type": "code",
   "execution_count": null,
   "metadata": {},
   "outputs": [],
   "source": [
    "# Create a jointplot to visualize the relationship between the two variables, using the rating_category as hue\n",
    "sns.jointplot(data=df, x=\"mip_genre\", y=\"genre_log_likelihood\", hue=\"rating_category\", kind=\"kde\")\n",
    "plt.show()"
   ]
  },
  {
   "cell_type": "markdown",
   "metadata": {},
   "source": [
    "##### Method 1: Kullback-Leibler Divergence\n",
    "\n",
    "- First of as said previously this method only makes sense if we have enought movies to work with (as such we are going to keep actors that has played at least $\\alpha$ movies)\n",
    "\n",
    "- We will order the movies chronologically and we will only keep the first $\\beta %$ movies ($\\beta$ is the treshold), we will denote those by $Q_{\\beta}$\n",
    "\n",
    "- We will consider the distribution of tropes for an actor accross its whole carrier (denoted $P$) and find a way to measure the excess surprise that we observed the distribution $Q_{\\beta}$ when the actual distribution is $P$\n",
    "\n",
    "  - The KL-divergence could be used to measure this however we only have a really rought estimate of the distribution of $Q_{\\beta}$ (having only $\\beta$ sample)\n",
    "\n",
    "  - To fix this we will consider the log-likelihood of our observation. Consider the following likelihood \n",
    "\n",
    "  $$\n",
    "    k(a; \\beta) = - \\frac{1}{\\beta} \\sum_{x \\in F_a; i = 0}^{\\beta} \\log p(x | Q)\n",
    "  $$"
   ]
  },
  {
   "cell_type": "markdown",
   "metadata": {},
   "source": [
    "## Is there a clear distribution shift in the performance of a movie when this actor is/isn't in his comfort zone\n",
    "\n",
    "We want to dertermine whether an actor playing outside of its *comfort* zone will have a negative impact on the movie. "
   ]
  },
  {
   "cell_type": "code",
   "execution_count": null,
   "metadata": {},
   "outputs": [],
   "source": [
    "\n",
    "# Add a column for movie genre\n",
    "actor_movie_genre = actors_characters_personas_genres[['freebase_id', 'freebase_actor_id']]\n",
    "actor_movie_genre = actor_movie_genre.merge(movies[['freebase_id', 'genres', 'movie_release_date']], on='freebase_id', how='left')\n",
    "actor_movie_genre.head()"
   ]
  },
  {
   "cell_type": "code",
   "execution_count": null,
   "metadata": {},
   "outputs": [],
   "source": [
    "# List all genres\n",
    "genres = list({y for ys in actor_movie_genre['genres'].to_list() for y in ys})\n",
    "\n",
    "def extract_distribution(xs, refs):\n",
    "    # xs = [y for ys in list(xs) for y in ys]\n",
    "    xs = np.array([[x.count(ref) for ref in refs] for x in xs], dtype=np.float32)\n",
    "    xs = xs / np.sum(xs, axis=1, keepdims=True)\n",
    "    return np.mean(xs, axis=0)\n",
    "\n",
    "# Group by actor and compute the prior distribution of movie genres per actor\n",
    "df = actor_movie_genre[['freebase_actor_id', 'genres', 'freebase_id']] \\\n",
    "    .groupby('freebase_actor_id') \\\n",
    "    .aggregate({'genres': lambda xs: extract_distribution(xs, genres), 'freebase_id': 'count'}) \\\n",
    "    .rename(columns={'freebase_id': 'total_movies'}) \\\n",
    "    .reset_index()"
   ]
  },
  {
   "cell_type": "code",
   "execution_count": null,
   "metadata": {},
   "outputs": [],
   "source": [
    "# Find all actors with less than 5 movies\n",
    "filtered_actors_id = set(df[df['total_movies'] < 15]['freebase_actor_id'].to_list())\n",
    "\n",
    "# Filter actors on both dataset based on the previous list\n",
    "df = df[~df['freebase_actor_id'].isin(filtered_actors_id)]\n",
    "actor_movie_genre = actor_movie_genre[~actor_movie_genre['freebase_actor_id'].isin(filtered_actors_id)]\n",
    "\n",
    "# Compute the MIP score per actor\n",
    "df['MIP'] = preference_metrics_mutual_information(df['genres']) # FUNCTION NAME HAS CHANGED\n",
    "df['HHI'] = df['genres'].apply(calculate_hhi)"
   ]
  },
  {
   "cell_type": "code",
   "execution_count": null,
   "metadata": {},
   "outputs": [],
   "source": [
    "print(len(actor_movie_genre))"
   ]
  },
  {
   "cell_type": "code",
   "execution_count": null,
   "metadata": {},
   "outputs": [],
   "source": [
    "sns.histplot(df['MIP'], bins=50, kde=True)\n",
    "plt.title('Distribution of Mutual Information Preference (MIP) Scores')\n",
    "plt.xlabel('MIP Score')\n",
    "plt.ylabel('Number of Actors')\n",
    "plt.grid(True)\n",
    "plt.show()"
   ]
  },
  {
   "cell_type": "code",
   "execution_count": null,
   "metadata": {},
   "outputs": [],
   "source": [
    "df.head(1)"
   ]
  },
  {
   "cell_type": "code",
   "execution_count": null,
   "metadata": {},
   "outputs": [],
   "source": [
    "# For each roles of each actor, define the likelihood of the actor to play in this genre\n",
    "def log_likelihood(df, priors):\n",
    "    indices = [[genres.index(x) for x in xs] for xs in df[\"genres\"]]\n",
    "\n",
    "    # Compute the likelihood of each genre\n",
    "    priors_dict = {}\n",
    "    log_likelihood = []\n",
    "    for idx, actor_id in enumerate(df[\"freebase_actor_id\"]):\n",
    "        if actor_id not in priors_dict:\n",
    "            a_variable = priors[priors[\"freebase_actor_id\"] == actor_id]\n",
    "            priors_dict[actor_id] = a_variable.iloc[0][\"genres\"]\n",
    "\n",
    "        prior = priors_dict[actor_id]\n",
    "        log_likelihood.append(np.sum(np.log([prior[index] for index in indices[idx]])))\n",
    "\n",
    "    return log_likelihood\n",
    "\n",
    "actor_movie_genre['log_likelihood'] = log_likelihood(actor_movie_genre, df)"
   ]
  },
  {
   "cell_type": "code",
   "execution_count": null,
   "metadata": {},
   "outputs": [],
   "source": [
    "# Plot the distribution of likelihood\n",
    "sns.histplot(actor_movie_genre['log_likelihood'], bins=50, kde=True)\n",
    "plt.title('Distribution of Likelihood Scores')\n",
    "plt.xlabel('Log Likelihood Score')\n",
    "plt.ylabel('Number of Movies')\n",
    "plt.grid(True)\n",
    "plt.show()"
   ]
  },
  {
   "cell_type": "code",
   "execution_count": null,
   "metadata": {},
   "outputs": [],
   "source": [
    "# Extract a metric to describe the success of a movie\n",
    "# Merge it with the previous dataset\n",
    "movies_df = movies[['freebase_id', 'box_office', 'averageRating', 'numVotes']]\n",
    "actor_movie_genre = actor_movie_genre.merge(movies_df, on='freebase_id', how='left')\n",
    "actor_movie_genre = actor_movie_genre.merge(df[['freebase_actor_id', 'MIP', 'HHI']], on='freebase_actor_id', how='left')\n",
    "actor_movie_genre.head()"
   ]
  },
  {
   "cell_type": "markdown",
   "metadata": {},
   "source": [
    "### Method 1 : "
   ]
  },
  {
   "cell_type": "code",
   "execution_count": null,
   "metadata": {},
   "outputs": [],
   "source": [
    "### Method 1: Analysis using linear regression and OLS\n",
    "# A bit hacky, but we need to add a constant before using OLS (to reduce R²)\n",
    "actor_movie_genre['const'] = np.ones_like(actor_movie_genre['log_likelihood'])\n",
    "sm.OLS(actor_movie_genre['averageRating'], actor_movie_genre[['log_likelihood', 'MIP', 'const']]).fit().summary()"
   ]
  },
  {
   "cell_type": "code",
   "execution_count": null,
   "metadata": {},
   "outputs": [],
   "source": [
    "# Plot each movie with the likelihood and mip using the sns jointplot\n",
    "sns.jointplot(x='log_likelihood', y='MIP', data=actor_movie_genre, kind='hex', gridsize=20)"
   ]
  },
  {
   "cell_type": "code",
   "execution_count": null,
   "metadata": {},
   "outputs": [],
   "source": [
    "# Plot average rating distribution\n",
    "sns.histplot(actor_movie_genre['averageRating'], bins=50, kde=True)"
   ]
  },
  {
   "cell_type": "code",
   "execution_count": null,
   "metadata": {},
   "outputs": [],
   "source": [
    "# Build categories for the movie ratings based on the quantiles (Low, Medium, High)\n",
    "# actor_movie_genre['rating_category'] = pd.qcut(actor_movie_genre['averageRating'], q=3, labels=['Low', 'Medium', 'High'])\n",
    "\n",
    "# Manully cut the rating into 3 categories (Low, Medium, High) based on (< 6, 6 - 7, > 7)\n",
    "actor_movie_genre['rating_category'] = pd.cut(actor_movie_genre['averageRating'], bins=[0, 6, 7, 10], labels=['Low', 'Medium', 'High'])"
   ]
  },
  {
   "cell_type": "code",
   "execution_count": null,
   "metadata": {},
   "outputs": [],
   "source": [
    "# Plot the distribution of likelihood and MIP for each category using jointplot\n",
    "sns.jointplot(data= actor_movie_genre, x='log_likelihood', y='MIP', kind='kde', hue=\"rating_category\", density=True)"
   ]
  },
  {
   "cell_type": "code",
   "execution_count": null,
   "metadata": {
    "tags": []
   },
   "outputs": [],
   "source": [
    "# Scatter plot of MIP vs average rating + regression line using pyplot\n",
    "# and WITHOUT using seaborn\n",
    "\n",
    "# Regression using numpy\n",
    "y = actor_movie_genre['HHI']\n",
    "x = actor_movie_genre['averageRating']\n",
    "A = np.vstack([x, np.ones(len(x))]).T\n",
    "m, c = np.linalg.lstsq(A, y, rcond=None)[0]\n",
    "\n",
    "# Plot the scatter plot\n",
    "plt.figure(figsize=(10, 6))\n",
    "# plt.scatter(actor_movie_genre['HHI'], actor_movie_genre['averageRating'], alpha=0.3)\n",
    "sns.scatterplot(data=actor_movie_genre, x='averageRating', y='HHI', alpha=0.5, hue='rating_category')\n",
    "plt.plot(x, m*x + c, 'r', label='Fitted line')\n",
    "plt.ylabel('HHI')\n",
    "plt.xlabel('Average Rating')\n",
    "plt.title('Average Rating vs HHI')\n",
    "plt.grid(True)\n",
    "plt.show()"
   ]
  }
 ],
 "metadata": {
  "kernelspec": {
   "display_name": "Python 3 (ipykernel)",
   "language": "python",
   "name": "python3"
  },
  "language_info": {
   "codemirror_mode": {
    "name": "ipython",
    "version": 3
   },
   "file_extension": ".py",
   "mimetype": "text/x-python",
   "name": "python",
   "nbconvert_exporter": "python",
   "pygments_lexer": "ipython3",
   "version": "3.10.0"
  }
 },
 "nbformat": 4,
 "nbformat_minor": 4
}
