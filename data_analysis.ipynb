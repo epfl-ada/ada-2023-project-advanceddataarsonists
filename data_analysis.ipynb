{
 "cells": [
  {
   "cell_type": "code",
   "execution_count": 1,
   "metadata": {
    "tags": []
   },
   "outputs": [],
   "source": [
    "import sys\n",
    "import matplotlib.pyplot as plt\n",
    "import matplotlib as mpl\n",
    "import statsmodels.api as sm\n",
    "import seaborn as sns\n",
    "import numpy as np\n",
    "import math\n",
    "from collections import Counter\n",
    "import pandas as pd\n",
    "import warnings\n",
    "import json\n",
    "import os\n",
    "import scipy\n",
    "\n",
    "# Allow python to import modules from the preprocessing folder\n",
    "sys.path.append(\"src/preprocessing/\")\n",
    "warnings.filterwarnings(\"ignore\") # For seaborn\n",
    "\n",
    "from load_dataset import *\n",
    "\n",
    "SAVE_PATH = \"./data/refined\"\n",
    "if not os.path.exists(SAVE_PATH):\n",
    "    os.mkdir(SAVE_PATH)"
   ]
  },
  {
   "cell_type": "markdown",
   "metadata": {},
   "source": [
    "# Table of contents\n",
    "Given the multiple sources of data and the various steps required to set up our future analysis, this notebook is relatively large. To make assessment of our work easier, we provide a table of contents with dynamic links using html anchors for your convenience. Sadly, the dynamic links **do not work** on Github's web interface, so we encourage you to download this notebook and open it in the browser of your choice."
   ]
  },
  {
   "cell_type": "markdown",
   "metadata": {},
   "source": [
    "## [Part 0: Requirements](#part_0_title)\n",
    "\n",
    "### &emsp; [Download data](#part_0_download_data)\n",
    "\n",
    "## [Part I: Load, explore and join movie datasets](#part_1_title)\n",
    "\n",
    "### &emsp; [CMU dataset](#part_1_cmu)\n",
    "\n",
    "#### &emsp; &emsp; [CMU characters](#part_1_cmu_characters)\n",
    "#### &emsp; &emsp; [CMU movies](#part_1_cmu_movies)\n",
    "#### &emsp; &emsp; [CMU plots](#part_1_cmu_plots)\n",
    "#### &emsp; &emsp; [CMU tropes](#part_1_cmu_tropes)\n",
    "\n",
    "### &emsp; [IMDb dataset](#part_1_imdb)\n",
    "\n",
    "#### &emsp; &emsp; [IMDb ratings](#part_1_imdb_ratings)\n",
    "#### &emsp; &emsp; [IMDb titles](#part_1_imdb_title)\n",
    "#### &emsp; &emsp; [IMDb principals](#part_1_imdb_principals)\n",
    "#### &emsp; &emsp; [IMDb people](#part_1_imdb_people)\n",
    "\n",
    "### &emsp; [Joining titles with ratings](#part_1_imdb_title_with_ratings)\n",
    "\n",
    "### &emsp; [Joining CMU movies & plots with IMDb titles & ratings](#part_1_cmu_movies_joined_imdb_title_with_ratings)\n",
    "\n",
    "### &emsp; [Joining IMDb people with IMDb principals](#part_1_imdb_people_with_principals)\n",
    "\n",
    "### &emsp; [Filtering CMU characters](#part_1_cmu_filter_characters)\n",
    "\n",
    "### &emsp; [Joining CMU characters with IMDb people & principals](#part_1_imdb_actors_characters_with_cmu_characters)\n",
    "\n",
    "### &emsp; [Part I summary](#part_1_summary)\n",
    "\n",
    "#### &emsp; &emsp; [Saving](#part_1_saving)\n",
    "\n",
    "## [Part 2: Character tropes / Personas](#part_2_title)\n",
    "\n",
    "### &emsp; [TVTropes personas](#part_2_tv_tropes_personas)\n",
    "\n",
    "#### &emsp; &emsp; [Analyse tropes characters](#part_2_tv_tropes_per_actor)\n",
    "#### &emsp; &emsp; [Introduction of the preference metric](#part_2_preference_metric)\n",
    "#### &emsp; &emsp; [Joining TVTropes with movies](#part_2_tvtropes_joined_movies)\n",
    "\n",
    "### &emsp; [Joining original paper tropes with actors & characters](#part_2_cmu_personas_joined_character)\n",
    "\n",
    "### &emsp; [Part II summary](#part_2_summary)\n",
    "\n",
    "#### &emsp; &emsp; [Saving](#part_2_saving)\n",
    "\n",
    "## [Part 3: Movie based comfort zones](#part_3_movie_based_comfort_zones)\n",
    "\n",
    "### &emsp; [Based on genre](#part_3_movie_based_comfort_zones_genre)\n",
    "\n",
    "#### &emsp; &emsp; [Genre frequency vector per actor](#part_3_genre_freq_vector)\n",
    "#### &emsp; &emsp; [Joining genre frequency vector with actors & characters & tropes](#part_3_merge_characters_genre_freq_vector)\n",
    "#### &emsp; &emsp; [Saving](#part_3_saving)\n",
    "\n",
    "### &emsp; [Part III summary](#part_3_summary)\n",
    "\n",
    "## [Intermezzo : Possible sources of bias and limitations](#part_3_possible_bias_and_limitations)\n",
    "\n",
    "## [Part 4: Analysis](#part_4_title)"
   ]
  },
  {
   "cell_type": "markdown",
   "metadata": {},
   "source": [
    "<hr style=\"height:2px;border:none;color:#333;background-color:#333;\">"
   ]
  },
  {
   "cell_type": "markdown",
   "metadata": {},
   "source": [
    "# Part 0: Requirements <a name=\"part_0_title\"></a>"
   ]
  },
  {
   "cell_type": "markdown",
   "metadata": {},
   "source": [
    "## Download data <a name=\"part_0_download_data\"></a>\n",
    "\n",
    "In order to download all required datasets, run the cell bellow (may take a while the first time)."
   ]
  },
  {
   "cell_type": "code",
   "execution_count": null,
   "metadata": {},
   "outputs": [],
   "source": [
    "%run src/preprocessing/download_dataset.py"
   ]
  },
  {
   "cell_type": "markdown",
   "metadata": {},
   "source": [
    "# Part I: Load, explore and join movie datasets <a name=\"part_1_title\"></a>"
   ]
  },
  {
   "cell_type": "markdown",
   "metadata": {},
   "source": [
    "## CMU dataset <a name=\"part_1_cmu\"></a>\n",
    "\n",
    "We load the 4 `.tsv` and `.txt` files of the CMU dataset into 4 different dataframes"
   ]
  },
  {
   "cell_type": "code",
   "execution_count": null,
   "metadata": {
    "tags": []
   },
   "outputs": [],
   "source": [
    "characters_df = load_characters_df()\n",
    "movies_df = load_movies_df()\n",
    "plot_df = load_plot_df()\n",
    "tvtropes_df = load_tvtropes_df()"
   ]
  },
  {
   "cell_type": "markdown",
   "metadata": {},
   "source": [
    "### Characters <a name=\"part_1_cmu_characters\"></a>\n",
    "\n",
    "The characters dataframe comes from the CMU movies dataset. This dataframe describes movie characters and provides information about the actor who played the corresponding character. Here is a sample of this dataframe :"
   ]
  },
  {
   "cell_type": "code",
   "execution_count": null,
   "metadata": {
    "tags": []
   },
   "outputs": [],
   "source": [
    "characters_df.sample(5)"
   ]
  },
  {
   "cell_type": "code",
   "execution_count": null,
   "metadata": {
    "tags": []
   },
   "outputs": [],
   "source": [
    "total_characters = len(characters_df)\n",
    "print(f\"Number of characters loaded: {total_characters}\")\n",
    "print(f\"Number of unique movies: {len(characters_df['wiki_movie_id'].unique())}\")\n",
    "print(f\"Number of unique actors: {len(characters_df['freebase_actor_id'].unique())}\", end=\"\\n\\n\")\n",
    "\n",
    "print(f\"Percentage of missing gender: {characters_df['actor_gender'].isna().sum()/total_characters*100:.2f}%\")\n",
    "print(f\"Percentage of missing height: {characters_df['actor_height'].isna().sum()/total_characters*100:.2f}%\")\n",
    "print(f\"Percentage of missing ethnicity: {characters_df['actor_ethnicity'].isna().sum()/total_characters*100:.2f}%\")\n",
    "print(f\"Percentage of missing age upon release: {characters_df['release_actor_age'].isna().sum()/total_characters*100:.2f}%\", end=\"\\n\\n\")\n",
    "\n",
    "print(f\"Number of character records for which ethnicity is known: {len(characters_df[~characters_df['actor_ethnicity'].isna()])}\")\n",
    "print(f\"Number of unique actors for which ethnicity is known: {len(characters_df[~characters_df['actor_ethnicity'].isna()]['freebase_actor_id'].unique())}\")"
   ]
  },
  {
   "cell_type": "markdown",
   "metadata": {},
   "source": [
    "We can first notice that a great percentage of actor's ethnicity is missing. This may become a problem when we study the impact of actors' ethnicity on the success of a movie. Let's investigate a bit."
   ]
  },
  {
   "cell_type": "code",
   "execution_count": null,
   "metadata": {},
   "outputs": [],
   "source": [
    "actors_ethnicities = characters_df[['freebase_actor_id', 'actor_ethnicity']].dropna().groupby(by='actor_ethnicity').count()\n",
    "actors_ethnicities = actors_ethnicities.sort_values(by='freebase_actor_id')\n",
    "\n",
    "plt.figure(figsize=(20,6))\n",
    "plt.bar(actors_ethnicities.index, actors_ethnicities['freebase_actor_id'], label='')\n",
    "plt.title(\"Actors ethnicities distribution\")\n",
    "plt.yscale('log')\n",
    "plt.xticks([])\n",
    "plt.ylabel(\"Count\")\n",
    "plt.xlabel(\"Ethnicity\")\n",
    "plt.show()"
   ]
  },
  {
   "cell_type": "markdown",
   "metadata": {},
   "source": [
    "As shown, the ethnicities distribution is very heterogeneous. Some ethnicities have only one representative whereas others have more than thousands elements. During analysis, we must be careful on our conclusions as variance gets higher for the ethnicities with fewer representatives. Fortunately, we can quantify uncertainty in our results using tools like p-value and confidence interval."
   ]
  },
  {
   "cell_type": "markdown",
   "metadata": {},
   "source": [
    "### Movies <a name=\"part_1_cmu_movies\"></a>\n",
    "\n",
    "The movies dataframe also comes from the CMU dataset and provides information about movies such as its origins, runtime and box office."
   ]
  },
  {
   "cell_type": "code",
   "execution_count": null,
   "metadata": {},
   "outputs": [],
   "source": [
    "movies_df.sample(5)"
   ]
  },
  {
   "cell_type": "code",
   "execution_count": null,
   "metadata": {},
   "outputs": [],
   "source": [
    "total_movies = len(movies_df)\n",
    "print(f\"Number of movies loaded: {total_movies}\")\n",
    "print(f\"Percentage of missing box office revenue: {movies_df['box_office'].isna().sum()/total_movies*100:.2f}%\")\n",
    "print(f\"Number of movies for which we have matching character data: {len(movies_df.merge(characters_df, how='inner', on=['wiki_movie_id', 'freebase_movie_id'])['freebase_movie_id'].unique())}\")"
   ]
  },
  {
   "cell_type": "markdown",
   "metadata": {},
   "source": [
    "A great proportion of box office revenue data is missing (almost 90%). This makes sense as lots of movies are not shown in cinemas such as TV movies, short movies. Indeed, to get a movie to the box office, one needs to work with studios or convince distributors to distribute the movie.\n",
    "\n",
    "Thus, using box office as a way to measure a movie's performance may be biased because we already filter a specific type of movie. Furthermore, box office does not necessarily reflect the quality of a movie. Indeed some movies may not get a high box office revenue because of a lack of advertising. To fix this issue, we will use users rating from the IMDb database."
   ]
  },
  {
   "cell_type": "code",
   "execution_count": null,
   "metadata": {},
   "outputs": [],
   "source": [
    "# Extract years from the release date of movies\n",
    "movies_df['movie_release_year'] = movies_df[~movies_df['movie_release_date'].isna()]['movie_release_date'].astype(str).str[:4].astype(int)"
   ]
  },
  {
   "cell_type": "code",
   "execution_count": null,
   "metadata": {},
   "outputs": [],
   "source": [
    "plt.hist(movies_df['movie_release_year'], bins=100)\n",
    "plt.yscale(\"log\")\n",
    "plt.xlabel(\"Year\")\n",
    "plt.ylabel(\"Count\")\n",
    "plt.title(\"Movies count per year\")\n",
    "plt.show()"
   ]
  },
  {
   "cell_type": "markdown",
   "metadata": {},
   "source": [
    "We notice that a movie has been produced 700 years before the invention of potography ! Let's investigate:"
   ]
  },
  {
   "cell_type": "code",
   "execution_count": null,
   "metadata": {},
   "outputs": [],
   "source": [
    "wrong_dates = movies_df[movies_df['movie_release_year'] < 1800].index\n",
    "movies_df.loc[wrong_dates]"
   ]
  },
  {
   "cell_type": "markdown",
   "metadata": {},
   "source": [
    "By googling the movie's name, we find that `Hunting season` should be released in 2010 (instead of 1010). This is obviously a typo and 1010 should be replaced by 2010."
   ]
  },
  {
   "cell_type": "code",
   "execution_count": null,
   "metadata": {},
   "outputs": [],
   "source": [
    "# A movie that has the release date 1010. We fix the typo to 2010\n",
    "movies_df.loc[wrong_dates, 'movie_release_year']= 2010\n",
    "movies_df.loc[wrong_dates, 'movie_release_date'] ='2010-12-02'"
   ]
  },
  {
   "cell_type": "code",
   "execution_count": null,
   "metadata": {},
   "outputs": [],
   "source": [
    "n_years = len(movies_df['movie_release_year'].dropna().unique())\n",
    "\n",
    "plt.figure(figsize=(12, 6))\n",
    "plt.hist(movies_df['movie_release_year'], bins=n_years)\n",
    "plt.xlabel(\"Year\")\n",
    "plt.ylabel(\"Count\")\n",
    "plt.title(\"Movies count per year\")\n",
    "plt.show()"
   ]
  },
  {
   "cell_type": "markdown",
   "metadata": {},
   "source": [
    "There are significantly more movies released after 1990 than before in our dataset."
   ]
  },
  {
   "cell_type": "markdown",
   "metadata": {},
   "source": [
    "### Plots <a name=\"part_1_cmu_plots\"></a>\n",
    "\n",
    "The plot dataframe comes from the CMU dataset and provides a summary of the plot of a given movie."
   ]
  },
  {
   "cell_type": "code",
   "execution_count": null,
   "metadata": {
    "tags": []
   },
   "outputs": [],
   "source": [
    "plot_df.sample(5)"
   ]
  },
  {
   "cell_type": "code",
   "execution_count": null,
   "metadata": {},
   "outputs": [],
   "source": [
    "total_plot = len(plot_df)\n",
    "print(f\"Number of plot summaries loaded: {total_plot}\")"
   ]
  },
  {
   "cell_type": "markdown",
   "metadata": {},
   "source": [
    "### Tropes <a name=\"part_1_cmu_tropes\"></a>\n",
    "\n",
    "The tvtropes dataframe is the one used by the CMU researchers to validate their personas learning algorithm. Unfortunately, this dataset does not contain a lot of tvtropes and can not be used for our analysis. Thus we need other databases to get the persona of movie characters."
   ]
  },
  {
   "cell_type": "code",
   "execution_count": null,
   "metadata": {
    "scrolled": true,
    "tags": []
   },
   "outputs": [],
   "source": [
    "tvtropes_df.sample(5)"
   ]
  },
  {
   "cell_type": "code",
   "execution_count": null,
   "metadata": {},
   "outputs": [],
   "source": [
    "total_tropes = len(tvtropes_df)\n",
    "print(f\"Number of tropes loaded: {total_tropes}\")"
   ]
  },
  {
   "cell_type": "markdown",
   "metadata": {},
   "source": [
    "## IMDB dataset <a name=\"part_1_imdb\"></a>\n",
    "\n",
    "We need to define a metric of \"success\" of a film. Even if we are already provided with the `box_office` column in the cmu dataset, it only includes data for the bigger movies, wihch represent only 10% of the movies. We have therefore decided to use the imdb rating of the film as a metric defining its performance.\n",
    "\n",
    "We also used the `people` and `principals` collections from IMDb to enrich the `characters` collection from the CMU corpus, reducing the amount of missing information.\n",
    "\n",
    "We load the 4 `.tsv` files of the IMDB dataset into 4 different dataframes"
   ]
  },
  {
   "cell_type": "code",
   "execution_count": null,
   "metadata": {
    "tags": []
   },
   "outputs": [],
   "source": [
    "imdb_ratings_df = load_imdb_ratings()\n",
    "imdb_title_df = load_imdb_title_basics()\n",
    "imdb_principals_df = load_imdb_title_principals()\n",
    "imdb_people_df = load_imdb_person_basics()"
   ]
  },
  {
   "cell_type": "code",
   "execution_count": null,
   "metadata": {},
   "outputs": [],
   "source": [
    "imdb_principals_df.sample(5)"
   ]
  },
  {
   "cell_type": "markdown",
   "metadata": {},
   "source": [
    "### Ratings <a name=\"part_1_imdb_ratings\"></a>"
   ]
  },
  {
   "cell_type": "code",
   "execution_count": null,
   "metadata": {},
   "outputs": [],
   "source": [
    "imdb_ratings_df.sample(5)"
   ]
  },
  {
   "cell_type": "code",
   "execution_count": null,
   "metadata": {},
   "outputs": [],
   "source": [
    "total_ratings = len(imdb_ratings_df)\n",
    "print(f\"We have {total_ratings} movies for which we have a rating.\")\n",
    "\n",
    "# Check the distribution of grades\n",
    "sns.histplot(data=imdb_ratings_df, x=\"averageRating\", bins=50)\n",
    "\n",
    "plt.title(\"Distribution of movie ratings\")\n",
    "plt.xlabel(\"Rating\")\n",
    "plt.ylabel(\"Number of movies\")\n",
    "plt.show()\n",
    "\n",
    "# Check the distribution of votes\n",
    "sns.histplot(data=imdb_ratings_df, x=\"numVotes\", bins=100, log_scale=True)\n",
    "plt.yscale(\"log\")\n",
    "\n",
    "plt.title(\"Number of movies over number of votes\")\n",
    "plt.xlabel(\"Number of votes\")\n",
    "plt.ylabel(\"Number of movies\")\n",
    "plt.show()"
   ]
  },
  {
   "cell_type": "markdown",
   "metadata": {},
   "source": [
    "### Titles <a name=\"part_1_imdb_title\"></a>"
   ]
  },
  {
   "cell_type": "code",
   "execution_count": null,
   "metadata": {},
   "outputs": [],
   "source": [
    "imdb_title_df.sample(5)"
   ]
  },
  {
   "cell_type": "code",
   "execution_count": null,
   "metadata": {},
   "outputs": [],
   "source": [
    "# Remove adult content\n",
    "imdb_title_df = imdb_title_df[imdb_title_df[\"isAdult\"].astype(int) == 0]\n",
    "total_title = len(imdb_title_df)\n",
    "print(f\"We have {total_title} movie titles\")"
   ]
  },
  {
   "cell_type": "markdown",
   "metadata": {},
   "source": [
    "### Principals <a name=\"part_1_imdb_principals\"></a>"
   ]
  },
  {
   "cell_type": "code",
   "execution_count": null,
   "metadata": {},
   "outputs": [],
   "source": [
    "total_principals = len(imdb_principals_df)\n",
    "print(f\"We have {total_principals} principals records\")\n",
    "print(f\"We have {len(imdb_principals_df['category'].unique())} categories\")\n",
    "print(f\"We have {len(imdb_principals_df['nconst'].unique())} unique persons\", end=\"\\n\\n\")\n",
    "\n",
    "imdb_principals_df.sample(5)"
   ]
  },
  {
   "cell_type": "markdown",
   "metadata": {},
   "source": [
    "### People <a name=\"part_1_imdb_people\"></a>"
   ]
  },
  {
   "cell_type": "code",
   "execution_count": null,
   "metadata": {},
   "outputs": [],
   "source": [
    "total_people = len(imdb_people_df)\n",
    "print(f\"We have {total_people} people records\")\n",
    "print(f\"We have {len(imdb_people_df['nconst'].unique())} unique persons\")\n",
    "\n",
    "imdb_people_df.sample(5)"
   ]
  },
  {
   "cell_type": "markdown",
   "metadata": {},
   "source": [
    "## Merge IMDb movie titles with IMDb ratings <a name=\"part_1_imdb_title_with_ratings\"></a>"
   ]
  },
  {
   "cell_type": "code",
   "execution_count": null,
   "metadata": {
    "tags": []
   },
   "outputs": [],
   "source": [
    "imdb_title_with_rating = imdb_title_df.merge(imdb_ratings_df, on='tconst', how='inner')\n",
    "\n",
    "total_movies_w_rating = len(imdb_title_with_rating)\n",
    "print(f\"We have {total_movies_w_rating} movies with ratings\")\n",
    "\n",
    "imdb_title_with_rating.sample(5)"
   ]
  },
  {
   "cell_type": "markdown",
   "metadata": {},
   "source": [
    "There is more than one quarter of a million movies for which we have at least one rating. We have clearly much more data to work with than with box office revenue. Furthermore, there is a substantial amount of movies who have at least a few hundreds votes. This will allow us to get better confidence interval and reduce uncertainty in our analysis."
   ]
  },
  {
   "cell_type": "markdown",
   "metadata": {},
   "source": [
    "## Merge CMU movies and plot summaries with IMDB titles and ratings <a name=\"part_1_cmu_movies_joined_imdb_title_with_ratings\"></a>\n",
    "\n",
    "The translation dataframe from wikidata, which includes both the IMDB id and the Freebase id, enables us to combine the IMDB dataset with the CMU dataset"
   ]
  },
  {
   "cell_type": "code",
   "execution_count": null,
   "metadata": {},
   "outputs": [],
   "source": [
    "translation_id = load_translation_df()\n",
    "\n",
    "imdb_title_with_rating_translated = imdb_title_with_rating.merge(translation_id, how='inner', left_on='tconst', right_on='imdb_id').copy()\n",
    "imdb_title_with_rating_translated = imdb_title_with_rating_translated.drop([\"imdb_id\"], axis=1)\n",
    "\n",
    "cmu_movies_w_imdb_rating = imdb_title_with_rating_translated.merge(movies_df, how='inner', left_on='freebase_id', right_on='freebase_movie_id').copy()\n",
    "\n",
    "# Enriching CMU data\n",
    "# IMDB start year has no missing data, so we insert it into \"NaN\" fields of \"movie_release_date\" and drop \"startYear\"\n",
    "missing_years = cmu_movies_w_imdb_rating[cmu_movies_w_imdb_rating['movie_release_date'].isna()].index\n",
    "cmu_movies_w_imdb_rating.loc[missing_years, 'movie_release_date'] = cmu_movies_w_imdb_rating.loc[missing_years, 'startYear']\n",
    "\n",
    "# We have MANY depulicated attributes\n",
    "# We evaluated for each pair which column had more missing data and dropped it in favor of the other\n",
    "cmu_movies_w_imdb_rating = cmu_movies_w_imdb_rating.drop([\"freebase_movie_id\", \"titleType\", \"isAdult\", \"endYear\", \"primaryTitle\", \"originalTitle\", \"movie_release_year\", \"movie_runtime\", \"startYear\"], axis=1)\n",
    "\n",
    "cmu_movies_w_imdb_rating = cmu_movies_w_imdb_rating.drop_duplicates(\"tconst\")\n",
    "print(f\"The merged dataframe contains {len(cmu_movies_w_imdb_rating)} movies with corresponding ratings\")"
   ]
  },
  {
   "cell_type": "code",
   "execution_count": null,
   "metadata": {},
   "outputs": [],
   "source": [
    "# Add summaries\n",
    "cmu_movies_w_imdb_rating = cmu_movies_w_imdb_rating.merge(plot_df, on=\"wiki_movie_id\", how=\"left\")\n",
    "cmu_movies_w_imdb_rating.sample(5)"
   ]
  },
  {
   "cell_type": "markdown",
   "metadata": {},
   "source": [
    "## Merge IMDb people and IMDb principals <a name=\"part_1_imdb_people_with_principals\"></a>\n",
    "We now focus on characters and actors. We merge the two dataframes from IMDB and keep records of interest i.e for which the movie is in the collection above."
   ]
  },
  {
   "cell_type": "code",
   "execution_count": null,
   "metadata": {},
   "outputs": [],
   "source": [
    "titles_of_interest = set(cmu_movies_w_imdb_rating[\"tconst\"].to_list())\n",
    "\n",
    "imdb_people_not_nan = imdb_people_df[imdb_people_df[\"primaryProfession\"].notna()]\n",
    "\n",
    "# Filter IMDb data to keep actors and actresses\n",
    "imdb_actors = imdb_people_not_nan[imdb_people_not_nan[\"primaryProfession\"].apply(lambda l : (\"actor\" in l) or (\"actress\" in l))].copy()\n",
    "imdb_principals_actors = imdb_principals_df[(imdb_principals_df[\"category\"] == \"actress\") | (imdb_principals_df[\"category\"] == \"actor\")].copy()\n",
    "\n",
    "imdb_actors_and_characters = imdb_actors.merge(imdb_principals_actors, on=\"nconst\", how=\"inner\").copy()\n",
    "\n",
    "# Only keep actors and actresses from movies that have a rating\n",
    "imdb_actors_and_characters = imdb_actors_and_characters[imdb_actors_and_characters[\"tconst\"].isin(titles_of_interest)]\n",
    "imdb_actors_and_characters = imdb_actors_and_characters.drop([\"ordering\", \"category\", \"job\", \"primaryProfession\"], axis=1)"
   ]
  },
  {
   "cell_type": "code",
   "execution_count": null,
   "metadata": {},
   "outputs": [],
   "source": [
    "imdb_actors_and_characters.sample(5)"
   ]
  },
  {
   "cell_type": "markdown",
   "metadata": {},
   "source": [
    "## Filter CMU characters <a name=\"part_1_cmu_filter_characters\"></a>\n",
    "We keep records of interest in the same fashion as done above"
   ]
  },
  {
   "cell_type": "code",
   "execution_count": null,
   "metadata": {},
   "outputs": [],
   "source": [
    "titles_of_interest_wiki = cmu_movies_w_imdb_rating[\"wiki_movie_id\"].to_list()\n",
    "characters_interest = characters_df[characters_df[\"wiki_movie_id\"].isin(titles_of_interest_wiki)]\n",
    "characters_interest.sample(5)"
   ]
  },
  {
   "cell_type": "markdown",
   "metadata": {},
   "source": [
    "## Merge IMDb actors and characters with CMU characters <a name=\"part_1_imdb_actors_characters_with_cmu_characters\"></a>\n",
    "\n",
    "We merge IMDB character and actor data with the CMU data. We make use of the movie translation dataframe again and the actor translation dataframe. We assume that an actor only plays one role in a movie. This is not necessarily true as some actors may play many roles in the same movie, but we assume that those cases are sufficiently rare so that we can ignore them."
   ]
  },
  {
   "cell_type": "code",
   "execution_count": null,
   "metadata": {},
   "outputs": [],
   "source": [
    "# Actor translation dataframe\n",
    "actor_translation_df = load_actors_translation_df()\n",
    "actor_translation_df = actor_translation_df.rename(columns={'imdb_id' : 'actor_imdb_id', 'freebase_id' : 'actor_freebase_id'})"
   ]
  },
  {
   "cell_type": "code",
   "execution_count": null,
   "metadata": {},
   "outputs": [],
   "source": [
    "# Prepare the datasets for merging by adding translation information\n",
    "imdb_actors_and_characters_translated = imdb_actors_and_characters.merge(translation_id, how='inner', left_on='tconst', right_on='imdb_id').copy()\n",
    "imdb_actors_and_characters_translated = imdb_actors_and_characters_translated.merge(actor_translation_df, how='inner', left_on='nconst', right_on='actor_imdb_id')\n",
    "imdb_actors_and_characters_translated = imdb_actors_and_characters_translated.drop([\"imdb_id\", \"actor_imdb_id\"], axis=1)"
   ]
  },
  {
   "cell_type": "code",
   "execution_count": null,
   "metadata": {},
   "outputs": [],
   "source": [
    "imdb_actors_w_cmu_characters = imdb_actors_and_characters_translated.merge(characters_interest, how='right', left_on=['freebase_id', 'actor_freebase_id'], right_on=['freebase_movie_id', 'freebase_actor_id']).copy()"
   ]
  },
  {
   "cell_type": "code",
   "execution_count": null,
   "metadata": {},
   "outputs": [],
   "source": [
    "# Merge birth year information\n",
    "missing_birth_years = imdb_actors_w_cmu_characters[imdb_actors_w_cmu_characters['actor_birth'].isna()].index\n",
    "imdb_actors_w_cmu_characters.loc[missing_birth_years, 'actor_birth'] = imdb_actors_w_cmu_characters.loc[missing_birth_years, 'birthYear']\n",
    "\n",
    "def get_first_characters(ls):\n",
    "    \"\"\"\n",
    "    Retrieves the first character of the corresponding IMDb column\n",
    "\n",
    "    Parameters\n",
    "    ----------\n",
    "    ls : str\n",
    "        List-like string of characters\n",
    "        \n",
    "    Returns\n",
    "    -------\n",
    "    str\n",
    "        The character name\n",
    "    \"\"\"\n",
    "    \n",
    "    if isinstance(ls, float) | (ls == \"\\\\N\"):\n",
    "        return np.nan\n",
    "    return ls.split('\"')[1]\n",
    "\n",
    "# Merge character information\n",
    "imdb_actors_w_cmu_characters[\"characters\"] = imdb_actors_w_cmu_characters[\"characters\"].apply(get_first_characters)\n",
    "missing_characters = imdb_actors_w_cmu_characters[imdb_actors_w_cmu_characters['character_name'].isna()].index\n",
    "imdb_actors_w_cmu_characters.loc[missing_characters, 'character_name'] = imdb_actors_w_cmu_characters.loc[missing_characters, 'characters']\n",
    "\n",
    "# Drop duplicates and column names\n",
    "imdb_actors_w_cmu_characters = imdb_actors_w_cmu_characters.drop([\"freebase_id\", \"actor_freebase_id\", \"primaryName\", \"deathYear\", \"birthYear\", \"knownForTitles\", \"nconst\", \"tconst\", \"characters\"], axis=1)\n",
    "imdb_actors_w_cmu_characters = imdb_actors_w_cmu_characters.drop_duplicates(subset=\"freebase_map_id\")\n",
    "imdb_actors_w_cmu_characters = imdb_actors_w_cmu_characters.rename(columns={'freebase_movie_id' : 'freebase_id'})\n",
    "\n",
    "imdb_actors_w_cmu_characters.head(5)"
   ]
  },
  {
   "cell_type": "markdown",
   "metadata": {},
   "source": [
    "## Summary of results for part I <a name=\"part_1_summary\"></a>\n",
    "We now have two main dataframes for further analysis. One containing everything related to movies and their ratings and the other containing everything related to actors, their features and characters they played in a given movie."
   ]
  },
  {
   "cell_type": "code",
   "execution_count": null,
   "metadata": {},
   "outputs": [],
   "source": [
    "movies = cmu_movies_w_imdb_rating.copy()\n",
    "actors_characters = imdb_actors_w_cmu_characters.copy()\n",
    "movies.head()"
   ]
  },
  {
   "cell_type": "code",
   "execution_count": null,
   "metadata": {
    "scrolled": true
   },
   "outputs": [],
   "source": [
    "actors_characters.head()"
   ]
  },
  {
   "cell_type": "markdown",
   "metadata": {},
   "source": [
    "### Saving <a name=\"part_1_saving\"></a>"
   ]
  },
  {
   "cell_type": "code",
   "execution_count": null,
   "metadata": {},
   "outputs": [],
   "source": [
    "movies.to_json(os.path.join(SAVE_PATH, \"movies.json\"), orient='records')"
   ]
  },
  {
   "cell_type": "code",
   "execution_count": null,
   "metadata": {},
   "outputs": [],
   "source": [
    "actors_characters.to_json(os.path.join(SAVE_PATH, \"characters.json\"), orient='records')"
   ]
  },
  {
   "cell_type": "markdown",
   "metadata": {},
   "source": [
    "# Part II: Character tropes / Personas <a name=\"part_2_title\"></a>"
   ]
  },
  {
   "cell_type": "code",
   "execution_count": null,
   "metadata": {},
   "outputs": [],
   "source": [
    "# Load results of part I\n",
    "movies = pd.read_json(os.path.join(SAVE_PATH, \"movies.json\"))\n",
    "actors_characters = pd.read_json(os.path.join(SAVE_PATH, \"characters.json\"))"
   ]
  },
  {
   "cell_type": "markdown",
   "metadata": {},
   "source": [
    "## TVTropes personas <a name=\"part_2_tv_tropes_personas\"></a>\n",
    "We now load the 500 personas records we extracted from TVTropes"
   ]
  },
  {
   "cell_type": "code",
   "execution_count": null,
   "metadata": {},
   "outputs": [],
   "source": [
    "tvtropes_personas = load_tv_tropes_personas_df()\n",
    "tvtropes_personas.head()"
   ]
  },
  {
   "cell_type": "markdown",
   "metadata": {},
   "source": [
    "### Analyse tropes per actor <a name=\"part_2_tv_tropes_per_actor\"></a>\n",
    "Let's see if actors have diverse tropes"
   ]
  },
  {
   "cell_type": "code",
   "execution_count": null,
   "metadata": {},
   "outputs": [],
   "source": [
    "# We group by actors and aggregate tropes together. We sort the resulting dataframe by the number of tropes\n",
    "tvtropes_per_actor = tvtropes_personas[[\"actor\", \"trope\"]].copy().groupby(\"actor\").agg(list).reset_index()\n",
    "tvtropes_per_actor[\"num_tropes\"] = tvtropes_per_actor[\"trope\"].apply(lambda ls: len(list(dict.fromkeys(ls))))\n",
    "tvtropes_per_actor = tvtropes_per_actor.sort_values(\"num_tropes\", ascending = False)\n",
    "\n",
    "tvtropes_per_actor.head()"
   ]
  },
  {
   "cell_type": "code",
   "execution_count": null,
   "metadata": {},
   "outputs": [],
   "source": [
    "plt.figure(figsize=(8, 4))\n",
    "sns.barplot(data = tvtropes_per_actor.head(20), x=\"num_tropes\", y=\"actor\", orient='h')\n",
    "plt.xlabel('Number of Tropes')\n",
    "plt.ylabel('Actor')\n",
    "plt.title('Top 20 actors with the most diverse tropes')\n",
    "plt.show()"
   ]
  },
  {
   "cell_type": "markdown",
   "metadata": {},
   "source": [
    "As we can see we have a problem. We only have very few well known actors with multiple personas. This makes further analysis impossible, but we use this very high quality dataset to introduce our metrics"
   ]
  },
  {
   "cell_type": "markdown",
   "metadata": {},
   "source": [
    "### Preference Metric <a name=\"part_2_preference_metric\"></a>\n",
    "\n",
    "As describe in the [`README.md`](./README.md#methods), we need a **preference metric** per actor. This metric should measure the tendency for a given actor $A$ to have a preferred trope (or set of tropes). A naïve approach would be to compare the distribution of a given actor $A$ to the uniform distribution of tropes. However a rapid analysis show us that the global tropes distribution is not uniform (and as such a more meaningful metric should be determined).\n",
    "\n"
   ]
  },
  {
   "cell_type": "markdown",
   "metadata": {},
   "source": [
    "A more meaningfull metric need to be extracted\n",
    "\n",
    "- **Cross Entropy based metric**:\n",
    "       \n",
    "   The Cross Entropy Metric focuses on the entropy of persona choices given the actor\n",
    "   $$\\text{pref}(\\text{actor}) = \\frac{ H(\\text{Persona}) }{ H(\\text{Persona} | \\text{Actor} = \\text{actor})}$$\n",
    "\n",
    "   This metric has the following property\n",
    "   - If the actor $a$ always plays the same persona, then $\\text{pref}(a) = +\\infty$\n",
    "   - If the actor $a$ plays each persona randomly (same distribution than the global distribution), then $\\text{pref}(a) = 1$\n",
    "\n",
    "   > Note that this metric is not well-behaved as it is not bounded. We can take the inverse to keep a value between 0 and 1, the value 1 would mean that $A$ plays each persona randomly and 0 would mean that $A$ keeps playing the same persona"
   ]
  },
  {
   "cell_type": "code",
   "execution_count": null,
   "metadata": {},
   "outputs": [],
   "source": [
    "# Implementation of the cross entropy per actors\n",
    "tvtropes_per_actor_filtered = tvtropes_per_actor[tvtropes_per_actor[\"num_tropes\"] > 3].copy()\n",
    "tvtropes_per_actor_filtered\n",
    "\n",
    "def compute_entropy(array_like):\n",
    "    array_like = list(array_like)\n",
    "    dic = {}\n",
    "    for elem in array_like:\n",
    "        dic[elem] = dic.get(elem, 0) + 1\n",
    "    occurences = np.array(list(dic.values()))\n",
    "    probabilities = occurences / np.sum(occurences)\n",
    "    return -np.dot(np.log2(probabilities), probabilities)\n",
    "\n",
    "H_global = compute_entropy(tvtropes_per_actor_filtered['trope'].sum())\n",
    "\n",
    "tvtropes_per_actor_filtered['cross_entropy_based'] = H_global / tvtropes_per_actor_filtered['trope'].apply(compute_entropy)\n",
    "tvtropes_per_actor_filtered.head()"
   ]
  },
  {
   "cell_type": "markdown",
   "metadata": {},
   "source": [
    "- **Mutual Information**:\n",
    "\n",
    "   The Mutual Information Metric captures the information gain about the actor's persona choices relative to the global persona distribution\n",
    "   $$\\text{pref}(\\text{actor}) = \\frac{ H(\\text{Persona}) - H(\\text{Persona} | \\text{Actor} = \\text{actor}) }{H(\\text{Persona})}$$\n",
    "      \n",
    "   This metric has the following property\n",
    "   - If the actor $a$ always plays the same persona, then $\\text{pref}(a) = 1$\n",
    "   - If the actor $a$ plays each persona randomly (same distribution than the global distribution), then $\\text{pref}(a) = 0$"
   ]
  },
  {
   "cell_type": "code",
   "execution_count": null,
   "metadata": {},
   "outputs": [],
   "source": [
    "tvtropes_per_actor_filtered['mutual_information_based'] = (H_global - tvtropes_per_actor_filtered['trope'].apply(compute_entropy)) / H_global\n",
    "tvtropes_per_actor_filtered.head()"
   ]
  },
  {
   "cell_type": "markdown",
   "metadata": {},
   "source": [
    "### Analyse frequency of tropes when joined with our movies <a name=\"part_2_tvtropes_joined_movies\"></a>\n",
    "Get an idea of the distribution of personas."
   ]
  },
  {
   "cell_type": "code",
   "execution_count": null,
   "metadata": {},
   "outputs": [],
   "source": [
    "# We \"standardize\" movie name and try joining TVTropes personas and Movies\n",
    "tvtropes_personas_std = tvtropes_personas.copy()\n",
    "tvtropes_personas_std['movie_name_standardized'] = tvtropes_personas_std['movie_name'].str.lower()\n",
    "\n",
    "movies_std = movies.copy()\n",
    "movies_std['movie_name_standardized'] = movies_std['movie_name'].str.lower()\n",
    "\n",
    "movies_personas = movies_std.merge(tvtropes_personas_std, on='movie_name_standardized', how='inner')"
   ]
  },
  {
   "cell_type": "code",
   "execution_count": null,
   "metadata": {},
   "outputs": [],
   "source": [
    "trope_value_counts = movies_personas['trope'].value_counts()\n",
    "\n",
    "plt.figure(figsize=(20, 18))\n",
    "trope_value_counts.plot(kind='barh', xticks=[])\n",
    "plt.xlabel('Count')\n",
    "plt.ylabel('Tropes')\n",
    "plt.title('Frequency of Tropes in Movies')\n",
    "plt.gca().invert_yaxis()\n",
    "plt.show()"
   ]
  },
  {
   "cell_type": "markdown",
   "metadata": {},
   "source": [
    "## CMU tropes with actors & characters <a name=\"part_2_cmu_personas_joined_character\"></a>\n",
    "\n",
    "We merge the actors and characters information we extracted in part I with the tropes from the original paper"
   ]
  },
  {
   "cell_type": "code",
   "execution_count": null,
   "metadata": {},
   "outputs": [],
   "source": [
    "cmu_personas = load_personas()\n",
    "cmu_personas.sample(5)"
   ]
  },
  {
   "cell_type": "code",
   "execution_count": null,
   "metadata": {},
   "outputs": [],
   "source": [
    "# Rename mapping columns and perform inner join\n",
    "cmu_personas = cmu_personas.drop(columns=['secondary_name', 'full_name', \"wiki_id\"])\n",
    "cmu_personas = cmu_personas.rename(columns={'freebase_id' : 'freebase_map_id'})\n",
    "movies_personas_cmu = cmu_personas.merge(actors_characters, on='freebase_map_id')"
   ]
  },
  {
   "cell_type": "code",
   "execution_count": null,
   "metadata": {},
   "outputs": [],
   "source": [
    "print(f\"We have {len(movies_personas_cmu)} records for characters and their corresponding trope\")"
   ]
  },
  {
   "cell_type": "markdown",
   "metadata": {},
   "source": [
    "This offers us one possiblity for further analysis, as we have more than 30'000 records"
   ]
  },
  {
   "cell_type": "code",
   "execution_count": null,
   "metadata": {},
   "outputs": [],
   "source": [
    "characters_per_actor = movies_personas_cmu[['freebase_actor_id', 'freebase_map_id']].groupby(by='freebase_actor_id').count()\n",
    "sns.histplot(data=characters_per_actor, x='freebase_map_id', bins=range(50))\n",
    "plt.yscale('log')\n",
    "plt.xlabel(\"Number of roles\")\n",
    "plt.ylabel(\"Number of actors\")\n",
    "plt.title(\"Histogram of number of roles per actor\")\n",
    "plt.show()"
   ]
  },
  {
   "cell_type": "code",
   "execution_count": null,
   "metadata": {},
   "outputs": [],
   "source": [
    "print(f\"Number of actors with 5 roles or more : {len(characters_per_actor[characters_per_actor['freebase_map_id'] >= 5])}\")\n",
    "print(f\"Number of actors with less than 5 roles : {len(characters_per_actor[characters_per_actor['freebase_map_id'] < 5])}\")"
   ]
  },
  {
   "cell_type": "markdown",
   "metadata": {},
   "source": [
    "With 5 roles or more, we consider that we can decide \"with some confidence\" if an actor has a preferred persona or not (under this threshold, data may not be significant enough). There is a reasonable amount of actors for which we gathered enough roles to be confident in our analysis (1481 actors have more than 5 personas). \n",
    "\n",
    "Nevertheless, in further methods, we may decide to only keep actors with a number of roles greater than some threshold (to be confident in our metric computations). This may become a source of bias as there is more chance that an actor is successful if he plays in more movies (thus our analysis may become relevant only for \"successful\" actors and not for actors in general). "
   ]
  },
  {
   "cell_type": "code",
   "execution_count": null,
   "metadata": {},
   "outputs": [],
   "source": [
    "sns.histplot(data=movies_personas_cmu, x='estimated_trope', bins=range(50))\n",
    "plt.yscale(\"log\")\n",
    "plt.xlabel('Estimated persona index')\n",
    "plt.ylabel('Count')\n",
    "plt.title('Distribution of estimated personas')\n",
    "plt.show()"
   ]
  },
  {
   "cell_type": "markdown",
   "metadata": {},
   "source": [
    "The distribution of estimated personas is very heterogeneous, some personas only have one representative ! This can lead to very high variance. For instance suppose for those personas that their representative (movie role) is in a very good movie (according to our movies' success evaluation), then we will deduce that this persona always lead to very good rating and will bias our analysis. We hope that this issue can be mitigated with uncertainty estimation.\n",
    "\n",
    "Because of all of those possible limitations, to be even more confident with our result, we introduce another way to determine an actor's comfort zone which is based on the movies' genres (presented in next part)."
   ]
  },
  {
   "cell_type": "markdown",
   "metadata": {},
   "source": [
    "## Summary of results for part II <a name=\"part_2_summary\"></a>\n",
    "We took the dataframe containing everything related to actors, their features and characters they played in a given movie from the results of part I and added the character tropes distribution from the original CMU paper. We have also defined our preference metrics and showed an example computation on a subsample of data."
   ]
  },
  {
   "cell_type": "code",
   "execution_count": null,
   "metadata": {},
   "outputs": [],
   "source": [
    "actors_characters_personas = movies_personas_cmu.copy()\n",
    "actors_characters_personas.head()"
   ]
  },
  {
   "cell_type": "markdown",
   "metadata": {},
   "source": [
    "### Saving <a name=\"part_2_saving\"></a>"
   ]
  },
  {
   "cell_type": "code",
   "execution_count": null,
   "metadata": {},
   "outputs": [],
   "source": [
    "actors_characters_personas.to_json(os.path.join(SAVE_PATH, \"characters_personas.json\"), orient='records')"
   ]
  },
  {
   "cell_type": "markdown",
   "metadata": {},
   "source": [
    "# Part III: Movie-based comfort zones <a name=\"part_3_movie_based_comfort_zones\"></a>\n",
    "\n",
    "We investigate the possiblity of coming up with comfort zones by analysing movie features for a given actor instead of personas. Defining an actor's comfort zone as such seems at first glance like a reasonable approach. Indeed, even when an actor embodies diverse characters, if they still play for the same type of movies this would raise questions about whether they are truly venturing beyond their comfort zone. Whereas with totally different genres (such as Sport and Action/Adventure movies for instance), we would be more confident that the difference is significant enough to make a difference for the critics.\n",
    "\n",
    "However this is a much more coarse-grained analysis as differences in actors' tropes may still be really noticeable even for similar genres."
   ]
  },
  {
   "cell_type": "code",
   "execution_count": null,
   "metadata": {
    "tags": []
   },
   "outputs": [],
   "source": [
    "# Load results of part I\n",
    "actors_characters = pd.read_json(os.path.join(SAVE_PATH, \"characters.json\"))\n",
    "movies = pd.read_json(os.path.join(SAVE_PATH, \"movies.json\"))\n",
    "\n",
    "# Load results of part II\n",
    "actors_characters_personas = pd.read_json(os.path.join(SAVE_PATH, \"characters_personas.json\"))"
   ]
  },
  {
   "cell_type": "code",
   "execution_count": null,
   "metadata": {
    "tags": []
   },
   "outputs": [],
   "source": [
    "movies.head()"
   ]
  },
  {
   "cell_type": "code",
   "execution_count": null,
   "metadata": {
    "tags": []
   },
   "outputs": [],
   "source": [
    "actors_characters.head()"
   ]
  },
  {
   "cell_type": "code",
   "execution_count": null,
   "metadata": {
    "tags": []
   },
   "outputs": [],
   "source": [
    "all_data = movies.merge(actors_characters, how=\"inner\", on=[\"freebase_id\", \"wiki_movie_id\"])\n",
    "\n",
    "all_data.head()"
   ]
  },
  {
   "cell_type": "code",
   "execution_count": null,
   "metadata": {},
   "outputs": [],
   "source": [
    "# Potentially merge with IMDB genres, we chose not to\n",
    "all_data[\"movie_genres\"] = all_data[\"movie_genres\"].apply(lambda dct: list(dct.values()))"
   ]
  },
  {
   "cell_type": "code",
   "execution_count": null,
   "metadata": {},
   "outputs": [],
   "source": [
    "# Drop IMDB genres\n",
    "all_data = all_data.drop(columns=[\"genres\"])"
   ]
  },
  {
   "cell_type": "code",
   "execution_count": null,
   "metadata": {
    "tags": []
   },
   "outputs": [],
   "source": [
    "all_data.columns"
   ]
  },
  {
   "cell_type": "markdown",
   "metadata": {},
   "source": [
    "## Based on movie genre <a name=\"part_3_movie_based_comfort_zones_genre\"></a>"
   ]
  },
  {
   "cell_type": "code",
   "execution_count": null,
   "metadata": {
    "tags": []
   },
   "outputs": [],
   "source": [
    "# Get rid of the freebase_id genre and create an other column simply containing a list of genres\n",
    "movie_genre_per_actor = all_data[[\"freebase_actor_id\", \"actor_name\", \"movie_genres\"]].copy()\n",
    "movie_genre_per_actor = movie_genre_per_actor.rename(columns={\"movie_genres\" : \"genres_flattened\"})\n",
    "\n",
    "# Group data by actor and aggregate genres by simply putting them in a list\n",
    "movie_genre_per_actor = movie_genre_per_actor.groupby([\"freebase_actor_id\", \"actor_name\"]).agg(list).reset_index()\n",
    "movie_genre_per_actor[\"total_movies\"] = movie_genre_per_actor[\"genres_flattened\"].apply(len)\n",
    "\n",
    "# Flatten list of lists\n",
    "movie_genre_per_actor[\"genres_flattened\"] = movie_genre_per_actor[\"genres_flattened\"].apply(lambda ls: [item for row in ls for item in row])\n",
    "\n",
    "# Transform list into dictionary of frequencies\n",
    "movie_genre_per_actor[\"genres_freq\"] = movie_genre_per_actor[\"genres_flattened\"].apply(lambda ls: dict(sorted(dict(Counter(ls)).items(), key=lambda item: item[1], reverse=True)))\n",
    "movie_genre_per_actor = movie_genre_per_actor.drop(\"genres_flattened\", axis=1)"
   ]
  },
  {
   "cell_type": "code",
   "execution_count": null,
   "metadata": {
    "tags": []
   },
   "outputs": [],
   "source": [
    "movie_genre_per_actor.head()"
   ]
  },
  {
   "cell_type": "markdown",
   "metadata": {},
   "source": [
    "### Distribution of some actors"
   ]
  },
  {
   "cell_type": "code",
   "execution_count": null,
   "metadata": {
    "tags": []
   },
   "outputs": [],
   "source": [
    "# We check the most active actor distribution, i.e. the one who played the most total movies\n",
    "top_actors = movie_genre_per_actor.sort_values(\"total_movies\", ascending=False).copy().head()\n",
    "actor_1 = top_actors[\"genres_freq\"].iloc[0]\n",
    "\n",
    "plt.figure(figsize=(12, 4))\n",
    "plt.title('Counts of movie genres for most active actor')\n",
    "sns.barplot(x=list(actor_1.keys()), y=list(actor_1.values()))\n",
    "plt.ylabel(\"Frequency\")\n",
    "plt.xticks(rotation=90)\n",
    "plt.show()"
   ]
  },
  {
   "cell_type": "code",
   "execution_count": null,
   "metadata": {
    "tags": []
   },
   "outputs": [],
   "source": [
    "# We check the second most active actor distribution\n",
    "actor_2 = top_actors[\"genres_freq\"].iloc[1]\n",
    "\n",
    "plt.figure(figsize=(16, 4))\n",
    "plt.title('Counts of movie genres for second most active actor')\n",
    "sns.barplot(x=list(actor_2.keys()), y=list(actor_2.values()))\n",
    "plt.ylabel(\"Frequency\")\n",
    "plt.xticks(rotation=90)\n",
    "plt.show()"
   ]
  },
  {
   "cell_type": "markdown",
   "metadata": {},
   "source": [
    "### Create genre frequency vector <a name=\"part_3_genre_freq_vector\"></a>"
   ]
  },
  {
   "cell_type": "code",
   "execution_count": null,
   "metadata": {
    "tags": []
   },
   "outputs": [],
   "source": [
    "# Compute the set of movie genres\n",
    "movie_genres = all_data[\"movie_genres\"]\n",
    "movie_genres_unique = set()\n",
    "for genres in movie_genres:\n",
    "    for genre in genres:\n",
    "        movie_genres_unique.add(genre)\n",
    "        \n",
    "# Unique movie genres sorted alphabetically\n",
    "movie_genres_unique = sorted(list(movie_genres_unique))\n",
    "\n",
    "# Save genres for later interpretation of vectors\n",
    "with open(os.path.join(SAVE_PATH, \"movie_genres.json\"), \"w\") as outfile:\n",
    "    json.dump(movie_genres_unique, outfile)"
   ]
  },
  {
   "cell_type": "code",
   "execution_count": null,
   "metadata": {
    "tags": []
   },
   "outputs": [],
   "source": [
    "def create_movie_genre_frequency_vector(genres_dict):\n",
    "    \"\"\"\n",
    "    Transforms the dictionary of movie genre counts into a {0,1} vector of frequencies\n",
    "\n",
    "    Parameters\n",
    "    ----------\n",
    "    genres_dict : dictionary\n",
    "        keys are movie genres and values are counts\n",
    "        \n",
    "    Returns\n",
    "    -------\n",
    "    list\n",
    "        The frequency vector\n",
    "    \"\"\"\n",
    "    # Initialize\n",
    "    freq_dict = {}\n",
    "    for genre in movie_genres_unique:\n",
    "        freq_dict[genre] = 0\n",
    "    \n",
    "    # Fill our dictionary\n",
    "    tot_count = 0\n",
    "    for genre, freq in genres_dict.items():\n",
    "        tot_count += freq\n",
    "        freq_dict[genre] += freq\n",
    "    \n",
    "    # Compute frequencies\n",
    "    if tot_count != 0:\n",
    "        for genre, freq in freq_dict.items():\n",
    "            freq_dict[genre] /= tot_count\n",
    "    \n",
    "    return list(freq_dict.values())"
   ]
  },
  {
   "cell_type": "code",
   "execution_count": null,
   "metadata": {
    "tags": []
   },
   "outputs": [],
   "source": [
    "movie_genre_freq_vector = movie_genre_per_actor.copy()\n",
    "movie_genre_freq_vector[\"genres_freq\"] = movie_genre_per_actor[\"genres_freq\"].apply(create_movie_genre_frequency_vector)\n",
    "movie_genre_freq_vector = movie_genre_freq_vector.drop([\"actor_name\"], axis=1)"
   ]
  },
  {
   "cell_type": "code",
   "execution_count": null,
   "metadata": {
    "tags": []
   },
   "outputs": [],
   "source": [
    "movie_genre_freq_vector.head()"
   ]
  },
  {
   "cell_type": "markdown",
   "metadata": {},
   "source": [
    "### Merge genre frequency with actors and characters <a name=\"part_3_merge_characters_genre_freq_vector\"></a>"
   ]
  },
  {
   "cell_type": "code",
   "execution_count": null,
   "metadata": {
    "tags": []
   },
   "outputs": [],
   "source": [
    "actors_characters_personas_genres = actors_characters_personas.merge(movie_genre_freq_vector, on=\"freebase_actor_id\", how=\"inner\").copy()"
   ]
  },
  {
   "cell_type": "markdown",
   "metadata": {},
   "source": [
    "### Saving <a name=\"part_3_saving\"></a>"
   ]
  },
  {
   "cell_type": "code",
   "execution_count": null,
   "metadata": {
    "tags": []
   },
   "outputs": [],
   "source": [
    "# tvtropes_per_actor.to_json(os.path.join(SAVE_PATH, \"tvtropes_per_actor.json\"), orient='records')\n",
    "actors_characters_personas_genres.to_json(os.path.join(SAVE_PATH, \"characters_personas_genres.json\"), orient='records')\n",
    "actors_characters_personas_genres.head()"
   ]
  },
  {
   "cell_type": "code",
   "execution_count": null,
   "metadata": {
    "tags": []
   },
   "outputs": [],
   "source": [
    "df = all_data[[\"freebase_actor_id\", \"actor_name\", \"movie_genres\", \"freebase_map_id\", \"freebase_id\"]]\n",
    "df.to_json(os.path.join(SAVE_PATH, \"actor_movies_with_genre.json\"), orient=\"records\")"
   ]
  },
  {
   "cell_type": "markdown",
   "metadata": {},
   "source": [
    "## Summary of results for part III <a name=\"part_3_summary\"></a>\n",
    "We have enriched our characters with tropes in part II and genre frequencies in part III. We have setup our two main dataframes for further analysis `movies` and `actors_characters_personas_genres`."
   ]
  },
  {
   "cell_type": "code",
   "execution_count": null,
   "metadata": {
    "tags": []
   },
   "outputs": [],
   "source": [
    "movies.head()"
   ]
  },
  {
   "cell_type": "code",
   "execution_count": null,
   "metadata": {
    "tags": []
   },
   "outputs": [],
   "source": [
    "actors_characters_personas_genres.head()"
   ]
  },
  {
   "cell_type": "markdown",
   "metadata": {},
   "source": [
    "# Intermezzo : Possible bias and Limitations <a name=\"part_3_possible_bias_and_limitations\"></a>\n",
    "\n",
    "After exploring the data and performing some initial analyses, some doubt arise about our methods. Unfortunately, we could not clear those doubts with those basic analyses as some of them are too insiduous and require deeper analysis. \n",
    "\n",
    "Here are some of the main possible limitations and biases that can occur (and their possible solutions) :\n",
    "\n",
    " - Actor *fame* as a confounder :\n",
    "\n",
    "   Assume that a given actor $A$ have a high preference for a persona $P$. Movies he played as persona $P' \\neq P$ tend to under-perform compare to the other movies. This could be explained by the fact that most movies he played as $P'$ were before he became \"famous\" and as such he was playing roles in movies with much smaller franchise. When he/she became famous, he could take the luxury to decide whether he wanted to play as $P'$ or not.\n",
    "\n",
    "\n",
    "   **Possible Solution** : Based on the assumption that actors *fame* came with time\n",
    "   \n",
    "   - Add a threshold $\\alpha$ and only consider movies for actors that have already played in $K \\geq \\alpha$ movies previously (drop first $\\alpha - 1$ movies for \n",
    "   each actors)\n",
    "      \n",
    "   - Add a third metric $R$ to our model defined as $$R(\\text{Actor}, \\text{Movie}) = \\frac{\\text{Number of movies played by actor A prior to M}}{\\text{Number of movies played by actor A}}$$\n",
    "\n",
    "     This would be able to distinguish between the case where $R < \\alpha$ and $R > \\alpha$ for a given $\\alpha$. We could also try to evaluate the strength of this bias by testing the model *with* and *without* this metric. Notice that this is just an extension of the previously defined method. However this extension is more polyvalent than the previos method.\n",
    "   \n",
    " - Impact of certain *personas* on the overall success of the film :\n",
    "\n",
    "   We could imagine a scenario where the presence of a persona $P$ in our film has a possive effect on the success of this film. As such our model may conclude that actors that have a preference for persona $P$ playing as $P$ have a better effect on the movie success than if he were playing as $P'$ instead.\n",
    "\n",
    "   **Possible Solution** :\n",
    "\n",
    "    - Instead of comparing actors that play in their preferred role or not, we should compare how much better an actor playing in his preferred persona\n",
    "     will improve the movie compared to another actor without particular preference (Let us called this actor the *neutral actor*). We can therefore either\n",
    "     perform\n",
    "\n",
    "      - A difference in difference of means between the both (where *neutral actors* are defined by a certain threshold $\\alpha$ defined on the metric `1.`).\n",
    "     \n",
    "      - Matching between *neutral actors* and *actors* with a preference (however this may end up being complexified by the limited amount)"
   ]
  },
  {
   "cell_type": "markdown",
   "metadata": {},
   "source": [
    "# Part IV: Analysis <a name=\"part_4_title\"></a>"
   ]
  },
  {
   "cell_type": "code",
   "execution_count": 2,
   "metadata": {
    "tags": []
   },
   "outputs": [],
   "source": [
    "# Load all previous results\n",
    "movies = pd.read_json(os.path.join(SAVE_PATH, \"movies.json\"))\n",
    "movie_genres = pd.read_json(os.path.join(SAVE_PATH, \"movie_genres.json\"))\n",
    "\n",
    "actors_characters = pd.read_json(os.path.join(SAVE_PATH, \"characters.json\"))\n",
    "actors_characters_personas = pd.read_json(os.path.join(SAVE_PATH, \"characters_personas.json\"))\n",
    "actors_characters_personas_genres = pd.read_json(os.path.join(SAVE_PATH, \"characters_personas_genres.json\"))\n",
    "\n",
    "actor_movies_with_genre = pd.read_json(os.path.join(SAVE_PATH, \"actor_movies_with_genre.json\"))"
   ]
  },
  {
   "cell_type": "code",
   "execution_count": 3,
   "metadata": {
    "tags": []
   },
   "outputs": [],
   "source": [
    "movies[\"movie_genres\"] = movies[\"movie_genres\"].apply(lambda dct: list(dct.values()))"
   ]
  },
  {
   "cell_type": "code",
   "execution_count": 4,
   "metadata": {
    "tags": []
   },
   "outputs": [],
   "source": [
    "genres = sorted(list(set([y for xs in actor_movies_with_genre[\"movie_genres\"] for y in xs])))\n",
    "\n",
    "# Save genres for later interpretation of vectors\n",
    "genres_one_hot = np.array([np.array(x) for x in actor_movies_with_genre[\"movie_genres\"].apply(\n",
    "    lambda x: [1 if genre in x else 0 for genre in genres]\n",
    ")])\n",
    "genres_freq = genres_one_hot / np.sum(genres_one_hot, axis=1, keepdims=True)\n",
    "actor_movies_with_genre[\"genres_freq\"] = genres_freq.tolist()"
   ]
  },
  {
   "cell_type": "code",
   "execution_count": null,
   "metadata": {},
   "outputs": [],
   "source": [
    "# TODO This breaks everything\n",
    "# actors_characters_personas_genres.drop(columns=[\"genres_freq\"], inplace=True)\n",
    "# actors_characters_personas_genres = actors_characters_personas_genres.merge(actor_movies_with_genre[[\"freebase_actor_id\", \"genres_freq\"]], on=\"freebase_actor_id\", how=\"inner\")"
   ]
  },
  {
   "cell_type": "markdown",
   "metadata": {},
   "source": [
    "## (1) What is the proportion of actors that tend to play the same type of movies/personas ?  \n",
    "## (3) Do actors exhibit a recurring persona accross the characters they play ?"
   ]
  },
  {
   "cell_type": "markdown",
   "metadata": {},
   "source": [
    "### First Approach: Herfindahl-Hirschman Index (HHI)\n",
    "\n",
    "**Herfindahl-Hirschman Index (HHI)**:  \n",
    "Can be used to measure to measure market concentration. A high HHI would indicate an actor frequently plays in the same genre/ the same persona, whereas a low HHI would indicate a more diverse range.\n",
    "\n",
    "$$\n",
    "    \\text{HHI}(a) = \\sum_{i=1}^N (F_{i;a})^2\n",
    "$$\n",
    "\n",
    "Where $F_{i;a}$ is the frequency at which actor $a$ play genre/persona $i$. If the frequency is equally distributed among each role/persona then the HHI index is going to be close to $\\frac{1}{N}$ while if a clear preferrence can be observed then the HHI index is going to be high (close to $1$)"
   ]
  },
  {
   "cell_type": "code",
   "execution_count": 43,
   "metadata": {
    "tags": []
   },
   "outputs": [],
   "source": [
    "def calculate_hhi(frequencies):\n",
    "    # Normalize the frequencies\n",
    "    total = sum(frequencies)\n",
    "    normalized_freq = [f/total for f in frequencies] if total > 0 else frequencies\n",
    "\n",
    "    # Calculate HHI\n",
    "    hhi = sum(f**2 for f in normalized_freq)\n",
    "    return hhi"
   ]
  },
  {
   "cell_type": "markdown",
   "metadata": {
    "tags": []
   },
   "source": [
    "### Second Approach: Use our defined preference metric\n",
    "\n",
    "- **Mutual Information Preference (MIP)**:\n",
    "\n",
    "   The Mutual Information metric captures the information gain about the actor's persona choices relative to the global persona distribution. This metric can also be applied on genres.\n",
    "   $$\\text{MIP}(\\text{actor}) = \\frac{ H(\\text{Persona}) - H(\\text{Persona} | \\text{Actor} = \\text{actor}) }{H(\\text{Persona})}$$\n",
    "      \n",
    "   This metric has the following property\n",
    "   - If the actor $a$ always plays the same persona, then $\\text{MIP}(a) = 1$\n",
    "   - If the actor $a$ plays each persona with the same distribution than the global distribution, then $\\text{MIP}(a) = 0$\n",
    "   - If the actor$a$ play each persona with a more uniform distribution than the global distribution, then $\\text{MIP}(a) < 0$"
   ]
  },
  {
   "cell_type": "code",
   "execution_count": 39,
   "metadata": {
    "tags": []
   },
   "outputs": [],
   "source": [
    "def calculate_mip(frequencies, h_prior):\n",
    "    # Build the posteriori distribution (conditionned on actor)\n",
    "    h_posteriori = scipy.stats.entropy(frequencies, base=2)\n",
    "\n",
    "    return (h_prior - h_posteriori) / h_prior"
   ]
  },
  {
   "cell_type": "markdown",
   "metadata": {},
   "source": [
    "### Third Approach: Use our second defined preference metric\n",
    "\n",
    "- **Kullback–Leibler Divergence (KLD)**:\n",
    "\n",
    "   The Kullback–Leibler divergence captures the **information difference** between the actor's persona choices and the global persona distribution. This metric can also be applied on genres.\n",
    "   $$\\text{KLD}(\\text{actor}) = \\sum_{x \\in \\mathcal{X}} P(\\text{Persona} = x) \\log \\left(\\frac{P(\\text{Persona} = x)}{P(\\text{Persona} = x | \\text{Actor} = actor)} \\right)$$\n",
    "      \n",
    "   This metric has the following properties\n",
    "   - If the actor $a$ plays the same distribution as the global distribution, then $KLD(a) = 0$\n",
    "   - $KLD(a) \\geq 0$"
   ]
  },
  {
   "cell_type": "code",
   "execution_count": 70,
   "metadata": {
    "tags": []
   },
   "outputs": [],
   "source": [
    "def calculate_kld(specific_distribution, global_distribution):\n",
    "    return np.sum(scipy.special.rel_entr(specific_distribution, global_distribution))"
   ]
  },
  {
   "cell_type": "markdown",
   "metadata": {},
   "source": [
    "### Movie genres"
   ]
  },
  {
   "cell_type": "code",
   "execution_count": 40,
   "metadata": {
    "tags": []
   },
   "outputs": [
    {
     "name": "stdout",
     "output_type": "stream",
     "text": [
      "Dropping 11.89% of actor-characters pairs (27330 remaining)\n"
     ]
    }
   ],
   "source": [
    "# This parameter allows us to filter out actors that did not play many movies\n",
    "MINIMUM_NUM_MOVIES_GENRES = 3\n",
    "mask_movies_genre = actors_characters_personas_genres[\"total_movies\"] >= MINIMUM_NUM_MOVIES_GENRES\n",
    "\n",
    "print(\"Dropping {:.2f}% of actor-characters pairs ({} remaining)\".format(100 - 100 * sum(mask_movies_genre) / len(mask_movies_genre), sum(mask_movies_genre)))"
   ]
  },
  {
   "cell_type": "markdown",
   "metadata": {
    "tags": []
   },
   "source": [
    "#### HHI"
   ]
  },
  {
   "cell_type": "code",
   "execution_count": 44,
   "metadata": {
    "tags": []
   },
   "outputs": [],
   "source": [
    "actors_characters_personas_genres[\"hhi_genre\"] = actors_characters_personas_genres[\"genres_freq\"].apply(calculate_hhi)"
   ]
  },
  {
   "cell_type": "code",
   "execution_count": 45,
   "metadata": {
    "tags": []
   },
   "outputs": [
    {
     "data": {
      "image/png": "[encoded data removed]",
      "text/plain": [
       "<Figure size 432x288 with 1 Axes>"
      ]
     },
     "metadata": {
      "needs_background": "light"
     },
     "output_type": "display_data"
    }
   ],
   "source": [
    "sns.histplot(actors_characters_personas_genres.drop_duplicates(\"freebase_actor_id\")[mask_movies_genre][\"hhi_genre\"], bins=50, kde=True)\n",
    "plt.xlabel(\"HHI score of genres\")\n",
    "plt.ylabel(\"Number of actors\")\n",
    "plt.xlim([0,1])\n",
    "plt.title(\"Distribution of actors with respect to HHI score of genres\")\n",
    "plt.grid()\n",
    "plt.show()"
   ]
  },
  {
   "cell_type": "markdown",
   "metadata": {},
   "source": [
    "#### MIP"
   ]
  },
  {
   "cell_type": "code",
   "execution_count": 46,
   "metadata": {
    "tags": []
   },
   "outputs": [
    {
     "name": "stdout",
     "output_type": "stream",
     "text": [
      "Prior entropy of movie genres: 5.92\n"
     ]
    }
   ],
   "source": [
    "# Retrieve movies for which we have characters\n",
    "movies_from_characters = actors_characters.wiki_movie_id.unique()\n",
    "movies_with_characters = movies[movies.wiki_movie_id.isin(movies_from_characters)].reset_index(drop = True).copy()\n",
    "movies_with_characters = movies_with_characters[movies_with_characters[\"movie_genres\"].apply(len) > 0].reset_index(drop = True)\n",
    "\n",
    "# Retrieve global genre distribution\n",
    "all_movie_genres = movies_with_characters[\"movie_genres\"]\n",
    "\n",
    "# Compute the entropy of movie genres\n",
    "movie_frequency_genre = dict(Counter(all_movie_genres.explode().to_list()))\n",
    "movie_genre_prior_h = scipy.stats.entropy(list(movie_frequency_genre.values()), base=2)\n",
    "print(\"Prior entropy of movie genres: {:.2f}\".format(movie_genre_prior_h))"
   ]
  },
  {
   "cell_type": "code",
   "execution_count": 47,
   "metadata": {
    "tags": []
   },
   "outputs": [],
   "source": [
    "actors_characters_personas_genres[\"mip_genre\"] = actors_characters_personas_genres[\"genres_freq\"].apply(lambda genre_freq: calculate_mip(genre_freq, movie_genre_prior_h))"
   ]
  },
  {
   "cell_type": "code",
   "execution_count": 48,
   "metadata": {
    "tags": []
   },
   "outputs": [
    {
     "data": {
      "image/png": "[encoded data removed]",
      "text/plain": [
       "<Figure size 432x288 with 1 Axes>"
      ]
     },
     "metadata": {
      "needs_background": "light"
     },
     "output_type": "display_data"
    }
   ],
   "source": [
    "sns.histplot(actors_characters_personas_genres.drop_duplicates(\"freebase_actor_id\")[actors_characters_personas_genres[\"total_movies\"] >= MINIMUM_NUM_MOVIES_GENRES][\"mip_genre\"], bins=50, kde=True)\n",
    "plt.xlabel(\"MIP score of genres\")\n",
    "plt.ylabel(\"Number of actors\")\n",
    "plt.xlim([-1,1])\n",
    "plt.title(\"Distribution of actors with respect to MIP score of genres\")\n",
    "plt.grid()\n",
    "plt.show()"
   ]
  },
  {
   "cell_type": "markdown",
   "metadata": {},
   "source": [
    "#### KLD"
   ]
  },
  {
   "cell_type": "code",
   "execution_count": 30,
   "metadata": {
    "tags": []
   },
   "outputs": [],
   "source": [
    "global_distribution = np.array(list(movie_frequency_genre.values()))\n",
    "global_distribution = global_distribution / np.sum(global_distribution)\n",
    "actors_characters_personas_genres[\"kld_genre\"] = actors_characters_personas_genres[\"genres_freq\"].apply(lambda genre_freq: calculate_kld(genre_freq, global_distribution))"
   ]
  },
  {
   "cell_type": "code",
   "execution_count": 34,
   "metadata": {
    "tags": []
   },
   "outputs": [
    {
     "data": {
      "text/plain": [
       "0        4.390867\n",
       "23       5.095118\n",
       "35       4.535200\n",
       "42       5.653552\n",
       "46       5.659412\n",
       "           ...   \n",
       "31008    5.628172\n",
       "31009    7.412358\n",
       "31010    7.715724\n",
       "31011    4.752120\n",
       "31015    5.457716\n",
       "Name: kld_genre, Length: 8317, dtype: float64"
      ]
     },
     "execution_count": 34,
     "metadata": {},
     "output_type": "execute_result"
    }
   ],
   "source": [
    "actors_characters_personas_genres.drop_duplicates(\"freebase_actor_id\")[actors_characters_personas_genres[\"total_movies\"] >= MINIMUM_NUM_MOVIES_GENRES][\"kld_genre\"]"
   ]
  },
  {
   "cell_type": "code",
   "execution_count": 35,
   "metadata": {
    "tags": []
   },
   "outputs": [
    {
     "data": {
      "image/png": "[encoded data removed]",
      "text/plain": [
       "<Figure size 432x288 with 1 Axes>"
      ]
     },
     "metadata": {
      "needs_background": "light"
     },
     "output_type": "display_data"
    }
   ],
   "source": [
    "sns.histplot(actors_characters_personas_genres.drop_duplicates(\"freebase_actor_id\")[actors_characters_personas_genres[\"total_movies\"] >= MINIMUM_NUM_MOVIES_GENRES][\"kld_genre\"], bins=50, kde=True)\n",
    "plt.xlabel(\"KLD score of genres\")\n",
    "plt.ylabel(\"Number of actors\")\n",
    "plt.title(\"Distribution of actors with respect to KLD score of genres\")\n",
    "plt.grid()\n",
    "plt.show()"
   ]
  },
  {
   "cell_type": "markdown",
   "metadata": {},
   "source": [
    "### Movie personas"
   ]
  },
  {
   "cell_type": "code",
   "execution_count": 49,
   "metadata": {
    "tags": []
   },
   "outputs": [
    {
     "name": "stdout",
     "output_type": "stream",
     "text": [
      "Dropping 25.27% of actor-characters pairs (23182 remaining)\n"
     ]
    }
   ],
   "source": [
    "# This parameter allows us to filter out actors that did not play many movies\n",
    "MINIMUM_NUM_MOVIES_PERSONAS = 8\n",
    "mask_movies_personas = actors_characters_personas_genres[\"total_movies\"] >= MINIMUM_NUM_MOVIES_PERSONAS\n",
    "\n",
    "print(\"Dropping {:.2f}% of actor-characters pairs ({} remaining)\".format(100 - 100 * sum(mask_movies_personas) / len(mask_movies_personas), sum(mask_movies_personas)))"
   ]
  },
  {
   "cell_type": "markdown",
   "metadata": {},
   "source": [
    "#### HHI"
   ]
  },
  {
   "cell_type": "code",
   "execution_count": 50,
   "metadata": {
    "tags": []
   },
   "outputs": [],
   "source": [
    "aggregated_trope_distrib = actors_characters_personas_genres[[\"freebase_actor_id\", \"trope_distrib\"]].groupby(\"freebase_actor_id\").agg(lambda xs: np.mean(np.array([x for x in xs]), axis=0)).rename(columns={\"trope_distrib\": \"actor_trope_distrib\"}).reset_index()\n",
    "\n",
    "# Merge the result back into the main dataframe\n",
    "actors_characters_personas_genres = actors_characters_personas_genres.merge(aggregated_trope_distrib, on=\"freebase_actor_id\")"
   ]
  },
  {
   "cell_type": "code",
   "execution_count": 51,
   "metadata": {
    "tags": []
   },
   "outputs": [],
   "source": [
    "# Compute the HHI of tropes\n",
    "actors_characters_personas_genres[\"hhi_trope\"] = actors_characters_personas_genres[\"actor_trope_distrib\"].apply(calculate_hhi)"
   ]
  },
  {
   "cell_type": "code",
   "execution_count": 52,
   "metadata": {
    "tags": []
   },
   "outputs": [],
   "source": [
    "# Aggregate per actor\n",
    "average_hhi_per_actor = actors_characters_personas_genres[mask_movies_personas][[\"freebase_actor_id\", \"hhi_trope\"]]\\\n",
    "    .groupby(\"freebase_actor_id\")\\\n",
    "    .agg(\"mean\")\\\n",
    "    .reset_index()"
   ]
  },
  {
   "cell_type": "code",
   "execution_count": 59,
   "metadata": {
    "tags": []
   },
   "outputs": [
    {
     "data": {
      "image/png": "[encoded data removed]",
      "text/plain": [
       "<Figure size 432x288 with 1 Axes>"
      ]
     },
     "metadata": {
      "needs_background": "light"
     },
     "output_type": "display_data"
    }
   ],
   "source": [
    "sns.histplot(average_hhi_per_actor[\"hhi_trope\"], bins=50, kde=True)\n",
    "plt.xlabel(\"HHI score of average persona\")\n",
    "plt.ylabel(\"Number of actors\")\n",
    "plt.xlim([0,1])\n",
    "plt.title(\"Distribution of actors with respect to HHI score of personas\")\n",
    "plt.grid()\n",
    "plt.show()"
   ]
  },
  {
   "cell_type": "markdown",
   "metadata": {},
   "source": [
    "#### MIP"
   ]
  },
  {
   "cell_type": "code",
   "execution_count": 54,
   "metadata": {
    "tags": []
   },
   "outputs": [
    {
     "name": "stdout",
     "output_type": "stream",
     "text": [
      "Prior entropy of character tropes: 4.83\n"
     ]
    }
   ],
   "source": [
    "# Retrieve all distinct character tropes\n",
    "all_character_tropes = np.array([list(x) for x in actors_characters_personas.copy().drop_duplicates(\"freebase_character_id\")[\"trope_distrib\"]])\n",
    "\n",
    "# Reconstruct global distribution\n",
    "global_trope_distribution = np.mean(all_character_tropes, axis=0)\n",
    "\n",
    "# Compute the entropy of personas\n",
    "character_tropes_prior_h = scipy.stats.entropy(global_trope_distribution, base=2)\n",
    "print(\"Prior entropy of character tropes: {:.2f}\".format(character_tropes_prior_h))"
   ]
  },
  {
   "cell_type": "code",
   "execution_count": 61,
   "metadata": {
    "tags": []
   },
   "outputs": [],
   "source": [
    "actors_characters_personas_genres[\"mip_trope\"] = actors_characters_personas_genres[\"actor_trope_distrib\"].apply(lambda trope_distrib: calculate_mip(trope_distrib, character_tropes_prior_h))"
   ]
  },
  {
   "cell_type": "code",
   "execution_count": 62,
   "metadata": {
    "tags": []
   },
   "outputs": [],
   "source": [
    "# Aggregate per actor\n",
    "average_mip_per_actor = actors_characters_personas_genres[mask_movies_personas][[\"freebase_actor_id\", \"mip_trope\"]]\\\n",
    "    .groupby(\"freebase_actor_id\")\\\n",
    "    .agg(\"mean\")\\\n",
    "    .reset_index()"
   ]
  },
  {
   "cell_type": "code",
   "execution_count": 63,
   "metadata": {
    "tags": []
   },
   "outputs": [
    {
     "data": {
      "image/png": "[encoded data removed]",
      "text/plain": [
       "<Figure size 432x288 with 1 Axes>"
      ]
     },
     "metadata": {
      "needs_background": "light"
     },
     "output_type": "display_data"
    }
   ],
   "source": [
    "sns.histplot(average_mip_per_actor[\"mip_trope\"], bins=50, kde=True)\n",
    "plt.xlabel(\"MIP score of average persona\")\n",
    "plt.ylabel(\"Number of actors\")\n",
    "plt.xlim([0,1])\n",
    "plt.title(\"Distribution of actors with respect to MIP score of personas\")\n",
    "plt.grid()\n",
    "plt.show()"
   ]
  },
  {
   "cell_type": "markdown",
   "metadata": {},
   "source": [
    "#### KLD"
   ]
  },
  {
   "cell_type": "code",
   "execution_count": 81,
   "metadata": {
    "tags": []
   },
   "outputs": [],
   "source": [
    "actors_characters_personas_genres[\"kld_trope\"] = actors_characters_personas_genres[\"actor_trope_distrib\"].apply(lambda trope_distrib: calculate_kld(trope_distrib, global_trope_distribution))\n",
    "\n",
    "# Aggregate per actor\n",
    "average_kld_per_actor = actors_characters_personas_genres[mask_movies_personas][[\"freebase_actor_id\", \"kld_trope\"]]\\\n",
    "    .groupby(\"freebase_actor_id\")\\\n",
    "    .agg(\"mean\")\\\n",
    "    .reset_index()"
   ]
  },
  {
   "cell_type": "code",
   "execution_count": 85,
   "metadata": {
    "tags": []
   },
   "outputs": [
    {
     "data": {
      "image/png": "[encoded data removed]",
      "text/plain": [
       "<Figure size 432x288 with 1 Axes>"
      ]
     },
     "metadata": {
      "needs_background": "light"
     },
     "output_type": "display_data"
    }
   ],
   "source": [
    "sns.histplot(average_kld_per_actor[\"kld_trope\"], bins=50, kde=True)\n",
    "plt.xlabel(\"KLD score of average persona\")\n",
    "plt.ylabel(\"Number of actors\")\n",
    "plt.title(\"Distribution of actors with respect to KLD score of personas\")\n",
    "plt.grid()\n",
    "plt.show()"
   ]
  },
  {
   "cell_type": "markdown",
   "metadata": {},
   "source": [
    "### Summary & Interpretation"
   ]
  },
  {
   "cell_type": "code",
   "execution_count": null,
   "metadata": {
    "tags": []
   },
   "outputs": [],
   "source": [
    "# Notice the 4 new columns with scores and the actor_trope_distribution\n",
    "actors_characters_personas_genres.head()"
   ]
  },
  {
   "cell_type": "code",
   "execution_count": null,
   "metadata": {},
   "outputs": [],
   "source": [
    "# TODO REWRITE INTERPRETATIONS SINCE EVERYTHING CHANGED"
   ]
  },
  {
   "cell_type": "markdown",
   "metadata": {},
   "source": [
    "**Interpretation:**\n",
    "- Peak Near Zero: A concentration of actors with low HHI scores suggests that most actors in your dataset play a variety of roles and are not limited to a specific genre.\n",
    "- Left-Skewed Distribution: The fact that the distribution tails off to the right indicates that fewer actors are consistently appearing in the same genre.\n",
    "- Long Tail: The long tail towards the higher HHI scores suggests that while there are actors who are typecast, they are in the minority.\n",
    "\n",
    "\n",
    "**Limitation:**\n",
    "- This first approach presuppose that the prior distribution of role is uniform (which is clearly not the case). A more robust approach should be use to isolate the effect of the prior distribution\n",
    "\n",
    "**Conclusions:**\n",
    "- Diversity in Roles: There is a significant diversity in the roles that actors play, with many taking on a wide range of genres.\n",
    "- Limited Typecasting: Only a small proportion of actors may be typecast into specific genres, as indicated by the tail of the distribution."
   ]
  },
  {
   "cell_type": "code",
   "execution_count": null,
   "metadata": {},
   "outputs": [],
   "source": [
    "# END OF TODO REWRITE INTERPRETATIONS SINCE EVERYTHING CHANGED"
   ]
  },
  {
   "cell_type": "markdown",
   "metadata": {},
   "source": [
    "### Binning according to HHI"
   ]
  },
  {
   "cell_type": "code",
   "execution_count": null,
   "metadata": {},
   "outputs": [],
   "source": [
    "# Define the HHI score thresholds for low, medium, and high typecasting\n",
    "low_threshold = 0.3 # TODO ARBITRARY ?\n",
    "medium_threshold = 0.7 # TODO ARBITRARY ?\n",
    "\n",
    "# Create a new column for HHI Category\n",
    "actors_characters_personas_genres['hhi_category'] = pd.cut(actors_characters_personas_genres['hhi_trope'], \n",
    "                                                           bins=[0, low_threshold, medium_threshold, 1], \n",
    "                                                           labels=['Low', 'Medium', 'High'])\n",
    "\n",
    "category_counts = actors_characters_personas_genres['hhi_category'].value_counts()\n",
    "\n",
    "# Calculate the proportions\n",
    "category_proportions = category_counts / len(actors_characters_personas_genres)\n",
    "\n",
    "\n",
    "category_proportions"
   ]
  },
  {
   "cell_type": "code",
   "execution_count": null,
   "metadata": {},
   "outputs": [],
   "source": [
    "# TODO REWRITE INTERPRETATIONS SINCE EVERYTHING CHANGED"
   ]
  },
  {
   "cell_type": "markdown",
   "metadata": {},
   "source": [
    "-  79.31% of actors have a low HHI score, indicating they have a diverse range of roles across various genres. This is the largest category and suggests that the vast majority of actors are not being typecast and are instead taking on a variety of roles.\n",
    "\n",
    "-  17.36% of actors fall into the medium category, which means they have some level of specialization but not to the extent that they are being strongly typecast. These actors may have a few genres they appear in more frequently than others, but they still have a mix in their filming carrer.\n",
    "\n",
    "- 3.32% of actors have a high HHI score, suggesting that they tend to play roles in a limited range of genres, indicating a higher level of typecasting. Relatively few actors have consistenly recurrent roles.\n"
   ]
  },
  {
   "cell_type": "code",
   "execution_count": null,
   "metadata": {},
   "outputs": [],
   "source": [
    "# END OF TODO REWRITE INTERPRETATIONS SINCE EVERYTHING CHANGED"
   ]
  },
  {
   "cell_type": "markdown",
   "metadata": {},
   "source": [
    "## (2) When did an actor start to play in similar movies/similar characters ?"
   ]
  },
  {
   "cell_type": "code",
   "execution_count": null,
   "metadata": {},
   "outputs": [],
   "source": [
    "#TODO LUCA ENDED POLISH HERE - OK"
   ]
  },
  {
   "cell_type": "markdown",
   "metadata": {},
   "source": [
    "The idea of this part is to determine if there are tends in the progression of tropes preferences in actors lifetime. The hypothesis we want to test for is that young actor don't have a saying in what role they want to play. However when casting actors that are very famous, the general public (and therefore the producer) already have an idea on which role this actor will play in. "
   ]
  },
  {
   "cell_type": "markdown",
   "metadata": {},
   "source": [
    "This research question is quite hard to answer due to the fact that a lot of actors haven't played in many movies. As such it is only possible to reliable study this question on actors that have succeeded (aka. are famous enought to play in many movies)."
   ]
  },
  {
   "cell_type": "markdown",
   "metadata": {},
   "source": [
    "## (3) Do actors exhibit a recurring persona accross the characters they play ?"
   ]
  },
  {
   "cell_type": "markdown",
   "metadata": {},
   "source": [
    "## (4) Is there a clear distribution shift in the performance of a movie when this actor is/isn't in his comfort zone ?\n",
    "\n",
    "In order to dertermine if an actor is (or not) within its comfort zone, we need a way to quantify whether an actor is playing in a movie of a genre he is used to (or a trope he is used to). To do so we will compute the *log likelihood* of a role given an actor defined as~:\n",
    "\n",
    "$$\n",
    "    \\mathcal{L}(G_i | A) = \\frac{1}{|M_A|} \\sum_{M \\in M_A} 1_{M \\in G_i}\n",
    "$$\n",
    "\n",
    "$$\n",
    "    \\mathcal{L}(G | A) = \\sum_{i} \\log \\mathcal{L}(G_i | A)^{p(i | G)} + \\log \\left( 1 - \\mathcal{L}(G_i | A)^{1 - p(i | G)} \\right)\n",
    "$$"
   ]
  },
  {
   "cell_type": "code",
   "execution_count": 86,
   "metadata": {
    "tags": []
   },
   "outputs": [],
   "source": [
    "def compute_log_likelihood(general_distribution, specific_distribution, eps=1e-10):\n",
    "    general_distribution = np.array(general_distribution) # General distribution of tropes per actor\n",
    "    specific_distribution = np.array(specific_distribution) # Distribution of tropes for a given character \n",
    "    \n",
    "    # Compute the log likelihood\n",
    "    # We add 1e-10 to avoid log(0)\n",
    "    log_likelihood = specific_distribution * np.log(general_distribution + 1e-10) + (1 - specific_distribution) * np.log((1 - general_distribution) + 1e-10)\n",
    "    log_likelihood = np.sum(log_likelihood)\n",
    "    assert np.isnan(log_likelihood) == False\n",
    "    return log_likelihood\n",
    "\n",
    "# Compute the log likelihood for each character\n",
    "actors_characters_personas_genres[\"trope_log_likelihood\"] = actors_characters_personas_genres.apply(\n",
    "    lambda row: compute_log_likelihood(row[\"actor_trope_distrib\"], row[\"trope_distrib\"]) if not np.isnan(row[\"actor_trope_distrib\"]).any() else np.nan, axis=1\n",
    ")"
   ]
  },
  {
   "cell_type": "code",
   "execution_count": 87,
   "metadata": {
    "tags": []
   },
   "outputs": [
    {
     "data": {
      "text/html": [
       "<div>\n",
       "<style scoped>\n",
       "    .dataframe tbody tr th:only-of-type {\n",
       "        vertical-align: middle;\n",
       "    }\n",
       "\n",
       "    .dataframe tbody tr th {\n",
       "        vertical-align: top;\n",
       "    }\n",
       "\n",
       "    .dataframe thead th {\n",
       "        text-align: right;\n",
       "    }\n",
       "</style>\n",
       "<table border=\"1\" class=\"dataframe\">\n",
       "  <thead>\n",
       "    <tr style=\"text-align: right;\">\n",
       "      <th></th>\n",
       "      <th>freebase_map_id</th>\n",
       "      <th>movie_name</th>\n",
       "      <th>token_occurences</th>\n",
       "      <th>estimated_trope</th>\n",
       "      <th>trope_distrib</th>\n",
       "      <th>wiki_movie_id</th>\n",
       "      <th>freebase_id</th>\n",
       "      <th>release_date</th>\n",
       "      <th>character_name</th>\n",
       "      <th>actor_birth</th>\n",
       "      <th>...</th>\n",
       "      <th>total_movies</th>\n",
       "      <th>genres_freq</th>\n",
       "      <th>kld_genre</th>\n",
       "      <th>hhi_genre</th>\n",
       "      <th>mip_genre</th>\n",
       "      <th>actor_trope_distrib</th>\n",
       "      <th>hhi_trope</th>\n",
       "      <th>mip_trope</th>\n",
       "      <th>kld_trope</th>\n",
       "      <th>trope_log_likelihood</th>\n",
       "    </tr>\n",
       "  </thead>\n",
       "  <tbody>\n",
       "    <tr>\n",
       "      <th>0</th>\n",
       "      <td>/m/02vcl4m</td>\n",
       "      <td>Halls of Montezuma</td>\n",
       "      <td>5</td>\n",
       "      <td>35</td>\n",
       "      <td>[0.0, 0.0, 0.0, 0.0, 0.0, 0.0, 0.0, 0.00999999...</td>\n",
       "      <td>10004330</td>\n",
       "      <td>/m/02pzjvb</td>\n",
       "      <td>1950</td>\n",
       "      <td>Pigeon Lane</td>\n",
       "      <td>1919-02-18</td>\n",
       "      <td>...</td>\n",
       "      <td>62</td>\n",
       "      <td>[0.0, 0.0, 0.0766129032, 0.0040322581, 0.00403...</td>\n",
       "      <td>4.390867</td>\n",
       "      <td>0.043119</td>\n",
       "      <td>0.124164</td>\n",
       "      <td>[0.0, 0.00043478260000000003, 0.03913043399130...</td>\n",
       "      <td>0.08218</td>\n",
       "      <td>0.172131</td>\n",
       "      <td>0.744641</td>\n",
       "      <td>-3.119084</td>\n",
       "    </tr>\n",
       "  </tbody>\n",
       "</table>\n",
       "<p>1 rows × 27 columns</p>\n",
       "</div>"
      ],
      "text/plain": [
       "  freebase_map_id          movie_name  token_occurences  estimated_trope  \\\n",
       "0      /m/02vcl4m  Halls of Montezuma                 5               35   \n",
       "\n",
       "                                       trope_distrib  wiki_movie_id  \\\n",
       "0  [0.0, 0.0, 0.0, 0.0, 0.0, 0.0, 0.0, 0.00999999...       10004330   \n",
       "\n",
       "  freebase_id release_date character_name actor_birth  ... total_movies  \\\n",
       "0  /m/02pzjvb         1950    Pigeon Lane  1919-02-18  ...           62   \n",
       "\n",
       "                                         genres_freq kld_genre hhi_genre  \\\n",
       "0  [0.0, 0.0, 0.0766129032, 0.0040322581, 0.00403...  4.390867  0.043119   \n",
       "\n",
       "   mip_genre                                actor_trope_distrib hhi_trope  \\\n",
       "0   0.124164  [0.0, 0.00043478260000000003, 0.03913043399130...   0.08218   \n",
       "\n",
       "   mip_trope kld_trope  trope_log_likelihood  \n",
       "0   0.172131  0.744641             -3.119084  \n",
       "\n",
       "[1 rows x 27 columns]"
      ]
     },
     "execution_count": 87,
     "metadata": {},
     "output_type": "execute_result"
    }
   ],
   "source": [
    "actors_characters_personas_genres.head(1)"
   ]
  },
  {
   "cell_type": "code",
   "execution_count": null,
   "metadata": {
    "tags": []
   },
   "outputs": [],
   "source": [
    "# Plot the tropes log likelihood distribution\n",
    "sns.histplot(actors_characters_personas_genres[\"trope_log_likelihood\"], bins=50, kde=True)\n",
    "plt.xlabel(\"Log likelihood of tropes\")\n",
    "plt.ylabel(\"Number of characters\")\n",
    "plt.title(\"Distribution of log likelihood of tropes\")\n",
    "plt.grid()\n",
    "plt.show()"
   ]
  },
  {
   "cell_type": "code",
   "execution_count": null,
   "metadata": {
    "tags": []
   },
   "outputs": [],
   "source": [
    "actors_characters_personas_genres[[\"genres_freq\"]]"
   ]
  },
  {
   "cell_type": "code",
   "execution_count": null,
   "metadata": {
    "tags": []
   },
   "outputs": [],
   "source": [
    "# Do the same for log-likelihood of genres\n",
    "# This time we use the global distribution of genres (aggregate over all movies)\n",
    "# Each freebase_id must be unique\n",
    "genre_distribution = np.mean(np.array([np.array(x) for x in actors_characters_personas_genres.drop_duplicates(\"freebase_id\")[\"genres_freq\"]]), axis=0)\n",
    "\n",
    "actors_characters_personas_genres[\"genre_log_likelihood\"] = actors_characters_personas_genres.apply(\n",
    "    lambda row: compute_log_likelihood(row[\"genres_freq\"], genre_distribution) if not np.isnan(row[\"genres_freq\"]).any() else np.nan, axis=1\n",
    ")"
   ]
  },
  {
   "cell_type": "code",
   "execution_count": null,
   "metadata": {
    "tags": []
   },
   "outputs": [],
   "source": [
    "actors_characters_personas_genres[\"actor_name\"]"
   ]
  },
  {
   "cell_type": "code",
   "execution_count": null,
   "metadata": {
    "tags": []
   },
   "outputs": [],
   "source": [
    "actor_freq = actors_characters_personas_genres.iloc[0][\"genres_freq\"]\n",
    "compute_log_likelihood(actor_freq, genre_distribution)"
   ]
  },
  {
   "cell_type": "code",
   "execution_count": null,
   "metadata": {},
   "outputs": [],
   "source": [
    "actors_characters_personas_genres"
   ]
  },
  {
   "cell_type": "code",
   "execution_count": null,
   "metadata": {
    "tags": []
   },
   "outputs": [],
   "source": [
    "# Plot the genres log likelihood distribution\n",
    "sns.histplot(actors_characters_personas_genres[\"genre_log_likelihood\"], bins=20, kde=True)\n",
    "plt.xlabel(\"Log likelihood of genres\")\n",
    "plt.ylabel(\"Number of characters\")\n",
    "plt.title(\"Distribution of log likelihood of genres\")\n",
    "plt.grid(True)\n",
    "plt.show()"
   ]
  },
  {
   "cell_type": "code",
   "execution_count": null,
   "metadata": {
    "tags": []
   },
   "outputs": [],
   "source": [
    "movie_frequency_genre"
   ]
  },
  {
   "cell_type": "code",
   "execution_count": null,
   "metadata": {},
   "outputs": [],
   "source": [
    "movies.columns"
   ]
  },
  {
   "cell_type": "code",
   "execution_count": null,
   "metadata": {},
   "outputs": [],
   "source": [
    "df = actors_characters_personas_genres.dropna(subset=[\"mip_trope\", \"trope_log_likelihood\"])[[\"mip_trope\", \"mip_genre\", \"genre_log_likelihood\", \"trope_log_likelihood\", \"freebase_actor_id\", \"freebase_id\"]].copy()\n",
    "df = df.merge(movies[[\"freebase_id\", \"averageRating\", \"numVotes\", \"box_office\"]], on=\"freebase_id\", how=\"inner\")\n",
    "df[\"rating_category\"] = pd.qcut(df[\"averageRating\"], 3, labels=[\"Low\", \"Medium\", \"High\"])\n",
    "df"
   ]
  },
  {
   "cell_type": "code",
   "execution_count": null,
   "metadata": {},
   "outputs": [],
   "source": [
    "# Method 1: OLS\n",
    "X = df[[\"mip_trope\", \"trope_log_likelihood\"]].to_numpy()\n",
    "X = sm.add_constant(X)\n",
    "Y = df[\"averageRating\"].to_numpy()"
   ]
  },
  {
   "cell_type": "code",
   "execution_count": null,
   "metadata": {},
   "outputs": [],
   "source": [
    "g = sns.JointGrid(x=X[:,1], y=X[:,2], space=0)\n",
    "g.plot_joint(sns.kdeplot,\n",
    "             fill=True,# clip=((2200, 6800), (10, 25)),\n",
    "             thresh=0, levels=100, cmap=\"rocket\")\n",
    "g.plot_marginals(sns.histplot, color=\"#03051A\", alpha=1, bins=25)"
   ]
  },
  {
   "cell_type": "code",
   "execution_count": null,
   "metadata": {},
   "outputs": [],
   "source": [
    "# Use pyplot.hist2d to plot the distribution of the data (use log scale)\n",
    "cmap = plt.cm.get_cmap('viridis')\n",
    "cmap.set_bad(cmap(0))\n",
    "\n",
    "plt.hist2d(X[:,1], X[:,2], bins=60, norm=mpl.colors.LogNorm(vmin=2, vmax=500), cmap=cmap)\n",
    "plt.xlabel(\"MIP score of tropes\")\n",
    "plt.ylabel(\"Log likelihood of tropes\")\n",
    "plt.title(\"Distribution of tropes scores\")\n",
    "plt.colorbar()"
   ]
  },
  {
   "cell_type": "code",
   "execution_count": null,
   "metadata": {},
   "outputs": [],
   "source": [
    "# We use OLS to fit a linear regression model using the MIP score and the log likelihood of genres\n",
    "sm.OLS(Y, X, missing='raise').fit().summary()"
   ]
  },
  {
   "cell_type": "code",
   "execution_count": null,
   "metadata": {},
   "outputs": [],
   "source": [
    "# Create a jointplot to visualize the relationship between the two variables, using the rating_category as hue\n",
    "sns.jointplot(data=df, x=\"mip_trope\", y=\"trope_log_likelihood\", hue=\"rating_category\", kind=\"kde\")\n",
    "plt.show()"
   ]
  },
  {
   "cell_type": "code",
   "execution_count": null,
   "metadata": {},
   "outputs": [],
   "source": [
    "# Same thing for genres\n",
    "X = df[[\"mip_genre\", \"genre_log_likelihood\"]].to_numpy()\n",
    "X = sm.add_constant(X)\n",
    "Y = df[\"averageRating\"].to_numpy()"
   ]
  },
  {
   "cell_type": "code",
   "execution_count": null,
   "metadata": {},
   "outputs": [],
   "source": [
    "# Use pyplot.hist2d to plot the distribution of the data (use log scale)\n",
    "cmap = plt.cm.get_cmap('viridis')\n",
    "cmap.set_bad(cmap(0))\n",
    "\n",
    "plt.hist2d(X[:,1], X[:,2], bins=60, norm=mpl.colors.LogNorm(vmin=2, vmax=500), cmap=cmap)\n",
    "plt.xlabel(\"MIP score of genres\")\n",
    "plt.ylabel(\"Log likelihood of genres\")\n",
    "plt.title(\"Distribution of genres scores\")\n",
    "plt.colorbar()"
   ]
  },
  {
   "cell_type": "code",
   "execution_count": null,
   "metadata": {},
   "outputs": [],
   "source": [
    "# We use OLS to fit a linear regression model using the MIP score and the log likelihood of genres\n",
    "sm.OLS(Y, X, missing='raise').fit().summary()"
   ]
  },
  {
   "cell_type": "code",
   "execution_count": null,
   "metadata": {},
   "outputs": [],
   "source": [
    "# Create a jointplot to visualize the relationship between the two variables, using the rating_category as hue\n",
    "sns.jointplot(data=df, x=\"mip_genre\", y=\"genre_log_likelihood\", hue=\"rating_category\", kind=\"kde\")\n",
    "plt.show()"
   ]
  },
  {
   "cell_type": "markdown",
   "metadata": {},
   "source": [
    "##### Method 1: Kullback-Leibler Divergence\n",
    "\n",
    "- First of as said previously this method only makes sense if we have enought movies to work with (as such we are going to keep actors that has played at least $\\alpha$ movies)\n",
    "\n",
    "- We will order the movies chronologically and we will only keep the first $\\beta %$ movies ($\\beta$ is the treshold), we will denote those by $Q_{\\beta}$\n",
    "\n",
    "- We will consider the distribution of tropes for an actor accross its whole carrier (denoted $P$) and find a way to measure the excess surprise that we observed the distribution $Q_{\\beta}$ when the actual distribution is $P$\n",
    "\n",
    "  - The KL-divergence could be used to measure this however we only have a really rought estimate of the distribution of $Q_{\\beta}$ (having only $\\beta$ sample)\n",
    "\n",
    "  - To fix this we will consider the log-likelihood of our observation. Consider the following likelihood \n",
    "\n",
    "  $$\n",
    "    k(a; \\beta) = - \\frac{1}{\\beta} \\sum_{x \\in F_a; i = 0}^{\\beta} \\log p(x | Q)\n",
    "  $$"
   ]
  },
  {
   "cell_type": "markdown",
   "metadata": {},
   "source": [
    "## Is there a clear distribution shift in the performance of a movie when this actor is/isn't in his comfort zone\n",
    "\n",
    "We want to dertermine whether an actor playing outside of its *comfort* zone will have a negative impact on the movie. "
   ]
  },
  {
   "cell_type": "code",
   "execution_count": null,
   "metadata": {},
   "outputs": [],
   "source": [
    "\n",
    "# Add a column for movie genre\n",
    "actor_movie_genre = actors_characters_personas_genres[['freebase_id', 'freebase_actor_id']]\n",
    "actor_movie_genre = actor_movie_genre.merge(movies[['freebase_id', 'genres', 'movie_release_date']], on='freebase_id', how='left')\n",
    "actor_movie_genre.head()"
   ]
  },
  {
   "cell_type": "code",
   "execution_count": null,
   "metadata": {},
   "outputs": [],
   "source": [
    "# List all genres\n",
    "genres = list({y for ys in actor_movie_genre['genres'].to_list() for y in ys})\n",
    "\n",
    "def extract_distribution(xs, refs):\n",
    "    # xs = [y for ys in list(xs) for y in ys]\n",
    "    xs = np.array([[x.count(ref) for ref in refs] for x in xs], dtype=np.float32)\n",
    "    xs = xs / np.sum(xs, axis=1, keepdims=True)\n",
    "    return np.mean(xs, axis=0)\n",
    "\n",
    "# Group by actor and compute the prior distribution of movie genres per actor\n",
    "df = actor_movie_genre[['freebase_actor_id', 'genres', 'freebase_id']] \\\n",
    "    .groupby('freebase_actor_id') \\\n",
    "    .aggregate({'genres': lambda xs: extract_distribution(xs, genres), 'freebase_id': 'count'}) \\\n",
    "    .rename(columns={'freebase_id': 'total_movies'}) \\\n",
    "    .reset_index()"
   ]
  },
  {
   "cell_type": "code",
   "execution_count": null,
   "metadata": {},
   "outputs": [],
   "source": [
    "# Find all actors with less than 5 movies\n",
    "filtered_actors_id = set(df[df['total_movies'] < 15]['freebase_actor_id'].to_list())\n",
    "\n",
    "# Filter actors on both dataset based on the previous list\n",
    "df = df[~df['freebase_actor_id'].isin(filtered_actors_id)]\n",
    "actor_movie_genre = actor_movie_genre[~actor_movie_genre['freebase_actor_id'].isin(filtered_actors_id)]\n",
    "\n",
    "# Compute the MIP score per actor\n",
    "df['MIP'] = preference_metrics_mutual_information(df['genres']) # FUNCTION NAME HAS CHANGED\n",
    "df['HHI'] = df['genres'].apply(calculate_hhi)"
   ]
  },
  {
   "cell_type": "code",
   "execution_count": null,
   "metadata": {},
   "outputs": [],
   "source": [
    "print(len(actor_movie_genre))"
   ]
  },
  {
   "cell_type": "code",
   "execution_count": null,
   "metadata": {},
   "outputs": [],
   "source": [
    "sns.histplot(df['MIP'], bins=50, kde=True)\n",
    "plt.title('Distribution of Mutual Information Preference (MIP) Scores')\n",
    "plt.xlabel('MIP Score')\n",
    "plt.ylabel('Number of Actors')\n",
    "plt.grid(True)\n",
    "plt.show()"
   ]
  },
  {
   "cell_type": "code",
   "execution_count": null,
   "metadata": {},
   "outputs": [],
   "source": [
    "df.head(1)"
   ]
  },
  {
   "cell_type": "code",
   "execution_count": null,
   "metadata": {},
   "outputs": [],
   "source": [
    "# For each roles of each actor, define the likelihood of the actor to play in this genre\n",
    "def log_likelihood(df, priors):\n",
    "    indices = [[genres.index(x) for x in xs] for xs in df[\"genres\"]]\n",
    "\n",
    "    # Compute the likelihood of each genre\n",
    "    priors_dict = {}\n",
    "    log_likelihood = []\n",
    "    for idx, actor_id in enumerate(df[\"freebase_actor_id\"]):\n",
    "        if actor_id not in priors_dict:\n",
    "            a_variable = priors[priors[\"freebase_actor_id\"] == actor_id]\n",
    "            priors_dict[actor_id] = a_variable.iloc[0][\"genres\"]\n",
    "\n",
    "        prior = priors_dict[actor_id]\n",
    "        log_likelihood.append(np.sum(np.log([prior[index] for index in indices[idx]])))\n",
    "\n",
    "    return log_likelihood\n",
    "\n",
    "actor_movie_genre['log_likelihood'] = log_likelihood(actor_movie_genre, df)"
   ]
  },
  {
   "cell_type": "code",
   "execution_count": null,
   "metadata": {},
   "outputs": [],
   "source": [
    "# Plot the distribution of likelihood\n",
    "sns.histplot(actor_movie_genre['log_likelihood'], bins=50, kde=True)\n",
    "plt.title('Distribution of Likelihood Scores')\n",
    "plt.xlabel('Log Likelihood Score')\n",
    "plt.ylabel('Number of Movies')\n",
    "plt.grid(True)\n",
    "plt.show()"
   ]
  },
  {
   "cell_type": "code",
   "execution_count": null,
   "metadata": {},
   "outputs": [],
   "source": [
    "# Extract a metric to describe the success of a movie\n",
    "# Merge it with the previous dataset\n",
    "movies_df = movies[['freebase_id', 'box_office', 'averageRating', 'numVotes']]\n",
    "actor_movie_genre = actor_movie_genre.merge(movies_df, on='freebase_id', how='left')\n",
    "actor_movie_genre = actor_movie_genre.merge(df[['freebase_actor_id', 'MIP', 'HHI']], on='freebase_actor_id', how='left')\n",
    "actor_movie_genre.head()"
   ]
  },
  {
   "cell_type": "markdown",
   "metadata": {},
   "source": [
    "### Method 1 : "
   ]
  },
  {
   "cell_type": "code",
   "execution_count": null,
   "metadata": {},
   "outputs": [],
   "source": [
    "### Method 1: Analysis using linear regression and OLS\n",
    "# A bit hacky, but we need to add a constant before using OLS (to reduce R²)\n",
    "actor_movie_genre['const'] = np.ones_like(actor_movie_genre['log_likelihood'])\n",
    "sm.OLS(actor_movie_genre['averageRating'], actor_movie_genre[['log_likelihood', 'MIP', 'const']]).fit().summary()"
   ]
  },
  {
   "cell_type": "code",
   "execution_count": null,
   "metadata": {},
   "outputs": [],
   "source": [
    "# Plot each movie with the likelihood and mip using the sns jointplot\n",
    "sns.jointplot(x='log_likelihood', y='MIP', data=actor_movie_genre, kind='hex', gridsize=20)"
   ]
  },
  {
   "cell_type": "code",
   "execution_count": null,
   "metadata": {},
   "outputs": [],
   "source": [
    "# Plot average rating distribution\n",
    "sns.histplot(actor_movie_genre['averageRating'], bins=50, kde=True)"
   ]
  },
  {
   "cell_type": "code",
   "execution_count": null,
   "metadata": {},
   "outputs": [],
   "source": [
    "# Build categories for the movie ratings based on the quantiles (Low, Medium, High)\n",
    "# actor_movie_genre['rating_category'] = pd.qcut(actor_movie_genre['averageRating'], q=3, labels=['Low', 'Medium', 'High'])\n",
    "\n",
    "# Manully cut the rating into 3 categories (Low, Medium, High) based on (< 6, 6 - 7, > 7)\n",
    "actor_movie_genre['rating_category'] = pd.cut(actor_movie_genre['averageRating'], bins=[0, 6, 7, 10], labels=['Low', 'Medium', 'High'])"
   ]
  },
  {
   "cell_type": "code",
   "execution_count": null,
   "metadata": {},
   "outputs": [],
   "source": [
    "# Plot the distribution of likelihood and MIP for each category using jointplot\n",
    "sns.jointplot(data= actor_movie_genre, x='log_likelihood', y='MIP', kind='kde', hue=\"rating_category\", density=True)"
   ]
  },
  {
   "cell_type": "code",
   "execution_count": null,
   "metadata": {
    "tags": []
   },
   "outputs": [],
   "source": [
    "# Scatter plot of MIP vs average rating + regression line using pyplot\n",
    "# and WITHOUT using seaborn\n",
    "\n",
    "# Regression using numpy\n",
    "y = actor_movie_genre['HHI']\n",
    "x = actor_movie_genre['averageRating']\n",
    "A = np.vstack([x, np.ones(len(x))]).T\n",
    "m, c = np.linalg.lstsq(A, y, rcond=None)[0]\n",
    "\n",
    "# Plot the scatter plot\n",
    "plt.figure(figsize=(10, 6))\n",
    "# plt.scatter(actor_movie_genre['HHI'], actor_movie_genre['averageRating'], alpha=0.3)\n",
    "sns.scatterplot(data=actor_movie_genre, x='averageRating', y='HHI', alpha=0.5, hue='rating_category')\n",
    "plt.plot(x, m*x + c, 'r', label='Fitted line')\n",
    "plt.ylabel('HHI')\n",
    "plt.xlabel('Average Rating')\n",
    "plt.title('Average Rating vs HHI')\n",
    "plt.grid(True)\n",
    "plt.show()"
   ]
  }
 ],
 "metadata": {
  "kernelspec": {
   "display_name": "Python 3 (ipykernel)",
   "language": "python",
   "name": "python3"
  },
  "language_info": {
   "codemirror_mode": {
    "name": "ipython",
    "version": 3
   },
   "file_extension": ".py",
   "mimetype": "text/x-python",
   "name": "python",
   "nbconvert_exporter": "python",
   "pygments_lexer": "ipython3",
   "version": "3.10.0"
  }
 },
 "nbformat": 4,
 "nbformat_minor": 4
}
