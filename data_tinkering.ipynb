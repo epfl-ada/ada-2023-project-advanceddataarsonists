{
 "cells": [
  {
   "cell_type": "code",
   "execution_count": 77,
   "metadata": {},
   "outputs": [],
   "source": [
    "# Allow python to import modules in our src folders\n",
    "import sys\n",
    "import matplotlib.pyplot as plt\n",
    "sys.path.append(\"src/\")\n",
    "\n",
    "from preprocessing.load_dataset import *"
   ]
  },
  {
   "cell_type": "code",
   "execution_count": 2,
   "metadata": {},
   "outputs": [],
   "source": [
    "characters_df = load_characters_df()\n",
    "movies_df = load_movies_df()\n",
    "plot_df = load_plot_df()\n",
    "tvtropes_tf = load_tvtropes_df()"
   ]
  },
  {
   "cell_type": "code",
   "execution_count": 3,
   "metadata": {},
   "outputs": [],
   "source": [
    "imdb_ratings_df = load_imdb_ratings()\n",
    "imdb_title_df = load_imdb_title_basics()\n",
    "imdb_principals_df = load_imdb_title_principals()\n",
    "imdb_people_df = load_imdb_person_basics()"
   ]
  },
  {
   "cell_type": "code",
   "execution_count": 48,
   "metadata": {},
   "outputs": [
    {
     "ename": "TypeError",
     "evalue": "sub() missing 1 required positional argument: 'string'",
     "output_type": "error",
     "traceback": [
      "\u001b[1;31m---------------------------------------------------------------------------\u001b[0m",
      "\u001b[1;31mTypeError\u001b[0m                                 Traceback (most recent call last)",
      "\u001b[1;32mc:\\Users\\guill\\Documents\\04 - Etude\\EPFL\\MA1\\ADA\\ada-2023-project-advanceddataarsonists\\data_tinkering.ipynb Cell 5\u001b[0m line \u001b[0;36m2\n\u001b[0;32m      <a href='vscode-notebook-cell:/c%3A/Users/guill/Documents/04%20-%20Etude/EPFL/MA1/ADA/ada-2023-project-advanceddataarsonists/data_tinkering.ipynb#W3sZmlsZQ%3D%3D?line=0'>1</a>\u001b[0m X \u001b[39m=\u001b[39m plot_df\u001b[39m.\u001b[39msample(\u001b[39m1\u001b[39m)[\u001b[39m'\u001b[39m\u001b[39mplot_summary\u001b[39m\u001b[39m'\u001b[39m]\u001b[39m.\u001b[39mto_numpy()[\u001b[39m0\u001b[39m]\n\u001b[1;32m----> <a href='vscode-notebook-cell:/c%3A/Users/guill/Documents/04%20-%20Etude/EPFL/MA1/ADA/ada-2023-project-advanceddataarsonists/data_tinkering.ipynb#W3sZmlsZQ%3D%3D?line=1'>2</a>\u001b[0m extract_verbs(X)\n",
      "\u001b[1;32mc:\\Users\\guill\\Documents\\04 - Etude\\EPFL\\MA1\\ADA\\ada-2023-project-advanceddataarsonists\\data_tinkering.ipynb Cell 5\u001b[0m line \u001b[0;36m3\n\u001b[0;32m      <a href='vscode-notebook-cell:/c%3A/Users/guill/Documents/04%20-%20Etude/EPFL/MA1/ADA/ada-2023-project-advanceddataarsonists/data_tinkering.ipynb#W3sZmlsZQ%3D%3D?line=0'>1</a>\u001b[0m \u001b[39mdef\u001b[39;00m \u001b[39mextract_verbs\u001b[39m(text):\n\u001b[0;32m      <a href='vscode-notebook-cell:/c%3A/Users/guill/Documents/04%20-%20Etude/EPFL/MA1/ADA/ada-2023-project-advanceddataarsonists/data_tinkering.ipynb#W3sZmlsZQ%3D%3D?line=1'>2</a>\u001b[0m     \u001b[39m# Remove punctuation and normalize spaces\u001b[39;00m\n\u001b[1;32m----> <a href='vscode-notebook-cell:/c%3A/Users/guill/Documents/04%20-%20Etude/EPFL/MA1/ADA/ada-2023-project-advanceddataarsonists/data_tinkering.ipynb#W3sZmlsZQ%3D%3D?line=2'>3</a>\u001b[0m     text \u001b[39m=\u001b[39m re\u001b[39m.\u001b[39;49msub(\u001b[39m'\u001b[39;49m\u001b[39m[^0-9a-zA-Z\u001b[39;49m\u001b[39m\\\u001b[39;49m\u001b[39ms]\u001b[39;49m\u001b[39m'\u001b[39;49m, \u001b[39m'\u001b[39;49m\u001b[39m \u001b[39;49m\u001b[39m'\u001b[39;49m)\n\u001b[0;32m      <a href='vscode-notebook-cell:/c%3A/Users/guill/Documents/04%20-%20Etude/EPFL/MA1/ADA/ada-2023-project-advanceddataarsonists/data_tinkering.ipynb#W3sZmlsZQ%3D%3D?line=4'>5</a>\u001b[0m     \u001b[39m# Replace all spaces by single space\u001b[39;00m\n\u001b[0;32m      <a href='vscode-notebook-cell:/c%3A/Users/guill/Documents/04%20-%20Etude/EPFL/MA1/ADA/ada-2023-project-advanceddataarsonists/data_tinkering.ipynb#W3sZmlsZQ%3D%3D?line=5'>6</a>\u001b[0m     text \u001b[39m=\u001b[39m re\u001b[39m.\u001b[39msub(\u001b[39m'\u001b[39m\u001b[39m\\\u001b[39m\u001b[39ms+\u001b[39m\u001b[39m'\u001b[39m, \u001b[39m'\u001b[39m\u001b[39m \u001b[39m\u001b[39m'\u001b[39m)\n",
      "\u001b[1;31mTypeError\u001b[0m: sub() missing 1 required positional argument: 'string'"
     ]
    }
   ],
   "source": []
  },
  {
   "cell_type": "code",
   "execution_count": null,
   "metadata": {},
   "outputs": [],
   "source": []
  }
 ],
 "metadata": {
  "kernelspec": {
   "display_name": "Python 3",
   "language": "python",
   "name": "python3"
  },
  "language_info": {
   "codemirror_mode": {
    "name": "ipython",
    "version": 3
   },
   "file_extension": ".py",
   "mimetype": "text/x-python",
   "name": "python",
   "nbconvert_exporter": "python",
   "pygments_lexer": "ipython3",
   "version": "3.11.5"
  }
 },
 "nbformat": 4,
 "nbformat_minor": 2
}
