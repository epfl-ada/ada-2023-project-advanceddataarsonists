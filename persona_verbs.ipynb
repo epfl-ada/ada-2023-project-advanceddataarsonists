{
 "cells": [
  {
   "cell_type": "code",
   "execution_count": 1,
   "id": "fecd3b1e-9705-4bbe-bbe0-13919cf4949f",
   "metadata": {
    "tags": []
   },
   "outputs": [],
   "source": [
    "import numpy as np\n",
    "import pandas as pd\n",
    "import json"
   ]
  },
  {
   "cell_type": "code",
   "execution_count": 2,
   "id": "f34933b1-f7a5-48ed-84b0-626bc845b57c",
   "metadata": {
    "tags": []
   },
   "outputs": [],
   "source": [
    "f = open(\"data/cmu/personas/topic_words.json\")\n",
    "topic_words = json.load(f) "
   ]
  },
  {
   "cell_type": "code",
   "execution_count": 3,
   "id": "0b2c9b2e-7c78-4d01-b580-48f2f9ecdd21",
   "metadata": {
    "tags": []
   },
   "outputs": [],
   "source": [
    "N_TOP_TOPICS = 2\n",
    "N_TOP_WORDS = 5\n",
    "\n",
    "def extract_top_words(coefficients):\n",
    "    persona_agent_words = dict()\n",
    "\n",
    "    for i, topic_vectors in enumerate(coefficients):\n",
    "        # For persona i\n",
    "        sorted_coeff = np.argsort(topic_vectors)\n",
    "        selected_topics = sorted_coeff[-N_TOP_TOPICS:]\n",
    "\n",
    "        selected_words = []\n",
    "        for t in selected_topics:\n",
    "            selected_words += topic_words[str(t + 1)][: N_TOP_WORDS]\n",
    "\n",
    "        persona_agent_words[i] = selected_words\n",
    "    \n",
    "    return persona_agent_words"
   ]
  },
  {
   "cell_type": "code",
   "execution_count": 4,
   "id": "01085b2c-4d98-4791-9ec0-f2d8d4055baf",
   "metadata": {
    "tags": []
   },
   "outputs": [],
   "source": [
    "with open(\"data/cmu/personas/finalLAgentsFile\", \"r\") as f:\n",
    "    \n",
    "    topics = [int(x) for x in f.readline().split(\" \")]\n",
    "    lines = f.readlines()\n",
    "    \n",
    "    coefficients = []\n",
    "    for l in lines:\n",
    "        temp = []\n",
    "        for x in l.split():\n",
    "            temp.append(float(x))\n",
    "        coefficients.append(temp)\n",
    "        \n",
    "coefficients = np.array(coefficients)\n",
    "topics = np.array(topics)\n",
    "\n",
    "persona_agent_words = extract_top_words(coefficients)"
   ]
  },
  {
   "cell_type": "code",
   "execution_count": 5,
   "id": "4ab4fef7-f8d9-4562-b882-91528a6694b4",
   "metadata": {
    "tags": []
   },
   "outputs": [],
   "source": [
    "with open(\"data/cmu/personas/finalLPatientsFile\", \"r\") as f:\n",
    "    \n",
    "    topics = [int(x) for x in f.readline().split(\" \")]\n",
    "    lines = f.readlines()\n",
    "    \n",
    "    coefficients = []\n",
    "    for l in lines:\n",
    "        temp = []\n",
    "        for x in l.split():\n",
    "            temp.append(float(x))\n",
    "        coefficients.append(temp)\n",
    "        \n",
    "coefficients = np.array(coefficients)\n",
    "topics = np.array(topics)\n",
    "\n",
    "persona_patient_words = extract_top_words(coefficients)"
   ]
  },
  {
   "cell_type": "code",
   "execution_count": 6,
   "id": "872cad4b-ea98-4f04-a8ad-f878dda52fa9",
   "metadata": {
    "tags": []
   },
   "outputs": [],
   "source": [
    "with open(\"data/cmu/personas/finalLModFile\", \"r\") as f:\n",
    "    \n",
    "    topics = [int(x) for x in f.readline().split(\" \")]\n",
    "    lines = f.readlines()\n",
    "    \n",
    "    coefficients = []\n",
    "    for l in lines:\n",
    "        temp = []\n",
    "        for x in l.split():\n",
    "            temp.append(float(x))\n",
    "        coefficients.append(temp)\n",
    "        \n",
    "coefficients = np.array(coefficients)\n",
    "topics = np.array(topics)\n",
    "\n",
    "persona_mod_words = extract_top_words(coefficients)"
   ]
  },
  {
   "cell_type": "code",
   "execution_count": 7,
   "id": "e65ca024-0c4b-4ea0-bf86-91d9c009be84",
   "metadata": {
    "tags": []
   },
   "outputs": [],
   "source": [
    "persona_words = dict()\n",
    "\n",
    "for p_id in range(1, 51):\n",
    "    persona_words[p_id] = dict()\n",
    "    \n",
    "    persona_words[p_id][\"agent\"] = persona_agent_words[p_id - 1]\n",
    "    persona_words[p_id][\"patient\"] = persona_patient_words[p_id - 1]\n",
    "    persona_words[p_id][\"modifiee\"] = persona_mod_words[p_id - 1]"
   ]
  },
  {
   "cell_type": "code",
   "execution_count": 9,
   "id": "54518fdb-4de0-489b-a027-b6982b4c8d98",
   "metadata": {
    "tags": []
   },
   "outputs": [],
   "source": [
    "with open(\"data/cmu/personas/personas_words.json\", \"w\") as outfile:\n",
    "    json.dump(persona_words, outfile)"
   ]
  }
 ],
 "metadata": {
  "kernelspec": {
   "display_name": "Python 3 (ipykernel)",
   "language": "python",
   "name": "python3"
  },
  "language_info": {
   "codemirror_mode": {
    "name": "ipython",
    "version": 3
   },
   "file_extension": ".py",
   "mimetype": "text/x-python",
   "name": "python",
   "nbconvert_exporter": "python",
   "pygments_lexer": "ipython3",
   "version": "3.10.0"
  }
 },
 "nbformat": 4,
 "nbformat_minor": 5
}
