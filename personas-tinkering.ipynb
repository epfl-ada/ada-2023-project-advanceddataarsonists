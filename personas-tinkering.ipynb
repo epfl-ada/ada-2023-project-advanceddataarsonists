{
 "cells": [
  {
   "cell_type": "code",
   "execution_count": 1,
   "metadata": {},
   "outputs": [],
   "source": [
    "import pandas as pd\n",
    "import numpy as np\n",
    "import json\n",
    "\n",
    "PATH = \"data/cmu/personas/out.phi.weights\"\n",
    "\n",
    "SAVE_PATH = \"data/cmu/personas/persona_verbs.json\"\n"
   ]
  },
  {
   "cell_type": "code",
   "execution_count": 2,
   "metadata": {},
   "outputs": [
    {
     "name": "stdout",
     "output_type": "stream",
     "text": [
      "1 ['arrive', 'meet', 'accept', 'believe', 'think', 'learn', 'ask', 'return', 'refuse', 'get', 'have', 'try', 'take', 'see', 'agree', 'want', 'decide', 'leave', 'realize', 'find']\n",
      "2 ['try', 'work', 'wound', 'call', 'beat', 'convict', 'frame', 'accuse', 'approach', 'shoot', 'force', 'catch', 'assign', 'send', 'involve', 'sentence', 'inform', 'release', 'tell', 'arrest']\n",
      "3 ['ambush', 'pursue', 'continue', 'try', 'fall', 'arrive', 'plan', 'steal', 'use', 'chase', 'be', 'turn', 'attempt', 'take', 'kidnap', 'appear', 'begin', 'capture', 'attack', 'kill']\n",
      "4 ['punch', 'carry', 'stick', 'scare', 'ask', 'show', 'eat', 'stop', 'kick', 'wake', 'shoot', 'pull', 'see', 'grab', 'give', 'knock', 'throw', 'hit', 'catch', 'chase']\n",
      "5 ['reject', 'apologize', 'know', 'spend', 'come', 'invite', 'confront', 'reveal', 'stay', 'admit', 'propose', 'go', 'break', 'run', 'confess', 'leave', 'marry', 'be', 'tell', 'love']\n",
      "6 ['flee', 'plan', 'reveal', 'get', 'hide', 'claim', 'make', 'pull', 'threaten', 'find', 'arrive', 'drive', 'call', 'shoot', 'have', 'try', 'go', 'tell', 'leave', 'take']\n",
      "7 ['escape', 'accept', 'like', 'stay', 'help', 'save', 'run', 'give', 'know', 'live', 'start', 'marry', 'tell', 'love', 'get', 'be', 'fall', 'go', 'come', 'meet']\n",
      "8 ['realize', 'emerge', 'proceed', 'walk', 'place', 'continue', 'manage', 'climb', 'attempt', 'end', 'jump', 'put', 'pull', 'use', 'open', 'hide', 'grab', 'run', 'fall', 'try']\n",
      "9 ['name', 'scare', 'wait', 'watch', 'see', 'save', 'believe', 'approach', 'pick', 'inform', 'send', 'show', 'warn', 'follow', 'look', 'call', 'take', 'leave', 'find', 'tell']\n",
      "10 ['lose', 'stop', 'help', 'wait', 'confront', 'explain', 'make', 'go', 'love', 'find', 'take', 'talk', 'get', 'show', 'see', 'call', 'meet', 'give', 'ask', 'tell']\n",
      "11 ['deliver', 'remember', 'seek', 'accept', 'recognize', 'reunite', 'convince', 'stay', 'follow', 'encounter', 'travel', 'confront', 'visit', 'receive', 'leave', 'learn', 'return', 'find', 'go', 'meet']\n",
      "12 ['do', 'stop', 'throw', 'have', 'follow', 'think', 'walk', 'go', 'hear', 'begin', 'start', 'make', 'turn', 'look', 'be', 'come', 'take', 'run', 'see', 'get']\n",
      "13 ['learn', 'commit', 'admit', 'steal', 'accuse', 'put', 'confess', 'confront', 'refuse', 'turn', 'begin', 'suspect', 'arrange', 'do', 'visit', 'ask', 'inform', 'know', 'be', 'receive']\n",
      "14 ['stop', 'murder', 'suspect', 'stab', 'hit', 'wait', 'kidnap', 'knock', 'point', 'know', 'track', 'threaten', 'meet', 'ask', 'beat', 'give', 'confront', 'tell', 'shoot', 'kill']\n",
      "15 ['bring', 'unite', 'make', 'like', 'impress', 'forget', 'save', 'win', 'woo', 'rescue', 'attract', 'kidnap', 'send', 'propose', 'take', 'engage', 'love', 'meet', 'fall', 'marry']\n",
      "16 ['work', 'own', 'abandon', 'wish', 'turn', 'choose', 'ask', 'tell', 'believe', 'do', 'suffer', 'commit', 'refuse', 'leave', 'try', 'come', 'want', 'have', 'be', 'die']\n",
      "17 ['need', 'hide', 'persuade', 'invite', 'show', 'rob', 'blackmail', 'win', 'own', 'owe', 'offer', 'give', 'work', 'have', 'buy', 'pay', 'sell', 'get', 'hire', 'steal']\n",
      "18 ['work', 'fail', 'live', 'end', 'set', 'join', 'use', 'do', 'meet', 'take', 'manage', 'come', 'lose', 'make', 'find', 'try', 'go', 'be', 'decide', 'have']\n",
      "19 ['get', 'reach', 'come', 'enter', 'try', 'save', 'reveal', 'be', 'make', 'realize', 'follow', 'learn', 'arrive', 'attempt', 'take', 'use', 'find', 'manage', 'discover', 'escape']\n",
      "20 ['lover', 'dead', 'former', 'angry', 'new', 'old', 'man', 'boyfriend', 'about', 'teacher', 'owner', 'one', 'that', 'unable', 'girlfriend', 'able', 'student', 'friend', 'young', 'woman']\n",
      "21 ['businessman', 's', 'captain', 'ill', 'proud', 'alcoholic', 'alive', 'wealthy', 'late', 'own', 'spirit', 'vampire', 'real', 'dead', 'magician', 'president', 'minister', 'zombie', 'prince', 'father']\n",
      "22 ['develop', 'grow', 'invite', 'write', 'attend', 'start', 'attempt', 'decide', 'continue', 'spend', 'learn', 'fall', 'feel', 'work', 'take', 'move', 'make', 'discover', 'begin', 'have']\n",
      "23 ['remind', 'hear', 'assure', 'injure', 'blame', 'hit', 'accuse', 'upset', 'talk', 'beat', 'help', 'confront', 'introduce', 'inform', 'shock', 'look', 'convince', 'do', 'visit', 'see']\n",
      "24 ['work', 'run', 'fall', 'know', 'live', 'arrive', 'make', 'send', 'see', 'marry', 'come', 'kill', 'have', 'be', 'meet', 'return', 'leave', 'go', 'call', 'name']\n",
      "25 ['write', 'support', 'steal', 'speak', 'grow', 'reconcile', 'reunite', 'watch', 'spend', 'receive', 'talk', 'marry', 'tell', 'move', 'know', 'stay', 'visit', 'leave', 'find', 'live']\n",
      "26 ['rescue', 'produce', 'conduct', 'organize', 'write', 'express', 'encourage', 'welcome', 'travel', 'describe', 'conclude', 'agree', 'dance', 'attend', 'play', 'discuss', 'perform', 'sing', 'invite', 'introduce']\n",
      "27 ['worker', 'terrorist', 'able', 'black', 'partner', 'chief', 'pilot', 'captain', 'former', 'agent', 'other', 'prisoner', 'cop', 'leader', 'guard', 'detective', 'member', 'police', 'soldier', 'officer']\n",
      "28 ['treat', 'separate', 'reunite', 'accept', 'want', 'look', 'save', 'keep', 'bring', 'care', 'marry', 'return', 'lose', 'adopt', 'bear', 'raise', 'see', 'take', 'leave', 'have']\n",
      "29 ['travel', 'release', 'reach', 'take', 'defeat', 'steal', 'leave', 'attack', 'head', 'lead', 'set', 'make', 'escape', 'create', 'fly', 'use', 'return', 'send', 'destroy', 'arrive']\n",
      "30 ['hit', 'attack', 'protect', 'set', 'hang', 'warn', 'bring', 'bury', 'beat', 'send', 'stab', 'kidnap', 'reveal', 'save', 'rape', 'take', 'shoot', 'murder', 'find', 'kill']\n",
      "31 ['escape', 'hide', 'believe', 'return', 'fall', 'flee', 'enter', 'wake', 'decide', 'hear', 'arrive', 'realize', 'begin', 'run', 'discover', 'leave', 'try', 'see', 'go', 'find']\n",
      "32 ['close', 'elder', 'orphan', 'mom', 'other', 'old', 'older', 'twin', 'little', 'younger', 'best', 'young', 'king', 'killer', 'baby', 'sister', 'boy', 'brother', 'girl', 'friend']\n",
      "33 ['accompany', 'deliver', 'prepare', 'engage', 'fall', 'throw', 'persuade', 'betray', 'order', 'refuse', 'confront', 'escape', 'rescue', 'learn', 'join', 'return', 'arrive', 'send', 'kill', 'lead']\n",
      "34 ['recognize', 'arrange', 'place', 'set', 'invite', 'threaten', 'put', 'teach', 'inform', 'warn', 'allow', 'confront', 'offer', 'ask', 'bring', 'make', 'take', 'send', 'tell', 'give']\n",
      "35 ['pursue', 'break', 'determine', 'develop', 'set', 'hire', 'invite', 'fall', 'follow', 'fire', 'offer', 'introduce', 'reunite', 'involve', 'force', 'seduce', 'leave', 'marry', 'attract', 'meet']\n",
      "36 ['go', 'turn', 'put', 'throw', 'reveal', 'keep', 'lead', 'save', 'force', 'catch', 'tell', 'join', 'help', 'kill', 'get', 'bring', 'meet', 'find', 'give', 'take']\n",
      "37 ['share', 'miss', 'depart', 'befriend', 'recognize', 'wish', 'hide', 'head', 'live', 'fly', 'join', 'encounter', 'flee', 'grow', 'discover', 'find', 'fall', 'leave', 'return', 'give']\n",
      "38 ['elderly', 'that', 'alive', 'attorney', 'sick', 'de', 'wife', 'own', 'ill', 'aunt', 'dead', 'sister', 'hitman', 'duck', 'pregnant', 'single', 'widow', 'warden', 'nurse', 'mother']\n",
      "39 ['character', 'narrator', 'hunter', 'native', 'rebel', 'hero', 'warrior', 'villain', 'other', 'goon', 'bandit', 'soul', 'survivor', 'dragon', 'henchman', 'human', 'sheriff', 'scientist', 'alien', 'monster']\n",
      "40 ['teenage', 'count', 'queen', 'dead', 'survivor', 'other', 'young', 'sibling', 'mistress', 'beautiful', 'guest', 'victim', 'passenger', 'dad', 'pregnant', 'princess', 'witch', 'kid', 'daughter', 'wife']\n",
      "41 ['younger', 'older', 'mysterious', 'blind', 'only', 'own', 'dead', 's', 'other', 'lady', 'judge', 'driver', 'old', 'young', 'doctor', 'husband', 'parent', 'child', 'son', 'man']\n",
      "42 ['quit', 'accept', 'sign', 'knock', 'hit', 'compete', 'enter', 'include', 'lose', 'perform', 'sing', 'give', 'start', 'join', 'challenge', 'beat', 'make', 'get', 'play', 'win']\n",
      "43 ['other', 'dog', 'first', 'ghost', 'evil', 'witch', 'servant', 'bride', 'nun', 'angel', 'werewolf', 'thug', 'assassin', 'pirate', 'zombie', 'demon', 'thief', 'bug', 'spirit', 'vampire']\n",
      "44 ['learn', 'finish', 'restore', 'summon', 'join', 'challenge', 'beat', 'release', 'battle', 'save', 'face', 'encounter', 'stop', 'kill', 'confront', 'destroy', 'turn', 'transform', 'fight', 'defeat']\n",
      "45 ['insist', 'suggest', 'attempt', 'know', 'warn', 'discover', 'use', 'inform', 'agree', 'ask', 'appear', 'believe', 'show', 'call', 'arrive', 'offer', 'explain', 'give', 'reveal', 'tell']\n",
      "46 ['de', 'mayor', 'coach', 'local', 'policeman', 'aunt', 'big', 'robber', 'drug', 'dealer', 'manager', 'criminal', 'gangster', 'grandmother', 'villager', 'grandfather', 'master', 'priest', 'uncle', 'boss']\n",
      "47 ['impale', 'force', 'strangle', 'throw', 'appear', 'pull', 'confront', 'possess', 'grab', 'lock', 'turn', 'lure', 'drag', 'chase', 'shoot', 'knock', 'bite', 'stab', 'attack', 'kill']\n",
      "48 ['force', 'chase', 'introduce', 'escape', 'protect', 'stop', 'imprison', 'catch', 'trap', 'search', 'name', 'attack', 'free', 'reunite', 'kidnap', 'find', 'take', 'capture', 'rescue', 'save']\n",
      "49 ['fight', 'knock', 'leave', 'inform', 'work', 'hold', 'confront', 'follow', 'ambush', 'escape', 'track', 'wound', 'stop', 'lead', 'attack', 'pursue', 'send', 'capture', 'shoot', 'kill']\n",
      "50 ['put', 'read', 'drive', 'stay', 'feel', 'need', 'reply', 'arrive', 'walk', 'try', 'ask', 'come', 'do', 'want', 'know', 'leave', 'be', 'have', 'say', 'go']\n"
     ]
    }
   ],
   "source": [
    "persona_verbs = dict()\n",
    "\n",
    "with open(PATH, \"r\") as file:\n",
    "    persona_id = 0\n",
    "    verbs = pd.DataFrame(file.readline().split(sep=' '))\n",
    "\n",
    "    for line in file.readlines(): \n",
    "        persona_id += 1\n",
    "        freq = [float(x) for x in line.split(sep=' ')]\n",
    "        top_id = np.argsort(freq)[-20:]\n",
    "        top_verbs = verbs.iloc[top_id].values.flatten().tolist()\n",
    "\n",
    "        print(persona_id, top_verbs)\n",
    "        persona_verbs[persona_id] = top_verbs"
   ]
  },
  {
   "cell_type": "code",
   "execution_count": 3,
   "metadata": {},
   "outputs": [],
   "source": [
    "with open(SAVE_PATH, 'w', encoding='utf-8') as f:\n",
    "    json.dump(persona_verbs, f, ensure_ascii=False, indent=4)"
   ]
  }
 ],
 "metadata": {
  "kernelspec": {
   "display_name": "Python 3",
   "language": "python",
   "name": "python3"
  },
  "language_info": {
   "codemirror_mode": {
    "name": "ipython",
    "version": 3
   },
   "file_extension": ".py",
   "mimetype": "text/x-python",
   "name": "python",
   "nbconvert_exporter": "python",
   "pygments_lexer": "ipython3",
   "version": "3.10.0"
  }
 },
 "nbformat": 4,
 "nbformat_minor": 2
}
