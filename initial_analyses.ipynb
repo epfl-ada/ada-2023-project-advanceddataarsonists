{
 "cells": [
  {
   "cell_type": "markdown",
   "metadata": {},
   "source": [
    "# Part 0: Requirements"
   ]
  },
  {
   "cell_type": "code",
   "execution_count": 1,
   "metadata": {},
   "outputs": [],
   "source": [
    "# Allow python to import modules from src folders\n",
    "import sys\n",
    "import matplotlib.pyplot as plt\n",
    "import seaborn as sns\n",
    "import json\n",
    "from collections import defaultdict\n",
    "import ast\n",
    "from collections import Counter\n",
    "sys.path.append(\"src/\")\n",
    "\n",
    "from preprocessing.load_dataset import *\n",
    "\n",
    "SAVE_PATH = \"./data/refined\"\n",
    "if not os.path.exists(SAVE_PATH):\n",
    "    os.mkdir(SAVE_PATH)"
   ]
  },
  {
   "cell_type": "markdown",
   "metadata": {},
   "source": [
    "## Download data  \n",
    "Please uncomment the following line to download data"
   ]
  },
  {
   "cell_type": "code",
   "execution_count": 2,
   "metadata": {},
   "outputs": [],
   "source": [
    "# %run src/preprocessing/download_dataset.py"
   ]
  },
  {
   "cell_type": "markdown",
   "metadata": {},
   "source": [
    "# Part I: Load, explore and join datasets"
   ]
  },
  {
   "cell_type": "markdown",
   "metadata": {},
   "source": [
    "## CMU dataset\n",
    "\n",
    "We load the 4 `.tsv` and `.txt` files of the CMU dataset into 4 different dataframes"
   ]
  },
  {
   "cell_type": "code",
   "execution_count": 3,
   "metadata": {
    "tags": []
   },
   "outputs": [],
   "source": [
    "characters_df = load_characters_df()\n",
    "movies_df = load_movies_df()\n",
    "plot_df = load_plot_df()\n",
    "tvtropes_df = load_tvtropes_df()"
   ]
  },
  {
   "cell_type": "markdown",
   "metadata": {},
   "source": [
    "### Characters\n",
    "\n",
    "The characters dataframe comes from the CMU movies dataset. This dataframe describes movie characters and provides information about the actor who played the corresponding character. Here is a sample of this dataframe :"
   ]
  },
  {
   "cell_type": "code",
   "execution_count": 4,
   "metadata": {
    "tags": []
   },
   "outputs": [
    {
     "data": {
      "text/html": [
       "<div>\n",
       "<style scoped>\n",
       "    .dataframe tbody tr th:only-of-type {\n",
       "        vertical-align: middle;\n",
       "    }\n",
       "\n",
       "    .dataframe tbody tr th {\n",
       "        vertical-align: top;\n",
       "    }\n",
       "\n",
       "    .dataframe thead th {\n",
       "        text-align: right;\n",
       "    }\n",
       "</style>\n",
       "<table border=\"1\" class=\"dataframe\">\n",
       "  <thead>\n",
       "    <tr style=\"text-align: right;\">\n",
       "      <th></th>\n",
       "      <th>wiki_movie_id</th>\n",
       "      <th>freebase_movie_id</th>\n",
       "      <th>release_date</th>\n",
       "      <th>character_name</th>\n",
       "      <th>actor_birth</th>\n",
       "      <th>actor_gender</th>\n",
       "      <th>actor_height</th>\n",
       "      <th>actor_ethnicity</th>\n",
       "      <th>actor_name</th>\n",
       "      <th>release_actor_age</th>\n",
       "      <th>freebase_map_id</th>\n",
       "      <th>freebase_character_id</th>\n",
       "      <th>freebase_actor_id</th>\n",
       "    </tr>\n",
       "  </thead>\n",
       "  <tbody>\n",
       "    <tr>\n",
       "      <th>429394</th>\n",
       "      <td>25752302</td>\n",
       "      <td>/m/09v2vpd</td>\n",
       "      <td>2009</td>\n",
       "      <td>NaN</td>\n",
       "      <td>1973-09-19</td>\n",
       "      <td>M</td>\n",
       "      <td>NaN</td>\n",
       "      <td>NaN</td>\n",
       "      <td>Jeremy Lindsay Taylor</td>\n",
       "      <td>35.0</td>\n",
       "      <td>/m/0ggfhfs</td>\n",
       "      <td>NaN</td>\n",
       "      <td>/m/02w8zcj</td>\n",
       "    </tr>\n",
       "    <tr>\n",
       "      <th>318241</th>\n",
       "      <td>20889546</td>\n",
       "      <td>/m/05b2p64</td>\n",
       "      <td>1975-11-06</td>\n",
       "      <td>Willy Clark</td>\n",
       "      <td>1920-10-01</td>\n",
       "      <td>M</td>\n",
       "      <td>1.892</td>\n",
       "      <td>/m/041rx</td>\n",
       "      <td>Walter Matthau</td>\n",
       "      <td>55.0</td>\n",
       "      <td>/m/02vbdgc</td>\n",
       "      <td>/m/04kpygp</td>\n",
       "      <td>/m/0gyy0</td>\n",
       "    </tr>\n",
       "    <tr>\n",
       "      <th>96154</th>\n",
       "      <td>1456002</td>\n",
       "      <td>/m/052zqs</td>\n",
       "      <td>1947-12-25</td>\n",
       "      <td>NaN</td>\n",
       "      <td>1904-09-17</td>\n",
       "      <td>M</td>\n",
       "      <td>NaN</td>\n",
       "      <td>NaN</td>\n",
       "      <td>Jerry Colonna</td>\n",
       "      <td>43.0</td>\n",
       "      <td>/m/0cw0fbg</td>\n",
       "      <td>NaN</td>\n",
       "      <td>/m/01vgx3r</td>\n",
       "    </tr>\n",
       "    <tr>\n",
       "      <th>179824</th>\n",
       "      <td>4500801</td>\n",
       "      <td>/m/0c5rx_</td>\n",
       "      <td>1987</td>\n",
       "      <td>NaN</td>\n",
       "      <td>NaN</td>\n",
       "      <td>NaN</td>\n",
       "      <td>NaN</td>\n",
       "      <td>NaN</td>\n",
       "      <td>Charlie Phillips</td>\n",
       "      <td>NaN</td>\n",
       "      <td>/m/0gcbwl5</td>\n",
       "      <td>NaN</td>\n",
       "      <td>/m/0gcbwl7</td>\n",
       "    </tr>\n",
       "    <tr>\n",
       "      <th>393791</th>\n",
       "      <td>24703493</td>\n",
       "      <td>/m/080hwn5</td>\n",
       "      <td>2000-09-26</td>\n",
       "      <td>NaN</td>\n",
       "      <td>1957</td>\n",
       "      <td>M</td>\n",
       "      <td>NaN</td>\n",
       "      <td>NaN</td>\n",
       "      <td>Dito Tsintsadze</td>\n",
       "      <td>43.0</td>\n",
       "      <td>/m/0bfmxzt</td>\n",
       "      <td>NaN</td>\n",
       "      <td>/m/080lqx5</td>\n",
       "    </tr>\n",
       "  </tbody>\n",
       "</table>\n",
       "</div>"
      ],
      "text/plain": [
       "        wiki_movie_id freebase_movie_id release_date character_name  \\\n",
       "429394       25752302        /m/09v2vpd         2009            NaN   \n",
       "318241       20889546        /m/05b2p64   1975-11-06    Willy Clark   \n",
       "96154         1456002         /m/052zqs   1947-12-25            NaN   \n",
       "179824        4500801         /m/0c5rx_         1987            NaN   \n",
       "393791       24703493        /m/080hwn5   2000-09-26            NaN   \n",
       "\n",
       "       actor_birth actor_gender  actor_height actor_ethnicity  \\\n",
       "429394  1973-09-19            M           NaN             NaN   \n",
       "318241  1920-10-01            M         1.892        /m/041rx   \n",
       "96154   1904-09-17            M           NaN             NaN   \n",
       "179824         NaN          NaN           NaN             NaN   \n",
       "393791        1957            M           NaN             NaN   \n",
       "\n",
       "                   actor_name  release_actor_age freebase_map_id  \\\n",
       "429394  Jeremy Lindsay Taylor               35.0      /m/0ggfhfs   \n",
       "318241         Walter Matthau               55.0      /m/02vbdgc   \n",
       "96154           Jerry Colonna               43.0      /m/0cw0fbg   \n",
       "179824       Charlie Phillips                NaN      /m/0gcbwl5   \n",
       "393791        Dito Tsintsadze               43.0      /m/0bfmxzt   \n",
       "\n",
       "       freebase_character_id freebase_actor_id  \n",
       "429394                   NaN        /m/02w8zcj  \n",
       "318241            /m/04kpygp          /m/0gyy0  \n",
       "96154                    NaN        /m/01vgx3r  \n",
       "179824                   NaN        /m/0gcbwl7  \n",
       "393791                   NaN        /m/080lqx5  "
      ]
     },
     "execution_count": 4,
     "metadata": {},
     "output_type": "execute_result"
    }
   ],
   "source": [
    "characters_df.sample(5)"
   ]
  },
  {
   "cell_type": "code",
   "execution_count": 5,
   "metadata": {
    "tags": []
   },
   "outputs": [
    {
     "name": "stdout",
     "output_type": "stream",
     "text": [
      "Number of characters loaded: 450669\n",
      "Number of unique movies: 64330\n",
      "Number of unique actors: 135761\n",
      "\n",
      "Percentage of missing gender: 10.12%\n",
      "Percentage of missing height: 65.65%\n",
      "Percentage of missing ethnicity: 76.47%\n",
      "Percentage of missing age upon release: 35.08%\n"
     ]
    }
   ],
   "source": [
    "total_characters = len(characters_df)\n",
    "print(f\"Number of characters loaded: {total_characters}\")\n",
    "print(f\"Number of unique movies: {len(characters_df['wiki_movie_id'].unique())}\")\n",
    "print(f\"Number of unique actors: {len(characters_df['freebase_actor_id'].unique())}\", end=\"\\n\\n\")\n",
    "\n",
    "print(f\"Percentage of missing gender: {characters_df['actor_gender'].isna().sum()/total_characters*100:.2f}%\")\n",
    "print(f\"Percentage of missing height: {characters_df['actor_height'].isna().sum()/total_characters*100:.2f}%\")\n",
    "print(f\"Percentage of missing ethnicity: {characters_df['actor_ethnicity'].isna().sum()/total_characters*100:.2f}%\")\n",
    "print(f\"Percentage of missing age upon release: {characters_df['release_actor_age'].isna().sum()/total_characters*100:.2f}%\")"
   ]
  },
  {
   "cell_type": "code",
   "execution_count": 6,
   "metadata": {},
   "outputs": [
    {
     "name": "stdout",
     "output_type": "stream",
     "text": [
      "Number of character records for which ethnicity is known: 106058"
     ]
    },
    {
     "name": "stdout",
     "output_type": "stream",
     "text": [
      "\n",
      "Number of unique actors for which ethnicity is known: 8151\n"
     ]
    }
   ],
   "source": [
    "print(f\"Number of character records for which ethnicity is known: {len(characters_df[~characters_df['actor_ethnicity'].isna()])}\")\n",
    "print(f\"Number of unique actors for which ethnicity is known: {len(characters_df[~characters_df['actor_ethnicity'].isna()]['freebase_actor_id'].unique())}\")"
   ]
  },
  {
   "cell_type": "markdown",
   "metadata": {},
   "source": [
    "We can first notice that a great percentage of actor's ethnicity is missing. This may become a problem when we study the impact of actors' ethnicity on the success of a movie."
   ]
  },
  {
   "cell_type": "code",
   "execution_count": 7,
   "metadata": {},
   "outputs": [
    {
     "data": {
      "image/png": "[encoded data removed]",
      "text/plain": [
       "<Figure size 1440x432 with 1 Axes>"
      ]
     },
     "metadata": {
      "needs_background": "light"
     },
     "output_type": "display_data"
    }
   ],
   "source": [
    "actors_ethnicities = characters_df[['freebase_actor_id', 'actor_ethnicity']].dropna().groupby(by='actor_ethnicity').count()\n",
    "actors_ethnicities = actors_ethnicities.sort_values(by='freebase_actor_id')\n",
    "\n",
    "plt.figure(figsize=(20,6))\n",
    "plt.bar(actors_ethnicities.index, actors_ethnicities['freebase_actor_id'], label='')\n",
    "plt.title(\"Actors ethnicities distribution\")\n",
    "plt.yscale('log')\n",
    "plt.xticks([])\n",
    "plt.ylabel(\"Count\")\n",
    "plt.xlabel(\"Ethnicity\")\n",
    "plt.show()"
   ]
  },
  {
   "cell_type": "markdown",
   "metadata": {},
   "source": [
    "As shown, the ethnicities distribution is very heterogeneous. Some ethnicities have only one representative whereas others have more than thousands elements. During analysis, we must be careful on our conclusions as variance gets higher for the ethnicities with fewer representatives. Fortunately, we can quantify uncertainty in our results using tools like p-value and confidence interval."
   ]
  },
  {
   "cell_type": "markdown",
   "metadata": {},
   "source": [
    "### Movies\n",
    "\n",
    "The movies dataframe also comes from the CMU dataset and provides information about movies such as its origins, runtime and box office."
   ]
  },
  {
   "cell_type": "code",
   "execution_count": 8,
   "metadata": {},
   "outputs": [
    {
     "data": {
      "text/html": [
       "<div>\n",
       "<style scoped>\n",
       "    .dataframe tbody tr th:only-of-type {\n",
       "        vertical-align: middle;\n",
       "    }\n",
       "\n",
       "    .dataframe tbody tr th {\n",
       "        vertical-align: top;\n",
       "    }\n",
       "\n",
       "    .dataframe thead th {\n",
       "        text-align: right;\n",
       "    }\n",
       "</style>\n",
       "<table border=\"1\" class=\"dataframe\">\n",
       "  <thead>\n",
       "    <tr style=\"text-align: right;\">\n",
       "      <th></th>\n",
       "      <th>wiki_movie_id</th>\n",
       "      <th>freebase_movie_id</th>\n",
       "      <th>movie_name</th>\n",
       "      <th>movie_release_date</th>\n",
       "      <th>box_office</th>\n",
       "      <th>movie_runtime</th>\n",
       "      <th>movie_languages</th>\n",
       "      <th>movie_countries</th>\n",
       "      <th>movie_genres</th>\n",
       "    </tr>\n",
       "  </thead>\n",
       "  <tbody>\n",
       "    <tr>\n",
       "      <th>16280</th>\n",
       "      <td>448331</td>\n",
       "      <td>/m/029p20</td>\n",
       "      <td>Class Action</td>\n",
       "      <td>1991-03-15</td>\n",
       "      <td>28277918.0</td>\n",
       "      <td>110.0</td>\n",
       "      <td>{'/m/02h40lc': 'English Language'}</td>\n",
       "      <td>{'/m/09c7w0': 'United States of America'}</td>\n",
       "      <td>{'/m/07s9rl0': 'Drama', '/m/05bh16v': 'Courtro...</td>\n",
       "    </tr>\n",
       "    <tr>\n",
       "      <th>45226</th>\n",
       "      <td>31818034</td>\n",
       "      <td>/m/0gtwg66</td>\n",
       "      <td>Gabhroo Punjab Da</td>\n",
       "      <td>1986</td>\n",
       "      <td>NaN</td>\n",
       "      <td>NaN</td>\n",
       "      <td>{'/m/0688f': 'Punjabi language'}</td>\n",
       "      <td>{'/m/03rk0': 'India'}</td>\n",
       "      <td>{'/m/02kdv5l': 'Action'}</td>\n",
       "    </tr>\n",
       "    <tr>\n",
       "      <th>54297</th>\n",
       "      <td>28492520</td>\n",
       "      <td>/m/0crbvk9</td>\n",
       "      <td>Servantes iz Malog Mista</td>\n",
       "      <td>1982</td>\n",
       "      <td>NaN</td>\n",
       "      <td>106.0</td>\n",
       "      <td>{'/m/0k0sv': 'Croatian language', '/m/0k0sb': ...</td>\n",
       "      <td>{'/m/087vz': 'Yugoslavia'}</td>\n",
       "      <td>{'/m/05p553': 'Comedy film'}</td>\n",
       "    </tr>\n",
       "    <tr>\n",
       "      <th>15341</th>\n",
       "      <td>25526521</td>\n",
       "      <td>/m/09rwjll</td>\n",
       "      <td>I Ought to Be in Pictures</td>\n",
       "      <td>1982-03-26</td>\n",
       "      <td>6968359.0</td>\n",
       "      <td>107.0</td>\n",
       "      <td>{'/m/02h40lc': 'English Language', '/m/06nm1':...</td>\n",
       "      <td>{'/m/09c7w0': 'United States of America'}</td>\n",
       "      <td>{'/m/07s9rl0': 'Drama', '/m/01z4y': 'Comedy'}</td>\n",
       "    </tr>\n",
       "    <tr>\n",
       "      <th>56105</th>\n",
       "      <td>5794209</td>\n",
       "      <td>/m/0f4yp_</td>\n",
       "      <td>Green Hell</td>\n",
       "      <td>1940</td>\n",
       "      <td>NaN</td>\n",
       "      <td>87.0</td>\n",
       "      <td>{'/m/02h40lc': 'English Language'}</td>\n",
       "      <td>{'/m/09c7w0': 'United States of America'}</td>\n",
       "      <td>{'/m/02kdv5l': 'Action', '/m/03k9fj': 'Adventu...</td>\n",
       "    </tr>\n",
       "  </tbody>\n",
       "</table>\n",
       "</div>"
      ],
      "text/plain": [
       "       wiki_movie_id freebase_movie_id                 movie_name  \\\n",
       "16280         448331         /m/029p20               Class Action   \n",
       "45226       31818034        /m/0gtwg66          Gabhroo Punjab Da   \n",
       "54297       28492520        /m/0crbvk9   Servantes iz Malog Mista   \n",
       "15341       25526521        /m/09rwjll  I Ought to Be in Pictures   \n",
       "56105        5794209         /m/0f4yp_                 Green Hell   \n",
       "\n",
       "      movie_release_date  box_office  movie_runtime  \\\n",
       "16280         1991-03-15  28277918.0          110.0   \n",
       "45226               1986         NaN            NaN   \n",
       "54297               1982         NaN          106.0   \n",
       "15341         1982-03-26   6968359.0          107.0   \n",
       "56105               1940         NaN           87.0   \n",
       "\n",
       "                                         movie_languages  \\\n",
       "16280                 {'/m/02h40lc': 'English Language'}   \n",
       "45226                   {'/m/0688f': 'Punjabi language'}   \n",
       "54297  {'/m/0k0sv': 'Croatian language', '/m/0k0sb': ...   \n",
       "15341  {'/m/02h40lc': 'English Language', '/m/06nm1':...   \n",
       "56105                 {'/m/02h40lc': 'English Language'}   \n",
       "\n",
       "                                 movie_countries  \\\n",
       "16280  {'/m/09c7w0': 'United States of America'}   \n",
       "45226                      {'/m/03rk0': 'India'}   \n",
       "54297                 {'/m/087vz': 'Yugoslavia'}   \n",
       "15341  {'/m/09c7w0': 'United States of America'}   \n",
       "56105  {'/m/09c7w0': 'United States of America'}   \n",
       "\n",
       "                                            movie_genres  \n",
       "16280  {'/m/07s9rl0': 'Drama', '/m/05bh16v': 'Courtro...  \n",
       "45226                           {'/m/02kdv5l': 'Action'}  \n",
       "54297                       {'/m/05p553': 'Comedy film'}  \n",
       "15341      {'/m/07s9rl0': 'Drama', '/m/01z4y': 'Comedy'}  \n",
       "56105  {'/m/02kdv5l': 'Action', '/m/03k9fj': 'Adventu...  "
      ]
     },
     "execution_count": 8,
     "metadata": {},
     "output_type": "execute_result"
    }
   ],
   "source": [
    "movies_df.sample(5)"
   ]
  },
  {
   "cell_type": "code",
   "execution_count": 9,
   "metadata": {},
   "outputs": [
    {
     "name": "stdout",
     "output_type": "stream",
     "text": [
      "Number of movies loaded: 81741\n",
      "Percentage of missing box office revenue: 89.72%\n"
     ]
    }
   ],
   "source": [
    "total_movies = len(movies_df)\n",
    "print(f\"Number of movies loaded: {total_movies}\")\n",
    "print(f\"Percentage of missing box office revenue: {movies_df['box_office'].isna().sum()/total_movies*100:.2f}%\")"
   ]
  },
  {
   "cell_type": "markdown",
   "metadata": {},
   "source": [
    "A great proportion of box office revenue data is missing (almost 90%). This makes sense as lots of movies are not shown in cinemas such as TV movies, short movies. Indeed, to get a movie to the box office, one needs to work with studios or convince distributors to distribute the movie.\n",
    "\n",
    "Thus, using box office as a way to measure a movie's success may be biased because we already filter a specific type of movie. Furthermore, box office does not necessarily reflect the quality of a movie. Indeed some movies may not get a high box office revenue because of a lack of advertising. To fix this issue, we will use users rating from the IMDb database."
   ]
  },
  {
   "cell_type": "code",
   "execution_count": 10,
   "metadata": {},
   "outputs": [
    {
     "name": "stdout",
     "output_type": "stream",
     "text": [
      "Number of movies for which we have matching character data: 64330\n"
     ]
    }
   ],
   "source": [
    "print(f\"Number of movies for which we have matching character data: {len(movies_df.merge(characters_df, how='inner', on=['wiki_movie_id', 'freebase_movie_id'])['freebase_movie_id'].unique())}\")"
   ]
  },
  {
   "cell_type": "code",
   "execution_count": 11,
   "metadata": {},
   "outputs": [],
   "source": [
    "# Extract years from the release date of movies\n",
    "movies_df['movie_release_year'] = movies_df[~movies_df['movie_release_date'].isna()]['movie_release_date'].astype(str).str[:4].astype(int)"
   ]
  },
  {
   "cell_type": "code",
   "execution_count": 12,
   "metadata": {},
   "outputs": [
    {
     "data": {
      "image/png": "[encoded data removed]",
      "text/plain": [
       "<Figure size 432x288 with 1 Axes>"
      ]
     },
     "metadata": {
      "needs_background": "light"
     },
     "output_type": "display_data"
    }
   ],
   "source": [
    "plt.hist(movies_df['movie_release_year'])\n",
    "plt.xlabel(\"Year\")\n",
    "plt.ylabel(\"Count\")\n",
    "plt.title(\"Movies count per year\")\n",
    "plt.show()"
   ]
  },
  {
   "cell_type": "markdown",
   "metadata": {},
   "source": [
    "We notice that a movie has been produced before 1800 ! Let's investigate :"
   ]
  },
  {
   "cell_type": "code",
   "execution_count": 13,
   "metadata": {},
   "outputs": [
    {
     "name": "stdout",
     "output_type": "stream",
     "text": [
      "Int64Index([62836], dtype='int64')\n"
     ]
    }
   ],
   "source": [
    "wrong_dates = movies_df[movies_df['movie_release_year'] < 1800].index\n",
    "print(wrong_dates)"
   ]
  },
  {
   "cell_type": "code",
   "execution_count": 14,
   "metadata": {},
   "outputs": [
    {
     "data": {
      "text/html": [
       "<div>\n",
       "<style scoped>\n",
       "    .dataframe tbody tr th:only-of-type {\n",
       "        vertical-align: middle;\n",
       "    }\n",
       "\n",
       "    .dataframe tbody tr th {\n",
       "        vertical-align: top;\n",
       "    }\n",
       "\n",
       "    .dataframe thead th {\n",
       "        text-align: right;\n",
       "    }\n",
       "</style>\n",
       "<table border=\"1\" class=\"dataframe\">\n",
       "  <thead>\n",
       "    <tr style=\"text-align: right;\">\n",
       "      <th></th>\n",
       "      <th>wiki_movie_id</th>\n",
       "      <th>freebase_movie_id</th>\n",
       "      <th>movie_name</th>\n",
       "      <th>movie_release_date</th>\n",
       "      <th>box_office</th>\n",
       "      <th>movie_runtime</th>\n",
       "      <th>movie_languages</th>\n",
       "      <th>movie_countries</th>\n",
       "      <th>movie_genres</th>\n",
       "      <th>movie_release_year</th>\n",
       "    </tr>\n",
       "  </thead>\n",
       "  <tbody>\n",
       "    <tr>\n",
       "      <th>62836</th>\n",
       "      <td>29666067</td>\n",
       "      <td>/m/0fphzrf</td>\n",
       "      <td>Hunting Season</td>\n",
       "      <td>1010-12-02</td>\n",
       "      <td>12160978.0</td>\n",
       "      <td>140.0</td>\n",
       "      <td>{'/m/02hwyss': 'Turkish Language', '/m/02h40lc...</td>\n",
       "      <td>{'/m/01znc_': 'Turkey'}</td>\n",
       "      <td>{'/m/0lsxr': 'Crime Fiction', '/m/02n4kr': 'My...</td>\n",
       "      <td>1010.0</td>\n",
       "    </tr>\n",
       "  </tbody>\n",
       "</table>\n",
       "</div>"
      ],
      "text/plain": [
       "       wiki_movie_id freebase_movie_id      movie_name movie_release_date  \\\n",
       "62836       29666067        /m/0fphzrf  Hunting Season         1010-12-02   \n",
       "\n",
       "       box_office  movie_runtime  \\\n",
       "62836  12160978.0          140.0   \n",
       "\n",
       "                                         movie_languages  \\\n",
       "62836  {'/m/02hwyss': 'Turkish Language', '/m/02h40lc...   \n",
       "\n",
       "               movie_countries  \\\n",
       "62836  {'/m/01znc_': 'Turkey'}   \n",
       "\n",
       "                                            movie_genres  movie_release_year  \n",
       "62836  {'/m/0lsxr': 'Crime Fiction', '/m/02n4kr': 'My...              1010.0  "
      ]
     },
     "execution_count": 14,
     "metadata": {},
     "output_type": "execute_result"
    }
   ],
   "source": [
    "movies_df.loc[wrong_dates]"
   ]
  },
  {
   "cell_type": "markdown",
   "metadata": {},
   "source": [
    "By googling the movie's name, we find that `Hunting season` should be released in 2010 (instead of 1010). This is obviously a typo and 1010 should be replaced by 2010."
   ]
  },
  {
   "cell_type": "code",
   "execution_count": 15,
   "metadata": {},
   "outputs": [],
   "source": [
    "# A movie that has the release date 1010. We fix the typo to 2010\n",
    "movies_df.loc[wrong_dates, 'movie_release_year']= 2010\n",
    "movies_df.loc[wrong_dates, 'movie_release_date'] ='2010-12-02'"
   ]
  },
  {
   "cell_type": "code",
   "execution_count": 16,
   "metadata": {},
   "outputs": [
    {
     "data": {
      "image/png": "[encoded data removed]",
      "text/plain": [
       "<Figure size 864x432 with 1 Axes>"
      ]
     },
     "metadata": {
      "needs_background": "light"
     },
     "output_type": "display_data"
    }
   ],
   "source": [
    "n_years = len(movies_df['movie_release_year'].dropna().unique())\n",
    "\n",
    "plt.figure(figsize=(12, 6))\n",
    "plt.hist(movies_df['movie_release_year'], bins=n_years)\n",
    "plt.xlabel(\"Year\")\n",
    "plt.ylabel(\"Count\")\n",
    "plt.title(\"Movies count per year\")\n",
    "plt.show()"
   ]
  },
  {
   "cell_type": "markdown",
   "metadata": {},
   "source": [
    "There are significantly more movies released after 1990 than before in our dataset."
   ]
  },
  {
   "cell_type": "markdown",
   "metadata": {},
   "source": [
    "### Plot\n",
    "\n",
    "The plot dataframe comes from the CMU dataset and provides a summary of the plot of a given movie."
   ]
  },
  {
   "cell_type": "code",
   "execution_count": 17,
   "metadata": {
    "tags": []
   },
   "outputs": [
    {
     "data": {
      "text/html": [
       "<div>\n",
       "<style scoped>\n",
       "    .dataframe tbody tr th:only-of-type {\n",
       "        vertical-align: middle;\n",
       "    }\n",
       "\n",
       "    .dataframe tbody tr th {\n",
       "        vertical-align: top;\n",
       "    }\n",
       "\n",
       "    .dataframe thead th {\n",
       "        text-align: right;\n",
       "    }\n",
       "</style>\n",
       "<table border=\"1\" class=\"dataframe\">\n",
       "  <thead>\n",
       "    <tr style=\"text-align: right;\">\n",
       "      <th></th>\n",
       "      <th>wiki_movie_id</th>\n",
       "      <th>plot_summary</th>\n",
       "    </tr>\n",
       "  </thead>\n",
       "  <tbody>\n",
       "    <tr>\n",
       "      <th>28594</th>\n",
       "      <td>33408737</td>\n",
       "      <td>Grace Roberts , marries rancher Edward Smith, ...</td>\n",
       "    </tr>\n",
       "    <tr>\n",
       "      <th>38244</th>\n",
       "      <td>11760680</td>\n",
       "      <td>The movie is about a kid named Luke Malloy  wh...</td>\n",
       "    </tr>\n",
       "    <tr>\n",
       "      <th>7961</th>\n",
       "      <td>19388734</td>\n",
       "      <td>Although this is a remake of a 1920's silent O...</td>\n",
       "    </tr>\n",
       "    <tr>\n",
       "      <th>13074</th>\n",
       "      <td>28869936</td>\n",
       "      <td>The story begins in 1654, when northern China ...</td>\n",
       "    </tr>\n",
       "    <tr>\n",
       "      <th>9090</th>\n",
       "      <td>16434354</td>\n",
       "      <td>The film follows 8 of the top high school bask...</td>\n",
       "    </tr>\n",
       "  </tbody>\n",
       "</table>\n",
       "</div>"
      ],
      "text/plain": [
       "       wiki_movie_id                                       plot_summary\n",
       "28594       33408737  Grace Roberts , marries rancher Edward Smith, ...\n",
       "38244       11760680  The movie is about a kid named Luke Malloy  wh...\n",
       "7961        19388734  Although this is a remake of a 1920's silent O...\n",
       "13074       28869936  The story begins in 1654, when northern China ...\n",
       "9090        16434354  The film follows 8 of the top high school bask..."
      ]
     },
     "execution_count": 17,
     "metadata": {},
     "output_type": "execute_result"
    }
   ],
   "source": [
    "plot_df.sample(5)"
   ]
  },
  {
   "cell_type": "code",
   "execution_count": 18,
   "metadata": {},
   "outputs": [
    {
     "name": "stdout",
     "output_type": "stream",
     "text": [
      "Number of plot summaries loaded: 42303\n"
     ]
    }
   ],
   "source": [
    "total_plot = len(plot_df)\n",
    "print(f\"Number of plot summaries loaded: {total_plot}\")"
   ]
  },
  {
   "cell_type": "markdown",
   "metadata": {},
   "source": [
    "### Tropes\n",
    "\n",
    "The tvtropes dataframe is the one used by the CMU researchers to validate their personas learning algorithm. Unfortunately, this dataset does not contain a lot of tvtropes and can not be used for our analysis. Thus we need other databases to get the persona of movie characters."
   ]
  },
  {
   "cell_type": "code",
   "execution_count": 19,
   "metadata": {
    "scrolled": true,
    "tags": []
   },
   "outputs": [
    {
     "data": {
      "text/html": [
       "<div>\n",
       "<style scoped>\n",
       "    .dataframe tbody tr th:only-of-type {\n",
       "        vertical-align: middle;\n",
       "    }\n",
       "\n",
       "    .dataframe tbody tr th {\n",
       "        vertical-align: top;\n",
       "    }\n",
       "\n",
       "    .dataframe thead th {\n",
       "        text-align: right;\n",
       "    }\n",
       "</style>\n",
       "<table border=\"1\" class=\"dataframe\">\n",
       "  <thead>\n",
       "    <tr style=\"text-align: right;\">\n",
       "      <th></th>\n",
       "      <th>trope_name</th>\n",
       "      <th>character_data</th>\n",
       "    </tr>\n",
       "  </thead>\n",
       "  <tbody>\n",
       "    <tr>\n",
       "      <th>41</th>\n",
       "      <td>brainless_beauty</td>\n",
       "      <td>{'char': 'Marcia Brady', 'movie': 'The Brady B...</td>\n",
       "    </tr>\n",
       "    <tr>\n",
       "      <th>450</th>\n",
       "      <td>stupid_crooks</td>\n",
       "      <td>{'char': 'Vinny', 'movie': 'Snatch', 'id': '/m...</td>\n",
       "    </tr>\n",
       "    <tr>\n",
       "      <th>399</th>\n",
       "      <td>pupil_turned_to_evil</td>\n",
       "      <td>{'char': 'Aaron Hallam', 'movie': 'The Hunted'...</td>\n",
       "    </tr>\n",
       "    <tr>\n",
       "      <th>73</th>\n",
       "      <td>byronic_hero</td>\n",
       "      <td>{'char': 'Captain Jack Sparrow', 'movie': 'Pir...</td>\n",
       "    </tr>\n",
       "    <tr>\n",
       "      <th>490</th>\n",
       "      <td>warrior_poet</td>\n",
       "      <td>{'char': 'Colonel Walter E. Kurtz', 'movie': '...</td>\n",
       "    </tr>\n",
       "  </tbody>\n",
       "</table>\n",
       "</div>"
      ],
      "text/plain": [
       "               trope_name                                     character_data\n",
       "41       brainless_beauty  {'char': 'Marcia Brady', 'movie': 'The Brady B...\n",
       "450         stupid_crooks  {'char': 'Vinny', 'movie': 'Snatch', 'id': '/m...\n",
       "399  pupil_turned_to_evil  {'char': 'Aaron Hallam', 'movie': 'The Hunted'...\n",
       "73           byronic_hero  {'char': 'Captain Jack Sparrow', 'movie': 'Pir...\n",
       "490          warrior_poet  {'char': 'Colonel Walter E. Kurtz', 'movie': '..."
      ]
     },
     "execution_count": 19,
     "metadata": {},
     "output_type": "execute_result"
    }
   ],
   "source": [
    "tvtropes_df.sample(5)"
   ]
  },
  {
   "cell_type": "code",
   "execution_count": 20,
   "metadata": {},
   "outputs": [
    {
     "name": "stdout",
     "output_type": "stream",
     "text": [
      "Number of tropes loaded: 501\n"
     ]
    }
   ],
   "source": [
    "total_tropes = len(tvtropes_df)\n",
    "print(f\"Number of tropes loaded: {total_tropes}\")"
   ]
  },
  {
   "cell_type": "markdown",
   "metadata": {},
   "source": [
    "## IMDB dataset\n",
    "\n",
    "We load the 4 `.tsv` files of the IMDB dataset into 4 different dataframes"
   ]
  },
  {
   "cell_type": "code",
   "execution_count": 21,
   "metadata": {
    "tags": []
   },
   "outputs": [],
   "source": [
    "imdb_ratings_df = load_imdb_ratings()\n",
    "imdb_title_df = load_imdb_title_basics()\n",
    "imdb_principals_df = load_imdb_title_principals()\n",
    "imdb_people_df = load_imdb_person_basics()"
   ]
  },
  {
   "cell_type": "markdown",
   "metadata": {},
   "source": [
    "### Ratings"
   ]
  },
  {
   "cell_type": "code",
   "execution_count": 22,
   "metadata": {},
   "outputs": [
    {
     "data": {
      "text/html": [
       "<div>\n",
       "<style scoped>\n",
       "    .dataframe tbody tr th:only-of-type {\n",
       "        vertical-align: middle;\n",
       "    }\n",
       "\n",
       "    .dataframe tbody tr th {\n",
       "        vertical-align: top;\n",
       "    }\n",
       "\n",
       "    .dataframe thead th {\n",
       "        text-align: right;\n",
       "    }\n",
       "</style>\n",
       "<table border=\"1\" class=\"dataframe\">\n",
       "  <thead>\n",
       "    <tr style=\"text-align: right;\">\n",
       "      <th></th>\n",
       "      <th>tconst</th>\n",
       "      <th>averageRating</th>\n",
       "      <th>numVotes</th>\n",
       "    </tr>\n",
       "  </thead>\n",
       "  <tbody>\n",
       "    <tr>\n",
       "      <th>177334</th>\n",
       "      <td>tt0295452</td>\n",
       "      <td>6.6</td>\n",
       "      <td>133</td>\n",
       "    </tr>\n",
       "    <tr>\n",
       "      <th>627836</th>\n",
       "      <td>tt13339568</td>\n",
       "      <td>8.1</td>\n",
       "      <td>341</td>\n",
       "    </tr>\n",
       "    <tr>\n",
       "      <th>171548</th>\n",
       "      <td>tt0284334</td>\n",
       "      <td>6.9</td>\n",
       "      <td>938</td>\n",
       "    </tr>\n",
       "    <tr>\n",
       "      <th>1067298</th>\n",
       "      <td>tt3963170</td>\n",
       "      <td>4.3</td>\n",
       "      <td>333</td>\n",
       "    </tr>\n",
       "    <tr>\n",
       "      <th>458508</th>\n",
       "      <td>tt10112484</td>\n",
       "      <td>7.6</td>\n",
       "      <td>13</td>\n",
       "    </tr>\n",
       "  </tbody>\n",
       "</table>\n",
       "</div>"
      ],
      "text/plain": [
       "             tconst  averageRating  numVotes\n",
       "177334    tt0295452            6.6       133\n",
       "627836   tt13339568            8.1       341\n",
       "171548    tt0284334            6.9       938\n",
       "1067298   tt3963170            4.3       333\n",
       "458508   tt10112484            7.6        13"
      ]
     },
     "execution_count": 22,
     "metadata": {},
     "output_type": "execute_result"
    }
   ],
   "source": [
    "imdb_ratings_df.sample(5)"
   ]
  },
  {
   "cell_type": "code",
   "execution_count": 23,
   "metadata": {},
   "outputs": [
    {
     "name": "stdout",
     "output_type": "stream",
     "text": [
      "We have 1365868 movies for which we have a rating.\n"
     ]
    },
    {
     "data": {
      "image/png": "[encoded data removed]",
      "text/plain": [
       "<Figure size 432x288 with 1 Axes>"
      ]
     },
     "metadata": {
      "needs_background": "light"
     },
     "output_type": "display_data"
    },
    {
     "data": {
      "image/png": "[encoded data removed]",
      "text/plain": [
       "<Figure size 432x288 with 1 Axes>"
      ]
     },
     "metadata": {
      "needs_background": "light"
     },
     "output_type": "display_data"
    }
   ],
   "source": [
    "total_ratings = len(imdb_ratings_df)\n",
    "print(f\"We have {total_ratings} movies for which we have a rating.\")\n",
    "\n",
    "# Check the distribution of grades\n",
    "sns.histplot(data=imdb_ratings_df, x=\"averageRating\", bins=50)\n",
    "\n",
    "plt.title(\"Distribution of movie ratings\")\n",
    "plt.xlabel(\"Rating\")\n",
    "plt.ylabel(\"Number of movies\")\n",
    "plt.show()\n",
    "\n",
    "# Check the distribution of votes\n",
    "sns.histplot(data=imdb_ratings_df, x=\"numVotes\", bins=100)\n",
    "plt.yscale(\"log\")\n",
    "\n",
    "plt.title(\"Number of movies over number of votes\")\n",
    "plt.xlabel(\"Number of votes\")\n",
    "plt.ylabel(\"Number of movies\")\n",
    "plt.show()"
   ]
  },
  {
   "cell_type": "markdown",
   "metadata": {},
   "source": [
    "### Title"
   ]
  },
  {
   "cell_type": "code",
   "execution_count": 24,
   "metadata": {},
   "outputs": [
    {
     "data": {
      "text/html": [
       "<div>\n",
       "<style scoped>\n",
       "    .dataframe tbody tr th:only-of-type {\n",
       "        vertical-align: middle;\n",
       "    }\n",
       "\n",
       "    .dataframe tbody tr th {\n",
       "        vertical-align: top;\n",
       "    }\n",
       "\n",
       "    .dataframe thead th {\n",
       "        text-align: right;\n",
       "    }\n",
       "</style>\n",
       "<table border=\"1\" class=\"dataframe\">\n",
       "  <thead>\n",
       "    <tr style=\"text-align: right;\">\n",
       "      <th></th>\n",
       "      <th>tconst</th>\n",
       "      <th>titleType</th>\n",
       "      <th>primaryTitle</th>\n",
       "      <th>originalTitle</th>\n",
       "      <th>isAdult</th>\n",
       "      <th>startYear</th>\n",
       "      <th>endYear</th>\n",
       "      <th>runtimeMinutes</th>\n",
       "      <th>genres</th>\n",
       "    </tr>\n",
       "  </thead>\n",
       "  <tbody>\n",
       "    <tr>\n",
       "      <th>348656</th>\n",
       "      <td>tt0363914</td>\n",
       "      <td>movie</td>\n",
       "      <td>Pyaar Karke Dekho</td>\n",
       "      <td>Pyaar Karke Dekho</td>\n",
       "      <td>0</td>\n",
       "      <td>1987</td>\n",
       "      <td>\\N</td>\n",
       "      <td>144</td>\n",
       "      <td>Comedy,Drama,Family</td>\n",
       "    </tr>\n",
       "    <tr>\n",
       "      <th>67381</th>\n",
       "      <td>tt0068760</td>\n",
       "      <td>movie</td>\n",
       "      <td>Jelbeszéd</td>\n",
       "      <td>Jelbeszéd</td>\n",
       "      <td>0</td>\n",
       "      <td>1974</td>\n",
       "      <td>\\N</td>\n",
       "      <td>91</td>\n",
       "      <td>Drama</td>\n",
       "    </tr>\n",
       "    <tr>\n",
       "      <th>431792</th>\n",
       "      <td>tt0449823</td>\n",
       "      <td>movie</td>\n",
       "      <td>Autobus Nr. 2</td>\n",
       "      <td>Autobus Nr. 2</td>\n",
       "      <td>0</td>\n",
       "      <td>1929</td>\n",
       "      <td>\\N</td>\n",
       "      <td>\\N</td>\n",
       "      <td>\\N</td>\n",
       "    </tr>\n",
       "    <tr>\n",
       "      <th>7759063</th>\n",
       "      <td>tt4325644</td>\n",
       "      <td>movie</td>\n",
       "      <td>Union</td>\n",
       "      <td>Union</td>\n",
       "      <td>0</td>\n",
       "      <td>2018</td>\n",
       "      <td>\\N</td>\n",
       "      <td>135</td>\n",
       "      <td>Drama,History,War</td>\n",
       "    </tr>\n",
       "    <tr>\n",
       "      <th>2811101</th>\n",
       "      <td>tt13368232</td>\n",
       "      <td>movie</td>\n",
       "      <td>Holywood</td>\n",
       "      <td>Holywood</td>\n",
       "      <td>0</td>\n",
       "      <td>\\N</td>\n",
       "      <td>\\N</td>\n",
       "      <td>72</td>\n",
       "      <td>Documentary</td>\n",
       "    </tr>\n",
       "  </tbody>\n",
       "</table>\n",
       "</div>"
      ],
      "text/plain": [
       "             tconst titleType       primaryTitle      originalTitle isAdult  \\\n",
       "348656    tt0363914     movie  Pyaar Karke Dekho  Pyaar Karke Dekho       0   \n",
       "67381     tt0068760     movie          Jelbeszéd          Jelbeszéd       0   \n",
       "431792    tt0449823     movie      Autobus Nr. 2      Autobus Nr. 2       0   \n",
       "7759063   tt4325644     movie              Union              Union       0   \n",
       "2811101  tt13368232     movie           Holywood           Holywood       0   \n",
       "\n",
       "        startYear endYear runtimeMinutes               genres  \n",
       "348656       1987      \\N            144  Comedy,Drama,Family  \n",
       "67381        1974      \\N             91                Drama  \n",
       "431792       1929      \\N             \\N                   \\N  \n",
       "7759063      2018      \\N            135    Drama,History,War  \n",
       "2811101        \\N      \\N             72          Documentary  "
      ]
     },
     "execution_count": 24,
     "metadata": {},
     "output_type": "execute_result"
    }
   ],
   "source": [
    "imdb_title_df.sample(5)"
   ]
  },
  {
   "cell_type": "code",
   "execution_count": 25,
   "metadata": {},
   "outputs": [],
   "source": [
    "# Remove adult content\n",
    "imdb_title_df = imdb_title_df[imdb_title_df[\"isAdult\"].astype(int) == 0]"
   ]
  },
  {
   "cell_type": "code",
   "execution_count": 26,
   "metadata": {},
   "outputs": [
    {
     "name": "stdout",
     "output_type": "stream",
     "text": [
      "We have 651888 movie titles\n"
     ]
    }
   ],
   "source": [
    "total_title = len(imdb_title_df)\n",
    "print(f\"We have {total_title} movie titles\")"
   ]
  },
  {
   "cell_type": "markdown",
   "metadata": {},
   "source": [
    "### Principals"
   ]
  },
  {
   "cell_type": "code",
   "execution_count": 27,
   "metadata": {},
   "outputs": [
    {
     "data": {
      "text/html": [
       "<div>\n",
       "<style scoped>\n",
       "    .dataframe tbody tr th:only-of-type {\n",
       "        vertical-align: middle;\n",
       "    }\n",
       "\n",
       "    .dataframe tbody tr th {\n",
       "        vertical-align: top;\n",
       "    }\n",
       "\n",
       "    .dataframe thead th {\n",
       "        text-align: right;\n",
       "    }\n",
       "</style>\n",
       "<table border=\"1\" class=\"dataframe\">\n",
       "  <thead>\n",
       "    <tr style=\"text-align: right;\">\n",
       "      <th></th>\n",
       "      <th>tconst</th>\n",
       "      <th>ordering</th>\n",
       "      <th>nconst</th>\n",
       "      <th>category</th>\n",
       "      <th>job</th>\n",
       "      <th>characters</th>\n",
       "    </tr>\n",
       "  </thead>\n",
       "  <tbody>\n",
       "    <tr>\n",
       "      <th>31761997</th>\n",
       "      <td>tt21249490</td>\n",
       "      <td>3</td>\n",
       "      <td>nm13835302</td>\n",
       "      <td>actress</td>\n",
       "      <td>\\N</td>\n",
       "      <td>[\"Fuyumi Shiratori\"]</td>\n",
       "    </tr>\n",
       "    <tr>\n",
       "      <th>49135388</th>\n",
       "      <td>tt6333554</td>\n",
       "      <td>1</td>\n",
       "      <td>nm1736971</td>\n",
       "      <td>self</td>\n",
       "      <td>\\N</td>\n",
       "      <td>[\"Self\"]</td>\n",
       "    </tr>\n",
       "    <tr>\n",
       "      <th>5034391</th>\n",
       "      <td>tt0678919</td>\n",
       "      <td>4</td>\n",
       "      <td>nm0090301</td>\n",
       "      <td>actress</td>\n",
       "      <td>\\N</td>\n",
       "      <td>[\"Judy Bryant\"]</td>\n",
       "    </tr>\n",
       "    <tr>\n",
       "      <th>7434971</th>\n",
       "      <td>tt1000560</td>\n",
       "      <td>6</td>\n",
       "      <td>nm0240471</td>\n",
       "      <td>writer</td>\n",
       "      <td>creator</td>\n",
       "      <td>\\N</td>\n",
       "    </tr>\n",
       "    <tr>\n",
       "      <th>34950290</th>\n",
       "      <td>tt2385336</td>\n",
       "      <td>3</td>\n",
       "      <td>nm0569156</td>\n",
       "      <td>actress</td>\n",
       "      <td>\\N</td>\n",
       "      <td>[\"Lizzie Lakely\"]</td>\n",
       "    </tr>\n",
       "  </tbody>\n",
       "</table>\n",
       "</div>"
      ],
      "text/plain": [
       "              tconst  ordering      nconst category      job  \\\n",
       "31761997  tt21249490         3  nm13835302  actress       \\N   \n",
       "49135388   tt6333554         1   nm1736971     self       \\N   \n",
       "5034391    tt0678919         4   nm0090301  actress       \\N   \n",
       "7434971    tt1000560         6   nm0240471   writer  creator   \n",
       "34950290   tt2385336         3   nm0569156  actress       \\N   \n",
       "\n",
       "                    characters  \n",
       "31761997  [\"Fuyumi Shiratori\"]  \n",
       "49135388              [\"Self\"]  \n",
       "5034391        [\"Judy Bryant\"]  \n",
       "7434971                     \\N  \n",
       "34950290     [\"Lizzie Lakely\"]  "
      ]
     },
     "execution_count": 27,
     "metadata": {},
     "output_type": "execute_result"
    }
   ],
   "source": [
    "imdb_principals_df.sample(5)"
   ]
  },
  {
   "cell_type": "code",
   "execution_count": 28,
   "metadata": {},
   "outputs": [
    {
     "name": "stdout",
     "output_type": "stream",
     "text": [
      "We have 58900432 principals records\n",
      "We have 12 categories\n",
      "We have 5169350 unique persons\n"
     ]
    }
   ],
   "source": [
    "total_principals = len(imdb_principals_df)\n",
    "print(f\"We have {total_principals} principals records\")\n",
    "print(f\"We have {len(imdb_principals_df['category'].unique())} categories\")\n",
    "print(f\"We have {len(imdb_principals_df['nconst'].unique())} unique persons\")\n"
   ]
  },
  {
   "cell_type": "code",
   "execution_count": 29,
   "metadata": {},
   "outputs": [
    {
     "name": "stdout",
     "output_type": "stream",
     "text": [
      "We have 51.88% of missing characters\n"
     ]
    }
   ],
   "source": [
    "missing_characters = len(imdb_principals_df[imdb_principals_df['characters'] == \"\\\\N\"])\n",
    "print(f\"We have {missing_characters/total_principals*100:.2f}% of missing characters\")"
   ]
  },
  {
   "cell_type": "markdown",
   "metadata": {},
   "source": [
    "### People"
   ]
  },
  {
   "cell_type": "code",
   "execution_count": 30,
   "metadata": {},
   "outputs": [
    {
     "data": {
      "text/html": [
       "<div>\n",
       "<style scoped>\n",
       "    .dataframe tbody tr th:only-of-type {\n",
       "        vertical-align: middle;\n",
       "    }\n",
       "\n",
       "    .dataframe tbody tr th {\n",
       "        vertical-align: top;\n",
       "    }\n",
       "\n",
       "    .dataframe thead th {\n",
       "        text-align: right;\n",
       "    }\n",
       "</style>\n",
       "<table border=\"1\" class=\"dataframe\">\n",
       "  <thead>\n",
       "    <tr style=\"text-align: right;\">\n",
       "      <th></th>\n",
       "      <th>nconst</th>\n",
       "      <th>primaryName</th>\n",
       "      <th>birthYear</th>\n",
       "      <th>deathYear</th>\n",
       "      <th>primaryProfession</th>\n",
       "      <th>knownForTitles</th>\n",
       "    </tr>\n",
       "  </thead>\n",
       "  <tbody>\n",
       "    <tr>\n",
       "      <th>3817917</th>\n",
       "      <td>nm13057888</td>\n",
       "      <td>Mike Fan Yun-Fei</td>\n",
       "      <td>\\N</td>\n",
       "      <td>\\N</td>\n",
       "      <td>actor</td>\n",
       "      <td>tt15751210</td>\n",
       "    </tr>\n",
       "    <tr>\n",
       "      <th>4493437</th>\n",
       "      <td>nm13783240</td>\n",
       "      <td>Anshul Deshmukh</td>\n",
       "      <td>\\N</td>\n",
       "      <td>\\N</td>\n",
       "      <td>actor</td>\n",
       "      <td>tt21104324</td>\n",
       "    </tr>\n",
       "    <tr>\n",
       "      <th>9633355</th>\n",
       "      <td>nm5724056</td>\n",
       "      <td>Gordon Phillips</td>\n",
       "      <td>\\N</td>\n",
       "      <td>\\N</td>\n",
       "      <td>actor</td>\n",
       "      <td>tt2971372</td>\n",
       "    </tr>\n",
       "    <tr>\n",
       "      <th>8449826</th>\n",
       "      <td>nm4378786</td>\n",
       "      <td>Lauren Annis</td>\n",
       "      <td>\\N</td>\n",
       "      <td>\\N</td>\n",
       "      <td>actress</td>\n",
       "      <td>tt1841560</td>\n",
       "    </tr>\n",
       "    <tr>\n",
       "      <th>6827370</th>\n",
       "      <td>nm2535439</td>\n",
       "      <td>Shelby P. Lasalle Jr.</td>\n",
       "      <td>\\N</td>\n",
       "      <td>\\N</td>\n",
       "      <td>NaN</td>\n",
       "      <td>tt0199248</td>\n",
       "    </tr>\n",
       "  </tbody>\n",
       "</table>\n",
       "</div>"
      ],
      "text/plain": [
       "             nconst            primaryName birthYear deathYear  \\\n",
       "3817917  nm13057888       Mike Fan Yun-Fei        \\N        \\N   \n",
       "4493437  nm13783240        Anshul Deshmukh        \\N        \\N   \n",
       "9633355   nm5724056        Gordon Phillips        \\N        \\N   \n",
       "8449826   nm4378786           Lauren Annis        \\N        \\N   \n",
       "6827370   nm2535439  Shelby P. Lasalle Jr.        \\N        \\N   \n",
       "\n",
       "        primaryProfession knownForTitles  \n",
       "3817917             actor     tt15751210  \n",
       "4493437             actor     tt21104324  \n",
       "9633355             actor      tt2971372  \n",
       "8449826           actress      tt1841560  \n",
       "6827370               NaN      tt0199248  "
      ]
     },
     "execution_count": 30,
     "metadata": {},
     "output_type": "execute_result"
    }
   ],
   "source": [
    "imdb_people_df.sample(5)"
   ]
  },
  {
   "cell_type": "code",
   "execution_count": 31,
   "metadata": {},
   "outputs": [
    {
     "name": "stdout",
     "output_type": "stream",
     "text": [
      "We have 12978070 people records\n",
      "We have 12978070 unique persons\n",
      "We have 2343815 unique actors\n"
     ]
    }
   ],
   "source": [
    "total_people = len(imdb_people_df)\n",
    "print(f\"We have {total_people} people records\")\n",
    "print(f\"We have {len(imdb_people_df['nconst'].unique())} unique persons\")\n",
    "print(f\"We have {len(imdb_people_df[imdb_people_df['primaryProfession'] == 'actor'])} unique actors\")"
   ]
  },
  {
   "cell_type": "markdown",
   "metadata": {},
   "source": [
    "### Movie titles with ratings"
   ]
  },
  {
   "cell_type": "code",
   "execution_count": 32,
   "metadata": {
    "tags": []
   },
   "outputs": [
    {
     "data": {
      "text/html": [
       "<div>\n",
       "<style scoped>\n",
       "    .dataframe tbody tr th:only-of-type {\n",
       "        vertical-align: middle;\n",
       "    }\n",
       "\n",
       "    .dataframe tbody tr th {\n",
       "        vertical-align: top;\n",
       "    }\n",
       "\n",
       "    .dataframe thead th {\n",
       "        text-align: right;\n",
       "    }\n",
       "</style>\n",
       "<table border=\"1\" class=\"dataframe\">\n",
       "  <thead>\n",
       "    <tr style=\"text-align: right;\">\n",
       "      <th></th>\n",
       "      <th>tconst</th>\n",
       "      <th>titleType</th>\n",
       "      <th>primaryTitle</th>\n",
       "      <th>originalTitle</th>\n",
       "      <th>isAdult</th>\n",
       "      <th>startYear</th>\n",
       "      <th>endYear</th>\n",
       "      <th>runtimeMinutes</th>\n",
       "      <th>genres</th>\n",
       "      <th>averageRating</th>\n",
       "      <th>numVotes</th>\n",
       "    </tr>\n",
       "  </thead>\n",
       "  <tbody>\n",
       "    <tr>\n",
       "      <th>281876</th>\n",
       "      <td>tt7812334</td>\n",
       "      <td>movie</td>\n",
       "      <td>Suicide the Ripple Effect</td>\n",
       "      <td>Suicide the Ripple Effect</td>\n",
       "      <td>0</td>\n",
       "      <td>2018</td>\n",
       "      <td>\\N</td>\n",
       "      <td>93</td>\n",
       "      <td>Documentary</td>\n",
       "      <td>8.8</td>\n",
       "      <td>50</td>\n",
       "    </tr>\n",
       "    <tr>\n",
       "      <th>13614</th>\n",
       "      <td>tt0035916</td>\n",
       "      <td>movie</td>\n",
       "      <td>The Gang's All Here</td>\n",
       "      <td>The Gang's All Here</td>\n",
       "      <td>0</td>\n",
       "      <td>1943</td>\n",
       "      <td>\\N</td>\n",
       "      <td>103</td>\n",
       "      <td>Musical,Romance</td>\n",
       "      <td>6.6</td>\n",
       "      <td>2020</td>\n",
       "    </tr>\n",
       "    <tr>\n",
       "      <th>36258</th>\n",
       "      <td>tt0068524</td>\n",
       "      <td>movie</td>\n",
       "      <td>Man of the East</td>\n",
       "      <td>E poi lo chiamarono il magnifico</td>\n",
       "      <td>0</td>\n",
       "      <td>1972</td>\n",
       "      <td>\\N</td>\n",
       "      <td>125</td>\n",
       "      <td>Action,Comedy,Western</td>\n",
       "      <td>6.5</td>\n",
       "      <td>3116</td>\n",
       "    </tr>\n",
       "    <tr>\n",
       "      <th>145430</th>\n",
       "      <td>tt1031546</td>\n",
       "      <td>movie</td>\n",
       "      <td>Arini</td>\n",
       "      <td>Arini</td>\n",
       "      <td>0</td>\n",
       "      <td>1987</td>\n",
       "      <td>\\N</td>\n",
       "      <td>103</td>\n",
       "      <td>Drama</td>\n",
       "      <td>8.7</td>\n",
       "      <td>20</td>\n",
       "    </tr>\n",
       "    <tr>\n",
       "      <th>22524</th>\n",
       "      <td>tt0048819</td>\n",
       "      <td>movie</td>\n",
       "      <td>Yo maté</td>\n",
       "      <td>Yo maté</td>\n",
       "      <td>0</td>\n",
       "      <td>1957</td>\n",
       "      <td>\\N</td>\n",
       "      <td>72</td>\n",
       "      <td>Crime,Drama</td>\n",
       "      <td>5.0</td>\n",
       "      <td>7</td>\n",
       "    </tr>\n",
       "  </tbody>\n",
       "</table>\n",
       "</div>"
      ],
      "text/plain": [
       "           tconst titleType               primaryTitle  \\\n",
       "281876  tt7812334     movie  Suicide the Ripple Effect   \n",
       "13614   tt0035916     movie        The Gang's All Here   \n",
       "36258   tt0068524     movie            Man of the East   \n",
       "145430  tt1031546     movie                      Arini   \n",
       "22524   tt0048819     movie                    Yo maté   \n",
       "\n",
       "                           originalTitle isAdult startYear endYear  \\\n",
       "281876         Suicide the Ripple Effect       0      2018      \\N   \n",
       "13614                The Gang's All Here       0      1943      \\N   \n",
       "36258   E poi lo chiamarono il magnifico       0      1972      \\N   \n",
       "145430                             Arini       0      1987      \\N   \n",
       "22524                            Yo maté       0      1957      \\N   \n",
       "\n",
       "       runtimeMinutes                 genres  averageRating  numVotes  \n",
       "281876             93            Documentary            8.8        50  \n",
       "13614             103        Musical,Romance            6.6      2020  \n",
       "36258             125  Action,Comedy,Western            6.5      3116  \n",
       "145430            103                  Drama            8.7        20  \n",
       "22524              72            Crime,Drama            5.0         7  "
      ]
     },
     "execution_count": 32,
     "metadata": {},
     "output_type": "execute_result"
    }
   ],
   "source": [
    "imdb_title_with_rating = imdb_title_df.merge(imdb_ratings_df, on='tconst', how='inner')\n",
    "imdb_title_with_rating.sample(5)"
   ]
  },
  {
   "cell_type": "code",
   "execution_count": 33,
   "metadata": {},
   "outputs": [
    {
     "name": "stdout",
     "output_type": "stream",
     "text": [
      "We have 294744 movies with ratings\n"
     ]
    }
   ],
   "source": [
    "total_movies_w_rating = len(imdb_title_with_rating)\n",
    "print(f\"We have {total_movies_w_rating} movies with ratings\")"
   ]
  },
  {
   "cell_type": "markdown",
   "metadata": {},
   "source": [
    "## Merge CMU movies and plot summaries with IMDB titles and ratings\n",
    "\n",
    "The translation dataframe from wikidata, which includes both the IMDB id and the Freebase id, enables us to combine the IMDB dataset with the CMU dataset"
   ]
  },
  {
   "cell_type": "code",
   "execution_count": 34,
   "metadata": {},
   "outputs": [],
   "source": [
    "translation_id = load_translation_df()"
   ]
  },
  {
   "cell_type": "code",
   "execution_count": 35,
   "metadata": {},
   "outputs": [],
   "source": [
    "imdb_title_with_rating_translated = imdb_title_with_rating.merge(translation_id, how='inner', left_on='tconst', right_on='imdb_id').copy()\n",
    "imdb_title_with_rating_translated = imdb_title_with_rating_translated.drop([\"imdb_id\"], axis=1)"
   ]
  },
  {
   "cell_type": "code",
   "execution_count": 36,
   "metadata": {},
   "outputs": [],
   "source": [
    "cmu_movies_w_imdb_rating = imdb_title_with_rating_translated.merge(movies_df, how='inner', left_on='freebase_id', right_on='freebase_movie_id').copy()"
   ]
  },
  {
   "cell_type": "code",
   "execution_count": 37,
   "metadata": {},
   "outputs": [],
   "source": [
    "# IMDB start year has no missing data, so we insert it into \"NaN\" fields of \"movie_release_date\" and drop \"startYear\"\n",
    "missing_years = cmu_movies_w_imdb_rating[cmu_movies_w_imdb_rating['movie_release_date'].isna()].index\n",
    "cmu_movies_w_imdb_rating.loc[missing_years, 'movie_release_date'] = cmu_movies_w_imdb_rating.loc[missing_years, 'startYear']"
   ]
  },
  {
   "cell_type": "code",
   "execution_count": 38,
   "metadata": {},
   "outputs": [],
   "source": [
    "# We have MANY depulicated attributes\n",
    "# We evaluated for each pair which column had more missing data and dropped it in favor of the other\n",
    "cmu_movies_w_imdb_rating = cmu_movies_w_imdb_rating.drop([\"freebase_movie_id\", \"titleType\", \"isAdult\", \"endYear\", \"primaryTitle\", \"originalTitle\", \"movie_release_year\", \"movie_runtime\", \"startYear\"], axis=1)"
   ]
  },
  {
   "cell_type": "code",
   "execution_count": 39,
   "metadata": {},
   "outputs": [
    {
     "name": "stdout",
     "output_type": "stream",
     "text": [
      "The merged dataframe contains 44467 movies with corresponding ratings\n"
     ]
    }
   ],
   "source": [
    "cmu_movies_w_imdb_rating = cmu_movies_w_imdb_rating.drop_duplicates(\"tconst\")\n",
    "print(f\"The merged dataframe contains {len(cmu_movies_w_imdb_rating)} movies with corresponding ratings\")"
   ]
  },
  {
   "cell_type": "code",
   "execution_count": 40,
   "metadata": {},
   "outputs": [],
   "source": [
    "# Add summaries\n",
    "cmu_movies_w_imdb_rating = cmu_movies_w_imdb_rating.merge(plot_df, on=\"wiki_movie_id\", how=\"left\")"
   ]
  },
  {
   "cell_type": "code",
   "execution_count": 41,
   "metadata": {},
   "outputs": [
    {
     "data": {
      "text/html": [
       "<div>\n",
       "<style scoped>\n",
       "    .dataframe tbody tr th:only-of-type {\n",
       "        vertical-align: middle;\n",
       "    }\n",
       "\n",
       "    .dataframe tbody tr th {\n",
       "        vertical-align: top;\n",
       "    }\n",
       "\n",
       "    .dataframe thead th {\n",
       "        text-align: right;\n",
       "    }\n",
       "</style>\n",
       "<table border=\"1\" class=\"dataframe\">\n",
       "  <thead>\n",
       "    <tr style=\"text-align: right;\">\n",
       "      <th></th>\n",
       "      <th>tconst</th>\n",
       "      <th>runtimeMinutes</th>\n",
       "      <th>genres</th>\n",
       "      <th>averageRating</th>\n",
       "      <th>numVotes</th>\n",
       "      <th>freebase_id</th>\n",
       "      <th>wiki_movie_id</th>\n",
       "      <th>movie_name</th>\n",
       "      <th>movie_release_date</th>\n",
       "      <th>box_office</th>\n",
       "      <th>movie_languages</th>\n",
       "      <th>movie_countries</th>\n",
       "      <th>movie_genres</th>\n",
       "      <th>plot_summary</th>\n",
       "    </tr>\n",
       "  </thead>\n",
       "  <tbody>\n",
       "    <tr>\n",
       "      <th>18033</th>\n",
       "      <td>tt0078021</td>\n",
       "      <td>110</td>\n",
       "      <td>Drama</td>\n",
       "      <td>6.4</td>\n",
       "      <td>298</td>\n",
       "      <td>/m/06414kf</td>\n",
       "      <td>22876558</td>\n",
       "      <td>Blindfolded Eyes</td>\n",
       "      <td>1978-05-18</td>\n",
       "      <td>NaN</td>\n",
       "      <td>{'/m/06nm1': 'Spanish Language'}</td>\n",
       "      <td>{'/m/0f8l9c': 'France', '/m/06mkj': 'Spain'}</td>\n",
       "      <td>{'/m/07s9rl0': 'Drama'}</td>\n",
       "      <td>Luis  is a drama teacher producing a play abou...</td>\n",
       "    </tr>\n",
       "    <tr>\n",
       "      <th>43434</th>\n",
       "      <td>tt1817273</td>\n",
       "      <td>140</td>\n",
       "      <td>Crime,Drama,Thriller</td>\n",
       "      <td>7.3</td>\n",
       "      <td>284195</td>\n",
       "      <td>/m/0gx999d</td>\n",
       "      <td>33572843</td>\n",
       "      <td>The Place Beyond the Pines</td>\n",
       "      <td>2012</td>\n",
       "      <td>NaN</td>\n",
       "      <td>{}</td>\n",
       "      <td>{'/m/09c7w0': 'United States of America'}</td>\n",
       "      <td>{'/m/0lsxr': 'Crime Fiction', '/m/07s9rl0': 'D...</td>\n",
       "      <td>NaN</td>\n",
       "    </tr>\n",
       "    <tr>\n",
       "      <th>6707</th>\n",
       "      <td>tt0039009</td>\n",
       "      <td>74</td>\n",
       "      <td>Adventure,Drama</td>\n",
       "      <td>6.2</td>\n",
       "      <td>199</td>\n",
       "      <td>/m/0crd8db</td>\n",
       "      <td>28350359</td>\n",
       "      <td>Tangier</td>\n",
       "      <td>1946-06-06</td>\n",
       "      <td>NaN</td>\n",
       "      <td>{'/m/02h40lc': 'English Language'}</td>\n",
       "      <td>{'/m/09c7w0': 'United States of America'}</td>\n",
       "      <td>{'/m/01jfsb': 'Thriller', '/m/07s9rl0': 'Drama...</td>\n",
       "      <td>NaN</td>\n",
       "    </tr>\n",
       "    <tr>\n",
       "      <th>38152</th>\n",
       "      <td>tt0840406</td>\n",
       "      <td>93</td>\n",
       "      <td>Drama</td>\n",
       "      <td>6.2</td>\n",
       "      <td>297</td>\n",
       "      <td>/m/066196p</td>\n",
       "      <td>23248774</td>\n",
       "      <td>War Eagle, Arkansas</td>\n",
       "      <td>2007</td>\n",
       "      <td>NaN</td>\n",
       "      <td>{'/m/02h40lc': 'English Language'}</td>\n",
       "      <td>{'/m/09c7w0': 'United States of America'}</td>\n",
       "      <td>{'/m/01z02hx': 'Sports', '/m/0hj3n84': 'Inspir...</td>\n",
       "      <td>NaN</td>\n",
       "    </tr>\n",
       "    <tr>\n",
       "      <th>30639</th>\n",
       "      <td>tt0239234</td>\n",
       "      <td>129</td>\n",
       "      <td>Drama,History,Romance</td>\n",
       "      <td>6.8</td>\n",
       "      <td>2848</td>\n",
       "      <td>/m/0dfsb5</td>\n",
       "      <td>5326842</td>\n",
       "      <td>The Lady And The Duke</td>\n",
       "      <td>2001-09-07</td>\n",
       "      <td>NaN</td>\n",
       "      <td>{'/m/064_8sq': 'French Language'}</td>\n",
       "      <td>{'/m/0f8l9c': 'France'}</td>\n",
       "      <td>{'/m/03q4nz': 'World cinema', '/m/03g3w': 'His...</td>\n",
       "      <td>NaN</td>\n",
       "    </tr>\n",
       "  </tbody>\n",
       "</table>\n",
       "</div>"
      ],
      "text/plain": [
       "          tconst runtimeMinutes                 genres  averageRating  \\\n",
       "18033  tt0078021            110                  Drama            6.4   \n",
       "43434  tt1817273            140   Crime,Drama,Thriller            7.3   \n",
       "6707   tt0039009             74        Adventure,Drama            6.2   \n",
       "38152  tt0840406             93                  Drama            6.2   \n",
       "30639  tt0239234            129  Drama,History,Romance            6.8   \n",
       "\n",
       "       numVotes freebase_id  wiki_movie_id                  movie_name  \\\n",
       "18033       298  /m/06414kf       22876558            Blindfolded Eyes   \n",
       "43434    284195  /m/0gx999d       33572843  The Place Beyond the Pines   \n",
       "6707        199  /m/0crd8db       28350359                     Tangier   \n",
       "38152       297  /m/066196p       23248774         War Eagle, Arkansas   \n",
       "30639      2848   /m/0dfsb5        5326842       The Lady And The Duke   \n",
       "\n",
       "      movie_release_date  box_office                     movie_languages  \\\n",
       "18033         1978-05-18         NaN    {'/m/06nm1': 'Spanish Language'}   \n",
       "43434               2012         NaN                                  {}   \n",
       "6707          1946-06-06         NaN  {'/m/02h40lc': 'English Language'}   \n",
       "38152               2007         NaN  {'/m/02h40lc': 'English Language'}   \n",
       "30639         2001-09-07         NaN   {'/m/064_8sq': 'French Language'}   \n",
       "\n",
       "                                    movie_countries  \\\n",
       "18033  {'/m/0f8l9c': 'France', '/m/06mkj': 'Spain'}   \n",
       "43434     {'/m/09c7w0': 'United States of America'}   \n",
       "6707      {'/m/09c7w0': 'United States of America'}   \n",
       "38152     {'/m/09c7w0': 'United States of America'}   \n",
       "30639                       {'/m/0f8l9c': 'France'}   \n",
       "\n",
       "                                            movie_genres  \\\n",
       "18033                            {'/m/07s9rl0': 'Drama'}   \n",
       "43434  {'/m/0lsxr': 'Crime Fiction', '/m/07s9rl0': 'D...   \n",
       "6707   {'/m/01jfsb': 'Thriller', '/m/07s9rl0': 'Drama...   \n",
       "38152  {'/m/01z02hx': 'Sports', '/m/0hj3n84': 'Inspir...   \n",
       "30639  {'/m/03q4nz': 'World cinema', '/m/03g3w': 'His...   \n",
       "\n",
       "                                            plot_summary  \n",
       "18033  Luis  is a drama teacher producing a play abou...  \n",
       "43434                                                NaN  \n",
       "6707                                                 NaN  \n",
       "38152                                                NaN  \n",
       "30639                                                NaN  "
      ]
     },
     "execution_count": 41,
     "metadata": {},
     "output_type": "execute_result"
    }
   ],
   "source": [
    "cmu_movies_w_imdb_rating.sample(5)"
   ]
  },
  {
   "cell_type": "markdown",
   "metadata": {},
   "source": [
    "## Merge IMDB people and principals"
   ]
  },
  {
   "cell_type": "code",
   "execution_count": 42,
   "metadata": {},
   "outputs": [],
   "source": [
    "titles_of_interest = cmu_movies_w_imdb_rating[\"tconst\"].to_list()"
   ]
  },
  {
   "cell_type": "code",
   "execution_count": 43,
   "metadata": {},
   "outputs": [],
   "source": [
    "imdb_actors = imdb_people_df[(imdb_people_df[\"primaryProfession\"].str.contains(\"actor\")) | (imdb_people_df[\"primaryProfession\"].str.contains(\"actoress\"))].copy()"
   ]
  },
  {
   "cell_type": "code",
   "execution_count": 44,
   "metadata": {},
   "outputs": [],
   "source": [
    "imdb_principals_actors = imdb_principals_df[(imdb_principals_df[\"category\"] == \"actress\") | (imdb_principals_df[\"category\"] == \"actor\")].copy()"
   ]
  },
  {
   "cell_type": "code",
   "execution_count": 45,
   "metadata": {},
   "outputs": [],
   "source": [
    "imdb_actors_and_characters = imdb_actors.merge(imdb_principals_actors, on=\"nconst\", how=\"inner\").copy()"
   ]
  },
  {
   "cell_type": "code",
   "execution_count": 46,
   "metadata": {},
   "outputs": [],
   "source": [
    "imdb_actors_and_characters = imdb_actors_and_characters[imdb_actors_and_characters[\"tconst\"].isin(titles_of_interest)]"
   ]
  },
  {
   "cell_type": "code",
   "execution_count": 47,
   "metadata": {},
   "outputs": [],
   "source": [
    "imdb_actors_and_characters = imdb_actors_and_characters.drop([\"ordering\", \"category\", \"job\", \"primaryProfession\"], axis=1)"
   ]
  },
  {
   "cell_type": "code",
   "execution_count": 48,
   "metadata": {},
   "outputs": [
    {
     "data": {
      "text/html": [
       "<div>\n",
       "<style scoped>\n",
       "    .dataframe tbody tr th:only-of-type {\n",
       "        vertical-align: middle;\n",
       "    }\n",
       "\n",
       "    .dataframe tbody tr th {\n",
       "        vertical-align: top;\n",
       "    }\n",
       "\n",
       "    .dataframe thead th {\n",
       "        text-align: right;\n",
       "    }\n",
       "</style>\n",
       "<table border=\"1\" class=\"dataframe\">\n",
       "  <thead>\n",
       "    <tr style=\"text-align: right;\">\n",
       "      <th></th>\n",
       "      <th>nconst</th>\n",
       "      <th>primaryName</th>\n",
       "      <th>birthYear</th>\n",
       "      <th>deathYear</th>\n",
       "      <th>knownForTitles</th>\n",
       "      <th>tconst</th>\n",
       "      <th>characters</th>\n",
       "    </tr>\n",
       "  </thead>\n",
       "  <tbody>\n",
       "    <tr>\n",
       "      <th>0</th>\n",
       "      <td>nm0000001</td>\n",
       "      <td>Fred Astaire</td>\n",
       "      <td>1899</td>\n",
       "      <td>1987</td>\n",
       "      <td>tt0053137,tt0031983,tt0050419,tt0072308</td>\n",
       "      <td>tt0025164</td>\n",
       "      <td>[\"Guy Holden\"]</td>\n",
       "    </tr>\n",
       "    <tr>\n",
       "      <th>1</th>\n",
       "      <td>nm0000001</td>\n",
       "      <td>Fred Astaire</td>\n",
       "      <td>1899</td>\n",
       "      <td>1987</td>\n",
       "      <td>tt0053137,tt0031983,tt0050419,tt0072308</td>\n",
       "      <td>tt0026942</td>\n",
       "      <td>[\"Huck Haines\"]</td>\n",
       "    </tr>\n",
       "    <tr>\n",
       "      <th>2</th>\n",
       "      <td>nm0000001</td>\n",
       "      <td>Fred Astaire</td>\n",
       "      <td>1899</td>\n",
       "      <td>1987</td>\n",
       "      <td>tt0053137,tt0031983,tt0050419,tt0072308</td>\n",
       "      <td>tt0027125</td>\n",
       "      <td>[\"Jerry Travers\"]</td>\n",
       "    </tr>\n",
       "    <tr>\n",
       "      <th>3</th>\n",
       "      <td>nm0000001</td>\n",
       "      <td>Fred Astaire</td>\n",
       "      <td>1899</td>\n",
       "      <td>1987</td>\n",
       "      <td>tt0053137,tt0031983,tt0050419,tt0072308</td>\n",
       "      <td>tt0027630</td>\n",
       "      <td>[\"Bake Baker\"]</td>\n",
       "    </tr>\n",
       "    <tr>\n",
       "      <th>4</th>\n",
       "      <td>nm0000001</td>\n",
       "      <td>Fred Astaire</td>\n",
       "      <td>1899</td>\n",
       "      <td>1987</td>\n",
       "      <td>tt0053137,tt0031983,tt0050419,tt0072308</td>\n",
       "      <td>tt0028333</td>\n",
       "      <td>[\"Lucky Garnett\"]</td>\n",
       "    </tr>\n",
       "  </tbody>\n",
       "</table>\n",
       "</div>"
      ],
      "text/plain": [
       "      nconst   primaryName birthYear deathYear  \\\n",
       "0  nm0000001  Fred Astaire      1899      1987   \n",
       "1  nm0000001  Fred Astaire      1899      1987   \n",
       "2  nm0000001  Fred Astaire      1899      1987   \n",
       "3  nm0000001  Fred Astaire      1899      1987   \n",
       "4  nm0000001  Fred Astaire      1899      1987   \n",
       "\n",
       "                            knownForTitles     tconst         characters  \n",
       "0  tt0053137,tt0031983,tt0050419,tt0072308  tt0025164     [\"Guy Holden\"]  \n",
       "1  tt0053137,tt0031983,tt0050419,tt0072308  tt0026942    [\"Huck Haines\"]  \n",
       "2  tt0053137,tt0031983,tt0050419,tt0072308  tt0027125  [\"Jerry Travers\"]  \n",
       "3  tt0053137,tt0031983,tt0050419,tt0072308  tt0027630     [\"Bake Baker\"]  \n",
       "4  tt0053137,tt0031983,tt0050419,tt0072308  tt0028333  [\"Lucky Garnett\"]  "
      ]
     },
     "execution_count": 48,
     "metadata": {},
     "output_type": "execute_result"
    }
   ],
   "source": [
    "imdb_actors_and_characters.head(5)"
   ]
  },
  {
   "cell_type": "markdown",
   "metadata": {},
   "source": [
    "## Filter CMU characters"
   ]
  },
  {
   "cell_type": "code",
   "execution_count": 49,
   "metadata": {},
   "outputs": [],
   "source": [
    "titles_of_interest_wiki = cmu_movies_w_imdb_rating[\"wiki_movie_id\"].to_list()"
   ]
  },
  {
   "cell_type": "code",
   "execution_count": 50,
   "metadata": {},
   "outputs": [],
   "source": [
    "characters_interest = characters_df[characters_df[\"wiki_movie_id\"].isin(titles_of_interest_wiki)]"
   ]
  },
  {
   "cell_type": "code",
   "execution_count": 51,
   "metadata": {},
   "outputs": [
    {
     "data": {
      "text/html": [
       "<div>\n",
       "<style scoped>\n",
       "    .dataframe tbody tr th:only-of-type {\n",
       "        vertical-align: middle;\n",
       "    }\n",
       "\n",
       "    .dataframe tbody tr th {\n",
       "        vertical-align: top;\n",
       "    }\n",
       "\n",
       "    .dataframe thead th {\n",
       "        text-align: right;\n",
       "    }\n",
       "</style>\n",
       "<table border=\"1\" class=\"dataframe\">\n",
       "  <thead>\n",
       "    <tr style=\"text-align: right;\">\n",
       "      <th></th>\n",
       "      <th>wiki_movie_id</th>\n",
       "      <th>freebase_movie_id</th>\n",
       "      <th>release_date</th>\n",
       "      <th>character_name</th>\n",
       "      <th>actor_birth</th>\n",
       "      <th>actor_gender</th>\n",
       "      <th>actor_height</th>\n",
       "      <th>actor_ethnicity</th>\n",
       "      <th>actor_name</th>\n",
       "      <th>release_actor_age</th>\n",
       "      <th>freebase_map_id</th>\n",
       "      <th>freebase_character_id</th>\n",
       "      <th>freebase_actor_id</th>\n",
       "    </tr>\n",
       "  </thead>\n",
       "  <tbody>\n",
       "    <tr>\n",
       "      <th>42805</th>\n",
       "      <td>1755731</td>\n",
       "      <td>/m/05tgks</td>\n",
       "      <td>2002-12-13</td>\n",
       "      <td>Jerry Siegel</td>\n",
       "      <td>1960-11-11</td>\n",
       "      <td>M</td>\n",
       "      <td>1.721</td>\n",
       "      <td>/m/0xnvg</td>\n",
       "      <td>Stanley Tucci</td>\n",
       "      <td>42.0</td>\n",
       "      <td>/m/09hyhzx</td>\n",
       "      <td>/m/0cj62hd</td>\n",
       "      <td>/m/02bj6k</td>\n",
       "    </tr>\n",
       "    <tr>\n",
       "      <th>220005</th>\n",
       "      <td>8900180</td>\n",
       "      <td>/m/027nw4c</td>\n",
       "      <td>1963</td>\n",
       "      <td>Moe</td>\n",
       "      <td>1897-06-19</td>\n",
       "      <td>M</td>\n",
       "      <td>1.620</td>\n",
       "      <td>NaN</td>\n",
       "      <td>Moe Howard</td>\n",
       "      <td>NaN</td>\n",
       "      <td>/m/0cgp1fz</td>\n",
       "      <td>/m/0h577m2</td>\n",
       "      <td>/m/02cvp8</td>\n",
       "    </tr>\n",
       "    <tr>\n",
       "      <th>166272</th>\n",
       "      <td>23173019</td>\n",
       "      <td>/m/064mdnk</td>\n",
       "      <td>2010</td>\n",
       "      <td>Gant Hoxey</td>\n",
       "      <td>1947-02-03</td>\n",
       "      <td>M</td>\n",
       "      <td>1.820</td>\n",
       "      <td>/m/02rbdlq</td>\n",
       "      <td>Stephen McHattie</td>\n",
       "      <td>62.0</td>\n",
       "      <td>/m/070536v</td>\n",
       "      <td>/m/0gbpnjz</td>\n",
       "      <td>/m/0fs9jn</td>\n",
       "    </tr>\n",
       "    <tr>\n",
       "      <th>219673</th>\n",
       "      <td>18148671</td>\n",
       "      <td>/m/04cv30w</td>\n",
       "      <td>1961</td>\n",
       "      <td>NaN</td>\n",
       "      <td>1928-10-01</td>\n",
       "      <td>M</td>\n",
       "      <td>NaN</td>\n",
       "      <td>NaN</td>\n",
       "      <td>Sivaji Ganesan</td>\n",
       "      <td>32.0</td>\n",
       "      <td>/m/0g9lrw_</td>\n",
       "      <td>NaN</td>\n",
       "      <td>/m/03hz1n</td>\n",
       "    </tr>\n",
       "    <tr>\n",
       "      <th>39164</th>\n",
       "      <td>3710183</td>\n",
       "      <td>/m/09wmnw</td>\n",
       "      <td>2003</td>\n",
       "      <td>Lee McCall</td>\n",
       "      <td>1966-01-31</td>\n",
       "      <td>M</td>\n",
       "      <td>1.680</td>\n",
       "      <td>NaN</td>\n",
       "      <td>Dexter Fletcher</td>\n",
       "      <td>36.0</td>\n",
       "      <td>/m/02vbhjq</td>\n",
       "      <td>/m/0lnnx4z</td>\n",
       "      <td>/m/03yb6y</td>\n",
       "    </tr>\n",
       "  </tbody>\n",
       "</table>\n",
       "</div>"
      ],
      "text/plain": [
       "        wiki_movie_id freebase_movie_id release_date character_name  \\\n",
       "42805         1755731         /m/05tgks   2002-12-13   Jerry Siegel   \n",
       "220005        8900180        /m/027nw4c         1963            Moe   \n",
       "166272       23173019        /m/064mdnk         2010     Gant Hoxey   \n",
       "219673       18148671        /m/04cv30w         1961            NaN   \n",
       "39164         3710183         /m/09wmnw         2003     Lee McCall   \n",
       "\n",
       "       actor_birth actor_gender  actor_height actor_ethnicity  \\\n",
       "42805   1960-11-11            M         1.721        /m/0xnvg   \n",
       "220005  1897-06-19            M         1.620             NaN   \n",
       "166272  1947-02-03            M         1.820      /m/02rbdlq   \n",
       "219673  1928-10-01            M           NaN             NaN   \n",
       "39164   1966-01-31            M         1.680             NaN   \n",
       "\n",
       "              actor_name  release_actor_age freebase_map_id  \\\n",
       "42805      Stanley Tucci               42.0      /m/09hyhzx   \n",
       "220005        Moe Howard                NaN      /m/0cgp1fz   \n",
       "166272  Stephen McHattie               62.0      /m/070536v   \n",
       "219673    Sivaji Ganesan               32.0      /m/0g9lrw_   \n",
       "39164    Dexter Fletcher               36.0      /m/02vbhjq   \n",
       "\n",
       "       freebase_character_id freebase_actor_id  \n",
       "42805             /m/0cj62hd         /m/02bj6k  \n",
       "220005            /m/0h577m2         /m/02cvp8  \n",
       "166272            /m/0gbpnjz         /m/0fs9jn  \n",
       "219673                   NaN         /m/03hz1n  \n",
       "39164             /m/0lnnx4z         /m/03yb6y  "
      ]
     },
     "execution_count": 51,
     "metadata": {},
     "output_type": "execute_result"
    }
   ],
   "source": [
    "characters_interest.sample(5)"
   ]
  },
  {
   "cell_type": "markdown",
   "metadata": {},
   "source": [
    "## Merge IMDB actors and characters with CMU characters"
   ]
  },
  {
   "cell_type": "code",
   "execution_count": 52,
   "metadata": {},
   "outputs": [],
   "source": [
    "imdb_actors_and_characters_translated = imdb_actors_and_characters.merge(translation_id, how='inner', left_on='tconst', right_on='imdb_id').copy()\n",
    "imdb_actors_and_characters_translated = imdb_actors_and_characters_translated.drop([\"imdb_id\"], axis=1)"
   ]
  },
  {
   "cell_type": "code",
   "execution_count": 53,
   "metadata": {},
   "outputs": [
    {
     "data": {
      "text/html": [
       "<div>\n",
       "<style scoped>\n",
       "    .dataframe tbody tr th:only-of-type {\n",
       "        vertical-align: middle;\n",
       "    }\n",
       "\n",
       "    .dataframe tbody tr th {\n",
       "        vertical-align: top;\n",
       "    }\n",
       "\n",
       "    .dataframe thead th {\n",
       "        text-align: right;\n",
       "    }\n",
       "</style>\n",
       "<table border=\"1\" class=\"dataframe\">\n",
       "  <thead>\n",
       "    <tr style=\"text-align: right;\">\n",
       "      <th></th>\n",
       "      <th>nconst</th>\n",
       "      <th>knownForTitles</th>\n",
       "      <th>tconst</th>\n",
       "      <th>characters</th>\n",
       "      <th>freebase_id</th>\n",
       "      <th>wiki_movie_id</th>\n",
       "      <th>release_date</th>\n",
       "      <th>actor_birth</th>\n",
       "      <th>actor_gender</th>\n",
       "      <th>actor_height</th>\n",
       "      <th>actor_ethnicity</th>\n",
       "      <th>actor_name</th>\n",
       "      <th>release_actor_age</th>\n",
       "      <th>freebase_map_id</th>\n",
       "      <th>freebase_character_id</th>\n",
       "      <th>freebase_actor_id</th>\n",
       "    </tr>\n",
       "  </thead>\n",
       "  <tbody>\n",
       "    <tr>\n",
       "      <th>37532</th>\n",
       "      <td>nm0006762</td>\n",
       "      <td>tt0073341,tt0091578,tt0087892,tt0083987</td>\n",
       "      <td>tt0099429</td>\n",
       "      <td>[\"Mr. Mehra\"]</td>\n",
       "      <td>/m/0ffwcz</td>\n",
       "      <td>5945470</td>\n",
       "      <td>1990-06-22</td>\n",
       "      <td>1929-01-08</td>\n",
       "      <td>M</td>\n",
       "      <td>NaN</td>\n",
       "      <td>/m/02sch9</td>\n",
       "      <td>Saeed Jaffrey</td>\n",
       "      <td>61.0</td>\n",
       "      <td>/m/02vblyy</td>\n",
       "      <td>/m/0h6dlbk</td>\n",
       "      <td>/m/05d7rk</td>\n",
       "    </tr>\n",
       "    <tr>\n",
       "      <th>8121</th>\n",
       "      <td>nm0195083</td>\n",
       "      <td>tt0369880,tt8623376,tt0120866,tt0335345</td>\n",
       "      <td>tt0120866</td>\n",
       "      <td>[\"Clown\"]</td>\n",
       "      <td>/m/03tsz3</td>\n",
       "      <td>963023</td>\n",
       "      <td>1999-12-26</td>\n",
       "      <td>1958</td>\n",
       "      <td>NaN</td>\n",
       "      <td>NaN</td>\n",
       "      <td>NaN</td>\n",
       "      <td>Dario D'Ambrosi</td>\n",
       "      <td>NaN</td>\n",
       "      <td>/m/0gcndzv</td>\n",
       "      <td>NaN</td>\n",
       "      <td>/m/0gcndzz</td>\n",
       "    </tr>\n",
       "    <tr>\n",
       "      <th>26157</th>\n",
       "      <td>nm0002064</td>\n",
       "      <td>tt0903747,tt3040964,tt0097216,tt0114814</td>\n",
       "      <td>tt0120379</td>\n",
       "      <td>[\"Darryl\"]</td>\n",
       "      <td>/m/0c028hf</td>\n",
       "      <td>27397030</td>\n",
       "      <td>1997</td>\n",
       "      <td>1958-04-26</td>\n",
       "      <td>M</td>\n",
       "      <td>1.715</td>\n",
       "      <td>/m/0xnvg</td>\n",
       "      <td>Giancarlo Esposito</td>\n",
       "      <td>38.0</td>\n",
       "      <td>/m/0g9fv96</td>\n",
       "      <td>/m/0g9fv79</td>\n",
       "      <td>/m/0807ml</td>\n",
       "    </tr>\n",
       "    <tr>\n",
       "      <th>13214</th>\n",
       "      <td>nm0000362</td>\n",
       "      <td>tt0098621,tt0119488,tt0103776,tt0117008</td>\n",
       "      <td>tt0156323</td>\n",
       "      <td>[\"Grover Cleaver\"]</td>\n",
       "      <td>/m/08dc1n</td>\n",
       "      <td>2929705</td>\n",
       "      <td>2000</td>\n",
       "      <td>1944-11-17</td>\n",
       "      <td>M</td>\n",
       "      <td>1.520</td>\n",
       "      <td>/m/0xnvg</td>\n",
       "      <td>Danny DeVito</td>\n",
       "      <td>55.0</td>\n",
       "      <td>/m/03lclmm</td>\n",
       "      <td>/m/0h12jm5</td>\n",
       "      <td>/m/0q9kd</td>\n",
       "    </tr>\n",
       "    <tr>\n",
       "      <th>56229</th>\n",
       "      <td>nm0280749</td>\n",
       "      <td>tt0050762,tt0217026,tt0102247,tt0092987</td>\n",
       "      <td>tt0050762</td>\n",
       "      <td>[\"Jan Baalsrud\"]</td>\n",
       "      <td>/m/07d6hx</td>\n",
       "      <td>2440669</td>\n",
       "      <td>1959-01-05</td>\n",
       "      <td>1915-03-24</td>\n",
       "      <td>M</td>\n",
       "      <td>NaN</td>\n",
       "      <td>NaN</td>\n",
       "      <td>Jack Fjeldstad</td>\n",
       "      <td>43.0</td>\n",
       "      <td>/m/0gb240d</td>\n",
       "      <td>NaN</td>\n",
       "      <td>/m/07kdgmg</td>\n",
       "    </tr>\n",
       "  </tbody>\n",
       "</table>\n",
       "</div>"
      ],
      "text/plain": [
       "          nconst                           knownForTitles     tconst  \\\n",
       "37532  nm0006762  tt0073341,tt0091578,tt0087892,tt0083987  tt0099429   \n",
       "8121   nm0195083  tt0369880,tt8623376,tt0120866,tt0335345  tt0120866   \n",
       "26157  nm0002064  tt0903747,tt3040964,tt0097216,tt0114814  tt0120379   \n",
       "13214  nm0000362  tt0098621,tt0119488,tt0103776,tt0117008  tt0156323   \n",
       "56229  nm0280749  tt0050762,tt0217026,tt0102247,tt0092987  tt0050762   \n",
       "\n",
       "               characters freebase_id  wiki_movie_id release_date actor_birth  \\\n",
       "37532       [\"Mr. Mehra\"]   /m/0ffwcz        5945470   1990-06-22  1929-01-08   \n",
       "8121            [\"Clown\"]   /m/03tsz3         963023   1999-12-26        1958   \n",
       "26157          [\"Darryl\"]  /m/0c028hf       27397030         1997  1958-04-26   \n",
       "13214  [\"Grover Cleaver\"]   /m/08dc1n        2929705         2000  1944-11-17   \n",
       "56229    [\"Jan Baalsrud\"]   /m/07d6hx        2440669   1959-01-05  1915-03-24   \n",
       "\n",
       "      actor_gender  actor_height actor_ethnicity          actor_name  \\\n",
       "37532            M           NaN       /m/02sch9       Saeed Jaffrey   \n",
       "8121           NaN           NaN             NaN     Dario D'Ambrosi   \n",
       "26157            M         1.715        /m/0xnvg  Giancarlo Esposito   \n",
       "13214            M         1.520        /m/0xnvg        Danny DeVito   \n",
       "56229            M           NaN             NaN      Jack Fjeldstad   \n",
       "\n",
       "       release_actor_age freebase_map_id freebase_character_id  \\\n",
       "37532               61.0      /m/02vblyy            /m/0h6dlbk   \n",
       "8121                 NaN      /m/0gcndzv                   NaN   \n",
       "26157               38.0      /m/0g9fv96            /m/0g9fv79   \n",
       "13214               55.0      /m/03lclmm            /m/0h12jm5   \n",
       "56229               43.0      /m/0gb240d                   NaN   \n",
       "\n",
       "      freebase_actor_id  \n",
       "37532         /m/05d7rk  \n",
       "8121         /m/0gcndzz  \n",
       "26157         /m/0807ml  \n",
       "13214          /m/0q9kd  \n",
       "56229        /m/07kdgmg  "
      ]
     },
     "execution_count": 53,
     "metadata": {},
     "output_type": "execute_result"
    }
   ],
   "source": [
    "# TODO, currently merging on movie id and actor name. Would rather merge with actor id too but a translation is needed\n",
    "imdb_actors_w_cmu_characters = imdb_actors_and_characters_translated.merge(characters_interest, how='inner', left_on=['freebase_id', 'primaryName'], right_on=['freebase_movie_id', 'actor_name']).copy()\n",
    "\n",
    "# Merge birth year information\n",
    "missing_birth_years = imdb_actors_w_cmu_characters[imdb_actors_w_cmu_characters['actor_birth'].isna()].index\n",
    "imdb_actors_w_cmu_characters.loc[missing_birth_years, 'actor_birth'] = imdb_actors_w_cmu_characters.loc[missing_birth_years, 'birthYear']\n",
    "\n",
    "imdb_actors_w_cmu_characters = imdb_actors_w_cmu_characters.drop([\"freebase_movie_id\", \"primaryName\", \"deathYear\", \"birthYear\", \"character_name\"], axis=1)\n",
    "\n",
    "imdb_actors_w_cmu_characters = imdb_actors_w_cmu_characters.drop_duplicates()\n",
    "\n",
    "imdb_actors_w_cmu_characters.sample(5)"
   ]
  },
  {
   "cell_type": "markdown",
   "metadata": {},
   "source": [
    "## Summary of results for part I\n",
    "We now have two main dataframes for further analysis. One containing everything related to movies and their ratings and the other containing everything related to actors, their features and characters they played in a given movie."
   ]
  },
  {
   "cell_type": "code",
   "execution_count": 54,
   "metadata": {},
   "outputs": [],
   "source": [
    "movies = cmu_movies_w_imdb_rating.copy()\n",
    "actors_characters = imdb_actors_w_cmu_characters.copy()"
   ]
  },
  {
   "cell_type": "code",
   "execution_count": 55,
   "metadata": {},
   "outputs": [
    {
     "data": {
      "text/html": [
       "<div>\n",
       "<style scoped>\n",
       "    .dataframe tbody tr th:only-of-type {\n",
       "        vertical-align: middle;\n",
       "    }\n",
       "\n",
       "    .dataframe tbody tr th {\n",
       "        vertical-align: top;\n",
       "    }\n",
       "\n",
       "    .dataframe thead th {\n",
       "        text-align: right;\n",
       "    }\n",
       "</style>\n",
       "<table border=\"1\" class=\"dataframe\">\n",
       "  <thead>\n",
       "    <tr style=\"text-align: right;\">\n",
       "      <th></th>\n",
       "      <th>tconst</th>\n",
       "      <th>runtimeMinutes</th>\n",
       "      <th>genres</th>\n",
       "      <th>averageRating</th>\n",
       "      <th>numVotes</th>\n",
       "      <th>freebase_id</th>\n",
       "      <th>wiki_movie_id</th>\n",
       "      <th>movie_name</th>\n",
       "      <th>movie_release_date</th>\n",
       "      <th>box_office</th>\n",
       "      <th>movie_languages</th>\n",
       "      <th>movie_countries</th>\n",
       "      <th>movie_genres</th>\n",
       "      <th>plot_summary</th>\n",
       "    </tr>\n",
       "  </thead>\n",
       "  <tbody>\n",
       "    <tr>\n",
       "      <th>0</th>\n",
       "      <td>tt0000009</td>\n",
       "      <td>45</td>\n",
       "      <td>Romance</td>\n",
       "      <td>5.3</td>\n",
       "      <td>207</td>\n",
       "      <td>/m/02q23xk</td>\n",
       "      <td>10109752</td>\n",
       "      <td>Miss Jerry</td>\n",
       "      <td>1894-10-09</td>\n",
       "      <td>NaN</td>\n",
       "      <td>{'/m/06ppq': 'Silent film'}</td>\n",
       "      <td>{'/m/09c7w0': 'United States of America'}</td>\n",
       "      <td>{'/m/02hmvc': 'Short Film', '/m/06ppq': 'Silen...</td>\n",
       "      <td>After finding out that her father is suffering...</td>\n",
       "    </tr>\n",
       "    <tr>\n",
       "      <th>1</th>\n",
       "      <td>tt0000147</td>\n",
       "      <td>100</td>\n",
       "      <td>Documentary,News,Sport</td>\n",
       "      <td>5.3</td>\n",
       "      <td>484</td>\n",
       "      <td>/m/0czdh_n</td>\n",
       "      <td>28703057</td>\n",
       "      <td>The Corbett-Fitzsimmons Fight</td>\n",
       "      <td>1897-05-22</td>\n",
       "      <td>100000.0</td>\n",
       "      <td>{}</td>\n",
       "      <td>{}</td>\n",
       "      <td>{'/m/01z02hx': 'Sports'}</td>\n",
       "      <td>The film no longer exists in its entirety; how...</td>\n",
       "    </tr>\n",
       "    <tr>\n",
       "      <th>2</th>\n",
       "      <td>tt0000574</td>\n",
       "      <td>70</td>\n",
       "      <td>Action,Adventure,Biography</td>\n",
       "      <td>6.0</td>\n",
       "      <td>854</td>\n",
       "      <td>/m/0120y4</td>\n",
       "      <td>142995</td>\n",
       "      <td>The Story of the Kelly Gang</td>\n",
       "      <td>1906-12-26</td>\n",
       "      <td>NaN</td>\n",
       "      <td>{'/m/02h40lc': 'English Language'}</td>\n",
       "      <td>{'/m/0chghy': 'Australia'}</td>\n",
       "      <td>{'/m/0lsxr': 'Crime Fiction', '/m/06ppq': 'Sil...</td>\n",
       "      <td>The Story of the Kelly Gangs tone is of sorrow...</td>\n",
       "    </tr>\n",
       "    <tr>\n",
       "      <th>3</th>\n",
       "      <td>tt0000591</td>\n",
       "      <td>90</td>\n",
       "      <td>Drama</td>\n",
       "      <td>5.0</td>\n",
       "      <td>21</td>\n",
       "      <td>/m/07s67rr</td>\n",
       "      <td>4849466</td>\n",
       "      <td>L'Enfant prodigue</td>\n",
       "      <td>1907-06-20</td>\n",
       "      <td>NaN</td>\n",
       "      <td>{'/m/064_8sq': 'French Language'}</td>\n",
       "      <td>{'/m/0f8l9c': 'France'}</td>\n",
       "      <td>{'/m/02hmvc': 'Short Film', '/m/06ppq': 'Silen...</td>\n",
       "      <td>NaN</td>\n",
       "    </tr>\n",
       "    <tr>\n",
       "      <th>4</th>\n",
       "      <td>tt0000679</td>\n",
       "      <td>120</td>\n",
       "      <td>Adventure,Fantasy</td>\n",
       "      <td>5.1</td>\n",
       "      <td>68</td>\n",
       "      <td>/m/0fgfyy</td>\n",
       "      <td>5954041</td>\n",
       "      <td>The Fairylogue and Radio-Plays</td>\n",
       "      <td>1908-09-24</td>\n",
       "      <td>NaN</td>\n",
       "      <td>{'/m/02h40lc': 'English Language'}</td>\n",
       "      <td>{'/m/09c7w0': 'United States of America'}</td>\n",
       "      <td>{'/m/06ppq': 'Silent film', '/m/01g6gs': 'Blac...</td>\n",
       "      <td>NaN</td>\n",
       "    </tr>\n",
       "  </tbody>\n",
       "</table>\n",
       "</div>"
      ],
      "text/plain": [
       "      tconst runtimeMinutes                      genres  averageRating  \\\n",
       "0  tt0000009             45                     Romance            5.3   \n",
       "1  tt0000147            100      Documentary,News,Sport            5.3   \n",
       "2  tt0000574             70  Action,Adventure,Biography            6.0   \n",
       "3  tt0000591             90                       Drama            5.0   \n",
       "4  tt0000679            120           Adventure,Fantasy            5.1   \n",
       "\n",
       "   numVotes freebase_id  wiki_movie_id                      movie_name  \\\n",
       "0       207  /m/02q23xk       10109752                      Miss Jerry   \n",
       "1       484  /m/0czdh_n       28703057   The Corbett-Fitzsimmons Fight   \n",
       "2       854   /m/0120y4         142995     The Story of the Kelly Gang   \n",
       "3        21  /m/07s67rr        4849466               L'Enfant prodigue   \n",
       "4        68   /m/0fgfyy        5954041  The Fairylogue and Radio-Plays   \n",
       "\n",
       "  movie_release_date  box_office                     movie_languages  \\\n",
       "0         1894-10-09         NaN         {'/m/06ppq': 'Silent film'}   \n",
       "1         1897-05-22    100000.0                                  {}   \n",
       "2         1906-12-26         NaN  {'/m/02h40lc': 'English Language'}   \n",
       "3         1907-06-20         NaN   {'/m/064_8sq': 'French Language'}   \n",
       "4         1908-09-24         NaN  {'/m/02h40lc': 'English Language'}   \n",
       "\n",
       "                             movie_countries  \\\n",
       "0  {'/m/09c7w0': 'United States of America'}   \n",
       "1                                         {}   \n",
       "2                 {'/m/0chghy': 'Australia'}   \n",
       "3                    {'/m/0f8l9c': 'France'}   \n",
       "4  {'/m/09c7w0': 'United States of America'}   \n",
       "\n",
       "                                        movie_genres  \\\n",
       "0  {'/m/02hmvc': 'Short Film', '/m/06ppq': 'Silen...   \n",
       "1                           {'/m/01z02hx': 'Sports'}   \n",
       "2  {'/m/0lsxr': 'Crime Fiction', '/m/06ppq': 'Sil...   \n",
       "3  {'/m/02hmvc': 'Short Film', '/m/06ppq': 'Silen...   \n",
       "4  {'/m/06ppq': 'Silent film', '/m/01g6gs': 'Blac...   \n",
       "\n",
       "                                        plot_summary  \n",
       "0  After finding out that her father is suffering...  \n",
       "1  The film no longer exists in its entirety; how...  \n",
       "2  The Story of the Kelly Gangs tone is of sorrow...  \n",
       "3                                                NaN  \n",
       "4                                                NaN  "
      ]
     },
     "execution_count": 55,
     "metadata": {},
     "output_type": "execute_result"
    }
   ],
   "source": [
    "movies.head()"
   ]
  },
  {
   "cell_type": "code",
   "execution_count": 56,
   "metadata": {
    "scrolled": true
   },
   "outputs": [
    {
     "data": {
      "text/html": [
       "<div>\n",
       "<style scoped>\n",
       "    .dataframe tbody tr th:only-of-type {\n",
       "        vertical-align: middle;\n",
       "    }\n",
       "\n",
       "    .dataframe tbody tr th {\n",
       "        vertical-align: top;\n",
       "    }\n",
       "\n",
       "    .dataframe thead th {\n",
       "        text-align: right;\n",
       "    }\n",
       "</style>\n",
       "<table border=\"1\" class=\"dataframe\">\n",
       "  <thead>\n",
       "    <tr style=\"text-align: right;\">\n",
       "      <th></th>\n",
       "      <th>nconst</th>\n",
       "      <th>knownForTitles</th>\n",
       "      <th>tconst</th>\n",
       "      <th>characters</th>\n",
       "      <th>freebase_id</th>\n",
       "      <th>wiki_movie_id</th>\n",
       "      <th>release_date</th>\n",
       "      <th>actor_birth</th>\n",
       "      <th>actor_gender</th>\n",
       "      <th>actor_height</th>\n",
       "      <th>actor_ethnicity</th>\n",
       "      <th>actor_name</th>\n",
       "      <th>release_actor_age</th>\n",
       "      <th>freebase_map_id</th>\n",
       "      <th>freebase_character_id</th>\n",
       "      <th>freebase_actor_id</th>\n",
       "    </tr>\n",
       "  </thead>\n",
       "  <tbody>\n",
       "    <tr>\n",
       "      <th>0</th>\n",
       "      <td>nm0000001</td>\n",
       "      <td>tt0053137,tt0031983,tt0050419,tt0072308</td>\n",
       "      <td>tt0025164</td>\n",
       "      <td>[\"Guy Holden\"]</td>\n",
       "      <td>/m/0glnm</td>\n",
       "      <td>61169</td>\n",
       "      <td>1934</td>\n",
       "      <td>1899-05-10</td>\n",
       "      <td>M</td>\n",
       "      <td>1.750</td>\n",
       "      <td>/m/01qhm_</td>\n",
       "      <td>Fred Astaire</td>\n",
       "      <td>NaN</td>\n",
       "      <td>/m/0k557x</td>\n",
       "      <td>/m/0h184w0</td>\n",
       "      <td>/m/0h953</td>\n",
       "    </tr>\n",
       "    <tr>\n",
       "      <th>1</th>\n",
       "      <td>nm0002143</td>\n",
       "      <td>tt0057193,tt0036613,tt0030241,tt0027125</td>\n",
       "      <td>tt0025164</td>\n",
       "      <td>[\"Egbert 'Pinky' Fitzgerald\"]</td>\n",
       "      <td>/m/0glnm</td>\n",
       "      <td>61169</td>\n",
       "      <td>1934</td>\n",
       "      <td>1886-03-18</td>\n",
       "      <td>M</td>\n",
       "      <td>NaN</td>\n",
       "      <td>NaN</td>\n",
       "      <td>Edward Everett Horton</td>\n",
       "      <td>NaN</td>\n",
       "      <td>/m/0cs6brt</td>\n",
       "      <td>NaN</td>\n",
       "      <td>/m/0197p7</td>\n",
       "    </tr>\n",
       "    <tr>\n",
       "      <th>2</th>\n",
       "      <td>nm0000001</td>\n",
       "      <td>tt0053137,tt0031983,tt0050419,tt0072308</td>\n",
       "      <td>tt0026942</td>\n",
       "      <td>[\"Huck Haines\"]</td>\n",
       "      <td>/m/02x5h46</td>\n",
       "      <td>12800555</td>\n",
       "      <td>1935-03-08</td>\n",
       "      <td>1899-05-10</td>\n",
       "      <td>M</td>\n",
       "      <td>1.750</td>\n",
       "      <td>/m/01qhm_</td>\n",
       "      <td>Fred Astaire</td>\n",
       "      <td>NaN</td>\n",
       "      <td>/m/03l20gb</td>\n",
       "      <td>/m/0h184_z</td>\n",
       "      <td>/m/0h953</td>\n",
       "    </tr>\n",
       "    <tr>\n",
       "      <th>3</th>\n",
       "      <td>nm0000068</td>\n",
       "      <td>tt0056412,tt0026942,tt0029284,tt0046375</td>\n",
       "      <td>tt0026942</td>\n",
       "      <td>[\"John Kent\"]</td>\n",
       "      <td>/m/02x5h46</td>\n",
       "      <td>12800555</td>\n",
       "      <td>1935-03-08</td>\n",
       "      <td>1898-01-23</td>\n",
       "      <td>M</td>\n",
       "      <td>1.905</td>\n",
       "      <td>NaN</td>\n",
       "      <td>Randolph Scott</td>\n",
       "      <td>NaN</td>\n",
       "      <td>/m/03l20fw</td>\n",
       "      <td>/m/0h2qky5</td>\n",
       "      <td>/m/014y_c</td>\n",
       "    </tr>\n",
       "    <tr>\n",
       "      <th>4</th>\n",
       "      <td>nm0000001</td>\n",
       "      <td>tt0053137,tt0031983,tt0050419,tt0072308</td>\n",
       "      <td>tt0027125</td>\n",
       "      <td>[\"Jerry Travers\"]</td>\n",
       "      <td>/m/0gnjh</td>\n",
       "      <td>61501</td>\n",
       "      <td>1935</td>\n",
       "      <td>1899-05-10</td>\n",
       "      <td>M</td>\n",
       "      <td>1.750</td>\n",
       "      <td>/m/01qhm_</td>\n",
       "      <td>Fred Astaire</td>\n",
       "      <td>NaN</td>\n",
       "      <td>/m/0k77vk</td>\n",
       "      <td>/m/0h184_5</td>\n",
       "      <td>/m/0h953</td>\n",
       "    </tr>\n",
       "  </tbody>\n",
       "</table>\n",
       "</div>"
      ],
      "text/plain": [
       "      nconst                           knownForTitles     tconst  \\\n",
       "0  nm0000001  tt0053137,tt0031983,tt0050419,tt0072308  tt0025164   \n",
       "1  nm0002143  tt0057193,tt0036613,tt0030241,tt0027125  tt0025164   \n",
       "2  nm0000001  tt0053137,tt0031983,tt0050419,tt0072308  tt0026942   \n",
       "3  nm0000068  tt0056412,tt0026942,tt0029284,tt0046375  tt0026942   \n",
       "4  nm0000001  tt0053137,tt0031983,tt0050419,tt0072308  tt0027125   \n",
       "\n",
       "                      characters freebase_id  wiki_movie_id release_date  \\\n",
       "0                 [\"Guy Holden\"]    /m/0glnm          61169         1934   \n",
       "1  [\"Egbert 'Pinky' Fitzgerald\"]    /m/0glnm          61169         1934   \n",
       "2                [\"Huck Haines\"]  /m/02x5h46       12800555   1935-03-08   \n",
       "3                  [\"John Kent\"]  /m/02x5h46       12800555   1935-03-08   \n",
       "4              [\"Jerry Travers\"]    /m/0gnjh          61501         1935   \n",
       "\n",
       "  actor_birth actor_gender  actor_height actor_ethnicity  \\\n",
       "0  1899-05-10            M         1.750       /m/01qhm_   \n",
       "1  1886-03-18            M           NaN             NaN   \n",
       "2  1899-05-10            M         1.750       /m/01qhm_   \n",
       "3  1898-01-23            M         1.905             NaN   \n",
       "4  1899-05-10            M         1.750       /m/01qhm_   \n",
       "\n",
       "              actor_name  release_actor_age freebase_map_id  \\\n",
       "0           Fred Astaire                NaN       /m/0k557x   \n",
       "1  Edward Everett Horton                NaN      /m/0cs6brt   \n",
       "2           Fred Astaire                NaN      /m/03l20gb   \n",
       "3         Randolph Scott                NaN      /m/03l20fw   \n",
       "4           Fred Astaire                NaN       /m/0k77vk   \n",
       "\n",
       "  freebase_character_id freebase_actor_id  \n",
       "0            /m/0h184w0          /m/0h953  \n",
       "1                   NaN         /m/0197p7  \n",
       "2            /m/0h184_z          /m/0h953  \n",
       "3            /m/0h2qky5         /m/014y_c  \n",
       "4            /m/0h184_5          /m/0h953  "
      ]
     },
     "execution_count": 56,
     "metadata": {},
     "output_type": "execute_result"
    }
   ],
   "source": [
    "actors_characters.head()"
   ]
  },
  {
   "cell_type": "code",
   "execution_count": 57,
   "metadata": {},
   "outputs": [],
   "source": [
    "movies.to_json(os.path.join(SAVE_PATH, \"movies.json\"), orient='records')"
   ]
  },
  {
   "cell_type": "code",
   "execution_count": 58,
   "metadata": {},
   "outputs": [],
   "source": [
    "actors_characters.to_json(os.path.join(SAVE_PATH, \"characters.json\"), orient='records')"
   ]
  },
  {
   "cell_type": "markdown",
   "metadata": {},
   "source": [
    "# Part II: Personas"
   ]
  },
  {
   "cell_type": "code",
   "execution_count": 59,
   "metadata": {},
   "outputs": [],
   "source": [
    "# Load results of part I\n",
    "movies = pd.read_json(os.path.join(SAVE_PATH, \"movies.json\"))\n",
    "actors_characters = pd.read_json(os.path.join(SAVE_PATH, \"characters.json\"))"
   ]
  },
  {
   "cell_type": "markdown",
   "metadata": {},
   "source": [
    "## TVTropes personas"
   ]
  },
  {
   "cell_type": "code",
   "execution_count": 60,
   "metadata": {},
   "outputs": [
    {
     "data": {
      "text/html": [
       "<div>\n",
       "<style scoped>\n",
       "    .dataframe tbody tr th:only-of-type {\n",
       "        vertical-align: middle;\n",
       "    }\n",
       "\n",
       "    .dataframe tbody tr th {\n",
       "        vertical-align: top;\n",
       "    }\n",
       "\n",
       "    .dataframe thead th {\n",
       "        text-align: right;\n",
       "    }\n",
       "</style>\n",
       "<table border=\"1\" class=\"dataframe\">\n",
       "  <thead>\n",
       "    <tr style=\"text-align: right;\">\n",
       "      <th></th>\n",
       "      <th>id</th>\n",
       "      <th>trope</th>\n",
       "      <th>actor</th>\n",
       "      <th>character</th>\n",
       "      <th>movie_name</th>\n",
       "    </tr>\n",
       "  </thead>\n",
       "  <tbody>\n",
       "    <tr>\n",
       "      <th>0</th>\n",
       "      <td>/m/02wszk9</td>\n",
       "      <td>chanteuse</td>\n",
       "      <td>Kathleen Turner</td>\n",
       "      <td>Jessica Rabbit</td>\n",
       "      <td>Who Framed Roger Rabbit</td>\n",
       "    </tr>\n",
       "    <tr>\n",
       "      <th>1</th>\n",
       "      <td>/m/0k5wls</td>\n",
       "      <td>chanteuse</td>\n",
       "      <td>Cameron Diaz</td>\n",
       "      <td>Tina Carlyle</td>\n",
       "      <td>The Mask</td>\n",
       "    </tr>\n",
       "    <tr>\n",
       "      <th>2</th>\n",
       "      <td>/m/0k50tl</td>\n",
       "      <td>chanteuse</td>\n",
       "      <td>Michelle Pfeiffer</td>\n",
       "      <td>Susie Diamond</td>\n",
       "      <td>The Fabulous Baker Boys</td>\n",
       "    </tr>\n",
       "    <tr>\n",
       "      <th>3</th>\n",
       "      <td>/m/0k3j8v</td>\n",
       "      <td>chanteuse</td>\n",
       "      <td>Marilyn Monroe</td>\n",
       "      <td>Sugar Kane Kowalczyk</td>\n",
       "      <td>Some Like It Hot</td>\n",
       "    </tr>\n",
       "    <tr>\n",
       "      <th>4</th>\n",
       "      <td>/m/0jvlc4</td>\n",
       "      <td>chanteuse</td>\n",
       "      <td>Isabella Rossellini</td>\n",
       "      <td>Dorothy Vallens</td>\n",
       "      <td>Blue Velvet</td>\n",
       "    </tr>\n",
       "  </tbody>\n",
       "</table>\n",
       "</div>"
      ],
      "text/plain": [
       "           id      trope                actor             character  \\\n",
       "0  /m/02wszk9  chanteuse      Kathleen Turner        Jessica Rabbit   \n",
       "1   /m/0k5wls  chanteuse         Cameron Diaz          Tina Carlyle   \n",
       "2   /m/0k50tl  chanteuse    Michelle Pfeiffer         Susie Diamond   \n",
       "3   /m/0k3j8v  chanteuse       Marilyn Monroe  Sugar Kane Kowalczyk   \n",
       "4   /m/0jvlc4  chanteuse  Isabella Rossellini       Dorothy Vallens   \n",
       "\n",
       "                movie_name  \n",
       "0  Who Framed Roger Rabbit  \n",
       "1                 The Mask  \n",
       "2  The Fabulous Baker Boys  \n",
       "3         Some Like It Hot  \n",
       "4              Blue Velvet  "
      ]
     },
     "execution_count": 60,
     "metadata": {},
     "output_type": "execute_result"
    }
   ],
   "source": [
    "tvtropes_personas = load_tv_tropes_personas_df()\n",
    "tvtropes_personas.head()"
   ]
  },
  {
   "cell_type": "markdown",
   "metadata": {},
   "source": [
    "### Analyse tropes per actor"
   ]
  },
  {
   "cell_type": "code",
   "execution_count": 61,
   "metadata": {},
   "outputs": [],
   "source": [
    "tvtropes_per_actor = tvtropes_personas[[\"actor\", \"trope\"]].copy().groupby(\"actor\").agg(list).reset_index()"
   ]
  },
  {
   "cell_type": "code",
   "execution_count": 62,
   "metadata": {},
   "outputs": [],
   "source": [
    "tvtropes_per_actor[\"num_tropes\"] = tvtropes_per_actor[\"trope\"].apply(lambda ls: len(list(dict.fromkeys(ls))))"
   ]
  },
  {
   "cell_type": "code",
   "execution_count": 63,
   "metadata": {},
   "outputs": [],
   "source": [
    "tvtropes_per_actor = tvtropes_per_actor.sort_values(\"num_tropes\")"
   ]
  },
  {
   "cell_type": "code",
   "execution_count": 64,
   "metadata": {},
   "outputs": [
    {
     "data": {
      "text/html": [
       "<div>\n",
       "<style scoped>\n",
       "    .dataframe tbody tr th:only-of-type {\n",
       "        vertical-align: middle;\n",
       "    }\n",
       "\n",
       "    .dataframe tbody tr th {\n",
       "        vertical-align: top;\n",
       "    }\n",
       "\n",
       "    .dataframe thead th {\n",
       "        text-align: right;\n",
       "    }\n",
       "</style>\n",
       "<table border=\"1\" class=\"dataframe\">\n",
       "  <thead>\n",
       "    <tr style=\"text-align: right;\">\n",
       "      <th></th>\n",
       "      <th>actor</th>\n",
       "      <th>trope</th>\n",
       "      <th>num_tropes</th>\n",
       "    </tr>\n",
       "  </thead>\n",
       "  <tbody>\n",
       "    <tr>\n",
       "      <th>349</th>\n",
       "      <td>Zhang Ziyi</td>\n",
       "      <td>[arrogant_kungfu_guy]</td>\n",
       "      <td>1</td>\n",
       "    </tr>\n",
       "    <tr>\n",
       "      <th>307</th>\n",
       "      <td>Shih Kien</td>\n",
       "      <td>[arrogant_kungfu_guy]</td>\n",
       "      <td>1</td>\n",
       "    </tr>\n",
       "    <tr>\n",
       "      <th>179</th>\n",
       "      <td>Kenneth Branagh</td>\n",
       "      <td>[gadgeteer_genius]</td>\n",
       "      <td>1</td>\n",
       "    </tr>\n",
       "    <tr>\n",
       "      <th>180</th>\n",
       "      <td>Kevin Costner</td>\n",
       "      <td>[young_gun]</td>\n",
       "      <td>1</td>\n",
       "    </tr>\n",
       "    <tr>\n",
       "      <th>181</th>\n",
       "      <td>Kevin Gage</td>\n",
       "      <td>[psycho_for_hire]</td>\n",
       "      <td>1</td>\n",
       "    </tr>\n",
       "  </tbody>\n",
       "</table>\n",
       "</div>"
      ],
      "text/plain": [
       "               actor                  trope  num_tropes\n",
       "349       Zhang Ziyi  [arrogant_kungfu_guy]           1\n",
       "307        Shih Kien  [arrogant_kungfu_guy]           1\n",
       "179  Kenneth Branagh     [gadgeteer_genius]           1\n",
       "180    Kevin Costner            [young_gun]           1\n",
       "181       Kevin Gage      [psycho_for_hire]           1"
      ]
     },
     "execution_count": 64,
     "metadata": {},
     "output_type": "execute_result"
    }
   ],
   "source": [
    "tvtropes_per_actor.head()"
   ]
  },
  {
   "cell_type": "code",
   "execution_count": 65,
   "metadata": {},
   "outputs": [
    {
     "data": {
      "image/png": "[encoded data removed]",
      "text/plain": [
       "<Figure size 432x288 with 1 Axes>"
      ]
     },
     "metadata": {
      "needs_background": "light"
     },
     "output_type": "display_data"
    }
   ],
   "source": [
    "sns.barplot(data = tvtropes_per_actor.tail(20), x=\"num_tropes\", y=\"actor\", orient='h')\n",
    "plt.xlabel('Number of Tropes')\n",
    "plt.ylabel('Actor')\n",
    "plt.title('Top 20 Actors with the Most Diverse Tropes')\n",
    "plt.show()"
   ]
  },
  {
   "cell_type": "markdown",
   "metadata": {},
   "source": [
    "### Analyse frequence of tropes when joined"
   ]
  },
  {
   "cell_type": "code",
   "execution_count": 66,
   "metadata": {},
   "outputs": [],
   "source": [
    "tvtropes_personas_std = tvtropes_personas.copy()\n",
    "tvtropes_personas_std['movie_name_standardized'] = tvtropes_personas_std['movie_name'].str.lower()"
   ]
  },
  {
   "cell_type": "code",
   "execution_count": 67,
   "metadata": {},
   "outputs": [],
   "source": [
    "movies_std = movies.copy()\n",
    "movies_std['movie_name_standardized'] = movies_std['movie_name'].str.lower()"
   ]
  },
  {
   "cell_type": "code",
   "execution_count": 68,
   "metadata": {},
   "outputs": [],
   "source": [
    "movies_personas = movies_std.merge(tvtropes_personas_std, on='movie_name_standardized', how='inner')"
   ]
  },
  {
   "cell_type": "code",
   "execution_count": 69,
   "metadata": {},
   "outputs": [
    {
     "data": {
      "image/png": "[encoded data removed]",
      "text/plain": [
       "<Figure size 1440x1296 with 1 Axes>"
      ]
     },
     "metadata": {
      "needs_background": "light"
     },
     "output_type": "display_data"
    }
   ],
   "source": [
    "trope_value_counts = movies_personas['trope'].value_counts()\n",
    "\n",
    "plt.figure(figsize=(20, 18))\n",
    "trope_value_counts.plot(kind='barh')\n",
    "plt.xlabel('Count')\n",
    "plt.ylabel('Tropes')\n",
    "plt.title('Frequency of Tropes in Movies')\n",
    "plt.gca().invert_yaxis()\n",
    "plt.show()"
   ]
  },
  {
   "cell_type": "markdown",
   "metadata": {},
   "source": [
    "## CMU personas with characters"
   ]
  },
  {
   "cell_type": "code",
   "execution_count": 70,
   "metadata": {},
   "outputs": [],
   "source": [
    "cmu_personas = load_personas()"
   ]
  },
  {
   "cell_type": "code",
   "execution_count": 71,
   "metadata": {},
   "outputs": [
    {
     "data": {
      "text/html": [
       "<div>\n",
       "<style scoped>\n",
       "    .dataframe tbody tr th:only-of-type {\n",
       "        vertical-align: middle;\n",
       "    }\n",
       "\n",
       "    .dataframe tbody tr th {\n",
       "        vertical-align: top;\n",
       "    }\n",
       "\n",
       "    .dataframe thead th {\n",
       "        text-align: right;\n",
       "    }\n",
       "</style>\n",
       "<table border=\"1\" class=\"dataframe\">\n",
       "  <thead>\n",
       "    <tr style=\"text-align: right;\">\n",
       "      <th></th>\n",
       "      <th>freebase_id</th>\n",
       "      <th>wiki_id</th>\n",
       "      <th>movie_name</th>\n",
       "      <th>secondary_name</th>\n",
       "      <th>full_name</th>\n",
       "      <th>token_occurences</th>\n",
       "      <th>estimated_trope</th>\n",
       "      <th>trope_distrib</th>\n",
       "    </tr>\n",
       "  </thead>\n",
       "  <tbody>\n",
       "    <tr>\n",
       "      <th>25448</th>\n",
       "      <td>e3</td>\n",
       "      <td>14330182</td>\n",
       "      <td>Dharm</td>\n",
       "      <td>boy</td>\n",
       "      <td>the boy</td>\n",
       "      <td>5</td>\n",
       "      <td>12</td>\n",
       "      <td>[0.0, 0.14, 0.0, 0.0, 0.0, 0.0, 0.0, 0.0, 0.0,...</td>\n",
       "    </tr>\n",
       "    <tr>\n",
       "      <th>97332</th>\n",
       "      <td>e6</td>\n",
       "      <td>29198845</td>\n",
       "      <td>Morning Call</td>\n",
       "      <td>she</td>\n",
       "      <td>she</td>\n",
       "      <td>5</td>\n",
       "      <td>46</td>\n",
       "      <td>[0.0, 0.07, 0.0, 0.02, 0.0, 0.01, 0.02, 0.0, 0...</td>\n",
       "    </tr>\n",
       "    <tr>\n",
       "      <th>112561</th>\n",
       "      <td>e0</td>\n",
       "      <td>32995405</td>\n",
       "      <td>All for Gold, or Jumping the Claim</td>\n",
       "      <td>he</td>\n",
       "      <td>his</td>\n",
       "      <td>4</td>\n",
       "      <td>3</td>\n",
       "      <td>[0.0, 0.0, 0.08, 0.28, 0.0, 0.07, 0.04, 0.0, 0...</td>\n",
       "    </tr>\n",
       "    <tr>\n",
       "      <th>23474</th>\n",
       "      <td>e20</td>\n",
       "      <td>1394167</td>\n",
       "      <td>100 Girls</td>\n",
       "      <td>Stern</td>\n",
       "      <td>Ms. Stern</td>\n",
       "      <td>3</td>\n",
       "      <td>49</td>\n",
       "      <td>[0.0, 0.0, 0.22, 0.0, 0.0, 0.0, 0.03, 0.01, 0....</td>\n",
       "    </tr>\n",
       "    <tr>\n",
       "      <th>62025</th>\n",
       "      <td>e22</td>\n",
       "      <td>2201333</td>\n",
       "      <td>Dust Devil: The Final Cut</td>\n",
       "      <td>he</td>\n",
       "      <td>he</td>\n",
       "      <td>9</td>\n",
       "      <td>35</td>\n",
       "      <td>[0.0, 0.03, 0.0, 0.0, 0.0, 0.05, 0.0, 0.01, 0....</td>\n",
       "    </tr>\n",
       "  </tbody>\n",
       "</table>\n",
       "</div>"
      ],
      "text/plain": [
       "       freebase_id   wiki_id                          movie_name  \\\n",
       "25448           e3  14330182                               Dharm   \n",
       "97332           e6  29198845                        Morning Call   \n",
       "112561          e0  32995405  All for Gold, or Jumping the Claim   \n",
       "23474          e20   1394167                           100 Girls   \n",
       "62025          e22   2201333           Dust Devil: The Final Cut   \n",
       "\n",
       "       secondary_name  full_name  token_occurences  estimated_trope  \\\n",
       "25448             boy    the boy                 5               12   \n",
       "97332             she        she                 5               46   \n",
       "112561             he        his                 4                3   \n",
       "23474           Stern  Ms. Stern                 3               49   \n",
       "62025              he         he                 9               35   \n",
       "\n",
       "                                            trope_distrib  \n",
       "25448   [0.0, 0.14, 0.0, 0.0, 0.0, 0.0, 0.0, 0.0, 0.0,...  \n",
       "97332   [0.0, 0.07, 0.0, 0.02, 0.0, 0.01, 0.02, 0.0, 0...  \n",
       "112561  [0.0, 0.0, 0.08, 0.28, 0.0, 0.07, 0.04, 0.0, 0...  \n",
       "23474   [0.0, 0.0, 0.22, 0.0, 0.0, 0.0, 0.03, 0.01, 0....  \n",
       "62025   [0.0, 0.03, 0.0, 0.0, 0.0, 0.05, 0.0, 0.01, 0....  "
      ]
     },
     "execution_count": 71,
     "metadata": {},
     "output_type": "execute_result"
    }
   ],
   "source": [
    "cmu_personas.sample(5)"
   ]
  },
  {
   "cell_type": "code",
   "execution_count": 72,
   "metadata": {},
   "outputs": [],
   "source": [
    "movies_personas_cmu = cmu_personas.merge(actors_characters, left_on='freebase_id', right_on='freebase_map_id')"
   ]
  },
  {
   "cell_type": "code",
   "execution_count": 73,
   "metadata": {},
   "outputs": [
    {
     "data": {
      "text/html": [
       "<div>\n",
       "<style scoped>\n",
       "    .dataframe tbody tr th:only-of-type {\n",
       "        vertical-align: middle;\n",
       "    }\n",
       "\n",
       "    .dataframe tbody tr th {\n",
       "        vertical-align: top;\n",
       "    }\n",
       "\n",
       "    .dataframe thead th {\n",
       "        text-align: right;\n",
       "    }\n",
       "</style>\n",
       "<table border=\"1\" class=\"dataframe\">\n",
       "  <thead>\n",
       "    <tr style=\"text-align: right;\">\n",
       "      <th></th>\n",
       "      <th>freebase_id_x</th>\n",
       "      <th>wiki_id</th>\n",
       "      <th>movie_name</th>\n",
       "      <th>secondary_name</th>\n",
       "      <th>full_name</th>\n",
       "      <th>token_occurences</th>\n",
       "      <th>estimated_trope</th>\n",
       "      <th>trope_distrib</th>\n",
       "      <th>nconst</th>\n",
       "      <th>knownForTitles</th>\n",
       "      <th>...</th>\n",
       "      <th>release_date</th>\n",
       "      <th>actor_birth</th>\n",
       "      <th>actor_gender</th>\n",
       "      <th>actor_height</th>\n",
       "      <th>actor_ethnicity</th>\n",
       "      <th>actor_name</th>\n",
       "      <th>release_actor_age</th>\n",
       "      <th>freebase_map_id</th>\n",
       "      <th>freebase_character_id</th>\n",
       "      <th>freebase_actor_id</th>\n",
       "    </tr>\n",
       "  </thead>\n",
       "  <tbody>\n",
       "    <tr>\n",
       "      <th>1256</th>\n",
       "      <td>/m/040kcfq</td>\n",
       "      <td>13243296</td>\n",
       "      <td>Weirdsville</td>\n",
       "      <td>Dexter</td>\n",
       "      <td>Dexter</td>\n",
       "      <td>7</td>\n",
       "      <td>21</td>\n",
       "      <td>[0.0, 0.02, 0.0, 0.0, 0.0, 0.02, 0.05, 0.0, 0....</td>\n",
       "      <td>nm0005454</td>\n",
       "      <td>tt0482606,tt0320691,tt0401855,tt2355495</td>\n",
       "      <td>...</td>\n",
       "      <td>2007-01-19</td>\n",
       "      <td>1975-09-01</td>\n",
       "      <td>M</td>\n",
       "      <td>1.803</td>\n",
       "      <td>None</td>\n",
       "      <td>Scott Speedman</td>\n",
       "      <td>31.0</td>\n",
       "      <td>/m/040kcfq</td>\n",
       "      <td>/m/0h5h_s1</td>\n",
       "      <td>/m/06s9fb</td>\n",
       "    </tr>\n",
       "    <tr>\n",
       "      <th>1076</th>\n",
       "      <td>/m/03jsk35</td>\n",
       "      <td>12685170</td>\n",
       "      <td>Lars and the Real Girl</td>\n",
       "      <td>Gus</td>\n",
       "      <td>Gus and Karin</td>\n",
       "      <td>7</td>\n",
       "      <td>16</td>\n",
       "      <td>[0.0, 0.0, 0.03, 0.0, 0.0, 0.0, 0.0, 0.0, 0.0,...</td>\n",
       "      <td>nm0773973</td>\n",
       "      <td>tt0299458,tt0368709,tt0805564,tt0810784</td>\n",
       "      <td>...</td>\n",
       "      <td>2007-09-10</td>\n",
       "      <td>1976-03-16</td>\n",
       "      <td>M</td>\n",
       "      <td>1.800</td>\n",
       "      <td>None</td>\n",
       "      <td>Paul Schneider</td>\n",
       "      <td>31.0</td>\n",
       "      <td>/m/03jsk35</td>\n",
       "      <td>/m/0b3w8v8</td>\n",
       "      <td>/m/0dwmn3</td>\n",
       "    </tr>\n",
       "    <tr>\n",
       "      <th>9775</th>\n",
       "      <td>/m/0k30nh</td>\n",
       "      <td>612866</td>\n",
       "      <td>Secrets &amp; Lies</td>\n",
       "      <td>Maurice Purley</td>\n",
       "      <td>Maurice stops her admiring</td>\n",
       "      <td>17</td>\n",
       "      <td>49</td>\n",
       "      <td>[0.0, 0.0, 0.07, 0.0, 0.0, 0.02, 0.0, 0.0, 0.0...</td>\n",
       "      <td>nm0001758</td>\n",
       "      <td>tt0408236,tt0259711,tt0117589,tt2473794</td>\n",
       "      <td>...</td>\n",
       "      <td>1996-05</td>\n",
       "      <td>1957-02-27</td>\n",
       "      <td>M</td>\n",
       "      <td>1.700</td>\n",
       "      <td>/m/02w7gg</td>\n",
       "      <td>Timothy Spall</td>\n",
       "      <td>NaN</td>\n",
       "      <td>/m/0k30nh</td>\n",
       "      <td>/m/0bnn1fs</td>\n",
       "      <td>/m/05kwx2</td>\n",
       "    </tr>\n",
       "    <tr>\n",
       "      <th>110</th>\n",
       "      <td>/m/0jwlz3</td>\n",
       "      <td>103011</td>\n",
       "      <td>Coming Home</td>\n",
       "      <td>Luke Martin</td>\n",
       "      <td>Luke</td>\n",
       "      <td>19</td>\n",
       "      <td>37</td>\n",
       "      <td>[0.0, 0.0, 0.04, 0.0, 0.0, 0.0, 0.0, 0.0, 0.0,...</td>\n",
       "      <td>nm0000685</td>\n",
       "      <td>tt0068473,tt0064665,tt0118615,tt0089941</td>\n",
       "      <td>...</td>\n",
       "      <td>1978-02-15</td>\n",
       "      <td>1938-12-29</td>\n",
       "      <td>M</td>\n",
       "      <td>1.892</td>\n",
       "      <td>/m/027n1m6</td>\n",
       "      <td>Jon Voight</td>\n",
       "      <td>39.0</td>\n",
       "      <td>/m/0jwlz3</td>\n",
       "      <td>/m/02nwcp4</td>\n",
       "      <td>/m/046qq</td>\n",
       "    </tr>\n",
       "    <tr>\n",
       "      <th>9157</th>\n",
       "      <td>/m/0jvmcp</td>\n",
       "      <td>540654</td>\n",
       "      <td>Body Heat</td>\n",
       "      <td>Ned Racine</td>\n",
       "      <td>Ned</td>\n",
       "      <td>41</td>\n",
       "      <td>41</td>\n",
       "      <td>[0.0, 0.0, 0.0, 0.0, 0.0, 0.0, 0.0, 0.0, 0.0, ...</td>\n",
       "      <td>nm0000458</td>\n",
       "      <td>tt0120738,tt0092699,tt0080360,tt0399146</td>\n",
       "      <td>...</td>\n",
       "      <td>1981-08-28</td>\n",
       "      <td>1950-03-20</td>\n",
       "      <td>M</td>\n",
       "      <td>1.880</td>\n",
       "      <td>/m/02ctzb</td>\n",
       "      <td>William Hurt</td>\n",
       "      <td>31.0</td>\n",
       "      <td>/m/0jvmcp</td>\n",
       "      <td>/m/05sq943</td>\n",
       "      <td>/m/016khd</td>\n",
       "    </tr>\n",
       "  </tbody>\n",
       "</table>\n",
       "<p>5 rows × 24 columns</p>\n",
       "</div>"
      ],
      "text/plain": [
       "     freebase_id_x   wiki_id              movie_name  secondary_name  \\\n",
       "1256    /m/040kcfq  13243296             Weirdsville          Dexter   \n",
       "1076    /m/03jsk35  12685170  Lars and the Real Girl             Gus   \n",
       "9775     /m/0k30nh    612866          Secrets & Lies  Maurice Purley   \n",
       "110      /m/0jwlz3    103011             Coming Home     Luke Martin   \n",
       "9157     /m/0jvmcp    540654               Body Heat      Ned Racine   \n",
       "\n",
       "                       full_name  token_occurences  estimated_trope  \\\n",
       "1256                      Dexter                 7               21   \n",
       "1076               Gus and Karin                 7               16   \n",
       "9775  Maurice stops her admiring                17               49   \n",
       "110                         Luke                19               37   \n",
       "9157                         Ned                41               41   \n",
       "\n",
       "                                          trope_distrib     nconst  \\\n",
       "1256  [0.0, 0.02, 0.0, 0.0, 0.0, 0.02, 0.05, 0.0, 0....  nm0005454   \n",
       "1076  [0.0, 0.0, 0.03, 0.0, 0.0, 0.0, 0.0, 0.0, 0.0,...  nm0773973   \n",
       "9775  [0.0, 0.0, 0.07, 0.0, 0.0, 0.02, 0.0, 0.0, 0.0...  nm0001758   \n",
       "110   [0.0, 0.0, 0.04, 0.0, 0.0, 0.0, 0.0, 0.0, 0.0,...  nm0000685   \n",
       "9157  [0.0, 0.0, 0.0, 0.0, 0.0, 0.0, 0.0, 0.0, 0.0, ...  nm0000458   \n",
       "\n",
       "                               knownForTitles  ... release_date actor_birth  \\\n",
       "1256  tt0482606,tt0320691,tt0401855,tt2355495  ...   2007-01-19  1975-09-01   \n",
       "1076  tt0299458,tt0368709,tt0805564,tt0810784  ...   2007-09-10  1976-03-16   \n",
       "9775  tt0408236,tt0259711,tt0117589,tt2473794  ...      1996-05  1957-02-27   \n",
       "110   tt0068473,tt0064665,tt0118615,tt0089941  ...   1978-02-15  1938-12-29   \n",
       "9157  tt0120738,tt0092699,tt0080360,tt0399146  ...   1981-08-28  1950-03-20   \n",
       "\n",
       "     actor_gender  actor_height actor_ethnicity      actor_name  \\\n",
       "1256            M         1.803            None  Scott Speedman   \n",
       "1076            M         1.800            None  Paul Schneider   \n",
       "9775            M         1.700       /m/02w7gg   Timothy Spall   \n",
       "110             M         1.892      /m/027n1m6      Jon Voight   \n",
       "9157            M         1.880       /m/02ctzb    William Hurt   \n",
       "\n",
       "     release_actor_age  freebase_map_id freebase_character_id  \\\n",
       "1256              31.0       /m/040kcfq            /m/0h5h_s1   \n",
       "1076              31.0       /m/03jsk35            /m/0b3w8v8   \n",
       "9775               NaN        /m/0k30nh            /m/0bnn1fs   \n",
       "110               39.0        /m/0jwlz3            /m/02nwcp4   \n",
       "9157              31.0        /m/0jvmcp            /m/05sq943   \n",
       "\n",
       "     freebase_actor_id  \n",
       "1256         /m/06s9fb  \n",
       "1076         /m/0dwmn3  \n",
       "9775         /m/05kwx2  \n",
       "110           /m/046qq  \n",
       "9157         /m/016khd  \n",
       "\n",
       "[5 rows x 24 columns]"
      ]
     },
     "execution_count": 73,
     "metadata": {},
     "output_type": "execute_result"
    }
   ],
   "source": [
    "movies_personas_cmu.sample(5)"
   ]
  },
  {
   "cell_type": "markdown",
   "metadata": {},
   "source": [
    "## Self-cooked personas"
   ]
  },
  {
   "cell_type": "code",
   "execution_count": 74,
   "metadata": {},
   "outputs": [
    {
     "data": {
      "text/html": [
       "<div>\n",
       "<style scoped>\n",
       "    .dataframe tbody tr th:only-of-type {\n",
       "        vertical-align: middle;\n",
       "    }\n",
       "\n",
       "    .dataframe tbody tr th {\n",
       "        vertical-align: top;\n",
       "    }\n",
       "\n",
       "    .dataframe thead th {\n",
       "        text-align: right;\n",
       "    }\n",
       "</style>\n",
       "<table border=\"1\" class=\"dataframe\">\n",
       "  <thead>\n",
       "    <tr style=\"text-align: right;\">\n",
       "      <th></th>\n",
       "      <th>tconst</th>\n",
       "      <th>runtimeMinutes</th>\n",
       "      <th>genres</th>\n",
       "      <th>averageRating</th>\n",
       "      <th>numVotes</th>\n",
       "      <th>freebase_id</th>\n",
       "      <th>wiki_movie_id</th>\n",
       "      <th>movie_name</th>\n",
       "      <th>movie_release_date</th>\n",
       "      <th>box_office</th>\n",
       "      <th>movie_languages</th>\n",
       "      <th>movie_countries</th>\n",
       "      <th>movie_genres</th>\n",
       "      <th>plot_summary</th>\n",
       "    </tr>\n",
       "  </thead>\n",
       "  <tbody>\n",
       "    <tr>\n",
       "      <th>0</th>\n",
       "      <td>tt0000009</td>\n",
       "      <td>45</td>\n",
       "      <td>Romance</td>\n",
       "      <td>5.3</td>\n",
       "      <td>207</td>\n",
       "      <td>/m/02q23xk</td>\n",
       "      <td>10109752</td>\n",
       "      <td>Miss Jerry</td>\n",
       "      <td>1894-10-09</td>\n",
       "      <td>NaN</td>\n",
       "      <td>{'/m/06ppq': 'Silent film'}</td>\n",
       "      <td>{'/m/09c7w0': 'United States of America'}</td>\n",
       "      <td>{'/m/02hmvc': 'Short Film', '/m/06ppq': 'Silen...</td>\n",
       "      <td>After finding out that her father is suffering...</td>\n",
       "    </tr>\n",
       "    <tr>\n",
       "      <th>1</th>\n",
       "      <td>tt0000147</td>\n",
       "      <td>100</td>\n",
       "      <td>Documentary,News,Sport</td>\n",
       "      <td>5.3</td>\n",
       "      <td>484</td>\n",
       "      <td>/m/0czdh_n</td>\n",
       "      <td>28703057</td>\n",
       "      <td>The Corbett-Fitzsimmons Fight</td>\n",
       "      <td>1897-05-22</td>\n",
       "      <td>100000.0</td>\n",
       "      <td>{}</td>\n",
       "      <td>{}</td>\n",
       "      <td>{'/m/01z02hx': 'Sports'}</td>\n",
       "      <td>The film no longer exists in its entirety; how...</td>\n",
       "    </tr>\n",
       "    <tr>\n",
       "      <th>2</th>\n",
       "      <td>tt0000574</td>\n",
       "      <td>70</td>\n",
       "      <td>Action,Adventure,Biography</td>\n",
       "      <td>6.0</td>\n",
       "      <td>854</td>\n",
       "      <td>/m/0120y4</td>\n",
       "      <td>142995</td>\n",
       "      <td>The Story of the Kelly Gang</td>\n",
       "      <td>1906-12-26</td>\n",
       "      <td>NaN</td>\n",
       "      <td>{'/m/02h40lc': 'English Language'}</td>\n",
       "      <td>{'/m/0chghy': 'Australia'}</td>\n",
       "      <td>{'/m/0lsxr': 'Crime Fiction', '/m/06ppq': 'Sil...</td>\n",
       "      <td>The Story of the Kelly Gangs tone is of sorrow...</td>\n",
       "    </tr>\n",
       "    <tr>\n",
       "      <th>3</th>\n",
       "      <td>tt0000591</td>\n",
       "      <td>90</td>\n",
       "      <td>Drama</td>\n",
       "      <td>5.0</td>\n",
       "      <td>21</td>\n",
       "      <td>/m/07s67rr</td>\n",
       "      <td>4849466</td>\n",
       "      <td>L'Enfant prodigue</td>\n",
       "      <td>1907-06-20</td>\n",
       "      <td>NaN</td>\n",
       "      <td>{'/m/064_8sq': 'French Language'}</td>\n",
       "      <td>{'/m/0f8l9c': 'France'}</td>\n",
       "      <td>{'/m/02hmvc': 'Short Film', '/m/06ppq': 'Silen...</td>\n",
       "      <td>None</td>\n",
       "    </tr>\n",
       "    <tr>\n",
       "      <th>4</th>\n",
       "      <td>tt0000679</td>\n",
       "      <td>120</td>\n",
       "      <td>Adventure,Fantasy</td>\n",
       "      <td>5.1</td>\n",
       "      <td>68</td>\n",
       "      <td>/m/0fgfyy</td>\n",
       "      <td>5954041</td>\n",
       "      <td>The Fairylogue and Radio-Plays</td>\n",
       "      <td>1908-09-24</td>\n",
       "      <td>NaN</td>\n",
       "      <td>{'/m/02h40lc': 'English Language'}</td>\n",
       "      <td>{'/m/09c7w0': 'United States of America'}</td>\n",
       "      <td>{'/m/06ppq': 'Silent film', '/m/01g6gs': 'Blac...</td>\n",
       "      <td>None</td>\n",
       "    </tr>\n",
       "  </tbody>\n",
       "</table>\n",
       "</div>"
      ],
      "text/plain": [
       "      tconst runtimeMinutes                      genres  averageRating  \\\n",
       "0  tt0000009             45                     Romance            5.3   \n",
       "1  tt0000147            100      Documentary,News,Sport            5.3   \n",
       "2  tt0000574             70  Action,Adventure,Biography            6.0   \n",
       "3  tt0000591             90                       Drama            5.0   \n",
       "4  tt0000679            120           Adventure,Fantasy            5.1   \n",
       "\n",
       "   numVotes freebase_id  wiki_movie_id                      movie_name  \\\n",
       "0       207  /m/02q23xk       10109752                      Miss Jerry   \n",
       "1       484  /m/0czdh_n       28703057   The Corbett-Fitzsimmons Fight   \n",
       "2       854   /m/0120y4         142995     The Story of the Kelly Gang   \n",
       "3        21  /m/07s67rr        4849466               L'Enfant prodigue   \n",
       "4        68   /m/0fgfyy        5954041  The Fairylogue and Radio-Plays   \n",
       "\n",
       "  movie_release_date  box_office                     movie_languages  \\\n",
       "0         1894-10-09         NaN         {'/m/06ppq': 'Silent film'}   \n",
       "1         1897-05-22    100000.0                                  {}   \n",
       "2         1906-12-26         NaN  {'/m/02h40lc': 'English Language'}   \n",
       "3         1907-06-20         NaN   {'/m/064_8sq': 'French Language'}   \n",
       "4         1908-09-24         NaN  {'/m/02h40lc': 'English Language'}   \n",
       "\n",
       "                             movie_countries  \\\n",
       "0  {'/m/09c7w0': 'United States of America'}   \n",
       "1                                         {}   \n",
       "2                 {'/m/0chghy': 'Australia'}   \n",
       "3                    {'/m/0f8l9c': 'France'}   \n",
       "4  {'/m/09c7w0': 'United States of America'}   \n",
       "\n",
       "                                        movie_genres  \\\n",
       "0  {'/m/02hmvc': 'Short Film', '/m/06ppq': 'Silen...   \n",
       "1                           {'/m/01z02hx': 'Sports'}   \n",
       "2  {'/m/0lsxr': 'Crime Fiction', '/m/06ppq': 'Sil...   \n",
       "3  {'/m/02hmvc': 'Short Film', '/m/06ppq': 'Silen...   \n",
       "4  {'/m/06ppq': 'Silent film', '/m/01g6gs': 'Blac...   \n",
       "\n",
       "                                        plot_summary  \n",
       "0  After finding out that her father is suffering...  \n",
       "1  The film no longer exists in its entirety; how...  \n",
       "2  The Story of the Kelly Gangs tone is of sorrow...  \n",
       "3                                               None  \n",
       "4                                               None  "
      ]
     },
     "execution_count": 74,
     "metadata": {},
     "output_type": "execute_result"
    }
   ],
   "source": [
    "movies.head()"
   ]
  },
  {
   "cell_type": "code",
   "execution_count": 75,
   "metadata": {},
   "outputs": [
    {
     "data": {
      "text/html": [
       "<div>\n",
       "<style scoped>\n",
       "    .dataframe tbody tr th:only-of-type {\n",
       "        vertical-align: middle;\n",
       "    }\n",
       "\n",
       "    .dataframe tbody tr th {\n",
       "        vertical-align: top;\n",
       "    }\n",
       "\n",
       "    .dataframe thead th {\n",
       "        text-align: right;\n",
       "    }\n",
       "</style>\n",
       "<table border=\"1\" class=\"dataframe\">\n",
       "  <thead>\n",
       "    <tr style=\"text-align: right;\">\n",
       "      <th></th>\n",
       "      <th>nconst</th>\n",
       "      <th>knownForTitles</th>\n",
       "      <th>tconst</th>\n",
       "      <th>characters</th>\n",
       "      <th>freebase_id</th>\n",
       "      <th>wiki_movie_id</th>\n",
       "      <th>release_date</th>\n",
       "      <th>actor_birth</th>\n",
       "      <th>actor_gender</th>\n",
       "      <th>actor_height</th>\n",
       "      <th>actor_ethnicity</th>\n",
       "      <th>actor_name</th>\n",
       "      <th>release_actor_age</th>\n",
       "      <th>freebase_map_id</th>\n",
       "      <th>freebase_character_id</th>\n",
       "      <th>freebase_actor_id</th>\n",
       "    </tr>\n",
       "  </thead>\n",
       "  <tbody>\n",
       "    <tr>\n",
       "      <th>0</th>\n",
       "      <td>nm0000001</td>\n",
       "      <td>tt0053137,tt0031983,tt0050419,tt0072308</td>\n",
       "      <td>tt0025164</td>\n",
       "      <td>[\"Guy Holden\"]</td>\n",
       "      <td>/m/0glnm</td>\n",
       "      <td>61169</td>\n",
       "      <td>1934</td>\n",
       "      <td>1899-05-10</td>\n",
       "      <td>M</td>\n",
       "      <td>1.750</td>\n",
       "      <td>/m/01qhm_</td>\n",
       "      <td>Fred Astaire</td>\n",
       "      <td>NaN</td>\n",
       "      <td>/m/0k557x</td>\n",
       "      <td>/m/0h184w0</td>\n",
       "      <td>/m/0h953</td>\n",
       "    </tr>\n",
       "    <tr>\n",
       "      <th>1</th>\n",
       "      <td>nm0002143</td>\n",
       "      <td>tt0057193,tt0036613,tt0030241,tt0027125</td>\n",
       "      <td>tt0025164</td>\n",
       "      <td>[\"Egbert 'Pinky' Fitzgerald\"]</td>\n",
       "      <td>/m/0glnm</td>\n",
       "      <td>61169</td>\n",
       "      <td>1934</td>\n",
       "      <td>1886-03-18</td>\n",
       "      <td>M</td>\n",
       "      <td>NaN</td>\n",
       "      <td>None</td>\n",
       "      <td>Edward Everett Horton</td>\n",
       "      <td>NaN</td>\n",
       "      <td>/m/0cs6brt</td>\n",
       "      <td>None</td>\n",
       "      <td>/m/0197p7</td>\n",
       "    </tr>\n",
       "    <tr>\n",
       "      <th>2</th>\n",
       "      <td>nm0000001</td>\n",
       "      <td>tt0053137,tt0031983,tt0050419,tt0072308</td>\n",
       "      <td>tt0026942</td>\n",
       "      <td>[\"Huck Haines\"]</td>\n",
       "      <td>/m/02x5h46</td>\n",
       "      <td>12800555</td>\n",
       "      <td>1935-03-08</td>\n",
       "      <td>1899-05-10</td>\n",
       "      <td>M</td>\n",
       "      <td>1.750</td>\n",
       "      <td>/m/01qhm_</td>\n",
       "      <td>Fred Astaire</td>\n",
       "      <td>NaN</td>\n",
       "      <td>/m/03l20gb</td>\n",
       "      <td>/m/0h184_z</td>\n",
       "      <td>/m/0h953</td>\n",
       "    </tr>\n",
       "    <tr>\n",
       "      <th>3</th>\n",
       "      <td>nm0000068</td>\n",
       "      <td>tt0056412,tt0026942,tt0029284,tt0046375</td>\n",
       "      <td>tt0026942</td>\n",
       "      <td>[\"John Kent\"]</td>\n",
       "      <td>/m/02x5h46</td>\n",
       "      <td>12800555</td>\n",
       "      <td>1935-03-08</td>\n",
       "      <td>1898-01-23</td>\n",
       "      <td>M</td>\n",
       "      <td>1.905</td>\n",
       "      <td>None</td>\n",
       "      <td>Randolph Scott</td>\n",
       "      <td>NaN</td>\n",
       "      <td>/m/03l20fw</td>\n",
       "      <td>/m/0h2qky5</td>\n",
       "      <td>/m/014y_c</td>\n",
       "    </tr>\n",
       "    <tr>\n",
       "      <th>4</th>\n",
       "      <td>nm0000001</td>\n",
       "      <td>tt0053137,tt0031983,tt0050419,tt0072308</td>\n",
       "      <td>tt0027125</td>\n",
       "      <td>[\"Jerry Travers\"]</td>\n",
       "      <td>/m/0gnjh</td>\n",
       "      <td>61501</td>\n",
       "      <td>1935</td>\n",
       "      <td>1899-05-10</td>\n",
       "      <td>M</td>\n",
       "      <td>1.750</td>\n",
       "      <td>/m/01qhm_</td>\n",
       "      <td>Fred Astaire</td>\n",
       "      <td>NaN</td>\n",
       "      <td>/m/0k77vk</td>\n",
       "      <td>/m/0h184_5</td>\n",
       "      <td>/m/0h953</td>\n",
       "    </tr>\n",
       "  </tbody>\n",
       "</table>\n",
       "</div>"
      ],
      "text/plain": [
       "      nconst                           knownForTitles     tconst  \\\n",
       "0  nm0000001  tt0053137,tt0031983,tt0050419,tt0072308  tt0025164   \n",
       "1  nm0002143  tt0057193,tt0036613,tt0030241,tt0027125  tt0025164   \n",
       "2  nm0000001  tt0053137,tt0031983,tt0050419,tt0072308  tt0026942   \n",
       "3  nm0000068  tt0056412,tt0026942,tt0029284,tt0046375  tt0026942   \n",
       "4  nm0000001  tt0053137,tt0031983,tt0050419,tt0072308  tt0027125   \n",
       "\n",
       "                      characters freebase_id  wiki_movie_id release_date  \\\n",
       "0                 [\"Guy Holden\"]    /m/0glnm          61169         1934   \n",
       "1  [\"Egbert 'Pinky' Fitzgerald\"]    /m/0glnm          61169         1934   \n",
       "2                [\"Huck Haines\"]  /m/02x5h46       12800555   1935-03-08   \n",
       "3                  [\"John Kent\"]  /m/02x5h46       12800555   1935-03-08   \n",
       "4              [\"Jerry Travers\"]    /m/0gnjh          61501         1935   \n",
       "\n",
       "  actor_birth actor_gender  actor_height actor_ethnicity  \\\n",
       "0  1899-05-10            M         1.750       /m/01qhm_   \n",
       "1  1886-03-18            M           NaN            None   \n",
       "2  1899-05-10            M         1.750       /m/01qhm_   \n",
       "3  1898-01-23            M         1.905            None   \n",
       "4  1899-05-10            M         1.750       /m/01qhm_   \n",
       "\n",
       "              actor_name  release_actor_age freebase_map_id  \\\n",
       "0           Fred Astaire                NaN       /m/0k557x   \n",
       "1  Edward Everett Horton                NaN      /m/0cs6brt   \n",
       "2           Fred Astaire                NaN      /m/03l20gb   \n",
       "3         Randolph Scott                NaN      /m/03l20fw   \n",
       "4           Fred Astaire                NaN       /m/0k77vk   \n",
       "\n",
       "  freebase_character_id freebase_actor_id  \n",
       "0            /m/0h184w0          /m/0h953  \n",
       "1                  None         /m/0197p7  \n",
       "2            /m/0h184_z          /m/0h953  \n",
       "3            /m/0h2qky5         /m/014y_c  \n",
       "4            /m/0h184_5          /m/0h953  "
      ]
     },
     "execution_count": 75,
     "metadata": {},
     "output_type": "execute_result"
    }
   ],
   "source": [
    "actors_characters.head()"
   ]
  },
  {
   "cell_type": "code",
   "execution_count": 76,
   "metadata": {},
   "outputs": [],
   "source": [
    "all_data = movies.merge(actors_characters, how=\"inner\", on=[\"tconst\", \"freebase_id\", \"wiki_movie_id\"])"
   ]
  },
  {
   "cell_type": "code",
   "execution_count": 77,
   "metadata": {},
   "outputs": [
    {
     "data": {
      "text/html": [
       "<div>\n",
       "<style scoped>\n",
       "    .dataframe tbody tr th:only-of-type {\n",
       "        vertical-align: middle;\n",
       "    }\n",
       "\n",
       "    .dataframe tbody tr th {\n",
       "        vertical-align: top;\n",
       "    }\n",
       "\n",
       "    .dataframe thead th {\n",
       "        text-align: right;\n",
       "    }\n",
       "</style>\n",
       "<table border=\"1\" class=\"dataframe\">\n",
       "  <thead>\n",
       "    <tr style=\"text-align: right;\">\n",
       "      <th></th>\n",
       "      <th>tconst</th>\n",
       "      <th>runtimeMinutes</th>\n",
       "      <th>genres</th>\n",
       "      <th>averageRating</th>\n",
       "      <th>numVotes</th>\n",
       "      <th>freebase_id</th>\n",
       "      <th>wiki_movie_id</th>\n",
       "      <th>movie_name</th>\n",
       "      <th>movie_release_date</th>\n",
       "      <th>box_office</th>\n",
       "      <th>...</th>\n",
       "      <th>release_date</th>\n",
       "      <th>actor_birth</th>\n",
       "      <th>actor_gender</th>\n",
       "      <th>actor_height</th>\n",
       "      <th>actor_ethnicity</th>\n",
       "      <th>actor_name</th>\n",
       "      <th>release_actor_age</th>\n",
       "      <th>freebase_map_id</th>\n",
       "      <th>freebase_character_id</th>\n",
       "      <th>freebase_actor_id</th>\n",
       "    </tr>\n",
       "  </thead>\n",
       "  <tbody>\n",
       "    <tr>\n",
       "      <th>0</th>\n",
       "      <td>tt0000574</td>\n",
       "      <td>70</td>\n",
       "      <td>Action,Adventure,Biography</td>\n",
       "      <td>6.0</td>\n",
       "      <td>854</td>\n",
       "      <td>/m/0120y4</td>\n",
       "      <td>142995</td>\n",
       "      <td>The Story of the Kelly Gang</td>\n",
       "      <td>1906-12-26</td>\n",
       "      <td>NaN</td>\n",
       "      <td>...</td>\n",
       "      <td>1906-12-26</td>\n",
       "      <td>1871</td>\n",
       "      <td>M</td>\n",
       "      <td>NaN</td>\n",
       "      <td>None</td>\n",
       "      <td>John Tait</td>\n",
       "      <td>NaN</td>\n",
       "      <td>/m/0k6ktp</td>\n",
       "      <td>None</td>\n",
       "      <td>/m/0k6ksg</td>\n",
       "    </tr>\n",
       "    <tr>\n",
       "      <th>1</th>\n",
       "      <td>tt0000574</td>\n",
       "      <td>70</td>\n",
       "      <td>Action,Adventure,Biography</td>\n",
       "      <td>6.0</td>\n",
       "      <td>854</td>\n",
       "      <td>/m/0120y4</td>\n",
       "      <td>142995</td>\n",
       "      <td>The Story of the Kelly Gang</td>\n",
       "      <td>1906-12-26</td>\n",
       "      <td>NaN</td>\n",
       "      <td>...</td>\n",
       "      <td>1906-12-26</td>\n",
       "      <td>1880</td>\n",
       "      <td>M</td>\n",
       "      <td>NaN</td>\n",
       "      <td>None</td>\n",
       "      <td>Nicholas Brierley</td>\n",
       "      <td>NaN</td>\n",
       "      <td>/m/0k6ktc</td>\n",
       "      <td>None</td>\n",
       "      <td>/m/0k6ks2</td>\n",
       "    </tr>\n",
       "    <tr>\n",
       "      <th>2</th>\n",
       "      <td>tt0000574</td>\n",
       "      <td>70</td>\n",
       "      <td>Action,Adventure,Biography</td>\n",
       "      <td>6.0</td>\n",
       "      <td>854</td>\n",
       "      <td>/m/0120y4</td>\n",
       "      <td>142995</td>\n",
       "      <td>The Story of the Kelly Gang</td>\n",
       "      <td>1906-12-26</td>\n",
       "      <td>NaN</td>\n",
       "      <td>...</td>\n",
       "      <td>1906-12-26</td>\n",
       "      <td>\\N</td>\n",
       "      <td>None</td>\n",
       "      <td>NaN</td>\n",
       "      <td>None</td>\n",
       "      <td>Norman Campbell</td>\n",
       "      <td>NaN</td>\n",
       "      <td>/m/0bxl4zk</td>\n",
       "      <td>None</td>\n",
       "      <td>/m/0bxl4z5</td>\n",
       "    </tr>\n",
       "    <tr>\n",
       "      <th>3</th>\n",
       "      <td>tt0000591</td>\n",
       "      <td>90</td>\n",
       "      <td>Drama</td>\n",
       "      <td>5.0</td>\n",
       "      <td>21</td>\n",
       "      <td>/m/07s67rr</td>\n",
       "      <td>4849466</td>\n",
       "      <td>L'Enfant prodigue</td>\n",
       "      <td>1907-06-20</td>\n",
       "      <td>NaN</td>\n",
       "      <td>...</td>\n",
       "      <td>1907-06-20</td>\n",
       "      <td>\\N</td>\n",
       "      <td>M</td>\n",
       "      <td>NaN</td>\n",
       "      <td>None</td>\n",
       "      <td>Henri Gouget</td>\n",
       "      <td>NaN</td>\n",
       "      <td>/m/0n5_12f</td>\n",
       "      <td>None</td>\n",
       "      <td>/m/0n5_12j</td>\n",
       "    </tr>\n",
       "    <tr>\n",
       "      <th>4</th>\n",
       "      <td>tt0000591</td>\n",
       "      <td>90</td>\n",
       "      <td>Drama</td>\n",
       "      <td>5.0</td>\n",
       "      <td>21</td>\n",
       "      <td>/m/07s67rr</td>\n",
       "      <td>4849466</td>\n",
       "      <td>L'Enfant prodigue</td>\n",
       "      <td>1907-06-20</td>\n",
       "      <td>NaN</td>\n",
       "      <td>...</td>\n",
       "      <td>1907-06-20</td>\n",
       "      <td>1874-01-14</td>\n",
       "      <td>M</td>\n",
       "      <td>NaN</td>\n",
       "      <td>None</td>\n",
       "      <td>Georges Wague</td>\n",
       "      <td>NaN</td>\n",
       "      <td>/m/0n5_11r</td>\n",
       "      <td>None</td>\n",
       "      <td>/m/0n5_11v</td>\n",
       "    </tr>\n",
       "  </tbody>\n",
       "</table>\n",
       "<p>5 rows × 27 columns</p>\n",
       "</div>"
      ],
      "text/plain": [
       "      tconst runtimeMinutes                      genres  averageRating  \\\n",
       "0  tt0000574             70  Action,Adventure,Biography            6.0   \n",
       "1  tt0000574             70  Action,Adventure,Biography            6.0   \n",
       "2  tt0000574             70  Action,Adventure,Biography            6.0   \n",
       "3  tt0000591             90                       Drama            5.0   \n",
       "4  tt0000591             90                       Drama            5.0   \n",
       "\n",
       "   numVotes freebase_id  wiki_movie_id                   movie_name  \\\n",
       "0       854   /m/0120y4         142995  The Story of the Kelly Gang   \n",
       "1       854   /m/0120y4         142995  The Story of the Kelly Gang   \n",
       "2       854   /m/0120y4         142995  The Story of the Kelly Gang   \n",
       "3        21  /m/07s67rr        4849466            L'Enfant prodigue   \n",
       "4        21  /m/07s67rr        4849466            L'Enfant prodigue   \n",
       "\n",
       "  movie_release_date  box_office  ... release_date actor_birth actor_gender  \\\n",
       "0         1906-12-26         NaN  ...   1906-12-26        1871            M   \n",
       "1         1906-12-26         NaN  ...   1906-12-26        1880            M   \n",
       "2         1906-12-26         NaN  ...   1906-12-26          \\N         None   \n",
       "3         1907-06-20         NaN  ...   1907-06-20          \\N            M   \n",
       "4         1907-06-20         NaN  ...   1907-06-20  1874-01-14            M   \n",
       "\n",
       "  actor_height actor_ethnicity         actor_name release_actor_age  \\\n",
       "0          NaN            None          John Tait               NaN   \n",
       "1          NaN            None  Nicholas Brierley               NaN   \n",
       "2          NaN            None    Norman Campbell               NaN   \n",
       "3          NaN            None       Henri Gouget               NaN   \n",
       "4          NaN            None      Georges Wague               NaN   \n",
       "\n",
       "  freebase_map_id freebase_character_id freebase_actor_id  \n",
       "0       /m/0k6ktp                  None         /m/0k6ksg  \n",
       "1       /m/0k6ktc                  None         /m/0k6ks2  \n",
       "2      /m/0bxl4zk                  None        /m/0bxl4z5  \n",
       "3      /m/0n5_12f                  None        /m/0n5_12j  \n",
       "4      /m/0n5_11r                  None        /m/0n5_11v  \n",
       "\n",
       "[5 rows x 27 columns]"
      ]
     },
     "execution_count": 77,
     "metadata": {},
     "output_type": "execute_result"
    }
   ],
   "source": [
    "all_data.head()"
   ]
  },
  {
   "cell_type": "code",
   "execution_count": 78,
   "metadata": {},
   "outputs": [
    {
     "data": {
      "text/plain": [
       "Index(['tconst', 'runtimeMinutes', 'genres', 'averageRating', 'numVotes',\n",
       "       'freebase_id', 'wiki_movie_id', 'movie_name', 'movie_release_date',\n",
       "       'box_office', 'movie_languages', 'movie_countries', 'movie_genres',\n",
       "       'plot_summary', 'nconst', 'knownForTitles', 'characters',\n",
       "       'release_date', 'actor_birth', 'actor_gender', 'actor_height',\n",
       "       'actor_ethnicity', 'actor_name', 'release_actor_age', 'freebase_map_id',\n",
       "       'freebase_character_id', 'freebase_actor_id'],\n",
       "      dtype='object')"
      ]
     },
     "execution_count": 78,
     "metadata": {},
     "output_type": "execute_result"
    }
   ],
   "source": [
    "all_data.columns"
   ]
  },
  {
   "cell_type": "markdown",
   "metadata": {},
   "source": [
    "### Based on movie genre"
   ]
  },
  {
   "cell_type": "code",
   "execution_count": 79,
   "metadata": {},
   "outputs": [],
   "source": [
    "movie_genre_per_actor = all_data[[\"nconst\", \"actor_name\", \"movie_genres\"]].copy()"
   ]
  },
  {
   "cell_type": "code",
   "execution_count": 80,
   "metadata": {},
   "outputs": [],
   "source": [
    "movie_genre_per_actor[\"genres_flattened\"] = movie_genre_per_actor[\"movie_genres\"].apply(lambda genres: list(genres.values()))"
   ]
  },
  {
   "cell_type": "code",
   "execution_count": 81,
   "metadata": {},
   "outputs": [],
   "source": [
    "movie_genre_per_actor = movie_genre_per_actor.drop(\"movie_genres\", axis=1)"
   ]
  },
  {
   "cell_type": "code",
   "execution_count": 82,
   "metadata": {},
   "outputs": [],
   "source": [
    "movie_genre_per_actor = movie_genre_per_actor.groupby([\"nconst\", \"actor_name\"]).agg(list).reset_index()"
   ]
  },
  {
   "cell_type": "code",
   "execution_count": 83,
   "metadata": {},
   "outputs": [],
   "source": [
    "movie_genre_per_actor[\"total_movies\"] = movie_genre_per_actor[\"genres_flattened\"].apply(len)"
   ]
  },
  {
   "cell_type": "code",
   "execution_count": 84,
   "metadata": {},
   "outputs": [],
   "source": [
    "movie_genre_per_actor[\"genres_flattened\"] = movie_genre_per_actor[\"genres_flattened\"].apply(lambda ls: [item for row in ls for item in row])"
   ]
  },
  {
   "cell_type": "code",
   "execution_count": 85,
   "metadata": {},
   "outputs": [],
   "source": [
    "movie_genre_per_actor[\"genres_freq\"] = movie_genre_per_actor[\"genres_flattened\"].apply(lambda ls: dict(sorted(dict(Counter(ls)).items(), key=lambda item: item[1], reverse=True)))"
   ]
  },
  {
   "cell_type": "code",
   "execution_count": 86,
   "metadata": {},
   "outputs": [],
   "source": [
    "movie_genre_per_actor = movie_genre_per_actor.drop(\"genres_flattened\", axis=1)"
   ]
  },
  {
   "cell_type": "code",
   "execution_count": 87,
   "metadata": {},
   "outputs": [
    {
     "data": {
      "text/html": [
       "<div>\n",
       "<style scoped>\n",
       "    .dataframe tbody tr th:only-of-type {\n",
       "        vertical-align: middle;\n",
       "    }\n",
       "\n",
       "    .dataframe tbody tr th {\n",
       "        vertical-align: top;\n",
       "    }\n",
       "\n",
       "    .dataframe thead th {\n",
       "        text-align: right;\n",
       "    }\n",
       "</style>\n",
       "<table border=\"1\" class=\"dataframe\">\n",
       "  <thead>\n",
       "    <tr style=\"text-align: right;\">\n",
       "      <th></th>\n",
       "      <th>nconst</th>\n",
       "      <th>actor_name</th>\n",
       "      <th>total_movies</th>\n",
       "      <th>genres_freq</th>\n",
       "    </tr>\n",
       "  </thead>\n",
       "  <tbody>\n",
       "    <tr>\n",
       "      <th>0</th>\n",
       "      <td>nm0000001</td>\n",
       "      <td>Fred Astaire</td>\n",
       "      <td>33</td>\n",
       "      <td>{'Musical': 28, 'Comedy': 20, 'Romance Film': ...</td>\n",
       "    </tr>\n",
       "    <tr>\n",
       "      <th>1</th>\n",
       "      <td>nm0000004</td>\n",
       "      <td>John Belushi</td>\n",
       "      <td>6</td>\n",
       "      <td>{'Comedy': 6, 'Action/Adventure': 3, 'Action':...</td>\n",
       "    </tr>\n",
       "    <tr>\n",
       "      <th>2</th>\n",
       "      <td>nm0000007</td>\n",
       "      <td>Humphrey Bogart</td>\n",
       "      <td>68</td>\n",
       "      <td>{'Drama': 52, 'Black-and-white': 41, 'Crime Fi...</td>\n",
       "    </tr>\n",
       "    <tr>\n",
       "      <th>3</th>\n",
       "      <td>nm0000008</td>\n",
       "      <td>Marlon Brando</td>\n",
       "      <td>38</td>\n",
       "      <td>{'Drama': 24, 'Romance Film': 9, 'Action/Adven...</td>\n",
       "    </tr>\n",
       "    <tr>\n",
       "      <th>4</th>\n",
       "      <td>nm0000009</td>\n",
       "      <td>Richard Burton</td>\n",
       "      <td>48</td>\n",
       "      <td>{'Drama': 37, 'Romance Film': 15, 'War film': ...</td>\n",
       "    </tr>\n",
       "  </tbody>\n",
       "</table>\n",
       "</div>"
      ],
      "text/plain": [
       "      nconst       actor_name  total_movies  \\\n",
       "0  nm0000001     Fred Astaire            33   \n",
       "1  nm0000004     John Belushi             6   \n",
       "2  nm0000007  Humphrey Bogart            68   \n",
       "3  nm0000008    Marlon Brando            38   \n",
       "4  nm0000009   Richard Burton            48   \n",
       "\n",
       "                                         genres_freq  \n",
       "0  {'Musical': 28, 'Comedy': 20, 'Romance Film': ...  \n",
       "1  {'Comedy': 6, 'Action/Adventure': 3, 'Action':...  \n",
       "2  {'Drama': 52, 'Black-and-white': 41, 'Crime Fi...  \n",
       "3  {'Drama': 24, 'Romance Film': 9, 'Action/Adven...  \n",
       "4  {'Drama': 37, 'Romance Film': 15, 'War film': ...  "
      ]
     },
     "execution_count": 87,
     "metadata": {},
     "output_type": "execute_result"
    }
   ],
   "source": [
    "movie_genre_per_actor.head()"
   ]
  },
  {
   "cell_type": "markdown",
   "metadata": {},
   "source": [
    "#### Distribution of some actors"
   ]
  },
  {
   "cell_type": "code",
   "execution_count": 88,
   "metadata": {},
   "outputs": [],
   "source": [
    "top_actors = movie_genre_per_actor.sort_values(\"total_movies\", ascending=False).copy().head()"
   ]
  },
  {
   "cell_type": "code",
   "execution_count": 89,
   "metadata": {},
   "outputs": [],
   "source": [
    "actor_1 = top_actors[\"genres_freq\"].iloc[0]"
   ]
  },
  {
   "cell_type": "code",
   "execution_count": 90,
   "metadata": {},
   "outputs": [
    {
     "data": {
      "image/png": "[encoded data removed]",
      "text/plain": [
       "<Figure size 720x288 with 1 Axes>"
      ]
     },
     "metadata": {
      "needs_background": "light"
     },
     "output_type": "display_data"
    }
   ],
   "source": [
    "plt.figure(figsize=(10, 4))\n",
    "sns.barplot(x=list(actor_1.keys()), y=list(actor_1.values()))\n",
    "plt.ylabel(\"Frequency\")\n",
    "plt.xticks(rotation=90)\n",
    "plt.show()"
   ]
  },
  {
   "cell_type": "code",
   "execution_count": 91,
   "metadata": {},
   "outputs": [],
   "source": [
    "actor_2 = top_actors[\"genres_freq\"].iloc[1]"
   ]
  },
  {
   "cell_type": "code",
   "execution_count": 92,
   "metadata": {},
   "outputs": [
    {
     "data": {
      "image/png": "[encoded data removed]",
      "text/plain": [
       "<Figure size 720x288 with 1 Axes>"
      ]
     },
     "metadata": {
      "needs_background": "light"
     },
     "output_type": "display_data"
    }
   ],
   "source": [
    "plt.figure(figsize=(10, 4))\n",
    "sns.barplot(x=list(actor_2.keys()), y=list(actor_2.values()))\n",
    "plt.ylabel(\"Frequency\")\n",
    "plt.xticks(rotation=90)\n",
    "plt.show()"
   ]
  },
  {
   "cell_type": "markdown",
   "metadata": {},
   "source": [
    "### Based on runtime minutes"
   ]
  },
  {
   "cell_type": "code",
   "execution_count": 93,
   "metadata": {},
   "outputs": [],
   "source": [
    "runtime_per_actor = all_data[[\"nconst\", \"actor_name\", \"runtimeMinutes\"]].copy()"
   ]
  },
  {
   "cell_type": "code",
   "execution_count": 94,
   "metadata": {},
   "outputs": [],
   "source": [
    "runtime_per_actor = runtime_per_actor[runtime_per_actor[\"runtimeMinutes\"] != \"\\\\N\"]"
   ]
  },
  {
   "cell_type": "code",
   "execution_count": 95,
   "metadata": {},
   "outputs": [],
   "source": [
    "runtime_per_actor = runtime_per_actor.groupby([\"nconst\", \"actor_name\"]).agg(list).reset_index()"
   ]
  },
  {
   "cell_type": "code",
   "execution_count": 96,
   "metadata": {},
   "outputs": [],
   "source": [
    "runtime_per_actor[\"runtimeMinutes\"] = runtime_per_actor[\"runtimeMinutes\"].apply(lambda ls: list(map(lambda elem: int(elem), ls)))"
   ]
  },
  {
   "cell_type": "code",
   "execution_count": 97,
   "metadata": {},
   "outputs": [],
   "source": [
    "runtime_per_actor['len'] = runtime_per_actor['runtimeMinutes'].apply(len)\n",
    "runtime_per_actor = runtime_per_actor.sort_values(by='len', ascending=False).drop(columns='len')"
   ]
  },
  {
   "cell_type": "markdown",
   "metadata": {},
   "source": [
    "#### Distribution of some actors"
   ]
  },
  {
   "cell_type": "code",
   "execution_count": 98,
   "metadata": {},
   "outputs": [
    {
     "data": {
      "image/png": "[encoded data removed]",
      "text/plain": [
       "<Figure size 432x288 with 1 Axes>"
      ]
     },
     "metadata": {
      "needs_background": "light"
     },
     "output_type": "display_data"
    }
   ],
   "source": [
    "sns.kdeplot(runtime_per_actor[\"runtimeMinutes\"].iloc[0])\n",
    "plt.ylabel(\"Density\")\n",
    "plt.xlabel(\"Duration\")\n",
    "plt.show()"
   ]
  },
  {
   "cell_type": "code",
   "execution_count": 99,
   "metadata": {},
   "outputs": [
    {
     "data": {
      "image/png": "[encoded data removed]",
      "text/plain": [
       "<Figure size 432x288 with 1 Axes>"
      ]
     },
     "metadata": {
      "needs_background": "light"
     },
     "output_type": "display_data"
    }
   ],
   "source": [
    "sns.kdeplot(runtime_per_actor[\"runtimeMinutes\"].iloc[1])\n",
    "plt.ylabel(\"Density\")\n",
    "plt.xlabel(\"Duration\")\n",
    "plt.show()"
   ]
  },
  {
   "cell_type": "code",
   "execution_count": null,
   "metadata": {},
   "outputs": [],
   "source": []
  }
 ],
 "metadata": {
  "kernelspec": {
   "display_name": "Python 3 (ipykernel)",
   "language": "python",
   "name": "python3"
  },
  "language_info": {
   "codemirror_mode": {
    "name": "ipython",
    "version": 3
   },
   "file_extension": ".py",
   "mimetype": "text/x-python",
   "name": "python",
   "nbconvert_exporter": "python",
   "pygments_lexer": "ipython3",
   "version": "3.10.0"
  }
 },
 "nbformat": 4,
 "nbformat_minor": 4
}
