{
 "cells": [
  {
   "cell_type": "markdown",
   "metadata": {},
   "source": [
    "# Part 0: Requirements"
   ]
  },
  {
   "cell_type": "code",
   "execution_count": 1,
   "metadata": {},
   "outputs": [],
   "source": [
    "# Allow python to import modules from src folders\n",
    "import sys\n",
    "import matplotlib.pyplot as plt\n",
    "import seaborn as sns\n",
    "import json\n",
    "from collections import defaultdict\n",
    "import ast\n",
    "from collections import Counter\n",
    "sys.path.append(\"src/\")\n",
    "\n",
    "from preprocessing.load_dataset import *\n",
    "\n",
    "SAVE_PATH = \"./data/refined\"\n",
    "if not os.path.exists(SAVE_PATH):\n",
    "    os.mkdir(SAVE_PATH)"
   ]
  },
  {
   "cell_type": "markdown",
   "metadata": {},
   "source": [
    "## Download data  \n",
    "Please uncomment the following line to download data"
   ]
  },
  {
   "cell_type": "code",
   "execution_count": null,
   "metadata": {},
   "outputs": [],
   "source": [
    "# %run src/preprocessing/download_dataset.py"
   ]
  },
  {
   "cell_type": "markdown",
   "metadata": {},
   "source": [
    "# Part I: Load, explore and join datasets"
   ]
  },
  {
   "cell_type": "markdown",
   "metadata": {},
   "source": [
    "## CMU dataset\n",
    "\n",
    "We load the 4 `.tsv` and `.txt` files of the CMU dataset into 4 different dataframes"
   ]
  },
  {
   "cell_type": "code",
   "execution_count": 12,
   "metadata": {
    "tags": []
   },
   "outputs": [],
   "source": [
    "characters_df = load_characters_df()\n",
    "movies_df = load_movies_df()\n",
    "plot_df = load_plot_df()\n",
    "tvtropes_df = load_tvtropes_df()"
   ]
  },
  {
   "cell_type": "markdown",
   "metadata": {},
   "source": [
    "### Characters\n",
    "\n",
    "The characters dataframe comes from the CMU movies dataset. This dataframe describes movie characters and provides information about the actor who played the corresponding character. Here is a sample of this dataframe :"
   ]
  },
  {
   "cell_type": "code",
   "execution_count": 13,
   "metadata": {
    "tags": []
   },
   "outputs": [
    {
     "data": {
      "text/html": [
       "<div>\n",
       "<style scoped>\n",
       "    .dataframe tbody tr th:only-of-type {\n",
       "        vertical-align: middle;\n",
       "    }\n",
       "\n",
       "    .dataframe tbody tr th {\n",
       "        vertical-align: top;\n",
       "    }\n",
       "\n",
       "    .dataframe thead th {\n",
       "        text-align: right;\n",
       "    }\n",
       "</style>\n",
       "<table border=\"1\" class=\"dataframe\">\n",
       "  <thead>\n",
       "    <tr style=\"text-align: right;\">\n",
       "      <th></th>\n",
       "      <th>wiki_movie_id</th>\n",
       "      <th>freebase_movie_id</th>\n",
       "      <th>release_date</th>\n",
       "      <th>character_name</th>\n",
       "      <th>actor_birth</th>\n",
       "      <th>actor_gender</th>\n",
       "      <th>actor_height</th>\n",
       "      <th>actor_ethnicity</th>\n",
       "      <th>actor_name</th>\n",
       "      <th>release_actor_age</th>\n",
       "      <th>freebase_map_id</th>\n",
       "      <th>freebase_character_id</th>\n",
       "      <th>freebase_actor_id</th>\n",
       "    </tr>\n",
       "  </thead>\n",
       "  <tbody>\n",
       "    <tr>\n",
       "      <th>106703</th>\n",
       "      <td>12260598</td>\n",
       "      <td>/m/027j9wd</td>\n",
       "      <td>2009-07-01</td>\n",
       "      <td>Gazelle</td>\n",
       "      <td>1978-06-07</td>\n",
       "      <td>M</td>\n",
       "      <td>1.850</td>\n",
       "      <td>NaN</td>\n",
       "      <td>Bill Hader</td>\n",
       "      <td>31.0</td>\n",
       "      <td>/m/0h2kk2m</td>\n",
       "      <td>/m/0h2kk2s</td>\n",
       "      <td>/m/086nl7</td>\n",
       "    </tr>\n",
       "    <tr>\n",
       "      <th>76028</th>\n",
       "      <td>34353767</td>\n",
       "      <td>/m/0h_dply</td>\n",
       "      <td>1989-07-01</td>\n",
       "      <td>NaN</td>\n",
       "      <td>1960-12-12</td>\n",
       "      <td>M</td>\n",
       "      <td>NaN</td>\n",
       "      <td>NaN</td>\n",
       "      <td>Lee Gyeung-young</td>\n",
       "      <td>28.0</td>\n",
       "      <td>/m/0mzkxpb</td>\n",
       "      <td>NaN</td>\n",
       "      <td>/m/0b74vbp</td>\n",
       "    </tr>\n",
       "    <tr>\n",
       "      <th>339459</th>\n",
       "      <td>36421828</td>\n",
       "      <td>/m/0k8cc_l</td>\n",
       "      <td>1998</td>\n",
       "      <td>NaN</td>\n",
       "      <td>1960-10-21</td>\n",
       "      <td>M</td>\n",
       "      <td>NaN</td>\n",
       "      <td>/m/048sp5</td>\n",
       "      <td>Mukesh</td>\n",
       "      <td>37.0</td>\n",
       "      <td>/m/0mzkpwq</td>\n",
       "      <td>NaN</td>\n",
       "      <td>/m/0bwqq2</td>\n",
       "    </tr>\n",
       "    <tr>\n",
       "      <th>63752</th>\n",
       "      <td>13443734</td>\n",
       "      <td>/m/03c5hrk</td>\n",
       "      <td>2007-09-21</td>\n",
       "      <td>NaN</td>\n",
       "      <td>NaN</td>\n",
       "      <td>NaN</td>\n",
       "      <td>NaN</td>\n",
       "      <td>NaN</td>\n",
       "      <td>Graham Feeley</td>\n",
       "      <td>NaN</td>\n",
       "      <td>/m/0gckzj9</td>\n",
       "      <td>NaN</td>\n",
       "      <td>/m/0gbwxvh</td>\n",
       "    </tr>\n",
       "    <tr>\n",
       "      <th>282121</th>\n",
       "      <td>3448857</td>\n",
       "      <td>/m/09c_lj</td>\n",
       "      <td>1997-12-25</td>\n",
       "      <td>Agent Gus Anders</td>\n",
       "      <td>1945-12-17</td>\n",
       "      <td>M</td>\n",
       "      <td>1.829</td>\n",
       "      <td>/m/0x67</td>\n",
       "      <td>Ernie Hudson</td>\n",
       "      <td>52.0</td>\n",
       "      <td>/m/062v1cp</td>\n",
       "      <td>/m/0h5vjt1</td>\n",
       "      <td>/m/03fnyk</td>\n",
       "    </tr>\n",
       "  </tbody>\n",
       "</table>\n",
       "</div>"
      ],
      "text/plain": [
       "        wiki_movie_id freebase_movie_id release_date    character_name  \\\n",
       "106703       12260598        /m/027j9wd   2009-07-01           Gazelle   \n",
       "76028        34353767        /m/0h_dply   1989-07-01               NaN   \n",
       "339459       36421828        /m/0k8cc_l         1998               NaN   \n",
       "63752        13443734        /m/03c5hrk   2007-09-21               NaN   \n",
       "282121        3448857         /m/09c_lj   1997-12-25  Agent Gus Anders   \n",
       "\n",
       "       actor_birth actor_gender  actor_height actor_ethnicity  \\\n",
       "106703  1978-06-07            M         1.850             NaN   \n",
       "76028   1960-12-12            M           NaN             NaN   \n",
       "339459  1960-10-21            M           NaN       /m/048sp5   \n",
       "63752          NaN          NaN           NaN             NaN   \n",
       "282121  1945-12-17            M         1.829         /m/0x67   \n",
       "\n",
       "              actor_name  release_actor_age freebase_map_id  \\\n",
       "106703        Bill Hader               31.0      /m/0h2kk2m   \n",
       "76028   Lee Gyeung-young               28.0      /m/0mzkxpb   \n",
       "339459            Mukesh               37.0      /m/0mzkpwq   \n",
       "63752      Graham Feeley                NaN      /m/0gckzj9   \n",
       "282121      Ernie Hudson               52.0      /m/062v1cp   \n",
       "\n",
       "       freebase_character_id freebase_actor_id  \n",
       "106703            /m/0h2kk2s         /m/086nl7  \n",
       "76028                    NaN        /m/0b74vbp  \n",
       "339459                   NaN         /m/0bwqq2  \n",
       "63752                    NaN        /m/0gbwxvh  \n",
       "282121            /m/0h5vjt1         /m/03fnyk  "
      ]
     },
     "execution_count": 13,
     "metadata": {},
     "output_type": "execute_result"
    }
   ],
   "source": [
    "characters_df.sample(5)"
   ]
  },
  {
   "cell_type": "code",
   "execution_count": 14,
   "metadata": {
    "tags": []
   },
   "outputs": [
    {
     "name": "stdout",
     "output_type": "stream",
     "text": [
      "Number of characters loaded: 450669\n",
      "Number of unique movies: 64330\n",
      "Number of unique actors: 135761\n",
      "\n",
      "Percentage of missing gender: 10.12%\n",
      "Percentage of missing height: 65.65%\n",
      "Percentage of missing ethnicity: 76.47%\n",
      "Percentage of missing age upon release: 35.08%\n",
      "\n",
      "Number of character records for which ethnicity is known: 106058\n",
      "Number of unique actors for which ethnicity is known: 8151\n"
     ]
    }
   ],
   "source": [
    "total_characters = len(characters_df)\n",
    "print(f\"Number of characters loaded: {total_characters}\")\n",
    "print(f\"Number of unique movies: {len(characters_df['wiki_movie_id'].unique())}\")\n",
    "print(f\"Number of unique actors: {len(characters_df['freebase_actor_id'].unique())}\", end=\"\\n\\n\")\n",
    "\n",
    "print(f\"Percentage of missing gender: {characters_df['actor_gender'].isna().sum()/total_characters*100:.2f}%\")\n",
    "print(f\"Percentage of missing height: {characters_df['actor_height'].isna().sum()/total_characters*100:.2f}%\")\n",
    "print(f\"Percentage of missing ethnicity: {characters_df['actor_ethnicity'].isna().sum()/total_characters*100:.2f}%\")\n",
    "print(f\"Percentage of missing age upon release: {characters_df['release_actor_age'].isna().sum()/total_characters*100:.2f}%\", end=\"\\n\\n\")\n",
    "\n",
    "print(f\"Number of character records for which ethnicity is known: {len(characters_df[~characters_df['actor_ethnicity'].isna()])}\")\n",
    "print(f\"Number of unique actors for which ethnicity is known: {len(characters_df[~characters_df['actor_ethnicity'].isna()]['freebase_actor_id'].unique())}\")"
   ]
  },
  {
   "cell_type": "markdown",
   "metadata": {},
   "source": [
    "We can first notice that a great percentage of actor's ethnicity is missing. This may become a problem when we study the impact of actors' ethnicity on the success of a movie. Let's investigate a bit."
   ]
  },
  {
   "cell_type": "code",
   "execution_count": 15,
   "metadata": {},
   "outputs": [
    {
     "data": {
      "image/png": "[encoded data removed]",
      "text/plain": [
       "<Figure size 2000x600 with 1 Axes>"
      ]
     },
     "metadata": {},
     "output_type": "display_data"
    }
   ],
   "source": [
    "actors_ethnicities = characters_df[['freebase_actor_id', 'actor_ethnicity']].dropna().groupby(by='actor_ethnicity').count()\n",
    "actors_ethnicities = actors_ethnicities.sort_values(by='freebase_actor_id')\n",
    "\n",
    "plt.figure(figsize=(20,6))\n",
    "plt.bar(actors_ethnicities.index, actors_ethnicities['freebase_actor_id'], label='')\n",
    "plt.title(\"Actors ethnicities distribution\")\n",
    "plt.yscale('log')\n",
    "plt.xticks([])\n",
    "plt.ylabel(\"Count\")\n",
    "plt.xlabel(\"Ethnicity\")\n",
    "plt.show()"
   ]
  },
  {
   "cell_type": "markdown",
   "metadata": {},
   "source": [
    "As shown, the ethnicities distribution is very heterogeneous. Some ethnicities have only one representative whereas others have more than thousands elements. During analysis, we must be careful on our conclusions as variance gets higher for the ethnicities with fewer representatives. Fortunately, we can quantify uncertainty in our results using tools like p-value and confidence interval."
   ]
  },
  {
   "cell_type": "markdown",
   "metadata": {},
   "source": [
    "### Movies\n",
    "\n",
    "The movies dataframe also comes from the CMU dataset and provides information about movies such as its origins, runtime and box office."
   ]
  },
  {
   "cell_type": "code",
   "execution_count": 16,
   "metadata": {},
   "outputs": [
    {
     "data": {
      "text/html": [
       "<div>\n",
       "<style scoped>\n",
       "    .dataframe tbody tr th:only-of-type {\n",
       "        vertical-align: middle;\n",
       "    }\n",
       "\n",
       "    .dataframe tbody tr th {\n",
       "        vertical-align: top;\n",
       "    }\n",
       "\n",
       "    .dataframe thead th {\n",
       "        text-align: right;\n",
       "    }\n",
       "</style>\n",
       "<table border=\"1\" class=\"dataframe\">\n",
       "  <thead>\n",
       "    <tr style=\"text-align: right;\">\n",
       "      <th></th>\n",
       "      <th>wiki_movie_id</th>\n",
       "      <th>freebase_movie_id</th>\n",
       "      <th>movie_name</th>\n",
       "      <th>movie_release_date</th>\n",
       "      <th>box_office</th>\n",
       "      <th>movie_runtime</th>\n",
       "      <th>movie_languages</th>\n",
       "      <th>movie_countries</th>\n",
       "      <th>movie_genres</th>\n",
       "    </tr>\n",
       "  </thead>\n",
       "  <tbody>\n",
       "    <tr>\n",
       "      <th>33985</th>\n",
       "      <td>26471073</td>\n",
       "      <td>/m/0bbx2_s</td>\n",
       "      <td>Jackal of Nahueltoro</td>\n",
       "      <td>1969-06</td>\n",
       "      <td>NaN</td>\n",
       "      <td>95.0</td>\n",
       "      <td>{'/m/06nm1': 'Spanish Language'}</td>\n",
       "      <td>{'/m/0b90_r': 'Mexico', '/m/01p1v': 'Chile'}</td>\n",
       "      <td>{'/m/0lsxr': 'Crime Fiction', '/m/02wtdps': 'C...</td>\n",
       "    </tr>\n",
       "    <tr>\n",
       "      <th>42536</th>\n",
       "      <td>10774002</td>\n",
       "      <td>/m/02qpl0_</td>\n",
       "      <td>Congo Bill</td>\n",
       "      <td>NaN</td>\n",
       "      <td>NaN</td>\n",
       "      <td>NaN</td>\n",
       "      <td>{'/m/02h40lc': 'English Language'}</td>\n",
       "      <td>{'/m/09c7w0': 'United States of America'}</td>\n",
       "      <td>{'/m/02kdv5l': 'Action', '/m/03k9fj': 'Adventu...</td>\n",
       "    </tr>\n",
       "    <tr>\n",
       "      <th>14094</th>\n",
       "      <td>28373852</td>\n",
       "      <td>/m/0crfz50</td>\n",
       "      <td>Haškovy povídky ze starého mocnářství</td>\n",
       "      <td>1952</td>\n",
       "      <td>NaN</td>\n",
       "      <td>89.0</td>\n",
       "      <td>{'/m/01wgr': 'Czech Language'}</td>\n",
       "      <td>{'/m/01mk6': 'Czechoslovakia'}</td>\n",
       "      <td>{'/m/05p553': 'Comedy film'}</td>\n",
       "    </tr>\n",
       "    <tr>\n",
       "      <th>3189</th>\n",
       "      <td>36402289</td>\n",
       "      <td>/m/0k9bc06</td>\n",
       "      <td>Njai Dasima</td>\n",
       "      <td>1929-11</td>\n",
       "      <td>NaN</td>\n",
       "      <td>NaN</td>\n",
       "      <td>{'/m/06ppq': 'Silent film', '/m/097kp': 'Indon...</td>\n",
       "      <td>{'/m/03ryn': 'Indonesia'}</td>\n",
       "      <td>{'/m/06ppq': 'Silent film', '/m/07s9rl0': 'Dra...</td>\n",
       "    </tr>\n",
       "    <tr>\n",
       "      <th>81022</th>\n",
       "      <td>19273389</td>\n",
       "      <td>/m/04ljckn</td>\n",
       "      <td>Made in Paris</td>\n",
       "      <td>1966</td>\n",
       "      <td>NaN</td>\n",
       "      <td>103.0</td>\n",
       "      <td>{'/m/02h40lc': 'English Language'}</td>\n",
       "      <td>{'/m/09c7w0': 'United States of America'}</td>\n",
       "      <td>{'/m/06cvj': 'Romantic comedy'}</td>\n",
       "    </tr>\n",
       "  </tbody>\n",
       "</table>\n",
       "</div>"
      ],
      "text/plain": [
       "       wiki_movie_id freebase_movie_id                             movie_name  \\\n",
       "33985       26471073        /m/0bbx2_s                   Jackal of Nahueltoro   \n",
       "42536       10774002        /m/02qpl0_                             Congo Bill   \n",
       "14094       28373852        /m/0crfz50  Haškovy povídky ze starého mocnářství   \n",
       "3189        36402289        /m/0k9bc06                            Njai Dasima   \n",
       "81022       19273389        /m/04ljckn                          Made in Paris   \n",
       "\n",
       "      movie_release_date  box_office  movie_runtime  \\\n",
       "33985            1969-06         NaN           95.0   \n",
       "42536                NaN         NaN            NaN   \n",
       "14094               1952         NaN           89.0   \n",
       "3189             1929-11         NaN            NaN   \n",
       "81022               1966         NaN          103.0   \n",
       "\n",
       "                                         movie_languages  \\\n",
       "33985                   {'/m/06nm1': 'Spanish Language'}   \n",
       "42536                 {'/m/02h40lc': 'English Language'}   \n",
       "14094                     {'/m/01wgr': 'Czech Language'}   \n",
       "3189   {'/m/06ppq': 'Silent film', '/m/097kp': 'Indon...   \n",
       "81022                 {'/m/02h40lc': 'English Language'}   \n",
       "\n",
       "                                    movie_countries  \\\n",
       "33985  {'/m/0b90_r': 'Mexico', '/m/01p1v': 'Chile'}   \n",
       "42536     {'/m/09c7w0': 'United States of America'}   \n",
       "14094                {'/m/01mk6': 'Czechoslovakia'}   \n",
       "3189                      {'/m/03ryn': 'Indonesia'}   \n",
       "81022     {'/m/09c7w0': 'United States of America'}   \n",
       "\n",
       "                                            movie_genres  \n",
       "33985  {'/m/0lsxr': 'Crime Fiction', '/m/02wtdps': 'C...  \n",
       "42536  {'/m/02kdv5l': 'Action', '/m/03k9fj': 'Adventu...  \n",
       "14094                       {'/m/05p553': 'Comedy film'}  \n",
       "3189   {'/m/06ppq': 'Silent film', '/m/07s9rl0': 'Dra...  \n",
       "81022                    {'/m/06cvj': 'Romantic comedy'}  "
      ]
     },
     "execution_count": 16,
     "metadata": {},
     "output_type": "execute_result"
    }
   ],
   "source": [
    "movies_df.sample(5)"
   ]
  },
  {
   "cell_type": "code",
   "execution_count": 19,
   "metadata": {},
   "outputs": [
    {
     "name": "stdout",
     "output_type": "stream",
     "text": [
      "Number of movies loaded: 81741\n",
      "Percentage of missing box office revenue: 89.72%\n",
      "Number of movies for which we have matching character data: 64330\n"
     ]
    }
   ],
   "source": [
    "total_movies = len(movies_df)\n",
    "print(f\"Number of movies loaded: {total_movies}\")\n",
    "print(f\"Percentage of missing box office revenue: {movies_df['box_office'].isna().sum()/total_movies*100:.2f}%\")\n",
    "print(f\"Number of movies for which we have matching character data: {len(movies_df.merge(characters_df, how='inner', on=['wiki_movie_id', 'freebase_movie_id'])['freebase_movie_id'].unique())}\")"
   ]
  },
  {
   "cell_type": "markdown",
   "metadata": {},
   "source": [
    "A great proportion of box office revenue data is missing (almost 90%). This makes sense as lots of movies are not shown in cinemas such as TV movies, short movies. Indeed, to get a movie to the box office, one needs to work with studios or convince distributors to distribute the movie.\n",
    "\n",
    "Thus, using box office as a way to measure a movie's performance may be biased because we already filter a specific type of movie. Furthermore, box office does not necessarily reflect the quality of a movie. Indeed some movies may not get a high box office revenue because of a lack of advertising. To fix this issue, we will use users rating from the IMDb database."
   ]
  },
  {
   "cell_type": "code",
   "execution_count": 20,
   "metadata": {},
   "outputs": [],
   "source": [
    "# Extract years from the release date of movies\n",
    "movies_df['movie_release_year'] = movies_df[~movies_df['movie_release_date'].isna()]['movie_release_date'].astype(str).str[:4].astype(int)"
   ]
  },
  {
   "cell_type": "code",
   "execution_count": 21,
   "metadata": {},
   "outputs": [
    {
     "data": {
      "image/png": "[encoded data removed]",
      "text/plain": [
       "<Figure size 640x480 with 1 Axes>"
      ]
     },
     "metadata": {},
     "output_type": "display_data"
    }
   ],
   "source": [
    "plt.hist(movies_df['movie_release_year'], bins=100)\n",
    "plt.yscale(\"log\")\n",
    "plt.xlabel(\"Year\")\n",
    "plt.ylabel(\"Count\")\n",
    "plt.title(\"Movies count per year\")\n",
    "plt.show()"
   ]
  },
  {
   "cell_type": "markdown",
   "metadata": {},
   "source": [
    "We notice that a movie has been produced 700 years before the invention of potography ! Let's investigate:"
   ]
  },
  {
   "cell_type": "code",
   "execution_count": 22,
   "metadata": {},
   "outputs": [
    {
     "data": {
      "text/html": [
       "<div>\n",
       "<style scoped>\n",
       "    .dataframe tbody tr th:only-of-type {\n",
       "        vertical-align: middle;\n",
       "    }\n",
       "\n",
       "    .dataframe tbody tr th {\n",
       "        vertical-align: top;\n",
       "    }\n",
       "\n",
       "    .dataframe thead th {\n",
       "        text-align: right;\n",
       "    }\n",
       "</style>\n",
       "<table border=\"1\" class=\"dataframe\">\n",
       "  <thead>\n",
       "    <tr style=\"text-align: right;\">\n",
       "      <th></th>\n",
       "      <th>wiki_movie_id</th>\n",
       "      <th>freebase_movie_id</th>\n",
       "      <th>movie_name</th>\n",
       "      <th>movie_release_date</th>\n",
       "      <th>box_office</th>\n",
       "      <th>movie_runtime</th>\n",
       "      <th>movie_languages</th>\n",
       "      <th>movie_countries</th>\n",
       "      <th>movie_genres</th>\n",
       "      <th>movie_release_year</th>\n",
       "    </tr>\n",
       "  </thead>\n",
       "  <tbody>\n",
       "    <tr>\n",
       "      <th>62836</th>\n",
       "      <td>29666067</td>\n",
       "      <td>/m/0fphzrf</td>\n",
       "      <td>Hunting Season</td>\n",
       "      <td>1010-12-02</td>\n",
       "      <td>12160978.0</td>\n",
       "      <td>140.0</td>\n",
       "      <td>{'/m/02hwyss': 'Turkish Language', '/m/02h40lc...</td>\n",
       "      <td>{'/m/01znc_': 'Turkey'}</td>\n",
       "      <td>{'/m/0lsxr': 'Crime Fiction', '/m/02n4kr': 'My...</td>\n",
       "      <td>1010.0</td>\n",
       "    </tr>\n",
       "  </tbody>\n",
       "</table>\n",
       "</div>"
      ],
      "text/plain": [
       "       wiki_movie_id freebase_movie_id      movie_name movie_release_date  \\\n",
       "62836       29666067        /m/0fphzrf  Hunting Season         1010-12-02   \n",
       "\n",
       "       box_office  movie_runtime  \\\n",
       "62836  12160978.0          140.0   \n",
       "\n",
       "                                         movie_languages  \\\n",
       "62836  {'/m/02hwyss': 'Turkish Language', '/m/02h40lc...   \n",
       "\n",
       "               movie_countries  \\\n",
       "62836  {'/m/01znc_': 'Turkey'}   \n",
       "\n",
       "                                            movie_genres  movie_release_year  \n",
       "62836  {'/m/0lsxr': 'Crime Fiction', '/m/02n4kr': 'My...              1010.0  "
      ]
     },
     "execution_count": 22,
     "metadata": {},
     "output_type": "execute_result"
    }
   ],
   "source": [
    "wrong_dates = movies_df[movies_df['movie_release_year'] < 1800].index\n",
    "movies_df.loc[wrong_dates]"
   ]
  },
  {
   "cell_type": "markdown",
   "metadata": {},
   "source": [
    "By googling the movie's name, we find that `Hunting season` should be released in 2010 (instead of 1010). This is obviously a typo and 1010 should be replaced by 2010."
   ]
  },
  {
   "cell_type": "code",
   "execution_count": 23,
   "metadata": {},
   "outputs": [],
   "source": [
    "# A movie that has the release date 1010. We fix the typo to 2010\n",
    "movies_df.loc[wrong_dates, 'movie_release_year']= 2010\n",
    "movies_df.loc[wrong_dates, 'movie_release_date'] ='2010-12-02'"
   ]
  },
  {
   "cell_type": "code",
   "execution_count": 24,
   "metadata": {},
   "outputs": [
    {
     "data": {
      "image/png": "[encoded data removed]",
      "text/plain": [
       "<Figure size 1200x600 with 1 Axes>"
      ]
     },
     "metadata": {},
     "output_type": "display_data"
    }
   ],
   "source": [
    "n_years = len(movies_df['movie_release_year'].dropna().unique())\n",
    "\n",
    "plt.figure(figsize=(12, 6))\n",
    "plt.hist(movies_df['movie_release_year'], bins=n_years)\n",
    "plt.xlabel(\"Year\")\n",
    "plt.ylabel(\"Count\")\n",
    "plt.title(\"Movies count per year\")\n",
    "plt.show()"
   ]
  },
  {
   "cell_type": "markdown",
   "metadata": {},
   "source": [
    "There are significantly more movies released after 1990 than before in our dataset."
   ]
  },
  {
   "cell_type": "markdown",
   "metadata": {},
   "source": [
    "### Plot\n",
    "\n",
    "The plot dataframe comes from the CMU dataset and provides a summary of the plot of a given movie."
   ]
  },
  {
   "cell_type": "code",
   "execution_count": 25,
   "metadata": {
    "tags": []
   },
   "outputs": [
    {
     "data": {
      "text/html": [
       "<div>\n",
       "<style scoped>\n",
       "    .dataframe tbody tr th:only-of-type {\n",
       "        vertical-align: middle;\n",
       "    }\n",
       "\n",
       "    .dataframe tbody tr th {\n",
       "        vertical-align: top;\n",
       "    }\n",
       "\n",
       "    .dataframe thead th {\n",
       "        text-align: right;\n",
       "    }\n",
       "</style>\n",
       "<table border=\"1\" class=\"dataframe\">\n",
       "  <thead>\n",
       "    <tr style=\"text-align: right;\">\n",
       "      <th></th>\n",
       "      <th>wiki_movie_id</th>\n",
       "      <th>plot_summary</th>\n",
       "    </tr>\n",
       "  </thead>\n",
       "  <tbody>\n",
       "    <tr>\n",
       "      <th>25286</th>\n",
       "      <td>27904601</td>\n",
       "      <td>Thomas Archer's  life changes due to a horrifi...</td>\n",
       "    </tr>\n",
       "    <tr>\n",
       "      <th>41050</th>\n",
       "      <td>35818387</td>\n",
       "      <td>Four stories, four dramatic destinies about re...</td>\n",
       "    </tr>\n",
       "    <tr>\n",
       "      <th>33237</th>\n",
       "      <td>20678499</td>\n",
       "      <td>Set in late 19th century Vienna, the story foc...</td>\n",
       "    </tr>\n",
       "    <tr>\n",
       "      <th>29297</th>\n",
       "      <td>22114003</td>\n",
       "      <td>In 1906 San Francisco, Frisco Jenny Sandoval ,...</td>\n",
       "    </tr>\n",
       "    <tr>\n",
       "      <th>10427</th>\n",
       "      <td>9612611</td>\n",
       "      <td>Mysterious pilot, The Eagle, attempts to sabot...</td>\n",
       "    </tr>\n",
       "  </tbody>\n",
       "</table>\n",
       "</div>"
      ],
      "text/plain": [
       "       wiki_movie_id                                       plot_summary\n",
       "25286       27904601  Thomas Archer's  life changes due to a horrifi...\n",
       "41050       35818387  Four stories, four dramatic destinies about re...\n",
       "33237       20678499  Set in late 19th century Vienna, the story foc...\n",
       "29297       22114003  In 1906 San Francisco, Frisco Jenny Sandoval ,...\n",
       "10427        9612611  Mysterious pilot, The Eagle, attempts to sabot..."
      ]
     },
     "execution_count": 25,
     "metadata": {},
     "output_type": "execute_result"
    }
   ],
   "source": [
    "plot_df.sample(5)"
   ]
  },
  {
   "cell_type": "code",
   "execution_count": 26,
   "metadata": {},
   "outputs": [
    {
     "name": "stdout",
     "output_type": "stream",
     "text": [
      "Number of plot summaries loaded: 42303\n"
     ]
    }
   ],
   "source": [
    "total_plot = len(plot_df)\n",
    "print(f\"Number of plot summaries loaded: {total_plot}\")"
   ]
  },
  {
   "cell_type": "markdown",
   "metadata": {},
   "source": [
    "### Tropes\n",
    "\n",
    "The tvtropes dataframe is the one used by the CMU researchers to validate their personas learning algorithm. Unfortunately, this dataset does not contain a lot of tvtropes and can not be used for our analysis. Thus we need other databases to get the persona of movie characters."
   ]
  },
  {
   "cell_type": "code",
   "execution_count": 27,
   "metadata": {
    "scrolled": true,
    "tags": []
   },
   "outputs": [
    {
     "data": {
      "text/html": [
       "<div>\n",
       "<style scoped>\n",
       "    .dataframe tbody tr th:only-of-type {\n",
       "        vertical-align: middle;\n",
       "    }\n",
       "\n",
       "    .dataframe tbody tr th {\n",
       "        vertical-align: top;\n",
       "    }\n",
       "\n",
       "    .dataframe thead th {\n",
       "        text-align: right;\n",
       "    }\n",
       "</style>\n",
       "<table border=\"1\" class=\"dataframe\">\n",
       "  <thead>\n",
       "    <tr style=\"text-align: right;\">\n",
       "      <th></th>\n",
       "      <th>trope_name</th>\n",
       "      <th>character_data</th>\n",
       "    </tr>\n",
       "  </thead>\n",
       "  <tbody>\n",
       "    <tr>\n",
       "      <th>279</th>\n",
       "      <td>granola_person</td>\n",
       "      <td>{'char': 'Lotte Schwartz', 'movie': 'Being Joh...</td>\n",
       "    </tr>\n",
       "    <tr>\n",
       "      <th>489</th>\n",
       "      <td>warrior_poet</td>\n",
       "      <td>{'char': 'Broken Sword', 'movie': 'Hero', 'id'...</td>\n",
       "    </tr>\n",
       "    <tr>\n",
       "      <th>68</th>\n",
       "      <td>byronic_hero</td>\n",
       "      <td>{'char': 'Brand Hauser', 'movie': 'War Inc.', ...</td>\n",
       "    </tr>\n",
       "    <tr>\n",
       "      <th>207</th>\n",
       "      <td>dumb_blonde</td>\n",
       "      <td>{'char': 'Suzanne Stone Maretto', 'movie': 'To...</td>\n",
       "    </tr>\n",
       "    <tr>\n",
       "      <th>210</th>\n",
       "      <td>dumb_blonde</td>\n",
       "      <td>{'char': 'Lina Lamont', 'movie': 'Singin' in t...</td>\n",
       "    </tr>\n",
       "  </tbody>\n",
       "</table>\n",
       "</div>"
      ],
      "text/plain": [
       "         trope_name                                     character_data\n",
       "279  granola_person  {'char': 'Lotte Schwartz', 'movie': 'Being Joh...\n",
       "489    warrior_poet  {'char': 'Broken Sword', 'movie': 'Hero', 'id'...\n",
       "68     byronic_hero  {'char': 'Brand Hauser', 'movie': 'War Inc.', ...\n",
       "207     dumb_blonde  {'char': 'Suzanne Stone Maretto', 'movie': 'To...\n",
       "210     dumb_blonde  {'char': 'Lina Lamont', 'movie': 'Singin' in t..."
      ]
     },
     "execution_count": 27,
     "metadata": {},
     "output_type": "execute_result"
    }
   ],
   "source": [
    "tvtropes_df.sample(5)"
   ]
  },
  {
   "cell_type": "code",
   "execution_count": 28,
   "metadata": {},
   "outputs": [
    {
     "name": "stdout",
     "output_type": "stream",
     "text": [
      "Number of tropes loaded: 501\n"
     ]
    }
   ],
   "source": [
    "total_tropes = len(tvtropes_df)\n",
    "print(f\"Number of tropes loaded: {total_tropes}\")"
   ]
  },
  {
   "cell_type": "markdown",
   "metadata": {},
   "source": [
    "## IMDB dataset\n",
    "\n",
    "We load the 4 `.tsv` files of the IMDB dataset into 4 different dataframes"
   ]
  },
  {
   "cell_type": "code",
   "execution_count": 29,
   "metadata": {
    "tags": []
   },
   "outputs": [],
   "source": [
    "imdb_ratings_df = load_imdb_ratings()\n",
    "imdb_title_df = load_imdb_title_basics()\n",
    "imdb_principals_df = load_imdb_title_principals()\n",
    "imdb_people_df = load_imdb_person_basics()"
   ]
  },
  {
   "cell_type": "markdown",
   "metadata": {},
   "source": [
    "### Ratings\n",
    "\n",
    "First let's explore the ratings dataframe."
   ]
  },
  {
   "cell_type": "code",
   "execution_count": 30,
   "metadata": {},
   "outputs": [
    {
     "data": {
      "text/html": [
       "<div>\n",
       "<style scoped>\n",
       "    .dataframe tbody tr th:only-of-type {\n",
       "        vertical-align: middle;\n",
       "    }\n",
       "\n",
       "    .dataframe tbody tr th {\n",
       "        vertical-align: top;\n",
       "    }\n",
       "\n",
       "    .dataframe thead th {\n",
       "        text-align: right;\n",
       "    }\n",
       "</style>\n",
       "<table border=\"1\" class=\"dataframe\">\n",
       "  <thead>\n",
       "    <tr style=\"text-align: right;\">\n",
       "      <th></th>\n",
       "      <th>tconst</th>\n",
       "      <th>averageRating</th>\n",
       "      <th>numVotes</th>\n",
       "    </tr>\n",
       "  </thead>\n",
       "  <tbody>\n",
       "    <tr>\n",
       "      <th>87588</th>\n",
       "      <td>tt0117351</td>\n",
       "      <td>5.7</td>\n",
       "      <td>1180</td>\n",
       "    </tr>\n",
       "    <tr>\n",
       "      <th>11810</th>\n",
       "      <td>tt0027865</td>\n",
       "      <td>6.5</td>\n",
       "      <td>63</td>\n",
       "    </tr>\n",
       "    <tr>\n",
       "      <th>1052594</th>\n",
       "      <td>tt3690888</td>\n",
       "      <td>7.7</td>\n",
       "      <td>8</td>\n",
       "    </tr>\n",
       "    <tr>\n",
       "      <th>787217</th>\n",
       "      <td>tt1745004</td>\n",
       "      <td>6.8</td>\n",
       "      <td>33</td>\n",
       "    </tr>\n",
       "    <tr>\n",
       "      <th>428354</th>\n",
       "      <td>tt0908295</td>\n",
       "      <td>8.8</td>\n",
       "      <td>10</td>\n",
       "    </tr>\n",
       "  </tbody>\n",
       "</table>\n",
       "</div>"
      ],
      "text/plain": [
       "            tconst  averageRating  numVotes\n",
       "87588    tt0117351            5.7      1180\n",
       "11810    tt0027865            6.5        63\n",
       "1052594  tt3690888            7.7         8\n",
       "787217   tt1745004            6.8        33\n",
       "428354   tt0908295            8.8        10"
      ]
     },
     "execution_count": 30,
     "metadata": {},
     "output_type": "execute_result"
    }
   ],
   "source": [
    "imdb_ratings_df.sample(5)"
   ]
  },
  {
   "cell_type": "code",
   "execution_count": 36,
   "metadata": {},
   "outputs": [
    {
     "name": "stdout",
     "output_type": "stream",
     "text": [
      "We have 1368573 movies for which we have a rating.\n"
     ]
    },
    {
     "data": {
      "image/png": "[encoded data removed]",
      "text/plain": [
       "<Figure size 640x480 with 1 Axes>"
      ]
     },
     "metadata": {},
     "output_type": "display_data"
    },
    {
     "data": {
      "image/png": "[encoded data removed]",
      "text/plain": [
       "<Figure size 640x480 with 1 Axes>"
      ]
     },
     "metadata": {},
     "output_type": "display_data"
    }
   ],
   "source": [
    "total_ratings = len(imdb_ratings_df)\n",
    "print(f\"We have {total_ratings} movies for which we have a rating.\")\n",
    "\n",
    "# Check the distribution of grades\n",
    "sns.histplot(data=imdb_ratings_df, x=\"averageRating\", bins=50)\n",
    "\n",
    "plt.title(\"Distribution of movie ratings\")\n",
    "plt.xlabel(\"Rating\")\n",
    "plt.ylabel(\"Number of movies\")\n",
    "plt.show()\n",
    "\n",
    "# Check the distribution of votes\n",
    "sns.histplot(data=imdb_ratings_df, x=\"numVotes\", bins=100, log_scale=True)\n",
    "plt.yscale(\"log\")\n",
    "\n",
    "plt.title(\"Number of movies over number of votes\")\n",
    "plt.xlabel(\"Number of votes\")\n",
    "plt.ylabel(\"Number of movies\")\n",
    "plt.show()"
   ]
  },
  {
   "cell_type": "markdown",
   "metadata": {},
   "source": [
    "### Title"
   ]
  },
  {
   "cell_type": "code",
   "execution_count": 37,
   "metadata": {},
   "outputs": [
    {
     "data": {
      "text/html": [
       "<div>\n",
       "<style scoped>\n",
       "    .dataframe tbody tr th:only-of-type {\n",
       "        vertical-align: middle;\n",
       "    }\n",
       "\n",
       "    .dataframe tbody tr th {\n",
       "        vertical-align: top;\n",
       "    }\n",
       "\n",
       "    .dataframe thead th {\n",
       "        text-align: right;\n",
       "    }\n",
       "</style>\n",
       "<table border=\"1\" class=\"dataframe\">\n",
       "  <thead>\n",
       "    <tr style=\"text-align: right;\">\n",
       "      <th></th>\n",
       "      <th>tconst</th>\n",
       "      <th>titleType</th>\n",
       "      <th>primaryTitle</th>\n",
       "      <th>originalTitle</th>\n",
       "      <th>isAdult</th>\n",
       "      <th>startYear</th>\n",
       "      <th>endYear</th>\n",
       "      <th>runtimeMinutes</th>\n",
       "      <th>genres</th>\n",
       "    </tr>\n",
       "  </thead>\n",
       "  <tbody>\n",
       "    <tr>\n",
       "      <th>5851</th>\n",
       "      <td>tt0005922</td>\n",
       "      <td>movie</td>\n",
       "      <td>The Pretty Sister of Jose</td>\n",
       "      <td>The Pretty Sister of Jose</td>\n",
       "      <td>0</td>\n",
       "      <td>1915</td>\n",
       "      <td>\\N</td>\n",
       "      <td>50</td>\n",
       "      <td>Drama,Romance</td>\n",
       "    </tr>\n",
       "    <tr>\n",
       "      <th>8726740</th>\n",
       "      <td>tt6447436</td>\n",
       "      <td>movie</td>\n",
       "      <td>El Caído del Cielo</td>\n",
       "      <td>El Caído del Cielo</td>\n",
       "      <td>0</td>\n",
       "      <td>2016</td>\n",
       "      <td>\\N</td>\n",
       "      <td>\\N</td>\n",
       "      <td>\\N</td>\n",
       "    </tr>\n",
       "    <tr>\n",
       "      <th>121726</th>\n",
       "      <td>tt0125030</td>\n",
       "      <td>movie</td>\n",
       "      <td>Calling Paul Temple</td>\n",
       "      <td>Calling Paul Temple</td>\n",
       "      <td>0</td>\n",
       "      <td>1948</td>\n",
       "      <td>\\N</td>\n",
       "      <td>92</td>\n",
       "      <td>Crime,Mystery</td>\n",
       "    </tr>\n",
       "    <tr>\n",
       "      <th>1785461</th>\n",
       "      <td>tt1147488</td>\n",
       "      <td>movie</td>\n",
       "      <td>Carlos Fuentes... Identidad y genio</td>\n",
       "      <td>Carlos Fuentes... Identidad y genio</td>\n",
       "      <td>0</td>\n",
       "      <td>2007</td>\n",
       "      <td>\\N</td>\n",
       "      <td>52</td>\n",
       "      <td>Biography,Documentary</td>\n",
       "    </tr>\n",
       "    <tr>\n",
       "      <th>213560</th>\n",
       "      <td>tt0222936</td>\n",
       "      <td>movie</td>\n",
       "      <td>Le capitaine Santé et les 4 groupes d'aliments</td>\n",
       "      <td>Le capitaine Santé et les 4 groupes d'aliments</td>\n",
       "      <td>0</td>\n",
       "      <td>1990</td>\n",
       "      <td>\\N</td>\n",
       "      <td>\\N</td>\n",
       "      <td>\\N</td>\n",
       "    </tr>\n",
       "  </tbody>\n",
       "</table>\n",
       "</div>"
      ],
      "text/plain": [
       "            tconst titleType                                    primaryTitle  \\\n",
       "5851     tt0005922     movie                       The Pretty Sister of Jose   \n",
       "8726740  tt6447436     movie                              El Caído del Cielo   \n",
       "121726   tt0125030     movie                             Calling Paul Temple   \n",
       "1785461  tt1147488     movie             Carlos Fuentes... Identidad y genio   \n",
       "213560   tt0222936     movie  Le capitaine Santé et les 4 groupes d'aliments   \n",
       "\n",
       "                                          originalTitle isAdult startYear  \\\n",
       "5851                          The Pretty Sister of Jose       0      1915   \n",
       "8726740                              El Caído del Cielo       0      2016   \n",
       "121726                              Calling Paul Temple       0      1948   \n",
       "1785461             Carlos Fuentes... Identidad y genio       0      2007   \n",
       "213560   Le capitaine Santé et les 4 groupes d'aliments       0      1990   \n",
       "\n",
       "        endYear runtimeMinutes                 genres  \n",
       "5851         \\N             50          Drama,Romance  \n",
       "8726740      \\N             \\N                     \\N  \n",
       "121726       \\N             92          Crime,Mystery  \n",
       "1785461      \\N             52  Biography,Documentary  \n",
       "213560       \\N             \\N                     \\N  "
      ]
     },
     "execution_count": 37,
     "metadata": {},
     "output_type": "execute_result"
    }
   ],
   "source": [
    "imdb_title_df.sample(5)"
   ]
  },
  {
   "cell_type": "code",
   "execution_count": 38,
   "metadata": {},
   "outputs": [],
   "source": [
    "# Remove adult content\n",
    "imdb_title_df = imdb_title_df[imdb_title_df[\"isAdult\"].astype(int) == 0]"
   ]
  },
  {
   "cell_type": "code",
   "execution_count": 39,
   "metadata": {},
   "outputs": [
    {
     "name": "stdout",
     "output_type": "stream",
     "text": [
      "We have 652869 movie titles\n"
     ]
    }
   ],
   "source": [
    "total_title = len(imdb_title_df)\n",
    "print(f\"We have {total_title} movie titles\")"
   ]
  },
  {
   "cell_type": "markdown",
   "metadata": {},
   "source": [
    "### Principals"
   ]
  },
  {
   "cell_type": "code",
   "execution_count": 40,
   "metadata": {},
   "outputs": [
    {
     "data": {
      "text/html": [
       "<div>\n",
       "<style scoped>\n",
       "    .dataframe tbody tr th:only-of-type {\n",
       "        vertical-align: middle;\n",
       "    }\n",
       "\n",
       "    .dataframe tbody tr th {\n",
       "        vertical-align: top;\n",
       "    }\n",
       "\n",
       "    .dataframe thead th {\n",
       "        text-align: right;\n",
       "    }\n",
       "</style>\n",
       "<table border=\"1\" class=\"dataframe\">\n",
       "  <thead>\n",
       "    <tr style=\"text-align: right;\">\n",
       "      <th></th>\n",
       "      <th>tconst</th>\n",
       "      <th>ordering</th>\n",
       "      <th>nconst</th>\n",
       "      <th>category</th>\n",
       "      <th>job</th>\n",
       "      <th>characters</th>\n",
       "    </tr>\n",
       "  </thead>\n",
       "  <tbody>\n",
       "    <tr>\n",
       "      <th>43196975</th>\n",
       "      <td>tt3721064</td>\n",
       "      <td>5</td>\n",
       "      <td>nm6492225</td>\n",
       "      <td>writer</td>\n",
       "      <td>manga</td>\n",
       "      <td>\\N</td>\n",
       "    </tr>\n",
       "    <tr>\n",
       "      <th>24365125</th>\n",
       "      <td>tt15544556</td>\n",
       "      <td>4</td>\n",
       "      <td>nm12965942</td>\n",
       "      <td>producer</td>\n",
       "      <td>producer</td>\n",
       "      <td>\\N</td>\n",
       "    </tr>\n",
       "    <tr>\n",
       "      <th>6531677</th>\n",
       "      <td>tt0875947</td>\n",
       "      <td>1</td>\n",
       "      <td>nm2281916</td>\n",
       "      <td>actor</td>\n",
       "      <td>\\N</td>\n",
       "      <td>[\"Kamen Rider Kabuto\",\"Souji Tendou\"]</td>\n",
       "    </tr>\n",
       "    <tr>\n",
       "      <th>55433967</th>\n",
       "      <td>tt8678374</td>\n",
       "      <td>10</td>\n",
       "      <td>nm0140092</td>\n",
       "      <td>writer</td>\n",
       "      <td>\\N</td>\n",
       "      <td>\\N</td>\n",
       "    </tr>\n",
       "    <tr>\n",
       "      <th>26025650</th>\n",
       "      <td>tt16380010</td>\n",
       "      <td>6</td>\n",
       "      <td>nm10053110</td>\n",
       "      <td>writer</td>\n",
       "      <td>adaptation</td>\n",
       "      <td>\\N</td>\n",
       "    </tr>\n",
       "  </tbody>\n",
       "</table>\n",
       "</div>"
      ],
      "text/plain": [
       "              tconst  ordering      nconst  category         job  \\\n",
       "43196975   tt3721064         5   nm6492225    writer       manga   \n",
       "24365125  tt15544556         4  nm12965942  producer    producer   \n",
       "6531677    tt0875947         1   nm2281916     actor          \\N   \n",
       "55433967   tt8678374        10   nm0140092    writer          \\N   \n",
       "26025650  tt16380010         6  nm10053110    writer  adaptation   \n",
       "\n",
       "                                     characters  \n",
       "43196975                                     \\N  \n",
       "24365125                                     \\N  \n",
       "6531677   [\"Kamen Rider Kabuto\",\"Souji Tendou\"]  \n",
       "55433967                                     \\N  \n",
       "26025650                                     \\N  "
      ]
     },
     "execution_count": 40,
     "metadata": {},
     "output_type": "execute_result"
    }
   ],
   "source": [
    "imdb_principals_df.sample(5)"
   ]
  },
  {
   "cell_type": "code",
   "execution_count": 42,
   "metadata": {},
   "outputs": [
    {
     "name": "stdout",
     "output_type": "stream",
     "text": [
      "We have 59057327 principals records\n",
      "We have 12 categories\n",
      "We have 5179687 unique persons\n",
      "\n",
      "We have 51.89% of missing characters\n"
     ]
    }
   ],
   "source": [
    "total_principals = len(imdb_principals_df)\n",
    "print(f\"We have {total_principals} principals records\")\n",
    "print(f\"We have {len(imdb_principals_df['category'].unique())} categories\")\n",
    "print(f\"We have {len(imdb_principals_df['nconst'].unique())} unique persons\", end=\"\\n\\n\")\n",
    "\n",
    "missing_characters = len(imdb_principals_df[imdb_principals_df['characters'] == \"\\\\N\"])\n",
    "print(f\"We have {missing_characters/total_principals*100:.2f}% of missing characters\")"
   ]
  },
  {
   "cell_type": "markdown",
   "metadata": {},
   "source": [
    "### People"
   ]
  },
  {
   "cell_type": "code",
   "execution_count": 43,
   "metadata": {},
   "outputs": [
    {
     "data": {
      "text/html": [
       "<div>\n",
       "<style scoped>\n",
       "    .dataframe tbody tr th:only-of-type {\n",
       "        vertical-align: middle;\n",
       "    }\n",
       "\n",
       "    .dataframe tbody tr th {\n",
       "        vertical-align: top;\n",
       "    }\n",
       "\n",
       "    .dataframe thead th {\n",
       "        text-align: right;\n",
       "    }\n",
       "</style>\n",
       "<table border=\"1\" class=\"dataframe\">\n",
       "  <thead>\n",
       "    <tr style=\"text-align: right;\">\n",
       "      <th></th>\n",
       "      <th>nconst</th>\n",
       "      <th>primaryName</th>\n",
       "      <th>birthYear</th>\n",
       "      <th>deathYear</th>\n",
       "      <th>primaryProfession</th>\n",
       "      <th>knownForTitles</th>\n",
       "    </tr>\n",
       "  </thead>\n",
       "  <tbody>\n",
       "    <tr>\n",
       "      <th>9949620</th>\n",
       "      <td>nm6115662</td>\n",
       "      <td>Louis Meunier</td>\n",
       "      <td>\\N</td>\n",
       "      <td>\\N</td>\n",
       "      <td>actor</td>\n",
       "      <td>tt1952642</td>\n",
       "    </tr>\n",
       "    <tr>\n",
       "      <th>9802614</th>\n",
       "      <td>nm5921481</td>\n",
       "      <td>Nathaniel Anozie</td>\n",
       "      <td>\\N</td>\n",
       "      <td>\\N</td>\n",
       "      <td>visual_effects,animation_department</td>\n",
       "      <td>tt0848537,tt6182908,tt1985949,tt6095472</td>\n",
       "    </tr>\n",
       "    <tr>\n",
       "      <th>9075229</th>\n",
       "      <td>nm5059701</td>\n",
       "      <td>Gijs Kok</td>\n",
       "      <td>\\N</td>\n",
       "      <td>\\N</td>\n",
       "      <td>miscellaneous</td>\n",
       "      <td>tt2124554</td>\n",
       "    </tr>\n",
       "    <tr>\n",
       "      <th>2182775</th>\n",
       "      <td>nm11333346</td>\n",
       "      <td>Hana Jirku</td>\n",
       "      <td>\\N</td>\n",
       "      <td>\\N</td>\n",
       "      <td>actress</td>\n",
       "      <td>tt11097018</td>\n",
       "    </tr>\n",
       "    <tr>\n",
       "      <th>11751965</th>\n",
       "      <td>nm8456279</td>\n",
       "      <td>Shawn C. Smith</td>\n",
       "      <td>\\N</td>\n",
       "      <td>\\N</td>\n",
       "      <td>camera_department</td>\n",
       "      <td>tt6082850</td>\n",
       "    </tr>\n",
       "  </tbody>\n",
       "</table>\n",
       "</div>"
      ],
      "text/plain": [
       "              nconst       primaryName birthYear deathYear  \\\n",
       "9949620    nm6115662     Louis Meunier        \\N        \\N   \n",
       "9802614    nm5921481  Nathaniel Anozie        \\N        \\N   \n",
       "9075229    nm5059701          Gijs Kok        \\N        \\N   \n",
       "2182775   nm11333346        Hana Jirku        \\N        \\N   \n",
       "11751965   nm8456279    Shawn C. Smith        \\N        \\N   \n",
       "\n",
       "                            primaryProfession  \\\n",
       "9949620                                 actor   \n",
       "9802614   visual_effects,animation_department   \n",
       "9075229                         miscellaneous   \n",
       "2182775                               actress   \n",
       "11751965                    camera_department   \n",
       "\n",
       "                                   knownForTitles  \n",
       "9949620                                 tt1952642  \n",
       "9802614   tt0848537,tt6182908,tt1985949,tt6095472  \n",
       "9075229                                 tt2124554  \n",
       "2182775                                tt11097018  \n",
       "11751965                                tt6082850  "
      ]
     },
     "execution_count": 43,
     "metadata": {},
     "output_type": "execute_result"
    }
   ],
   "source": [
    "imdb_people_df.sample(5)"
   ]
  },
  {
   "cell_type": "code",
   "execution_count": 44,
   "metadata": {},
   "outputs": [
    {
     "name": "stdout",
     "output_type": "stream",
     "text": [
      "We have 13007226 people records\n",
      "We have 13007226 unique persons\n",
      "We have 3869848 unique actors\n"
     ]
    }
   ],
   "source": [
    "total_people = len(imdb_people_df)\n",
    "print(f\"We have {total_people} people records\")\n",
    "print(f\"We have {len(imdb_people_df['nconst'].unique())} unique persons\")\n",
    "print(f\"We have {len(imdb_people_df[(imdb_people_df['primaryProfession'] == 'actor') | (imdb_people_df['primaryProfession'] == 'actress')])} unique actors\")"
   ]
  },
  {
   "cell_type": "markdown",
   "metadata": {},
   "source": [
    "### Movie titles with ratings"
   ]
  },
  {
   "cell_type": "code",
   "execution_count": 45,
   "metadata": {
    "tags": []
   },
   "outputs": [
    {
     "data": {
      "text/html": [
       "<div>\n",
       "<style scoped>\n",
       "    .dataframe tbody tr th:only-of-type {\n",
       "        vertical-align: middle;\n",
       "    }\n",
       "\n",
       "    .dataframe tbody tr th {\n",
       "        vertical-align: top;\n",
       "    }\n",
       "\n",
       "    .dataframe thead th {\n",
       "        text-align: right;\n",
       "    }\n",
       "</style>\n",
       "<table border=\"1\" class=\"dataframe\">\n",
       "  <thead>\n",
       "    <tr style=\"text-align: right;\">\n",
       "      <th></th>\n",
       "      <th>tconst</th>\n",
       "      <th>titleType</th>\n",
       "      <th>primaryTitle</th>\n",
       "      <th>originalTitle</th>\n",
       "      <th>isAdult</th>\n",
       "      <th>startYear</th>\n",
       "      <th>endYear</th>\n",
       "      <th>runtimeMinutes</th>\n",
       "      <th>genres</th>\n",
       "      <th>averageRating</th>\n",
       "      <th>numVotes</th>\n",
       "    </tr>\n",
       "  </thead>\n",
       "  <tbody>\n",
       "    <tr>\n",
       "      <th>209870</th>\n",
       "      <td>tt21342302</td>\n",
       "      <td>movie</td>\n",
       "      <td>Vala</td>\n",
       "      <td>Vala</td>\n",
       "      <td>0</td>\n",
       "      <td>2022</td>\n",
       "      <td>\\N</td>\n",
       "      <td>\\N</td>\n",
       "      <td>Thriller</td>\n",
       "      <td>7.6</td>\n",
       "      <td>9</td>\n",
       "    </tr>\n",
       "    <tr>\n",
       "      <th>91932</th>\n",
       "      <td>tt0232235</td>\n",
       "      <td>movie</td>\n",
       "      <td>Orfani se xena heria</td>\n",
       "      <td>Orfani se xena heria</td>\n",
       "      <td>0</td>\n",
       "      <td>1962</td>\n",
       "      <td>\\N</td>\n",
       "      <td>83</td>\n",
       "      <td>Drama</td>\n",
       "      <td>4.8</td>\n",
       "      <td>19</td>\n",
       "    </tr>\n",
       "    <tr>\n",
       "      <th>160249</th>\n",
       "      <td>tt12196058</td>\n",
       "      <td>movie</td>\n",
       "      <td>Paird</td>\n",
       "      <td>Paird</td>\n",
       "      <td>0</td>\n",
       "      <td>2019</td>\n",
       "      <td>\\N</td>\n",
       "      <td>106</td>\n",
       "      <td>Action,Adventure,Animation</td>\n",
       "      <td>8.8</td>\n",
       "      <td>14</td>\n",
       "    </tr>\n",
       "    <tr>\n",
       "      <th>46812</th>\n",
       "      <td>tt0086103</td>\n",
       "      <td>movie</td>\n",
       "      <td>Phatik Chand</td>\n",
       "      <td>Phatik Chand</td>\n",
       "      <td>0</td>\n",
       "      <td>1983</td>\n",
       "      <td>\\N</td>\n",
       "      <td>103</td>\n",
       "      <td>Adventure,Crime,Drama</td>\n",
       "      <td>7.7</td>\n",
       "      <td>154</td>\n",
       "    </tr>\n",
       "    <tr>\n",
       "      <th>130877</th>\n",
       "      <td>tt0456743</td>\n",
       "      <td>movie</td>\n",
       "      <td>The Ghost Lovers</td>\n",
       "      <td>Yan nu huan hun</td>\n",
       "      <td>0</td>\n",
       "      <td>1974</td>\n",
       "      <td>\\N</td>\n",
       "      <td>92</td>\n",
       "      <td>Drama,Horror,Romance</td>\n",
       "      <td>5.4</td>\n",
       "      <td>100</td>\n",
       "    </tr>\n",
       "  </tbody>\n",
       "</table>\n",
       "</div>"
      ],
      "text/plain": [
       "            tconst titleType          primaryTitle         originalTitle  \\\n",
       "209870  tt21342302     movie                  Vala                  Vala   \n",
       "91932    tt0232235     movie  Orfani se xena heria  Orfani se xena heria   \n",
       "160249  tt12196058     movie                 Paird                 Paird   \n",
       "46812    tt0086103     movie          Phatik Chand          Phatik Chand   \n",
       "130877   tt0456743     movie      The Ghost Lovers       Yan nu huan hun   \n",
       "\n",
       "       isAdult startYear endYear runtimeMinutes                      genres  \\\n",
       "209870       0      2022      \\N             \\N                    Thriller   \n",
       "91932        0      1962      \\N             83                       Drama   \n",
       "160249       0      2019      \\N            106  Action,Adventure,Animation   \n",
       "46812        0      1983      \\N            103       Adventure,Crime,Drama   \n",
       "130877       0      1974      \\N             92        Drama,Horror,Romance   \n",
       "\n",
       "        averageRating  numVotes  \n",
       "209870            7.6         9  \n",
       "91932             4.8        19  \n",
       "160249            8.8        14  \n",
       "46812             7.7       154  \n",
       "130877            5.4       100  "
      ]
     },
     "execution_count": 45,
     "metadata": {},
     "output_type": "execute_result"
    }
   ],
   "source": [
    "imdb_title_with_rating = imdb_title_df.merge(imdb_ratings_df, on='tconst', how='inner')\n",
    "imdb_title_with_rating.sample(5)"
   ]
  },
  {
   "cell_type": "code",
   "execution_count": 46,
   "metadata": {},
   "outputs": [
    {
     "name": "stdout",
     "output_type": "stream",
     "text": [
      "We have 295284 movies with ratings\n"
     ]
    }
   ],
   "source": [
    "total_movies_w_rating = len(imdb_title_with_rating)\n",
    "print(f\"We have {total_movies_w_rating} movies with ratings\")"
   ]
  },
  {
   "cell_type": "markdown",
   "metadata": {},
   "source": [
    "There is more than one quarter of a million movies for which we have at least one rating. We have clearly much more data to work with than with box office revenue. Furthermore, there is a substantial amount of movies who have at least a few hundreds votes. This will allow us to get better confidence interval and reduce uncertainty in our analysis."
   ]
  },
  {
   "cell_type": "markdown",
   "metadata": {},
   "source": [
    "## Merge CMU movies and plot summaries with IMDB titles and ratings\n",
    "\n",
    "The translation dataframe from wikidata, which includes both the IMDB id and the Freebase id, enables us to combine the IMDB dataset with the CMU dataset"
   ]
  },
  {
   "cell_type": "code",
   "execution_count": 47,
   "metadata": {},
   "outputs": [],
   "source": [
    "translation_id = load_translation_df()"
   ]
  },
  {
   "cell_type": "code",
   "execution_count": 48,
   "metadata": {},
   "outputs": [],
   "source": [
    "imdb_title_with_rating_translated = imdb_title_with_rating.merge(translation_id, how='inner', left_on='tconst', right_on='imdb_id').copy()\n",
    "imdb_title_with_rating_translated = imdb_title_with_rating_translated.drop([\"imdb_id\"], axis=1)"
   ]
  },
  {
   "cell_type": "code",
   "execution_count": 49,
   "metadata": {},
   "outputs": [],
   "source": [
    "cmu_movies_w_imdb_rating = imdb_title_with_rating_translated.merge(movies_df, how='inner', left_on='freebase_id', right_on='freebase_movie_id').copy()"
   ]
  },
  {
   "cell_type": "code",
   "execution_count": 50,
   "metadata": {},
   "outputs": [],
   "source": [
    "# Enriching CMU data\n",
    "# IMDB start year has no missing data, so we insert it into \"NaN\" fields of \"movie_release_date\" and drop \"startYear\"\n",
    "missing_years = cmu_movies_w_imdb_rating[cmu_movies_w_imdb_rating['movie_release_date'].isna()].index\n",
    "cmu_movies_w_imdb_rating.loc[missing_years, 'movie_release_date'] = cmu_movies_w_imdb_rating.loc[missing_years, 'startYear']"
   ]
  },
  {
   "cell_type": "code",
   "execution_count": 51,
   "metadata": {},
   "outputs": [],
   "source": [
    "# We have MANY depulicated attributes\n",
    "# We evaluated for each pair which column had more missing data and dropped it in favor of the other\n",
    "cmu_movies_w_imdb_rating = cmu_movies_w_imdb_rating.drop([\"freebase_movie_id\", \"titleType\", \"isAdult\", \"endYear\", \"primaryTitle\", \"originalTitle\", \"movie_release_year\", \"movie_runtime\", \"startYear\"], axis=1)"
   ]
  },
  {
   "cell_type": "code",
   "execution_count": 52,
   "metadata": {},
   "outputs": [
    {
     "name": "stdout",
     "output_type": "stream",
     "text": [
      "The merged dataframe contains 44476 movies with corresponding ratings\n"
     ]
    }
   ],
   "source": [
    "cmu_movies_w_imdb_rating = cmu_movies_w_imdb_rating.drop_duplicates(\"tconst\")\n",
    "print(f\"The merged dataframe contains {len(cmu_movies_w_imdb_rating)} movies with corresponding ratings\")"
   ]
  },
  {
   "cell_type": "code",
   "execution_count": 53,
   "metadata": {},
   "outputs": [],
   "source": [
    "# Add summaries\n",
    "cmu_movies_w_imdb_rating = cmu_movies_w_imdb_rating.merge(plot_df, on=\"wiki_movie_id\", how=\"left\")"
   ]
  },
  {
   "cell_type": "code",
   "execution_count": 55,
   "metadata": {},
   "outputs": [
    {
     "data": {
      "text/html": [
       "<div>\n",
       "<style scoped>\n",
       "    .dataframe tbody tr th:only-of-type {\n",
       "        vertical-align: middle;\n",
       "    }\n",
       "\n",
       "    .dataframe tbody tr th {\n",
       "        vertical-align: top;\n",
       "    }\n",
       "\n",
       "    .dataframe thead th {\n",
       "        text-align: right;\n",
       "    }\n",
       "</style>\n",
       "<table border=\"1\" class=\"dataframe\">\n",
       "  <thead>\n",
       "    <tr style=\"text-align: right;\">\n",
       "      <th></th>\n",
       "      <th>tconst</th>\n",
       "      <th>runtimeMinutes</th>\n",
       "      <th>genres</th>\n",
       "      <th>averageRating</th>\n",
       "      <th>numVotes</th>\n",
       "      <th>freebase_id</th>\n",
       "      <th>wiki_movie_id</th>\n",
       "      <th>movie_name</th>\n",
       "      <th>movie_release_date</th>\n",
       "      <th>box_office</th>\n",
       "      <th>movie_languages</th>\n",
       "      <th>movie_countries</th>\n",
       "      <th>movie_genres</th>\n",
       "      <th>plot_summary</th>\n",
       "    </tr>\n",
       "  </thead>\n",
       "  <tbody>\n",
       "    <tr>\n",
       "      <th>12273</th>\n",
       "      <td>tt0056229</td>\n",
       "      <td>112</td>\n",
       "      <td>Family,Sci-Fi</td>\n",
       "      <td>5.9</td>\n",
       "      <td>47</td>\n",
       "      <td>/m/0gtt24n</td>\n",
       "      <td>31804316</td>\n",
       "      <td>Masters of Venus</td>\n",
       "      <td>1962-09</td>\n",
       "      <td>NaN</td>\n",
       "      <td>{'/m/02h40lc': 'English Language'}</td>\n",
       "      <td>{'/m/07ssc': 'United Kingdom'}</td>\n",
       "      <td>{'/m/06n90': 'Science Fiction'}</td>\n",
       "      <td>NaN</td>\n",
       "    </tr>\n",
       "    <tr>\n",
       "      <th>38100</th>\n",
       "      <td>tt0832313</td>\n",
       "      <td>76</td>\n",
       "      <td>Documentary,War</td>\n",
       "      <td>7.5</td>\n",
       "      <td>80</td>\n",
       "      <td>/m/080lgdn</td>\n",
       "      <td>24542444</td>\n",
       "      <td>Nice Bombs</td>\n",
       "      <td>2009</td>\n",
       "      <td>NaN</td>\n",
       "      <td>{}</td>\n",
       "      <td>{'/m/09c7w0': 'United States of America'}</td>\n",
       "      <td>{'/m/0cshrf': 'Political cinema', '/m/03g3w': ...</td>\n",
       "      <td>In January 2004, shortly after officially beco...</td>\n",
       "    </tr>\n",
       "    <tr>\n",
       "      <th>6671</th>\n",
       "      <td>tt0038913</td>\n",
       "      <td>87</td>\n",
       "      <td>Drama</td>\n",
       "      <td>8.0</td>\n",
       "      <td>7932</td>\n",
       "      <td>/m/0gdy_9</td>\n",
       "      <td>6616873</td>\n",
       "      <td>Shoeshine</td>\n",
       "      <td>1946</td>\n",
       "      <td>NaN</td>\n",
       "      <td>{'/m/02bjrlw': 'Italian Language', '/m/02h40lc...</td>\n",
       "      <td>{'/m/03rjj': 'Italy'}</td>\n",
       "      <td>{'/m/07s9rl0': 'Drama', '/m/01j1n2': 'Coming o...</td>\n",
       "      <td>Two friends, Giuseppe and Pasquale, test-ride ...</td>\n",
       "    </tr>\n",
       "    <tr>\n",
       "      <th>35862</th>\n",
       "      <td>tt0436833</td>\n",
       "      <td>106</td>\n",
       "      <td>Drama</td>\n",
       "      <td>4.8</td>\n",
       "      <td>268</td>\n",
       "      <td>/m/028bjtg</td>\n",
       "      <td>9480220</td>\n",
       "      <td>Colour Blossoms</td>\n",
       "      <td>2004-10-28</td>\n",
       "      <td>NaN</td>\n",
       "      <td>{'/m/03_9r': 'Japanese Language', '/m/0459q4':...</td>\n",
       "      <td>{'/m/03h64': 'Hong Kong', '/m/0d05w3': 'China'}</td>\n",
       "      <td>{'/m/0hn10': 'LGBT', '/m/07s9rl0': 'Drama', '/...</td>\n",
       "      <td>NaN</td>\n",
       "    </tr>\n",
       "    <tr>\n",
       "      <th>8667</th>\n",
       "      <td>tt0044905</td>\n",
       "      <td>102</td>\n",
       "      <td>Drama,History</td>\n",
       "      <td>6.7</td>\n",
       "      <td>1397</td>\n",
       "      <td>/m/06l8bt</td>\n",
       "      <td>2087175</td>\n",
       "      <td>The Miracle of Our Lady of Fatima</td>\n",
       "      <td>1952-08-20</td>\n",
       "      <td>NaN</td>\n",
       "      <td>{'/m/02h40lc': 'English Language'}</td>\n",
       "      <td>{'/m/09c7w0': 'United States of America'}</td>\n",
       "      <td>{'/m/04p5fxn': 'Christian film', '/m/07s9rl0':...</td>\n",
       "      <td>It is 1917, and Portugal is feeling the aftere...</td>\n",
       "    </tr>\n",
       "  </tbody>\n",
       "</table>\n",
       "</div>"
      ],
      "text/plain": [
       "          tconst runtimeMinutes           genres  averageRating  numVotes  \\\n",
       "12273  tt0056229            112    Family,Sci-Fi            5.9        47   \n",
       "38100  tt0832313             76  Documentary,War            7.5        80   \n",
       "6671   tt0038913             87            Drama            8.0      7932   \n",
       "35862  tt0436833            106            Drama            4.8       268   \n",
       "8667   tt0044905            102    Drama,History            6.7      1397   \n",
       "\n",
       "      freebase_id  wiki_movie_id                         movie_name  \\\n",
       "12273  /m/0gtt24n       31804316                   Masters of Venus   \n",
       "38100  /m/080lgdn       24542444                         Nice Bombs   \n",
       "6671    /m/0gdy_9        6616873                          Shoeshine   \n",
       "35862  /m/028bjtg        9480220                    Colour Blossoms   \n",
       "8667    /m/06l8bt        2087175  The Miracle of Our Lady of Fatima   \n",
       "\n",
       "      movie_release_date  box_office  \\\n",
       "12273            1962-09         NaN   \n",
       "38100               2009         NaN   \n",
       "6671                1946         NaN   \n",
       "35862         2004-10-28         NaN   \n",
       "8667          1952-08-20         NaN   \n",
       "\n",
       "                                         movie_languages  \\\n",
       "12273                 {'/m/02h40lc': 'English Language'}   \n",
       "38100                                                 {}   \n",
       "6671   {'/m/02bjrlw': 'Italian Language', '/m/02h40lc...   \n",
       "35862  {'/m/03_9r': 'Japanese Language', '/m/0459q4':...   \n",
       "8667                  {'/m/02h40lc': 'English Language'}   \n",
       "\n",
       "                                       movie_countries  \\\n",
       "12273                   {'/m/07ssc': 'United Kingdom'}   \n",
       "38100        {'/m/09c7w0': 'United States of America'}   \n",
       "6671                             {'/m/03rjj': 'Italy'}   \n",
       "35862  {'/m/03h64': 'Hong Kong', '/m/0d05w3': 'China'}   \n",
       "8667         {'/m/09c7w0': 'United States of America'}   \n",
       "\n",
       "                                            movie_genres  \\\n",
       "12273                    {'/m/06n90': 'Science Fiction'}   \n",
       "38100  {'/m/0cshrf': 'Political cinema', '/m/03g3w': ...   \n",
       "6671   {'/m/07s9rl0': 'Drama', '/m/01j1n2': 'Coming o...   \n",
       "35862  {'/m/0hn10': 'LGBT', '/m/07s9rl0': 'Drama', '/...   \n",
       "8667   {'/m/04p5fxn': 'Christian film', '/m/07s9rl0':...   \n",
       "\n",
       "                                            plot_summary  \n",
       "12273                                                NaN  \n",
       "38100  In January 2004, shortly after officially beco...  \n",
       "6671   Two friends, Giuseppe and Pasquale, test-ride ...  \n",
       "35862                                                NaN  \n",
       "8667   It is 1917, and Portugal is feeling the aftere...  "
      ]
     },
     "execution_count": 55,
     "metadata": {},
     "output_type": "execute_result"
    }
   ],
   "source": [
    "cmu_movies_w_imdb_rating.sample(5)"
   ]
  },
  {
   "cell_type": "markdown",
   "metadata": {},
   "source": [
    "## Merge IMDB people and principals\n",
    "We now focus on characters and actors. We merge the two dataframes from IMDB and keep records of interest i.e for which the movie is in the collection above."
   ]
  },
  {
   "cell_type": "code",
   "execution_count": 56,
   "metadata": {},
   "outputs": [],
   "source": [
    "titles_of_interest = cmu_movies_w_imdb_rating[\"tconst\"].to_list()"
   ]
  },
  {
   "cell_type": "code",
   "execution_count": 57,
   "metadata": {},
   "outputs": [],
   "source": [
    "imdb_actors = imdb_people_df[(imdb_people_df[\"primaryProfession\"].str.contains(\"actor\")) | (imdb_people_df[\"primaryProfession\"].str.contains(\"actoress\"))].copy()"
   ]
  },
  {
   "cell_type": "code",
   "execution_count": 58,
   "metadata": {},
   "outputs": [],
   "source": [
    "imdb_principals_actors = imdb_principals_df[(imdb_principals_df[\"category\"] == \"actress\") | (imdb_principals_df[\"category\"] == \"actor\")].copy()"
   ]
  },
  {
   "cell_type": "code",
   "execution_count": 59,
   "metadata": {},
   "outputs": [],
   "source": [
    "imdb_actors_and_characters = imdb_actors.merge(imdb_principals_actors, on=\"nconst\", how=\"inner\").copy()"
   ]
  },
  {
   "cell_type": "code",
   "execution_count": 60,
   "metadata": {},
   "outputs": [],
   "source": [
    "imdb_actors_and_characters = imdb_actors_and_characters[imdb_actors_and_characters[\"tconst\"].isin(titles_of_interest)]"
   ]
  },
  {
   "cell_type": "code",
   "execution_count": 61,
   "metadata": {},
   "outputs": [],
   "source": [
    "imdb_actors_and_characters = imdb_actors_and_characters.drop([\"ordering\", \"category\", \"job\", \"primaryProfession\"], axis=1)"
   ]
  },
  {
   "cell_type": "code",
   "execution_count": 62,
   "metadata": {},
   "outputs": [
    {
     "data": {
      "text/html": [
       "<div>\n",
       "<style scoped>\n",
       "    .dataframe tbody tr th:only-of-type {\n",
       "        vertical-align: middle;\n",
       "    }\n",
       "\n",
       "    .dataframe tbody tr th {\n",
       "        vertical-align: top;\n",
       "    }\n",
       "\n",
       "    .dataframe thead th {\n",
       "        text-align: right;\n",
       "    }\n",
       "</style>\n",
       "<table border=\"1\" class=\"dataframe\">\n",
       "  <thead>\n",
       "    <tr style=\"text-align: right;\">\n",
       "      <th></th>\n",
       "      <th>nconst</th>\n",
       "      <th>primaryName</th>\n",
       "      <th>birthYear</th>\n",
       "      <th>deathYear</th>\n",
       "      <th>knownForTitles</th>\n",
       "      <th>tconst</th>\n",
       "      <th>characters</th>\n",
       "    </tr>\n",
       "  </thead>\n",
       "  <tbody>\n",
       "    <tr>\n",
       "      <th>4062723</th>\n",
       "      <td>nm0662972</td>\n",
       "      <td>Larry Parks</td>\n",
       "      <td>1914</td>\n",
       "      <td>1975</td>\n",
       "      <td>tt0038661,tt0040382,tt0091635,tt0357413</td>\n",
       "      <td>tt0055998</td>\n",
       "      <td>[\"Dr. Joseph Breuer\"]</td>\n",
       "    </tr>\n",
       "    <tr>\n",
       "      <th>8721031</th>\n",
       "      <td>nm2234611</td>\n",
       "      <td>Akira Takatsuki</td>\n",
       "      <td>1960</td>\n",
       "      <td>\\N</td>\n",
       "      <td>tt3547138,tt3433042,tt3526554,tt3674160</td>\n",
       "      <td>tt1395135</td>\n",
       "      <td>[\"Akira Wakatsuki\"]</td>\n",
       "    </tr>\n",
       "    <tr>\n",
       "      <th>47678</th>\n",
       "      <td>nm0000587</td>\n",
       "      <td>Donald Pleasence</td>\n",
       "      <td>1919</td>\n",
       "      <td>1995</td>\n",
       "      <td>tt0057115,tt0077651,tt0062512,tt0082495</td>\n",
       "      <td>tt0063811</td>\n",
       "      <td>[\"Preacher Quint\"]</td>\n",
       "    </tr>\n",
       "    <tr>\n",
       "      <th>198827</th>\n",
       "      <td>nm0004433</td>\n",
       "      <td>Shammi Kapoor</td>\n",
       "      <td>1931</td>\n",
       "      <td>2011</td>\n",
       "      <td>tt0084866,tt0147925,tt0056379,tt0231226</td>\n",
       "      <td>tt0268585</td>\n",
       "      <td>[\"Mr. Roy\"]</td>\n",
       "    </tr>\n",
       "    <tr>\n",
       "      <th>54049</th>\n",
       "      <td>nm0000649</td>\n",
       "      <td>Paul Sorvino</td>\n",
       "      <td>1939</td>\n",
       "      <td>2022</td>\n",
       "      <td>tt0102803,tt0099685,tt0963194,tt0113987</td>\n",
       "      <td>tt0120724</td>\n",
       "      <td>[\"Harry Johanson\"]</td>\n",
       "    </tr>\n",
       "  </tbody>\n",
       "</table>\n",
       "</div>"
      ],
      "text/plain": [
       "            nconst       primaryName birthYear deathYear  \\\n",
       "4062723  nm0662972       Larry Parks      1914      1975   \n",
       "8721031  nm2234611   Akira Takatsuki      1960        \\N   \n",
       "47678    nm0000587  Donald Pleasence      1919      1995   \n",
       "198827   nm0004433     Shammi Kapoor      1931      2011   \n",
       "54049    nm0000649      Paul Sorvino      1939      2022   \n",
       "\n",
       "                                  knownForTitles     tconst  \\\n",
       "4062723  tt0038661,tt0040382,tt0091635,tt0357413  tt0055998   \n",
       "8721031  tt3547138,tt3433042,tt3526554,tt3674160  tt1395135   \n",
       "47678    tt0057115,tt0077651,tt0062512,tt0082495  tt0063811   \n",
       "198827   tt0084866,tt0147925,tt0056379,tt0231226  tt0268585   \n",
       "54049    tt0102803,tt0099685,tt0963194,tt0113987  tt0120724   \n",
       "\n",
       "                    characters  \n",
       "4062723  [\"Dr. Joseph Breuer\"]  \n",
       "8721031    [\"Akira Wakatsuki\"]  \n",
       "47678       [\"Preacher Quint\"]  \n",
       "198827             [\"Mr. Roy\"]  \n",
       "54049       [\"Harry Johanson\"]  "
      ]
     },
     "execution_count": 62,
     "metadata": {},
     "output_type": "execute_result"
    }
   ],
   "source": [
    "imdb_actors_and_characters.sample(5)"
   ]
  },
  {
   "cell_type": "markdown",
   "metadata": {},
   "source": [
    "## Filter CMU characters\n",
    "We keep records of interest in the same fashion as done above"
   ]
  },
  {
   "cell_type": "code",
   "execution_count": 63,
   "metadata": {},
   "outputs": [],
   "source": [
    "titles_of_interest_wiki = cmu_movies_w_imdb_rating[\"wiki_movie_id\"].to_list()"
   ]
  },
  {
   "cell_type": "code",
   "execution_count": 64,
   "metadata": {},
   "outputs": [],
   "source": [
    "characters_interest = characters_df[characters_df[\"wiki_movie_id\"].isin(titles_of_interest_wiki)]"
   ]
  },
  {
   "cell_type": "code",
   "execution_count": 65,
   "metadata": {},
   "outputs": [
    {
     "data": {
      "text/html": [
       "<div>\n",
       "<style scoped>\n",
       "    .dataframe tbody tr th:only-of-type {\n",
       "        vertical-align: middle;\n",
       "    }\n",
       "\n",
       "    .dataframe tbody tr th {\n",
       "        vertical-align: top;\n",
       "    }\n",
       "\n",
       "    .dataframe thead th {\n",
       "        text-align: right;\n",
       "    }\n",
       "</style>\n",
       "<table border=\"1\" class=\"dataframe\">\n",
       "  <thead>\n",
       "    <tr style=\"text-align: right;\">\n",
       "      <th></th>\n",
       "      <th>wiki_movie_id</th>\n",
       "      <th>freebase_movie_id</th>\n",
       "      <th>release_date</th>\n",
       "      <th>character_name</th>\n",
       "      <th>actor_birth</th>\n",
       "      <th>actor_gender</th>\n",
       "      <th>actor_height</th>\n",
       "      <th>actor_ethnicity</th>\n",
       "      <th>actor_name</th>\n",
       "      <th>release_actor_age</th>\n",
       "      <th>freebase_map_id</th>\n",
       "      <th>freebase_character_id</th>\n",
       "      <th>freebase_actor_id</th>\n",
       "    </tr>\n",
       "  </thead>\n",
       "  <tbody>\n",
       "    <tr>\n",
       "      <th>423598</th>\n",
       "      <td>33100124</td>\n",
       "      <td>/m/0crsj2l</td>\n",
       "      <td>1936-11-09</td>\n",
       "      <td>NaN</td>\n",
       "      <td>1892-11-06</td>\n",
       "      <td>M</td>\n",
       "      <td>NaN</td>\n",
       "      <td>NaN</td>\n",
       "      <td>Ole Olsen</td>\n",
       "      <td>NaN</td>\n",
       "      <td>/m/0gdlynx</td>\n",
       "      <td>NaN</td>\n",
       "      <td>/m/0c4pyz</td>\n",
       "    </tr>\n",
       "    <tr>\n",
       "      <th>340090</th>\n",
       "      <td>903776</td>\n",
       "      <td>/m/03ngpm</td>\n",
       "      <td>2006-09-10</td>\n",
       "      <td>Robert H. Maguire</td>\n",
       "      <td>1969-11-27</td>\n",
       "      <td>M</td>\n",
       "      <td>NaN</td>\n",
       "      <td>NaN</td>\n",
       "      <td>Michael Reilly Burke</td>\n",
       "      <td>36.0</td>\n",
       "      <td>/m/0crv3z7</td>\n",
       "      <td>/m/0dggd_5</td>\n",
       "      <td>/m/094w3q</td>\n",
       "    </tr>\n",
       "    <tr>\n",
       "      <th>417286</th>\n",
       "      <td>1243901</td>\n",
       "      <td>/m/04ln7m</td>\n",
       "      <td>2004-08-10</td>\n",
       "      <td>Man</td>\n",
       "      <td>NaN</td>\n",
       "      <td>NaN</td>\n",
       "      <td>NaN</td>\n",
       "      <td>NaN</td>\n",
       "      <td>Grant Ibbs</td>\n",
       "      <td>NaN</td>\n",
       "      <td>/m/0gc7gmk</td>\n",
       "      <td>/m/0h5sn4l</td>\n",
       "      <td>/m/0gbxcgq</td>\n",
       "    </tr>\n",
       "    <tr>\n",
       "      <th>117632</th>\n",
       "      <td>20873612</td>\n",
       "      <td>/m/053w3gh</td>\n",
       "      <td>1991</td>\n",
       "      <td>Comisario</td>\n",
       "      <td>1925-05-19</td>\n",
       "      <td>M</td>\n",
       "      <td>NaN</td>\n",
       "      <td>NaN</td>\n",
       "      <td>Carlos Lucena</td>\n",
       "      <td>65.0</td>\n",
       "      <td>/m/0gcyc3f</td>\n",
       "      <td>/m/0hp1fy7</td>\n",
       "      <td>/m/0gcyc3k</td>\n",
       "    </tr>\n",
       "    <tr>\n",
       "      <th>246053</th>\n",
       "      <td>11438787</td>\n",
       "      <td>/m/02rcmb9</td>\n",
       "      <td>1989</td>\n",
       "      <td>Miss Greenway</td>\n",
       "      <td>1955-12-08</td>\n",
       "      <td>F</td>\n",
       "      <td>NaN</td>\n",
       "      <td>/m/0bbz66j</td>\n",
       "      <td>Deborra-Lee Furness</td>\n",
       "      <td>33.0</td>\n",
       "      <td>/m/05v4kfz</td>\n",
       "      <td>/m/05v4kg0</td>\n",
       "      <td>/m/05r751</td>\n",
       "    </tr>\n",
       "  </tbody>\n",
       "</table>\n",
       "</div>"
      ],
      "text/plain": [
       "        wiki_movie_id freebase_movie_id release_date     character_name  \\\n",
       "423598       33100124        /m/0crsj2l   1936-11-09                NaN   \n",
       "340090         903776         /m/03ngpm   2006-09-10  Robert H. Maguire   \n",
       "417286        1243901         /m/04ln7m   2004-08-10                Man   \n",
       "117632       20873612        /m/053w3gh         1991          Comisario   \n",
       "246053       11438787        /m/02rcmb9         1989      Miss Greenway   \n",
       "\n",
       "       actor_birth actor_gender  actor_height actor_ethnicity  \\\n",
       "423598  1892-11-06            M           NaN             NaN   \n",
       "340090  1969-11-27            M           NaN             NaN   \n",
       "417286         NaN          NaN           NaN             NaN   \n",
       "117632  1925-05-19            M           NaN             NaN   \n",
       "246053  1955-12-08            F           NaN      /m/0bbz66j   \n",
       "\n",
       "                  actor_name  release_actor_age freebase_map_id  \\\n",
       "423598             Ole Olsen                NaN      /m/0gdlynx   \n",
       "340090  Michael Reilly Burke               36.0      /m/0crv3z7   \n",
       "417286            Grant Ibbs                NaN      /m/0gc7gmk   \n",
       "117632         Carlos Lucena               65.0      /m/0gcyc3f   \n",
       "246053   Deborra-Lee Furness               33.0      /m/05v4kfz   \n",
       "\n",
       "       freebase_character_id freebase_actor_id  \n",
       "423598                   NaN         /m/0c4pyz  \n",
       "340090            /m/0dggd_5         /m/094w3q  \n",
       "417286            /m/0h5sn4l        /m/0gbxcgq  \n",
       "117632            /m/0hp1fy7        /m/0gcyc3k  \n",
       "246053            /m/05v4kg0         /m/05r751  "
      ]
     },
     "execution_count": 65,
     "metadata": {},
     "output_type": "execute_result"
    }
   ],
   "source": [
    "characters_interest.sample(5)"
   ]
  },
  {
   "cell_type": "markdown",
   "metadata": {},
   "source": [
    "## Merge IMDB actors and characters with CMU characters\n",
    "We merge IMDB character and actor data with the CMU data. We make use of the translation dataframe again."
   ]
  },
  {
   "cell_type": "code",
   "execution_count": 66,
   "metadata": {},
   "outputs": [],
   "source": [
    "imdb_actors_and_characters_translated = imdb_actors_and_characters.merge(translation_id, how='inner', left_on='tconst', right_on='imdb_id').copy()\n",
    "imdb_actors_and_characters_translated = imdb_actors_and_characters_translated.drop([\"imdb_id\"], axis=1)"
   ]
  },
  {
   "cell_type": "code",
   "execution_count": 67,
   "metadata": {},
   "outputs": [
    {
     "data": {
      "text/html": [
       "<div>\n",
       "<style scoped>\n",
       "    .dataframe tbody tr th:only-of-type {\n",
       "        vertical-align: middle;\n",
       "    }\n",
       "\n",
       "    .dataframe tbody tr th {\n",
       "        vertical-align: top;\n",
       "    }\n",
       "\n",
       "    .dataframe thead th {\n",
       "        text-align: right;\n",
       "    }\n",
       "</style>\n",
       "<table border=\"1\" class=\"dataframe\">\n",
       "  <thead>\n",
       "    <tr style=\"text-align: right;\">\n",
       "      <th></th>\n",
       "      <th>nconst</th>\n",
       "      <th>knownForTitles</th>\n",
       "      <th>tconst</th>\n",
       "      <th>characters</th>\n",
       "      <th>freebase_id</th>\n",
       "      <th>wiki_movie_id</th>\n",
       "      <th>release_date</th>\n",
       "      <th>actor_birth</th>\n",
       "      <th>actor_gender</th>\n",
       "      <th>actor_height</th>\n",
       "      <th>actor_ethnicity</th>\n",
       "      <th>actor_name</th>\n",
       "      <th>release_actor_age</th>\n",
       "      <th>freebase_map_id</th>\n",
       "      <th>freebase_character_id</th>\n",
       "      <th>freebase_actor_id</th>\n",
       "    </tr>\n",
       "  </thead>\n",
       "  <tbody>\n",
       "    <tr>\n",
       "      <th>40218</th>\n",
       "      <td>nm0155945</td>\n",
       "      <td>tt0051082,tt0047481,tt0141736,tt10690804</td>\n",
       "      <td>tt0062245</td>\n",
       "      <td>[\"Zykov\"]</td>\n",
       "      <td>/m/04115ny</td>\n",
       "      <td>16888240</td>\n",
       "      <td>1967</td>\n",
       "      <td>1917</td>\n",
       "      <td>M</td>\n",
       "      <td>NaN</td>\n",
       "      <td>NaN</td>\n",
       "      <td>Pyotr Chernov</td>\n",
       "      <td>NaN</td>\n",
       "      <td>/m/0cgr3kr</td>\n",
       "      <td>/m/0cgr3kv</td>\n",
       "      <td>/m/09_2kky</td>\n",
       "    </tr>\n",
       "    <tr>\n",
       "      <th>20678</th>\n",
       "      <td>nm0000792</td>\n",
       "      <td>tt0117768,tt0111503,tt0119640,tt0242445</td>\n",
       "      <td>tt0308443</td>\n",
       "      <td>[\"Presscott\"]</td>\n",
       "      <td>/m/0b89zp</td>\n",
       "      <td>3951914</td>\n",
       "      <td>2003</td>\n",
       "      <td>1959-03-06</td>\n",
       "      <td>M</td>\n",
       "      <td>1.88</td>\n",
       "      <td>/m/041rx</td>\n",
       "      <td>Tom Arnold</td>\n",
       "      <td>43.0</td>\n",
       "      <td>/m/0cmxl19</td>\n",
       "      <td>/m/0ghwcnq</td>\n",
       "      <td>/m/029pnn</td>\n",
       "    </tr>\n",
       "    <tr>\n",
       "      <th>57381</th>\n",
       "      <td>nm0619101</td>\n",
       "      <td>tt0246189,tt0246102,tt0190360,tt0246277</td>\n",
       "      <td>tt0247919</td>\n",
       "      <td>[\"Raja Kulothunga Chola I, the father of Amara...</td>\n",
       "      <td>/m/0g9yvgd</td>\n",
       "      <td>30656210</td>\n",
       "      <td>1957</td>\n",
       "      <td>1904-03-28</td>\n",
       "      <td>M</td>\n",
       "      <td>NaN</td>\n",
       "      <td>NaN</td>\n",
       "      <td>Chittor V. Nagaiah</td>\n",
       "      <td>52.0</td>\n",
       "      <td>/m/0gb1jwp</td>\n",
       "      <td>NaN</td>\n",
       "      <td>/m/02qtsq_</td>\n",
       "    </tr>\n",
       "    <tr>\n",
       "      <th>58792</th>\n",
       "      <td>nm0339621</td>\n",
       "      <td>tt0086087,tt7944348,tt0450188,tt0151137</td>\n",
       "      <td>tt0106301</td>\n",
       "      <td>[\"Julien Dechaumes\"]</td>\n",
       "      <td>/m/0dp503</td>\n",
       "      <td>5491467</td>\n",
       "      <td>1993</td>\n",
       "      <td>1954-09-08</td>\n",
       "      <td>M</td>\n",
       "      <td>NaN</td>\n",
       "      <td>NaN</td>\n",
       "      <td>Pascal Greggory</td>\n",
       "      <td>38.0</td>\n",
       "      <td>/m/0j_nmc</td>\n",
       "      <td>/m/0h8k2ph</td>\n",
       "      <td>/m/0dbc3h</td>\n",
       "    </tr>\n",
       "    <tr>\n",
       "      <th>40512</th>\n",
       "      <td>nm0171983</td>\n",
       "      <td>tt0078704,tt0083399,tt0108778,tt0084010</td>\n",
       "      <td>tt0090065</td>\n",
       "      <td>[\"Orin\"]</td>\n",
       "      <td>/m/0fkv58</td>\n",
       "      <td>6017841</td>\n",
       "      <td>1985</td>\n",
       "      <td>1956</td>\n",
       "      <td>NaN</td>\n",
       "      <td>NaN</td>\n",
       "      <td>NaN</td>\n",
       "      <td>Joe Colligan</td>\n",
       "      <td>NaN</td>\n",
       "      <td>/m/0gcy1y1</td>\n",
       "      <td>NaN</td>\n",
       "      <td>/m/0gcy1y5</td>\n",
       "    </tr>\n",
       "  </tbody>\n",
       "</table>\n",
       "</div>"
      ],
      "text/plain": [
       "          nconst                            knownForTitles     tconst  \\\n",
       "40218  nm0155945  tt0051082,tt0047481,tt0141736,tt10690804  tt0062245   \n",
       "20678  nm0000792   tt0117768,tt0111503,tt0119640,tt0242445  tt0308443   \n",
       "57381  nm0619101   tt0246189,tt0246102,tt0190360,tt0246277  tt0247919   \n",
       "58792  nm0339621   tt0086087,tt7944348,tt0450188,tt0151137  tt0106301   \n",
       "40512  nm0171983   tt0078704,tt0083399,tt0108778,tt0084010  tt0090065   \n",
       "\n",
       "                                              characters freebase_id  \\\n",
       "40218                                          [\"Zykov\"]  /m/04115ny   \n",
       "20678                                      [\"Presscott\"]   /m/0b89zp   \n",
       "57381  [\"Raja Kulothunga Chola I, the father of Amara...  /m/0g9yvgd   \n",
       "58792                               [\"Julien Dechaumes\"]   /m/0dp503   \n",
       "40512                                           [\"Orin\"]   /m/0fkv58   \n",
       "\n",
       "       wiki_movie_id release_date actor_birth actor_gender  actor_height  \\\n",
       "40218       16888240         1967        1917            M           NaN   \n",
       "20678        3951914         2003  1959-03-06            M          1.88   \n",
       "57381       30656210         1957  1904-03-28            M           NaN   \n",
       "58792        5491467         1993  1954-09-08            M           NaN   \n",
       "40512        6017841         1985        1956          NaN           NaN   \n",
       "\n",
       "      actor_ethnicity          actor_name  release_actor_age freebase_map_id  \\\n",
       "40218             NaN       Pyotr Chernov                NaN      /m/0cgr3kr   \n",
       "20678        /m/041rx          Tom Arnold               43.0      /m/0cmxl19   \n",
       "57381             NaN  Chittor V. Nagaiah               52.0      /m/0gb1jwp   \n",
       "58792             NaN     Pascal Greggory               38.0       /m/0j_nmc   \n",
       "40512             NaN        Joe Colligan                NaN      /m/0gcy1y1   \n",
       "\n",
       "      freebase_character_id freebase_actor_id  \n",
       "40218            /m/0cgr3kv        /m/09_2kky  \n",
       "20678            /m/0ghwcnq         /m/029pnn  \n",
       "57381                   NaN        /m/02qtsq_  \n",
       "58792            /m/0h8k2ph         /m/0dbc3h  \n",
       "40512                   NaN        /m/0gcy1y5  "
      ]
     },
     "execution_count": 67,
     "metadata": {},
     "output_type": "execute_result"
    }
   ],
   "source": [
    "# TODO, currently merging on movie id and actor name. Would rather merge with actor id too but a translation is needed\n",
    "imdb_actors_w_cmu_characters = imdb_actors_and_characters_translated.merge(characters_interest, how='inner', left_on=['freebase_id', 'primaryName'], right_on=['freebase_movie_id', 'actor_name']).copy()\n",
    "\n",
    "# Merge birth year information\n",
    "missing_birth_years = imdb_actors_w_cmu_characters[imdb_actors_w_cmu_characters['actor_birth'].isna()].index\n",
    "imdb_actors_w_cmu_characters.loc[missing_birth_years, 'actor_birth'] = imdb_actors_w_cmu_characters.loc[missing_birth_years, 'birthYear']\n",
    "\n",
    "imdb_actors_w_cmu_characters = imdb_actors_w_cmu_characters.drop([\"freebase_movie_id\", \"primaryName\", \"deathYear\", \"birthYear\", \"character_name\"], axis=1)\n",
    "\n",
    "imdb_actors_w_cmu_characters = imdb_actors_w_cmu_characters.drop_duplicates()\n",
    "\n",
    "imdb_actors_w_cmu_characters.sample(5)"
   ]
  },
  {
   "cell_type": "markdown",
   "metadata": {},
   "source": [
    "## Summary of results for part I\n",
    "We now have two main dataframes for further analysis. One containing everything related to movies and their ratings and the other containing everything related to actors, their features and characters they played in a given movie."
   ]
  },
  {
   "cell_type": "code",
   "execution_count": 68,
   "metadata": {},
   "outputs": [],
   "source": [
    "movies = cmu_movies_w_imdb_rating.copy()\n",
    "actors_characters = imdb_actors_w_cmu_characters.copy()"
   ]
  },
  {
   "cell_type": "code",
   "execution_count": 69,
   "metadata": {},
   "outputs": [
    {
     "data": {
      "text/html": [
       "<div>\n",
       "<style scoped>\n",
       "    .dataframe tbody tr th:only-of-type {\n",
       "        vertical-align: middle;\n",
       "    }\n",
       "\n",
       "    .dataframe tbody tr th {\n",
       "        vertical-align: top;\n",
       "    }\n",
       "\n",
       "    .dataframe thead th {\n",
       "        text-align: right;\n",
       "    }\n",
       "</style>\n",
       "<table border=\"1\" class=\"dataframe\">\n",
       "  <thead>\n",
       "    <tr style=\"text-align: right;\">\n",
       "      <th></th>\n",
       "      <th>tconst</th>\n",
       "      <th>runtimeMinutes</th>\n",
       "      <th>genres</th>\n",
       "      <th>averageRating</th>\n",
       "      <th>numVotes</th>\n",
       "      <th>freebase_id</th>\n",
       "      <th>wiki_movie_id</th>\n",
       "      <th>movie_name</th>\n",
       "      <th>movie_release_date</th>\n",
       "      <th>box_office</th>\n",
       "      <th>movie_languages</th>\n",
       "      <th>movie_countries</th>\n",
       "      <th>movie_genres</th>\n",
       "      <th>plot_summary</th>\n",
       "    </tr>\n",
       "  </thead>\n",
       "  <tbody>\n",
       "    <tr>\n",
       "      <th>0</th>\n",
       "      <td>tt0000009</td>\n",
       "      <td>45</td>\n",
       "      <td>Romance</td>\n",
       "      <td>5.3</td>\n",
       "      <td>207</td>\n",
       "      <td>/m/02q23xk</td>\n",
       "      <td>10109752</td>\n",
       "      <td>Miss Jerry</td>\n",
       "      <td>1894-10-09</td>\n",
       "      <td>NaN</td>\n",
       "      <td>{'/m/06ppq': 'Silent film'}</td>\n",
       "      <td>{'/m/09c7w0': 'United States of America'}</td>\n",
       "      <td>{'/m/02hmvc': 'Short Film', '/m/06ppq': 'Silen...</td>\n",
       "      <td>After finding out that her father is suffering...</td>\n",
       "    </tr>\n",
       "    <tr>\n",
       "      <th>1</th>\n",
       "      <td>tt0000147</td>\n",
       "      <td>100</td>\n",
       "      <td>Documentary,News,Sport</td>\n",
       "      <td>5.3</td>\n",
       "      <td>484</td>\n",
       "      <td>/m/0czdh_n</td>\n",
       "      <td>28703057</td>\n",
       "      <td>The Corbett-Fitzsimmons Fight</td>\n",
       "      <td>1897-05-22</td>\n",
       "      <td>100000.0</td>\n",
       "      <td>{}</td>\n",
       "      <td>{}</td>\n",
       "      <td>{'/m/01z02hx': 'Sports'}</td>\n",
       "      <td>The film no longer exists in its entirety; how...</td>\n",
       "    </tr>\n",
       "    <tr>\n",
       "      <th>2</th>\n",
       "      <td>tt0000574</td>\n",
       "      <td>70</td>\n",
       "      <td>Action,Adventure,Biography</td>\n",
       "      <td>6.0</td>\n",
       "      <td>855</td>\n",
       "      <td>/m/0120y4</td>\n",
       "      <td>142995</td>\n",
       "      <td>The Story of the Kelly Gang</td>\n",
       "      <td>1906-12-26</td>\n",
       "      <td>NaN</td>\n",
       "      <td>{'/m/02h40lc': 'English Language'}</td>\n",
       "      <td>{'/m/0chghy': 'Australia'}</td>\n",
       "      <td>{'/m/0lsxr': 'Crime Fiction', '/m/06ppq': 'Sil...</td>\n",
       "      <td>The Story of the Kelly Gangs tone is of sorrow...</td>\n",
       "    </tr>\n",
       "    <tr>\n",
       "      <th>3</th>\n",
       "      <td>tt0000591</td>\n",
       "      <td>90</td>\n",
       "      <td>Drama</td>\n",
       "      <td>5.0</td>\n",
       "      <td>21</td>\n",
       "      <td>/m/07s67rr</td>\n",
       "      <td>4849466</td>\n",
       "      <td>L'Enfant prodigue</td>\n",
       "      <td>1907-06-20</td>\n",
       "      <td>NaN</td>\n",
       "      <td>{'/m/064_8sq': 'French Language'}</td>\n",
       "      <td>{'/m/0f8l9c': 'France'}</td>\n",
       "      <td>{'/m/02hmvc': 'Short Film', '/m/06ppq': 'Silen...</td>\n",
       "      <td>NaN</td>\n",
       "    </tr>\n",
       "    <tr>\n",
       "      <th>4</th>\n",
       "      <td>tt0000679</td>\n",
       "      <td>120</td>\n",
       "      <td>Adventure,Fantasy</td>\n",
       "      <td>5.1</td>\n",
       "      <td>68</td>\n",
       "      <td>/m/0fgfyy</td>\n",
       "      <td>5954041</td>\n",
       "      <td>The Fairylogue and Radio-Plays</td>\n",
       "      <td>1908-09-24</td>\n",
       "      <td>NaN</td>\n",
       "      <td>{'/m/02h40lc': 'English Language'}</td>\n",
       "      <td>{'/m/09c7w0': 'United States of America'}</td>\n",
       "      <td>{'/m/06ppq': 'Silent film', '/m/01g6gs': 'Blac...</td>\n",
       "      <td>NaN</td>\n",
       "    </tr>\n",
       "  </tbody>\n",
       "</table>\n",
       "</div>"
      ],
      "text/plain": [
       "      tconst runtimeMinutes                      genres  averageRating  \\\n",
       "0  tt0000009             45                     Romance            5.3   \n",
       "1  tt0000147            100      Documentary,News,Sport            5.3   \n",
       "2  tt0000574             70  Action,Adventure,Biography            6.0   \n",
       "3  tt0000591             90                       Drama            5.0   \n",
       "4  tt0000679            120           Adventure,Fantasy            5.1   \n",
       "\n",
       "   numVotes freebase_id  wiki_movie_id                      movie_name  \\\n",
       "0       207  /m/02q23xk       10109752                      Miss Jerry   \n",
       "1       484  /m/0czdh_n       28703057   The Corbett-Fitzsimmons Fight   \n",
       "2       855   /m/0120y4         142995     The Story of the Kelly Gang   \n",
       "3        21  /m/07s67rr        4849466               L'Enfant prodigue   \n",
       "4        68   /m/0fgfyy        5954041  The Fairylogue and Radio-Plays   \n",
       "\n",
       "  movie_release_date  box_office                     movie_languages  \\\n",
       "0         1894-10-09         NaN         {'/m/06ppq': 'Silent film'}   \n",
       "1         1897-05-22    100000.0                                  {}   \n",
       "2         1906-12-26         NaN  {'/m/02h40lc': 'English Language'}   \n",
       "3         1907-06-20         NaN   {'/m/064_8sq': 'French Language'}   \n",
       "4         1908-09-24         NaN  {'/m/02h40lc': 'English Language'}   \n",
       "\n",
       "                             movie_countries  \\\n",
       "0  {'/m/09c7w0': 'United States of America'}   \n",
       "1                                         {}   \n",
       "2                 {'/m/0chghy': 'Australia'}   \n",
       "3                    {'/m/0f8l9c': 'France'}   \n",
       "4  {'/m/09c7w0': 'United States of America'}   \n",
       "\n",
       "                                        movie_genres  \\\n",
       "0  {'/m/02hmvc': 'Short Film', '/m/06ppq': 'Silen...   \n",
       "1                           {'/m/01z02hx': 'Sports'}   \n",
       "2  {'/m/0lsxr': 'Crime Fiction', '/m/06ppq': 'Sil...   \n",
       "3  {'/m/02hmvc': 'Short Film', '/m/06ppq': 'Silen...   \n",
       "4  {'/m/06ppq': 'Silent film', '/m/01g6gs': 'Blac...   \n",
       "\n",
       "                                        plot_summary  \n",
       "0  After finding out that her father is suffering...  \n",
       "1  The film no longer exists in its entirety; how...  \n",
       "2  The Story of the Kelly Gangs tone is of sorrow...  \n",
       "3                                                NaN  \n",
       "4                                                NaN  "
      ]
     },
     "execution_count": 69,
     "metadata": {},
     "output_type": "execute_result"
    }
   ],
   "source": [
    "movies.head()"
   ]
  },
  {
   "cell_type": "code",
   "execution_count": 70,
   "metadata": {
    "scrolled": true
   },
   "outputs": [
    {
     "data": {
      "text/html": [
       "<div>\n",
       "<style scoped>\n",
       "    .dataframe tbody tr th:only-of-type {\n",
       "        vertical-align: middle;\n",
       "    }\n",
       "\n",
       "    .dataframe tbody tr th {\n",
       "        vertical-align: top;\n",
       "    }\n",
       "\n",
       "    .dataframe thead th {\n",
       "        text-align: right;\n",
       "    }\n",
       "</style>\n",
       "<table border=\"1\" class=\"dataframe\">\n",
       "  <thead>\n",
       "    <tr style=\"text-align: right;\">\n",
       "      <th></th>\n",
       "      <th>nconst</th>\n",
       "      <th>knownForTitles</th>\n",
       "      <th>tconst</th>\n",
       "      <th>characters</th>\n",
       "      <th>freebase_id</th>\n",
       "      <th>wiki_movie_id</th>\n",
       "      <th>release_date</th>\n",
       "      <th>actor_birth</th>\n",
       "      <th>actor_gender</th>\n",
       "      <th>actor_height</th>\n",
       "      <th>actor_ethnicity</th>\n",
       "      <th>actor_name</th>\n",
       "      <th>release_actor_age</th>\n",
       "      <th>freebase_map_id</th>\n",
       "      <th>freebase_character_id</th>\n",
       "      <th>freebase_actor_id</th>\n",
       "    </tr>\n",
       "  </thead>\n",
       "  <tbody>\n",
       "    <tr>\n",
       "      <th>0</th>\n",
       "      <td>nm0000001</td>\n",
       "      <td>tt0050419,tt0031983,tt0053137,tt0072308</td>\n",
       "      <td>tt0025164</td>\n",
       "      <td>[\"Guy Holden\"]</td>\n",
       "      <td>/m/0glnm</td>\n",
       "      <td>61169</td>\n",
       "      <td>1934</td>\n",
       "      <td>1899-05-10</td>\n",
       "      <td>M</td>\n",
       "      <td>1.750</td>\n",
       "      <td>/m/01qhm_</td>\n",
       "      <td>Fred Astaire</td>\n",
       "      <td>NaN</td>\n",
       "      <td>/m/0k557x</td>\n",
       "      <td>/m/0h184w0</td>\n",
       "      <td>/m/0h953</td>\n",
       "    </tr>\n",
       "    <tr>\n",
       "      <th>1</th>\n",
       "      <td>nm0002143</td>\n",
       "      <td>tt0036613,tt0030241,tt0027125,tt0057193</td>\n",
       "      <td>tt0025164</td>\n",
       "      <td>[\"Egbert 'Pinky' Fitzgerald\"]</td>\n",
       "      <td>/m/0glnm</td>\n",
       "      <td>61169</td>\n",
       "      <td>1934</td>\n",
       "      <td>1886-03-18</td>\n",
       "      <td>M</td>\n",
       "      <td>NaN</td>\n",
       "      <td>NaN</td>\n",
       "      <td>Edward Everett Horton</td>\n",
       "      <td>NaN</td>\n",
       "      <td>/m/0cs6brt</td>\n",
       "      <td>NaN</td>\n",
       "      <td>/m/0197p7</td>\n",
       "    </tr>\n",
       "    <tr>\n",
       "      <th>2</th>\n",
       "      <td>nm0000001</td>\n",
       "      <td>tt0050419,tt0031983,tt0053137,tt0072308</td>\n",
       "      <td>tt0026942</td>\n",
       "      <td>[\"Huck Haines\"]</td>\n",
       "      <td>/m/02x5h46</td>\n",
       "      <td>12800555</td>\n",
       "      <td>1935-03-08</td>\n",
       "      <td>1899-05-10</td>\n",
       "      <td>M</td>\n",
       "      <td>1.750</td>\n",
       "      <td>/m/01qhm_</td>\n",
       "      <td>Fred Astaire</td>\n",
       "      <td>NaN</td>\n",
       "      <td>/m/03l20gb</td>\n",
       "      <td>/m/0h184_z</td>\n",
       "      <td>/m/0h953</td>\n",
       "    </tr>\n",
       "    <tr>\n",
       "      <th>3</th>\n",
       "      <td>nm0000068</td>\n",
       "      <td>tt0029284,tt0026942,tt0056412,tt0046375</td>\n",
       "      <td>tt0026942</td>\n",
       "      <td>[\"John Kent\"]</td>\n",
       "      <td>/m/02x5h46</td>\n",
       "      <td>12800555</td>\n",
       "      <td>1935-03-08</td>\n",
       "      <td>1898-01-23</td>\n",
       "      <td>M</td>\n",
       "      <td>1.905</td>\n",
       "      <td>NaN</td>\n",
       "      <td>Randolph Scott</td>\n",
       "      <td>NaN</td>\n",
       "      <td>/m/03l20fw</td>\n",
       "      <td>/m/0h2qky5</td>\n",
       "      <td>/m/014y_c</td>\n",
       "    </tr>\n",
       "    <tr>\n",
       "      <th>4</th>\n",
       "      <td>nm0000001</td>\n",
       "      <td>tt0050419,tt0031983,tt0053137,tt0072308</td>\n",
       "      <td>tt0027125</td>\n",
       "      <td>[\"Jerry Travers\"]</td>\n",
       "      <td>/m/0gnjh</td>\n",
       "      <td>61501</td>\n",
       "      <td>1935</td>\n",
       "      <td>1899-05-10</td>\n",
       "      <td>M</td>\n",
       "      <td>1.750</td>\n",
       "      <td>/m/01qhm_</td>\n",
       "      <td>Fred Astaire</td>\n",
       "      <td>NaN</td>\n",
       "      <td>/m/0k77vk</td>\n",
       "      <td>/m/0h184_5</td>\n",
       "      <td>/m/0h953</td>\n",
       "    </tr>\n",
       "  </tbody>\n",
       "</table>\n",
       "</div>"
      ],
      "text/plain": [
       "      nconst                           knownForTitles     tconst  \\\n",
       "0  nm0000001  tt0050419,tt0031983,tt0053137,tt0072308  tt0025164   \n",
       "1  nm0002143  tt0036613,tt0030241,tt0027125,tt0057193  tt0025164   \n",
       "2  nm0000001  tt0050419,tt0031983,tt0053137,tt0072308  tt0026942   \n",
       "3  nm0000068  tt0029284,tt0026942,tt0056412,tt0046375  tt0026942   \n",
       "4  nm0000001  tt0050419,tt0031983,tt0053137,tt0072308  tt0027125   \n",
       "\n",
       "                      characters freebase_id  wiki_movie_id release_date  \\\n",
       "0                 [\"Guy Holden\"]    /m/0glnm          61169         1934   \n",
       "1  [\"Egbert 'Pinky' Fitzgerald\"]    /m/0glnm          61169         1934   \n",
       "2                [\"Huck Haines\"]  /m/02x5h46       12800555   1935-03-08   \n",
       "3                  [\"John Kent\"]  /m/02x5h46       12800555   1935-03-08   \n",
       "4              [\"Jerry Travers\"]    /m/0gnjh          61501         1935   \n",
       "\n",
       "  actor_birth actor_gender  actor_height actor_ethnicity  \\\n",
       "0  1899-05-10            M         1.750       /m/01qhm_   \n",
       "1  1886-03-18            M           NaN             NaN   \n",
       "2  1899-05-10            M         1.750       /m/01qhm_   \n",
       "3  1898-01-23            M         1.905             NaN   \n",
       "4  1899-05-10            M         1.750       /m/01qhm_   \n",
       "\n",
       "              actor_name  release_actor_age freebase_map_id  \\\n",
       "0           Fred Astaire                NaN       /m/0k557x   \n",
       "1  Edward Everett Horton                NaN      /m/0cs6brt   \n",
       "2           Fred Astaire                NaN      /m/03l20gb   \n",
       "3         Randolph Scott                NaN      /m/03l20fw   \n",
       "4           Fred Astaire                NaN       /m/0k77vk   \n",
       "\n",
       "  freebase_character_id freebase_actor_id  \n",
       "0            /m/0h184w0          /m/0h953  \n",
       "1                   NaN         /m/0197p7  \n",
       "2            /m/0h184_z          /m/0h953  \n",
       "3            /m/0h2qky5         /m/014y_c  \n",
       "4            /m/0h184_5          /m/0h953  "
      ]
     },
     "execution_count": 70,
     "metadata": {},
     "output_type": "execute_result"
    }
   ],
   "source": [
    "actors_characters.head()"
   ]
  },
  {
   "cell_type": "code",
   "execution_count": 71,
   "metadata": {},
   "outputs": [],
   "source": [
    "movies.to_json(os.path.join(SAVE_PATH, \"movies.json\"), orient='records')"
   ]
  },
  {
   "cell_type": "code",
   "execution_count": 72,
   "metadata": {},
   "outputs": [],
   "source": [
    "actors_characters.to_json(os.path.join(SAVE_PATH, \"characters.json\"), orient='records')"
   ]
  },
  {
   "cell_type": "markdown",
   "metadata": {},
   "source": [
    "# Part II: Personas"
   ]
  },
  {
   "cell_type": "code",
   "execution_count": 2,
   "metadata": {},
   "outputs": [],
   "source": [
    "# Load results of part I\n",
    "movies = pd.read_json(os.path.join(SAVE_PATH, \"movies.json\"))\n",
    "actors_characters = pd.read_json(os.path.join(SAVE_PATH, \"characters.json\"))"
   ]
  },
  {
   "cell_type": "markdown",
   "metadata": {},
   "source": [
    "## TVTropes personas\n",
    "We now load the 500 personas records we extracted from TVTropes"
   ]
  },
  {
   "cell_type": "code",
   "execution_count": 29,
   "metadata": {},
   "outputs": [
    {
     "data": {
      "text/html": [
       "<div>\n",
       "<style scoped>\n",
       "    .dataframe tbody tr th:only-of-type {\n",
       "        vertical-align: middle;\n",
       "    }\n",
       "\n",
       "    .dataframe tbody tr th {\n",
       "        vertical-align: top;\n",
       "    }\n",
       "\n",
       "    .dataframe thead th {\n",
       "        text-align: right;\n",
       "    }\n",
       "</style>\n",
       "<table border=\"1\" class=\"dataframe\">\n",
       "  <thead>\n",
       "    <tr style=\"text-align: right;\">\n",
       "      <th></th>\n",
       "      <th>id</th>\n",
       "      <th>trope</th>\n",
       "      <th>actor</th>\n",
       "      <th>character</th>\n",
       "      <th>movie_name</th>\n",
       "    </tr>\n",
       "  </thead>\n",
       "  <tbody>\n",
       "    <tr>\n",
       "      <th>0</th>\n",
       "      <td>/m/02wszk9</td>\n",
       "      <td>chanteuse</td>\n",
       "      <td>Kathleen Turner</td>\n",
       "      <td>Jessica Rabbit</td>\n",
       "      <td>Who Framed Roger Rabbit</td>\n",
       "    </tr>\n",
       "    <tr>\n",
       "      <th>1</th>\n",
       "      <td>/m/0k5wls</td>\n",
       "      <td>chanteuse</td>\n",
       "      <td>Cameron Diaz</td>\n",
       "      <td>Tina Carlyle</td>\n",
       "      <td>The Mask</td>\n",
       "    </tr>\n",
       "    <tr>\n",
       "      <th>2</th>\n",
       "      <td>/m/0k50tl</td>\n",
       "      <td>chanteuse</td>\n",
       "      <td>Michelle Pfeiffer</td>\n",
       "      <td>Susie Diamond</td>\n",
       "      <td>The Fabulous Baker Boys</td>\n",
       "    </tr>\n",
       "    <tr>\n",
       "      <th>3</th>\n",
       "      <td>/m/0k3j8v</td>\n",
       "      <td>chanteuse</td>\n",
       "      <td>Marilyn Monroe</td>\n",
       "      <td>Sugar Kane Kowalczyk</td>\n",
       "      <td>Some Like It Hot</td>\n",
       "    </tr>\n",
       "    <tr>\n",
       "      <th>4</th>\n",
       "      <td>/m/0jvlc4</td>\n",
       "      <td>chanteuse</td>\n",
       "      <td>Isabella Rossellini</td>\n",
       "      <td>Dorothy Vallens</td>\n",
       "      <td>Blue Velvet</td>\n",
       "    </tr>\n",
       "  </tbody>\n",
       "</table>\n",
       "</div>"
      ],
      "text/plain": [
       "           id      trope                actor             character  \\\n",
       "0  /m/02wszk9  chanteuse      Kathleen Turner        Jessica Rabbit   \n",
       "1   /m/0k5wls  chanteuse         Cameron Diaz          Tina Carlyle   \n",
       "2   /m/0k50tl  chanteuse    Michelle Pfeiffer         Susie Diamond   \n",
       "3   /m/0k3j8v  chanteuse       Marilyn Monroe  Sugar Kane Kowalczyk   \n",
       "4   /m/0jvlc4  chanteuse  Isabella Rossellini       Dorothy Vallens   \n",
       "\n",
       "                movie_name  \n",
       "0  Who Framed Roger Rabbit  \n",
       "1                 The Mask  \n",
       "2  The Fabulous Baker Boys  \n",
       "3         Some Like It Hot  \n",
       "4              Blue Velvet  "
      ]
     },
     "execution_count": 29,
     "metadata": {},
     "output_type": "execute_result"
    }
   ],
   "source": [
    "tvtropes_personas = load_tv_tropes_personas_df()\n",
    "tvtropes_personas.head()"
   ]
  },
  {
   "cell_type": "markdown",
   "metadata": {},
   "source": [
    "### Analyse tropes per actor\n",
    "Let's see if actors have diverse tropes"
   ]
  },
  {
   "cell_type": "code",
   "execution_count": 11,
   "metadata": {},
   "outputs": [],
   "source": [
    "tvtropes_per_actor = tvtropes_personas[[\"actor\", \"trope\"]].copy().groupby(\"actor\").agg(list).reset_index()"
   ]
  },
  {
   "cell_type": "code",
   "execution_count": 12,
   "metadata": {},
   "outputs": [],
   "source": [
    "tvtropes_per_actor[\"num_tropes\"] = tvtropes_per_actor[\"trope\"].apply(lambda ls: len(list(dict.fromkeys(ls))))"
   ]
  },
  {
   "cell_type": "code",
   "execution_count": 13,
   "metadata": {},
   "outputs": [],
   "source": [
    "tvtropes_per_actor = tvtropes_per_actor.sort_values(\"num_tropes\", ascending = False)"
   ]
  },
  {
   "cell_type": "code",
   "execution_count": 15,
   "metadata": {},
   "outputs": [
    {
     "data": {
      "text/html": [
       "<div>\n",
       "<style scoped>\n",
       "    .dataframe tbody tr th:only-of-type {\n",
       "        vertical-align: middle;\n",
       "    }\n",
       "\n",
       "    .dataframe tbody tr th {\n",
       "        vertical-align: top;\n",
       "    }\n",
       "\n",
       "    .dataframe thead th {\n",
       "        text-align: right;\n",
       "    }\n",
       "</style>\n",
       "<table border=\"1\" class=\"dataframe\">\n",
       "  <thead>\n",
       "    <tr style=\"text-align: right;\">\n",
       "      <th></th>\n",
       "      <th>actor</th>\n",
       "      <th>trope</th>\n",
       "      <th>num_tropes</th>\n",
       "    </tr>\n",
       "  </thead>\n",
       "  <tbody>\n",
       "    <tr>\n",
       "      <th>166</th>\n",
       "      <td>Johnny Depp</td>\n",
       "      <td>[casanova, charmer, byronic_hero, byronic_hero...</td>\n",
       "      <td>7</td>\n",
       "    </tr>\n",
       "    <tr>\n",
       "      <th>279</th>\n",
       "      <td>Robert De Niro</td>\n",
       "      <td>[crazy_jealous_guy, crazy_jealous_guy, tranqui...</td>\n",
       "      <td>6</td>\n",
       "    </tr>\n",
       "    <tr>\n",
       "      <th>109</th>\n",
       "      <td>Harrison Ford</td>\n",
       "      <td>[charmer, bounty_hunter, loveable_rogue, trick...</td>\n",
       "      <td>6</td>\n",
       "    </tr>\n",
       "    <tr>\n",
       "      <th>57</th>\n",
       "      <td>Clint Eastwood</td>\n",
       "      <td>[retired_outlaw, heartbroken_badass, bounty_hu...</td>\n",
       "      <td>6</td>\n",
       "    </tr>\n",
       "    <tr>\n",
       "      <th>64</th>\n",
       "      <td>Daniel Craig</td>\n",
       "      <td>[cultured_badass, heartbroken_badass, charmer,...</td>\n",
       "      <td>5</td>\n",
       "    </tr>\n",
       "  </tbody>\n",
       "</table>\n",
       "</div>"
      ],
      "text/plain": [
       "              actor                                              trope  \\\n",
       "166     Johnny Depp  [casanova, charmer, byronic_hero, byronic_hero...   \n",
       "279  Robert De Niro  [crazy_jealous_guy, crazy_jealous_guy, tranqui...   \n",
       "109   Harrison Ford  [charmer, bounty_hunter, loveable_rogue, trick...   \n",
       "57   Clint Eastwood  [retired_outlaw, heartbroken_badass, bounty_hu...   \n",
       "64     Daniel Craig  [cultured_badass, heartbroken_badass, charmer,...   \n",
       "\n",
       "     num_tropes  \n",
       "166           7  \n",
       "279           6  \n",
       "109           6  \n",
       "57            6  \n",
       "64            5  "
      ]
     },
     "execution_count": 15,
     "metadata": {},
     "output_type": "execute_result"
    }
   ],
   "source": [
    "tvtropes_per_actor.head()"
   ]
  },
  {
   "cell_type": "code",
   "execution_count": 28,
   "metadata": {},
   "outputs": [
    {
     "data": {
      "image/png": "[encoded data removed]",
      "text/plain": [
       "<Figure size 1000x800 with 1 Axes>"
      ]
     },
     "metadata": {},
     "output_type": "display_data"
    }
   ],
   "source": [
    "plt.figure(figsize=(10, 8))\n",
    "sns.barplot(data = tvtropes_per_actor.head(35), x=\"num_tropes\", y=\"actor\", orient='h')\n",
    "plt.xlabel('Number of Tropes')\n",
    "plt.ylabel('Actor')\n",
    "plt.title('Top 20 actors with the most diverse tropes')\n",
    "plt.show()"
   ]
  },
  {
   "cell_type": "markdown",
   "metadata": {},
   "source": [
    "As we can see we have a problem. We only have very few well known actors with multiple personas. This makes further analysis impossible with this dataset"
   ]
  },
  {
   "cell_type": "markdown",
   "metadata": {},
   "source": [
    "### Analyse frequency of tropes when joined with our movies\n",
    "This merging step is far from perfect as we have to merge on movie name, which is not a primary key. The generated data is widely unreliable, but we still plot it to get an idea of the distribution of personas."
   ]
  },
  {
   "cell_type": "code",
   "execution_count": 33,
   "metadata": {},
   "outputs": [],
   "source": [
    "tvtropes_personas_std = tvtropes_personas.copy()\n",
    "tvtropes_personas_std['movie_name_standardized'] = tvtropes_personas_std['movie_name'].str.lower()"
   ]
  },
  {
   "cell_type": "code",
   "execution_count": 34,
   "metadata": {},
   "outputs": [],
   "source": [
    "movies_std = movies.copy()\n",
    "movies_std['movie_name_standardized'] = movies_std['movie_name'].str.lower()"
   ]
  },
  {
   "cell_type": "code",
   "execution_count": 35,
   "metadata": {},
   "outputs": [],
   "source": [
    "movies_personas = movies_std.merge(tvtropes_personas_std, on='movie_name_standardized', how='inner')"
   ]
  },
  {
   "cell_type": "code",
   "execution_count": 36,
   "metadata": {},
   "outputs": [
    {
     "data": {
      "image/png": "[encoded data removed]",
      "text/plain": [
       "<Figure size 2000x1800 with 1 Axes>"
      ]
     },
     "metadata": {},
     "output_type": "display_data"
    }
   ],
   "source": [
    "trope_value_counts = movies_personas['trope'].value_counts()\n",
    "\n",
    "plt.figure(figsize=(20, 18))\n",
    "trope_value_counts.plot(kind='barh')\n",
    "plt.xlabel('Count')\n",
    "plt.ylabel('Tropes')\n",
    "plt.title('Frequency of Tropes in Movies')\n",
    "plt.gca().invert_yaxis()\n",
    "plt.show()"
   ]
  },
  {
   "cell_type": "markdown",
   "metadata": {},
   "source": [
    "## CMU personas with characters\n",
    "We merge the actors and characters information we extracted in part I with the personas from the original paper"
   ]
  },
  {
   "cell_type": "code",
   "execution_count": 42,
   "metadata": {},
   "outputs": [],
   "source": [
    "cmu_personas = load_personas()"
   ]
  },
  {
   "cell_type": "code",
   "execution_count": 43,
   "metadata": {},
   "outputs": [
    {
     "data": {
      "text/html": [
       "<div>\n",
       "<style scoped>\n",
       "    .dataframe tbody tr th:only-of-type {\n",
       "        vertical-align: middle;\n",
       "    }\n",
       "\n",
       "    .dataframe tbody tr th {\n",
       "        vertical-align: top;\n",
       "    }\n",
       "\n",
       "    .dataframe thead th {\n",
       "        text-align: right;\n",
       "    }\n",
       "</style>\n",
       "<table border=\"1\" class=\"dataframe\">\n",
       "  <thead>\n",
       "    <tr style=\"text-align: right;\">\n",
       "      <th></th>\n",
       "      <th>freebase_id</th>\n",
       "      <th>wiki_id</th>\n",
       "      <th>movie_name</th>\n",
       "      <th>secondary_name</th>\n",
       "      <th>full_name</th>\n",
       "      <th>token_occurences</th>\n",
       "      <th>estimated_trope</th>\n",
       "      <th>trope_distrib</th>\n",
       "    </tr>\n",
       "  </thead>\n",
       "  <tbody>\n",
       "    <tr>\n",
       "      <th>91889</th>\n",
       "      <td>e1</td>\n",
       "      <td>2796566</td>\n",
       "      <td>The Firm</td>\n",
       "      <td>he</td>\n",
       "      <td>he</td>\n",
       "      <td>8</td>\n",
       "      <td>23</td>\n",
       "      <td>[0.0, 0.0, 0.0, 0.02, 0.0, 0.0, 0.0, 0.05, 0.0...</td>\n",
       "    </tr>\n",
       "    <tr>\n",
       "      <th>48981</th>\n",
       "      <td>e15</td>\n",
       "      <td>19325619</td>\n",
       "      <td>Midnight Movie</td>\n",
       "      <td>friend</td>\n",
       "      <td>their awkward friend Sully</td>\n",
       "      <td>3</td>\n",
       "      <td>1</td>\n",
       "      <td>[0.0, 0.69, 0.0, 0.0, 0.0, 0.0, 0.0, 0.23, 0.0...</td>\n",
       "    </tr>\n",
       "    <tr>\n",
       "      <th>89089</th>\n",
       "      <td>e3</td>\n",
       "      <td>27363241</td>\n",
       "      <td>Akasa Kusum</td>\n",
       "      <td>she</td>\n",
       "      <td>her</td>\n",
       "      <td>3</td>\n",
       "      <td>13</td>\n",
       "      <td>[0.0, 0.0, 0.16, 0.05, 0.0, 0.01, 0.0, 0.0, 0....</td>\n",
       "    </tr>\n",
       "    <tr>\n",
       "      <th>157319</th>\n",
       "      <td>e5</td>\n",
       "      <td>7000543</td>\n",
       "      <td>The Last Dragon</td>\n",
       "      <td>dragon</td>\n",
       "      <td>the young dragon</td>\n",
       "      <td>6</td>\n",
       "      <td>29</td>\n",
       "      <td>[0.0, 0.0, 0.0, 0.0, 0.0, 0.0, 0.0, 0.0, 0.0, ...</td>\n",
       "    </tr>\n",
       "    <tr>\n",
       "      <th>53424</th>\n",
       "      <td>e0</td>\n",
       "      <td>20211517</td>\n",
       "      <td>The Flower of Love</td>\n",
       "      <td>Raju</td>\n",
       "      <td>Raju</td>\n",
       "      <td>17</td>\n",
       "      <td>12</td>\n",
       "      <td>[0.0, 0.0, 0.14, 0.03, 0.0, 0.0, 0.0, 0.0, 0.0...</td>\n",
       "    </tr>\n",
       "  </tbody>\n",
       "</table>\n",
       "</div>"
      ],
      "text/plain": [
       "       freebase_id   wiki_id          movie_name secondary_name  \\\n",
       "91889           e1   2796566            The Firm             he   \n",
       "48981          e15  19325619      Midnight Movie         friend   \n",
       "89089           e3  27363241         Akasa Kusum            she   \n",
       "157319          e5   7000543     The Last Dragon         dragon   \n",
       "53424           e0  20211517  The Flower of Love           Raju   \n",
       "\n",
       "                         full_name  token_occurences  estimated_trope  \\\n",
       "91889                           he                 8               23   \n",
       "48981   their awkward friend Sully                 3                1   \n",
       "89089                          her                 3               13   \n",
       "157319            the young dragon                 6               29   \n",
       "53424                         Raju                17               12   \n",
       "\n",
       "                                            trope_distrib  \n",
       "91889   [0.0, 0.0, 0.0, 0.02, 0.0, 0.0, 0.0, 0.05, 0.0...  \n",
       "48981   [0.0, 0.69, 0.0, 0.0, 0.0, 0.0, 0.0, 0.23, 0.0...  \n",
       "89089   [0.0, 0.0, 0.16, 0.05, 0.0, 0.01, 0.0, 0.0, 0....  \n",
       "157319  [0.0, 0.0, 0.0, 0.0, 0.0, 0.0, 0.0, 0.0, 0.0, ...  \n",
       "53424   [0.0, 0.0, 0.14, 0.03, 0.0, 0.0, 0.0, 0.0, 0.0...  "
      ]
     },
     "execution_count": 43,
     "metadata": {},
     "output_type": "execute_result"
    }
   ],
   "source": [
    "cmu_personas.sample(5)"
   ]
  },
  {
   "cell_type": "code",
   "execution_count": 44,
   "metadata": {},
   "outputs": [],
   "source": [
    "movies_personas_cmu = cmu_personas.merge(actors_characters, left_on='freebase_id', right_on='freebase_map_id')"
   ]
  },
  {
   "cell_type": "code",
   "execution_count": 45,
   "metadata": {},
   "outputs": [
    {
     "data": {
      "text/html": [
       "<div>\n",
       "<style scoped>\n",
       "    .dataframe tbody tr th:only-of-type {\n",
       "        vertical-align: middle;\n",
       "    }\n",
       "\n",
       "    .dataframe tbody tr th {\n",
       "        vertical-align: top;\n",
       "    }\n",
       "\n",
       "    .dataframe thead th {\n",
       "        text-align: right;\n",
       "    }\n",
       "</style>\n",
       "<table border=\"1\" class=\"dataframe\">\n",
       "  <thead>\n",
       "    <tr style=\"text-align: right;\">\n",
       "      <th></th>\n",
       "      <th>freebase_id_x</th>\n",
       "      <th>wiki_id</th>\n",
       "      <th>movie_name</th>\n",
       "      <th>secondary_name</th>\n",
       "      <th>full_name</th>\n",
       "      <th>token_occurences</th>\n",
       "      <th>estimated_trope</th>\n",
       "      <th>trope_distrib</th>\n",
       "      <th>nconst</th>\n",
       "      <th>knownForTitles</th>\n",
       "      <th>...</th>\n",
       "      <th>release_date</th>\n",
       "      <th>actor_birth</th>\n",
       "      <th>actor_gender</th>\n",
       "      <th>actor_height</th>\n",
       "      <th>actor_ethnicity</th>\n",
       "      <th>actor_name</th>\n",
       "      <th>release_actor_age</th>\n",
       "      <th>freebase_map_id</th>\n",
       "      <th>freebase_character_id</th>\n",
       "      <th>freebase_actor_id</th>\n",
       "    </tr>\n",
       "  </thead>\n",
       "  <tbody>\n",
       "    <tr>\n",
       "      <th>8033</th>\n",
       "      <td>/m/03lhdk7</td>\n",
       "      <td>4106181</td>\n",
       "      <td>Knock Off</td>\n",
       "      <td>Marcus Ray</td>\n",
       "      <td>Ray</td>\n",
       "      <td>4</td>\n",
       "      <td>35</td>\n",
       "      <td>[0.0, 0.0, 0.0, 0.0, 0.01, 0.07, 0.0, 0.0, 0.0...</td>\n",
       "      <td>nm0000241</td>\n",
       "      <td>tt1130988,tt0097659,tt0101764,tt0119013</td>\n",
       "      <td>...</td>\n",
       "      <td>1998-09-04</td>\n",
       "      <td>1960-10-18</td>\n",
       "      <td>M</td>\n",
       "      <td>1.78</td>\n",
       "      <td>/m/02p656s</td>\n",
       "      <td>Jean-Claude Van Damme</td>\n",
       "      <td>37.0</td>\n",
       "      <td>/m/03lhdk7</td>\n",
       "      <td>/m/05yxmct</td>\n",
       "      <td>/m/0m8_v</td>\n",
       "    </tr>\n",
       "    <tr>\n",
       "      <th>9147</th>\n",
       "      <td>/m/03jr4dp</td>\n",
       "      <td>5388717</td>\n",
       "      <td>I'm Not There</td>\n",
       "      <td>Arthur</td>\n",
       "      <td>Arthur</td>\n",
       "      <td>4</td>\n",
       "      <td>17</td>\n",
       "      <td>[0.0, 0.0, 0.2, 0.0, 0.0, 0.01, 0.05, 0.0, 0.0...</td>\n",
       "      <td>nm0924210</td>\n",
       "      <td>tt1074638,tt1371111,tt0396171,tt3464902</td>\n",
       "      <td>...</td>\n",
       "      <td>2007-09-03</td>\n",
       "      <td>1980-10-14</td>\n",
       "      <td>M</td>\n",
       "      <td>1.75</td>\n",
       "      <td>/m/02w7gg</td>\n",
       "      <td>Ben Whishaw</td>\n",
       "      <td>26.0</td>\n",
       "      <td>/m/03jr4dp</td>\n",
       "      <td>/m/0ct1p05</td>\n",
       "      <td>/m/05mk08</td>\n",
       "    </tr>\n",
       "    <tr>\n",
       "      <th>991</th>\n",
       "      <td>/m/03l17bv</td>\n",
       "      <td>12491754</td>\n",
       "      <td>Evil Angel</td>\n",
       "      <td>Carruthers</td>\n",
       "      <td>Carruthers '</td>\n",
       "      <td>3</td>\n",
       "      <td>35</td>\n",
       "      <td>[0.0, 0.0, 0.0, 0.0, 0.0, 0.0, 0.0, 0.0, 0.0, ...</td>\n",
       "      <td>nm0000609</td>\n",
       "      <td>tt0110912,tt2381249,tt0120755,tt0163988</td>\n",
       "      <td>...</td>\n",
       "      <td>2009</td>\n",
       "      <td>1959-05-12</td>\n",
       "      <td>M</td>\n",
       "      <td>1.83</td>\n",
       "      <td>/m/0x67</td>\n",
       "      <td>Ving Rhames</td>\n",
       "      <td>49.0</td>\n",
       "      <td>/m/03l17bv</td>\n",
       "      <td>/m/0h2cq0b</td>\n",
       "      <td>/m/032zg9</td>\n",
       "    </tr>\n",
       "    <tr>\n",
       "      <th>11541</th>\n",
       "      <td>/m/02vcb3s</td>\n",
       "      <td>9190913</td>\n",
       "      <td>Possessed</td>\n",
       "      <td>Mark Whitney</td>\n",
       "      <td>Mark talking with some politicians</td>\n",
       "      <td>12</td>\n",
       "      <td>49</td>\n",
       "      <td>[0.0, 0.0, 0.05, 0.02, 0.0, 0.0, 0.02, 0.0, 0....</td>\n",
       "      <td>nm0000022</td>\n",
       "      <td>tt0031381,tt0025316,tt0023382,tt0026752</td>\n",
       "      <td>...</td>\n",
       "      <td>1931-11-21</td>\n",
       "      <td>1901-02-01</td>\n",
       "      <td>M</td>\n",
       "      <td>1.85</td>\n",
       "      <td>None</td>\n",
       "      <td>Clark Gable</td>\n",
       "      <td>30.0</td>\n",
       "      <td>/m/02vcb3s</td>\n",
       "      <td>/m/0h2bzzm</td>\n",
       "      <td>/m/0bkmf</td>\n",
       "    </tr>\n",
       "    <tr>\n",
       "      <th>5051</th>\n",
       "      <td>/m/09tg9d1</td>\n",
       "      <td>24368095</td>\n",
       "      <td>The Dunwich Horror</td>\n",
       "      <td>Henry Armitage</td>\n",
       "      <td>Armitage and Cory</td>\n",
       "      <td>6</td>\n",
       "      <td>40</td>\n",
       "      <td>[0.0, 0.0, 0.0, 0.0, 0.0, 0.0, 0.0, 0.0, 0.0, ...</td>\n",
       "      <td>nm0003225</td>\n",
       "      <td>tt0056541,tt0050083,tt0061747,tt0061405</td>\n",
       "      <td>...</td>\n",
       "      <td>1970-01-14</td>\n",
       "      <td>1901-03-25</td>\n",
       "      <td>M</td>\n",
       "      <td>NaN</td>\n",
       "      <td>None</td>\n",
       "      <td>Ed Begley</td>\n",
       "      <td>68.0</td>\n",
       "      <td>/m/09tg9d1</td>\n",
       "      <td>/m/09tg9b_</td>\n",
       "      <td>/m/03bp_g</td>\n",
       "    </tr>\n",
       "  </tbody>\n",
       "</table>\n",
       "<p>5 rows × 24 columns</p>\n",
       "</div>"
      ],
      "text/plain": [
       "      freebase_id_x   wiki_id          movie_name  secondary_name  \\\n",
       "8033     /m/03lhdk7   4106181           Knock Off      Marcus Ray   \n",
       "9147     /m/03jr4dp   5388717       I'm Not There          Arthur   \n",
       "991      /m/03l17bv  12491754          Evil Angel      Carruthers   \n",
       "11541    /m/02vcb3s   9190913           Possessed    Mark Whitney   \n",
       "5051     /m/09tg9d1  24368095  The Dunwich Horror  Henry Armitage   \n",
       "\n",
       "                                full_name  token_occurences  estimated_trope  \\\n",
       "8033                                  Ray                 4               35   \n",
       "9147                               Arthur                 4               17   \n",
       "991                          Carruthers '                 3               35   \n",
       "11541  Mark talking with some politicians                12               49   \n",
       "5051                    Armitage and Cory                 6               40   \n",
       "\n",
       "                                           trope_distrib     nconst  \\\n",
       "8033   [0.0, 0.0, 0.0, 0.0, 0.01, 0.07, 0.0, 0.0, 0.0...  nm0000241   \n",
       "9147   [0.0, 0.0, 0.2, 0.0, 0.0, 0.01, 0.05, 0.0, 0.0...  nm0924210   \n",
       "991    [0.0, 0.0, 0.0, 0.0, 0.0, 0.0, 0.0, 0.0, 0.0, ...  nm0000609   \n",
       "11541  [0.0, 0.0, 0.05, 0.02, 0.0, 0.0, 0.02, 0.0, 0....  nm0000022   \n",
       "5051   [0.0, 0.0, 0.0, 0.0, 0.0, 0.0, 0.0, 0.0, 0.0, ...  nm0003225   \n",
       "\n",
       "                                knownForTitles  ... release_date actor_birth  \\\n",
       "8033   tt1130988,tt0097659,tt0101764,tt0119013  ...   1998-09-04  1960-10-18   \n",
       "9147   tt1074638,tt1371111,tt0396171,tt3464902  ...   2007-09-03  1980-10-14   \n",
       "991    tt0110912,tt2381249,tt0120755,tt0163988  ...         2009  1959-05-12   \n",
       "11541  tt0031381,tt0025316,tt0023382,tt0026752  ...   1931-11-21  1901-02-01   \n",
       "5051   tt0056541,tt0050083,tt0061747,tt0061405  ...   1970-01-14  1901-03-25   \n",
       "\n",
       "      actor_gender  actor_height actor_ethnicity             actor_name  \\\n",
       "8033             M          1.78      /m/02p656s  Jean-Claude Van Damme   \n",
       "9147             M          1.75       /m/02w7gg            Ben Whishaw   \n",
       "991              M          1.83         /m/0x67            Ving Rhames   \n",
       "11541            M          1.85            None            Clark Gable   \n",
       "5051             M           NaN            None              Ed Begley   \n",
       "\n",
       "      release_actor_age  freebase_map_id freebase_character_id  \\\n",
       "8033               37.0       /m/03lhdk7            /m/05yxmct   \n",
       "9147               26.0       /m/03jr4dp            /m/0ct1p05   \n",
       "991                49.0       /m/03l17bv            /m/0h2cq0b   \n",
       "11541              30.0       /m/02vcb3s            /m/0h2bzzm   \n",
       "5051               68.0       /m/09tg9d1            /m/09tg9b_   \n",
       "\n",
       "      freebase_actor_id  \n",
       "8033           /m/0m8_v  \n",
       "9147          /m/05mk08  \n",
       "991           /m/032zg9  \n",
       "11541          /m/0bkmf  \n",
       "5051          /m/03bp_g  \n",
       "\n",
       "[5 rows x 24 columns]"
      ]
     },
     "execution_count": 45,
     "metadata": {},
     "output_type": "execute_result"
    }
   ],
   "source": [
    "movies_personas_cmu.sample(5)"
   ]
  },
  {
   "cell_type": "code",
   "execution_count": 50,
   "metadata": {},
   "outputs": [
    {
     "name": "stdout",
     "output_type": "stream",
     "text": [
      "We have 11986 records for characters\n"
     ]
    }
   ],
   "source": [
    "print(f\"We have {len(movies_personas_cmu)} records for characters\")"
   ]
  },
  {
   "cell_type": "markdown",
   "metadata": {},
   "source": [
    "This offers us one possiblity for further analysis, as we have more than 10'000 records"
   ]
  },
  {
   "cell_type": "markdown",
   "metadata": {},
   "source": [
    "## Movie-based comfort zones\n",
    "We investigate the possiblity of coming up with comfort zones by analysing movie features for a given actor"
   ]
  },
  {
   "cell_type": "code",
   "execution_count": 51,
   "metadata": {},
   "outputs": [
    {
     "data": {
      "text/html": [
       "<div>\n",
       "<style scoped>\n",
       "    .dataframe tbody tr th:only-of-type {\n",
       "        vertical-align: middle;\n",
       "    }\n",
       "\n",
       "    .dataframe tbody tr th {\n",
       "        vertical-align: top;\n",
       "    }\n",
       "\n",
       "    .dataframe thead th {\n",
       "        text-align: right;\n",
       "    }\n",
       "</style>\n",
       "<table border=\"1\" class=\"dataframe\">\n",
       "  <thead>\n",
       "    <tr style=\"text-align: right;\">\n",
       "      <th></th>\n",
       "      <th>tconst</th>\n",
       "      <th>runtimeMinutes</th>\n",
       "      <th>genres</th>\n",
       "      <th>averageRating</th>\n",
       "      <th>numVotes</th>\n",
       "      <th>freebase_id</th>\n",
       "      <th>wiki_movie_id</th>\n",
       "      <th>movie_name</th>\n",
       "      <th>movie_release_date</th>\n",
       "      <th>box_office</th>\n",
       "      <th>movie_languages</th>\n",
       "      <th>movie_countries</th>\n",
       "      <th>movie_genres</th>\n",
       "      <th>plot_summary</th>\n",
       "    </tr>\n",
       "  </thead>\n",
       "  <tbody>\n",
       "    <tr>\n",
       "      <th>0</th>\n",
       "      <td>tt0000009</td>\n",
       "      <td>45</td>\n",
       "      <td>Romance</td>\n",
       "      <td>5.3</td>\n",
       "      <td>207</td>\n",
       "      <td>/m/02q23xk</td>\n",
       "      <td>10109752</td>\n",
       "      <td>Miss Jerry</td>\n",
       "      <td>1894-10-09</td>\n",
       "      <td>NaN</td>\n",
       "      <td>{'/m/06ppq': 'Silent film'}</td>\n",
       "      <td>{'/m/09c7w0': 'United States of America'}</td>\n",
       "      <td>{'/m/02hmvc': 'Short Film', '/m/06ppq': 'Silen...</td>\n",
       "      <td>After finding out that her father is suffering...</td>\n",
       "    </tr>\n",
       "    <tr>\n",
       "      <th>1</th>\n",
       "      <td>tt0000147</td>\n",
       "      <td>100</td>\n",
       "      <td>Documentary,News,Sport</td>\n",
       "      <td>5.3</td>\n",
       "      <td>484</td>\n",
       "      <td>/m/0czdh_n</td>\n",
       "      <td>28703057</td>\n",
       "      <td>The Corbett-Fitzsimmons Fight</td>\n",
       "      <td>1897-05-22</td>\n",
       "      <td>100000.0</td>\n",
       "      <td>{}</td>\n",
       "      <td>{}</td>\n",
       "      <td>{'/m/01z02hx': 'Sports'}</td>\n",
       "      <td>The film no longer exists in its entirety; how...</td>\n",
       "    </tr>\n",
       "    <tr>\n",
       "      <th>2</th>\n",
       "      <td>tt0000574</td>\n",
       "      <td>70</td>\n",
       "      <td>Action,Adventure,Biography</td>\n",
       "      <td>6.0</td>\n",
       "      <td>855</td>\n",
       "      <td>/m/0120y4</td>\n",
       "      <td>142995</td>\n",
       "      <td>The Story of the Kelly Gang</td>\n",
       "      <td>1906-12-26</td>\n",
       "      <td>NaN</td>\n",
       "      <td>{'/m/02h40lc': 'English Language'}</td>\n",
       "      <td>{'/m/0chghy': 'Australia'}</td>\n",
       "      <td>{'/m/0lsxr': 'Crime Fiction', '/m/06ppq': 'Sil...</td>\n",
       "      <td>The Story of the Kelly Gangs tone is of sorrow...</td>\n",
       "    </tr>\n",
       "    <tr>\n",
       "      <th>3</th>\n",
       "      <td>tt0000591</td>\n",
       "      <td>90</td>\n",
       "      <td>Drama</td>\n",
       "      <td>5.0</td>\n",
       "      <td>21</td>\n",
       "      <td>/m/07s67rr</td>\n",
       "      <td>4849466</td>\n",
       "      <td>L'Enfant prodigue</td>\n",
       "      <td>1907-06-20</td>\n",
       "      <td>NaN</td>\n",
       "      <td>{'/m/064_8sq': 'French Language'}</td>\n",
       "      <td>{'/m/0f8l9c': 'France'}</td>\n",
       "      <td>{'/m/02hmvc': 'Short Film', '/m/06ppq': 'Silen...</td>\n",
       "      <td>None</td>\n",
       "    </tr>\n",
       "    <tr>\n",
       "      <th>4</th>\n",
       "      <td>tt0000679</td>\n",
       "      <td>120</td>\n",
       "      <td>Adventure,Fantasy</td>\n",
       "      <td>5.1</td>\n",
       "      <td>68</td>\n",
       "      <td>/m/0fgfyy</td>\n",
       "      <td>5954041</td>\n",
       "      <td>The Fairylogue and Radio-Plays</td>\n",
       "      <td>1908-09-24</td>\n",
       "      <td>NaN</td>\n",
       "      <td>{'/m/02h40lc': 'English Language'}</td>\n",
       "      <td>{'/m/09c7w0': 'United States of America'}</td>\n",
       "      <td>{'/m/06ppq': 'Silent film', '/m/01g6gs': 'Blac...</td>\n",
       "      <td>None</td>\n",
       "    </tr>\n",
       "  </tbody>\n",
       "</table>\n",
       "</div>"
      ],
      "text/plain": [
       "      tconst runtimeMinutes                      genres  averageRating  \\\n",
       "0  tt0000009             45                     Romance            5.3   \n",
       "1  tt0000147            100      Documentary,News,Sport            5.3   \n",
       "2  tt0000574             70  Action,Adventure,Biography            6.0   \n",
       "3  tt0000591             90                       Drama            5.0   \n",
       "4  tt0000679            120           Adventure,Fantasy            5.1   \n",
       "\n",
       "   numVotes freebase_id  wiki_movie_id                      movie_name  \\\n",
       "0       207  /m/02q23xk       10109752                      Miss Jerry   \n",
       "1       484  /m/0czdh_n       28703057   The Corbett-Fitzsimmons Fight   \n",
       "2       855   /m/0120y4         142995     The Story of the Kelly Gang   \n",
       "3        21  /m/07s67rr        4849466               L'Enfant prodigue   \n",
       "4        68   /m/0fgfyy        5954041  The Fairylogue and Radio-Plays   \n",
       "\n",
       "  movie_release_date  box_office                     movie_languages  \\\n",
       "0         1894-10-09         NaN         {'/m/06ppq': 'Silent film'}   \n",
       "1         1897-05-22    100000.0                                  {}   \n",
       "2         1906-12-26         NaN  {'/m/02h40lc': 'English Language'}   \n",
       "3         1907-06-20         NaN   {'/m/064_8sq': 'French Language'}   \n",
       "4         1908-09-24         NaN  {'/m/02h40lc': 'English Language'}   \n",
       "\n",
       "                             movie_countries  \\\n",
       "0  {'/m/09c7w0': 'United States of America'}   \n",
       "1                                         {}   \n",
       "2                 {'/m/0chghy': 'Australia'}   \n",
       "3                    {'/m/0f8l9c': 'France'}   \n",
       "4  {'/m/09c7w0': 'United States of America'}   \n",
       "\n",
       "                                        movie_genres  \\\n",
       "0  {'/m/02hmvc': 'Short Film', '/m/06ppq': 'Silen...   \n",
       "1                           {'/m/01z02hx': 'Sports'}   \n",
       "2  {'/m/0lsxr': 'Crime Fiction', '/m/06ppq': 'Sil...   \n",
       "3  {'/m/02hmvc': 'Short Film', '/m/06ppq': 'Silen...   \n",
       "4  {'/m/06ppq': 'Silent film', '/m/01g6gs': 'Blac...   \n",
       "\n",
       "                                        plot_summary  \n",
       "0  After finding out that her father is suffering...  \n",
       "1  The film no longer exists in its entirety; how...  \n",
       "2  The Story of the Kelly Gangs tone is of sorrow...  \n",
       "3                                               None  \n",
       "4                                               None  "
      ]
     },
     "execution_count": 51,
     "metadata": {},
     "output_type": "execute_result"
    }
   ],
   "source": [
    "movies.head()"
   ]
  },
  {
   "cell_type": "code",
   "execution_count": 52,
   "metadata": {},
   "outputs": [
    {
     "data": {
      "text/html": [
       "<div>\n",
       "<style scoped>\n",
       "    .dataframe tbody tr th:only-of-type {\n",
       "        vertical-align: middle;\n",
       "    }\n",
       "\n",
       "    .dataframe tbody tr th {\n",
       "        vertical-align: top;\n",
       "    }\n",
       "\n",
       "    .dataframe thead th {\n",
       "        text-align: right;\n",
       "    }\n",
       "</style>\n",
       "<table border=\"1\" class=\"dataframe\">\n",
       "  <thead>\n",
       "    <tr style=\"text-align: right;\">\n",
       "      <th></th>\n",
       "      <th>nconst</th>\n",
       "      <th>knownForTitles</th>\n",
       "      <th>tconst</th>\n",
       "      <th>characters</th>\n",
       "      <th>freebase_id</th>\n",
       "      <th>wiki_movie_id</th>\n",
       "      <th>release_date</th>\n",
       "      <th>actor_birth</th>\n",
       "      <th>actor_gender</th>\n",
       "      <th>actor_height</th>\n",
       "      <th>actor_ethnicity</th>\n",
       "      <th>actor_name</th>\n",
       "      <th>release_actor_age</th>\n",
       "      <th>freebase_map_id</th>\n",
       "      <th>freebase_character_id</th>\n",
       "      <th>freebase_actor_id</th>\n",
       "    </tr>\n",
       "  </thead>\n",
       "  <tbody>\n",
       "    <tr>\n",
       "      <th>0</th>\n",
       "      <td>nm0000001</td>\n",
       "      <td>tt0050419,tt0031983,tt0053137,tt0072308</td>\n",
       "      <td>tt0025164</td>\n",
       "      <td>[\"Guy Holden\"]</td>\n",
       "      <td>/m/0glnm</td>\n",
       "      <td>61169</td>\n",
       "      <td>1934</td>\n",
       "      <td>1899-05-10</td>\n",
       "      <td>M</td>\n",
       "      <td>1.750</td>\n",
       "      <td>/m/01qhm_</td>\n",
       "      <td>Fred Astaire</td>\n",
       "      <td>NaN</td>\n",
       "      <td>/m/0k557x</td>\n",
       "      <td>/m/0h184w0</td>\n",
       "      <td>/m/0h953</td>\n",
       "    </tr>\n",
       "    <tr>\n",
       "      <th>1</th>\n",
       "      <td>nm0002143</td>\n",
       "      <td>tt0036613,tt0030241,tt0027125,tt0057193</td>\n",
       "      <td>tt0025164</td>\n",
       "      <td>[\"Egbert 'Pinky' Fitzgerald\"]</td>\n",
       "      <td>/m/0glnm</td>\n",
       "      <td>61169</td>\n",
       "      <td>1934</td>\n",
       "      <td>1886-03-18</td>\n",
       "      <td>M</td>\n",
       "      <td>NaN</td>\n",
       "      <td>None</td>\n",
       "      <td>Edward Everett Horton</td>\n",
       "      <td>NaN</td>\n",
       "      <td>/m/0cs6brt</td>\n",
       "      <td>None</td>\n",
       "      <td>/m/0197p7</td>\n",
       "    </tr>\n",
       "    <tr>\n",
       "      <th>2</th>\n",
       "      <td>nm0000001</td>\n",
       "      <td>tt0050419,tt0031983,tt0053137,tt0072308</td>\n",
       "      <td>tt0026942</td>\n",
       "      <td>[\"Huck Haines\"]</td>\n",
       "      <td>/m/02x5h46</td>\n",
       "      <td>12800555</td>\n",
       "      <td>1935-03-08</td>\n",
       "      <td>1899-05-10</td>\n",
       "      <td>M</td>\n",
       "      <td>1.750</td>\n",
       "      <td>/m/01qhm_</td>\n",
       "      <td>Fred Astaire</td>\n",
       "      <td>NaN</td>\n",
       "      <td>/m/03l20gb</td>\n",
       "      <td>/m/0h184_z</td>\n",
       "      <td>/m/0h953</td>\n",
       "    </tr>\n",
       "    <tr>\n",
       "      <th>3</th>\n",
       "      <td>nm0000068</td>\n",
       "      <td>tt0029284,tt0026942,tt0056412,tt0046375</td>\n",
       "      <td>tt0026942</td>\n",
       "      <td>[\"John Kent\"]</td>\n",
       "      <td>/m/02x5h46</td>\n",
       "      <td>12800555</td>\n",
       "      <td>1935-03-08</td>\n",
       "      <td>1898-01-23</td>\n",
       "      <td>M</td>\n",
       "      <td>1.905</td>\n",
       "      <td>None</td>\n",
       "      <td>Randolph Scott</td>\n",
       "      <td>NaN</td>\n",
       "      <td>/m/03l20fw</td>\n",
       "      <td>/m/0h2qky5</td>\n",
       "      <td>/m/014y_c</td>\n",
       "    </tr>\n",
       "    <tr>\n",
       "      <th>4</th>\n",
       "      <td>nm0000001</td>\n",
       "      <td>tt0050419,tt0031983,tt0053137,tt0072308</td>\n",
       "      <td>tt0027125</td>\n",
       "      <td>[\"Jerry Travers\"]</td>\n",
       "      <td>/m/0gnjh</td>\n",
       "      <td>61501</td>\n",
       "      <td>1935</td>\n",
       "      <td>1899-05-10</td>\n",
       "      <td>M</td>\n",
       "      <td>1.750</td>\n",
       "      <td>/m/01qhm_</td>\n",
       "      <td>Fred Astaire</td>\n",
       "      <td>NaN</td>\n",
       "      <td>/m/0k77vk</td>\n",
       "      <td>/m/0h184_5</td>\n",
       "      <td>/m/0h953</td>\n",
       "    </tr>\n",
       "  </tbody>\n",
       "</table>\n",
       "</div>"
      ],
      "text/plain": [
       "      nconst                           knownForTitles     tconst  \\\n",
       "0  nm0000001  tt0050419,tt0031983,tt0053137,tt0072308  tt0025164   \n",
       "1  nm0002143  tt0036613,tt0030241,tt0027125,tt0057193  tt0025164   \n",
       "2  nm0000001  tt0050419,tt0031983,tt0053137,tt0072308  tt0026942   \n",
       "3  nm0000068  tt0029284,tt0026942,tt0056412,tt0046375  tt0026942   \n",
       "4  nm0000001  tt0050419,tt0031983,tt0053137,tt0072308  tt0027125   \n",
       "\n",
       "                      characters freebase_id  wiki_movie_id release_date  \\\n",
       "0                 [\"Guy Holden\"]    /m/0glnm          61169         1934   \n",
       "1  [\"Egbert 'Pinky' Fitzgerald\"]    /m/0glnm          61169         1934   \n",
       "2                [\"Huck Haines\"]  /m/02x5h46       12800555   1935-03-08   \n",
       "3                  [\"John Kent\"]  /m/02x5h46       12800555   1935-03-08   \n",
       "4              [\"Jerry Travers\"]    /m/0gnjh          61501         1935   \n",
       "\n",
       "  actor_birth actor_gender  actor_height actor_ethnicity  \\\n",
       "0  1899-05-10            M         1.750       /m/01qhm_   \n",
       "1  1886-03-18            M           NaN            None   \n",
       "2  1899-05-10            M         1.750       /m/01qhm_   \n",
       "3  1898-01-23            M         1.905            None   \n",
       "4  1899-05-10            M         1.750       /m/01qhm_   \n",
       "\n",
       "              actor_name  release_actor_age freebase_map_id  \\\n",
       "0           Fred Astaire                NaN       /m/0k557x   \n",
       "1  Edward Everett Horton                NaN      /m/0cs6brt   \n",
       "2           Fred Astaire                NaN      /m/03l20gb   \n",
       "3         Randolph Scott                NaN      /m/03l20fw   \n",
       "4           Fred Astaire                NaN       /m/0k77vk   \n",
       "\n",
       "  freebase_character_id freebase_actor_id  \n",
       "0            /m/0h184w0          /m/0h953  \n",
       "1                  None         /m/0197p7  \n",
       "2            /m/0h184_z          /m/0h953  \n",
       "3            /m/0h2qky5         /m/014y_c  \n",
       "4            /m/0h184_5          /m/0h953  "
      ]
     },
     "execution_count": 52,
     "metadata": {},
     "output_type": "execute_result"
    }
   ],
   "source": [
    "actors_characters.head()"
   ]
  },
  {
   "cell_type": "code",
   "execution_count": 53,
   "metadata": {},
   "outputs": [],
   "source": [
    "all_data = movies.merge(actors_characters, how=\"inner\", on=[\"tconst\", \"freebase_id\", \"wiki_movie_id\"])"
   ]
  },
  {
   "cell_type": "code",
   "execution_count": 54,
   "metadata": {},
   "outputs": [
    {
     "data": {
      "text/html": [
       "<div>\n",
       "<style scoped>\n",
       "    .dataframe tbody tr th:only-of-type {\n",
       "        vertical-align: middle;\n",
       "    }\n",
       "\n",
       "    .dataframe tbody tr th {\n",
       "        vertical-align: top;\n",
       "    }\n",
       "\n",
       "    .dataframe thead th {\n",
       "        text-align: right;\n",
       "    }\n",
       "</style>\n",
       "<table border=\"1\" class=\"dataframe\">\n",
       "  <thead>\n",
       "    <tr style=\"text-align: right;\">\n",
       "      <th></th>\n",
       "      <th>tconst</th>\n",
       "      <th>runtimeMinutes</th>\n",
       "      <th>genres</th>\n",
       "      <th>averageRating</th>\n",
       "      <th>numVotes</th>\n",
       "      <th>freebase_id</th>\n",
       "      <th>wiki_movie_id</th>\n",
       "      <th>movie_name</th>\n",
       "      <th>movie_release_date</th>\n",
       "      <th>box_office</th>\n",
       "      <th>...</th>\n",
       "      <th>release_date</th>\n",
       "      <th>actor_birth</th>\n",
       "      <th>actor_gender</th>\n",
       "      <th>actor_height</th>\n",
       "      <th>actor_ethnicity</th>\n",
       "      <th>actor_name</th>\n",
       "      <th>release_actor_age</th>\n",
       "      <th>freebase_map_id</th>\n",
       "      <th>freebase_character_id</th>\n",
       "      <th>freebase_actor_id</th>\n",
       "    </tr>\n",
       "  </thead>\n",
       "  <tbody>\n",
       "    <tr>\n",
       "      <th>0</th>\n",
       "      <td>tt0000574</td>\n",
       "      <td>70</td>\n",
       "      <td>Action,Adventure,Biography</td>\n",
       "      <td>6.0</td>\n",
       "      <td>855</td>\n",
       "      <td>/m/0120y4</td>\n",
       "      <td>142995</td>\n",
       "      <td>The Story of the Kelly Gang</td>\n",
       "      <td>1906-12-26</td>\n",
       "      <td>NaN</td>\n",
       "      <td>...</td>\n",
       "      <td>1906-12-26</td>\n",
       "      <td>1871</td>\n",
       "      <td>M</td>\n",
       "      <td>NaN</td>\n",
       "      <td>None</td>\n",
       "      <td>John Tait</td>\n",
       "      <td>NaN</td>\n",
       "      <td>/m/0k6ktp</td>\n",
       "      <td>None</td>\n",
       "      <td>/m/0k6ksg</td>\n",
       "    </tr>\n",
       "    <tr>\n",
       "      <th>1</th>\n",
       "      <td>tt0000574</td>\n",
       "      <td>70</td>\n",
       "      <td>Action,Adventure,Biography</td>\n",
       "      <td>6.0</td>\n",
       "      <td>855</td>\n",
       "      <td>/m/0120y4</td>\n",
       "      <td>142995</td>\n",
       "      <td>The Story of the Kelly Gang</td>\n",
       "      <td>1906-12-26</td>\n",
       "      <td>NaN</td>\n",
       "      <td>...</td>\n",
       "      <td>1906-12-26</td>\n",
       "      <td>1880</td>\n",
       "      <td>M</td>\n",
       "      <td>NaN</td>\n",
       "      <td>None</td>\n",
       "      <td>Nicholas Brierley</td>\n",
       "      <td>NaN</td>\n",
       "      <td>/m/0k6ktc</td>\n",
       "      <td>None</td>\n",
       "      <td>/m/0k6ks2</td>\n",
       "    </tr>\n",
       "    <tr>\n",
       "      <th>2</th>\n",
       "      <td>tt0000574</td>\n",
       "      <td>70</td>\n",
       "      <td>Action,Adventure,Biography</td>\n",
       "      <td>6.0</td>\n",
       "      <td>855</td>\n",
       "      <td>/m/0120y4</td>\n",
       "      <td>142995</td>\n",
       "      <td>The Story of the Kelly Gang</td>\n",
       "      <td>1906-12-26</td>\n",
       "      <td>NaN</td>\n",
       "      <td>...</td>\n",
       "      <td>1906-12-26</td>\n",
       "      <td>\\N</td>\n",
       "      <td>None</td>\n",
       "      <td>NaN</td>\n",
       "      <td>None</td>\n",
       "      <td>Norman Campbell</td>\n",
       "      <td>NaN</td>\n",
       "      <td>/m/0bxl4zk</td>\n",
       "      <td>None</td>\n",
       "      <td>/m/0bxl4z5</td>\n",
       "    </tr>\n",
       "    <tr>\n",
       "      <th>3</th>\n",
       "      <td>tt0000591</td>\n",
       "      <td>90</td>\n",
       "      <td>Drama</td>\n",
       "      <td>5.0</td>\n",
       "      <td>21</td>\n",
       "      <td>/m/07s67rr</td>\n",
       "      <td>4849466</td>\n",
       "      <td>L'Enfant prodigue</td>\n",
       "      <td>1907-06-20</td>\n",
       "      <td>NaN</td>\n",
       "      <td>...</td>\n",
       "      <td>1907-06-20</td>\n",
       "      <td>\\N</td>\n",
       "      <td>M</td>\n",
       "      <td>NaN</td>\n",
       "      <td>None</td>\n",
       "      <td>Henri Gouget</td>\n",
       "      <td>NaN</td>\n",
       "      <td>/m/0n5_12f</td>\n",
       "      <td>None</td>\n",
       "      <td>/m/0n5_12j</td>\n",
       "    </tr>\n",
       "    <tr>\n",
       "      <th>4</th>\n",
       "      <td>tt0000591</td>\n",
       "      <td>90</td>\n",
       "      <td>Drama</td>\n",
       "      <td>5.0</td>\n",
       "      <td>21</td>\n",
       "      <td>/m/07s67rr</td>\n",
       "      <td>4849466</td>\n",
       "      <td>L'Enfant prodigue</td>\n",
       "      <td>1907-06-20</td>\n",
       "      <td>NaN</td>\n",
       "      <td>...</td>\n",
       "      <td>1907-06-20</td>\n",
       "      <td>1874-01-14</td>\n",
       "      <td>M</td>\n",
       "      <td>NaN</td>\n",
       "      <td>None</td>\n",
       "      <td>Georges Wague</td>\n",
       "      <td>NaN</td>\n",
       "      <td>/m/0n5_11r</td>\n",
       "      <td>None</td>\n",
       "      <td>/m/0n5_11v</td>\n",
       "    </tr>\n",
       "  </tbody>\n",
       "</table>\n",
       "<p>5 rows × 27 columns</p>\n",
       "</div>"
      ],
      "text/plain": [
       "      tconst runtimeMinutes                      genres  averageRating  \\\n",
       "0  tt0000574             70  Action,Adventure,Biography            6.0   \n",
       "1  tt0000574             70  Action,Adventure,Biography            6.0   \n",
       "2  tt0000574             70  Action,Adventure,Biography            6.0   \n",
       "3  tt0000591             90                       Drama            5.0   \n",
       "4  tt0000591             90                       Drama            5.0   \n",
       "\n",
       "   numVotes freebase_id  wiki_movie_id                   movie_name  \\\n",
       "0       855   /m/0120y4         142995  The Story of the Kelly Gang   \n",
       "1       855   /m/0120y4         142995  The Story of the Kelly Gang   \n",
       "2       855   /m/0120y4         142995  The Story of the Kelly Gang   \n",
       "3        21  /m/07s67rr        4849466            L'Enfant prodigue   \n",
       "4        21  /m/07s67rr        4849466            L'Enfant prodigue   \n",
       "\n",
       "  movie_release_date  box_office  ... release_date actor_birth actor_gender  \\\n",
       "0         1906-12-26         NaN  ...   1906-12-26        1871            M   \n",
       "1         1906-12-26         NaN  ...   1906-12-26        1880            M   \n",
       "2         1906-12-26         NaN  ...   1906-12-26          \\N         None   \n",
       "3         1907-06-20         NaN  ...   1907-06-20          \\N            M   \n",
       "4         1907-06-20         NaN  ...   1907-06-20  1874-01-14            M   \n",
       "\n",
       "  actor_height actor_ethnicity         actor_name release_actor_age  \\\n",
       "0          NaN            None          John Tait               NaN   \n",
       "1          NaN            None  Nicholas Brierley               NaN   \n",
       "2          NaN            None    Norman Campbell               NaN   \n",
       "3          NaN            None       Henri Gouget               NaN   \n",
       "4          NaN            None      Georges Wague               NaN   \n",
       "\n",
       "  freebase_map_id freebase_character_id freebase_actor_id  \n",
       "0       /m/0k6ktp                  None         /m/0k6ksg  \n",
       "1       /m/0k6ktc                  None         /m/0k6ks2  \n",
       "2      /m/0bxl4zk                  None        /m/0bxl4z5  \n",
       "3      /m/0n5_12f                  None        /m/0n5_12j  \n",
       "4      /m/0n5_11r                  None        /m/0n5_11v  \n",
       "\n",
       "[5 rows x 27 columns]"
      ]
     },
     "execution_count": 54,
     "metadata": {},
     "output_type": "execute_result"
    }
   ],
   "source": [
    "all_data.head()"
   ]
  },
  {
   "cell_type": "code",
   "execution_count": 55,
   "metadata": {},
   "outputs": [
    {
     "data": {
      "text/plain": [
       "Index(['tconst', 'runtimeMinutes', 'genres', 'averageRating', 'numVotes',\n",
       "       'freebase_id', 'wiki_movie_id', 'movie_name', 'movie_release_date',\n",
       "       'box_office', 'movie_languages', 'movie_countries', 'movie_genres',\n",
       "       'plot_summary', 'nconst', 'knownForTitles', 'characters',\n",
       "       'release_date', 'actor_birth', 'actor_gender', 'actor_height',\n",
       "       'actor_ethnicity', 'actor_name', 'release_actor_age', 'freebase_map_id',\n",
       "       'freebase_character_id', 'freebase_actor_id'],\n",
       "      dtype='object')"
      ]
     },
     "execution_count": 55,
     "metadata": {},
     "output_type": "execute_result"
    }
   ],
   "source": [
    "all_data.columns"
   ]
  },
  {
   "cell_type": "markdown",
   "metadata": {},
   "source": [
    "### Based on movie genre"
   ]
  },
  {
   "cell_type": "code",
   "execution_count": 56,
   "metadata": {},
   "outputs": [],
   "source": [
    "movie_genre_per_actor = all_data[[\"nconst\", \"actor_name\", \"movie_genres\"]].copy()"
   ]
  },
  {
   "cell_type": "code",
   "execution_count": 57,
   "metadata": {},
   "outputs": [],
   "source": [
    "movie_genre_per_actor[\"genres_flattened\"] = movie_genre_per_actor[\"movie_genres\"].apply(lambda genres: list(genres.values()))"
   ]
  },
  {
   "cell_type": "code",
   "execution_count": 58,
   "metadata": {},
   "outputs": [],
   "source": [
    "movie_genre_per_actor = movie_genre_per_actor.drop(\"movie_genres\", axis=1)"
   ]
  },
  {
   "cell_type": "code",
   "execution_count": 59,
   "metadata": {},
   "outputs": [],
   "source": [
    "movie_genre_per_actor = movie_genre_per_actor.groupby([\"nconst\", \"actor_name\"]).agg(list).reset_index()"
   ]
  },
  {
   "cell_type": "code",
   "execution_count": 60,
   "metadata": {},
   "outputs": [],
   "source": [
    "movie_genre_per_actor[\"total_movies\"] = movie_genre_per_actor[\"genres_flattened\"].apply(len)"
   ]
  },
  {
   "cell_type": "code",
   "execution_count": 61,
   "metadata": {},
   "outputs": [],
   "source": [
    "movie_genre_per_actor[\"genres_flattened\"] = movie_genre_per_actor[\"genres_flattened\"].apply(lambda ls: [item for row in ls for item in row])"
   ]
  },
  {
   "cell_type": "code",
   "execution_count": 62,
   "metadata": {},
   "outputs": [],
   "source": [
    "movie_genre_per_actor[\"genres_freq\"] = movie_genre_per_actor[\"genres_flattened\"].apply(lambda ls: dict(sorted(dict(Counter(ls)).items(), key=lambda item: item[1], reverse=True)))"
   ]
  },
  {
   "cell_type": "code",
   "execution_count": 63,
   "metadata": {},
   "outputs": [],
   "source": [
    "movie_genre_per_actor = movie_genre_per_actor.drop(\"genres_flattened\", axis=1)"
   ]
  },
  {
   "cell_type": "code",
   "execution_count": 64,
   "metadata": {},
   "outputs": [
    {
     "data": {
      "text/html": [
       "<div>\n",
       "<style scoped>\n",
       "    .dataframe tbody tr th:only-of-type {\n",
       "        vertical-align: middle;\n",
       "    }\n",
       "\n",
       "    .dataframe tbody tr th {\n",
       "        vertical-align: top;\n",
       "    }\n",
       "\n",
       "    .dataframe thead th {\n",
       "        text-align: right;\n",
       "    }\n",
       "</style>\n",
       "<table border=\"1\" class=\"dataframe\">\n",
       "  <thead>\n",
       "    <tr style=\"text-align: right;\">\n",
       "      <th></th>\n",
       "      <th>nconst</th>\n",
       "      <th>actor_name</th>\n",
       "      <th>total_movies</th>\n",
       "      <th>genres_freq</th>\n",
       "    </tr>\n",
       "  </thead>\n",
       "  <tbody>\n",
       "    <tr>\n",
       "      <th>0</th>\n",
       "      <td>nm0000001</td>\n",
       "      <td>Fred Astaire</td>\n",
       "      <td>33</td>\n",
       "      <td>{'Musical': 28, 'Comedy': 20, 'Romance Film': ...</td>\n",
       "    </tr>\n",
       "    <tr>\n",
       "      <th>1</th>\n",
       "      <td>nm0000004</td>\n",
       "      <td>John Belushi</td>\n",
       "      <td>6</td>\n",
       "      <td>{'Comedy': 6, 'Action/Adventure': 3, 'Action':...</td>\n",
       "    </tr>\n",
       "    <tr>\n",
       "      <th>2</th>\n",
       "      <td>nm0000007</td>\n",
       "      <td>Humphrey Bogart</td>\n",
       "      <td>68</td>\n",
       "      <td>{'Drama': 52, 'Black-and-white': 41, 'Crime Fi...</td>\n",
       "    </tr>\n",
       "    <tr>\n",
       "      <th>3</th>\n",
       "      <td>nm0000008</td>\n",
       "      <td>Marlon Brando</td>\n",
       "      <td>38</td>\n",
       "      <td>{'Drama': 24, 'Romance Film': 9, 'Action/Adven...</td>\n",
       "    </tr>\n",
       "    <tr>\n",
       "      <th>4</th>\n",
       "      <td>nm0000009</td>\n",
       "      <td>Richard Burton</td>\n",
       "      <td>48</td>\n",
       "      <td>{'Drama': 37, 'Romance Film': 15, 'War film': ...</td>\n",
       "    </tr>\n",
       "  </tbody>\n",
       "</table>\n",
       "</div>"
      ],
      "text/plain": [
       "      nconst       actor_name  total_movies  \\\n",
       "0  nm0000001     Fred Astaire            33   \n",
       "1  nm0000004     John Belushi             6   \n",
       "2  nm0000007  Humphrey Bogart            68   \n",
       "3  nm0000008    Marlon Brando            38   \n",
       "4  nm0000009   Richard Burton            48   \n",
       "\n",
       "                                         genres_freq  \n",
       "0  {'Musical': 28, 'Comedy': 20, 'Romance Film': ...  \n",
       "1  {'Comedy': 6, 'Action/Adventure': 3, 'Action':...  \n",
       "2  {'Drama': 52, 'Black-and-white': 41, 'Crime Fi...  \n",
       "3  {'Drama': 24, 'Romance Film': 9, 'Action/Adven...  \n",
       "4  {'Drama': 37, 'Romance Film': 15, 'War film': ...  "
      ]
     },
     "execution_count": 64,
     "metadata": {},
     "output_type": "execute_result"
    }
   ],
   "source": [
    "movie_genre_per_actor.head()"
   ]
  },
  {
   "cell_type": "markdown",
   "metadata": {},
   "source": [
    "#### Distribution of some actors"
   ]
  },
  {
   "cell_type": "code",
   "execution_count": 65,
   "metadata": {},
   "outputs": [],
   "source": [
    "top_actors = movie_genre_per_actor.sort_values(\"total_movies\", ascending=False).copy().head()"
   ]
  },
  {
   "cell_type": "code",
   "execution_count": 66,
   "metadata": {},
   "outputs": [],
   "source": [
    "actor_1 = top_actors[\"genres_freq\"].iloc[0]"
   ]
  },
  {
   "cell_type": "code",
   "execution_count": 79,
   "metadata": {},
   "outputs": [
    {
     "data": {
      "image/png": "[encoded data removed]",
      "text/plain": [
       "<Figure size 1000x400 with 1 Axes>"
      ]
     },
     "metadata": {},
     "output_type": "display_data"
    }
   ],
   "source": [
    "plt.figure(figsize=(10, 4))\n",
    "plt.title('Counts of movie genres for most active actor')\n",
    "sns.barplot(x=list(actor_1.keys()), y=list(actor_1.values()))\n",
    "plt.ylabel(\"Frequency\")\n",
    "plt.xticks(rotation=90)\n",
    "plt.show()"
   ]
  },
  {
   "cell_type": "code",
   "execution_count": 81,
   "metadata": {},
   "outputs": [],
   "source": [
    "actor_2 = top_actors[\"genres_freq\"].iloc[1]"
   ]
  },
  {
   "cell_type": "code",
   "execution_count": 82,
   "metadata": {},
   "outputs": [
    {
     "data": {
      "image/png": "[encoded data removed]",
      "text/plain": [
       "<Figure size 1000x400 with 1 Axes>"
      ]
     },
     "metadata": {},
     "output_type": "display_data"
    }
   ],
   "source": [
    "plt.figure(figsize=(10, 4))\n",
    "plt.title('Counts of movie genres for second most active actor')\n",
    "sns.barplot(x=list(actor_2.keys()), y=list(actor_2.values()))\n",
    "plt.ylabel(\"Frequency\")\n",
    "plt.xticks(rotation=90)\n",
    "plt.show()"
   ]
  },
  {
   "cell_type": "markdown",
   "metadata": {},
   "source": [
    "### Based on runtime minutes"
   ]
  },
  {
   "cell_type": "code",
   "execution_count": 83,
   "metadata": {},
   "outputs": [],
   "source": [
    "runtime_per_actor = all_data[[\"nconst\", \"actor_name\", \"runtimeMinutes\"]].copy()"
   ]
  },
  {
   "cell_type": "code",
   "execution_count": 84,
   "metadata": {},
   "outputs": [],
   "source": [
    "runtime_per_actor = runtime_per_actor[runtime_per_actor[\"runtimeMinutes\"] != \"\\\\N\"]"
   ]
  },
  {
   "cell_type": "code",
   "execution_count": 85,
   "metadata": {},
   "outputs": [],
   "source": [
    "runtime_per_actor = runtime_per_actor.groupby([\"nconst\", \"actor_name\"]).agg(list).reset_index()"
   ]
  },
  {
   "cell_type": "code",
   "execution_count": 86,
   "metadata": {},
   "outputs": [],
   "source": [
    "runtime_per_actor[\"runtimeMinutes\"] = runtime_per_actor[\"runtimeMinutes\"].apply(lambda ls: list(map(lambda elem: int(elem), ls)))"
   ]
  },
  {
   "cell_type": "code",
   "execution_count": 87,
   "metadata": {},
   "outputs": [],
   "source": [
    "runtime_per_actor['len'] = runtime_per_actor['runtimeMinutes'].apply(len)\n",
    "runtime_per_actor = runtime_per_actor.sort_values(by='len', ascending=False).drop(columns='len')"
   ]
  },
  {
   "cell_type": "markdown",
   "metadata": {},
   "source": [
    "#### Distribution of some actors"
   ]
  },
  {
   "cell_type": "code",
   "execution_count": 88,
   "metadata": {},
   "outputs": [
    {
     "data": {
      "image/png": "[encoded data removed]",
      "text/plain": [
       "<Figure size 640x480 with 1 Axes>"
      ]
     },
     "metadata": {},
     "output_type": "display_data"
    }
   ],
   "source": [
    "plt.title('KDE of movie length for most active actor')\n",
    "sns.kdeplot(runtime_per_actor[\"runtimeMinutes\"].iloc[0])\n",
    "plt.ylabel(\"Density\")\n",
    "plt.xlabel(\"Duration\")\n",
    "plt.show()"
   ]
  },
  {
   "cell_type": "code",
   "execution_count": 89,
   "metadata": {},
   "outputs": [
    {
     "data": {
      "image/png": "[encoded data removed]",
      "text/plain": [
       "<Figure size 640x480 with 1 Axes>"
      ]
     },
     "metadata": {},
     "output_type": "display_data"
    }
   ],
   "source": [
    "plt.title('KDE of movie length for second most active actor')\n",
    "sns.kdeplot(runtime_per_actor[\"runtimeMinutes\"].iloc[1])\n",
    "plt.ylabel(\"Density\")\n",
    "plt.xlabel(\"Duration\")\n",
    "plt.show()"
   ]
  }
 ],
 "metadata": {
  "kernelspec": {
   "display_name": "Python 3 (ipykernel)",
   "language": "python",
   "name": "python3"
  },
  "language_info": {
   "codemirror_mode": {
    "name": "ipython",
    "version": 3
   },
   "file_extension": ".py",
   "mimetype": "text/x-python",
   "name": "python",
   "nbconvert_exporter": "python",
   "pygments_lexer": "ipython3",
   "version": "3.9.18"
  }
 },
 "nbformat": 4,
 "nbformat_minor": 4
}
