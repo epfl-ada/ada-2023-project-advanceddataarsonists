{
 "cells": [
  {
   "cell_type": "markdown",
   "metadata": {},
   "source": [
    "# Part 0: Requirements"
   ]
  },
  {
   "cell_type": "code",
   "execution_count": 1,
   "metadata": {},
   "outputs": [],
   "source": [
    "# Allow python to import modules from src folders\n",
    "import sys\n",
    "import matplotlib.pyplot as plt\n",
    "import seaborn as sns\n",
    "import json\n",
    "from collections import defaultdict\n",
    "import ast\n",
    "from collections import Counter\n",
    "sys.path.append(\"src/\")\n",
    "\n",
    "from preprocessing.load_dataset import *\n",
    "\n",
    "SAVE_PATH = \"./data/refined\"\n",
    "if not os.path.exists(SAVE_PATH):\n",
    "    os.mkdir(SAVE_PATH)"
   ]
  },
  {
   "cell_type": "markdown",
   "metadata": {},
   "source": [
    "## Download data  \n",
    "Please uncomment the following line to download data"
   ]
  },
  {
   "cell_type": "code",
   "execution_count": 39,
   "metadata": {},
   "outputs": [],
   "source": [
    "# %run src/preprocessing/download_dataset.py"
   ]
  },
  {
   "cell_type": "markdown",
   "metadata": {},
   "source": [
    "# Part I: Load, explore and join datasets"
   ]
  },
  {
   "cell_type": "markdown",
   "metadata": {},
   "source": [
    "## CMU dataset\n",
    "\n",
    "We load the 4 `.tsv` and `.txt` files of the CMU dataset into 4 different dataframes"
   ]
  },
  {
   "cell_type": "code",
   "execution_count": 2,
   "metadata": {
    "tags": []
   },
   "outputs": [],
   "source": [
    "characters_df = load_characters_df()\n",
    "movies_df = load_movies_df()\n",
    "plot_df = load_plot_df()\n",
    "tvtropes_df = load_tvtropes_df()"
   ]
  },
  {
   "cell_type": "markdown",
   "metadata": {},
   "source": [
    "### Characters\n",
    "\n",
    "The characters dataframe comes from the CMU movies dataset. This dataframe describes movie characters and provides information about the actor who played the corresponding character. Here is a sample of this dataframe :"
   ]
  },
  {
   "cell_type": "code",
   "execution_count": 3,
   "metadata": {
    "tags": []
   },
   "outputs": [
    {
     "data": {
      "text/html": [
       "<div>\n",
       "<style scoped>\n",
       "    .dataframe tbody tr th:only-of-type {\n",
       "        vertical-align: middle;\n",
       "    }\n",
       "\n",
       "    .dataframe tbody tr th {\n",
       "        vertical-align: top;\n",
       "    }\n",
       "\n",
       "    .dataframe thead th {\n",
       "        text-align: right;\n",
       "    }\n",
       "</style>\n",
       "<table border=\"1\" class=\"dataframe\">\n",
       "  <thead>\n",
       "    <tr style=\"text-align: right;\">\n",
       "      <th></th>\n",
       "      <th>wiki_movie_id</th>\n",
       "      <th>freebase_movie_id</th>\n",
       "      <th>release_date</th>\n",
       "      <th>character_name</th>\n",
       "      <th>actor_birth</th>\n",
       "      <th>actor_gender</th>\n",
       "      <th>actor_height</th>\n",
       "      <th>actor_ethnicity</th>\n",
       "      <th>actor_name</th>\n",
       "      <th>release_actor_age</th>\n",
       "      <th>freebase_map_id</th>\n",
       "      <th>freebase_character_id</th>\n",
       "      <th>freebase_actor_id</th>\n",
       "    </tr>\n",
       "  </thead>\n",
       "  <tbody>\n",
       "    <tr>\n",
       "      <th>92347</th>\n",
       "      <td>7806783</td>\n",
       "      <td>/m/026dq5z</td>\n",
       "      <td>2006-12-29</td>\n",
       "      <td>NaN</td>\n",
       "      <td>1959-12-02</td>\n",
       "      <td>M</td>\n",
       "      <td>1.91</td>\n",
       "      <td>/m/0bymc</td>\n",
       "      <td>Boman Irani</td>\n",
       "      <td>47.0</td>\n",
       "      <td>/m/04htv5d</td>\n",
       "      <td>NaN</td>\n",
       "      <td>/m/0bxy67</td>\n",
       "    </tr>\n",
       "    <tr>\n",
       "      <th>342970</th>\n",
       "      <td>6734914</td>\n",
       "      <td>/m/0gl86j</td>\n",
       "      <td>1963</td>\n",
       "      <td>NaN</td>\n",
       "      <td>1922-12-02</td>\n",
       "      <td>M</td>\n",
       "      <td>1.88</td>\n",
       "      <td>NaN</td>\n",
       "      <td>Leo Gordon</td>\n",
       "      <td>40.0</td>\n",
       "      <td>/m/09tf9p4</td>\n",
       "      <td>NaN</td>\n",
       "      <td>/m/09kp2g</td>\n",
       "    </tr>\n",
       "    <tr>\n",
       "      <th>304082</th>\n",
       "      <td>8588234</td>\n",
       "      <td>/m/02790r_</td>\n",
       "      <td>2006-12-23</td>\n",
       "      <td>Takigawa</td>\n",
       "      <td>1960-07-09</td>\n",
       "      <td>F</td>\n",
       "      <td>NaN</td>\n",
       "      <td>NaN</td>\n",
       "      <td>Yūko Asano</td>\n",
       "      <td>46.0</td>\n",
       "      <td>/m/0jjncc8</td>\n",
       "      <td>/m/0jjnccc</td>\n",
       "      <td>/m/0g5575v</td>\n",
       "    </tr>\n",
       "    <tr>\n",
       "      <th>166561</th>\n",
       "      <td>13599724</td>\n",
       "      <td>/m/03cbhvl</td>\n",
       "      <td>1993-05-08</td>\n",
       "      <td>Karla</td>\n",
       "      <td>1974-04-05</td>\n",
       "      <td>F</td>\n",
       "      <td>NaN</td>\n",
       "      <td>/m/04czx7</td>\n",
       "      <td>Sheryl Cruz</td>\n",
       "      <td>19.0</td>\n",
       "      <td>/m/040l3j8</td>\n",
       "      <td>/m/0jvszpl</td>\n",
       "      <td>/m/04wg5t</td>\n",
       "    </tr>\n",
       "    <tr>\n",
       "      <th>419330</th>\n",
       "      <td>10311825</td>\n",
       "      <td>/m/02q84rb</td>\n",
       "      <td>1978</td>\n",
       "      <td>Margaret</td>\n",
       "      <td>1947-08-24</td>\n",
       "      <td>F</td>\n",
       "      <td>1.70</td>\n",
       "      <td>NaN</td>\n",
       "      <td>Anne Archer</td>\n",
       "      <td>30.0</td>\n",
       "      <td>/m/02vd82m</td>\n",
       "      <td>/m/0h5nlt2</td>\n",
       "      <td>/m/01w0qy2</td>\n",
       "    </tr>\n",
       "  </tbody>\n",
       "</table>\n",
       "</div>"
      ],
      "text/plain": [
       "        wiki_movie_id freebase_movie_id release_date character_name  \\\n",
       "92347         7806783        /m/026dq5z   2006-12-29            NaN   \n",
       "342970        6734914         /m/0gl86j         1963            NaN   \n",
       "304082        8588234        /m/02790r_   2006-12-23       Takigawa   \n",
       "166561       13599724        /m/03cbhvl   1993-05-08          Karla   \n",
       "419330       10311825        /m/02q84rb         1978       Margaret   \n",
       "\n",
       "       actor_birth actor_gender  actor_height actor_ethnicity   actor_name  \\\n",
       "92347   1959-12-02            M          1.91        /m/0bymc  Boman Irani   \n",
       "342970  1922-12-02            M          1.88             NaN   Leo Gordon   \n",
       "304082  1960-07-09            F           NaN             NaN   Yūko Asano   \n",
       "166561  1974-04-05            F           NaN       /m/04czx7  Sheryl Cruz   \n",
       "419330  1947-08-24            F          1.70             NaN  Anne Archer   \n",
       "\n",
       "        release_actor_age freebase_map_id freebase_character_id  \\\n",
       "92347                47.0      /m/04htv5d                   NaN   \n",
       "342970               40.0      /m/09tf9p4                   NaN   \n",
       "304082               46.0      /m/0jjncc8            /m/0jjnccc   \n",
       "166561               19.0      /m/040l3j8            /m/0jvszpl   \n",
       "419330               30.0      /m/02vd82m            /m/0h5nlt2   \n",
       "\n",
       "       freebase_actor_id  \n",
       "92347          /m/0bxy67  \n",
       "342970         /m/09kp2g  \n",
       "304082        /m/0g5575v  \n",
       "166561         /m/04wg5t  \n",
       "419330        /m/01w0qy2  "
      ]
     },
     "execution_count": 3,
     "metadata": {},
     "output_type": "execute_result"
    }
   ],
   "source": [
    "characters_df.sample(5)"
   ]
  },
  {
   "cell_type": "code",
   "execution_count": 4,
   "metadata": {
    "tags": []
   },
   "outputs": [
    {
     "name": "stdout",
     "output_type": "stream",
     "text": [
      "Number of characters loaded: 450669\n",
      "Number of unique movies: 64330\n",
      "Number of unique actors: 135761\n",
      "\n",
      "Percentage of missing gender: 10.12%\n",
      "Percentage of missing height: 65.65%\n",
      "Percentage of missing ethnicity: 76.47%\n",
      "Percentage of missing age upon release: 35.08%\n"
     ]
    }
   ],
   "source": [
    "total_characters = len(characters_df)\n",
    "print(f\"Number of characters loaded: {total_characters}\")\n",
    "print(f\"Number of unique movies: {len(characters_df['wiki_movie_id'].unique())}\")\n",
    "print(f\"Number of unique actors: {len(characters_df['freebase_actor_id'].unique())}\", end=\"\\n\\n\")\n",
    "\n",
    "print(f\"Percentage of missing gender: {characters_df['actor_gender'].isna().sum()/total_characters*100:.2f}%\")\n",
    "print(f\"Percentage of missing height: {characters_df['actor_height'].isna().sum()/total_characters*100:.2f}%\")\n",
    "print(f\"Percentage of missing ethnicity: {characters_df['actor_ethnicity'].isna().sum()/total_characters*100:.2f}%\")\n",
    "print(f\"Percentage of missing age upon release: {characters_df['release_actor_age'].isna().sum()/total_characters*100:.2f}%\")"
   ]
  },
  {
   "cell_type": "code",
   "execution_count": 5,
   "metadata": {},
   "outputs": [
    {
     "name": "stdout",
     "output_type": "stream",
     "text": [
      "Number of character records for which ethnicity is known: 106058\n",
      "Number of unique actors for which ethnicity is known: 8151\n"
     ]
    }
   ],
   "source": [
    "print(f\"Number of character records for which ethnicity is known: {len(characters_df[~characters_df['actor_ethnicity'].isna()])}\")\n",
    "print(f\"Number of unique actors for which ethnicity is known: {len(characters_df[~characters_df['actor_ethnicity'].isna()]['freebase_actor_id'].unique())}\")"
   ]
  },
  {
   "cell_type": "markdown",
   "metadata": {},
   "source": [
    "We can first notice that a great percentage of actor's ethnicity is missing. This may become a problem when we study the impact of actors' ethnicity on the success of a movie."
   ]
  },
  {
   "cell_type": "code",
   "execution_count": 6,
   "metadata": {},
   "outputs": [
    {
     "data": {
      "image/png": "[encoded data removed]",
      "text/plain": [
       "<Figure size 1440x432 with 1 Axes>"
      ]
     },
     "metadata": {
      "needs_background": "light"
     },
     "output_type": "display_data"
    }
   ],
   "source": [
    "actors_ethnicities = characters_df[['freebase_actor_id', 'actor_ethnicity']].dropna().groupby(by='actor_ethnicity').count()\n",
    "actors_ethnicities = actors_ethnicities.sort_values(by='freebase_actor_id')\n",
    "\n",
    "plt.figure(figsize=(20,6))\n",
    "plt.bar(actors_ethnicities.index, actors_ethnicities['freebase_actor_id'], label='')\n",
    "plt.title(\"Actors ethnicities distribution\")\n",
    "plt.yscale('log')\n",
    "plt.xticks([])\n",
    "plt.ylabel(\"Count\")\n",
    "plt.xlabel(\"Ethnicity\")\n",
    "plt.show()"
   ]
  },
  {
   "cell_type": "markdown",
   "metadata": {},
   "source": [
    "As shown, the ethnicities distribution is very heterogeneous. Some ethnicities have only one representative whereas others have more than thousands elements. During analysis, we must be careful on our conclusions as variance gets higher for the ethnicities with fewer representatives. Fortunately, we can quantify uncertainty in our results using tools like p-value and confidence interval."
   ]
  },
  {
   "cell_type": "markdown",
   "metadata": {},
   "source": [
    "### Movies\n",
    "\n",
    "The movies dataframe also comes from the CMU dataset and provides information about movies such as its origins, runtime and box office."
   ]
  },
  {
   "cell_type": "code",
   "execution_count": 45,
   "metadata": {},
   "outputs": [
    {
     "data": {
      "text/html": [
       "<div>\n",
       "<style scoped>\n",
       "    .dataframe tbody tr th:only-of-type {\n",
       "        vertical-align: middle;\n",
       "    }\n",
       "\n",
       "    .dataframe tbody tr th {\n",
       "        vertical-align: top;\n",
       "    }\n",
       "\n",
       "    .dataframe thead th {\n",
       "        text-align: right;\n",
       "    }\n",
       "</style>\n",
       "<table border=\"1\" class=\"dataframe\">\n",
       "  <thead>\n",
       "    <tr style=\"text-align: right;\">\n",
       "      <th></th>\n",
       "      <th>wiki_movie_id</th>\n",
       "      <th>freebase_movie_id</th>\n",
       "      <th>movie_name</th>\n",
       "      <th>movie_release_date</th>\n",
       "      <th>box_office</th>\n",
       "      <th>movie_runtime</th>\n",
       "      <th>movie_languages</th>\n",
       "      <th>movie_countries</th>\n",
       "      <th>movie_genres</th>\n",
       "    </tr>\n",
       "  </thead>\n",
       "  <tbody>\n",
       "    <tr>\n",
       "      <th>13391</th>\n",
       "      <td>33058811</td>\n",
       "      <td>/m/0dl6wg4</td>\n",
       "      <td>Take This Waltz</td>\n",
       "      <td>2011-09-10</td>\n",
       "      <td>1239692.0</td>\n",
       "      <td>116.0</td>\n",
       "      <td>{'/m/02h40lc': 'English Language'}</td>\n",
       "      <td>{'/m/06mkj': 'Spain', '/m/03_3d': 'Japan', '/m...</td>\n",
       "      <td>{'/m/02l7c8': 'Romance Film', '/m/07s9rl0': 'D...</td>\n",
       "    </tr>\n",
       "    <tr>\n",
       "      <th>34796</th>\n",
       "      <td>26578377</td>\n",
       "      <td>/m/09x28k7</td>\n",
       "      <td>Corner Store</td>\n",
       "      <td>2010</td>\n",
       "      <td>NaN</td>\n",
       "      <td>93.0</td>\n",
       "      <td>{'/m/02h40lc': 'English Language'}</td>\n",
       "      <td>{'/m/09c7w0': 'United States of America'}</td>\n",
       "      <td>{'/m/0hj3n07': 'Culture &amp; Society', '/m/0219x_...</td>\n",
       "    </tr>\n",
       "    <tr>\n",
       "      <th>27353</th>\n",
       "      <td>17315314</td>\n",
       "      <td>/m/043n1r5</td>\n",
       "      <td>Yentl</td>\n",
       "      <td>1983-11-18</td>\n",
       "      <td>40218899.0</td>\n",
       "      <td>132.0</td>\n",
       "      <td>{'/m/02h40lc': 'English Language'}</td>\n",
       "      <td>{'/m/09c7w0': 'United States of America', '/m/...</td>\n",
       "      <td>{'/m/04t36': 'Musical', '/m/0hj3n34': 'Feminis...</td>\n",
       "    </tr>\n",
       "    <tr>\n",
       "      <th>50549</th>\n",
       "      <td>7353520</td>\n",
       "      <td>/m/0kv5pp</td>\n",
       "      <td>Midnight Sun</td>\n",
       "      <td>2006</td>\n",
       "      <td>NaN</td>\n",
       "      <td>119.0</td>\n",
       "      <td>{'/m/03_9r': 'Japanese Language'}</td>\n",
       "      <td>{'/m/03_3d': 'Japan'}</td>\n",
       "      <td>{'/m/0gw5n2f': 'Japanese Movies'}</td>\n",
       "    </tr>\n",
       "    <tr>\n",
       "      <th>57179</th>\n",
       "      <td>13952367</td>\n",
       "      <td>/m/03cp66z</td>\n",
       "      <td>Honeymoon Trio</td>\n",
       "      <td>1931-08-30</td>\n",
       "      <td>NaN</td>\n",
       "      <td>10.0</td>\n",
       "      <td>{'/m/02h40lc': 'English Language'}</td>\n",
       "      <td>{'/m/09c7w0': 'United States of America'}</td>\n",
       "      <td>{'/m/02hmvc': 'Short Film', '/m/01z4y': 'Comed...</td>\n",
       "    </tr>\n",
       "  </tbody>\n",
       "</table>\n",
       "</div>"
      ],
      "text/plain": [
       "       wiki_movie_id freebase_movie_id       movie_name movie_release_date  \\\n",
       "13391       33058811        /m/0dl6wg4  Take This Waltz         2011-09-10   \n",
       "34796       26578377        /m/09x28k7     Corner Store               2010   \n",
       "27353       17315314        /m/043n1r5            Yentl         1983-11-18   \n",
       "50549        7353520         /m/0kv5pp     Midnight Sun               2006   \n",
       "57179       13952367        /m/03cp66z   Honeymoon Trio         1931-08-30   \n",
       "\n",
       "       box_office  movie_runtime                     movie_languages  \\\n",
       "13391   1239692.0          116.0  {'/m/02h40lc': 'English Language'}   \n",
       "34796         NaN           93.0  {'/m/02h40lc': 'English Language'}   \n",
       "27353  40218899.0          132.0  {'/m/02h40lc': 'English Language'}   \n",
       "50549         NaN          119.0   {'/m/03_9r': 'Japanese Language'}   \n",
       "57179         NaN           10.0  {'/m/02h40lc': 'English Language'}   \n",
       "\n",
       "                                         movie_countries  \\\n",
       "13391  {'/m/06mkj': 'Spain', '/m/03_3d': 'Japan', '/m...   \n",
       "34796          {'/m/09c7w0': 'United States of America'}   \n",
       "27353  {'/m/09c7w0': 'United States of America', '/m/...   \n",
       "50549                              {'/m/03_3d': 'Japan'}   \n",
       "57179          {'/m/09c7w0': 'United States of America'}   \n",
       "\n",
       "                                            movie_genres  \n",
       "13391  {'/m/02l7c8': 'Romance Film', '/m/07s9rl0': 'D...  \n",
       "34796  {'/m/0hj3n07': 'Culture & Society', '/m/0219x_...  \n",
       "27353  {'/m/04t36': 'Musical', '/m/0hj3n34': 'Feminis...  \n",
       "50549                  {'/m/0gw5n2f': 'Japanese Movies'}  \n",
       "57179  {'/m/02hmvc': 'Short Film', '/m/01z4y': 'Comed...  "
      ]
     },
     "execution_count": 45,
     "metadata": {},
     "output_type": "execute_result"
    }
   ],
   "source": [
    "movies_df.sample(5)"
   ]
  },
  {
   "cell_type": "code",
   "execution_count": 46,
   "metadata": {},
   "outputs": [
    {
     "name": "stdout",
     "output_type": "stream",
     "text": [
      "Number of movies loaded: 81741\n",
      "Percentage of missing box office revenue: 89.72%\n"
     ]
    }
   ],
   "source": [
    "total_movies = len(movies_df)\n",
    "print(f\"Number of movies loaded: {total_movies}\")\n",
    "print(f\"Percentage of missing box office revenue: {movies_df['box_office'].isna().sum()/total_movies*100:.2f}%\")"
   ]
  },
  {
   "cell_type": "markdown",
   "metadata": {},
   "source": [
    "A great proportion of box office revenue data is missing (almost 90%). This makes sense as lots of movies are not shown in cinemas such as TV movies, short movies. Indeed, to get a movie to the box office, one needs to work with studios or convince distributors to distribute the movie.\n",
    "\n",
    "Thus, using box office as a way to measure a movie's success may be biased because we already filter a specific type of movie. Furthermore, box office does not necessarily reflect the quality of a movie. Indeed some movies may not get a high box office revenue because of a lack of advertising. To fix this issue, we will use users rating from the IMDb database."
   ]
  },
  {
   "cell_type": "code",
   "execution_count": 47,
   "metadata": {},
   "outputs": [
    {
     "name": "stdout",
     "output_type": "stream",
     "text": [
      "Number of movies for which we have matching character data: 64330\n"
     ]
    }
   ],
   "source": [
    "print(f\"Number of movies for which we have matching character data: {len(movies_df.merge(characters_df, how='inner', on=['wiki_movie_id', 'freebase_movie_id'])['freebase_movie_id'].unique())}\")"
   ]
  },
  {
   "cell_type": "code",
   "execution_count": 48,
   "metadata": {},
   "outputs": [],
   "source": [
    "# Extract years from the release date of movies\n",
    "movies_df['movie_release_year'] = movies_df[~movies_df['movie_release_date'].isna()]['movie_release_date'].astype(str).str[:4].astype(int)"
   ]
  },
  {
   "cell_type": "code",
   "execution_count": 49,
   "metadata": {},
   "outputs": [
    {
     "data": {
      "image/png": "[encoded data removed]",
      "text/plain": [
       "<Figure size 640x480 with 1 Axes>"
      ]
     },
     "metadata": {},
     "output_type": "display_data"
    }
   ],
   "source": [
    "plt.hist(movies_df['movie_release_year'])\n",
    "plt.xlabel(\"Year\")\n",
    "plt.ylabel(\"Count\")\n",
    "plt.title(\"Movies count per year\")\n",
    "plt.show()"
   ]
  },
  {
   "cell_type": "markdown",
   "metadata": {},
   "source": [
    "We notice that a movie has been produced before 1800 ! Let's investigate :"
   ]
  },
  {
   "cell_type": "code",
   "execution_count": 50,
   "metadata": {},
   "outputs": [
    {
     "name": "stdout",
     "output_type": "stream",
     "text": [
      "Index([62836], dtype='int64')\n"
     ]
    }
   ],
   "source": [
    "wrong_dates = movies_df[movies_df['movie_release_year'] < 1800].index\n",
    "print(wrong_dates)"
   ]
  },
  {
   "cell_type": "code",
   "execution_count": 51,
   "metadata": {},
   "outputs": [
    {
     "data": {
      "text/html": [
       "<div>\n",
       "<style scoped>\n",
       "    .dataframe tbody tr th:only-of-type {\n",
       "        vertical-align: middle;\n",
       "    }\n",
       "\n",
       "    .dataframe tbody tr th {\n",
       "        vertical-align: top;\n",
       "    }\n",
       "\n",
       "    .dataframe thead th {\n",
       "        text-align: right;\n",
       "    }\n",
       "</style>\n",
       "<table border=\"1\" class=\"dataframe\">\n",
       "  <thead>\n",
       "    <tr style=\"text-align: right;\">\n",
       "      <th></th>\n",
       "      <th>wiki_movie_id</th>\n",
       "      <th>freebase_movie_id</th>\n",
       "      <th>movie_name</th>\n",
       "      <th>movie_release_date</th>\n",
       "      <th>box_office</th>\n",
       "      <th>movie_runtime</th>\n",
       "      <th>movie_languages</th>\n",
       "      <th>movie_countries</th>\n",
       "      <th>movie_genres</th>\n",
       "      <th>movie_release_year</th>\n",
       "    </tr>\n",
       "  </thead>\n",
       "  <tbody>\n",
       "    <tr>\n",
       "      <th>62836</th>\n",
       "      <td>29666067</td>\n",
       "      <td>/m/0fphzrf</td>\n",
       "      <td>Hunting Season</td>\n",
       "      <td>1010-12-02</td>\n",
       "      <td>12160978.0</td>\n",
       "      <td>140.0</td>\n",
       "      <td>{'/m/02hwyss': 'Turkish Language', '/m/02h40lc...</td>\n",
       "      <td>{'/m/01znc_': 'Turkey'}</td>\n",
       "      <td>{'/m/0lsxr': 'Crime Fiction', '/m/02n4kr': 'My...</td>\n",
       "      <td>1010.0</td>\n",
       "    </tr>\n",
       "  </tbody>\n",
       "</table>\n",
       "</div>"
      ],
      "text/plain": [
       "       wiki_movie_id freebase_movie_id      movie_name movie_release_date  \\\n",
       "62836       29666067        /m/0fphzrf  Hunting Season         1010-12-02   \n",
       "\n",
       "       box_office  movie_runtime  \\\n",
       "62836  12160978.0          140.0   \n",
       "\n",
       "                                         movie_languages  \\\n",
       "62836  {'/m/02hwyss': 'Turkish Language', '/m/02h40lc...   \n",
       "\n",
       "               movie_countries  \\\n",
       "62836  {'/m/01znc_': 'Turkey'}   \n",
       "\n",
       "                                            movie_genres  movie_release_year  \n",
       "62836  {'/m/0lsxr': 'Crime Fiction', '/m/02n4kr': 'My...              1010.0  "
      ]
     },
     "execution_count": 51,
     "metadata": {},
     "output_type": "execute_result"
    }
   ],
   "source": [
    "movies_df.loc[wrong_dates]"
   ]
  },
  {
   "cell_type": "markdown",
   "metadata": {},
   "source": [
    "By googling the movie's name, we find that `Hunting season` should be released in 2010 (instead of 1010). This is obviously a typo and 1010 should be replaced by 2010."
   ]
  },
  {
   "cell_type": "code",
   "execution_count": 52,
   "metadata": {},
   "outputs": [],
   "source": [
    "# A movie that has the release date 1010. We fix the typo to 2010\n",
    "movies_df.loc[wrong_dates, 'movie_release_year']= 2010\n",
    "movies_df.loc[wrong_dates, 'movie_release_date'] ='2010-12-02'"
   ]
  },
  {
   "cell_type": "code",
   "execution_count": 53,
   "metadata": {},
   "outputs": [
    {
     "data": {
      "image/png": "[encoded data removed]",
      "text/plain": [
       "<Figure size 1200x600 with 1 Axes>"
      ]
     },
     "metadata": {},
     "output_type": "display_data"
    }
   ],
   "source": [
    "n_years = len(movies_df['movie_release_year'].dropna().unique())\n",
    "\n",
    "plt.figure(figsize=(12, 6))\n",
    "plt.hist(movies_df['movie_release_year'], bins=n_years)\n",
    "plt.xlabel(\"Year\")\n",
    "plt.ylabel(\"Count\")\n",
    "plt.title(\"Movies count per year\")\n",
    "plt.show()"
   ]
  },
  {
   "cell_type": "markdown",
   "metadata": {},
   "source": [
    "There are significantly more movies released after 1990 than before in our dataset."
   ]
  },
  {
   "cell_type": "markdown",
   "metadata": {},
   "source": [
    "### Plot\n",
    "\n",
    "The plot dataframe comes from the CMU dataset and provides a summary of the plot of a given movie."
   ]
  },
  {
   "cell_type": "code",
   "execution_count": 54,
   "metadata": {
    "tags": []
   },
   "outputs": [
    {
     "data": {
      "text/html": [
       "<div>\n",
       "<style scoped>\n",
       "    .dataframe tbody tr th:only-of-type {\n",
       "        vertical-align: middle;\n",
       "    }\n",
       "\n",
       "    .dataframe tbody tr th {\n",
       "        vertical-align: top;\n",
       "    }\n",
       "\n",
       "    .dataframe thead th {\n",
       "        text-align: right;\n",
       "    }\n",
       "</style>\n",
       "<table border=\"1\" class=\"dataframe\">\n",
       "  <thead>\n",
       "    <tr style=\"text-align: right;\">\n",
       "      <th></th>\n",
       "      <th>wiki_movie_id</th>\n",
       "      <th>plot_summary</th>\n",
       "    </tr>\n",
       "  </thead>\n",
       "  <tbody>\n",
       "    <tr>\n",
       "      <th>11495</th>\n",
       "      <td>34429259</td>\n",
       "      <td>One thousand years after cataclysmic events fo...</td>\n",
       "    </tr>\n",
       "    <tr>\n",
       "      <th>4333</th>\n",
       "      <td>10640935</td>\n",
       "      <td>Young Gajapathy  is brought up by his Valayapa...</td>\n",
       "    </tr>\n",
       "    <tr>\n",
       "      <th>19798</th>\n",
       "      <td>31234700</td>\n",
       "      <td>A group of martial arts students are enjoying ...</td>\n",
       "    </tr>\n",
       "    <tr>\n",
       "      <th>36170</th>\n",
       "      <td>30575</td>\n",
       "      <td>James Cole  is a convicted criminal living in ...</td>\n",
       "    </tr>\n",
       "    <tr>\n",
       "      <th>39442</th>\n",
       "      <td>6134853</td>\n",
       "      <td>In Zorro's Black Whip the word Zorro never occ...</td>\n",
       "    </tr>\n",
       "  </tbody>\n",
       "</table>\n",
       "</div>"
      ],
      "text/plain": [
       "       wiki_movie_id                                       plot_summary\n",
       "11495       34429259  One thousand years after cataclysmic events fo...\n",
       "4333        10640935  Young Gajapathy  is brought up by his Valayapa...\n",
       "19798       31234700  A group of martial arts students are enjoying ...\n",
       "36170          30575  James Cole  is a convicted criminal living in ...\n",
       "39442        6134853  In Zorro's Black Whip the word Zorro never occ..."
      ]
     },
     "execution_count": 54,
     "metadata": {},
     "output_type": "execute_result"
    }
   ],
   "source": [
    "plot_df.sample(5)"
   ]
  },
  {
   "cell_type": "code",
   "execution_count": 55,
   "metadata": {},
   "outputs": [
    {
     "name": "stdout",
     "output_type": "stream",
     "text": [
      "Number of plot summaries loaded: 42303\n"
     ]
    }
   ],
   "source": [
    "total_plot = len(plot_df)\n",
    "print(f\"Number of plot summaries loaded: {total_plot}\")"
   ]
  },
  {
   "cell_type": "markdown",
   "metadata": {},
   "source": [
    "### Tropes\n",
    "\n",
    "The tvtropes dataframe is the one used by the CMU researchers to validate their personas learning algorithm. Unfortunately, this dataset does not contain a lot of tvtropes and can not be used for our analysis. Thus we need other databases to get the persona of movie characters."
   ]
  },
  {
   "cell_type": "code",
   "execution_count": 56,
   "metadata": {
    "scrolled": true,
    "tags": []
   },
   "outputs": [
    {
     "data": {
      "text/html": [
       "<div>\n",
       "<style scoped>\n",
       "    .dataframe tbody tr th:only-of-type {\n",
       "        vertical-align: middle;\n",
       "    }\n",
       "\n",
       "    .dataframe tbody tr th {\n",
       "        vertical-align: top;\n",
       "    }\n",
       "\n",
       "    .dataframe thead th {\n",
       "        text-align: right;\n",
       "    }\n",
       "</style>\n",
       "<table border=\"1\" class=\"dataframe\">\n",
       "  <thead>\n",
       "    <tr style=\"text-align: right;\">\n",
       "      <th></th>\n",
       "      <th>trope_name</th>\n",
       "      <th>character_data</th>\n",
       "    </tr>\n",
       "  </thead>\n",
       "  <tbody>\n",
       "    <tr>\n",
       "      <th>334</th>\n",
       "      <td>loser_protagonist</td>\n",
       "      <td>{'char': 'Dennis', 'movie': 'Run, Fat Boy, Run...</td>\n",
       "    </tr>\n",
       "    <tr>\n",
       "      <th>166</th>\n",
       "      <td>cultured_badass</td>\n",
       "      <td>{'char': 'Everett Hitch', 'movie': 'Appaloosa'...</td>\n",
       "    </tr>\n",
       "    <tr>\n",
       "      <th>51</th>\n",
       "      <td>broken_bird</td>\n",
       "      <td>{'char': 'Nina Sayers', 'movie': 'Black Swan',...</td>\n",
       "    </tr>\n",
       "    <tr>\n",
       "      <th>184</th>\n",
       "      <td>ditz</td>\n",
       "      <td>{'char': 'Mr. Bean', 'movie': 'Mr. Bean's Holi...</td>\n",
       "    </tr>\n",
       "    <tr>\n",
       "      <th>36</th>\n",
       "      <td>brainless_beauty</td>\n",
       "      <td>{'char': 'Matt Mateo', 'movie': 'The Opposite ...</td>\n",
       "    </tr>\n",
       "  </tbody>\n",
       "</table>\n",
       "</div>"
      ],
      "text/plain": [
       "            trope_name                                     character_data\n",
       "334  loser_protagonist  {'char': 'Dennis', 'movie': 'Run, Fat Boy, Run...\n",
       "166    cultured_badass  {'char': 'Everett Hitch', 'movie': 'Appaloosa'...\n",
       "51         broken_bird  {'char': 'Nina Sayers', 'movie': 'Black Swan',...\n",
       "184               ditz  {'char': 'Mr. Bean', 'movie': 'Mr. Bean's Holi...\n",
       "36    brainless_beauty  {'char': 'Matt Mateo', 'movie': 'The Opposite ..."
      ]
     },
     "execution_count": 56,
     "metadata": {},
     "output_type": "execute_result"
    }
   ],
   "source": [
    "tvtropes_df.sample(5)"
   ]
  },
  {
   "cell_type": "code",
   "execution_count": 57,
   "metadata": {},
   "outputs": [
    {
     "name": "stdout",
     "output_type": "stream",
     "text": [
      "Number of tropes loaded: 501\n"
     ]
    }
   ],
   "source": [
    "total_tropes = len(tvtropes_df)\n",
    "print(f\"Number of tropes loaded: {total_tropes}\")"
   ]
  },
  {
   "cell_type": "markdown",
   "metadata": {},
   "source": [
    "## IMDB dataset\n",
    "\n",
    "We load the 4 `.tsv` files of the IMDB dataset into 4 different dataframes"
   ]
  },
  {
   "cell_type": "code",
   "execution_count": 7,
   "metadata": {
    "tags": []
   },
   "outputs": [],
   "source": [
    "imdb_ratings_df = load_imdb_ratings()\n",
    "imdb_title_df = load_imdb_title_basics()\n",
    "imdb_principals_df = load_imdb_title_principals()\n",
    "imdb_people_df = load_imdb_person_basics()"
   ]
  },
  {
   "cell_type": "markdown",
   "metadata": {},
   "source": [
    "### Ratings\n",
    "\n",
    "First let's explore the ratings dataframe."
   ]
  },
  {
   "cell_type": "code",
   "execution_count": 8,
   "metadata": {},
   "outputs": [
    {
     "data": {
      "text/html": [
       "<div>\n",
       "<style scoped>\n",
       "    .dataframe tbody tr th:only-of-type {\n",
       "        vertical-align: middle;\n",
       "    }\n",
       "\n",
       "    .dataframe tbody tr th {\n",
       "        vertical-align: top;\n",
       "    }\n",
       "\n",
       "    .dataframe thead th {\n",
       "        text-align: right;\n",
       "    }\n",
       "</style>\n",
       "<table border=\"1\" class=\"dataframe\">\n",
       "  <thead>\n",
       "    <tr style=\"text-align: right;\">\n",
       "      <th></th>\n",
       "      <th>tconst</th>\n",
       "      <th>averageRating</th>\n",
       "      <th>numVotes</th>\n",
       "    </tr>\n",
       "  </thead>\n",
       "  <tbody>\n",
       "    <tr>\n",
       "      <th>43993</th>\n",
       "      <td>tt0066076</td>\n",
       "      <td>5.1</td>\n",
       "      <td>22</td>\n",
       "    </tr>\n",
       "    <tr>\n",
       "      <th>889740</th>\n",
       "      <td>tt22049736</td>\n",
       "      <td>7.8</td>\n",
       "      <td>5</td>\n",
       "    </tr>\n",
       "    <tr>\n",
       "      <th>201539</th>\n",
       "      <td>tt0351157</td>\n",
       "      <td>6.9</td>\n",
       "      <td>21</td>\n",
       "    </tr>\n",
       "    <tr>\n",
       "      <th>972278</th>\n",
       "      <td>tt27574256</td>\n",
       "      <td>7.6</td>\n",
       "      <td>28</td>\n",
       "    </tr>\n",
       "    <tr>\n",
       "      <th>1259511</th>\n",
       "      <td>tt7276592</td>\n",
       "      <td>9.0</td>\n",
       "      <td>11</td>\n",
       "    </tr>\n",
       "  </tbody>\n",
       "</table>\n",
       "</div>"
      ],
      "text/plain": [
       "             tconst  averageRating  numVotes\n",
       "43993     tt0066076            5.1        22\n",
       "889740   tt22049736            7.8         5\n",
       "201539    tt0351157            6.9        21\n",
       "972278   tt27574256            7.6        28\n",
       "1259511   tt7276592            9.0        11"
      ]
     },
     "execution_count": 8,
     "metadata": {},
     "output_type": "execute_result"
    }
   ],
   "source": [
    "imdb_ratings_df.sample(5)"
   ]
  },
  {
   "cell_type": "code",
   "execution_count": 25,
   "metadata": {},
   "outputs": [
    {
     "name": "stdout",
     "output_type": "stream",
     "text": [
      "We have 1365868 movies for which we have a rating.\n"
     ]
    },
    {
     "data": {
      "image/png": "[encoded data removed]",
      "text/plain": [
       "<Figure size 432x288 with 1 Axes>"
      ]
     },
     "metadata": {
      "needs_background": "light"
     },
     "output_type": "display_data"
    },
    {
     "data": {
      "image/png": "[encoded data removed]",
      "text/plain": [
       "<Figure size 432x288 with 1 Axes>"
      ]
     },
     "metadata": {
      "needs_background": "light"
     },
     "output_type": "display_data"
    }
   ],
   "source": [
    "total_ratings = len(imdb_ratings_df)\n",
    "print(f\"We have {total_ratings} movies for which we have a rating.\")\n",
    "\n",
    "# Check the distribution of grades\n",
    "sns.histplot(data=imdb_ratings_df, x=\"averageRating\", bins=50)\n",
    "\n",
    "plt.title(\"Distribution of movie ratings\")\n",
    "plt.xlabel(\"Rating\")\n",
    "plt.ylabel(\"Number of movies\")\n",
    "plt.show()\n",
    "\n",
    "# Check the distribution of votes\n",
    "sns.histplot(data=imdb_ratings_df, x=\"numVotes\", bins=100, log_scale=True)\n",
    "plt.yscale(\"log\")\n",
    "\n",
    "plt.title(\"Number of movies over number of votes\")\n",
    "plt.xlabel(\"Number of votes\")\n",
    "plt.ylabel(\"Number of movies\")\n",
    "plt.show()"
   ]
  },
  {
   "cell_type": "markdown",
   "metadata": {},
   "source": [
    "### Title"
   ]
  },
  {
   "cell_type": "code",
   "execution_count": 10,
   "metadata": {},
   "outputs": [
    {
     "data": {
      "text/html": [
       "<div>\n",
       "<style scoped>\n",
       "    .dataframe tbody tr th:only-of-type {\n",
       "        vertical-align: middle;\n",
       "    }\n",
       "\n",
       "    .dataframe tbody tr th {\n",
       "        vertical-align: top;\n",
       "    }\n",
       "\n",
       "    .dataframe thead th {\n",
       "        text-align: right;\n",
       "    }\n",
       "</style>\n",
       "<table border=\"1\" class=\"dataframe\">\n",
       "  <thead>\n",
       "    <tr style=\"text-align: right;\">\n",
       "      <th></th>\n",
       "      <th>tconst</th>\n",
       "      <th>titleType</th>\n",
       "      <th>primaryTitle</th>\n",
       "      <th>originalTitle</th>\n",
       "      <th>isAdult</th>\n",
       "      <th>startYear</th>\n",
       "      <th>endYear</th>\n",
       "      <th>runtimeMinutes</th>\n",
       "      <th>genres</th>\n",
       "    </tr>\n",
       "  </thead>\n",
       "  <tbody>\n",
       "    <tr>\n",
       "      <th>9638643</th>\n",
       "      <td>tt8514632</td>\n",
       "      <td>movie</td>\n",
       "      <td>Cold Blooded Killers</td>\n",
       "      <td>Killer Rose</td>\n",
       "      <td>0</td>\n",
       "      <td>2021</td>\n",
       "      <td>\\N</td>\n",
       "      <td>90</td>\n",
       "      <td>Action,Thriller</td>\n",
       "    </tr>\n",
       "    <tr>\n",
       "      <th>1373990</th>\n",
       "      <td>tt10732616</td>\n",
       "      <td>movie</td>\n",
       "      <td>Six In Old House Woods</td>\n",
       "      <td>Six In Old House Woods</td>\n",
       "      <td>0</td>\n",
       "      <td>2024</td>\n",
       "      <td>\\N</td>\n",
       "      <td>\\N</td>\n",
       "      <td>Horror,Thriller</td>\n",
       "    </tr>\n",
       "    <tr>\n",
       "      <th>7398378</th>\n",
       "      <td>tt3505568</td>\n",
       "      <td>movie</td>\n",
       "      <td>Tres Kilos Bajo Carne</td>\n",
       "      <td>Tres Kilos Bajo Carne</td>\n",
       "      <td>0</td>\n",
       "      <td>2003</td>\n",
       "      <td>\\N</td>\n",
       "      <td>\\N</td>\n",
       "      <td>Drama</td>\n",
       "    </tr>\n",
       "    <tr>\n",
       "      <th>100528</th>\n",
       "      <td>tt0102832</td>\n",
       "      <td>movie</td>\n",
       "      <td>Samantha</td>\n",
       "      <td>Samantha</td>\n",
       "      <td>0</td>\n",
       "      <td>1991</td>\n",
       "      <td>\\N</td>\n",
       "      <td>96</td>\n",
       "      <td>Comedy</td>\n",
       "    </tr>\n",
       "    <tr>\n",
       "      <th>6844626</th>\n",
       "      <td>tt28453033</td>\n",
       "      <td>movie</td>\n",
       "      <td>Canterbury Christmas Candles</td>\n",
       "      <td>Canterbury Christmas Candles</td>\n",
       "      <td>0</td>\n",
       "      <td>\\N</td>\n",
       "      <td>\\N</td>\n",
       "      <td>73</td>\n",
       "      <td>Music</td>\n",
       "    </tr>\n",
       "  </tbody>\n",
       "</table>\n",
       "</div>"
      ],
      "text/plain": [
       "             tconst titleType                  primaryTitle  \\\n",
       "9638643   tt8514632     movie          Cold Blooded Killers   \n",
       "1373990  tt10732616     movie        Six In Old House Woods   \n",
       "7398378   tt3505568     movie         Tres Kilos Bajo Carne   \n",
       "100528    tt0102832     movie                      Samantha   \n",
       "6844626  tt28453033     movie  Canterbury Christmas Candles   \n",
       "\n",
       "                        originalTitle isAdult startYear endYear  \\\n",
       "9638643                   Killer Rose       0      2021      \\N   \n",
       "1373990        Six In Old House Woods       0      2024      \\N   \n",
       "7398378         Tres Kilos Bajo Carne       0      2003      \\N   \n",
       "100528                       Samantha       0      1991      \\N   \n",
       "6844626  Canterbury Christmas Candles       0        \\N      \\N   \n",
       "\n",
       "        runtimeMinutes           genres  \n",
       "9638643             90  Action,Thriller  \n",
       "1373990             \\N  Horror,Thriller  \n",
       "7398378             \\N            Drama  \n",
       "100528              96           Comedy  \n",
       "6844626             73            Music  "
      ]
     },
     "execution_count": 10,
     "metadata": {},
     "output_type": "execute_result"
    }
   ],
   "source": [
    "imdb_title_df.sample(5)"
   ]
  },
  {
   "cell_type": "code",
   "execution_count": 11,
   "metadata": {},
   "outputs": [],
   "source": [
    "# Remove adult content\n",
    "imdb_title_df = imdb_title_df[imdb_title_df[\"isAdult\"].astype(int) == 0]"
   ]
  },
  {
   "cell_type": "code",
   "execution_count": 12,
   "metadata": {},
   "outputs": [
    {
     "name": "stdout",
     "output_type": "stream",
     "text": [
      "We have 651888 movie titles\n"
     ]
    }
   ],
   "source": [
    "total_title = len(imdb_title_df)\n",
    "print(f\"We have {total_title} movie titles\")"
   ]
  },
  {
   "cell_type": "markdown",
   "metadata": {},
   "source": [
    "### Principals"
   ]
  },
  {
   "cell_type": "code",
   "execution_count": 13,
   "metadata": {},
   "outputs": [
    {
     "data": {
      "text/html": [
       "<div>\n",
       "<style scoped>\n",
       "    .dataframe tbody tr th:only-of-type {\n",
       "        vertical-align: middle;\n",
       "    }\n",
       "\n",
       "    .dataframe tbody tr th {\n",
       "        vertical-align: top;\n",
       "    }\n",
       "\n",
       "    .dataframe thead th {\n",
       "        text-align: right;\n",
       "    }\n",
       "</style>\n",
       "<table border=\"1\" class=\"dataframe\">\n",
       "  <thead>\n",
       "    <tr style=\"text-align: right;\">\n",
       "      <th></th>\n",
       "      <th>tconst</th>\n",
       "      <th>ordering</th>\n",
       "      <th>nconst</th>\n",
       "      <th>category</th>\n",
       "      <th>job</th>\n",
       "      <th>characters</th>\n",
       "    </tr>\n",
       "  </thead>\n",
       "  <tbody>\n",
       "    <tr>\n",
       "      <th>31673623</th>\n",
       "      <td>tt2121618</td>\n",
       "      <td>2</td>\n",
       "      <td>nm0439970</td>\n",
       "      <td>writer</td>\n",
       "      <td>producer</td>\n",
       "      <td>\\N</td>\n",
       "    </tr>\n",
       "    <tr>\n",
       "      <th>41449418</th>\n",
       "      <td>tt3044714</td>\n",
       "      <td>10</td>\n",
       "      <td>nm6225206</td>\n",
       "      <td>producer</td>\n",
       "      <td>producer</td>\n",
       "      <td>\\N</td>\n",
       "    </tr>\n",
       "    <tr>\n",
       "      <th>50744221</th>\n",
       "      <td>tt7014156</td>\n",
       "      <td>1</td>\n",
       "      <td>nm6691074</td>\n",
       "      <td>actor</td>\n",
       "      <td>\\N</td>\n",
       "      <td>\\N</td>\n",
       "    </tr>\n",
       "    <tr>\n",
       "      <th>14701053</th>\n",
       "      <td>tt12159578</td>\n",
       "      <td>3</td>\n",
       "      <td>nm2068418</td>\n",
       "      <td>actress</td>\n",
       "      <td>\\N</td>\n",
       "      <td>\\N</td>\n",
       "    </tr>\n",
       "    <tr>\n",
       "      <th>23983780</th>\n",
       "      <td>tt15419564</td>\n",
       "      <td>3</td>\n",
       "      <td>nm0124133</td>\n",
       "      <td>archive_footage</td>\n",
       "      <td>\\N</td>\n",
       "      <td>[\"Self\"]</td>\n",
       "    </tr>\n",
       "  </tbody>\n",
       "</table>\n",
       "</div>"
      ],
      "text/plain": [
       "              tconst  ordering     nconst         category       job  \\\n",
       "31673623   tt2121618         2  nm0439970           writer  producer   \n",
       "41449418   tt3044714        10  nm6225206         producer  producer   \n",
       "50744221   tt7014156         1  nm6691074            actor        \\N   \n",
       "14701053  tt12159578         3  nm2068418          actress        \\N   \n",
       "23983780  tt15419564         3  nm0124133  archive_footage        \\N   \n",
       "\n",
       "         characters  \n",
       "31673623         \\N  \n",
       "41449418         \\N  \n",
       "50744221         \\N  \n",
       "14701053         \\N  \n",
       "23983780   [\"Self\"]  "
      ]
     },
     "execution_count": 13,
     "metadata": {},
     "output_type": "execute_result"
    }
   ],
   "source": [
    "imdb_principals_df.sample(5)"
   ]
  },
  {
   "cell_type": "code",
   "execution_count": 14,
   "metadata": {},
   "outputs": [
    {
     "name": "stdout",
     "output_type": "stream",
     "text": [
      "We have 58900432 principals records\n",
      "We have 12 categories\n",
      "We have 5169350 unique persons\n"
     ]
    }
   ],
   "source": [
    "total_principals = len(imdb_principals_df)\n",
    "print(f\"We have {total_principals} principals records\")\n",
    "print(f\"We have {len(imdb_principals_df['category'].unique())} categories\")\n",
    "print(f\"We have {len(imdb_principals_df['nconst'].unique())} unique persons\")\n"
   ]
  },
  {
   "cell_type": "code",
   "execution_count": 15,
   "metadata": {},
   "outputs": [
    {
     "name": "stdout",
     "output_type": "stream",
     "text": [
      "We have 51.88% of missing characters\n"
     ]
    }
   ],
   "source": [
    "missing_characters = len(imdb_principals_df[imdb_principals_df['characters'] == \"\\\\N\"])\n",
    "print(f\"We have {missing_characters/total_principals*100:.2f}% of missing characters\")"
   ]
  },
  {
   "cell_type": "markdown",
   "metadata": {},
   "source": [
    "### People"
   ]
  },
  {
   "cell_type": "code",
   "execution_count": 16,
   "metadata": {},
   "outputs": [
    {
     "data": {
      "text/html": [
       "<div>\n",
       "<style scoped>\n",
       "    .dataframe tbody tr th:only-of-type {\n",
       "        vertical-align: middle;\n",
       "    }\n",
       "\n",
       "    .dataframe tbody tr th {\n",
       "        vertical-align: top;\n",
       "    }\n",
       "\n",
       "    .dataframe thead th {\n",
       "        text-align: right;\n",
       "    }\n",
       "</style>\n",
       "<table border=\"1\" class=\"dataframe\">\n",
       "  <thead>\n",
       "    <tr style=\"text-align: right;\">\n",
       "      <th></th>\n",
       "      <th>nconst</th>\n",
       "      <th>primaryName</th>\n",
       "      <th>birthYear</th>\n",
       "      <th>deathYear</th>\n",
       "      <th>primaryProfession</th>\n",
       "      <th>knownForTitles</th>\n",
       "    </tr>\n",
       "  </thead>\n",
       "  <tbody>\n",
       "    <tr>\n",
       "      <th>4611552</th>\n",
       "      <td>nm13911740</td>\n",
       "      <td>Hady Bassiony</td>\n",
       "      <td>\\N</td>\n",
       "      <td>\\N</td>\n",
       "      <td>sound_department</td>\n",
       "      <td>tt11465204</td>\n",
       "    </tr>\n",
       "    <tr>\n",
       "      <th>5528960</th>\n",
       "      <td>nm14954788</td>\n",
       "      <td>No Me de Cotorra</td>\n",
       "      <td>\\N</td>\n",
       "      <td>2023</td>\n",
       "      <td>composer</td>\n",
       "      <td>\\N</td>\n",
       "    </tr>\n",
       "    <tr>\n",
       "      <th>10393385</th>\n",
       "      <td>nm6735828</td>\n",
       "      <td>Christina Plum</td>\n",
       "      <td>\\N</td>\n",
       "      <td>\\N</td>\n",
       "      <td>actress</td>\n",
       "      <td>tt3995778</td>\n",
       "    </tr>\n",
       "    <tr>\n",
       "      <th>30843</th>\n",
       "      <td>nm0032199</td>\n",
       "      <td>Gary Appel</td>\n",
       "      <td>\\N</td>\n",
       "      <td>\\N</td>\n",
       "      <td>actor,writer,producer</td>\n",
       "      <td>tt5478280,tt5454512,tt5329212,tt0093689</td>\n",
       "    </tr>\n",
       "    <tr>\n",
       "      <th>8125457</th>\n",
       "      <td>nm3985902</td>\n",
       "      <td>Gerardo Rodriguez</td>\n",
       "      <td>\\N</td>\n",
       "      <td>\\N</td>\n",
       "      <td>editor,cinematographer,producer</td>\n",
       "      <td>tt6360204,tt1690367,tt2262242,tt3070448</td>\n",
       "    </tr>\n",
       "  </tbody>\n",
       "</table>\n",
       "</div>"
      ],
      "text/plain": [
       "              nconst        primaryName birthYear deathYear  \\\n",
       "4611552   nm13911740      Hady Bassiony        \\N        \\N   \n",
       "5528960   nm14954788   No Me de Cotorra        \\N      2023   \n",
       "10393385   nm6735828     Christina Plum        \\N        \\N   \n",
       "30843      nm0032199         Gary Appel        \\N        \\N   \n",
       "8125457    nm3985902  Gerardo Rodriguez        \\N        \\N   \n",
       "\n",
       "                        primaryProfession  \\\n",
       "4611552                  sound_department   \n",
       "5528960                          composer   \n",
       "10393385                          actress   \n",
       "30843               actor,writer,producer   \n",
       "8125457   editor,cinematographer,producer   \n",
       "\n",
       "                                   knownForTitles  \n",
       "4611552                                tt11465204  \n",
       "5528960                                        \\N  \n",
       "10393385                                tt3995778  \n",
       "30843     tt5478280,tt5454512,tt5329212,tt0093689  \n",
       "8125457   tt6360204,tt1690367,tt2262242,tt3070448  "
      ]
     },
     "execution_count": 16,
     "metadata": {},
     "output_type": "execute_result"
    }
   ],
   "source": [
    "imdb_people_df.sample(5)"
   ]
  },
  {
   "cell_type": "code",
   "execution_count": 17,
   "metadata": {},
   "outputs": [
    {
     "name": "stdout",
     "output_type": "stream",
     "text": [
      "We have 12978070 people records\n",
      "We have 12978070 unique persons\n",
      "We have 3862314 unique actors\n"
     ]
    }
   ],
   "source": [
    "total_people = len(imdb_people_df)\n",
    "print(f\"We have {total_people} people records\")\n",
    "print(f\"We have {len(imdb_people_df['nconst'].unique())} unique persons\")\n",
    "print(f\"We have {len(imdb_people_df[(imdb_people_df['primaryProfession'] == 'actor') | (imdb_people_df['primaryProfession'] == 'actress')])} unique actors\")"
   ]
  },
  {
   "cell_type": "markdown",
   "metadata": {},
   "source": [
    "### Movie titles with ratings"
   ]
  },
  {
   "cell_type": "code",
   "execution_count": 18,
   "metadata": {
    "tags": []
   },
   "outputs": [
    {
     "data": {
      "text/html": [
       "<div>\n",
       "<style scoped>\n",
       "    .dataframe tbody tr th:only-of-type {\n",
       "        vertical-align: middle;\n",
       "    }\n",
       "\n",
       "    .dataframe tbody tr th {\n",
       "        vertical-align: top;\n",
       "    }\n",
       "\n",
       "    .dataframe thead th {\n",
       "        text-align: right;\n",
       "    }\n",
       "</style>\n",
       "<table border=\"1\" class=\"dataframe\">\n",
       "  <thead>\n",
       "    <tr style=\"text-align: right;\">\n",
       "      <th></th>\n",
       "      <th>tconst</th>\n",
       "      <th>titleType</th>\n",
       "      <th>primaryTitle</th>\n",
       "      <th>originalTitle</th>\n",
       "      <th>isAdult</th>\n",
       "      <th>startYear</th>\n",
       "      <th>endYear</th>\n",
       "      <th>runtimeMinutes</th>\n",
       "      <th>genres</th>\n",
       "      <th>averageRating</th>\n",
       "      <th>numVotes</th>\n",
       "    </tr>\n",
       "  </thead>\n",
       "  <tbody>\n",
       "    <tr>\n",
       "      <th>219391</th>\n",
       "      <td>tt2386352</td>\n",
       "      <td>movie</td>\n",
       "      <td>Coherent Groom</td>\n",
       "      <td>Razborchivyy zhenikh</td>\n",
       "      <td>0</td>\n",
       "      <td>1993</td>\n",
       "      <td>\\N</td>\n",
       "      <td>97</td>\n",
       "      <td>Comedy,Romance</td>\n",
       "      <td>6.9</td>\n",
       "      <td>27</td>\n",
       "    </tr>\n",
       "    <tr>\n",
       "      <th>101207</th>\n",
       "      <td>tt0272132</td>\n",
       "      <td>movie</td>\n",
       "      <td>Huracán Ramírez y la monjita negra</td>\n",
       "      <td>Huracán Ramírez y la monjita negra</td>\n",
       "      <td>0</td>\n",
       "      <td>1973</td>\n",
       "      <td>\\N</td>\n",
       "      <td>97</td>\n",
       "      <td>Action,Adventure,Comedy</td>\n",
       "      <td>4.6</td>\n",
       "      <td>22</td>\n",
       "    </tr>\n",
       "    <tr>\n",
       "      <th>255894</th>\n",
       "      <td>tt5011510</td>\n",
       "      <td>movie</td>\n",
       "      <td>Kryptonights</td>\n",
       "      <td>Kryptonights</td>\n",
       "      <td>0</td>\n",
       "      <td>2018</td>\n",
       "      <td>\\N</td>\n",
       "      <td>90</td>\n",
       "      <td>Action</td>\n",
       "      <td>5.1</td>\n",
       "      <td>10</td>\n",
       "    </tr>\n",
       "    <tr>\n",
       "      <th>154643</th>\n",
       "      <td>tt11423728</td>\n",
       "      <td>movie</td>\n",
       "      <td>Liverpool versus Brighton &amp; Hove Albion F.C.</td>\n",
       "      <td>Liverpool versus Brighton &amp; Hove Albion F.C.</td>\n",
       "      <td>0</td>\n",
       "      <td>2019</td>\n",
       "      <td>\\N</td>\n",
       "      <td>98</td>\n",
       "      <td>Action</td>\n",
       "      <td>5.3</td>\n",
       "      <td>8</td>\n",
       "    </tr>\n",
       "    <tr>\n",
       "      <th>254584</th>\n",
       "      <td>tt4886144</td>\n",
       "      <td>movie</td>\n",
       "      <td>The City That Sold America</td>\n",
       "      <td>The City That Sold America</td>\n",
       "      <td>0</td>\n",
       "      <td>2019</td>\n",
       "      <td>\\N</td>\n",
       "      <td>69</td>\n",
       "      <td>Documentary,History</td>\n",
       "      <td>7.9</td>\n",
       "      <td>37</td>\n",
       "    </tr>\n",
       "  </tbody>\n",
       "</table>\n",
       "</div>"
      ],
      "text/plain": [
       "            tconst titleType                                  primaryTitle  \\\n",
       "219391   tt2386352     movie                                Coherent Groom   \n",
       "101207   tt0272132     movie            Huracán Ramírez y la monjita negra   \n",
       "255894   tt5011510     movie                                  Kryptonights   \n",
       "154643  tt11423728     movie  Liverpool versus Brighton & Hove Albion F.C.   \n",
       "254584   tt4886144     movie                    The City That Sold America   \n",
       "\n",
       "                                       originalTitle isAdult startYear  \\\n",
       "219391                          Razborchivyy zhenikh       0      1993   \n",
       "101207            Huracán Ramírez y la monjita negra       0      1973   \n",
       "255894                                  Kryptonights       0      2018   \n",
       "154643  Liverpool versus Brighton & Hove Albion F.C.       0      2019   \n",
       "254584                    The City That Sold America       0      2019   \n",
       "\n",
       "       endYear runtimeMinutes                   genres  averageRating  \\\n",
       "219391      \\N             97           Comedy,Romance            6.9   \n",
       "101207      \\N             97  Action,Adventure,Comedy            4.6   \n",
       "255894      \\N             90                   Action            5.1   \n",
       "154643      \\N             98                   Action            5.3   \n",
       "254584      \\N             69      Documentary,History            7.9   \n",
       "\n",
       "        numVotes  \n",
       "219391        27  \n",
       "101207        22  \n",
       "255894        10  \n",
       "154643         8  \n",
       "254584        37  "
      ]
     },
     "execution_count": 18,
     "metadata": {},
     "output_type": "execute_result"
    }
   ],
   "source": [
    "imdb_title_with_rating = imdb_title_df.merge(imdb_ratings_df, on='tconst', how='inner')\n",
    "imdb_title_with_rating.sample(5)"
   ]
  },
  {
   "cell_type": "code",
   "execution_count": 19,
   "metadata": {},
   "outputs": [
    {
     "name": "stdout",
     "output_type": "stream",
     "text": [
      "We have 294744 movies with ratings\n"
     ]
    }
   ],
   "source": [
    "total_movies_w_rating = len(imdb_title_with_rating)\n",
    "print(f\"We have {total_movies_w_rating} movies with ratings\")"
   ]
  },
  {
   "cell_type": "markdown",
   "metadata": {},
   "source": [
    "There are more than 1 million movies for which we have at least one rating. We have clearly much more data to work with than with box office revenue. Furthermore, there is a substantial amount of movies who have at least a few hundreds votes. This will allow us to get better confidence interval and reduce uncertainty in our analysis."
   ]
  },
  {
   "cell_type": "markdown",
   "metadata": {},
   "source": [
    "## Merge CMU movies and plot summaries with IMDB titles and ratings\n",
    "\n",
    "The translation dataframe from wikidata, which includes both the IMDB id and the Freebase id, enables us to combine the IMDB dataset with the CMU dataset"
   ]
  },
  {
   "cell_type": "code",
   "execution_count": 71,
   "metadata": {},
   "outputs": [],
   "source": [
    "translation_id = load_translation_df()"
   ]
  },
  {
   "cell_type": "code",
   "execution_count": 72,
   "metadata": {},
   "outputs": [],
   "source": [
    "imdb_title_with_rating_translated = imdb_title_with_rating.merge(translation_id, how='inner', left_on='tconst', right_on='imdb_id').copy()\n",
    "imdb_title_with_rating_translated = imdb_title_with_rating_translated.drop([\"imdb_id\"], axis=1)"
   ]
  },
  {
   "cell_type": "code",
   "execution_count": 73,
   "metadata": {},
   "outputs": [],
   "source": [
    "cmu_movies_w_imdb_rating = imdb_title_with_rating_translated.merge(movies_df, how='inner', left_on='freebase_id', right_on='freebase_movie_id').copy()"
   ]
  },
  {
   "cell_type": "code",
   "execution_count": 74,
   "metadata": {},
   "outputs": [],
   "source": [
    "# IMDB start year has no missing data, so we insert it into \"NaN\" fields of \"movie_release_date\" and drop \"startYear\"\n",
    "missing_years = cmu_movies_w_imdb_rating[cmu_movies_w_imdb_rating['movie_release_date'].isna()].index\n",
    "cmu_movies_w_imdb_rating.loc[missing_years, 'movie_release_date'] = cmu_movies_w_imdb_rating.loc[missing_years, 'startYear']"
   ]
  },
  {
   "cell_type": "code",
   "execution_count": 75,
   "metadata": {},
   "outputs": [],
   "source": [
    "# We have MANY depulicated attributes\n",
    "# We evaluated for each pair which column had more missing data and dropped it in favor of the other\n",
    "cmu_movies_w_imdb_rating = cmu_movies_w_imdb_rating.drop([\"freebase_movie_id\", \"titleType\", \"isAdult\", \"endYear\", \"primaryTitle\", \"originalTitle\", \"movie_release_year\", \"movie_runtime\", \"startYear\"], axis=1)"
   ]
  },
  {
   "cell_type": "code",
   "execution_count": 76,
   "metadata": {},
   "outputs": [
    {
     "name": "stdout",
     "output_type": "stream",
     "text": [
      "The merged dataframe contains 44473 movies with corresponding ratings\n"
     ]
    }
   ],
   "source": [
    "cmu_movies_w_imdb_rating = cmu_movies_w_imdb_rating.drop_duplicates(\"tconst\")\n",
    "print(f\"The merged dataframe contains {len(cmu_movies_w_imdb_rating)} movies with corresponding ratings\")"
   ]
  },
  {
   "cell_type": "code",
   "execution_count": 77,
   "metadata": {},
   "outputs": [],
   "source": [
    "# Add summaries\n",
    "cmu_movies_w_imdb_rating = cmu_movies_w_imdb_rating.merge(plot_df, on=\"wiki_movie_id\", how=\"left\")"
   ]
  },
  {
   "cell_type": "code",
   "execution_count": 78,
   "metadata": {},
   "outputs": [
    {
     "data": {
      "text/html": [
       "<div>\n",
       "<style scoped>\n",
       "    .dataframe tbody tr th:only-of-type {\n",
       "        vertical-align: middle;\n",
       "    }\n",
       "\n",
       "    .dataframe tbody tr th {\n",
       "        vertical-align: top;\n",
       "    }\n",
       "\n",
       "    .dataframe thead th {\n",
       "        text-align: right;\n",
       "    }\n",
       "</style>\n",
       "<table border=\"1\" class=\"dataframe\">\n",
       "  <thead>\n",
       "    <tr style=\"text-align: right;\">\n",
       "      <th></th>\n",
       "      <th>tconst</th>\n",
       "      <th>runtimeMinutes</th>\n",
       "      <th>genres</th>\n",
       "      <th>averageRating</th>\n",
       "      <th>numVotes</th>\n",
       "      <th>freebase_id</th>\n",
       "      <th>wiki_movie_id</th>\n",
       "      <th>movie_name</th>\n",
       "      <th>movie_release_date</th>\n",
       "      <th>box_office</th>\n",
       "      <th>movie_languages</th>\n",
       "      <th>movie_countries</th>\n",
       "      <th>movie_genres</th>\n",
       "      <th>plot_summary</th>\n",
       "    </tr>\n",
       "  </thead>\n",
       "  <tbody>\n",
       "    <tr>\n",
       "      <th>10864</th>\n",
       "      <td>tt0051834</td>\n",
       "      <td>95</td>\n",
       "      <td>Comedy,Drama</td>\n",
       "      <td>7.3</td>\n",
       "      <td>1171</td>\n",
       "      <td>/m/04g2mcy</td>\n",
       "      <td>18570148</td>\n",
       "      <td>Giants and Toys</td>\n",
       "      <td>1958-06-22</td>\n",
       "      <td>NaN</td>\n",
       "      <td>{'/m/03_9r': 'Japanese Language'}</td>\n",
       "      <td>{'/m/03_3d': 'Japan'}</td>\n",
       "      <td>{'/m/0gf28': 'Parody', '/m/06nbt': 'Satire', '...</td>\n",
       "      <td>NaN</td>\n",
       "    </tr>\n",
       "    <tr>\n",
       "      <th>14199</th>\n",
       "      <td>tt0062515</td>\n",
       "      <td>104</td>\n",
       "      <td>Documentary,Music</td>\n",
       "      <td>5.9</td>\n",
       "      <td>104</td>\n",
       "      <td>/m/0gg4xs</td>\n",
       "      <td>6651536</td>\n",
       "      <td>Young Americans</td>\n",
       "      <td>1967-10</td>\n",
       "      <td>NaN</td>\n",
       "      <td>{'/m/02h40lc': 'English Language'}</td>\n",
       "      <td>{'/m/09c7w0': 'United States of America'}</td>\n",
       "      <td>{'/m/0jtdp': 'Documentary'}</td>\n",
       "      <td>NaN</td>\n",
       "    </tr>\n",
       "    <tr>\n",
       "      <th>37112</th>\n",
       "      <td>tt0485183</td>\n",
       "      <td>148</td>\n",
       "      <td>Romance</td>\n",
       "      <td>3.9</td>\n",
       "      <td>73</td>\n",
       "      <td>/m/0282k5c</td>\n",
       "      <td>9272916</td>\n",
       "      <td>Alli Arjuna</td>\n",
       "      <td>2001</td>\n",
       "      <td>NaN</td>\n",
       "      <td>{'/m/07c9s': 'Tamil Language'}</td>\n",
       "      <td>{'/m/03rk0': 'India'}</td>\n",
       "      <td>{'/m/068d7h': 'Romantic drama', '/m/02l7c8': '...</td>\n",
       "      <td>Arivazhagan  has grown up to be a rowdy becaus...</td>\n",
       "    </tr>\n",
       "    <tr>\n",
       "      <th>33239</th>\n",
       "      <td>tt0329099</td>\n",
       "      <td>92</td>\n",
       "      <td>Action,Comedy,Horror</td>\n",
       "      <td>5.1</td>\n",
       "      <td>628</td>\n",
       "      <td>/m/02r4tc3</td>\n",
       "      <td>11241358</td>\n",
       "      <td>Freak Out</td>\n",
       "      <td>2004-09-11</td>\n",
       "      <td>NaN</td>\n",
       "      <td>{'/m/02h40lc': 'English Language'}</td>\n",
       "      <td>{'/m/07ssc': 'United Kingdom'}</td>\n",
       "      <td>{'/m/0hj3n7f': 'Horror Comedy', '/m/03npn': 'H...</td>\n",
       "      <td>NaN</td>\n",
       "    </tr>\n",
       "    <tr>\n",
       "      <th>23287</th>\n",
       "      <td>tt0102979</td>\n",
       "      <td>106</td>\n",
       "      <td>Comedy,Drama,Musical</td>\n",
       "      <td>6.4</td>\n",
       "      <td>1210</td>\n",
       "      <td>/m/02pynbf</td>\n",
       "      <td>9976141</td>\n",
       "      <td>Stepping Out</td>\n",
       "      <td>1991</td>\n",
       "      <td>NaN</td>\n",
       "      <td>{'/m/02h40lc': 'English Language'}</td>\n",
       "      <td>{'/m/09c7w0': 'United States of America', '/m/...</td>\n",
       "      <td>{'/m/01z4y': 'Comedy'}</td>\n",
       "      <td>A \"has-been\" Broadway performer moves to Buffa...</td>\n",
       "    </tr>\n",
       "  </tbody>\n",
       "</table>\n",
       "</div>"
      ],
      "text/plain": [
       "          tconst runtimeMinutes                genres  averageRating  \\\n",
       "10864  tt0051834             95          Comedy,Drama            7.3   \n",
       "14199  tt0062515            104     Documentary,Music            5.9   \n",
       "37112  tt0485183            148               Romance            3.9   \n",
       "33239  tt0329099             92  Action,Comedy,Horror            5.1   \n",
       "23287  tt0102979            106  Comedy,Drama,Musical            6.4   \n",
       "\n",
       "       numVotes freebase_id  wiki_movie_id       movie_name  \\\n",
       "10864      1171  /m/04g2mcy       18570148  Giants and Toys   \n",
       "14199       104   /m/0gg4xs        6651536  Young Americans   \n",
       "37112        73  /m/0282k5c        9272916      Alli Arjuna   \n",
       "33239       628  /m/02r4tc3       11241358        Freak Out   \n",
       "23287      1210  /m/02pynbf        9976141     Stepping Out   \n",
       "\n",
       "      movie_release_date  box_office                     movie_languages  \\\n",
       "10864         1958-06-22         NaN   {'/m/03_9r': 'Japanese Language'}   \n",
       "14199            1967-10         NaN  {'/m/02h40lc': 'English Language'}   \n",
       "37112               2001         NaN      {'/m/07c9s': 'Tamil Language'}   \n",
       "33239         2004-09-11         NaN  {'/m/02h40lc': 'English Language'}   \n",
       "23287               1991         NaN  {'/m/02h40lc': 'English Language'}   \n",
       "\n",
       "                                         movie_countries  \\\n",
       "10864                              {'/m/03_3d': 'Japan'}   \n",
       "14199          {'/m/09c7w0': 'United States of America'}   \n",
       "37112                              {'/m/03rk0': 'India'}   \n",
       "33239                     {'/m/07ssc': 'United Kingdom'}   \n",
       "23287  {'/m/09c7w0': 'United States of America', '/m/...   \n",
       "\n",
       "                                            movie_genres  \\\n",
       "10864  {'/m/0gf28': 'Parody', '/m/06nbt': 'Satire', '...   \n",
       "14199                        {'/m/0jtdp': 'Documentary'}   \n",
       "37112  {'/m/068d7h': 'Romantic drama', '/m/02l7c8': '...   \n",
       "33239  {'/m/0hj3n7f': 'Horror Comedy', '/m/03npn': 'H...   \n",
       "23287                             {'/m/01z4y': 'Comedy'}   \n",
       "\n",
       "                                            plot_summary  \n",
       "10864                                                NaN  \n",
       "14199                                                NaN  \n",
       "37112  Arivazhagan  has grown up to be a rowdy becaus...  \n",
       "33239                                                NaN  \n",
       "23287  A \"has-been\" Broadway performer moves to Buffa...  "
      ]
     },
     "execution_count": 78,
     "metadata": {},
     "output_type": "execute_result"
    }
   ],
   "source": [
    "cmu_movies_w_imdb_rating.sample(5)"
   ]
  },
  {
   "cell_type": "markdown",
   "metadata": {},
   "source": [
    "## Merge IMDB people and principals"
   ]
  },
  {
   "cell_type": "code",
   "execution_count": 79,
   "metadata": {},
   "outputs": [],
   "source": [
    "titles_of_interest = cmu_movies_w_imdb_rating[\"tconst\"].to_list()"
   ]
  },
  {
   "cell_type": "code",
   "execution_count": 80,
   "metadata": {},
   "outputs": [],
   "source": [
    "imdb_actors = imdb_people_df[(imdb_people_df[\"primaryProfession\"].str.contains(\"actor\")) | (imdb_people_df[\"primaryProfession\"].str.contains(\"actoress\"))].copy()"
   ]
  },
  {
   "cell_type": "code",
   "execution_count": 81,
   "metadata": {},
   "outputs": [],
   "source": [
    "imdb_principals_actors = imdb_principals_df[(imdb_principals_df[\"category\"] == \"actress\") | (imdb_principals_df[\"category\"] == \"actor\")].copy()"
   ]
  },
  {
   "cell_type": "code",
   "execution_count": 82,
   "metadata": {},
   "outputs": [],
   "source": [
    "imdb_actors_and_characters = imdb_actors.merge(imdb_principals_actors, on=\"nconst\", how=\"inner\").copy()"
   ]
  },
  {
   "cell_type": "code",
   "execution_count": 83,
   "metadata": {},
   "outputs": [],
   "source": [
    "imdb_actors_and_characters = imdb_actors_and_characters[imdb_actors_and_characters[\"tconst\"].isin(titles_of_interest)]"
   ]
  },
  {
   "cell_type": "code",
   "execution_count": 84,
   "metadata": {},
   "outputs": [],
   "source": [
    "imdb_actors_and_characters = imdb_actors_and_characters.drop([\"ordering\", \"category\", \"job\", \"primaryProfession\"], axis=1)"
   ]
  },
  {
   "cell_type": "code",
   "execution_count": 85,
   "metadata": {},
   "outputs": [
    {
     "data": {
      "text/html": [
       "<div>\n",
       "<style scoped>\n",
       "    .dataframe tbody tr th:only-of-type {\n",
       "        vertical-align: middle;\n",
       "    }\n",
       "\n",
       "    .dataframe tbody tr th {\n",
       "        vertical-align: top;\n",
       "    }\n",
       "\n",
       "    .dataframe thead th {\n",
       "        text-align: right;\n",
       "    }\n",
       "</style>\n",
       "<table border=\"1\" class=\"dataframe\">\n",
       "  <thead>\n",
       "    <tr style=\"text-align: right;\">\n",
       "      <th></th>\n",
       "      <th>nconst</th>\n",
       "      <th>primaryName</th>\n",
       "      <th>birthYear</th>\n",
       "      <th>deathYear</th>\n",
       "      <th>knownForTitles</th>\n",
       "      <th>tconst</th>\n",
       "      <th>characters</th>\n",
       "    </tr>\n",
       "  </thead>\n",
       "  <tbody>\n",
       "    <tr>\n",
       "      <th>0</th>\n",
       "      <td>nm0000001</td>\n",
       "      <td>Fred Astaire</td>\n",
       "      <td>1899</td>\n",
       "      <td>1987</td>\n",
       "      <td>tt0050419,tt0031983,tt0072308,tt0053137</td>\n",
       "      <td>tt0025164</td>\n",
       "      <td>[\"Guy Holden\"]</td>\n",
       "    </tr>\n",
       "    <tr>\n",
       "      <th>1</th>\n",
       "      <td>nm0000001</td>\n",
       "      <td>Fred Astaire</td>\n",
       "      <td>1899</td>\n",
       "      <td>1987</td>\n",
       "      <td>tt0050419,tt0031983,tt0072308,tt0053137</td>\n",
       "      <td>tt0026942</td>\n",
       "      <td>[\"Huck Haines\"]</td>\n",
       "    </tr>\n",
       "    <tr>\n",
       "      <th>2</th>\n",
       "      <td>nm0000001</td>\n",
       "      <td>Fred Astaire</td>\n",
       "      <td>1899</td>\n",
       "      <td>1987</td>\n",
       "      <td>tt0050419,tt0031983,tt0072308,tt0053137</td>\n",
       "      <td>tt0027125</td>\n",
       "      <td>[\"Jerry Travers\"]</td>\n",
       "    </tr>\n",
       "    <tr>\n",
       "      <th>3</th>\n",
       "      <td>nm0000001</td>\n",
       "      <td>Fred Astaire</td>\n",
       "      <td>1899</td>\n",
       "      <td>1987</td>\n",
       "      <td>tt0050419,tt0031983,tt0072308,tt0053137</td>\n",
       "      <td>tt0027630</td>\n",
       "      <td>[\"Bake Baker\"]</td>\n",
       "    </tr>\n",
       "    <tr>\n",
       "      <th>4</th>\n",
       "      <td>nm0000001</td>\n",
       "      <td>Fred Astaire</td>\n",
       "      <td>1899</td>\n",
       "      <td>1987</td>\n",
       "      <td>tt0050419,tt0031983,tt0072308,tt0053137</td>\n",
       "      <td>tt0028333</td>\n",
       "      <td>[\"Lucky Garnett\"]</td>\n",
       "    </tr>\n",
       "  </tbody>\n",
       "</table>\n",
       "</div>"
      ],
      "text/plain": [
       "      nconst   primaryName birthYear deathYear  \\\n",
       "0  nm0000001  Fred Astaire      1899      1987   \n",
       "1  nm0000001  Fred Astaire      1899      1987   \n",
       "2  nm0000001  Fred Astaire      1899      1987   \n",
       "3  nm0000001  Fred Astaire      1899      1987   \n",
       "4  nm0000001  Fred Astaire      1899      1987   \n",
       "\n",
       "                            knownForTitles     tconst         characters  \n",
       "0  tt0050419,tt0031983,tt0072308,tt0053137  tt0025164     [\"Guy Holden\"]  \n",
       "1  tt0050419,tt0031983,tt0072308,tt0053137  tt0026942    [\"Huck Haines\"]  \n",
       "2  tt0050419,tt0031983,tt0072308,tt0053137  tt0027125  [\"Jerry Travers\"]  \n",
       "3  tt0050419,tt0031983,tt0072308,tt0053137  tt0027630     [\"Bake Baker\"]  \n",
       "4  tt0050419,tt0031983,tt0072308,tt0053137  tt0028333  [\"Lucky Garnett\"]  "
      ]
     },
     "execution_count": 85,
     "metadata": {},
     "output_type": "execute_result"
    }
   ],
   "source": [
    "imdb_actors_and_characters.head(5)"
   ]
  },
  {
   "cell_type": "markdown",
   "metadata": {},
   "source": [
    "## Filter CMU characters"
   ]
  },
  {
   "cell_type": "code",
   "execution_count": 86,
   "metadata": {},
   "outputs": [],
   "source": [
    "titles_of_interest_wiki = cmu_movies_w_imdb_rating[\"wiki_movie_id\"].to_list()"
   ]
  },
  {
   "cell_type": "code",
   "execution_count": 87,
   "metadata": {},
   "outputs": [],
   "source": [
    "characters_interest = characters_df[characters_df[\"wiki_movie_id\"].isin(titles_of_interest_wiki)]"
   ]
  },
  {
   "cell_type": "code",
   "execution_count": 88,
   "metadata": {},
   "outputs": [
    {
     "data": {
      "text/html": [
       "<div>\n",
       "<style scoped>\n",
       "    .dataframe tbody tr th:only-of-type {\n",
       "        vertical-align: middle;\n",
       "    }\n",
       "\n",
       "    .dataframe tbody tr th {\n",
       "        vertical-align: top;\n",
       "    }\n",
       "\n",
       "    .dataframe thead th {\n",
       "        text-align: right;\n",
       "    }\n",
       "</style>\n",
       "<table border=\"1\" class=\"dataframe\">\n",
       "  <thead>\n",
       "    <tr style=\"text-align: right;\">\n",
       "      <th></th>\n",
       "      <th>wiki_movie_id</th>\n",
       "      <th>freebase_movie_id</th>\n",
       "      <th>release_date</th>\n",
       "      <th>character_name</th>\n",
       "      <th>actor_birth</th>\n",
       "      <th>actor_gender</th>\n",
       "      <th>actor_height</th>\n",
       "      <th>actor_ethnicity</th>\n",
       "      <th>actor_name</th>\n",
       "      <th>release_actor_age</th>\n",
       "      <th>freebase_map_id</th>\n",
       "      <th>freebase_character_id</th>\n",
       "      <th>freebase_actor_id</th>\n",
       "    </tr>\n",
       "  </thead>\n",
       "  <tbody>\n",
       "    <tr>\n",
       "      <th>277470</th>\n",
       "      <td>13296475</td>\n",
       "      <td>/m/03c0znv</td>\n",
       "      <td>2007</td>\n",
       "      <td>NaN</td>\n",
       "      <td>NaN</td>\n",
       "      <td>NaN</td>\n",
       "      <td>NaN</td>\n",
       "      <td>NaN</td>\n",
       "      <td>Bob Dunsworth</td>\n",
       "      <td>NaN</td>\n",
       "      <td>/m/0gz1s5v</td>\n",
       "      <td>NaN</td>\n",
       "      <td>/m/0gz121n</td>\n",
       "    </tr>\n",
       "    <tr>\n",
       "      <th>335196</th>\n",
       "      <td>1828157</td>\n",
       "      <td>/m/05_5rv</td>\n",
       "      <td>1946-12-25</td>\n",
       "      <td>NaN</td>\n",
       "      <td>1914-02-26</td>\n",
       "      <td>M</td>\n",
       "      <td>1.800</td>\n",
       "      <td>NaN</td>\n",
       "      <td>Robert Alda</td>\n",
       "      <td>32.0</td>\n",
       "      <td>/m/0k4dxt</td>\n",
       "      <td>NaN</td>\n",
       "      <td>/m/04t9tv</td>\n",
       "    </tr>\n",
       "    <tr>\n",
       "      <th>264707</th>\n",
       "      <td>31250146</td>\n",
       "      <td>/m/0gjdg7f</td>\n",
       "      <td>NaN</td>\n",
       "      <td>NaN</td>\n",
       "      <td>1916-07-31</td>\n",
       "      <td>M</td>\n",
       "      <td>NaN</td>\n",
       "      <td>NaN</td>\n",
       "      <td>Sydney Tafler</td>\n",
       "      <td>NaN</td>\n",
       "      <td>/m/0h7vdc3</td>\n",
       "      <td>NaN</td>\n",
       "      <td>/m/02qjygb</td>\n",
       "    </tr>\n",
       "    <tr>\n",
       "      <th>55659</th>\n",
       "      <td>10196144</td>\n",
       "      <td>/m/02q4w0r</td>\n",
       "      <td>2008</td>\n",
       "      <td>Lee Pearson</td>\n",
       "      <td>1973-11-12</td>\n",
       "      <td>F</td>\n",
       "      <td>1.676</td>\n",
       "      <td>NaN</td>\n",
       "      <td>Radha Mitchell</td>\n",
       "      <td>34.0</td>\n",
       "      <td>/m/02vbt73</td>\n",
       "      <td>/m/0h2qgvb</td>\n",
       "      <td>/m/02xz6l</td>\n",
       "    </tr>\n",
       "    <tr>\n",
       "      <th>212879</th>\n",
       "      <td>3207603</td>\n",
       "      <td>/m/08zcb0</td>\n",
       "      <td>1996</td>\n",
       "      <td>NaN</td>\n",
       "      <td>1949-02-27</td>\n",
       "      <td>F</td>\n",
       "      <td>NaN</td>\n",
       "      <td>NaN</td>\n",
       "      <td>Debra Monk</td>\n",
       "      <td>46.0</td>\n",
       "      <td>/m/0cg5k99</td>\n",
       "      <td>NaN</td>\n",
       "      <td>/m/01hy3g</td>\n",
       "    </tr>\n",
       "  </tbody>\n",
       "</table>\n",
       "</div>"
      ],
      "text/plain": [
       "        wiki_movie_id freebase_movie_id release_date character_name  \\\n",
       "277470       13296475        /m/03c0znv         2007            NaN   \n",
       "335196        1828157         /m/05_5rv   1946-12-25            NaN   \n",
       "264707       31250146        /m/0gjdg7f          NaN            NaN   \n",
       "55659        10196144        /m/02q4w0r         2008    Lee Pearson   \n",
       "212879        3207603         /m/08zcb0         1996            NaN   \n",
       "\n",
       "       actor_birth actor_gender  actor_height actor_ethnicity      actor_name  \\\n",
       "277470         NaN          NaN           NaN             NaN   Bob Dunsworth   \n",
       "335196  1914-02-26            M         1.800             NaN     Robert Alda   \n",
       "264707  1916-07-31            M           NaN             NaN   Sydney Tafler   \n",
       "55659   1973-11-12            F         1.676             NaN  Radha Mitchell   \n",
       "212879  1949-02-27            F           NaN             NaN      Debra Monk   \n",
       "\n",
       "        release_actor_age freebase_map_id freebase_character_id  \\\n",
       "277470                NaN      /m/0gz1s5v                   NaN   \n",
       "335196               32.0       /m/0k4dxt                   NaN   \n",
       "264707                NaN      /m/0h7vdc3                   NaN   \n",
       "55659                34.0      /m/02vbt73            /m/0h2qgvb   \n",
       "212879               46.0      /m/0cg5k99                   NaN   \n",
       "\n",
       "       freebase_actor_id  \n",
       "277470        /m/0gz121n  \n",
       "335196         /m/04t9tv  \n",
       "264707        /m/02qjygb  \n",
       "55659          /m/02xz6l  \n",
       "212879         /m/01hy3g  "
      ]
     },
     "execution_count": 88,
     "metadata": {},
     "output_type": "execute_result"
    }
   ],
   "source": [
    "characters_interest.sample(5)"
   ]
  },
  {
   "cell_type": "markdown",
   "metadata": {},
   "source": [
    "## Merge IMDB actors and characters with CMU characters"
   ]
  },
  {
   "cell_type": "code",
   "execution_count": 89,
   "metadata": {},
   "outputs": [],
   "source": [
    "imdb_actors_and_characters_translated = imdb_actors_and_characters.merge(translation_id, how='inner', left_on='tconst', right_on='imdb_id').copy()\n",
    "imdb_actors_and_characters_translated = imdb_actors_and_characters_translated.drop([\"imdb_id\"], axis=1)"
   ]
  },
  {
   "cell_type": "code",
   "execution_count": 90,
   "metadata": {},
   "outputs": [
    {
     "data": {
      "text/html": [
       "<div>\n",
       "<style scoped>\n",
       "    .dataframe tbody tr th:only-of-type {\n",
       "        vertical-align: middle;\n",
       "    }\n",
       "\n",
       "    .dataframe tbody tr th {\n",
       "        vertical-align: top;\n",
       "    }\n",
       "\n",
       "    .dataframe thead th {\n",
       "        text-align: right;\n",
       "    }\n",
       "</style>\n",
       "<table border=\"1\" class=\"dataframe\">\n",
       "  <thead>\n",
       "    <tr style=\"text-align: right;\">\n",
       "      <th></th>\n",
       "      <th>nconst</th>\n",
       "      <th>knownForTitles</th>\n",
       "      <th>tconst</th>\n",
       "      <th>characters</th>\n",
       "      <th>freebase_id</th>\n",
       "      <th>wiki_movie_id</th>\n",
       "      <th>release_date</th>\n",
       "      <th>actor_birth</th>\n",
       "      <th>actor_gender</th>\n",
       "      <th>actor_height</th>\n",
       "      <th>actor_ethnicity</th>\n",
       "      <th>actor_name</th>\n",
       "      <th>release_actor_age</th>\n",
       "      <th>freebase_map_id</th>\n",
       "      <th>freebase_character_id</th>\n",
       "      <th>freebase_actor_id</th>\n",
       "    </tr>\n",
       "  </thead>\n",
       "  <tbody>\n",
       "    <tr>\n",
       "      <th>65977</th>\n",
       "      <td>nm0571106</td>\n",
       "      <td>tt0088930,tt3032476,tt0310281,tt0088258</td>\n",
       "      <td>tt0280720</td>\n",
       "      <td>[\"Dwain\"]</td>\n",
       "      <td>/m/045690</td>\n",
       "      <td>1091175</td>\n",
       "      <td>2002-08-23</td>\n",
       "      <td>1947-10-17</td>\n",
       "      <td>M</td>\n",
       "      <td>1.83</td>\n",
       "      <td>NaN</td>\n",
       "      <td>Michael McKean</td>\n",
       "      <td>54.0</td>\n",
       "      <td>/m/06wg_9x</td>\n",
       "      <td>/m/0c1djxm</td>\n",
       "      <td>/m/0pgjm</td>\n",
       "    </tr>\n",
       "    <tr>\n",
       "      <th>36648</th>\n",
       "      <td>nm0005045</td>\n",
       "      <td>tt0109520,tt2699110,tt1119644,tt0118300</td>\n",
       "      <td>tt1104806</td>\n",
       "      <td>[\"Ben Tyler\"]</td>\n",
       "      <td>/m/05f5gxy</td>\n",
       "      <td>21404478</td>\n",
       "      <td>2008-09-08</td>\n",
       "      <td>1978-06-11</td>\n",
       "      <td>M</td>\n",
       "      <td>1.88</td>\n",
       "      <td>/m/0g8_vp</td>\n",
       "      <td>Joshua Jackson</td>\n",
       "      <td>30.0</td>\n",
       "      <td>/m/05nw1b1</td>\n",
       "      <td>/m/0h0xt48</td>\n",
       "      <td>/m/03_6y</td>\n",
       "    </tr>\n",
       "    <tr>\n",
       "      <th>64716</th>\n",
       "      <td>nm0949599</td>\n",
       "      <td>tt0373469,tt0120815,tt0119174,tt0251736</td>\n",
       "      <td>tt0272425</td>\n",
       "      <td>[\"Dr. Hughes\"]</td>\n",
       "      <td>/m/03d3mps</td>\n",
       "      <td>14440848</td>\n",
       "      <td>1999</td>\n",
       "      <td>1930-03-13</td>\n",
       "      <td>M</td>\n",
       "      <td>NaN</td>\n",
       "      <td>NaN</td>\n",
       "      <td>Harrison Young</td>\n",
       "      <td>68.0</td>\n",
       "      <td>/m/04j2zlc</td>\n",
       "      <td>NaN</td>\n",
       "      <td>/m/02rvxqh</td>\n",
       "    </tr>\n",
       "    <tr>\n",
       "      <th>16083</th>\n",
       "      <td>nm0000489</td>\n",
       "      <td>tt0167261,tt0070917,tt0121765,tt0120737</td>\n",
       "      <td>tt0073241</td>\n",
       "      <td>[\"Maj. Chilton\"]</td>\n",
       "      <td>/m/0dgsbqk</td>\n",
       "      <td>29019732</td>\n",
       "      <td>1976-01-14</td>\n",
       "      <td>1922-05-27</td>\n",
       "      <td>M</td>\n",
       "      <td>1.96</td>\n",
       "      <td>NaN</td>\n",
       "      <td>Christopher Lee</td>\n",
       "      <td>53.0</td>\n",
       "      <td>/m/0gdsr39</td>\n",
       "      <td>NaN</td>\n",
       "      <td>/m/0f0kz</td>\n",
       "    </tr>\n",
       "    <tr>\n",
       "      <th>56331</th>\n",
       "      <td>nm0776856</td>\n",
       "      <td>tt0471251,tt0302819,tt0111787,tt2825292</td>\n",
       "      <td>tt0803049</td>\n",
       "      <td>[\"Leon Schuster\",\"Schuks\",\"Various characters\"]</td>\n",
       "      <td>/m/02rgrzd</td>\n",
       "      <td>11522949</td>\n",
       "      <td>2004</td>\n",
       "      <td>1951-05-21</td>\n",
       "      <td>M</td>\n",
       "      <td>NaN</td>\n",
       "      <td>NaN</td>\n",
       "      <td>Leon Schuster</td>\n",
       "      <td>52.0</td>\n",
       "      <td>/m/02vc5_6</td>\n",
       "      <td>NaN</td>\n",
       "      <td>/m/044qsc</td>\n",
       "    </tr>\n",
       "  </tbody>\n",
       "</table>\n",
       "</div>"
      ],
      "text/plain": [
       "          nconst                           knownForTitles     tconst  \\\n",
       "65977  nm0571106  tt0088930,tt3032476,tt0310281,tt0088258  tt0280720   \n",
       "36648  nm0005045  tt0109520,tt2699110,tt1119644,tt0118300  tt1104806   \n",
       "64716  nm0949599  tt0373469,tt0120815,tt0119174,tt0251736  tt0272425   \n",
       "16083  nm0000489  tt0167261,tt0070917,tt0121765,tt0120737  tt0073241   \n",
       "56331  nm0776856  tt0471251,tt0302819,tt0111787,tt2825292  tt0803049   \n",
       "\n",
       "                                            characters freebase_id  \\\n",
       "65977                                        [\"Dwain\"]   /m/045690   \n",
       "36648                                    [\"Ben Tyler\"]  /m/05f5gxy   \n",
       "64716                                   [\"Dr. Hughes\"]  /m/03d3mps   \n",
       "16083                                 [\"Maj. Chilton\"]  /m/0dgsbqk   \n",
       "56331  [\"Leon Schuster\",\"Schuks\",\"Various characters\"]  /m/02rgrzd   \n",
       "\n",
       "       wiki_movie_id release_date actor_birth actor_gender  actor_height  \\\n",
       "65977        1091175   2002-08-23  1947-10-17            M          1.83   \n",
       "36648       21404478   2008-09-08  1978-06-11            M          1.88   \n",
       "64716       14440848         1999  1930-03-13            M           NaN   \n",
       "16083       29019732   1976-01-14  1922-05-27            M          1.96   \n",
       "56331       11522949         2004  1951-05-21            M           NaN   \n",
       "\n",
       "      actor_ethnicity       actor_name  release_actor_age freebase_map_id  \\\n",
       "65977             NaN   Michael McKean               54.0      /m/06wg_9x   \n",
       "36648       /m/0g8_vp   Joshua Jackson               30.0      /m/05nw1b1   \n",
       "64716             NaN   Harrison Young               68.0      /m/04j2zlc   \n",
       "16083             NaN  Christopher Lee               53.0      /m/0gdsr39   \n",
       "56331             NaN    Leon Schuster               52.0      /m/02vc5_6   \n",
       "\n",
       "      freebase_character_id freebase_actor_id  \n",
       "65977            /m/0c1djxm          /m/0pgjm  \n",
       "36648            /m/0h0xt48          /m/03_6y  \n",
       "64716                   NaN        /m/02rvxqh  \n",
       "16083                   NaN          /m/0f0kz  \n",
       "56331                   NaN         /m/044qsc  "
      ]
     },
     "execution_count": 90,
     "metadata": {},
     "output_type": "execute_result"
    }
   ],
   "source": [
    "# TODO, currently merging on movie id and actor name. Would rather merge with actor id too but a translation is needed\n",
    "imdb_actors_w_cmu_characters = imdb_actors_and_characters_translated.merge(characters_interest, how='inner', left_on=['freebase_id', 'primaryName'], right_on=['freebase_movie_id', 'actor_name']).copy()\n",
    "\n",
    "# Merge birth year information\n",
    "missing_birth_years = imdb_actors_w_cmu_characters[imdb_actors_w_cmu_characters['actor_birth'].isna()].index\n",
    "imdb_actors_w_cmu_characters.loc[missing_birth_years, 'actor_birth'] = imdb_actors_w_cmu_characters.loc[missing_birth_years, 'birthYear']\n",
    "\n",
    "imdb_actors_w_cmu_characters = imdb_actors_w_cmu_characters.drop([\"freebase_movie_id\", \"primaryName\", \"deathYear\", \"birthYear\", \"character_name\"], axis=1)\n",
    "\n",
    "imdb_actors_w_cmu_characters = imdb_actors_w_cmu_characters.drop_duplicates()\n",
    "\n",
    "imdb_actors_w_cmu_characters.sample(5)"
   ]
  },
  {
   "cell_type": "markdown",
   "metadata": {},
   "source": [
    "## Summary of results for part I\n",
    "We now have two main dataframes for further analysis. One containing everything related to movies and their ratings and the other containing everything related to actors, their features and characters they played in a given movie."
   ]
  },
  {
   "cell_type": "code",
   "execution_count": 91,
   "metadata": {},
   "outputs": [],
   "source": [
    "movies = cmu_movies_w_imdb_rating.copy()\n",
    "actors_characters = imdb_actors_w_cmu_characters.copy()"
   ]
  },
  {
   "cell_type": "code",
   "execution_count": 92,
   "metadata": {},
   "outputs": [
    {
     "data": {
      "text/html": [
       "<div>\n",
       "<style scoped>\n",
       "    .dataframe tbody tr th:only-of-type {\n",
       "        vertical-align: middle;\n",
       "    }\n",
       "\n",
       "    .dataframe tbody tr th {\n",
       "        vertical-align: top;\n",
       "    }\n",
       "\n",
       "    .dataframe thead th {\n",
       "        text-align: right;\n",
       "    }\n",
       "</style>\n",
       "<table border=\"1\" class=\"dataframe\">\n",
       "  <thead>\n",
       "    <tr style=\"text-align: right;\">\n",
       "      <th></th>\n",
       "      <th>tconst</th>\n",
       "      <th>runtimeMinutes</th>\n",
       "      <th>genres</th>\n",
       "      <th>averageRating</th>\n",
       "      <th>numVotes</th>\n",
       "      <th>freebase_id</th>\n",
       "      <th>wiki_movie_id</th>\n",
       "      <th>movie_name</th>\n",
       "      <th>movie_release_date</th>\n",
       "      <th>box_office</th>\n",
       "      <th>movie_languages</th>\n",
       "      <th>movie_countries</th>\n",
       "      <th>movie_genres</th>\n",
       "      <th>plot_summary</th>\n",
       "    </tr>\n",
       "  </thead>\n",
       "  <tbody>\n",
       "    <tr>\n",
       "      <th>0</th>\n",
       "      <td>tt0000009</td>\n",
       "      <td>45</td>\n",
       "      <td>Romance</td>\n",
       "      <td>5.3</td>\n",
       "      <td>207</td>\n",
       "      <td>/m/02q23xk</td>\n",
       "      <td>10109752</td>\n",
       "      <td>Miss Jerry</td>\n",
       "      <td>1894-10-09</td>\n",
       "      <td>NaN</td>\n",
       "      <td>{'/m/06ppq': 'Silent film'}</td>\n",
       "      <td>{'/m/09c7w0': 'United States of America'}</td>\n",
       "      <td>{'/m/02hmvc': 'Short Film', '/m/06ppq': 'Silen...</td>\n",
       "      <td>After finding out that her father is suffering...</td>\n",
       "    </tr>\n",
       "    <tr>\n",
       "      <th>1</th>\n",
       "      <td>tt0000147</td>\n",
       "      <td>100</td>\n",
       "      <td>Documentary,News,Sport</td>\n",
       "      <td>5.3</td>\n",
       "      <td>484</td>\n",
       "      <td>/m/0czdh_n</td>\n",
       "      <td>28703057</td>\n",
       "      <td>The Corbett-Fitzsimmons Fight</td>\n",
       "      <td>1897-05-22</td>\n",
       "      <td>100000.0</td>\n",
       "      <td>{}</td>\n",
       "      <td>{}</td>\n",
       "      <td>{'/m/01z02hx': 'Sports'}</td>\n",
       "      <td>The film no longer exists in its entirety; how...</td>\n",
       "    </tr>\n",
       "    <tr>\n",
       "      <th>2</th>\n",
       "      <td>tt0000574</td>\n",
       "      <td>70</td>\n",
       "      <td>Action,Adventure,Biography</td>\n",
       "      <td>6.0</td>\n",
       "      <td>855</td>\n",
       "      <td>/m/0120y4</td>\n",
       "      <td>142995</td>\n",
       "      <td>The Story of the Kelly Gang</td>\n",
       "      <td>1906-12-26</td>\n",
       "      <td>NaN</td>\n",
       "      <td>{'/m/02h40lc': 'English Language'}</td>\n",
       "      <td>{'/m/0chghy': 'Australia'}</td>\n",
       "      <td>{'/m/0lsxr': 'Crime Fiction', '/m/06ppq': 'Sil...</td>\n",
       "      <td>The Story of the Kelly Gangs tone is of sorrow...</td>\n",
       "    </tr>\n",
       "    <tr>\n",
       "      <th>3</th>\n",
       "      <td>tt0000591</td>\n",
       "      <td>90</td>\n",
       "      <td>Drama</td>\n",
       "      <td>5.0</td>\n",
       "      <td>21</td>\n",
       "      <td>/m/07s67rr</td>\n",
       "      <td>4849466</td>\n",
       "      <td>L'Enfant prodigue</td>\n",
       "      <td>1907-06-20</td>\n",
       "      <td>NaN</td>\n",
       "      <td>{'/m/064_8sq': 'French Language'}</td>\n",
       "      <td>{'/m/0f8l9c': 'France'}</td>\n",
       "      <td>{'/m/02hmvc': 'Short Film', '/m/06ppq': 'Silen...</td>\n",
       "      <td>NaN</td>\n",
       "    </tr>\n",
       "    <tr>\n",
       "      <th>4</th>\n",
       "      <td>tt0000679</td>\n",
       "      <td>120</td>\n",
       "      <td>Adventure,Fantasy</td>\n",
       "      <td>5.1</td>\n",
       "      <td>68</td>\n",
       "      <td>/m/0fgfyy</td>\n",
       "      <td>5954041</td>\n",
       "      <td>The Fairylogue and Radio-Plays</td>\n",
       "      <td>1908-09-24</td>\n",
       "      <td>NaN</td>\n",
       "      <td>{'/m/02h40lc': 'English Language'}</td>\n",
       "      <td>{'/m/09c7w0': 'United States of America'}</td>\n",
       "      <td>{'/m/06ppq': 'Silent film', '/m/01g6gs': 'Blac...</td>\n",
       "      <td>NaN</td>\n",
       "    </tr>\n",
       "  </tbody>\n",
       "</table>\n",
       "</div>"
      ],
      "text/plain": [
       "      tconst runtimeMinutes                      genres  averageRating  \\\n",
       "0  tt0000009             45                     Romance            5.3   \n",
       "1  tt0000147            100      Documentary,News,Sport            5.3   \n",
       "2  tt0000574             70  Action,Adventure,Biography            6.0   \n",
       "3  tt0000591             90                       Drama            5.0   \n",
       "4  tt0000679            120           Adventure,Fantasy            5.1   \n",
       "\n",
       "   numVotes freebase_id  wiki_movie_id                      movie_name  \\\n",
       "0       207  /m/02q23xk       10109752                      Miss Jerry   \n",
       "1       484  /m/0czdh_n       28703057   The Corbett-Fitzsimmons Fight   \n",
       "2       855   /m/0120y4         142995     The Story of the Kelly Gang   \n",
       "3        21  /m/07s67rr        4849466               L'Enfant prodigue   \n",
       "4        68   /m/0fgfyy        5954041  The Fairylogue and Radio-Plays   \n",
       "\n",
       "  movie_release_date  box_office                     movie_languages  \\\n",
       "0         1894-10-09         NaN         {'/m/06ppq': 'Silent film'}   \n",
       "1         1897-05-22    100000.0                                  {}   \n",
       "2         1906-12-26         NaN  {'/m/02h40lc': 'English Language'}   \n",
       "3         1907-06-20         NaN   {'/m/064_8sq': 'French Language'}   \n",
       "4         1908-09-24         NaN  {'/m/02h40lc': 'English Language'}   \n",
       "\n",
       "                             movie_countries  \\\n",
       "0  {'/m/09c7w0': 'United States of America'}   \n",
       "1                                         {}   \n",
       "2                 {'/m/0chghy': 'Australia'}   \n",
       "3                    {'/m/0f8l9c': 'France'}   \n",
       "4  {'/m/09c7w0': 'United States of America'}   \n",
       "\n",
       "                                        movie_genres  \\\n",
       "0  {'/m/02hmvc': 'Short Film', '/m/06ppq': 'Silen...   \n",
       "1                           {'/m/01z02hx': 'Sports'}   \n",
       "2  {'/m/0lsxr': 'Crime Fiction', '/m/06ppq': 'Sil...   \n",
       "3  {'/m/02hmvc': 'Short Film', '/m/06ppq': 'Silen...   \n",
       "4  {'/m/06ppq': 'Silent film', '/m/01g6gs': 'Blac...   \n",
       "\n",
       "                                        plot_summary  \n",
       "0  After finding out that her father is suffering...  \n",
       "1  The film no longer exists in its entirety; how...  \n",
       "2  The Story of the Kelly Gangs tone is of sorrow...  \n",
       "3                                                NaN  \n",
       "4                                                NaN  "
      ]
     },
     "execution_count": 92,
     "metadata": {},
     "output_type": "execute_result"
    }
   ],
   "source": [
    "movies.head()"
   ]
  },
  {
   "cell_type": "code",
   "execution_count": 93,
   "metadata": {
    "scrolled": true
   },
   "outputs": [
    {
     "data": {
      "text/html": [
       "<div>\n",
       "<style scoped>\n",
       "    .dataframe tbody tr th:only-of-type {\n",
       "        vertical-align: middle;\n",
       "    }\n",
       "\n",
       "    .dataframe tbody tr th {\n",
       "        vertical-align: top;\n",
       "    }\n",
       "\n",
       "    .dataframe thead th {\n",
       "        text-align: right;\n",
       "    }\n",
       "</style>\n",
       "<table border=\"1\" class=\"dataframe\">\n",
       "  <thead>\n",
       "    <tr style=\"text-align: right;\">\n",
       "      <th></th>\n",
       "      <th>nconst</th>\n",
       "      <th>knownForTitles</th>\n",
       "      <th>tconst</th>\n",
       "      <th>characters</th>\n",
       "      <th>freebase_id</th>\n",
       "      <th>wiki_movie_id</th>\n",
       "      <th>release_date</th>\n",
       "      <th>actor_birth</th>\n",
       "      <th>actor_gender</th>\n",
       "      <th>actor_height</th>\n",
       "      <th>actor_ethnicity</th>\n",
       "      <th>actor_name</th>\n",
       "      <th>release_actor_age</th>\n",
       "      <th>freebase_map_id</th>\n",
       "      <th>freebase_character_id</th>\n",
       "      <th>freebase_actor_id</th>\n",
       "    </tr>\n",
       "  </thead>\n",
       "  <tbody>\n",
       "    <tr>\n",
       "      <th>0</th>\n",
       "      <td>nm0000001</td>\n",
       "      <td>tt0050419,tt0031983,tt0072308,tt0053137</td>\n",
       "      <td>tt0025164</td>\n",
       "      <td>[\"Guy Holden\"]</td>\n",
       "      <td>/m/0glnm</td>\n",
       "      <td>61169</td>\n",
       "      <td>1934</td>\n",
       "      <td>1899-05-10</td>\n",
       "      <td>M</td>\n",
       "      <td>1.750</td>\n",
       "      <td>/m/01qhm_</td>\n",
       "      <td>Fred Astaire</td>\n",
       "      <td>NaN</td>\n",
       "      <td>/m/0k557x</td>\n",
       "      <td>/m/0h184w0</td>\n",
       "      <td>/m/0h953</td>\n",
       "    </tr>\n",
       "    <tr>\n",
       "      <th>1</th>\n",
       "      <td>nm0002143</td>\n",
       "      <td>tt0027125,tt0057193,tt0030241,tt0036613</td>\n",
       "      <td>tt0025164</td>\n",
       "      <td>[\"Egbert 'Pinky' Fitzgerald\"]</td>\n",
       "      <td>/m/0glnm</td>\n",
       "      <td>61169</td>\n",
       "      <td>1934</td>\n",
       "      <td>1886-03-18</td>\n",
       "      <td>M</td>\n",
       "      <td>NaN</td>\n",
       "      <td>NaN</td>\n",
       "      <td>Edward Everett Horton</td>\n",
       "      <td>NaN</td>\n",
       "      <td>/m/0cs6brt</td>\n",
       "      <td>NaN</td>\n",
       "      <td>/m/0197p7</td>\n",
       "    </tr>\n",
       "    <tr>\n",
       "      <th>2</th>\n",
       "      <td>nm0000001</td>\n",
       "      <td>tt0050419,tt0031983,tt0072308,tt0053137</td>\n",
       "      <td>tt0026942</td>\n",
       "      <td>[\"Huck Haines\"]</td>\n",
       "      <td>/m/02x5h46</td>\n",
       "      <td>12800555</td>\n",
       "      <td>1935-03-08</td>\n",
       "      <td>1899-05-10</td>\n",
       "      <td>M</td>\n",
       "      <td>1.750</td>\n",
       "      <td>/m/01qhm_</td>\n",
       "      <td>Fred Astaire</td>\n",
       "      <td>NaN</td>\n",
       "      <td>/m/03l20gb</td>\n",
       "      <td>/m/0h184_z</td>\n",
       "      <td>/m/0h953</td>\n",
       "    </tr>\n",
       "    <tr>\n",
       "      <th>3</th>\n",
       "      <td>nm0000068</td>\n",
       "      <td>tt0056412,tt0029284,tt0046375,tt0026942</td>\n",
       "      <td>tt0026942</td>\n",
       "      <td>[\"John Kent\"]</td>\n",
       "      <td>/m/02x5h46</td>\n",
       "      <td>12800555</td>\n",
       "      <td>1935-03-08</td>\n",
       "      <td>1898-01-23</td>\n",
       "      <td>M</td>\n",
       "      <td>1.905</td>\n",
       "      <td>NaN</td>\n",
       "      <td>Randolph Scott</td>\n",
       "      <td>NaN</td>\n",
       "      <td>/m/03l20fw</td>\n",
       "      <td>/m/0h2qky5</td>\n",
       "      <td>/m/014y_c</td>\n",
       "    </tr>\n",
       "    <tr>\n",
       "      <th>4</th>\n",
       "      <td>nm0000001</td>\n",
       "      <td>tt0050419,tt0031983,tt0072308,tt0053137</td>\n",
       "      <td>tt0027125</td>\n",
       "      <td>[\"Jerry Travers\"]</td>\n",
       "      <td>/m/0gnjh</td>\n",
       "      <td>61501</td>\n",
       "      <td>1935</td>\n",
       "      <td>1899-05-10</td>\n",
       "      <td>M</td>\n",
       "      <td>1.750</td>\n",
       "      <td>/m/01qhm_</td>\n",
       "      <td>Fred Astaire</td>\n",
       "      <td>NaN</td>\n",
       "      <td>/m/0k77vk</td>\n",
       "      <td>/m/0h184_5</td>\n",
       "      <td>/m/0h953</td>\n",
       "    </tr>\n",
       "  </tbody>\n",
       "</table>\n",
       "</div>"
      ],
      "text/plain": [
       "      nconst                           knownForTitles     tconst  \\\n",
       "0  nm0000001  tt0050419,tt0031983,tt0072308,tt0053137  tt0025164   \n",
       "1  nm0002143  tt0027125,tt0057193,tt0030241,tt0036613  tt0025164   \n",
       "2  nm0000001  tt0050419,tt0031983,tt0072308,tt0053137  tt0026942   \n",
       "3  nm0000068  tt0056412,tt0029284,tt0046375,tt0026942  tt0026942   \n",
       "4  nm0000001  tt0050419,tt0031983,tt0072308,tt0053137  tt0027125   \n",
       "\n",
       "                      characters freebase_id  wiki_movie_id release_date  \\\n",
       "0                 [\"Guy Holden\"]    /m/0glnm          61169         1934   \n",
       "1  [\"Egbert 'Pinky' Fitzgerald\"]    /m/0glnm          61169         1934   \n",
       "2                [\"Huck Haines\"]  /m/02x5h46       12800555   1935-03-08   \n",
       "3                  [\"John Kent\"]  /m/02x5h46       12800555   1935-03-08   \n",
       "4              [\"Jerry Travers\"]    /m/0gnjh          61501         1935   \n",
       "\n",
       "  actor_birth actor_gender  actor_height actor_ethnicity  \\\n",
       "0  1899-05-10            M         1.750       /m/01qhm_   \n",
       "1  1886-03-18            M           NaN             NaN   \n",
       "2  1899-05-10            M         1.750       /m/01qhm_   \n",
       "3  1898-01-23            M         1.905             NaN   \n",
       "4  1899-05-10            M         1.750       /m/01qhm_   \n",
       "\n",
       "              actor_name  release_actor_age freebase_map_id  \\\n",
       "0           Fred Astaire                NaN       /m/0k557x   \n",
       "1  Edward Everett Horton                NaN      /m/0cs6brt   \n",
       "2           Fred Astaire                NaN      /m/03l20gb   \n",
       "3         Randolph Scott                NaN      /m/03l20fw   \n",
       "4           Fred Astaire                NaN       /m/0k77vk   \n",
       "\n",
       "  freebase_character_id freebase_actor_id  \n",
       "0            /m/0h184w0          /m/0h953  \n",
       "1                   NaN         /m/0197p7  \n",
       "2            /m/0h184_z          /m/0h953  \n",
       "3            /m/0h2qky5         /m/014y_c  \n",
       "4            /m/0h184_5          /m/0h953  "
      ]
     },
     "execution_count": 93,
     "metadata": {},
     "output_type": "execute_result"
    }
   ],
   "source": [
    "actors_characters.head()"
   ]
  },
  {
   "cell_type": "code",
   "execution_count": 94,
   "metadata": {},
   "outputs": [],
   "source": [
    "movies.to_json(os.path.join(SAVE_PATH, \"movies.json\"), orient='records')"
   ]
  },
  {
   "cell_type": "code",
   "execution_count": 95,
   "metadata": {},
   "outputs": [],
   "source": [
    "actors_characters.to_json(os.path.join(SAVE_PATH, \"characters.json\"), orient='records')"
   ]
  },
  {
   "cell_type": "markdown",
   "metadata": {},
   "source": [
    "# Part II: Personas"
   ]
  },
  {
   "cell_type": "code",
   "execution_count": 96,
   "metadata": {},
   "outputs": [],
   "source": [
    "# Load results of part I\n",
    "movies = pd.read_json(os.path.join(SAVE_PATH, \"movies.json\"))\n",
    "actors_characters = pd.read_json(os.path.join(SAVE_PATH, \"characters.json\"))"
   ]
  },
  {
   "cell_type": "markdown",
   "metadata": {},
   "source": [
    "## TVTropes personas"
   ]
  },
  {
   "cell_type": "code",
   "execution_count": 97,
   "metadata": {},
   "outputs": [
    {
     "data": {
      "text/html": [
       "<div>\n",
       "<style scoped>\n",
       "    .dataframe tbody tr th:only-of-type {\n",
       "        vertical-align: middle;\n",
       "    }\n",
       "\n",
       "    .dataframe tbody tr th {\n",
       "        vertical-align: top;\n",
       "    }\n",
       "\n",
       "    .dataframe thead th {\n",
       "        text-align: right;\n",
       "    }\n",
       "</style>\n",
       "<table border=\"1\" class=\"dataframe\">\n",
       "  <thead>\n",
       "    <tr style=\"text-align: right;\">\n",
       "      <th></th>\n",
       "      <th>id</th>\n",
       "      <th>trope</th>\n",
       "      <th>actor</th>\n",
       "      <th>character</th>\n",
       "      <th>movie_name</th>\n",
       "    </tr>\n",
       "  </thead>\n",
       "  <tbody>\n",
       "    <tr>\n",
       "      <th>0</th>\n",
       "      <td>/m/02wszk9</td>\n",
       "      <td>chanteuse</td>\n",
       "      <td>Kathleen Turner</td>\n",
       "      <td>Jessica Rabbit</td>\n",
       "      <td>Who Framed Roger Rabbit</td>\n",
       "    </tr>\n",
       "    <tr>\n",
       "      <th>1</th>\n",
       "      <td>/m/0k5wls</td>\n",
       "      <td>chanteuse</td>\n",
       "      <td>Cameron Diaz</td>\n",
       "      <td>Tina Carlyle</td>\n",
       "      <td>The Mask</td>\n",
       "    </tr>\n",
       "    <tr>\n",
       "      <th>2</th>\n",
       "      <td>/m/0k50tl</td>\n",
       "      <td>chanteuse</td>\n",
       "      <td>Michelle Pfeiffer</td>\n",
       "      <td>Susie Diamond</td>\n",
       "      <td>The Fabulous Baker Boys</td>\n",
       "    </tr>\n",
       "    <tr>\n",
       "      <th>3</th>\n",
       "      <td>/m/0k3j8v</td>\n",
       "      <td>chanteuse</td>\n",
       "      <td>Marilyn Monroe</td>\n",
       "      <td>Sugar Kane Kowalczyk</td>\n",
       "      <td>Some Like It Hot</td>\n",
       "    </tr>\n",
       "    <tr>\n",
       "      <th>4</th>\n",
       "      <td>/m/0jvlc4</td>\n",
       "      <td>chanteuse</td>\n",
       "      <td>Isabella Rossellini</td>\n",
       "      <td>Dorothy Vallens</td>\n",
       "      <td>Blue Velvet</td>\n",
       "    </tr>\n",
       "  </tbody>\n",
       "</table>\n",
       "</div>"
      ],
      "text/plain": [
       "           id      trope                actor             character  \\\n",
       "0  /m/02wszk9  chanteuse      Kathleen Turner        Jessica Rabbit   \n",
       "1   /m/0k5wls  chanteuse         Cameron Diaz          Tina Carlyle   \n",
       "2   /m/0k50tl  chanteuse    Michelle Pfeiffer         Susie Diamond   \n",
       "3   /m/0k3j8v  chanteuse       Marilyn Monroe  Sugar Kane Kowalczyk   \n",
       "4   /m/0jvlc4  chanteuse  Isabella Rossellini       Dorothy Vallens   \n",
       "\n",
       "                movie_name  \n",
       "0  Who Framed Roger Rabbit  \n",
       "1                 The Mask  \n",
       "2  The Fabulous Baker Boys  \n",
       "3         Some Like It Hot  \n",
       "4              Blue Velvet  "
      ]
     },
     "execution_count": 97,
     "metadata": {},
     "output_type": "execute_result"
    }
   ],
   "source": [
    "tvtropes_personas = load_tv_tropes_personas_df()\n",
    "tvtropes_personas.head()"
   ]
  },
  {
   "cell_type": "markdown",
   "metadata": {},
   "source": [
    "### Analyse tropes per actor"
   ]
  },
  {
   "cell_type": "code",
   "execution_count": 98,
   "metadata": {},
   "outputs": [],
   "source": [
    "tvtropes_per_actor = tvtropes_personas[[\"actor\", \"trope\"]].copy().groupby(\"actor\").agg(list).reset_index()"
   ]
  },
  {
   "cell_type": "code",
   "execution_count": 99,
   "metadata": {},
   "outputs": [],
   "source": [
    "tvtropes_per_actor[\"num_tropes\"] = tvtropes_per_actor[\"trope\"].apply(lambda ls: len(list(dict.fromkeys(ls))))"
   ]
  },
  {
   "cell_type": "code",
   "execution_count": 100,
   "metadata": {},
   "outputs": [],
   "source": [
    "tvtropes_per_actor = tvtropes_per_actor.sort_values(\"num_tropes\")"
   ]
  },
  {
   "cell_type": "code",
   "execution_count": 101,
   "metadata": {},
   "outputs": [
    {
     "data": {
      "text/html": [
       "<div>\n",
       "<style scoped>\n",
       "    .dataframe tbody tr th:only-of-type {\n",
       "        vertical-align: middle;\n",
       "    }\n",
       "\n",
       "    .dataframe tbody tr th {\n",
       "        vertical-align: top;\n",
       "    }\n",
       "\n",
       "    .dataframe thead th {\n",
       "        text-align: right;\n",
       "    }\n",
       "</style>\n",
       "<table border=\"1\" class=\"dataframe\">\n",
       "  <thead>\n",
       "    <tr style=\"text-align: right;\">\n",
       "      <th></th>\n",
       "      <th>actor</th>\n",
       "      <th>trope</th>\n",
       "      <th>num_tropes</th>\n",
       "    </tr>\n",
       "  </thead>\n",
       "  <tbody>\n",
       "    <tr>\n",
       "      <th>349</th>\n",
       "      <td>Zhang Ziyi</td>\n",
       "      <td>[arrogant_kungfu_guy]</td>\n",
       "      <td>1</td>\n",
       "    </tr>\n",
       "    <tr>\n",
       "      <th>307</th>\n",
       "      <td>Shih Kien</td>\n",
       "      <td>[arrogant_kungfu_guy]</td>\n",
       "      <td>1</td>\n",
       "    </tr>\n",
       "    <tr>\n",
       "      <th>179</th>\n",
       "      <td>Kenneth Branagh</td>\n",
       "      <td>[gadgeteer_genius]</td>\n",
       "      <td>1</td>\n",
       "    </tr>\n",
       "    <tr>\n",
       "      <th>180</th>\n",
       "      <td>Kevin Costner</td>\n",
       "      <td>[young_gun]</td>\n",
       "      <td>1</td>\n",
       "    </tr>\n",
       "    <tr>\n",
       "      <th>181</th>\n",
       "      <td>Kevin Gage</td>\n",
       "      <td>[psycho_for_hire]</td>\n",
       "      <td>1</td>\n",
       "    </tr>\n",
       "  </tbody>\n",
       "</table>\n",
       "</div>"
      ],
      "text/plain": [
       "               actor                  trope  num_tropes\n",
       "349       Zhang Ziyi  [arrogant_kungfu_guy]           1\n",
       "307        Shih Kien  [arrogant_kungfu_guy]           1\n",
       "179  Kenneth Branagh     [gadgeteer_genius]           1\n",
       "180    Kevin Costner            [young_gun]           1\n",
       "181       Kevin Gage      [psycho_for_hire]           1"
      ]
     },
     "execution_count": 101,
     "metadata": {},
     "output_type": "execute_result"
    }
   ],
   "source": [
    "tvtropes_per_actor.head()"
   ]
  },
  {
   "cell_type": "code",
   "execution_count": 102,
   "metadata": {},
   "outputs": [
    {
     "data": {
      "image/png": "[encoded data removed]",
      "text/plain": [
       "<Figure size 640x480 with 1 Axes>"
      ]
     },
     "metadata": {},
     "output_type": "display_data"
    }
   ],
   "source": [
    "sns.barplot(data = tvtropes_per_actor.tail(20), x=\"num_tropes\", y=\"actor\", orient='h')\n",
    "plt.xlabel('Number of Tropes')\n",
    "plt.ylabel('Actor')\n",
    "plt.title('Top 20 Actors with the Most Diverse Tropes')\n",
    "plt.show()"
   ]
  },
  {
   "cell_type": "markdown",
   "metadata": {},
   "source": [
    "### Analyse frequence of tropes when joined"
   ]
  },
  {
   "cell_type": "code",
   "execution_count": 103,
   "metadata": {},
   "outputs": [],
   "source": [
    "tvtropes_personas_std = tvtropes_personas.copy()\n",
    "tvtropes_personas_std['movie_name_standardized'] = tvtropes_personas_std['movie_name'].str.lower()"
   ]
  },
  {
   "cell_type": "code",
   "execution_count": 104,
   "metadata": {},
   "outputs": [],
   "source": [
    "movies_std = movies.copy()\n",
    "movies_std['movie_name_standardized'] = movies_std['movie_name'].str.lower()"
   ]
  },
  {
   "cell_type": "code",
   "execution_count": 105,
   "metadata": {},
   "outputs": [],
   "source": [
    "movies_personas = movies_std.merge(tvtropes_personas_std, on='movie_name_standardized', how='inner')"
   ]
  },
  {
   "cell_type": "code",
   "execution_count": 106,
   "metadata": {},
   "outputs": [
    {
     "data": {
      "image/png": "[encoded data removed]",
      "text/plain": [
       "<Figure size 2000x1800 with 1 Axes>"
      ]
     },
     "metadata": {},
     "output_type": "display_data"
    }
   ],
   "source": [
    "trope_value_counts = movies_personas['trope'].value_counts()\n",
    "\n",
    "plt.figure(figsize=(20, 18))\n",
    "trope_value_counts.plot(kind='barh')\n",
    "plt.xlabel('Count')\n",
    "plt.ylabel('Tropes')\n",
    "plt.title('Frequency of Tropes in Movies')\n",
    "plt.gca().invert_yaxis()\n",
    "plt.show()"
   ]
  },
  {
   "cell_type": "markdown",
   "metadata": {},
   "source": [
    "## CMU personas with characters"
   ]
  },
  {
   "cell_type": "code",
   "execution_count": 107,
   "metadata": {},
   "outputs": [],
   "source": [
    "cmu_personas = load_personas()"
   ]
  },
  {
   "cell_type": "code",
   "execution_count": 108,
   "metadata": {},
   "outputs": [
    {
     "data": {
      "text/html": [
       "<div>\n",
       "<style scoped>\n",
       "    .dataframe tbody tr th:only-of-type {\n",
       "        vertical-align: middle;\n",
       "    }\n",
       "\n",
       "    .dataframe tbody tr th {\n",
       "        vertical-align: top;\n",
       "    }\n",
       "\n",
       "    .dataframe thead th {\n",
       "        text-align: right;\n",
       "    }\n",
       "</style>\n",
       "<table border=\"1\" class=\"dataframe\">\n",
       "  <thead>\n",
       "    <tr style=\"text-align: right;\">\n",
       "      <th></th>\n",
       "      <th>freebase_id</th>\n",
       "      <th>wiki_id</th>\n",
       "      <th>movie_name</th>\n",
       "      <th>secondary_name</th>\n",
       "      <th>full_name</th>\n",
       "      <th>token_occurences</th>\n",
       "      <th>estimated_trope</th>\n",
       "      <th>trope_distrib</th>\n",
       "    </tr>\n",
       "  </thead>\n",
       "  <tbody>\n",
       "    <tr>\n",
       "      <th>156933</th>\n",
       "      <td>/m/0j_zgw</td>\n",
       "      <td>695266</td>\n",
       "      <td>Lethal Weapon 3</td>\n",
       "      <td>Martin Riggs</td>\n",
       "      <td>Riggs and Murtaugh</td>\n",
       "      <td>18</td>\n",
       "      <td>35</td>\n",
       "      <td>[0.0, 0.02, 0.0, 0.0, 0.0, 0.0, 0.0, 0.0, 0.0,...</td>\n",
       "    </tr>\n",
       "    <tr>\n",
       "      <th>83040</th>\n",
       "      <td>e13</td>\n",
       "      <td>26085510</td>\n",
       "      <td>One Piece Film: Strong World</td>\n",
       "      <td>Blue</td>\n",
       "      <td>East Blue</td>\n",
       "      <td>3</td>\n",
       "      <td>18</td>\n",
       "      <td>[0.0, 0.08, 0.05, 0.0, 0.0, 0.03, 0.02, 0.05, ...</td>\n",
       "    </tr>\n",
       "    <tr>\n",
       "      <th>118231</th>\n",
       "      <td>/m/01z0ccy</td>\n",
       "      <td>3463364</td>\n",
       "      <td>High School Musical</td>\n",
       "      <td>Ms. Darbus</td>\n",
       "      <td>Ms. Darbus</td>\n",
       "      <td>7</td>\n",
       "      <td>14</td>\n",
       "      <td>[0.0, 0.0, 0.01, 0.0, 0.0, 0.02, 0.01, 0.0, 0....</td>\n",
       "    </tr>\n",
       "    <tr>\n",
       "      <th>101755</th>\n",
       "      <td>e4</td>\n",
       "      <td>3038177</td>\n",
       "      <td>Bluffmaster</td>\n",
       "      <td>Bhalerao</td>\n",
       "      <td>Dr. Bhalerao</td>\n",
       "      <td>4</td>\n",
       "      <td>49</td>\n",
       "      <td>[0.0, 0.0, 0.0, 0.01, 0.0, 0.1, 0.0, 0.0, 0.0,...</td>\n",
       "    </tr>\n",
       "    <tr>\n",
       "      <th>126539</th>\n",
       "      <td>e4</td>\n",
       "      <td>3907719</td>\n",
       "      <td>The Beast in the Heart</td>\n",
       "      <td>brother</td>\n",
       "      <td>her brother , a University teacher in the US</td>\n",
       "      <td>3</td>\n",
       "      <td>12</td>\n",
       "      <td>[0.0, 0.11, 0.13, 0.13, 0.0, 0.01, 0.01, 0.04,...</td>\n",
       "    </tr>\n",
       "  </tbody>\n",
       "</table>\n",
       "</div>"
      ],
      "text/plain": [
       "       freebase_id   wiki_id                    movie_name secondary_name  \\\n",
       "156933   /m/0j_zgw    695266               Lethal Weapon 3   Martin Riggs   \n",
       "83040          e13  26085510  One Piece Film: Strong World           Blue   \n",
       "118231  /m/01z0ccy   3463364           High School Musical     Ms. Darbus   \n",
       "101755          e4   3038177                   Bluffmaster       Bhalerao   \n",
       "126539          e4   3907719        The Beast in the Heart        brother   \n",
       "\n",
       "                                           full_name  token_occurences  \\\n",
       "156933                            Riggs and Murtaugh                18   \n",
       "83040                                      East Blue                 3   \n",
       "118231                                    Ms. Darbus                 7   \n",
       "101755                                  Dr. Bhalerao                 4   \n",
       "126539  her brother , a University teacher in the US                 3   \n",
       "\n",
       "        estimated_trope                                      trope_distrib  \n",
       "156933               35  [0.0, 0.02, 0.0, 0.0, 0.0, 0.0, 0.0, 0.0, 0.0,...  \n",
       "83040                18  [0.0, 0.08, 0.05, 0.0, 0.0, 0.03, 0.02, 0.05, ...  \n",
       "118231               14  [0.0, 0.0, 0.01, 0.0, 0.0, 0.02, 0.01, 0.0, 0....  \n",
       "101755               49  [0.0, 0.0, 0.0, 0.01, 0.0, 0.1, 0.0, 0.0, 0.0,...  \n",
       "126539               12  [0.0, 0.11, 0.13, 0.13, 0.0, 0.01, 0.01, 0.04,...  "
      ]
     },
     "execution_count": 108,
     "metadata": {},
     "output_type": "execute_result"
    }
   ],
   "source": [
    "cmu_personas.sample(5)"
   ]
  },
  {
   "cell_type": "code",
   "execution_count": 109,
   "metadata": {},
   "outputs": [],
   "source": [
    "movies_personas_cmu = cmu_personas.merge(actors_characters, left_on='freebase_id', right_on='freebase_map_id')"
   ]
  },
  {
   "cell_type": "code",
   "execution_count": 110,
   "metadata": {},
   "outputs": [
    {
     "data": {
      "text/html": [
       "<div>\n",
       "<style scoped>\n",
       "    .dataframe tbody tr th:only-of-type {\n",
       "        vertical-align: middle;\n",
       "    }\n",
       "\n",
       "    .dataframe tbody tr th {\n",
       "        vertical-align: top;\n",
       "    }\n",
       "\n",
       "    .dataframe thead th {\n",
       "        text-align: right;\n",
       "    }\n",
       "</style>\n",
       "<table border=\"1\" class=\"dataframe\">\n",
       "  <thead>\n",
       "    <tr style=\"text-align: right;\">\n",
       "      <th></th>\n",
       "      <th>freebase_id_x</th>\n",
       "      <th>wiki_id</th>\n",
       "      <th>movie_name</th>\n",
       "      <th>secondary_name</th>\n",
       "      <th>full_name</th>\n",
       "      <th>token_occurences</th>\n",
       "      <th>estimated_trope</th>\n",
       "      <th>trope_distrib</th>\n",
       "      <th>nconst</th>\n",
       "      <th>knownForTitles</th>\n",
       "      <th>...</th>\n",
       "      <th>release_date</th>\n",
       "      <th>actor_birth</th>\n",
       "      <th>actor_gender</th>\n",
       "      <th>actor_height</th>\n",
       "      <th>actor_ethnicity</th>\n",
       "      <th>actor_name</th>\n",
       "      <th>release_actor_age</th>\n",
       "      <th>freebase_map_id</th>\n",
       "      <th>freebase_character_id</th>\n",
       "      <th>freebase_actor_id</th>\n",
       "    </tr>\n",
       "  </thead>\n",
       "  <tbody>\n",
       "    <tr>\n",
       "      <th>9011</th>\n",
       "      <td>/m/02vbdpz</td>\n",
       "      <td>5226874</td>\n",
       "      <td>Flicka</td>\n",
       "      <td>Rob McLaughlin</td>\n",
       "      <td>his</td>\n",
       "      <td>34</td>\n",
       "      <td>28</td>\n",
       "      <td>[0.0, 0.0, 0.0, 0.0, 0.0, 0.0, 0.0, 0.0, 0.0, ...</td>\n",
       "      <td>nm0005210</td>\n",
       "      <td>tt0434215,tt1964418,tt0390022,tt0878804</td>\n",
       "      <td>...</td>\n",
       "      <td>2006-10-20</td>\n",
       "      <td>1967-05-01</td>\n",
       "      <td>M</td>\n",
       "      <td>1.778</td>\n",
       "      <td>None</td>\n",
       "      <td>Tim McGraw</td>\n",
       "      <td>39.0</td>\n",
       "      <td>/m/02vbdpz</td>\n",
       "      <td>/m/0h6cvk_</td>\n",
       "      <td>/m/02lk95</td>\n",
       "    </tr>\n",
       "    <tr>\n",
       "      <th>3373</th>\n",
       "      <td>/m/04q3xwt</td>\n",
       "      <td>19476185</td>\n",
       "      <td>Mr. Sardonicus</td>\n",
       "      <td>Baron Sardonicus</td>\n",
       "      <td>Sardonicus</td>\n",
       "      <td>20</td>\n",
       "      <td>46</td>\n",
       "      <td>[0.0, 0.0, 0.04, 0.0, 0.0, 0.0, 0.0, 0.0, 0.0,...</td>\n",
       "      <td>nm0738212</td>\n",
       "      <td>tt0092906,tt0046147,tt0107899,tt0044760</td>\n",
       "      <td>...</td>\n",
       "      <td>1961-10-08</td>\n",
       "      <td>1911-12-27</td>\n",
       "      <td>M</td>\n",
       "      <td>NaN</td>\n",
       "      <td>None</td>\n",
       "      <td>Guy Rolfe</td>\n",
       "      <td>49.0</td>\n",
       "      <td>/m/04q3xwt</td>\n",
       "      <td>/m/0c3j9pw</td>\n",
       "      <td>/m/0cn30w</td>\n",
       "    </tr>\n",
       "    <tr>\n",
       "      <th>6645</th>\n",
       "      <td>/m/0gb1s9l</td>\n",
       "      <td>30665001</td>\n",
       "      <td>Lucky Jordan</td>\n",
       "      <td>Lucky Jordan</td>\n",
       "      <td>Lucky</td>\n",
       "      <td>8</td>\n",
       "      <td>34</td>\n",
       "      <td>[0.0, 0.0, 0.0, 0.01, 0.0, 0.0, 0.04, 0.0, 0.0...</td>\n",
       "      <td>nm0000042</td>\n",
       "      <td>tt0035432,tt0038369,tt0039056,tt0046303</td>\n",
       "      <td>...</td>\n",
       "      <td>1942-11-16</td>\n",
       "      <td>1913-09-03</td>\n",
       "      <td>M</td>\n",
       "      <td>1.650</td>\n",
       "      <td>None</td>\n",
       "      <td>Alan Ladd</td>\n",
       "      <td>29.0</td>\n",
       "      <td>/m/0gb1s9l</td>\n",
       "      <td>/m/0h5c7vr</td>\n",
       "      <td>/m/02knnd</td>\n",
       "    </tr>\n",
       "    <tr>\n",
       "      <th>11215</th>\n",
       "      <td>/m/04128gq</td>\n",
       "      <td>8492265</td>\n",
       "      <td>Tarzan Finds a Son!</td>\n",
       "      <td>Tarzan</td>\n",
       "      <td>Tarzan and Jane</td>\n",
       "      <td>3</td>\n",
       "      <td>30</td>\n",
       "      <td>[0.0, 0.0, 0.0, 0.0, 0.0, 0.0, 0.0, 0.0, 0.0, ...</td>\n",
       "      <td>nm0919321</td>\n",
       "      <td>tt0042311,tt0023551,tt0035419,tt0036414</td>\n",
       "      <td>...</td>\n",
       "      <td>1939-06-16</td>\n",
       "      <td>1904-06-02</td>\n",
       "      <td>M</td>\n",
       "      <td>1.905</td>\n",
       "      <td>/m/0ffj5g</td>\n",
       "      <td>Johnny Weissmuller</td>\n",
       "      <td>35.0</td>\n",
       "      <td>/m/04128gq</td>\n",
       "      <td>/m/07lk3</td>\n",
       "      <td>/m/04709</td>\n",
       "    </tr>\n",
       "    <tr>\n",
       "      <th>2955</th>\n",
       "      <td>/m/04djr1f</td>\n",
       "      <td>18025339</td>\n",
       "      <td>Tenure</td>\n",
       "      <td>Charlie Thurber</td>\n",
       "      <td>Thurber</td>\n",
       "      <td>12</td>\n",
       "      <td>2</td>\n",
       "      <td>[0.0, 0.0, 1.0, 0.0, 0.0, 0.0, 0.0, 0.0, 0.0, ...</td>\n",
       "      <td>nm0005561</td>\n",
       "      <td>tt0302886,tt0115734,tt0265666,tt0452702</td>\n",
       "      <td>...</td>\n",
       "      <td>2010-02-19</td>\n",
       "      <td>1971-09-21</td>\n",
       "      <td>M</td>\n",
       "      <td>1.830</td>\n",
       "      <td>/m/033tf_</td>\n",
       "      <td>Luke Wilson</td>\n",
       "      <td>38.0</td>\n",
       "      <td>/m/04djr1f</td>\n",
       "      <td>/m/0h1jgtc</td>\n",
       "      <td>/m/030vnj</td>\n",
       "    </tr>\n",
       "  </tbody>\n",
       "</table>\n",
       "<p>5 rows × 24 columns</p>\n",
       "</div>"
      ],
      "text/plain": [
       "      freebase_id_x   wiki_id           movie_name    secondary_name  \\\n",
       "9011     /m/02vbdpz   5226874               Flicka    Rob McLaughlin   \n",
       "3373     /m/04q3xwt  19476185       Mr. Sardonicus  Baron Sardonicus   \n",
       "6645     /m/0gb1s9l  30665001         Lucky Jordan      Lucky Jordan   \n",
       "11215    /m/04128gq   8492265  Tarzan Finds a Son!            Tarzan   \n",
       "2955     /m/04djr1f  18025339               Tenure   Charlie Thurber   \n",
       "\n",
       "             full_name  token_occurences  estimated_trope  \\\n",
       "9011               his                34               28   \n",
       "3373        Sardonicus                20               46   \n",
       "6645             Lucky                 8               34   \n",
       "11215  Tarzan and Jane                 3               30   \n",
       "2955           Thurber                12                2   \n",
       "\n",
       "                                           trope_distrib     nconst  \\\n",
       "9011   [0.0, 0.0, 0.0, 0.0, 0.0, 0.0, 0.0, 0.0, 0.0, ...  nm0005210   \n",
       "3373   [0.0, 0.0, 0.04, 0.0, 0.0, 0.0, 0.0, 0.0, 0.0,...  nm0738212   \n",
       "6645   [0.0, 0.0, 0.0, 0.01, 0.0, 0.0, 0.04, 0.0, 0.0...  nm0000042   \n",
       "11215  [0.0, 0.0, 0.0, 0.0, 0.0, 0.0, 0.0, 0.0, 0.0, ...  nm0919321   \n",
       "2955   [0.0, 0.0, 1.0, 0.0, 0.0, 0.0, 0.0, 0.0, 0.0, ...  nm0005561   \n",
       "\n",
       "                                knownForTitles  ... release_date actor_birth  \\\n",
       "9011   tt0434215,tt1964418,tt0390022,tt0878804  ...   2006-10-20  1967-05-01   \n",
       "3373   tt0092906,tt0046147,tt0107899,tt0044760  ...   1961-10-08  1911-12-27   \n",
       "6645   tt0035432,tt0038369,tt0039056,tt0046303  ...   1942-11-16  1913-09-03   \n",
       "11215  tt0042311,tt0023551,tt0035419,tt0036414  ...   1939-06-16  1904-06-02   \n",
       "2955   tt0302886,tt0115734,tt0265666,tt0452702  ...   2010-02-19  1971-09-21   \n",
       "\n",
       "      actor_gender  actor_height actor_ethnicity          actor_name  \\\n",
       "9011             M         1.778            None          Tim McGraw   \n",
       "3373             M           NaN            None           Guy Rolfe   \n",
       "6645             M         1.650            None           Alan Ladd   \n",
       "11215            M         1.905       /m/0ffj5g  Johnny Weissmuller   \n",
       "2955             M         1.830       /m/033tf_         Luke Wilson   \n",
       "\n",
       "      release_actor_age  freebase_map_id freebase_character_id  \\\n",
       "9011               39.0       /m/02vbdpz            /m/0h6cvk_   \n",
       "3373               49.0       /m/04q3xwt            /m/0c3j9pw   \n",
       "6645               29.0       /m/0gb1s9l            /m/0h5c7vr   \n",
       "11215              35.0       /m/04128gq              /m/07lk3   \n",
       "2955               38.0       /m/04djr1f            /m/0h1jgtc   \n",
       "\n",
       "      freebase_actor_id  \n",
       "9011          /m/02lk95  \n",
       "3373          /m/0cn30w  \n",
       "6645          /m/02knnd  \n",
       "11215          /m/04709  \n",
       "2955          /m/030vnj  \n",
       "\n",
       "[5 rows x 24 columns]"
      ]
     },
     "execution_count": 110,
     "metadata": {},
     "output_type": "execute_result"
    }
   ],
   "source": [
    "movies_personas_cmu.sample(5)"
   ]
  },
  {
   "cell_type": "markdown",
   "metadata": {},
   "source": [
    "## Self-cooked personas"
   ]
  },
  {
   "cell_type": "code",
   "execution_count": 111,
   "metadata": {},
   "outputs": [
    {
     "data": {
      "text/html": [
       "<div>\n",
       "<style scoped>\n",
       "    .dataframe tbody tr th:only-of-type {\n",
       "        vertical-align: middle;\n",
       "    }\n",
       "\n",
       "    .dataframe tbody tr th {\n",
       "        vertical-align: top;\n",
       "    }\n",
       "\n",
       "    .dataframe thead th {\n",
       "        text-align: right;\n",
       "    }\n",
       "</style>\n",
       "<table border=\"1\" class=\"dataframe\">\n",
       "  <thead>\n",
       "    <tr style=\"text-align: right;\">\n",
       "      <th></th>\n",
       "      <th>tconst</th>\n",
       "      <th>runtimeMinutes</th>\n",
       "      <th>genres</th>\n",
       "      <th>averageRating</th>\n",
       "      <th>numVotes</th>\n",
       "      <th>freebase_id</th>\n",
       "      <th>wiki_movie_id</th>\n",
       "      <th>movie_name</th>\n",
       "      <th>movie_release_date</th>\n",
       "      <th>box_office</th>\n",
       "      <th>movie_languages</th>\n",
       "      <th>movie_countries</th>\n",
       "      <th>movie_genres</th>\n",
       "      <th>plot_summary</th>\n",
       "    </tr>\n",
       "  </thead>\n",
       "  <tbody>\n",
       "    <tr>\n",
       "      <th>0</th>\n",
       "      <td>tt0000009</td>\n",
       "      <td>45</td>\n",
       "      <td>Romance</td>\n",
       "      <td>5.3</td>\n",
       "      <td>207</td>\n",
       "      <td>/m/02q23xk</td>\n",
       "      <td>10109752</td>\n",
       "      <td>Miss Jerry</td>\n",
       "      <td>1894-10-09</td>\n",
       "      <td>NaN</td>\n",
       "      <td>{'/m/06ppq': 'Silent film'}</td>\n",
       "      <td>{'/m/09c7w0': 'United States of America'}</td>\n",
       "      <td>{'/m/02hmvc': 'Short Film', '/m/06ppq': 'Silen...</td>\n",
       "      <td>After finding out that her father is suffering...</td>\n",
       "    </tr>\n",
       "    <tr>\n",
       "      <th>1</th>\n",
       "      <td>tt0000147</td>\n",
       "      <td>100</td>\n",
       "      <td>Documentary,News,Sport</td>\n",
       "      <td>5.3</td>\n",
       "      <td>484</td>\n",
       "      <td>/m/0czdh_n</td>\n",
       "      <td>28703057</td>\n",
       "      <td>The Corbett-Fitzsimmons Fight</td>\n",
       "      <td>1897-05-22</td>\n",
       "      <td>100000.0</td>\n",
       "      <td>{}</td>\n",
       "      <td>{}</td>\n",
       "      <td>{'/m/01z02hx': 'Sports'}</td>\n",
       "      <td>The film no longer exists in its entirety; how...</td>\n",
       "    </tr>\n",
       "    <tr>\n",
       "      <th>2</th>\n",
       "      <td>tt0000574</td>\n",
       "      <td>70</td>\n",
       "      <td>Action,Adventure,Biography</td>\n",
       "      <td>6.0</td>\n",
       "      <td>855</td>\n",
       "      <td>/m/0120y4</td>\n",
       "      <td>142995</td>\n",
       "      <td>The Story of the Kelly Gang</td>\n",
       "      <td>1906-12-26</td>\n",
       "      <td>NaN</td>\n",
       "      <td>{'/m/02h40lc': 'English Language'}</td>\n",
       "      <td>{'/m/0chghy': 'Australia'}</td>\n",
       "      <td>{'/m/0lsxr': 'Crime Fiction', '/m/06ppq': 'Sil...</td>\n",
       "      <td>The Story of the Kelly Gangs tone is of sorrow...</td>\n",
       "    </tr>\n",
       "    <tr>\n",
       "      <th>3</th>\n",
       "      <td>tt0000591</td>\n",
       "      <td>90</td>\n",
       "      <td>Drama</td>\n",
       "      <td>5.0</td>\n",
       "      <td>21</td>\n",
       "      <td>/m/07s67rr</td>\n",
       "      <td>4849466</td>\n",
       "      <td>L'Enfant prodigue</td>\n",
       "      <td>1907-06-20</td>\n",
       "      <td>NaN</td>\n",
       "      <td>{'/m/064_8sq': 'French Language'}</td>\n",
       "      <td>{'/m/0f8l9c': 'France'}</td>\n",
       "      <td>{'/m/02hmvc': 'Short Film', '/m/06ppq': 'Silen...</td>\n",
       "      <td>None</td>\n",
       "    </tr>\n",
       "    <tr>\n",
       "      <th>4</th>\n",
       "      <td>tt0000679</td>\n",
       "      <td>120</td>\n",
       "      <td>Adventure,Fantasy</td>\n",
       "      <td>5.1</td>\n",
       "      <td>68</td>\n",
       "      <td>/m/0fgfyy</td>\n",
       "      <td>5954041</td>\n",
       "      <td>The Fairylogue and Radio-Plays</td>\n",
       "      <td>1908-09-24</td>\n",
       "      <td>NaN</td>\n",
       "      <td>{'/m/02h40lc': 'English Language'}</td>\n",
       "      <td>{'/m/09c7w0': 'United States of America'}</td>\n",
       "      <td>{'/m/06ppq': 'Silent film', '/m/01g6gs': 'Blac...</td>\n",
       "      <td>None</td>\n",
       "    </tr>\n",
       "  </tbody>\n",
       "</table>\n",
       "</div>"
      ],
      "text/plain": [
       "      tconst runtimeMinutes                      genres  averageRating  \\\n",
       "0  tt0000009             45                     Romance            5.3   \n",
       "1  tt0000147            100      Documentary,News,Sport            5.3   \n",
       "2  tt0000574             70  Action,Adventure,Biography            6.0   \n",
       "3  tt0000591             90                       Drama            5.0   \n",
       "4  tt0000679            120           Adventure,Fantasy            5.1   \n",
       "\n",
       "   numVotes freebase_id  wiki_movie_id                      movie_name  \\\n",
       "0       207  /m/02q23xk       10109752                      Miss Jerry   \n",
       "1       484  /m/0czdh_n       28703057   The Corbett-Fitzsimmons Fight   \n",
       "2       855   /m/0120y4         142995     The Story of the Kelly Gang   \n",
       "3        21  /m/07s67rr        4849466               L'Enfant prodigue   \n",
       "4        68   /m/0fgfyy        5954041  The Fairylogue and Radio-Plays   \n",
       "\n",
       "  movie_release_date  box_office                     movie_languages  \\\n",
       "0         1894-10-09         NaN         {'/m/06ppq': 'Silent film'}   \n",
       "1         1897-05-22    100000.0                                  {}   \n",
       "2         1906-12-26         NaN  {'/m/02h40lc': 'English Language'}   \n",
       "3         1907-06-20         NaN   {'/m/064_8sq': 'French Language'}   \n",
       "4         1908-09-24         NaN  {'/m/02h40lc': 'English Language'}   \n",
       "\n",
       "                             movie_countries  \\\n",
       "0  {'/m/09c7w0': 'United States of America'}   \n",
       "1                                         {}   \n",
       "2                 {'/m/0chghy': 'Australia'}   \n",
       "3                    {'/m/0f8l9c': 'France'}   \n",
       "4  {'/m/09c7w0': 'United States of America'}   \n",
       "\n",
       "                                        movie_genres  \\\n",
       "0  {'/m/02hmvc': 'Short Film', '/m/06ppq': 'Silen...   \n",
       "1                           {'/m/01z02hx': 'Sports'}   \n",
       "2  {'/m/0lsxr': 'Crime Fiction', '/m/06ppq': 'Sil...   \n",
       "3  {'/m/02hmvc': 'Short Film', '/m/06ppq': 'Silen...   \n",
       "4  {'/m/06ppq': 'Silent film', '/m/01g6gs': 'Blac...   \n",
       "\n",
       "                                        plot_summary  \n",
       "0  After finding out that her father is suffering...  \n",
       "1  The film no longer exists in its entirety; how...  \n",
       "2  The Story of the Kelly Gangs tone is of sorrow...  \n",
       "3                                               None  \n",
       "4                                               None  "
      ]
     },
     "execution_count": 111,
     "metadata": {},
     "output_type": "execute_result"
    }
   ],
   "source": [
    "movies.head()"
   ]
  },
  {
   "cell_type": "code",
   "execution_count": 112,
   "metadata": {},
   "outputs": [
    {
     "data": {
      "text/html": [
       "<div>\n",
       "<style scoped>\n",
       "    .dataframe tbody tr th:only-of-type {\n",
       "        vertical-align: middle;\n",
       "    }\n",
       "\n",
       "    .dataframe tbody tr th {\n",
       "        vertical-align: top;\n",
       "    }\n",
       "\n",
       "    .dataframe thead th {\n",
       "        text-align: right;\n",
       "    }\n",
       "</style>\n",
       "<table border=\"1\" class=\"dataframe\">\n",
       "  <thead>\n",
       "    <tr style=\"text-align: right;\">\n",
       "      <th></th>\n",
       "      <th>nconst</th>\n",
       "      <th>knownForTitles</th>\n",
       "      <th>tconst</th>\n",
       "      <th>characters</th>\n",
       "      <th>freebase_id</th>\n",
       "      <th>wiki_movie_id</th>\n",
       "      <th>release_date</th>\n",
       "      <th>actor_birth</th>\n",
       "      <th>actor_gender</th>\n",
       "      <th>actor_height</th>\n",
       "      <th>actor_ethnicity</th>\n",
       "      <th>actor_name</th>\n",
       "      <th>release_actor_age</th>\n",
       "      <th>freebase_map_id</th>\n",
       "      <th>freebase_character_id</th>\n",
       "      <th>freebase_actor_id</th>\n",
       "    </tr>\n",
       "  </thead>\n",
       "  <tbody>\n",
       "    <tr>\n",
       "      <th>0</th>\n",
       "      <td>nm0000001</td>\n",
       "      <td>tt0050419,tt0031983,tt0072308,tt0053137</td>\n",
       "      <td>tt0025164</td>\n",
       "      <td>[\"Guy Holden\"]</td>\n",
       "      <td>/m/0glnm</td>\n",
       "      <td>61169</td>\n",
       "      <td>1934</td>\n",
       "      <td>1899-05-10</td>\n",
       "      <td>M</td>\n",
       "      <td>1.750</td>\n",
       "      <td>/m/01qhm_</td>\n",
       "      <td>Fred Astaire</td>\n",
       "      <td>NaN</td>\n",
       "      <td>/m/0k557x</td>\n",
       "      <td>/m/0h184w0</td>\n",
       "      <td>/m/0h953</td>\n",
       "    </tr>\n",
       "    <tr>\n",
       "      <th>1</th>\n",
       "      <td>nm0002143</td>\n",
       "      <td>tt0027125,tt0057193,tt0030241,tt0036613</td>\n",
       "      <td>tt0025164</td>\n",
       "      <td>[\"Egbert 'Pinky' Fitzgerald\"]</td>\n",
       "      <td>/m/0glnm</td>\n",
       "      <td>61169</td>\n",
       "      <td>1934</td>\n",
       "      <td>1886-03-18</td>\n",
       "      <td>M</td>\n",
       "      <td>NaN</td>\n",
       "      <td>None</td>\n",
       "      <td>Edward Everett Horton</td>\n",
       "      <td>NaN</td>\n",
       "      <td>/m/0cs6brt</td>\n",
       "      <td>None</td>\n",
       "      <td>/m/0197p7</td>\n",
       "    </tr>\n",
       "    <tr>\n",
       "      <th>2</th>\n",
       "      <td>nm0000001</td>\n",
       "      <td>tt0050419,tt0031983,tt0072308,tt0053137</td>\n",
       "      <td>tt0026942</td>\n",
       "      <td>[\"Huck Haines\"]</td>\n",
       "      <td>/m/02x5h46</td>\n",
       "      <td>12800555</td>\n",
       "      <td>1935-03-08</td>\n",
       "      <td>1899-05-10</td>\n",
       "      <td>M</td>\n",
       "      <td>1.750</td>\n",
       "      <td>/m/01qhm_</td>\n",
       "      <td>Fred Astaire</td>\n",
       "      <td>NaN</td>\n",
       "      <td>/m/03l20gb</td>\n",
       "      <td>/m/0h184_z</td>\n",
       "      <td>/m/0h953</td>\n",
       "    </tr>\n",
       "    <tr>\n",
       "      <th>3</th>\n",
       "      <td>nm0000068</td>\n",
       "      <td>tt0056412,tt0029284,tt0046375,tt0026942</td>\n",
       "      <td>tt0026942</td>\n",
       "      <td>[\"John Kent\"]</td>\n",
       "      <td>/m/02x5h46</td>\n",
       "      <td>12800555</td>\n",
       "      <td>1935-03-08</td>\n",
       "      <td>1898-01-23</td>\n",
       "      <td>M</td>\n",
       "      <td>1.905</td>\n",
       "      <td>None</td>\n",
       "      <td>Randolph Scott</td>\n",
       "      <td>NaN</td>\n",
       "      <td>/m/03l20fw</td>\n",
       "      <td>/m/0h2qky5</td>\n",
       "      <td>/m/014y_c</td>\n",
       "    </tr>\n",
       "    <tr>\n",
       "      <th>4</th>\n",
       "      <td>nm0000001</td>\n",
       "      <td>tt0050419,tt0031983,tt0072308,tt0053137</td>\n",
       "      <td>tt0027125</td>\n",
       "      <td>[\"Jerry Travers\"]</td>\n",
       "      <td>/m/0gnjh</td>\n",
       "      <td>61501</td>\n",
       "      <td>1935</td>\n",
       "      <td>1899-05-10</td>\n",
       "      <td>M</td>\n",
       "      <td>1.750</td>\n",
       "      <td>/m/01qhm_</td>\n",
       "      <td>Fred Astaire</td>\n",
       "      <td>NaN</td>\n",
       "      <td>/m/0k77vk</td>\n",
       "      <td>/m/0h184_5</td>\n",
       "      <td>/m/0h953</td>\n",
       "    </tr>\n",
       "  </tbody>\n",
       "</table>\n",
       "</div>"
      ],
      "text/plain": [
       "      nconst                           knownForTitles     tconst  \\\n",
       "0  nm0000001  tt0050419,tt0031983,tt0072308,tt0053137  tt0025164   \n",
       "1  nm0002143  tt0027125,tt0057193,tt0030241,tt0036613  tt0025164   \n",
       "2  nm0000001  tt0050419,tt0031983,tt0072308,tt0053137  tt0026942   \n",
       "3  nm0000068  tt0056412,tt0029284,tt0046375,tt0026942  tt0026942   \n",
       "4  nm0000001  tt0050419,tt0031983,tt0072308,tt0053137  tt0027125   \n",
       "\n",
       "                      characters freebase_id  wiki_movie_id release_date  \\\n",
       "0                 [\"Guy Holden\"]    /m/0glnm          61169         1934   \n",
       "1  [\"Egbert 'Pinky' Fitzgerald\"]    /m/0glnm          61169         1934   \n",
       "2                [\"Huck Haines\"]  /m/02x5h46       12800555   1935-03-08   \n",
       "3                  [\"John Kent\"]  /m/02x5h46       12800555   1935-03-08   \n",
       "4              [\"Jerry Travers\"]    /m/0gnjh          61501         1935   \n",
       "\n",
       "  actor_birth actor_gender  actor_height actor_ethnicity  \\\n",
       "0  1899-05-10            M         1.750       /m/01qhm_   \n",
       "1  1886-03-18            M           NaN            None   \n",
       "2  1899-05-10            M         1.750       /m/01qhm_   \n",
       "3  1898-01-23            M         1.905            None   \n",
       "4  1899-05-10            M         1.750       /m/01qhm_   \n",
       "\n",
       "              actor_name  release_actor_age freebase_map_id  \\\n",
       "0           Fred Astaire                NaN       /m/0k557x   \n",
       "1  Edward Everett Horton                NaN      /m/0cs6brt   \n",
       "2           Fred Astaire                NaN      /m/03l20gb   \n",
       "3         Randolph Scott                NaN      /m/03l20fw   \n",
       "4           Fred Astaire                NaN       /m/0k77vk   \n",
       "\n",
       "  freebase_character_id freebase_actor_id  \n",
       "0            /m/0h184w0          /m/0h953  \n",
       "1                  None         /m/0197p7  \n",
       "2            /m/0h184_z          /m/0h953  \n",
       "3            /m/0h2qky5         /m/014y_c  \n",
       "4            /m/0h184_5          /m/0h953  "
      ]
     },
     "execution_count": 112,
     "metadata": {},
     "output_type": "execute_result"
    }
   ],
   "source": [
    "actors_characters.head()"
   ]
  },
  {
   "cell_type": "code",
   "execution_count": 113,
   "metadata": {},
   "outputs": [],
   "source": [
    "all_data = movies.merge(actors_characters, how=\"inner\", on=[\"tconst\", \"freebase_id\", \"wiki_movie_id\"])"
   ]
  },
  {
   "cell_type": "code",
   "execution_count": 114,
   "metadata": {},
   "outputs": [
    {
     "data": {
      "text/html": [
       "<div>\n",
       "<style scoped>\n",
       "    .dataframe tbody tr th:only-of-type {\n",
       "        vertical-align: middle;\n",
       "    }\n",
       "\n",
       "    .dataframe tbody tr th {\n",
       "        vertical-align: top;\n",
       "    }\n",
       "\n",
       "    .dataframe thead th {\n",
       "        text-align: right;\n",
       "    }\n",
       "</style>\n",
       "<table border=\"1\" class=\"dataframe\">\n",
       "  <thead>\n",
       "    <tr style=\"text-align: right;\">\n",
       "      <th></th>\n",
       "      <th>tconst</th>\n",
       "      <th>runtimeMinutes</th>\n",
       "      <th>genres</th>\n",
       "      <th>averageRating</th>\n",
       "      <th>numVotes</th>\n",
       "      <th>freebase_id</th>\n",
       "      <th>wiki_movie_id</th>\n",
       "      <th>movie_name</th>\n",
       "      <th>movie_release_date</th>\n",
       "      <th>box_office</th>\n",
       "      <th>...</th>\n",
       "      <th>release_date</th>\n",
       "      <th>actor_birth</th>\n",
       "      <th>actor_gender</th>\n",
       "      <th>actor_height</th>\n",
       "      <th>actor_ethnicity</th>\n",
       "      <th>actor_name</th>\n",
       "      <th>release_actor_age</th>\n",
       "      <th>freebase_map_id</th>\n",
       "      <th>freebase_character_id</th>\n",
       "      <th>freebase_actor_id</th>\n",
       "    </tr>\n",
       "  </thead>\n",
       "  <tbody>\n",
       "    <tr>\n",
       "      <th>0</th>\n",
       "      <td>tt0000574</td>\n",
       "      <td>70</td>\n",
       "      <td>Action,Adventure,Biography</td>\n",
       "      <td>6.0</td>\n",
       "      <td>855</td>\n",
       "      <td>/m/0120y4</td>\n",
       "      <td>142995</td>\n",
       "      <td>The Story of the Kelly Gang</td>\n",
       "      <td>1906-12-26</td>\n",
       "      <td>NaN</td>\n",
       "      <td>...</td>\n",
       "      <td>1906-12-26</td>\n",
       "      <td>1871</td>\n",
       "      <td>M</td>\n",
       "      <td>NaN</td>\n",
       "      <td>None</td>\n",
       "      <td>John Tait</td>\n",
       "      <td>NaN</td>\n",
       "      <td>/m/0k6ktp</td>\n",
       "      <td>None</td>\n",
       "      <td>/m/0k6ksg</td>\n",
       "    </tr>\n",
       "    <tr>\n",
       "      <th>1</th>\n",
       "      <td>tt0000574</td>\n",
       "      <td>70</td>\n",
       "      <td>Action,Adventure,Biography</td>\n",
       "      <td>6.0</td>\n",
       "      <td>855</td>\n",
       "      <td>/m/0120y4</td>\n",
       "      <td>142995</td>\n",
       "      <td>The Story of the Kelly Gang</td>\n",
       "      <td>1906-12-26</td>\n",
       "      <td>NaN</td>\n",
       "      <td>...</td>\n",
       "      <td>1906-12-26</td>\n",
       "      <td>1880</td>\n",
       "      <td>M</td>\n",
       "      <td>NaN</td>\n",
       "      <td>None</td>\n",
       "      <td>Nicholas Brierley</td>\n",
       "      <td>NaN</td>\n",
       "      <td>/m/0k6ktc</td>\n",
       "      <td>None</td>\n",
       "      <td>/m/0k6ks2</td>\n",
       "    </tr>\n",
       "    <tr>\n",
       "      <th>2</th>\n",
       "      <td>tt0000574</td>\n",
       "      <td>70</td>\n",
       "      <td>Action,Adventure,Biography</td>\n",
       "      <td>6.0</td>\n",
       "      <td>855</td>\n",
       "      <td>/m/0120y4</td>\n",
       "      <td>142995</td>\n",
       "      <td>The Story of the Kelly Gang</td>\n",
       "      <td>1906-12-26</td>\n",
       "      <td>NaN</td>\n",
       "      <td>...</td>\n",
       "      <td>1906-12-26</td>\n",
       "      <td>\\N</td>\n",
       "      <td>None</td>\n",
       "      <td>NaN</td>\n",
       "      <td>None</td>\n",
       "      <td>Norman Campbell</td>\n",
       "      <td>NaN</td>\n",
       "      <td>/m/0bxl4zk</td>\n",
       "      <td>None</td>\n",
       "      <td>/m/0bxl4z5</td>\n",
       "    </tr>\n",
       "    <tr>\n",
       "      <th>3</th>\n",
       "      <td>tt0000591</td>\n",
       "      <td>90</td>\n",
       "      <td>Drama</td>\n",
       "      <td>5.0</td>\n",
       "      <td>21</td>\n",
       "      <td>/m/07s67rr</td>\n",
       "      <td>4849466</td>\n",
       "      <td>L'Enfant prodigue</td>\n",
       "      <td>1907-06-20</td>\n",
       "      <td>NaN</td>\n",
       "      <td>...</td>\n",
       "      <td>1907-06-20</td>\n",
       "      <td>\\N</td>\n",
       "      <td>M</td>\n",
       "      <td>NaN</td>\n",
       "      <td>None</td>\n",
       "      <td>Henri Gouget</td>\n",
       "      <td>NaN</td>\n",
       "      <td>/m/0n5_12f</td>\n",
       "      <td>None</td>\n",
       "      <td>/m/0n5_12j</td>\n",
       "    </tr>\n",
       "    <tr>\n",
       "      <th>4</th>\n",
       "      <td>tt0000591</td>\n",
       "      <td>90</td>\n",
       "      <td>Drama</td>\n",
       "      <td>5.0</td>\n",
       "      <td>21</td>\n",
       "      <td>/m/07s67rr</td>\n",
       "      <td>4849466</td>\n",
       "      <td>L'Enfant prodigue</td>\n",
       "      <td>1907-06-20</td>\n",
       "      <td>NaN</td>\n",
       "      <td>...</td>\n",
       "      <td>1907-06-20</td>\n",
       "      <td>1874-01-14</td>\n",
       "      <td>M</td>\n",
       "      <td>NaN</td>\n",
       "      <td>None</td>\n",
       "      <td>Georges Wague</td>\n",
       "      <td>NaN</td>\n",
       "      <td>/m/0n5_11r</td>\n",
       "      <td>None</td>\n",
       "      <td>/m/0n5_11v</td>\n",
       "    </tr>\n",
       "  </tbody>\n",
       "</table>\n",
       "<p>5 rows × 27 columns</p>\n",
       "</div>"
      ],
      "text/plain": [
       "      tconst runtimeMinutes                      genres  averageRating  \\\n",
       "0  tt0000574             70  Action,Adventure,Biography            6.0   \n",
       "1  tt0000574             70  Action,Adventure,Biography            6.0   \n",
       "2  tt0000574             70  Action,Adventure,Biography            6.0   \n",
       "3  tt0000591             90                       Drama            5.0   \n",
       "4  tt0000591             90                       Drama            5.0   \n",
       "\n",
       "   numVotes freebase_id  wiki_movie_id                   movie_name  \\\n",
       "0       855   /m/0120y4         142995  The Story of the Kelly Gang   \n",
       "1       855   /m/0120y4         142995  The Story of the Kelly Gang   \n",
       "2       855   /m/0120y4         142995  The Story of the Kelly Gang   \n",
       "3        21  /m/07s67rr        4849466            L'Enfant prodigue   \n",
       "4        21  /m/07s67rr        4849466            L'Enfant prodigue   \n",
       "\n",
       "  movie_release_date  box_office  ... release_date actor_birth actor_gender  \\\n",
       "0         1906-12-26         NaN  ...   1906-12-26        1871            M   \n",
       "1         1906-12-26         NaN  ...   1906-12-26        1880            M   \n",
       "2         1906-12-26         NaN  ...   1906-12-26          \\N         None   \n",
       "3         1907-06-20         NaN  ...   1907-06-20          \\N            M   \n",
       "4         1907-06-20         NaN  ...   1907-06-20  1874-01-14            M   \n",
       "\n",
       "  actor_height actor_ethnicity         actor_name release_actor_age  \\\n",
       "0          NaN            None          John Tait               NaN   \n",
       "1          NaN            None  Nicholas Brierley               NaN   \n",
       "2          NaN            None    Norman Campbell               NaN   \n",
       "3          NaN            None       Henri Gouget               NaN   \n",
       "4          NaN            None      Georges Wague               NaN   \n",
       "\n",
       "  freebase_map_id freebase_character_id freebase_actor_id  \n",
       "0       /m/0k6ktp                  None         /m/0k6ksg  \n",
       "1       /m/0k6ktc                  None         /m/0k6ks2  \n",
       "2      /m/0bxl4zk                  None        /m/0bxl4z5  \n",
       "3      /m/0n5_12f                  None        /m/0n5_12j  \n",
       "4      /m/0n5_11r                  None        /m/0n5_11v  \n",
       "\n",
       "[5 rows x 27 columns]"
      ]
     },
     "execution_count": 114,
     "metadata": {},
     "output_type": "execute_result"
    }
   ],
   "source": [
    "all_data.head()"
   ]
  },
  {
   "cell_type": "code",
   "execution_count": 115,
   "metadata": {},
   "outputs": [
    {
     "data": {
      "text/plain": [
       "Index(['tconst', 'runtimeMinutes', 'genres', 'averageRating', 'numVotes',\n",
       "       'freebase_id', 'wiki_movie_id', 'movie_name', 'movie_release_date',\n",
       "       'box_office', 'movie_languages', 'movie_countries', 'movie_genres',\n",
       "       'plot_summary', 'nconst', 'knownForTitles', 'characters',\n",
       "       'release_date', 'actor_birth', 'actor_gender', 'actor_height',\n",
       "       'actor_ethnicity', 'actor_name', 'release_actor_age', 'freebase_map_id',\n",
       "       'freebase_character_id', 'freebase_actor_id'],\n",
       "      dtype='object')"
      ]
     },
     "execution_count": 115,
     "metadata": {},
     "output_type": "execute_result"
    }
   ],
   "source": [
    "all_data.columns"
   ]
  },
  {
   "cell_type": "markdown",
   "metadata": {},
   "source": [
    "### Based on movie genre"
   ]
  },
  {
   "cell_type": "code",
   "execution_count": 116,
   "metadata": {},
   "outputs": [],
   "source": [
    "movie_genre_per_actor = all_data[[\"nconst\", \"actor_name\", \"movie_genres\"]].copy()"
   ]
  },
  {
   "cell_type": "code",
   "execution_count": 117,
   "metadata": {},
   "outputs": [],
   "source": [
    "movie_genre_per_actor[\"genres_flattened\"] = movie_genre_per_actor[\"movie_genres\"].apply(lambda genres: list(genres.values()))"
   ]
  },
  {
   "cell_type": "code",
   "execution_count": 118,
   "metadata": {},
   "outputs": [],
   "source": [
    "movie_genre_per_actor = movie_genre_per_actor.drop(\"movie_genres\", axis=1)"
   ]
  },
  {
   "cell_type": "code",
   "execution_count": 119,
   "metadata": {},
   "outputs": [],
   "source": [
    "movie_genre_per_actor = movie_genre_per_actor.groupby([\"nconst\", \"actor_name\"]).agg(list).reset_index()"
   ]
  },
  {
   "cell_type": "code",
   "execution_count": 120,
   "metadata": {},
   "outputs": [],
   "source": [
    "movie_genre_per_actor[\"total_movies\"] = movie_genre_per_actor[\"genres_flattened\"].apply(len)"
   ]
  },
  {
   "cell_type": "code",
   "execution_count": 121,
   "metadata": {},
   "outputs": [],
   "source": [
    "movie_genre_per_actor[\"genres_flattened\"] = movie_genre_per_actor[\"genres_flattened\"].apply(lambda ls: [item for row in ls for item in row])"
   ]
  },
  {
   "cell_type": "code",
   "execution_count": 122,
   "metadata": {},
   "outputs": [],
   "source": [
    "movie_genre_per_actor[\"genres_freq\"] = movie_genre_per_actor[\"genres_flattened\"].apply(lambda ls: dict(sorted(dict(Counter(ls)).items(), key=lambda item: item[1], reverse=True)))"
   ]
  },
  {
   "cell_type": "code",
   "execution_count": 123,
   "metadata": {},
   "outputs": [],
   "source": [
    "movie_genre_per_actor = movie_genre_per_actor.drop(\"genres_flattened\", axis=1)"
   ]
  },
  {
   "cell_type": "code",
   "execution_count": 124,
   "metadata": {},
   "outputs": [
    {
     "data": {
      "text/html": [
       "<div>\n",
       "<style scoped>\n",
       "    .dataframe tbody tr th:only-of-type {\n",
       "        vertical-align: middle;\n",
       "    }\n",
       "\n",
       "    .dataframe tbody tr th {\n",
       "        vertical-align: top;\n",
       "    }\n",
       "\n",
       "    .dataframe thead th {\n",
       "        text-align: right;\n",
       "    }\n",
       "</style>\n",
       "<table border=\"1\" class=\"dataframe\">\n",
       "  <thead>\n",
       "    <tr style=\"text-align: right;\">\n",
       "      <th></th>\n",
       "      <th>nconst</th>\n",
       "      <th>actor_name</th>\n",
       "      <th>total_movies</th>\n",
       "      <th>genres_freq</th>\n",
       "    </tr>\n",
       "  </thead>\n",
       "  <tbody>\n",
       "    <tr>\n",
       "      <th>0</th>\n",
       "      <td>nm0000001</td>\n",
       "      <td>Fred Astaire</td>\n",
       "      <td>33</td>\n",
       "      <td>{'Musical': 28, 'Comedy': 20, 'Romance Film': ...</td>\n",
       "    </tr>\n",
       "    <tr>\n",
       "      <th>1</th>\n",
       "      <td>nm0000004</td>\n",
       "      <td>John Belushi</td>\n",
       "      <td>6</td>\n",
       "      <td>{'Comedy': 6, 'Action/Adventure': 3, 'Action':...</td>\n",
       "    </tr>\n",
       "    <tr>\n",
       "      <th>2</th>\n",
       "      <td>nm0000007</td>\n",
       "      <td>Humphrey Bogart</td>\n",
       "      <td>68</td>\n",
       "      <td>{'Drama': 52, 'Black-and-white': 41, 'Crime Fi...</td>\n",
       "    </tr>\n",
       "    <tr>\n",
       "      <th>3</th>\n",
       "      <td>nm0000008</td>\n",
       "      <td>Marlon Brando</td>\n",
       "      <td>38</td>\n",
       "      <td>{'Drama': 24, 'Romance Film': 9, 'Action/Adven...</td>\n",
       "    </tr>\n",
       "    <tr>\n",
       "      <th>4</th>\n",
       "      <td>nm0000009</td>\n",
       "      <td>Richard Burton</td>\n",
       "      <td>48</td>\n",
       "      <td>{'Drama': 37, 'Romance Film': 15, 'War film': ...</td>\n",
       "    </tr>\n",
       "  </tbody>\n",
       "</table>\n",
       "</div>"
      ],
      "text/plain": [
       "      nconst       actor_name  total_movies  \\\n",
       "0  nm0000001     Fred Astaire            33   \n",
       "1  nm0000004     John Belushi             6   \n",
       "2  nm0000007  Humphrey Bogart            68   \n",
       "3  nm0000008    Marlon Brando            38   \n",
       "4  nm0000009   Richard Burton            48   \n",
       "\n",
       "                                         genres_freq  \n",
       "0  {'Musical': 28, 'Comedy': 20, 'Romance Film': ...  \n",
       "1  {'Comedy': 6, 'Action/Adventure': 3, 'Action':...  \n",
       "2  {'Drama': 52, 'Black-and-white': 41, 'Crime Fi...  \n",
       "3  {'Drama': 24, 'Romance Film': 9, 'Action/Adven...  \n",
       "4  {'Drama': 37, 'Romance Film': 15, 'War film': ...  "
      ]
     },
     "execution_count": 124,
     "metadata": {},
     "output_type": "execute_result"
    }
   ],
   "source": [
    "movie_genre_per_actor.head()"
   ]
  },
  {
   "cell_type": "markdown",
   "metadata": {},
   "source": [
    "#### Distribution of some actors"
   ]
  },
  {
   "cell_type": "code",
   "execution_count": 125,
   "metadata": {},
   "outputs": [],
   "source": [
    "top_actors = movie_genre_per_actor.sort_values(\"total_movies\", ascending=False).copy().head()"
   ]
  },
  {
   "cell_type": "code",
   "execution_count": 126,
   "metadata": {},
   "outputs": [],
   "source": [
    "actor_1 = top_actors[\"genres_freq\"].iloc[0]"
   ]
  },
  {
   "cell_type": "code",
   "execution_count": 127,
   "metadata": {},
   "outputs": [
    {
     "data": {
      "image/png": "[encoded data removed]",
      "text/plain": [
       "<Figure size 1000x400 with 1 Axes>"
      ]
     },
     "metadata": {},
     "output_type": "display_data"
    }
   ],
   "source": [
    "plt.figure(figsize=(10, 4))\n",
    "sns.barplot(x=list(actor_1.keys()), y=list(actor_1.values()))\n",
    "plt.ylabel(\"Frequency\")\n",
    "plt.xticks(rotation=90)\n",
    "plt.show()"
   ]
  },
  {
   "cell_type": "code",
   "execution_count": 128,
   "metadata": {},
   "outputs": [],
   "source": [
    "actor_2 = top_actors[\"genres_freq\"].iloc[1]"
   ]
  },
  {
   "cell_type": "code",
   "execution_count": 129,
   "metadata": {},
   "outputs": [
    {
     "data": {
      "image/png": "[encoded data removed]",
      "text/plain": [
       "<Figure size 1000x400 with 1 Axes>"
      ]
     },
     "metadata": {},
     "output_type": "display_data"
    }
   ],
   "source": [
    "plt.figure(figsize=(10, 4))\n",
    "sns.barplot(x=list(actor_2.keys()), y=list(actor_2.values()))\n",
    "plt.ylabel(\"Frequency\")\n",
    "plt.xticks(rotation=90)\n",
    "plt.show()"
   ]
  },
  {
   "cell_type": "markdown",
   "metadata": {},
   "source": [
    "### Based on runtime minutes"
   ]
  },
  {
   "cell_type": "code",
   "execution_count": 130,
   "metadata": {},
   "outputs": [],
   "source": [
    "runtime_per_actor = all_data[[\"nconst\", \"actor_name\", \"runtimeMinutes\"]].copy()"
   ]
  },
  {
   "cell_type": "code",
   "execution_count": 131,
   "metadata": {},
   "outputs": [],
   "source": [
    "runtime_per_actor = runtime_per_actor[runtime_per_actor[\"runtimeMinutes\"] != \"\\\\N\"]"
   ]
  },
  {
   "cell_type": "code",
   "execution_count": 132,
   "metadata": {},
   "outputs": [],
   "source": [
    "runtime_per_actor = runtime_per_actor.groupby([\"nconst\", \"actor_name\"]).agg(list).reset_index()"
   ]
  },
  {
   "cell_type": "code",
   "execution_count": 133,
   "metadata": {},
   "outputs": [],
   "source": [
    "runtime_per_actor[\"runtimeMinutes\"] = runtime_per_actor[\"runtimeMinutes\"].apply(lambda ls: list(map(lambda elem: int(elem), ls)))"
   ]
  },
  {
   "cell_type": "code",
   "execution_count": 134,
   "metadata": {},
   "outputs": [],
   "source": [
    "runtime_per_actor['len'] = runtime_per_actor['runtimeMinutes'].apply(len)\n",
    "runtime_per_actor = runtime_per_actor.sort_values(by='len', ascending=False).drop(columns='len')"
   ]
  },
  {
   "cell_type": "markdown",
   "metadata": {},
   "source": [
    "#### Distribution of some actors"
   ]
  },
  {
   "cell_type": "code",
   "execution_count": 135,
   "metadata": {},
   "outputs": [
    {
     "data": {
      "image/png": "[encoded data removed]",
      "text/plain": [
       "<Figure size 640x480 with 1 Axes>"
      ]
     },
     "metadata": {},
     "output_type": "display_data"
    }
   ],
   "source": [
    "sns.kdeplot(runtime_per_actor[\"runtimeMinutes\"].iloc[0])\n",
    "plt.ylabel(\"Density\")\n",
    "plt.xlabel(\"Duration\")\n",
    "plt.show()"
   ]
  },
  {
   "cell_type": "code",
   "execution_count": 136,
   "metadata": {},
   "outputs": [
    {
     "data": {
      "image/png": "[encoded data removed]",
      "text/plain": [
       "<Figure size 640x480 with 1 Axes>"
      ]
     },
     "metadata": {},
     "output_type": "display_data"
    }
   ],
   "source": [
    "sns.kdeplot(runtime_per_actor[\"runtimeMinutes\"].iloc[1])\n",
    "plt.ylabel(\"Density\")\n",
    "plt.xlabel(\"Duration\")\n",
    "plt.show()"
   ]
  },
  {
   "cell_type": "code",
   "execution_count": null,
   "metadata": {},
   "outputs": [],
   "source": []
  }
 ],
 "metadata": {
  "kernelspec": {
   "display_name": "Python 3 (ipykernel)",
   "language": "python",
   "name": "python3"
  },
  "language_info": {
   "codemirror_mode": {
    "name": "ipython",
    "version": 3
   },
   "file_extension": ".py",
   "mimetype": "text/x-python",
   "name": "python",
   "nbconvert_exporter": "python",
   "pygments_lexer": "ipython3",
   "version": "3.10.0"
  }
 },
 "nbformat": 4,
 "nbformat_minor": 4
}
