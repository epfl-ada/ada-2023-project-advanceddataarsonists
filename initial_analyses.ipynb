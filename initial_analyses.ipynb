{
 "cells": [
  {
   "cell_type": "markdown",
   "metadata": {},
   "source": [
    "# Part 0: Requirements"
   ]
  },
  {
   "cell_type": "code",
   "execution_count": 1,
   "metadata": {},
   "outputs": [],
   "source": [
    "# Allow python to import modules from src folders\n",
    "import sys\n",
    "import matplotlib.pyplot as plt\n",
    "import seaborn as sns\n",
    "import json\n",
    "from collections import defaultdict\n",
    "import ast\n",
    "from collections import Counter\n",
    "sys.path.append(\"src/\")\n",
    "\n",
    "from preprocessing.load_dataset import *\n",
    "\n",
    "SAVE_PATH = \"./data/refined\"\n",
    "if not os.path.exists(SAVE_PATH):\n",
    "    os.mkdir(SAVE_PATH)"
   ]
  },
  {
   "cell_type": "markdown",
   "metadata": {},
   "source": [
    "## Download data  \n",
    "Please uncomment the following line to download data"
   ]
  },
  {
   "cell_type": "code",
   "execution_count": 2,
   "metadata": {},
   "outputs": [],
   "source": [
    "# %run src/preprocessing/download_dataset.py"
   ]
  },
  {
   "cell_type": "markdown",
   "metadata": {},
   "source": [
    "# Part I: Load, explore and join datasets"
   ]
  },
  {
   "cell_type": "markdown",
   "metadata": {},
   "source": [
    "## CMU dataset\n",
    "\n",
    "We load the 4 `.tsv` and `.txt` files of the CMU dataset into 4 different dataframes"
   ]
  },
  {
   "cell_type": "code",
   "execution_count": 3,
   "metadata": {
    "tags": []
   },
   "outputs": [],
   "source": [
    "characters_df = load_characters_df()\n",
    "movies_df = load_movies_df()\n",
    "plot_df = load_plot_df()\n",
    "tvtropes_df = load_tvtropes_df()"
   ]
  },
  {
   "cell_type": "markdown",
   "metadata": {},
   "source": [
    "### Characters\n",
    "\n",
    "The characters dataframe comes from the CMU movies dataset. This dataframe describes movie characters and provides information about the actor who played the corresponding character. Here is a sample of this dataframe :"
   ]
  },
  {
   "cell_type": "code",
   "execution_count": 4,
   "metadata": {
    "tags": []
   },
   "outputs": [
    {
     "data": {
      "text/html": [
       "<div>\n",
       "<style scoped>\n",
       "    .dataframe tbody tr th:only-of-type {\n",
       "        vertical-align: middle;\n",
       "    }\n",
       "\n",
       "    .dataframe tbody tr th {\n",
       "        vertical-align: top;\n",
       "    }\n",
       "\n",
       "    .dataframe thead th {\n",
       "        text-align: right;\n",
       "    }\n",
       "</style>\n",
       "<table border=\"1\" class=\"dataframe\">\n",
       "  <thead>\n",
       "    <tr style=\"text-align: right;\">\n",
       "      <th></th>\n",
       "      <th>wiki_movie_id</th>\n",
       "      <th>freebase_movie_id</th>\n",
       "      <th>release_date</th>\n",
       "      <th>character_name</th>\n",
       "      <th>actor_birth</th>\n",
       "      <th>actor_gender</th>\n",
       "      <th>actor_height</th>\n",
       "      <th>actor_ethnicity</th>\n",
       "      <th>actor_name</th>\n",
       "      <th>release_actor_age</th>\n",
       "      <th>freebase_map_id</th>\n",
       "      <th>freebase_character_id</th>\n",
       "      <th>freebase_actor_id</th>\n",
       "    </tr>\n",
       "  </thead>\n",
       "  <tbody>\n",
       "    <tr>\n",
       "      <th>200572</th>\n",
       "      <td>4015188</td>\n",
       "      <td>/m/0bcm5s</td>\n",
       "      <td>1937</td>\n",
       "      <td>Manuel Fidello</td>\n",
       "      <td>1900-04-05</td>\n",
       "      <td>M</td>\n",
       "      <td>1.78</td>\n",
       "      <td>/m/033tf_</td>\n",
       "      <td>Spencer Tracy</td>\n",
       "      <td>36.0</td>\n",
       "      <td>/m/0jw2bp</td>\n",
       "      <td>/m/02nwc9k</td>\n",
       "      <td>/m/0cf2h</td>\n",
       "    </tr>\n",
       "    <tr>\n",
       "      <th>338967</th>\n",
       "      <td>34414683</td>\n",
       "      <td>/m/09rmlw7</td>\n",
       "      <td>1936-07-10</td>\n",
       "      <td>NaN</td>\n",
       "      <td>1908-08-13</td>\n",
       "      <td>M</td>\n",
       "      <td>1.82</td>\n",
       "      <td>NaN</td>\n",
       "      <td>Gene Raymond</td>\n",
       "      <td>27.0</td>\n",
       "      <td>/m/09vrwkt</td>\n",
       "      <td>NaN</td>\n",
       "      <td>/m/09rz1r</td>\n",
       "    </tr>\n",
       "    <tr>\n",
       "      <th>393411</th>\n",
       "      <td>5672353</td>\n",
       "      <td>/m/0dzdbl</td>\n",
       "      <td>1972-11</td>\n",
       "      <td>NaN</td>\n",
       "      <td>1939-10-17</td>\n",
       "      <td>M</td>\n",
       "      <td>NaN</td>\n",
       "      <td>NaN</td>\n",
       "      <td>Shin Kishida</td>\n",
       "      <td>NaN</td>\n",
       "      <td>/m/0gc9mrh</td>\n",
       "      <td>NaN</td>\n",
       "      <td>/m/03ccs9p</td>\n",
       "    </tr>\n",
       "    <tr>\n",
       "      <th>256927</th>\n",
       "      <td>32924345</td>\n",
       "      <td>/m/05h6t02</td>\n",
       "      <td>1941</td>\n",
       "      <td>NaN</td>\n",
       "      <td>1908-01-26</td>\n",
       "      <td>M</td>\n",
       "      <td>NaN</td>\n",
       "      <td>NaN</td>\n",
       "      <td>Dennis Moore</td>\n",
       "      <td>32.0</td>\n",
       "      <td>/m/0gm2m2k</td>\n",
       "      <td>NaN</td>\n",
       "      <td>/m/03hkx56</td>\n",
       "    </tr>\n",
       "    <tr>\n",
       "      <th>174378</th>\n",
       "      <td>1475914</td>\n",
       "      <td>/m/054hl9</td>\n",
       "      <td>2002</td>\n",
       "      <td>NaN</td>\n",
       "      <td>NaN</td>\n",
       "      <td>NaN</td>\n",
       "      <td>NaN</td>\n",
       "      <td>NaN</td>\n",
       "      <td>Chilton Crane</td>\n",
       "      <td>NaN</td>\n",
       "      <td>/m/0csh9d1</td>\n",
       "      <td>NaN</td>\n",
       "      <td>/m/0jt437</td>\n",
       "    </tr>\n",
       "  </tbody>\n",
       "</table>\n",
       "</div>"
      ],
      "text/plain": [
       "        wiki_movie_id freebase_movie_id release_date  character_name  \\\n",
       "200572        4015188         /m/0bcm5s         1937  Manuel Fidello   \n",
       "338967       34414683        /m/09rmlw7   1936-07-10             NaN   \n",
       "393411        5672353         /m/0dzdbl      1972-11             NaN   \n",
       "256927       32924345        /m/05h6t02         1941             NaN   \n",
       "174378        1475914         /m/054hl9         2002             NaN   \n",
       "\n",
       "       actor_birth actor_gender  actor_height actor_ethnicity     actor_name  \\\n",
       "200572  1900-04-05            M          1.78       /m/033tf_  Spencer Tracy   \n",
       "338967  1908-08-13            M          1.82             NaN   Gene Raymond   \n",
       "393411  1939-10-17            M           NaN             NaN   Shin Kishida   \n",
       "256927  1908-01-26            M           NaN             NaN   Dennis Moore   \n",
       "174378         NaN          NaN           NaN             NaN  Chilton Crane   \n",
       "\n",
       "        release_actor_age freebase_map_id freebase_character_id  \\\n",
       "200572               36.0       /m/0jw2bp            /m/02nwc9k   \n",
       "338967               27.0      /m/09vrwkt                   NaN   \n",
       "393411                NaN      /m/0gc9mrh                   NaN   \n",
       "256927               32.0      /m/0gm2m2k                   NaN   \n",
       "174378                NaN      /m/0csh9d1                   NaN   \n",
       "\n",
       "       freebase_actor_id  \n",
       "200572          /m/0cf2h  \n",
       "338967         /m/09rz1r  \n",
       "393411        /m/03ccs9p  \n",
       "256927        /m/03hkx56  \n",
       "174378         /m/0jt437  "
      ]
     },
     "execution_count": 4,
     "metadata": {},
     "output_type": "execute_result"
    }
   ],
   "source": [
    "characters_df.sample(5)"
   ]
  },
  {
   "cell_type": "code",
   "execution_count": 5,
   "metadata": {
    "tags": []
   },
   "outputs": [
    {
     "name": "stdout",
     "output_type": "stream",
     "text": [
      "Number of characters loaded: 450669\n",
      "Number of unique movies: 64330\n",
      "Number of unique actors: 135761\n",
      "\n",
      "Percentage of missing gender: 10.12%\n",
      "Percentage of missing height: 65.65%\n",
      "Percentage of missing ethnicity: 76.47%\n",
      "Percentage of missing age upon release: 35.08%\n",
      "\n",
      "Number of character records for which ethnicity is known: 106058\n",
      "Number of unique actors for which ethnicity is known: 8151\n"
     ]
    }
   ],
   "source": [
    "total_characters = len(characters_df)\n",
    "print(f\"Number of characters loaded: {total_characters}\")\n",
    "print(f\"Number of unique movies: {len(characters_df['wiki_movie_id'].unique())}\")\n",
    "print(f\"Number of unique actors: {len(characters_df['freebase_actor_id'].unique())}\", end=\"\\n\\n\")\n",
    "\n",
    "print(f\"Percentage of missing gender: {characters_df['actor_gender'].isna().sum()/total_characters*100:.2f}%\")\n",
    "print(f\"Percentage of missing height: {characters_df['actor_height'].isna().sum()/total_characters*100:.2f}%\")\n",
    "print(f\"Percentage of missing ethnicity: {characters_df['actor_ethnicity'].isna().sum()/total_characters*100:.2f}%\")\n",
    "print(f\"Percentage of missing age upon release: {characters_df['release_actor_age'].isna().sum()/total_characters*100:.2f}%\", end=\"\\n\\n\")\n",
    "\n",
    "print(f\"Number of character records for which ethnicity is known: {len(characters_df[~characters_df['actor_ethnicity'].isna()])}\")\n",
    "print(f\"Number of unique actors for which ethnicity is known: {len(characters_df[~characters_df['actor_ethnicity'].isna()]['freebase_actor_id'].unique())}\")"
   ]
  },
  {
   "cell_type": "markdown",
   "metadata": {},
   "source": [
    "We can first notice that a great percentage of actor's ethnicity is missing. This may become a problem when we study the impact of actors' ethnicity on the success of a movie. Let's investigate a bit."
   ]
  },
  {
   "cell_type": "code",
   "execution_count": 6,
   "metadata": {},
   "outputs": [
    {
     "data": {
      "image/png": "[encoded data removed]",
      "text/plain": [
       "<Figure size 1440x432 with 1 Axes>"
      ]
     },
     "metadata": {
      "needs_background": "light"
     },
     "output_type": "display_data"
    }
   ],
   "source": [
    "actors_ethnicities = characters_df[['freebase_actor_id', 'actor_ethnicity']].dropna().groupby(by='actor_ethnicity').count()\n",
    "actors_ethnicities = actors_ethnicities.sort_values(by='freebase_actor_id')\n",
    "\n",
    "plt.figure(figsize=(20,6))\n",
    "plt.bar(actors_ethnicities.index, actors_ethnicities['freebase_actor_id'], label='')\n",
    "plt.title(\"Actors ethnicities distribution\")\n",
    "plt.yscale('log')\n",
    "plt.xticks([])\n",
    "plt.ylabel(\"Count\")\n",
    "plt.xlabel(\"Ethnicity\")\n",
    "plt.show()"
   ]
  },
  {
   "cell_type": "markdown",
   "metadata": {},
   "source": [
    "As shown, the ethnicities distribution is very heterogeneous. Some ethnicities have only one representative whereas others have more than thousands elements. During analysis, we must be careful on our conclusions as variance gets higher for the ethnicities with fewer representatives. Fortunately, we can quantify uncertainty in our results using tools like p-value and confidence interval."
   ]
  },
  {
   "cell_type": "markdown",
   "metadata": {},
   "source": [
    "### Movies\n",
    "\n",
    "The movies dataframe also comes from the CMU dataset and provides information about movies such as its origins, runtime and box office."
   ]
  },
  {
   "cell_type": "code",
   "execution_count": 7,
   "metadata": {},
   "outputs": [
    {
     "data": {
      "text/html": [
       "<div>\n",
       "<style scoped>\n",
       "    .dataframe tbody tr th:only-of-type {\n",
       "        vertical-align: middle;\n",
       "    }\n",
       "\n",
       "    .dataframe tbody tr th {\n",
       "        vertical-align: top;\n",
       "    }\n",
       "\n",
       "    .dataframe thead th {\n",
       "        text-align: right;\n",
       "    }\n",
       "</style>\n",
       "<table border=\"1\" class=\"dataframe\">\n",
       "  <thead>\n",
       "    <tr style=\"text-align: right;\">\n",
       "      <th></th>\n",
       "      <th>wiki_movie_id</th>\n",
       "      <th>freebase_movie_id</th>\n",
       "      <th>movie_name</th>\n",
       "      <th>movie_release_date</th>\n",
       "      <th>box_office</th>\n",
       "      <th>movie_runtime</th>\n",
       "      <th>movie_languages</th>\n",
       "      <th>movie_countries</th>\n",
       "      <th>movie_genres</th>\n",
       "    </tr>\n",
       "  </thead>\n",
       "  <tbody>\n",
       "    <tr>\n",
       "      <th>16993</th>\n",
       "      <td>31423579</td>\n",
       "      <td>/m/0crygj_</td>\n",
       "      <td>Big Boy Rides Again</td>\n",
       "      <td>1935</td>\n",
       "      <td>NaN</td>\n",
       "      <td>57.0</td>\n",
       "      <td>{}</td>\n",
       "      <td>{'/m/09c7w0': 'United States of America'}</td>\n",
       "      <td>{'/m/03btsm8': 'Action/Adventure', '/m/01jfsb'...</td>\n",
       "    </tr>\n",
       "    <tr>\n",
       "      <th>21711</th>\n",
       "      <td>8888296</td>\n",
       "      <td>/m/027ndgm</td>\n",
       "      <td>Season</td>\n",
       "      <td>1989</td>\n",
       "      <td>NaN</td>\n",
       "      <td>NaN</td>\n",
       "      <td>{'/m/0999q': 'Malayalam Language'}</td>\n",
       "      <td>{'/m/03rk0': 'India'}</td>\n",
       "      <td>{'/m/0lsxr': 'Crime Fiction', '/m/01jfsb': 'Th...</td>\n",
       "    </tr>\n",
       "    <tr>\n",
       "      <th>58756</th>\n",
       "      <td>2096585</td>\n",
       "      <td>/m/06lx4x</td>\n",
       "      <td>The Adventures of Mark Twain</td>\n",
       "      <td>1944-07-22</td>\n",
       "      <td>NaN</td>\n",
       "      <td>130.0</td>\n",
       "      <td>{'/m/02h40lc': 'English Language'}</td>\n",
       "      <td>{'/m/09c7w0': 'United States of America'}</td>\n",
       "      <td>{'/m/03bxz7': 'Biographical film', '/m/01g6gs'...</td>\n",
       "    </tr>\n",
       "    <tr>\n",
       "      <th>47917</th>\n",
       "      <td>28375513</td>\n",
       "      <td>/m/0crghd4</td>\n",
       "      <td>180</td>\n",
       "      <td>2011-06-10</td>\n",
       "      <td>NaN</td>\n",
       "      <td>NaN</td>\n",
       "      <td>{'/m/09s02': 'Telugu language', '/m/07c9s': 'T...</td>\n",
       "      <td>{}</td>\n",
       "      <td>{'/m/02l7c8': 'Romance Film', '/m/07s9rl0': 'D...</td>\n",
       "    </tr>\n",
       "    <tr>\n",
       "      <th>26637</th>\n",
       "      <td>32842508</td>\n",
       "      <td>/m/09s3p8g</td>\n",
       "      <td>Park Avenue Logger</td>\n",
       "      <td>1937</td>\n",
       "      <td>NaN</td>\n",
       "      <td>65.0</td>\n",
       "      <td>{'/m/02h40lc': 'English Language'}</td>\n",
       "      <td>{'/m/09c7w0': 'United States of America'}</td>\n",
       "      <td>{'/m/03btsm8': 'Action/Adventure', '/m/0lsxr':...</td>\n",
       "    </tr>\n",
       "  </tbody>\n",
       "</table>\n",
       "</div>"
      ],
      "text/plain": [
       "       wiki_movie_id freebase_movie_id                    movie_name  \\\n",
       "16993       31423579        /m/0crygj_           Big Boy Rides Again   \n",
       "21711        8888296        /m/027ndgm                        Season   \n",
       "58756        2096585         /m/06lx4x  The Adventures of Mark Twain   \n",
       "47917       28375513        /m/0crghd4                           180   \n",
       "26637       32842508        /m/09s3p8g            Park Avenue Logger   \n",
       "\n",
       "      movie_release_date  box_office  movie_runtime  \\\n",
       "16993               1935         NaN           57.0   \n",
       "21711               1989         NaN            NaN   \n",
       "58756         1944-07-22         NaN          130.0   \n",
       "47917         2011-06-10         NaN            NaN   \n",
       "26637               1937         NaN           65.0   \n",
       "\n",
       "                                         movie_languages  \\\n",
       "16993                                                 {}   \n",
       "21711                 {'/m/0999q': 'Malayalam Language'}   \n",
       "58756                 {'/m/02h40lc': 'English Language'}   \n",
       "47917  {'/m/09s02': 'Telugu language', '/m/07c9s': 'T...   \n",
       "26637                 {'/m/02h40lc': 'English Language'}   \n",
       "\n",
       "                                 movie_countries  \\\n",
       "16993  {'/m/09c7w0': 'United States of America'}   \n",
       "21711                      {'/m/03rk0': 'India'}   \n",
       "58756  {'/m/09c7w0': 'United States of America'}   \n",
       "47917                                         {}   \n",
       "26637  {'/m/09c7w0': 'United States of America'}   \n",
       "\n",
       "                                            movie_genres  \n",
       "16993  {'/m/03btsm8': 'Action/Adventure', '/m/01jfsb'...  \n",
       "21711  {'/m/0lsxr': 'Crime Fiction', '/m/01jfsb': 'Th...  \n",
       "58756  {'/m/03bxz7': 'Biographical film', '/m/01g6gs'...  \n",
       "47917  {'/m/02l7c8': 'Romance Film', '/m/07s9rl0': 'D...  \n",
       "26637  {'/m/03btsm8': 'Action/Adventure', '/m/0lsxr':...  "
      ]
     },
     "execution_count": 7,
     "metadata": {},
     "output_type": "execute_result"
    }
   ],
   "source": [
    "movies_df.sample(5)"
   ]
  },
  {
   "cell_type": "code",
   "execution_count": 8,
   "metadata": {},
   "outputs": [
    {
     "name": "stdout",
     "output_type": "stream",
     "text": [
      "Number of movies loaded: 81741\n",
      "Percentage of missing box office revenue: 89.72%\n",
      "Number of movies for which we have matching character data: 64330\n"
     ]
    }
   ],
   "source": [
    "total_movies = len(movies_df)\n",
    "print(f\"Number of movies loaded: {total_movies}\")\n",
    "print(f\"Percentage of missing box office revenue: {movies_df['box_office'].isna().sum()/total_movies*100:.2f}%\")\n",
    "print(f\"Number of movies for which we have matching character data: {len(movies_df.merge(characters_df, how='inner', on=['wiki_movie_id', 'freebase_movie_id'])['freebase_movie_id'].unique())}\")"
   ]
  },
  {
   "cell_type": "markdown",
   "metadata": {},
   "source": [
    "A great proportion of box office revenue data is missing (almost 90%). This makes sense as lots of movies are not shown in cinemas such as TV movies, short movies. Indeed, to get a movie to the box office, one needs to work with studios or convince distributors to distribute the movie.\n",
    "\n",
    "Thus, using box office as a way to measure a movie's performance may be biased because we already filter a specific type of movie. Furthermore, box office does not necessarily reflect the quality of a movie. Indeed some movies may not get a high box office revenue because of a lack of advertising. To fix this issue, we will use users rating from the IMDb database."
   ]
  },
  {
   "cell_type": "code",
   "execution_count": 9,
   "metadata": {},
   "outputs": [],
   "source": [
    "# Extract years from the release date of movies\n",
    "movies_df['movie_release_year'] = movies_df[~movies_df['movie_release_date'].isna()]['movie_release_date'].astype(str).str[:4].astype(int)"
   ]
  },
  {
   "cell_type": "code",
   "execution_count": 10,
   "metadata": {},
   "outputs": [
    {
     "data": {
      "image/png": "[encoded data removed]",
      "text/plain": [
       "<Figure size 432x288 with 1 Axes>"
      ]
     },
     "metadata": {
      "needs_background": "light"
     },
     "output_type": "display_data"
    }
   ],
   "source": [
    "plt.hist(movies_df['movie_release_year'], bins=100)\n",
    "plt.yscale(\"log\")\n",
    "plt.xlabel(\"Year\")\n",
    "plt.ylabel(\"Count\")\n",
    "plt.title(\"Movies count per year\")\n",
    "plt.show()"
   ]
  },
  {
   "cell_type": "markdown",
   "metadata": {},
   "source": [
    "We notice that a movie has been produced 700 years before the invention of potography ! Let's investigate:"
   ]
  },
  {
   "cell_type": "code",
   "execution_count": 11,
   "metadata": {},
   "outputs": [
    {
     "data": {
      "text/html": [
       "<div>\n",
       "<style scoped>\n",
       "    .dataframe tbody tr th:only-of-type {\n",
       "        vertical-align: middle;\n",
       "    }\n",
       "\n",
       "    .dataframe tbody tr th {\n",
       "        vertical-align: top;\n",
       "    }\n",
       "\n",
       "    .dataframe thead th {\n",
       "        text-align: right;\n",
       "    }\n",
       "</style>\n",
       "<table border=\"1\" class=\"dataframe\">\n",
       "  <thead>\n",
       "    <tr style=\"text-align: right;\">\n",
       "      <th></th>\n",
       "      <th>wiki_movie_id</th>\n",
       "      <th>freebase_movie_id</th>\n",
       "      <th>movie_name</th>\n",
       "      <th>movie_release_date</th>\n",
       "      <th>box_office</th>\n",
       "      <th>movie_runtime</th>\n",
       "      <th>movie_languages</th>\n",
       "      <th>movie_countries</th>\n",
       "      <th>movie_genres</th>\n",
       "      <th>movie_release_year</th>\n",
       "    </tr>\n",
       "  </thead>\n",
       "  <tbody>\n",
       "    <tr>\n",
       "      <th>62836</th>\n",
       "      <td>29666067</td>\n",
       "      <td>/m/0fphzrf</td>\n",
       "      <td>Hunting Season</td>\n",
       "      <td>1010-12-02</td>\n",
       "      <td>12160978.0</td>\n",
       "      <td>140.0</td>\n",
       "      <td>{'/m/02hwyss': 'Turkish Language', '/m/02h40lc...</td>\n",
       "      <td>{'/m/01znc_': 'Turkey'}</td>\n",
       "      <td>{'/m/0lsxr': 'Crime Fiction', '/m/02n4kr': 'My...</td>\n",
       "      <td>1010.0</td>\n",
       "    </tr>\n",
       "  </tbody>\n",
       "</table>\n",
       "</div>"
      ],
      "text/plain": [
       "       wiki_movie_id freebase_movie_id      movie_name movie_release_date  \\\n",
       "62836       29666067        /m/0fphzrf  Hunting Season         1010-12-02   \n",
       "\n",
       "       box_office  movie_runtime  \\\n",
       "62836  12160978.0          140.0   \n",
       "\n",
       "                                         movie_languages  \\\n",
       "62836  {'/m/02hwyss': 'Turkish Language', '/m/02h40lc...   \n",
       "\n",
       "               movie_countries  \\\n",
       "62836  {'/m/01znc_': 'Turkey'}   \n",
       "\n",
       "                                            movie_genres  movie_release_year  \n",
       "62836  {'/m/0lsxr': 'Crime Fiction', '/m/02n4kr': 'My...              1010.0  "
      ]
     },
     "execution_count": 11,
     "metadata": {},
     "output_type": "execute_result"
    }
   ],
   "source": [
    "wrong_dates = movies_df[movies_df['movie_release_year'] < 1800].index\n",
    "movies_df.loc[wrong_dates]"
   ]
  },
  {
   "cell_type": "markdown",
   "metadata": {},
   "source": [
    "By googling the movie's name, we find that `Hunting season` should be released in 2010 (instead of 1010). This is obviously a typo and 1010 should be replaced by 2010."
   ]
  },
  {
   "cell_type": "code",
   "execution_count": 12,
   "metadata": {},
   "outputs": [],
   "source": [
    "# A movie that has the release date 1010. We fix the typo to 2010\n",
    "movies_df.loc[wrong_dates, 'movie_release_year']= 2010\n",
    "movies_df.loc[wrong_dates, 'movie_release_date'] ='2010-12-02'"
   ]
  },
  {
   "cell_type": "code",
   "execution_count": 13,
   "metadata": {},
   "outputs": [
    {
     "data": {
      "image/png": "[encoded data removed]",
      "text/plain": [
       "<Figure size 864x432 with 1 Axes>"
      ]
     },
     "metadata": {
      "needs_background": "light"
     },
     "output_type": "display_data"
    }
   ],
   "source": [
    "n_years = len(movies_df['movie_release_year'].dropna().unique())\n",
    "\n",
    "plt.figure(figsize=(12, 6))\n",
    "plt.hist(movies_df['movie_release_year'], bins=n_years)\n",
    "plt.xlabel(\"Year\")\n",
    "plt.ylabel(\"Count\")\n",
    "plt.title(\"Movies count per year\")\n",
    "plt.show()"
   ]
  },
  {
   "cell_type": "markdown",
   "metadata": {},
   "source": [
    "There are significantly more movies released after 1990 than before in our dataset."
   ]
  },
  {
   "cell_type": "markdown",
   "metadata": {},
   "source": [
    "### Plot\n",
    "\n",
    "The plot dataframe comes from the CMU dataset and provides a summary of the plot of a given movie."
   ]
  },
  {
   "cell_type": "code",
   "execution_count": 14,
   "metadata": {
    "tags": []
   },
   "outputs": [
    {
     "data": {
      "text/html": [
       "<div>\n",
       "<style scoped>\n",
       "    .dataframe tbody tr th:only-of-type {\n",
       "        vertical-align: middle;\n",
       "    }\n",
       "\n",
       "    .dataframe tbody tr th {\n",
       "        vertical-align: top;\n",
       "    }\n",
       "\n",
       "    .dataframe thead th {\n",
       "        text-align: right;\n",
       "    }\n",
       "</style>\n",
       "<table border=\"1\" class=\"dataframe\">\n",
       "  <thead>\n",
       "    <tr style=\"text-align: right;\">\n",
       "      <th></th>\n",
       "      <th>wiki_movie_id</th>\n",
       "      <th>plot_summary</th>\n",
       "    </tr>\n",
       "  </thead>\n",
       "  <tbody>\n",
       "    <tr>\n",
       "      <th>40302</th>\n",
       "      <td>981105</td>\n",
       "      <td>Terry Noonan  returns to New York's Hell's Kit...</td>\n",
       "    </tr>\n",
       "    <tr>\n",
       "      <th>2039</th>\n",
       "      <td>25427344</td>\n",
       "      <td>Mitti is a film about Punjab's youth today and...</td>\n",
       "    </tr>\n",
       "    <tr>\n",
       "      <th>23783</th>\n",
       "      <td>14899728</td>\n",
       "      <td>Vinod  is a son of a prostitute who sells him ...</td>\n",
       "    </tr>\n",
       "    <tr>\n",
       "      <th>34258</th>\n",
       "      <td>21479442</td>\n",
       "      <td>The film is part three of the tetralogy Homem ...</td>\n",
       "    </tr>\n",
       "    <tr>\n",
       "      <th>20951</th>\n",
       "      <td>190053</td>\n",
       "      <td>Somewhere in the jungles of South Africa, a mu...</td>\n",
       "    </tr>\n",
       "  </tbody>\n",
       "</table>\n",
       "</div>"
      ],
      "text/plain": [
       "       wiki_movie_id                                       plot_summary\n",
       "40302         981105  Terry Noonan  returns to New York's Hell's Kit...\n",
       "2039        25427344  Mitti is a film about Punjab's youth today and...\n",
       "23783       14899728  Vinod  is a son of a prostitute who sells him ...\n",
       "34258       21479442  The film is part three of the tetralogy Homem ...\n",
       "20951         190053  Somewhere in the jungles of South Africa, a mu..."
      ]
     },
     "execution_count": 14,
     "metadata": {},
     "output_type": "execute_result"
    }
   ],
   "source": [
    "plot_df.sample(5)"
   ]
  },
  {
   "cell_type": "code",
   "execution_count": 15,
   "metadata": {},
   "outputs": [
    {
     "name": "stdout",
     "output_type": "stream",
     "text": [
      "Number of plot summaries loaded: 42303\n"
     ]
    }
   ],
   "source": [
    "total_plot = len(plot_df)\n",
    "print(f\"Number of plot summaries loaded: {total_plot}\")"
   ]
  },
  {
   "cell_type": "markdown",
   "metadata": {},
   "source": [
    "### Tropes\n",
    "\n",
    "The tvtropes dataframe is the one used by the CMU researchers to validate their personas learning algorithm. Unfortunately, this dataset does not contain a lot of tvtropes and can not be used for our analysis. Thus we need other databases to get the persona of movie characters."
   ]
  },
  {
   "cell_type": "code",
   "execution_count": 16,
   "metadata": {
    "scrolled": true,
    "tags": []
   },
   "outputs": [
    {
     "data": {
      "text/html": [
       "<div>\n",
       "<style scoped>\n",
       "    .dataframe tbody tr th:only-of-type {\n",
       "        vertical-align: middle;\n",
       "    }\n",
       "\n",
       "    .dataframe tbody tr th {\n",
       "        vertical-align: top;\n",
       "    }\n",
       "\n",
       "    .dataframe thead th {\n",
       "        text-align: right;\n",
       "    }\n",
       "</style>\n",
       "<table border=\"1\" class=\"dataframe\">\n",
       "  <thead>\n",
       "    <tr style=\"text-align: right;\">\n",
       "      <th></th>\n",
       "      <th>trope_name</th>\n",
       "      <th>character_data</th>\n",
       "    </tr>\n",
       "  </thead>\n",
       "  <tbody>\n",
       "    <tr>\n",
       "      <th>309</th>\n",
       "      <td>hitman_with_a_heart</td>\n",
       "      <td>{'char': 'Julian Noble', 'movie': 'The Matador...</td>\n",
       "    </tr>\n",
       "    <tr>\n",
       "      <th>474</th>\n",
       "      <td>tranquil_fury</td>\n",
       "      <td>{'char': 'Driver', 'movie': 'Drive', 'id': '/m...</td>\n",
       "    </tr>\n",
       "    <tr>\n",
       "      <th>391</th>\n",
       "      <td>psycho_for_hire</td>\n",
       "      <td>{'char': 'Mortimer Brewster', 'movie': 'Arseni...</td>\n",
       "    </tr>\n",
       "    <tr>\n",
       "      <th>358</th>\n",
       "      <td>master_swordsman</td>\n",
       "      <td>{'char': 'He-Man', 'movie': 'Masters of the Un...</td>\n",
       "    </tr>\n",
       "    <tr>\n",
       "      <th>330</th>\n",
       "      <td>klutz</td>\n",
       "      <td>{'char': 'Mia Thermopolis', 'movie': 'The Prin...</td>\n",
       "    </tr>\n",
       "  </tbody>\n",
       "</table>\n",
       "</div>"
      ],
      "text/plain": [
       "              trope_name                                     character_data\n",
       "309  hitman_with_a_heart  {'char': 'Julian Noble', 'movie': 'The Matador...\n",
       "474        tranquil_fury  {'char': 'Driver', 'movie': 'Drive', 'id': '/m...\n",
       "391      psycho_for_hire  {'char': 'Mortimer Brewster', 'movie': 'Arseni...\n",
       "358     master_swordsman  {'char': 'He-Man', 'movie': 'Masters of the Un...\n",
       "330                klutz  {'char': 'Mia Thermopolis', 'movie': 'The Prin..."
      ]
     },
     "execution_count": 16,
     "metadata": {},
     "output_type": "execute_result"
    }
   ],
   "source": [
    "tvtropes_df.sample(5)"
   ]
  },
  {
   "cell_type": "code",
   "execution_count": 17,
   "metadata": {},
   "outputs": [
    {
     "name": "stdout",
     "output_type": "stream",
     "text": [
      "Number of tropes loaded: 501\n"
     ]
    }
   ],
   "source": [
    "total_tropes = len(tvtropes_df)\n",
    "print(f\"Number of tropes loaded: {total_tropes}\")"
   ]
  },
  {
   "cell_type": "markdown",
   "metadata": {},
   "source": [
    "## IMDB dataset\n",
    "\n",
    "We load the 4 `.tsv` files of the IMDB dataset into 4 different dataframes"
   ]
  },
  {
   "cell_type": "code",
   "execution_count": 18,
   "metadata": {
    "tags": []
   },
   "outputs": [],
   "source": [
    "imdb_ratings_df = load_imdb_ratings()\n",
    "imdb_title_df = load_imdb_title_basics()\n",
    "imdb_principals_df = load_imdb_title_principals()\n",
    "imdb_people_df = load_imdb_person_basics()"
   ]
  },
  {
   "cell_type": "markdown",
   "metadata": {},
   "source": [
    "### Ratings\n",
    "\n",
    "Let's explore the ratings dataframe."
   ]
  },
  {
   "cell_type": "code",
   "execution_count": 19,
   "metadata": {},
   "outputs": [
    {
     "data": {
      "text/html": [
       "<div>\n",
       "<style scoped>\n",
       "    .dataframe tbody tr th:only-of-type {\n",
       "        vertical-align: middle;\n",
       "    }\n",
       "\n",
       "    .dataframe tbody tr th {\n",
       "        vertical-align: top;\n",
       "    }\n",
       "\n",
       "    .dataframe thead th {\n",
       "        text-align: right;\n",
       "    }\n",
       "</style>\n",
       "<table border=\"1\" class=\"dataframe\">\n",
       "  <thead>\n",
       "    <tr style=\"text-align: right;\">\n",
       "      <th></th>\n",
       "      <th>tconst</th>\n",
       "      <th>averageRating</th>\n",
       "      <th>numVotes</th>\n",
       "    </tr>\n",
       "  </thead>\n",
       "  <tbody>\n",
       "    <tr>\n",
       "      <th>531042</th>\n",
       "      <td>tt11389168</td>\n",
       "      <td>8.2</td>\n",
       "      <td>11</td>\n",
       "    </tr>\n",
       "    <tr>\n",
       "      <th>528686</th>\n",
       "      <td>tt11348188</td>\n",
       "      <td>9.8</td>\n",
       "      <td>5</td>\n",
       "    </tr>\n",
       "    <tr>\n",
       "      <th>38240</th>\n",
       "      <td>tt0059398</td>\n",
       "      <td>5.6</td>\n",
       "      <td>393</td>\n",
       "    </tr>\n",
       "    <tr>\n",
       "      <th>939109</th>\n",
       "      <td>tt2498912</td>\n",
       "      <td>8.7</td>\n",
       "      <td>4430</td>\n",
       "    </tr>\n",
       "    <tr>\n",
       "      <th>564353</th>\n",
       "      <td>tt12037150</td>\n",
       "      <td>7.5</td>\n",
       "      <td>139</td>\n",
       "    </tr>\n",
       "  </tbody>\n",
       "</table>\n",
       "</div>"
      ],
      "text/plain": [
       "            tconst  averageRating  numVotes\n",
       "531042  tt11389168            8.2        11\n",
       "528686  tt11348188            9.8         5\n",
       "38240    tt0059398            5.6       393\n",
       "939109   tt2498912            8.7      4430\n",
       "564353  tt12037150            7.5       139"
      ]
     },
     "execution_count": 19,
     "metadata": {},
     "output_type": "execute_result"
    }
   ],
   "source": [
    "imdb_ratings_df.sample(5)"
   ]
  },
  {
   "cell_type": "code",
   "execution_count": 20,
   "metadata": {},
   "outputs": [
    {
     "name": "stdout",
     "output_type": "stream",
     "text": [
      "We have 1365868 movies for which we have a rating.\n"
     ]
    },
    {
     "data": {
      "image/png": "[encoded data removed]",
      "text/plain": [
       "<Figure size 432x288 with 1 Axes>"
      ]
     },
     "metadata": {
      "needs_background": "light"
     },
     "output_type": "display_data"
    },
    {
     "data": {
      "image/png": "[encoded data removed]",
      "text/plain": [
       "<Figure size 432x288 with 1 Axes>"
      ]
     },
     "metadata": {
      "needs_background": "light"
     },
     "output_type": "display_data"
    }
   ],
   "source": [
    "total_ratings = len(imdb_ratings_df)\n",
    "print(f\"We have {total_ratings} movies for which we have a rating.\")\n",
    "\n",
    "# Check the distribution of grades\n",
    "sns.histplot(data=imdb_ratings_df, x=\"averageRating\", bins=50)\n",
    "\n",
    "plt.title(\"Distribution of movie ratings\")\n",
    "plt.xlabel(\"Rating\")\n",
    "plt.ylabel(\"Number of movies\")\n",
    "plt.show()\n",
    "\n",
    "# Check the distribution of votes\n",
    "sns.histplot(data=imdb_ratings_df, x=\"numVotes\", bins=100, log_scale=True)\n",
    "plt.yscale(\"log\")\n",
    "\n",
    "plt.title(\"Number of movies over number of votes\")\n",
    "plt.xlabel(\"Number of votes\")\n",
    "plt.ylabel(\"Number of movies\")\n",
    "plt.show()"
   ]
  },
  {
   "cell_type": "markdown",
   "metadata": {},
   "source": [
    "### Title"
   ]
  },
  {
   "cell_type": "code",
   "execution_count": 21,
   "metadata": {},
   "outputs": [
    {
     "data": {
      "text/html": [
       "<div>\n",
       "<style scoped>\n",
       "    .dataframe tbody tr th:only-of-type {\n",
       "        vertical-align: middle;\n",
       "    }\n",
       "\n",
       "    .dataframe tbody tr th {\n",
       "        vertical-align: top;\n",
       "    }\n",
       "\n",
       "    .dataframe thead th {\n",
       "        text-align: right;\n",
       "    }\n",
       "</style>\n",
       "<table border=\"1\" class=\"dataframe\">\n",
       "  <thead>\n",
       "    <tr style=\"text-align: right;\">\n",
       "      <th></th>\n",
       "      <th>tconst</th>\n",
       "      <th>titleType</th>\n",
       "      <th>primaryTitle</th>\n",
       "      <th>originalTitle</th>\n",
       "      <th>isAdult</th>\n",
       "      <th>startYear</th>\n",
       "      <th>endYear</th>\n",
       "      <th>runtimeMinutes</th>\n",
       "      <th>genres</th>\n",
       "    </tr>\n",
       "  </thead>\n",
       "  <tbody>\n",
       "    <tr>\n",
       "      <th>4306733</th>\n",
       "      <td>tt16221908</td>\n",
       "      <td>movie</td>\n",
       "      <td>Dark Winter</td>\n",
       "      <td>Dark Winter</td>\n",
       "      <td>0</td>\n",
       "      <td>2021</td>\n",
       "      <td>\\N</td>\n",
       "      <td>139</td>\n",
       "      <td>Documentary,History,Horror</td>\n",
       "    </tr>\n",
       "    <tr>\n",
       "      <th>8082699</th>\n",
       "      <td>tt5057402</td>\n",
       "      <td>movie</td>\n",
       "      <td>Yuki no tôge</td>\n",
       "      <td>Yuki no tôge</td>\n",
       "      <td>0</td>\n",
       "      <td>1924</td>\n",
       "      <td>\\N</td>\n",
       "      <td>\\N</td>\n",
       "      <td>Drama</td>\n",
       "    </tr>\n",
       "    <tr>\n",
       "      <th>8685969</th>\n",
       "      <td>tt6419372</td>\n",
       "      <td>movie</td>\n",
       "      <td>Pura Vida, Bajo Los Cielos De Asia</td>\n",
       "      <td>Pura Vida, Bajo Los Cielos De Asia</td>\n",
       "      <td>0</td>\n",
       "      <td>2012</td>\n",
       "      <td>\\N</td>\n",
       "      <td>\\N</td>\n",
       "      <td>\\N</td>\n",
       "    </tr>\n",
       "    <tr>\n",
       "      <th>228504</th>\n",
       "      <td>tt0238577</td>\n",
       "      <td>movie</td>\n",
       "      <td>Sawaal Majha Aika</td>\n",
       "      <td>Sawaal Majha Aika</td>\n",
       "      <td>0</td>\n",
       "      <td>1964</td>\n",
       "      <td>\\N</td>\n",
       "      <td>\\N</td>\n",
       "      <td>\\N</td>\n",
       "    </tr>\n",
       "    <tr>\n",
       "      <th>234365</th>\n",
       "      <td>tt0244684</td>\n",
       "      <td>movie</td>\n",
       "      <td>No One Sleeps</td>\n",
       "      <td>No One Sleeps</td>\n",
       "      <td>0</td>\n",
       "      <td>2000</td>\n",
       "      <td>\\N</td>\n",
       "      <td>108</td>\n",
       "      <td>Drama,Mystery,Romance</td>\n",
       "    </tr>\n",
       "  </tbody>\n",
       "</table>\n",
       "</div>"
      ],
      "text/plain": [
       "             tconst titleType                        primaryTitle  \\\n",
       "4306733  tt16221908     movie                         Dark Winter   \n",
       "8082699   tt5057402     movie                        Yuki no tôge   \n",
       "8685969   tt6419372     movie  Pura Vida, Bajo Los Cielos De Asia   \n",
       "228504    tt0238577     movie                   Sawaal Majha Aika   \n",
       "234365    tt0244684     movie                       No One Sleeps   \n",
       "\n",
       "                              originalTitle isAdult startYear endYear  \\\n",
       "4306733                         Dark Winter       0      2021      \\N   \n",
       "8082699                        Yuki no tôge       0      1924      \\N   \n",
       "8685969  Pura Vida, Bajo Los Cielos De Asia       0      2012      \\N   \n",
       "228504                    Sawaal Majha Aika       0      1964      \\N   \n",
       "234365                        No One Sleeps       0      2000      \\N   \n",
       "\n",
       "        runtimeMinutes                      genres  \n",
       "4306733            139  Documentary,History,Horror  \n",
       "8082699             \\N                       Drama  \n",
       "8685969             \\N                          \\N  \n",
       "228504              \\N                          \\N  \n",
       "234365             108       Drama,Mystery,Romance  "
      ]
     },
     "execution_count": 21,
     "metadata": {},
     "output_type": "execute_result"
    }
   ],
   "source": [
    "imdb_title_df.sample(5)"
   ]
  },
  {
   "cell_type": "code",
   "execution_count": 22,
   "metadata": {},
   "outputs": [],
   "source": [
    "# Remove adult content\n",
    "imdb_title_df = imdb_title_df[imdb_title_df[\"isAdult\"].astype(int) == 0]"
   ]
  },
  {
   "cell_type": "code",
   "execution_count": 23,
   "metadata": {},
   "outputs": [
    {
     "name": "stdout",
     "output_type": "stream",
     "text": [
      "We have 651888 movie titles\n"
     ]
    }
   ],
   "source": [
    "total_title = len(imdb_title_df)\n",
    "print(f\"We have {total_title} movie titles\")"
   ]
  },
  {
   "cell_type": "markdown",
   "metadata": {},
   "source": [
    "### Principals"
   ]
  },
  {
   "cell_type": "code",
   "execution_count": 24,
   "metadata": {},
   "outputs": [
    {
     "data": {
      "text/html": [
       "<div>\n",
       "<style scoped>\n",
       "    .dataframe tbody tr th:only-of-type {\n",
       "        vertical-align: middle;\n",
       "    }\n",
       "\n",
       "    .dataframe tbody tr th {\n",
       "        vertical-align: top;\n",
       "    }\n",
       "\n",
       "    .dataframe thead th {\n",
       "        text-align: right;\n",
       "    }\n",
       "</style>\n",
       "<table border=\"1\" class=\"dataframe\">\n",
       "  <thead>\n",
       "    <tr style=\"text-align: right;\">\n",
       "      <th></th>\n",
       "      <th>tconst</th>\n",
       "      <th>ordering</th>\n",
       "      <th>nconst</th>\n",
       "      <th>category</th>\n",
       "      <th>job</th>\n",
       "      <th>characters</th>\n",
       "    </tr>\n",
       "  </thead>\n",
       "  <tbody>\n",
       "    <tr>\n",
       "      <th>46928981</th>\n",
       "      <td>tt5443162</td>\n",
       "      <td>1</td>\n",
       "      <td>nm5605726</td>\n",
       "      <td>director</td>\n",
       "      <td>\\N</td>\n",
       "      <td>\\N</td>\n",
       "    </tr>\n",
       "    <tr>\n",
       "      <th>9894922</th>\n",
       "      <td>tt1069566</td>\n",
       "      <td>9</td>\n",
       "      <td>nm2204601</td>\n",
       "      <td>writer</td>\n",
       "      <td>\\N</td>\n",
       "      <td>\\N</td>\n",
       "    </tr>\n",
       "    <tr>\n",
       "      <th>22505897</th>\n",
       "      <td>tt14916446</td>\n",
       "      <td>4</td>\n",
       "      <td>nm3015101</td>\n",
       "      <td>actor</td>\n",
       "      <td>\\N</td>\n",
       "      <td>[\"Jean Buze de Aur\"]</td>\n",
       "    </tr>\n",
       "    <tr>\n",
       "      <th>14131001</th>\n",
       "      <td>tt11968008</td>\n",
       "      <td>5</td>\n",
       "      <td>nm9910648</td>\n",
       "      <td>self</td>\n",
       "      <td>\\N</td>\n",
       "      <td>[\"Self\"]</td>\n",
       "    </tr>\n",
       "    <tr>\n",
       "      <th>43486265</th>\n",
       "      <td>tt3902736</td>\n",
       "      <td>7</td>\n",
       "      <td>nm6649407</td>\n",
       "      <td>writer</td>\n",
       "      <td>\\N</td>\n",
       "      <td>\\N</td>\n",
       "    </tr>\n",
       "  </tbody>\n",
       "</table>\n",
       "</div>"
      ],
      "text/plain": [
       "              tconst  ordering     nconst  category job            characters\n",
       "46928981   tt5443162         1  nm5605726  director  \\N                    \\N\n",
       "9894922    tt1069566         9  nm2204601    writer  \\N                    \\N\n",
       "22505897  tt14916446         4  nm3015101     actor  \\N  [\"Jean Buze de Aur\"]\n",
       "14131001  tt11968008         5  nm9910648      self  \\N              [\"Self\"]\n",
       "43486265   tt3902736         7  nm6649407    writer  \\N                    \\N"
      ]
     },
     "execution_count": 24,
     "metadata": {},
     "output_type": "execute_result"
    }
   ],
   "source": [
    "imdb_principals_df.sample(5)"
   ]
  },
  {
   "cell_type": "code",
   "execution_count": 25,
   "metadata": {},
   "outputs": [
    {
     "name": "stdout",
     "output_type": "stream",
     "text": [
      "We have 58900432 principals records\n",
      "We have 12 categories\n",
      "We have 5169350 unique persons\n",
      "\n"
     ]
    }
   ],
   "source": [
    "total_principals = len(imdb_principals_df)\n",
    "print(f\"We have {total_principals} principals records\")\n",
    "print(f\"We have {len(imdb_principals_df['category'].unique())} categories\")\n",
    "print(f\"We have {len(imdb_principals_df['nconst'].unique())} unique persons\", end=\"\\n\\n\")\n",
    "\n",
    "# missing_characters = len(imdb_principals_df[imdb_principals_df['characters'] == \"\\\\N\"])\n",
    "# print(f\"We have {missing_characters/total_principals*100:.2f}% of missing characters\")"
   ]
  },
  {
   "cell_type": "markdown",
   "metadata": {},
   "source": [
    "### People"
   ]
  },
  {
   "cell_type": "code",
   "execution_count": 26,
   "metadata": {},
   "outputs": [
    {
     "data": {
      "text/html": [
       "<div>\n",
       "<style scoped>\n",
       "    .dataframe tbody tr th:only-of-type {\n",
       "        vertical-align: middle;\n",
       "    }\n",
       "\n",
       "    .dataframe tbody tr th {\n",
       "        vertical-align: top;\n",
       "    }\n",
       "\n",
       "    .dataframe thead th {\n",
       "        text-align: right;\n",
       "    }\n",
       "</style>\n",
       "<table border=\"1\" class=\"dataframe\">\n",
       "  <thead>\n",
       "    <tr style=\"text-align: right;\">\n",
       "      <th></th>\n",
       "      <th>nconst</th>\n",
       "      <th>primaryName</th>\n",
       "      <th>birthYear</th>\n",
       "      <th>deathYear</th>\n",
       "      <th>primaryProfession</th>\n",
       "      <th>knownForTitles</th>\n",
       "    </tr>\n",
       "  </thead>\n",
       "  <tbody>\n",
       "    <tr>\n",
       "      <th>5681878</th>\n",
       "      <td>nm15125851</td>\n",
       "      <td>Power Maher</td>\n",
       "      <td>\\N</td>\n",
       "      <td>\\N</td>\n",
       "      <td>miscellaneous</td>\n",
       "      <td>tt3013774</td>\n",
       "    </tr>\n",
       "    <tr>\n",
       "      <th>7548061</th>\n",
       "      <td>nm3347060</td>\n",
       "      <td>Alexander D. Hemingway</td>\n",
       "      <td>\\N</td>\n",
       "      <td>\\N</td>\n",
       "      <td>editorial_department</td>\n",
       "      <td>tt1753367,tt1326201,tt1556240,tt1627882</td>\n",
       "    </tr>\n",
       "    <tr>\n",
       "      <th>4299552</th>\n",
       "      <td>nm13573964</td>\n",
       "      <td>Adrian Serban</td>\n",
       "      <td>\\N</td>\n",
       "      <td>\\N</td>\n",
       "      <td>art_department</td>\n",
       "      <td>tt0429573</td>\n",
       "    </tr>\n",
       "    <tr>\n",
       "      <th>5334161</th>\n",
       "      <td>nm14750969</td>\n",
       "      <td>Meisam Khanjan</td>\n",
       "      <td>\\N</td>\n",
       "      <td>\\N</td>\n",
       "      <td>set_decorator</td>\n",
       "      <td>tt8496186</td>\n",
       "    </tr>\n",
       "    <tr>\n",
       "      <th>7125663</th>\n",
       "      <td>nm2877917</td>\n",
       "      <td>Wei Shih</td>\n",
       "      <td>\\N</td>\n",
       "      <td>\\N</td>\n",
       "      <td>make_up_department,production_manager</td>\n",
       "      <td>tt0122262,tt0201997,tt2173762,tt2173776</td>\n",
       "    </tr>\n",
       "  </tbody>\n",
       "</table>\n",
       "</div>"
      ],
      "text/plain": [
       "             nconst             primaryName birthYear deathYear  \\\n",
       "5681878  nm15125851             Power Maher        \\N        \\N   \n",
       "7548061   nm3347060  Alexander D. Hemingway        \\N        \\N   \n",
       "4299552  nm13573964           Adrian Serban        \\N        \\N   \n",
       "5334161  nm14750969          Meisam Khanjan        \\N        \\N   \n",
       "7125663   nm2877917                Wei Shih        \\N        \\N   \n",
       "\n",
       "                             primaryProfession  \\\n",
       "5681878                          miscellaneous   \n",
       "7548061                   editorial_department   \n",
       "4299552                         art_department   \n",
       "5334161                          set_decorator   \n",
       "7125663  make_up_department,production_manager   \n",
       "\n",
       "                                  knownForTitles  \n",
       "5681878                                tt3013774  \n",
       "7548061  tt1753367,tt1326201,tt1556240,tt1627882  \n",
       "4299552                                tt0429573  \n",
       "5334161                                tt8496186  \n",
       "7125663  tt0122262,tt0201997,tt2173762,tt2173776  "
      ]
     },
     "execution_count": 26,
     "metadata": {},
     "output_type": "execute_result"
    }
   ],
   "source": [
    "imdb_people_df.sample(5)"
   ]
  },
  {
   "cell_type": "code",
   "execution_count": 27,
   "metadata": {},
   "outputs": [
    {
     "name": "stdout",
     "output_type": "stream",
     "text": [
      "We have 12978070 people records\n",
      "We have 12978070 unique persons\n",
      "We have 3862314 unique actors\n"
     ]
    }
   ],
   "source": [
    "total_people = len(imdb_people_df)\n",
    "print(f\"We have {total_people} people records\")\n",
    "print(f\"We have {len(imdb_people_df['nconst'].unique())} unique persons\")\n",
    "print(f\"We have {len(imdb_people_df[(imdb_people_df['primaryProfession'] == 'actor') | (imdb_people_df['primaryProfession'] == 'actress')])} unique actors\")"
   ]
  },
  {
   "cell_type": "markdown",
   "metadata": {},
   "source": [
    "### Movie titles with ratings"
   ]
  },
  {
   "cell_type": "code",
   "execution_count": 28,
   "metadata": {
    "tags": []
   },
   "outputs": [
    {
     "data": {
      "text/html": [
       "<div>\n",
       "<style scoped>\n",
       "    .dataframe tbody tr th:only-of-type {\n",
       "        vertical-align: middle;\n",
       "    }\n",
       "\n",
       "    .dataframe tbody tr th {\n",
       "        vertical-align: top;\n",
       "    }\n",
       "\n",
       "    .dataframe thead th {\n",
       "        text-align: right;\n",
       "    }\n",
       "</style>\n",
       "<table border=\"1\" class=\"dataframe\">\n",
       "  <thead>\n",
       "    <tr style=\"text-align: right;\">\n",
       "      <th></th>\n",
       "      <th>tconst</th>\n",
       "      <th>titleType</th>\n",
       "      <th>primaryTitle</th>\n",
       "      <th>originalTitle</th>\n",
       "      <th>isAdult</th>\n",
       "      <th>startYear</th>\n",
       "      <th>endYear</th>\n",
       "      <th>runtimeMinutes</th>\n",
       "      <th>genres</th>\n",
       "      <th>averageRating</th>\n",
       "      <th>numVotes</th>\n",
       "    </tr>\n",
       "  </thead>\n",
       "  <tbody>\n",
       "    <tr>\n",
       "      <th>13357</th>\n",
       "      <td>tt0035545</td>\n",
       "      <td>movie</td>\n",
       "      <td>Westward Ho!</td>\n",
       "      <td>Westward Ho!</td>\n",
       "      <td>0</td>\n",
       "      <td>1942</td>\n",
       "      <td>\\N</td>\n",
       "      <td>56</td>\n",
       "      <td>Drama,Western</td>\n",
       "      <td>6.7</td>\n",
       "      <td>34</td>\n",
       "    </tr>\n",
       "    <tr>\n",
       "      <th>109824</th>\n",
       "      <td>tt0314228</td>\n",
       "      <td>movie</td>\n",
       "      <td>Devil Returns</td>\n",
       "      <td>Jing hun feng yu ye</td>\n",
       "      <td>0</td>\n",
       "      <td>1982</td>\n",
       "      <td>\\N</td>\n",
       "      <td>88</td>\n",
       "      <td>Drama,Horror,Thriller</td>\n",
       "      <td>5.8</td>\n",
       "      <td>34</td>\n",
       "    </tr>\n",
       "    <tr>\n",
       "      <th>195074</th>\n",
       "      <td>tt1753945</td>\n",
       "      <td>movie</td>\n",
       "      <td>Il pozzo: Voci d'acqua dall'Etiopia</td>\n",
       "      <td>Il pozzo: Voci d'acqua dall'Etiopia</td>\n",
       "      <td>0</td>\n",
       "      <td>2013</td>\n",
       "      <td>\\N</td>\n",
       "      <td>56</td>\n",
       "      <td>Adventure,Documentary</td>\n",
       "      <td>7.1</td>\n",
       "      <td>10</td>\n",
       "    </tr>\n",
       "    <tr>\n",
       "      <th>230258</th>\n",
       "      <td>tt28768667</td>\n",
       "      <td>movie</td>\n",
       "      <td>Werewolves Unearthed</td>\n",
       "      <td>Werewolves Unearthed</td>\n",
       "      <td>0</td>\n",
       "      <td>2023</td>\n",
       "      <td>\\N</td>\n",
       "      <td>\\N</td>\n",
       "      <td>Documentary</td>\n",
       "      <td>5.2</td>\n",
       "      <td>6</td>\n",
       "    </tr>\n",
       "    <tr>\n",
       "      <th>19141</th>\n",
       "      <td>tt0043961</td>\n",
       "      <td>movie</td>\n",
       "      <td>The Red Badge of Courage</td>\n",
       "      <td>The Red Badge of Courage</td>\n",
       "      <td>0</td>\n",
       "      <td>1951</td>\n",
       "      <td>\\N</td>\n",
       "      <td>69</td>\n",
       "      <td>Drama,War</td>\n",
       "      <td>7.1</td>\n",
       "      <td>4763</td>\n",
       "    </tr>\n",
       "  </tbody>\n",
       "</table>\n",
       "</div>"
      ],
      "text/plain": [
       "            tconst titleType                         primaryTitle  \\\n",
       "13357    tt0035545     movie                         Westward Ho!   \n",
       "109824   tt0314228     movie                        Devil Returns   \n",
       "195074   tt1753945     movie  Il pozzo: Voci d'acqua dall'Etiopia   \n",
       "230258  tt28768667     movie                 Werewolves Unearthed   \n",
       "19141    tt0043961     movie             The Red Badge of Courage   \n",
       "\n",
       "                              originalTitle isAdult startYear endYear  \\\n",
       "13357                          Westward Ho!       0      1942      \\N   \n",
       "109824                  Jing hun feng yu ye       0      1982      \\N   \n",
       "195074  Il pozzo: Voci d'acqua dall'Etiopia       0      2013      \\N   \n",
       "230258                 Werewolves Unearthed       0      2023      \\N   \n",
       "19141              The Red Badge of Courage       0      1951      \\N   \n",
       "\n",
       "       runtimeMinutes                 genres  averageRating  numVotes  \n",
       "13357              56          Drama,Western            6.7        34  \n",
       "109824             88  Drama,Horror,Thriller            5.8        34  \n",
       "195074             56  Adventure,Documentary            7.1        10  \n",
       "230258             \\N            Documentary            5.2         6  \n",
       "19141              69              Drama,War            7.1      4763  "
      ]
     },
     "execution_count": 28,
     "metadata": {},
     "output_type": "execute_result"
    }
   ],
   "source": [
    "imdb_title_with_rating = imdb_title_df.merge(imdb_ratings_df, on='tconst', how='inner')\n",
    "imdb_title_with_rating.sample(5)"
   ]
  },
  {
   "cell_type": "code",
   "execution_count": 29,
   "metadata": {},
   "outputs": [
    {
     "name": "stdout",
     "output_type": "stream",
     "text": [
      "We have 294744 movies with ratings\n"
     ]
    }
   ],
   "source": [
    "total_movies_w_rating = len(imdb_title_with_rating)\n",
    "print(f\"We have {total_movies_w_rating} movies with ratings\")"
   ]
  },
  {
   "cell_type": "markdown",
   "metadata": {},
   "source": [
    "There is more than one quarter of a million movies for which we have at least one rating. We have clearly much more data to work with than with box office revenue. Furthermore, there is a substantial amount of movies who have at least a few hundreds votes. This will allow us to get better confidence interval and reduce uncertainty in our analysis."
   ]
  },
  {
   "cell_type": "markdown",
   "metadata": {},
   "source": [
    "## Merge CMU movies and plot summaries with IMDB titles and ratings\n",
    "\n",
    "The translation dataframe from wikidata, which includes both the IMDB id and the Freebase id, enables us to combine the IMDB dataset with the CMU dataset"
   ]
  },
  {
   "cell_type": "code",
   "execution_count": 30,
   "metadata": {},
   "outputs": [],
   "source": [
    "translation_id = load_translation_df()"
   ]
  },
  {
   "cell_type": "code",
   "execution_count": 31,
   "metadata": {},
   "outputs": [],
   "source": [
    "imdb_title_with_rating_translated = imdb_title_with_rating.merge(translation_id, how='inner', left_on='tconst', right_on='imdb_id').copy()\n",
    "imdb_title_with_rating_translated = imdb_title_with_rating_translated.drop([\"imdb_id\"], axis=1)"
   ]
  },
  {
   "cell_type": "code",
   "execution_count": 32,
   "metadata": {},
   "outputs": [],
   "source": [
    "cmu_movies_w_imdb_rating = imdb_title_with_rating_translated.merge(movies_df, how='inner', left_on='freebase_id', right_on='freebase_movie_id').copy()"
   ]
  },
  {
   "cell_type": "code",
   "execution_count": 33,
   "metadata": {},
   "outputs": [],
   "source": [
    "# Enriching CMU data\n",
    "# IMDB start year has no missing data, so we insert it into \"NaN\" fields of \"movie_release_date\" and drop \"startYear\"\n",
    "missing_years = cmu_movies_w_imdb_rating[cmu_movies_w_imdb_rating['movie_release_date'].isna()].index\n",
    "cmu_movies_w_imdb_rating.loc[missing_years, 'movie_release_date'] = cmu_movies_w_imdb_rating.loc[missing_years, 'startYear']"
   ]
  },
  {
   "cell_type": "code",
   "execution_count": 34,
   "metadata": {},
   "outputs": [],
   "source": [
    "# We have MANY depulicated attributes\n",
    "# We evaluated for each pair which column had more missing data and dropped it in favor of the other\n",
    "cmu_movies_w_imdb_rating = cmu_movies_w_imdb_rating.drop([\"freebase_movie_id\", \"titleType\", \"isAdult\", \"endYear\", \"primaryTitle\", \"originalTitle\", \"movie_release_year\", \"movie_runtime\", \"startYear\"], axis=1)"
   ]
  },
  {
   "cell_type": "code",
   "execution_count": 35,
   "metadata": {},
   "outputs": [
    {
     "name": "stdout",
     "output_type": "stream",
     "text": [
      "The merged dataframe contains 44467 movies with corresponding ratings\n"
     ]
    }
   ],
   "source": [
    "cmu_movies_w_imdb_rating = cmu_movies_w_imdb_rating.drop_duplicates(\"tconst\")\n",
    "print(f\"The merged dataframe contains {len(cmu_movies_w_imdb_rating)} movies with corresponding ratings\")"
   ]
  },
  {
   "cell_type": "code",
   "execution_count": 36,
   "metadata": {},
   "outputs": [],
   "source": [
    "# Add summaries\n",
    "cmu_movies_w_imdb_rating = cmu_movies_w_imdb_rating.merge(plot_df, on=\"wiki_movie_id\", how=\"left\")"
   ]
  },
  {
   "cell_type": "code",
   "execution_count": 37,
   "metadata": {},
   "outputs": [
    {
     "data": {
      "text/html": [
       "<div>\n",
       "<style scoped>\n",
       "    .dataframe tbody tr th:only-of-type {\n",
       "        vertical-align: middle;\n",
       "    }\n",
       "\n",
       "    .dataframe tbody tr th {\n",
       "        vertical-align: top;\n",
       "    }\n",
       "\n",
       "    .dataframe thead th {\n",
       "        text-align: right;\n",
       "    }\n",
       "</style>\n",
       "<table border=\"1\" class=\"dataframe\">\n",
       "  <thead>\n",
       "    <tr style=\"text-align: right;\">\n",
       "      <th></th>\n",
       "      <th>tconst</th>\n",
       "      <th>runtimeMinutes</th>\n",
       "      <th>genres</th>\n",
       "      <th>averageRating</th>\n",
       "      <th>numVotes</th>\n",
       "      <th>freebase_id</th>\n",
       "      <th>wiki_movie_id</th>\n",
       "      <th>movie_name</th>\n",
       "      <th>movie_release_date</th>\n",
       "      <th>box_office</th>\n",
       "      <th>movie_languages</th>\n",
       "      <th>movie_countries</th>\n",
       "      <th>movie_genres</th>\n",
       "      <th>plot_summary</th>\n",
       "    </tr>\n",
       "  </thead>\n",
       "  <tbody>\n",
       "    <tr>\n",
       "      <th>26804</th>\n",
       "      <td>tt0126004</td>\n",
       "      <td>86</td>\n",
       "      <td>Drama,Fantasy,Horror</td>\n",
       "      <td>6.0</td>\n",
       "      <td>2224</td>\n",
       "      <td>/m/04j0c3_</td>\n",
       "      <td>27874961</td>\n",
       "      <td>The Iron Rose</td>\n",
       "      <td>1973</td>\n",
       "      <td>NaN</td>\n",
       "      <td>{'/m/064_8sq': 'French Language'}</td>\n",
       "      <td>{'/m/0f8l9c': 'France'}</td>\n",
       "      <td>{'/m/03npn': 'Horror', '/m/09blyk': 'Psycholog...</td>\n",
       "      <td>A woman and man who met at a wedding reception...</td>\n",
       "    </tr>\n",
       "    <tr>\n",
       "      <th>18783</th>\n",
       "      <td>tt0081457</td>\n",
       "      <td>96</td>\n",
       "      <td>Horror,Sci-Fi</td>\n",
       "      <td>4.3</td>\n",
       "      <td>1080</td>\n",
       "      <td>/m/080l1mt</td>\n",
       "      <td>24486281</td>\n",
       "      <td>Scared to Death</td>\n",
       "      <td>1981-03</td>\n",
       "      <td>NaN</td>\n",
       "      <td>{'/m/02h40lc': 'English Language'}</td>\n",
       "      <td>{'/m/09c7w0': 'United States of America'}</td>\n",
       "      <td>{'/m/07s9rl0': 'Drama', '/m/06n90': 'Science F...</td>\n",
       "      <td>A monster stalks Los Angeles as a Bio-Engineer...</td>\n",
       "    </tr>\n",
       "    <tr>\n",
       "      <th>40652</th>\n",
       "      <td>tt1245112</td>\n",
       "      <td>85</td>\n",
       "      <td>Horror,Thriller</td>\n",
       "      <td>6.5</td>\n",
       "      <td>77224</td>\n",
       "      <td>/m/052_6hc</td>\n",
       "      <td>20753502</td>\n",
       "      <td>REC 2</td>\n",
       "      <td>2009-09-02</td>\n",
       "      <td>18469680.0</td>\n",
       "      <td>{'/m/06nm1': 'Spanish Language'}</td>\n",
       "      <td>{'/m/06mkj': 'Spain'}</td>\n",
       "      <td>{'/m/01jfsb': 'Thriller', '/m/03npn': 'Horror'...</td>\n",
       "      <td>Dr. Owen , an official from the Ministry of He...</td>\n",
       "    </tr>\n",
       "    <tr>\n",
       "      <th>29732</th>\n",
       "      <td>tt0202223</td>\n",
       "      <td>101</td>\n",
       "      <td>Drama</td>\n",
       "      <td>6.5</td>\n",
       "      <td>140</td>\n",
       "      <td>/m/027r4hf</td>\n",
       "      <td>8956466</td>\n",
       "      <td>El Amateur</td>\n",
       "      <td>1999-04-22</td>\n",
       "      <td>NaN</td>\n",
       "      <td>{'/m/06nm1': 'Spanish Language'}</td>\n",
       "      <td>{'/m/0jgd': 'Argentina'}</td>\n",
       "      <td>{'/m/01z02hx': 'Sports', '/m/07s9rl0': 'Drama'...</td>\n",
       "      <td>On the outskirts of a provincial town, Pajaro ...</td>\n",
       "    </tr>\n",
       "    <tr>\n",
       "      <th>18375</th>\n",
       "      <td>tt0079613</td>\n",
       "      <td>100</td>\n",
       "      <td>Drama,Thriller</td>\n",
       "      <td>6.9</td>\n",
       "      <td>349</td>\n",
       "      <td>/m/09v5d4x</td>\n",
       "      <td>25743290</td>\n",
       "      <td>Natural Enemies</td>\n",
       "      <td>1981-10-15</td>\n",
       "      <td>NaN</td>\n",
       "      <td>{}</td>\n",
       "      <td>{'/m/09c7w0': 'United States of America'}</td>\n",
       "      <td>{'/m/0lsxr': 'Crime Fiction', '/m/07s9rl0': 'D...</td>\n",
       "      <td>NaN</td>\n",
       "    </tr>\n",
       "  </tbody>\n",
       "</table>\n",
       "</div>"
      ],
      "text/plain": [
       "          tconst runtimeMinutes                genres  averageRating  \\\n",
       "26804  tt0126004             86  Drama,Fantasy,Horror            6.0   \n",
       "18783  tt0081457             96         Horror,Sci-Fi            4.3   \n",
       "40652  tt1245112             85       Horror,Thriller            6.5   \n",
       "29732  tt0202223            101                 Drama            6.5   \n",
       "18375  tt0079613            100        Drama,Thriller            6.9   \n",
       "\n",
       "       numVotes freebase_id  wiki_movie_id       movie_name  \\\n",
       "26804      2224  /m/04j0c3_       27874961    The Iron Rose   \n",
       "18783      1080  /m/080l1mt       24486281  Scared to Death   \n",
       "40652     77224  /m/052_6hc       20753502            REC 2   \n",
       "29732       140  /m/027r4hf        8956466       El Amateur   \n",
       "18375       349  /m/09v5d4x       25743290  Natural Enemies   \n",
       "\n",
       "      movie_release_date  box_office                     movie_languages  \\\n",
       "26804               1973         NaN   {'/m/064_8sq': 'French Language'}   \n",
       "18783            1981-03         NaN  {'/m/02h40lc': 'English Language'}   \n",
       "40652         2009-09-02  18469680.0    {'/m/06nm1': 'Spanish Language'}   \n",
       "29732         1999-04-22         NaN    {'/m/06nm1': 'Spanish Language'}   \n",
       "18375         1981-10-15         NaN                                  {}   \n",
       "\n",
       "                                 movie_countries  \\\n",
       "26804                    {'/m/0f8l9c': 'France'}   \n",
       "18783  {'/m/09c7w0': 'United States of America'}   \n",
       "40652                      {'/m/06mkj': 'Spain'}   \n",
       "29732                   {'/m/0jgd': 'Argentina'}   \n",
       "18375  {'/m/09c7w0': 'United States of America'}   \n",
       "\n",
       "                                            movie_genres  \\\n",
       "26804  {'/m/03npn': 'Horror', '/m/09blyk': 'Psycholog...   \n",
       "18783  {'/m/07s9rl0': 'Drama', '/m/06n90': 'Science F...   \n",
       "40652  {'/m/01jfsb': 'Thriller', '/m/03npn': 'Horror'...   \n",
       "29732  {'/m/01z02hx': 'Sports', '/m/07s9rl0': 'Drama'...   \n",
       "18375  {'/m/0lsxr': 'Crime Fiction', '/m/07s9rl0': 'D...   \n",
       "\n",
       "                                            plot_summary  \n",
       "26804  A woman and man who met at a wedding reception...  \n",
       "18783  A monster stalks Los Angeles as a Bio-Engineer...  \n",
       "40652  Dr. Owen , an official from the Ministry of He...  \n",
       "29732  On the outskirts of a provincial town, Pajaro ...  \n",
       "18375                                                NaN  "
      ]
     },
     "execution_count": 37,
     "metadata": {},
     "output_type": "execute_result"
    }
   ],
   "source": [
    "cmu_movies_w_imdb_rating.sample(5)"
   ]
  },
  {
   "cell_type": "markdown",
   "metadata": {},
   "source": [
    "`cmu_movies_w_imdb_rating` contains every informations that we need about a movie (such as its length, rating, genres, etc.) and will be used during our analysis. Next, we will focus on actors and  their respective personas."
   ]
  },
  {
   "cell_type": "markdown",
   "metadata": {},
   "source": [
    "## Merge IMDB people and principals\n",
    "We now focus on characters and actors. We merge the two dataframes from IMDB and keep records of interest i.e for which the movie is in the collection above."
   ]
  },
  {
   "cell_type": "code",
   "execution_count": 38,
   "metadata": {},
   "outputs": [],
   "source": [
    "titles_of_interest = cmu_movies_w_imdb_rating[\"tconst\"].to_list()"
   ]
  },
  {
   "cell_type": "code",
   "execution_count": 39,
   "metadata": {},
   "outputs": [],
   "source": [
    "imdb_actors = imdb_people_df[(imdb_people_df[\"primaryProfession\"].str.contains(\"actor\")) | (imdb_people_df[\"primaryProfession\"].str.contains(\"actoress\"))].copy()"
   ]
  },
  {
   "cell_type": "code",
   "execution_count": 40,
   "metadata": {},
   "outputs": [],
   "source": [
    "imdb_principals_actors = imdb_principals_df[(imdb_principals_df[\"category\"] == \"actress\") | (imdb_principals_df[\"category\"] == \"actor\")].copy()"
   ]
  },
  {
   "cell_type": "code",
   "execution_count": 41,
   "metadata": {},
   "outputs": [],
   "source": [
    "imdb_actors_and_characters = imdb_actors.merge(imdb_principals_actors, on=\"nconst\", how=\"inner\").copy()"
   ]
  },
  {
   "cell_type": "code",
   "execution_count": 42,
   "metadata": {},
   "outputs": [],
   "source": [
    "imdb_actors_and_characters = imdb_actors_and_characters[imdb_actors_and_characters[\"tconst\"].isin(titles_of_interest)]"
   ]
  },
  {
   "cell_type": "code",
   "execution_count": 43,
   "metadata": {},
   "outputs": [],
   "source": [
    "imdb_actors_and_characters = imdb_actors_and_characters.drop([\"ordering\", \"category\", \"job\", \"primaryProfession\"], axis=1)"
   ]
  },
  {
   "cell_type": "code",
   "execution_count": 44,
   "metadata": {},
   "outputs": [
    {
     "data": {
      "text/html": [
       "<div>\n",
       "<style scoped>\n",
       "    .dataframe tbody tr th:only-of-type {\n",
       "        vertical-align: middle;\n",
       "    }\n",
       "\n",
       "    .dataframe tbody tr th {\n",
       "        vertical-align: top;\n",
       "    }\n",
       "\n",
       "    .dataframe thead th {\n",
       "        text-align: right;\n",
       "    }\n",
       "</style>\n",
       "<table border=\"1\" class=\"dataframe\">\n",
       "  <thead>\n",
       "    <tr style=\"text-align: right;\">\n",
       "      <th></th>\n",
       "      <th>nconst</th>\n",
       "      <th>primaryName</th>\n",
       "      <th>birthYear</th>\n",
       "      <th>deathYear</th>\n",
       "      <th>knownForTitles</th>\n",
       "      <th>tconst</th>\n",
       "      <th>characters</th>\n",
       "    </tr>\n",
       "  </thead>\n",
       "  <tbody>\n",
       "    <tr>\n",
       "      <th>1889853</th>\n",
       "      <td>nm0244707</td>\n",
       "      <td>André Dussollier</td>\n",
       "      <td>1946</td>\n",
       "      <td>\\N</td>\n",
       "      <td>tt0344510,tt0362225,tt0211915,tt2316801</td>\n",
       "      <td>tt1156143</td>\n",
       "      <td>[\"Georges Palet\"]</td>\n",
       "    </tr>\n",
       "    <tr>\n",
       "      <th>2850390</th>\n",
       "      <td>nm0417824</td>\n",
       "      <td>Leon Janney</td>\n",
       "      <td>1917</td>\n",
       "      <td>1980</td>\n",
       "      <td>tt0021854,tt0221585,tt0062794,tt0022261</td>\n",
       "      <td>tt0023347</td>\n",
       "      <td>[\"Junior Barry\"]</td>\n",
       "    </tr>\n",
       "    <tr>\n",
       "      <th>4831087</th>\n",
       "      <td>nm0842536</td>\n",
       "      <td>Jan Swiderski</td>\n",
       "      <td>1916</td>\n",
       "      <td>1988</td>\n",
       "      <td>tt0441074,tt0052036,tt0048243,tt0065908</td>\n",
       "      <td>tt0040012</td>\n",
       "      <td>[\"Ryszard\"]</td>\n",
       "    </tr>\n",
       "    <tr>\n",
       "      <th>262488</th>\n",
       "      <td>nm0007042</td>\n",
       "      <td>Herbert Lom</td>\n",
       "      <td>1917</td>\n",
       "      <td>2012</td>\n",
       "      <td>tt0072081,tt0058586,tt0075066,tt0085407</td>\n",
       "      <td>tt0196077</td>\n",
       "      <td>[\"Ford\"]</td>\n",
       "    </tr>\n",
       "    <tr>\n",
       "      <th>2937591</th>\n",
       "      <td>nm0435726</td>\n",
       "      <td>Jean-Pierre Kalfon</td>\n",
       "      <td>1938</td>\n",
       "      <td>\\N</td>\n",
       "      <td>tt0299710,tt0092797,tt0187474,tt0088591</td>\n",
       "      <td>tt0062480</td>\n",
       "      <td>[\"Le chef du Front de Libération de la Seine e...</td>\n",
       "    </tr>\n",
       "  </tbody>\n",
       "</table>\n",
       "</div>"
      ],
      "text/plain": [
       "            nconst         primaryName birthYear deathYear  \\\n",
       "1889853  nm0244707    André Dussollier      1946        \\N   \n",
       "2850390  nm0417824         Leon Janney      1917      1980   \n",
       "4831087  nm0842536       Jan Swiderski      1916      1988   \n",
       "262488   nm0007042         Herbert Lom      1917      2012   \n",
       "2937591  nm0435726  Jean-Pierre Kalfon      1938        \\N   \n",
       "\n",
       "                                  knownForTitles     tconst  \\\n",
       "1889853  tt0344510,tt0362225,tt0211915,tt2316801  tt1156143   \n",
       "2850390  tt0021854,tt0221585,tt0062794,tt0022261  tt0023347   \n",
       "4831087  tt0441074,tt0052036,tt0048243,tt0065908  tt0040012   \n",
       "262488   tt0072081,tt0058586,tt0075066,tt0085407  tt0196077   \n",
       "2937591  tt0299710,tt0092797,tt0187474,tt0088591  tt0062480   \n",
       "\n",
       "                                                characters  \n",
       "1889853                                  [\"Georges Palet\"]  \n",
       "2850390                                   [\"Junior Barry\"]  \n",
       "4831087                                        [\"Ryszard\"]  \n",
       "262488                                            [\"Ford\"]  \n",
       "2937591  [\"Le chef du Front de Libération de la Seine e...  "
      ]
     },
     "execution_count": 44,
     "metadata": {},
     "output_type": "execute_result"
    }
   ],
   "source": [
    "imdb_actors_and_characters.sample(5)"
   ]
  },
  {
   "cell_type": "markdown",
   "metadata": {},
   "source": [
    "## Filter CMU characters\n",
    "We keep records of interest in the same fashion as done above"
   ]
  },
  {
   "cell_type": "code",
   "execution_count": 45,
   "metadata": {},
   "outputs": [],
   "source": [
    "titles_of_interest_wiki = cmu_movies_w_imdb_rating[\"wiki_movie_id\"].to_list()"
   ]
  },
  {
   "cell_type": "code",
   "execution_count": 46,
   "metadata": {},
   "outputs": [],
   "source": [
    "characters_interest = characters_df[characters_df[\"wiki_movie_id\"].isin(titles_of_interest_wiki)]"
   ]
  },
  {
   "cell_type": "code",
   "execution_count": 47,
   "metadata": {},
   "outputs": [
    {
     "data": {
      "text/html": [
       "<div>\n",
       "<style scoped>\n",
       "    .dataframe tbody tr th:only-of-type {\n",
       "        vertical-align: middle;\n",
       "    }\n",
       "\n",
       "    .dataframe tbody tr th {\n",
       "        vertical-align: top;\n",
       "    }\n",
       "\n",
       "    .dataframe thead th {\n",
       "        text-align: right;\n",
       "    }\n",
       "</style>\n",
       "<table border=\"1\" class=\"dataframe\">\n",
       "  <thead>\n",
       "    <tr style=\"text-align: right;\">\n",
       "      <th></th>\n",
       "      <th>wiki_movie_id</th>\n",
       "      <th>freebase_movie_id</th>\n",
       "      <th>release_date</th>\n",
       "      <th>character_name</th>\n",
       "      <th>actor_birth</th>\n",
       "      <th>actor_gender</th>\n",
       "      <th>actor_height</th>\n",
       "      <th>actor_ethnicity</th>\n",
       "      <th>actor_name</th>\n",
       "      <th>release_actor_age</th>\n",
       "      <th>freebase_map_id</th>\n",
       "      <th>freebase_character_id</th>\n",
       "      <th>freebase_actor_id</th>\n",
       "    </tr>\n",
       "  </thead>\n",
       "  <tbody>\n",
       "    <tr>\n",
       "      <th>17010</th>\n",
       "      <td>30196675</td>\n",
       "      <td>/m/0djcm_m</td>\n",
       "      <td>2010</td>\n",
       "      <td>Robert</td>\n",
       "      <td>1963-02-04</td>\n",
       "      <td>M</td>\n",
       "      <td>NaN</td>\n",
       "      <td>NaN</td>\n",
       "      <td>Cheung Siu Fai</td>\n",
       "      <td>46.0</td>\n",
       "      <td>/m/0f12mvq</td>\n",
       "      <td>/m/0fpx9bc</td>\n",
       "      <td>/m/0279118</td>\n",
       "    </tr>\n",
       "    <tr>\n",
       "      <th>321021</th>\n",
       "      <td>5230818</td>\n",
       "      <td>/m/0d916c</td>\n",
       "      <td>2002-05-01</td>\n",
       "      <td>Neville</td>\n",
       "      <td>1959-05-29</td>\n",
       "      <td>M</td>\n",
       "      <td>1.83</td>\n",
       "      <td>NaN</td>\n",
       "      <td>Adrian Paul</td>\n",
       "      <td>42.0</td>\n",
       "      <td>/m/0cs2zvk</td>\n",
       "      <td>/m/0lfx0hp</td>\n",
       "      <td>/m/014_4y</td>\n",
       "    </tr>\n",
       "    <tr>\n",
       "      <th>322223</th>\n",
       "      <td>697113</td>\n",
       "      <td>/m/033m2w</td>\n",
       "      <td>1986-07-02</td>\n",
       "      <td>Female Wing Kong Guard</td>\n",
       "      <td>NaN</td>\n",
       "      <td>NaN</td>\n",
       "      <td>NaN</td>\n",
       "      <td>NaN</td>\n",
       "      <td>Lia Chang</td>\n",
       "      <td>NaN</td>\n",
       "      <td>/m/0gcp1jv</td>\n",
       "      <td>/m/0hch98d</td>\n",
       "      <td>/m/0gbygx3</td>\n",
       "    </tr>\n",
       "    <tr>\n",
       "      <th>412814</th>\n",
       "      <td>30050508</td>\n",
       "      <td>/m/04tlxl9</td>\n",
       "      <td>2006</td>\n",
       "      <td>Mr. Wong</td>\n",
       "      <td>1955-01-19</td>\n",
       "      <td>M</td>\n",
       "      <td>NaN</td>\n",
       "      <td>/m/01g7zj</td>\n",
       "      <td>Paul Rodríguez</td>\n",
       "      <td>50.0</td>\n",
       "      <td>/m/04tly5r</td>\n",
       "      <td>/m/0h2xdjk</td>\n",
       "      <td>/m/0766nn</td>\n",
       "    </tr>\n",
       "    <tr>\n",
       "      <th>314803</th>\n",
       "      <td>2102101</td>\n",
       "      <td>/m/06m815</td>\n",
       "      <td>1996-02-23</td>\n",
       "      <td>NaN</td>\n",
       "      <td>1950-02-04</td>\n",
       "      <td>F</td>\n",
       "      <td>NaN</td>\n",
       "      <td>/m/02w7gg</td>\n",
       "      <td>Linda Bassett</td>\n",
       "      <td>46.0</td>\n",
       "      <td>/m/0cs8gvf</td>\n",
       "      <td>NaN</td>\n",
       "      <td>/m/03hg59x</td>\n",
       "    </tr>\n",
       "  </tbody>\n",
       "</table>\n",
       "</div>"
      ],
      "text/plain": [
       "        wiki_movie_id freebase_movie_id release_date          character_name  \\\n",
       "17010        30196675        /m/0djcm_m         2010                  Robert   \n",
       "321021        5230818         /m/0d916c   2002-05-01                 Neville   \n",
       "322223         697113         /m/033m2w   1986-07-02  Female Wing Kong Guard   \n",
       "412814       30050508        /m/04tlxl9         2006                Mr. Wong   \n",
       "314803        2102101         /m/06m815   1996-02-23                     NaN   \n",
       "\n",
       "       actor_birth actor_gender  actor_height actor_ethnicity      actor_name  \\\n",
       "17010   1963-02-04            M           NaN             NaN  Cheung Siu Fai   \n",
       "321021  1959-05-29            M          1.83             NaN     Adrian Paul   \n",
       "322223         NaN          NaN           NaN             NaN       Lia Chang   \n",
       "412814  1955-01-19            M           NaN       /m/01g7zj  Paul Rodríguez   \n",
       "314803  1950-02-04            F           NaN       /m/02w7gg   Linda Bassett   \n",
       "\n",
       "        release_actor_age freebase_map_id freebase_character_id  \\\n",
       "17010                46.0      /m/0f12mvq            /m/0fpx9bc   \n",
       "321021               42.0      /m/0cs2zvk            /m/0lfx0hp   \n",
       "322223                NaN      /m/0gcp1jv            /m/0hch98d   \n",
       "412814               50.0      /m/04tly5r            /m/0h2xdjk   \n",
       "314803               46.0      /m/0cs8gvf                   NaN   \n",
       "\n",
       "       freebase_actor_id  \n",
       "17010         /m/0279118  \n",
       "321021         /m/014_4y  \n",
       "322223        /m/0gbygx3  \n",
       "412814         /m/0766nn  \n",
       "314803        /m/03hg59x  "
      ]
     },
     "execution_count": 47,
     "metadata": {},
     "output_type": "execute_result"
    }
   ],
   "source": [
    "characters_interest.sample(5)"
   ]
  },
  {
   "cell_type": "markdown",
   "metadata": {},
   "source": [
    "## Merge IMDB actors and characters with CMU characters\n",
    "We merge IMDB character and actor data with the CMU data. We make use of the movie translation dataframe again and the actor translation dataframe. We assume that an actor only plays one role in a movie. This is not necessarily true as some actors may play many roles in the same movie, but we assume that those cases are sufficiently rare so that we can ignore them."
   ]
  },
  {
   "cell_type": "code",
   "execution_count": 49,
   "metadata": {},
   "outputs": [],
   "source": [
    "# Actor translation dataframe\n",
    "actor_translation_df = load_actors_translation_df()\n",
    "actor_translation_df = actor_translation_df.rename(columns={'imdb_id' : 'actor_imdb_id', 'freebase_id' : 'actor_freebase_id'})"
   ]
  },
  {
   "cell_type": "code",
   "execution_count": 51,
   "metadata": {},
   "outputs": [],
   "source": [
    "imdb_actors_and_characters_translated = imdb_actors_and_characters.merge(translation_id, how='inner', left_on='tconst', right_on='imdb_id').copy()\n",
    "imdb_actors_and_characters_translated = imdb_actors_and_characters_translated.merge(actor_translation_df, how='inner', left_on='nconst', right_on='actor_imdb_id')\n",
    "imdb_actors_and_characters_translated = imdb_actors_and_characters_translated.drop([\"imdb_id\", \"actor_imdb_id\"], axis=1)"
   ]
  },
  {
   "cell_type": "code",
   "execution_count": 53,
   "metadata": {},
   "outputs": [
    {
     "data": {
      "text/html": [
       "<div>\n",
       "<style scoped>\n",
       "    .dataframe tbody tr th:only-of-type {\n",
       "        vertical-align: middle;\n",
       "    }\n",
       "\n",
       "    .dataframe tbody tr th {\n",
       "        vertical-align: top;\n",
       "    }\n",
       "\n",
       "    .dataframe thead th {\n",
       "        text-align: right;\n",
       "    }\n",
       "</style>\n",
       "<table border=\"1\" class=\"dataframe\">\n",
       "  <thead>\n",
       "    <tr style=\"text-align: right;\">\n",
       "      <th></th>\n",
       "      <th>nconst</th>\n",
       "      <th>knownForTitles</th>\n",
       "      <th>tconst</th>\n",
       "      <th>characters</th>\n",
       "      <th>freebase_id</th>\n",
       "      <th>actor_freebase_id</th>\n",
       "      <th>wiki_movie_id</th>\n",
       "      <th>release_date</th>\n",
       "      <th>actor_birth</th>\n",
       "      <th>actor_gender</th>\n",
       "      <th>actor_height</th>\n",
       "      <th>actor_ethnicity</th>\n",
       "      <th>actor_name</th>\n",
       "      <th>release_actor_age</th>\n",
       "      <th>freebase_map_id</th>\n",
       "      <th>freebase_character_id</th>\n",
       "    </tr>\n",
       "  </thead>\n",
       "  <tbody>\n",
       "    <tr>\n",
       "      <th>56332</th>\n",
       "      <td>nm0620664</td>\n",
       "      <td>tt0494767,tt0188640,tt1353147,tt0257885</td>\n",
       "      <td>tt0468820</td>\n",
       "      <td>[\"Ikeda - Tetsuzô's Friend\"]</td>\n",
       "      <td>/m/0994bg</td>\n",
       "      <td>/m/0gb_s8v</td>\n",
       "      <td>3391405</td>\n",
       "      <td>2005</td>\n",
       "      <td>1957-09-21</td>\n",
       "      <td>M</td>\n",
       "      <td>NaN</td>\n",
       "      <td>NaN</td>\n",
       "      <td>Shiro Namiki</td>\n",
       "      <td>47.0</td>\n",
       "      <td>/m/0gb_s8s</td>\n",
       "      <td>NaN</td>\n",
       "    </tr>\n",
       "    <tr>\n",
       "      <th>55190</th>\n",
       "      <td>nm3887625</td>\n",
       "      <td>tt1939659,tt1706593,tt1809398,tt1517260</td>\n",
       "      <td>tt1647483</td>\n",
       "      <td>[\"Zack\"]</td>\n",
       "      <td>/m/0gjckpz</td>\n",
       "      <td>/m/0f13cn3</td>\n",
       "      <td>31196469</td>\n",
       "      <td>2010-06-13</td>\n",
       "      <td>1987-12-11</td>\n",
       "      <td>M</td>\n",
       "      <td>NaN</td>\n",
       "      <td>NaN</td>\n",
       "      <td>Alex Russell</td>\n",
       "      <td>22.0</td>\n",
       "      <td>/m/0f13cn8</td>\n",
       "      <td>/m/0j1xs9x</td>\n",
       "    </tr>\n",
       "    <tr>\n",
       "      <th>15874</th>\n",
       "      <td>nm0192490</td>\n",
       "      <td>tt0071464,tt0137358,tt0035521,tt0053779</td>\n",
       "      <td>tt0052556</td>\n",
       "      <td>[\"Henri Tournier\"]</td>\n",
       "      <td>/m/0gqr7t</td>\n",
       "      <td>/m/02q2y2l</td>\n",
       "      <td>6821816</td>\n",
       "      <td>1958</td>\n",
       "      <td>1908-07-12</td>\n",
       "      <td>M</td>\n",
       "      <td>NaN</td>\n",
       "      <td>NaN</td>\n",
       "      <td>Alain Cuny</td>\n",
       "      <td>49.0</td>\n",
       "      <td>/m/0b_8ylp</td>\n",
       "      <td>NaN</td>\n",
       "    </tr>\n",
       "    <tr>\n",
       "      <th>15161</th>\n",
       "      <td>nm0000608</td>\n",
       "      <td>tt0118749,tt0076729,tt0082136,tt0117765</td>\n",
       "      <td>tt0239467</td>\n",
       "      <td>[\"Kage Mulligan\"]</td>\n",
       "      <td>/m/0b6lds_</td>\n",
       "      <td>/m/0187y5</td>\n",
       "      <td>26137841</td>\n",
       "      <td>2001</td>\n",
       "      <td>1936-02-11</td>\n",
       "      <td>M</td>\n",
       "      <td>1.8</td>\n",
       "      <td>NaN</td>\n",
       "      <td>Burt Reynolds</td>\n",
       "      <td>64.0</td>\n",
       "      <td>/m/0ggd76d</td>\n",
       "      <td>/m/0h14h39</td>\n",
       "    </tr>\n",
       "    <tr>\n",
       "      <th>2397</th>\n",
       "      <td>nm0000024</td>\n",
       "      <td>tt0045943,tt0071877,tt0117631,tt0082031</td>\n",
       "      <td>tt0059012</td>\n",
       "      <td>[\"Henry IV\"]</td>\n",
       "      <td>/m/07jpg0</td>\n",
       "      <td>/m/016ggh</td>\n",
       "      <td>2507217</td>\n",
       "      <td>1965</td>\n",
       "      <td>1904-04-14</td>\n",
       "      <td>M</td>\n",
       "      <td>1.8</td>\n",
       "      <td>NaN</td>\n",
       "      <td>John Gielgud</td>\n",
       "      <td>60.0</td>\n",
       "      <td>/m/0jwcbv</td>\n",
       "      <td>NaN</td>\n",
       "    </tr>\n",
       "  </tbody>\n",
       "</table>\n",
       "</div>"
      ],
      "text/plain": [
       "          nconst                           knownForTitles     tconst  \\\n",
       "56332  nm0620664  tt0494767,tt0188640,tt1353147,tt0257885  tt0468820   \n",
       "55190  nm3887625  tt1939659,tt1706593,tt1809398,tt1517260  tt1647483   \n",
       "15874  nm0192490  tt0071464,tt0137358,tt0035521,tt0053779  tt0052556   \n",
       "15161  nm0000608  tt0118749,tt0076729,tt0082136,tt0117765  tt0239467   \n",
       "2397   nm0000024  tt0045943,tt0071877,tt0117631,tt0082031  tt0059012   \n",
       "\n",
       "                         characters freebase_id actor_freebase_id  \\\n",
       "56332  [\"Ikeda - Tetsuzô's Friend\"]   /m/0994bg        /m/0gb_s8v   \n",
       "55190                      [\"Zack\"]  /m/0gjckpz        /m/0f13cn3   \n",
       "15874            [\"Henri Tournier\"]   /m/0gqr7t        /m/02q2y2l   \n",
       "15161             [\"Kage Mulligan\"]  /m/0b6lds_         /m/0187y5   \n",
       "2397                   [\"Henry IV\"]   /m/07jpg0         /m/016ggh   \n",
       "\n",
       "       wiki_movie_id release_date actor_birth actor_gender  actor_height  \\\n",
       "56332        3391405         2005  1957-09-21            M           NaN   \n",
       "55190       31196469   2010-06-13  1987-12-11            M           NaN   \n",
       "15874        6821816         1958  1908-07-12            M           NaN   \n",
       "15161       26137841         2001  1936-02-11            M           1.8   \n",
       "2397         2507217         1965  1904-04-14            M           1.8   \n",
       "\n",
       "      actor_ethnicity     actor_name  release_actor_age freebase_map_id  \\\n",
       "56332             NaN   Shiro Namiki               47.0      /m/0gb_s8s   \n",
       "55190             NaN   Alex Russell               22.0      /m/0f13cn8   \n",
       "15874             NaN     Alain Cuny               49.0      /m/0b_8ylp   \n",
       "15161             NaN  Burt Reynolds               64.0      /m/0ggd76d   \n",
       "2397              NaN   John Gielgud               60.0       /m/0jwcbv   \n",
       "\n",
       "      freebase_character_id  \n",
       "56332                   NaN  \n",
       "55190            /m/0j1xs9x  \n",
       "15874                   NaN  \n",
       "15161            /m/0h14h39  \n",
       "2397                    NaN  "
      ]
     },
     "execution_count": 53,
     "metadata": {},
     "output_type": "execute_result"
    }
   ],
   "source": [
    "# TODO, currently merging on movie id and actor name. Would rather merge with actor id too but a translation is needed\n",
    "imdb_actors_w_cmu_characters = imdb_actors_and_characters_translated.merge(characters_interest, how='inner', left_on=['freebase_id', 'actor_freebase_id'], \n",
    "                                                                           right_on=['freebase_movie_id', 'freebase_actor_id']).copy()\n",
    "\n",
    "# Merge birth year information\n",
    "missing_birth_years = imdb_actors_w_cmu_characters[imdb_actors_w_cmu_characters['actor_birth'].isna()].index\n",
    "imdb_actors_w_cmu_characters.loc[missing_birth_years, 'actor_birth'] = imdb_actors_w_cmu_characters.loc[missing_birth_years, 'birthYear']\n",
    "\n",
    "imdb_actors_w_cmu_characters = imdb_actors_w_cmu_characters.drop([\"freebase_movie_id\", \"freebase_actor_id\", \"primaryName\", \"deathYear\", \"birthYear\", \"character_name\"], axis=1)\n",
    "\n",
    "imdb_actors_w_cmu_characters = imdb_actors_w_cmu_characters.drop_duplicates()\n",
    "\n",
    "imdb_actors_w_cmu_characters.sample(5)"
   ]
  },
  {
   "cell_type": "markdown",
   "metadata": {},
   "source": [
    "## Summary of results for part I\n",
    "We now have two main dataframes for further analysis. One containing everything related to movies and their ratings and the other containing everything related to actors, their features and characters they played in a given movie."
   ]
  },
  {
   "cell_type": "code",
   "execution_count": 55,
   "metadata": {},
   "outputs": [],
   "source": [
    "movies = cmu_movies_w_imdb_rating.copy()\n",
    "actors_characters = imdb_actors_w_cmu_characters.copy()"
   ]
  },
  {
   "cell_type": "code",
   "execution_count": 56,
   "metadata": {},
   "outputs": [
    {
     "data": {
      "text/html": [
       "<div>\n",
       "<style scoped>\n",
       "    .dataframe tbody tr th:only-of-type {\n",
       "        vertical-align: middle;\n",
       "    }\n",
       "\n",
       "    .dataframe tbody tr th {\n",
       "        vertical-align: top;\n",
       "    }\n",
       "\n",
       "    .dataframe thead th {\n",
       "        text-align: right;\n",
       "    }\n",
       "</style>\n",
       "<table border=\"1\" class=\"dataframe\">\n",
       "  <thead>\n",
       "    <tr style=\"text-align: right;\">\n",
       "      <th></th>\n",
       "      <th>tconst</th>\n",
       "      <th>runtimeMinutes</th>\n",
       "      <th>genres</th>\n",
       "      <th>averageRating</th>\n",
       "      <th>numVotes</th>\n",
       "      <th>freebase_id</th>\n",
       "      <th>wiki_movie_id</th>\n",
       "      <th>movie_name</th>\n",
       "      <th>movie_release_date</th>\n",
       "      <th>box_office</th>\n",
       "      <th>movie_languages</th>\n",
       "      <th>movie_countries</th>\n",
       "      <th>movie_genres</th>\n",
       "      <th>plot_summary</th>\n",
       "    </tr>\n",
       "  </thead>\n",
       "  <tbody>\n",
       "    <tr>\n",
       "      <th>0</th>\n",
       "      <td>tt0000009</td>\n",
       "      <td>45</td>\n",
       "      <td>Romance</td>\n",
       "      <td>5.3</td>\n",
       "      <td>207</td>\n",
       "      <td>/m/02q23xk</td>\n",
       "      <td>10109752</td>\n",
       "      <td>Miss Jerry</td>\n",
       "      <td>1894-10-09</td>\n",
       "      <td>NaN</td>\n",
       "      <td>{'/m/06ppq': 'Silent film'}</td>\n",
       "      <td>{'/m/09c7w0': 'United States of America'}</td>\n",
       "      <td>{'/m/02hmvc': 'Short Film', '/m/06ppq': 'Silen...</td>\n",
       "      <td>After finding out that her father is suffering...</td>\n",
       "    </tr>\n",
       "    <tr>\n",
       "      <th>1</th>\n",
       "      <td>tt0000147</td>\n",
       "      <td>100</td>\n",
       "      <td>Documentary,News,Sport</td>\n",
       "      <td>5.3</td>\n",
       "      <td>484</td>\n",
       "      <td>/m/0czdh_n</td>\n",
       "      <td>28703057</td>\n",
       "      <td>The Corbett-Fitzsimmons Fight</td>\n",
       "      <td>1897-05-22</td>\n",
       "      <td>100000.0</td>\n",
       "      <td>{}</td>\n",
       "      <td>{}</td>\n",
       "      <td>{'/m/01z02hx': 'Sports'}</td>\n",
       "      <td>The film no longer exists in its entirety; how...</td>\n",
       "    </tr>\n",
       "    <tr>\n",
       "      <th>2</th>\n",
       "      <td>tt0000574</td>\n",
       "      <td>70</td>\n",
       "      <td>Action,Adventure,Biography</td>\n",
       "      <td>6.0</td>\n",
       "      <td>854</td>\n",
       "      <td>/m/0120y4</td>\n",
       "      <td>142995</td>\n",
       "      <td>The Story of the Kelly Gang</td>\n",
       "      <td>1906-12-26</td>\n",
       "      <td>NaN</td>\n",
       "      <td>{'/m/02h40lc': 'English Language'}</td>\n",
       "      <td>{'/m/0chghy': 'Australia'}</td>\n",
       "      <td>{'/m/0lsxr': 'Crime Fiction', '/m/06ppq': 'Sil...</td>\n",
       "      <td>The Story of the Kelly Gangs tone is of sorrow...</td>\n",
       "    </tr>\n",
       "    <tr>\n",
       "      <th>3</th>\n",
       "      <td>tt0000591</td>\n",
       "      <td>90</td>\n",
       "      <td>Drama</td>\n",
       "      <td>5.0</td>\n",
       "      <td>21</td>\n",
       "      <td>/m/07s67rr</td>\n",
       "      <td>4849466</td>\n",
       "      <td>L'Enfant prodigue</td>\n",
       "      <td>1907-06-20</td>\n",
       "      <td>NaN</td>\n",
       "      <td>{'/m/064_8sq': 'French Language'}</td>\n",
       "      <td>{'/m/0f8l9c': 'France'}</td>\n",
       "      <td>{'/m/02hmvc': 'Short Film', '/m/06ppq': 'Silen...</td>\n",
       "      <td>NaN</td>\n",
       "    </tr>\n",
       "    <tr>\n",
       "      <th>4</th>\n",
       "      <td>tt0000679</td>\n",
       "      <td>120</td>\n",
       "      <td>Adventure,Fantasy</td>\n",
       "      <td>5.1</td>\n",
       "      <td>68</td>\n",
       "      <td>/m/0fgfyy</td>\n",
       "      <td>5954041</td>\n",
       "      <td>The Fairylogue and Radio-Plays</td>\n",
       "      <td>1908-09-24</td>\n",
       "      <td>NaN</td>\n",
       "      <td>{'/m/02h40lc': 'English Language'}</td>\n",
       "      <td>{'/m/09c7w0': 'United States of America'}</td>\n",
       "      <td>{'/m/06ppq': 'Silent film', '/m/01g6gs': 'Blac...</td>\n",
       "      <td>NaN</td>\n",
       "    </tr>\n",
       "  </tbody>\n",
       "</table>\n",
       "</div>"
      ],
      "text/plain": [
       "      tconst runtimeMinutes                      genres  averageRating  \\\n",
       "0  tt0000009             45                     Romance            5.3   \n",
       "1  tt0000147            100      Documentary,News,Sport            5.3   \n",
       "2  tt0000574             70  Action,Adventure,Biography            6.0   \n",
       "3  tt0000591             90                       Drama            5.0   \n",
       "4  tt0000679            120           Adventure,Fantasy            5.1   \n",
       "\n",
       "   numVotes freebase_id  wiki_movie_id                      movie_name  \\\n",
       "0       207  /m/02q23xk       10109752                      Miss Jerry   \n",
       "1       484  /m/0czdh_n       28703057   The Corbett-Fitzsimmons Fight   \n",
       "2       854   /m/0120y4         142995     The Story of the Kelly Gang   \n",
       "3        21  /m/07s67rr        4849466               L'Enfant prodigue   \n",
       "4        68   /m/0fgfyy        5954041  The Fairylogue and Radio-Plays   \n",
       "\n",
       "  movie_release_date  box_office                     movie_languages  \\\n",
       "0         1894-10-09         NaN         {'/m/06ppq': 'Silent film'}   \n",
       "1         1897-05-22    100000.0                                  {}   \n",
       "2         1906-12-26         NaN  {'/m/02h40lc': 'English Language'}   \n",
       "3         1907-06-20         NaN   {'/m/064_8sq': 'French Language'}   \n",
       "4         1908-09-24         NaN  {'/m/02h40lc': 'English Language'}   \n",
       "\n",
       "                             movie_countries  \\\n",
       "0  {'/m/09c7w0': 'United States of America'}   \n",
       "1                                         {}   \n",
       "2                 {'/m/0chghy': 'Australia'}   \n",
       "3                    {'/m/0f8l9c': 'France'}   \n",
       "4  {'/m/09c7w0': 'United States of America'}   \n",
       "\n",
       "                                        movie_genres  \\\n",
       "0  {'/m/02hmvc': 'Short Film', '/m/06ppq': 'Silen...   \n",
       "1                           {'/m/01z02hx': 'Sports'}   \n",
       "2  {'/m/0lsxr': 'Crime Fiction', '/m/06ppq': 'Sil...   \n",
       "3  {'/m/02hmvc': 'Short Film', '/m/06ppq': 'Silen...   \n",
       "4  {'/m/06ppq': 'Silent film', '/m/01g6gs': 'Blac...   \n",
       "\n",
       "                                        plot_summary  \n",
       "0  After finding out that her father is suffering...  \n",
       "1  The film no longer exists in its entirety; how...  \n",
       "2  The Story of the Kelly Gangs tone is of sorrow...  \n",
       "3                                                NaN  \n",
       "4                                                NaN  "
      ]
     },
     "execution_count": 56,
     "metadata": {},
     "output_type": "execute_result"
    }
   ],
   "source": [
    "movies.head()"
   ]
  },
  {
   "cell_type": "code",
   "execution_count": 57,
   "metadata": {
    "scrolled": true
   },
   "outputs": [
    {
     "data": {
      "text/html": [
       "<div>\n",
       "<style scoped>\n",
       "    .dataframe tbody tr th:only-of-type {\n",
       "        vertical-align: middle;\n",
       "    }\n",
       "\n",
       "    .dataframe tbody tr th {\n",
       "        vertical-align: top;\n",
       "    }\n",
       "\n",
       "    .dataframe thead th {\n",
       "        text-align: right;\n",
       "    }\n",
       "</style>\n",
       "<table border=\"1\" class=\"dataframe\">\n",
       "  <thead>\n",
       "    <tr style=\"text-align: right;\">\n",
       "      <th></th>\n",
       "      <th>nconst</th>\n",
       "      <th>knownForTitles</th>\n",
       "      <th>tconst</th>\n",
       "      <th>characters</th>\n",
       "      <th>freebase_id</th>\n",
       "      <th>actor_freebase_id</th>\n",
       "      <th>wiki_movie_id</th>\n",
       "      <th>release_date</th>\n",
       "      <th>actor_birth</th>\n",
       "      <th>actor_gender</th>\n",
       "      <th>actor_height</th>\n",
       "      <th>actor_ethnicity</th>\n",
       "      <th>actor_name</th>\n",
       "      <th>release_actor_age</th>\n",
       "      <th>freebase_map_id</th>\n",
       "      <th>freebase_character_id</th>\n",
       "    </tr>\n",
       "  </thead>\n",
       "  <tbody>\n",
       "    <tr>\n",
       "      <th>0</th>\n",
       "      <td>nm0000001</td>\n",
       "      <td>tt0053137,tt0031983,tt0050419,tt0072308</td>\n",
       "      <td>tt0025164</td>\n",
       "      <td>[\"Guy Holden\"]</td>\n",
       "      <td>/m/0glnm</td>\n",
       "      <td>/m/0h953</td>\n",
       "      <td>61169</td>\n",
       "      <td>1934</td>\n",
       "      <td>1899-05-10</td>\n",
       "      <td>M</td>\n",
       "      <td>1.75</td>\n",
       "      <td>/m/01qhm_</td>\n",
       "      <td>Fred Astaire</td>\n",
       "      <td>NaN</td>\n",
       "      <td>/m/0k557x</td>\n",
       "      <td>/m/0h184w0</td>\n",
       "    </tr>\n",
       "    <tr>\n",
       "      <th>1</th>\n",
       "      <td>nm0000001</td>\n",
       "      <td>tt0053137,tt0031983,tt0050419,tt0072308</td>\n",
       "      <td>tt0026942</td>\n",
       "      <td>[\"Huck Haines\"]</td>\n",
       "      <td>/m/02x5h46</td>\n",
       "      <td>/m/0h953</td>\n",
       "      <td>12800555</td>\n",
       "      <td>1935-03-08</td>\n",
       "      <td>1899-05-10</td>\n",
       "      <td>M</td>\n",
       "      <td>1.75</td>\n",
       "      <td>/m/01qhm_</td>\n",
       "      <td>Fred Astaire</td>\n",
       "      <td>NaN</td>\n",
       "      <td>/m/03l20gb</td>\n",
       "      <td>/m/0h184_z</td>\n",
       "    </tr>\n",
       "    <tr>\n",
       "      <th>2</th>\n",
       "      <td>nm0000001</td>\n",
       "      <td>tt0053137,tt0031983,tt0050419,tt0072308</td>\n",
       "      <td>tt0027125</td>\n",
       "      <td>[\"Jerry Travers\"]</td>\n",
       "      <td>/m/0gnjh</td>\n",
       "      <td>/m/0h953</td>\n",
       "      <td>61501</td>\n",
       "      <td>1935</td>\n",
       "      <td>1899-05-10</td>\n",
       "      <td>M</td>\n",
       "      <td>1.75</td>\n",
       "      <td>/m/01qhm_</td>\n",
       "      <td>Fred Astaire</td>\n",
       "      <td>NaN</td>\n",
       "      <td>/m/0k77vk</td>\n",
       "      <td>/m/0h184_5</td>\n",
       "    </tr>\n",
       "    <tr>\n",
       "      <th>3</th>\n",
       "      <td>nm0000001</td>\n",
       "      <td>tt0053137,tt0031983,tt0050419,tt0072308</td>\n",
       "      <td>tt0027630</td>\n",
       "      <td>[\"Bake Baker\"]</td>\n",
       "      <td>/m/08d56_</td>\n",
       "      <td>/m/0h953</td>\n",
       "      <td>2926860</td>\n",
       "      <td>1936-02-20</td>\n",
       "      <td>1899-05-10</td>\n",
       "      <td>M</td>\n",
       "      <td>1.75</td>\n",
       "      <td>/m/01qhm_</td>\n",
       "      <td>Fred Astaire</td>\n",
       "      <td>NaN</td>\n",
       "      <td>/m/0jybbh</td>\n",
       "      <td>/m/0h184vt</td>\n",
       "    </tr>\n",
       "    <tr>\n",
       "      <th>4</th>\n",
       "      <td>nm0000001</td>\n",
       "      <td>tt0053137,tt0031983,tt0050419,tt0072308</td>\n",
       "      <td>tt0028333</td>\n",
       "      <td>[\"Lucky Garnett\"]</td>\n",
       "      <td>/m/03pw28</td>\n",
       "      <td>/m/0h953</td>\n",
       "      <td>919005</td>\n",
       "      <td>1936</td>\n",
       "      <td>1899-05-10</td>\n",
       "      <td>M</td>\n",
       "      <td>1.75</td>\n",
       "      <td>/m/01qhm_</td>\n",
       "      <td>Fred Astaire</td>\n",
       "      <td>NaN</td>\n",
       "      <td>/m/0k407p</td>\n",
       "      <td>/m/0h184vl</td>\n",
       "    </tr>\n",
       "  </tbody>\n",
       "</table>\n",
       "</div>"
      ],
      "text/plain": [
       "      nconst                           knownForTitles     tconst  \\\n",
       "0  nm0000001  tt0053137,tt0031983,tt0050419,tt0072308  tt0025164   \n",
       "1  nm0000001  tt0053137,tt0031983,tt0050419,tt0072308  tt0026942   \n",
       "2  nm0000001  tt0053137,tt0031983,tt0050419,tt0072308  tt0027125   \n",
       "3  nm0000001  tt0053137,tt0031983,tt0050419,tt0072308  tt0027630   \n",
       "4  nm0000001  tt0053137,tt0031983,tt0050419,tt0072308  tt0028333   \n",
       "\n",
       "          characters freebase_id actor_freebase_id  wiki_movie_id  \\\n",
       "0     [\"Guy Holden\"]    /m/0glnm          /m/0h953          61169   \n",
       "1    [\"Huck Haines\"]  /m/02x5h46          /m/0h953       12800555   \n",
       "2  [\"Jerry Travers\"]    /m/0gnjh          /m/0h953          61501   \n",
       "3     [\"Bake Baker\"]   /m/08d56_          /m/0h953        2926860   \n",
       "4  [\"Lucky Garnett\"]   /m/03pw28          /m/0h953         919005   \n",
       "\n",
       "  release_date actor_birth actor_gender  actor_height actor_ethnicity  \\\n",
       "0         1934  1899-05-10            M          1.75       /m/01qhm_   \n",
       "1   1935-03-08  1899-05-10            M          1.75       /m/01qhm_   \n",
       "2         1935  1899-05-10            M          1.75       /m/01qhm_   \n",
       "3   1936-02-20  1899-05-10            M          1.75       /m/01qhm_   \n",
       "4         1936  1899-05-10            M          1.75       /m/01qhm_   \n",
       "\n",
       "     actor_name  release_actor_age freebase_map_id freebase_character_id  \n",
       "0  Fred Astaire                NaN       /m/0k557x            /m/0h184w0  \n",
       "1  Fred Astaire                NaN      /m/03l20gb            /m/0h184_z  \n",
       "2  Fred Astaire                NaN       /m/0k77vk            /m/0h184_5  \n",
       "3  Fred Astaire                NaN       /m/0jybbh            /m/0h184vt  \n",
       "4  Fred Astaire                NaN       /m/0k407p            /m/0h184vl  "
      ]
     },
     "execution_count": 57,
     "metadata": {},
     "output_type": "execute_result"
    }
   ],
   "source": [
    "actors_characters.head()"
   ]
  },
  {
   "cell_type": "code",
   "execution_count": 58,
   "metadata": {},
   "outputs": [],
   "source": [
    "movies.to_json(os.path.join(SAVE_PATH, \"movies.json\"), orient='records')"
   ]
  },
  {
   "cell_type": "code",
   "execution_count": 59,
   "metadata": {},
   "outputs": [],
   "source": [
    "actors_characters.to_json(os.path.join(SAVE_PATH, \"characters.json\"), orient='records')"
   ]
  },
  {
   "cell_type": "markdown",
   "metadata": {},
   "source": [
    "# Part II: Personas"
   ]
  },
  {
   "cell_type": "code",
   "execution_count": 60,
   "metadata": {},
   "outputs": [],
   "source": [
    "# Load results of part I\n",
    "movies = pd.read_json(os.path.join(SAVE_PATH, \"movies.json\"))\n",
    "actors_characters = pd.read_json(os.path.join(SAVE_PATH, \"characters.json\"))"
   ]
  },
  {
   "cell_type": "markdown",
   "metadata": {},
   "source": [
    "## TVTropes personas\n",
    "We now load the 500 personas records we extracted from TVTropes"
   ]
  },
  {
   "cell_type": "code",
   "execution_count": 61,
   "metadata": {},
   "outputs": [
    {
     "data": {
      "text/html": [
       "<div>\n",
       "<style scoped>\n",
       "    .dataframe tbody tr th:only-of-type {\n",
       "        vertical-align: middle;\n",
       "    }\n",
       "\n",
       "    .dataframe tbody tr th {\n",
       "        vertical-align: top;\n",
       "    }\n",
       "\n",
       "    .dataframe thead th {\n",
       "        text-align: right;\n",
       "    }\n",
       "</style>\n",
       "<table border=\"1\" class=\"dataframe\">\n",
       "  <thead>\n",
       "    <tr style=\"text-align: right;\">\n",
       "      <th></th>\n",
       "      <th>id</th>\n",
       "      <th>trope</th>\n",
       "      <th>actor</th>\n",
       "      <th>character</th>\n",
       "      <th>movie_name</th>\n",
       "    </tr>\n",
       "  </thead>\n",
       "  <tbody>\n",
       "    <tr>\n",
       "      <th>0</th>\n",
       "      <td>/m/02wszk9</td>\n",
       "      <td>chanteuse</td>\n",
       "      <td>Kathleen Turner</td>\n",
       "      <td>Jessica Rabbit</td>\n",
       "      <td>Who Framed Roger Rabbit</td>\n",
       "    </tr>\n",
       "    <tr>\n",
       "      <th>1</th>\n",
       "      <td>/m/0k5wls</td>\n",
       "      <td>chanteuse</td>\n",
       "      <td>Cameron Diaz</td>\n",
       "      <td>Tina Carlyle</td>\n",
       "      <td>The Mask</td>\n",
       "    </tr>\n",
       "    <tr>\n",
       "      <th>2</th>\n",
       "      <td>/m/0k50tl</td>\n",
       "      <td>chanteuse</td>\n",
       "      <td>Michelle Pfeiffer</td>\n",
       "      <td>Susie Diamond</td>\n",
       "      <td>The Fabulous Baker Boys</td>\n",
       "    </tr>\n",
       "    <tr>\n",
       "      <th>3</th>\n",
       "      <td>/m/0k3j8v</td>\n",
       "      <td>chanteuse</td>\n",
       "      <td>Marilyn Monroe</td>\n",
       "      <td>Sugar Kane Kowalczyk</td>\n",
       "      <td>Some Like It Hot</td>\n",
       "    </tr>\n",
       "    <tr>\n",
       "      <th>4</th>\n",
       "      <td>/m/0jvlc4</td>\n",
       "      <td>chanteuse</td>\n",
       "      <td>Isabella Rossellini</td>\n",
       "      <td>Dorothy Vallens</td>\n",
       "      <td>Blue Velvet</td>\n",
       "    </tr>\n",
       "  </tbody>\n",
       "</table>\n",
       "</div>"
      ],
      "text/plain": [
       "           id      trope                actor             character  \\\n",
       "0  /m/02wszk9  chanteuse      Kathleen Turner        Jessica Rabbit   \n",
       "1   /m/0k5wls  chanteuse         Cameron Diaz          Tina Carlyle   \n",
       "2   /m/0k50tl  chanteuse    Michelle Pfeiffer         Susie Diamond   \n",
       "3   /m/0k3j8v  chanteuse       Marilyn Monroe  Sugar Kane Kowalczyk   \n",
       "4   /m/0jvlc4  chanteuse  Isabella Rossellini       Dorothy Vallens   \n",
       "\n",
       "                movie_name  \n",
       "0  Who Framed Roger Rabbit  \n",
       "1                 The Mask  \n",
       "2  The Fabulous Baker Boys  \n",
       "3         Some Like It Hot  \n",
       "4              Blue Velvet  "
      ]
     },
     "execution_count": 61,
     "metadata": {},
     "output_type": "execute_result"
    }
   ],
   "source": [
    "tvtropes_personas = load_tv_tropes_personas_df()\n",
    "tvtropes_personas.head()"
   ]
  },
  {
   "cell_type": "markdown",
   "metadata": {},
   "source": [
    "### Analyse tropes per actor\n",
    "Let's see if actors have diverse tropes"
   ]
  },
  {
   "cell_type": "code",
   "execution_count": 62,
   "metadata": {},
   "outputs": [],
   "source": [
    "tvtropes_per_actor = tvtropes_personas[[\"actor\", \"trope\"]].copy().groupby(\"actor\").agg(list).reset_index()"
   ]
  },
  {
   "cell_type": "code",
   "execution_count": 63,
   "metadata": {},
   "outputs": [],
   "source": [
    "tvtropes_per_actor[\"num_tropes\"] = tvtropes_per_actor[\"trope\"].apply(lambda ls: len(list(dict.fromkeys(ls))))"
   ]
  },
  {
   "cell_type": "code",
   "execution_count": 64,
   "metadata": {},
   "outputs": [],
   "source": [
    "tvtropes_per_actor = tvtropes_per_actor.sort_values(\"num_tropes\", ascending = False)"
   ]
  },
  {
   "cell_type": "code",
   "execution_count": 65,
   "metadata": {},
   "outputs": [
    {
     "data": {
      "text/html": [
       "<div>\n",
       "<style scoped>\n",
       "    .dataframe tbody tr th:only-of-type {\n",
       "        vertical-align: middle;\n",
       "    }\n",
       "\n",
       "    .dataframe tbody tr th {\n",
       "        vertical-align: top;\n",
       "    }\n",
       "\n",
       "    .dataframe thead th {\n",
       "        text-align: right;\n",
       "    }\n",
       "</style>\n",
       "<table border=\"1\" class=\"dataframe\">\n",
       "  <thead>\n",
       "    <tr style=\"text-align: right;\">\n",
       "      <th></th>\n",
       "      <th>actor</th>\n",
       "      <th>trope</th>\n",
       "      <th>num_tropes</th>\n",
       "    </tr>\n",
       "  </thead>\n",
       "  <tbody>\n",
       "    <tr>\n",
       "      <th>166</th>\n",
       "      <td>Johnny Depp</td>\n",
       "      <td>[casanova, charmer, byronic_hero, byronic_hero...</td>\n",
       "      <td>7</td>\n",
       "    </tr>\n",
       "    <tr>\n",
       "      <th>279</th>\n",
       "      <td>Robert De Niro</td>\n",
       "      <td>[crazy_jealous_guy, crazy_jealous_guy, tranqui...</td>\n",
       "      <td>6</td>\n",
       "    </tr>\n",
       "    <tr>\n",
       "      <th>109</th>\n",
       "      <td>Harrison Ford</td>\n",
       "      <td>[charmer, bounty_hunter, loveable_rogue, trick...</td>\n",
       "      <td>6</td>\n",
       "    </tr>\n",
       "    <tr>\n",
       "      <th>57</th>\n",
       "      <td>Clint Eastwood</td>\n",
       "      <td>[retired_outlaw, heartbroken_badass, bounty_hu...</td>\n",
       "      <td>6</td>\n",
       "    </tr>\n",
       "    <tr>\n",
       "      <th>64</th>\n",
       "      <td>Daniel Craig</td>\n",
       "      <td>[cultured_badass, heartbroken_badass, charmer,...</td>\n",
       "      <td>5</td>\n",
       "    </tr>\n",
       "  </tbody>\n",
       "</table>\n",
       "</div>"
      ],
      "text/plain": [
       "              actor                                              trope  \\\n",
       "166     Johnny Depp  [casanova, charmer, byronic_hero, byronic_hero...   \n",
       "279  Robert De Niro  [crazy_jealous_guy, crazy_jealous_guy, tranqui...   \n",
       "109   Harrison Ford  [charmer, bounty_hunter, loveable_rogue, trick...   \n",
       "57   Clint Eastwood  [retired_outlaw, heartbroken_badass, bounty_hu...   \n",
       "64     Daniel Craig  [cultured_badass, heartbroken_badass, charmer,...   \n",
       "\n",
       "     num_tropes  \n",
       "166           7  \n",
       "279           6  \n",
       "109           6  \n",
       "57            6  \n",
       "64            5  "
      ]
     },
     "execution_count": 65,
     "metadata": {},
     "output_type": "execute_result"
    }
   ],
   "source": [
    "tvtropes_per_actor.head()"
   ]
  },
  {
   "cell_type": "code",
   "execution_count": 66,
   "metadata": {},
   "outputs": [
    {
     "data": {
      "image/png": "[encoded data removed]",
      "text/plain": [
       "<Figure size 720x576 with 1 Axes>"
      ]
     },
     "metadata": {
      "needs_background": "light"
     },
     "output_type": "display_data"
    }
   ],
   "source": [
    "plt.figure(figsize=(10, 8))\n",
    "sns.barplot(data = tvtropes_per_actor.head(35), x=\"num_tropes\", y=\"actor\", orient='h')\n",
    "plt.xlabel('Number of Tropes')\n",
    "plt.ylabel('Actor')\n",
    "plt.title('Top 20 actors with the most diverse tropes')\n",
    "plt.show()"
   ]
  },
  {
   "cell_type": "markdown",
   "metadata": {},
   "source": [
    "As we can see we have a problem. We only have very few well known actors with multiple personas. This makes further analysis impossible with this dataset"
   ]
  },
  {
   "cell_type": "markdown",
   "metadata": {},
   "source": [
    "### Analyse frequency of tropes when joined with our movies\n",
    "This merging step is far from perfect as we have to merge on movie name, which is not a primary key. The generated data is widely unreliable, but we still plot it to get an idea of the distribution of personas."
   ]
  },
  {
   "cell_type": "code",
   "execution_count": 67,
   "metadata": {},
   "outputs": [],
   "source": [
    "tvtropes_personas_std = tvtropes_personas.copy()\n",
    "tvtropes_personas_std['movie_name_standardized'] = tvtropes_personas_std['movie_name'].str.lower()"
   ]
  },
  {
   "cell_type": "code",
   "execution_count": 68,
   "metadata": {},
   "outputs": [],
   "source": [
    "movies_std = movies.copy()\n",
    "movies_std['movie_name_standardized'] = movies_std['movie_name'].str.lower()"
   ]
  },
  {
   "cell_type": "code",
   "execution_count": 69,
   "metadata": {},
   "outputs": [],
   "source": [
    "movies_personas = movies_std.merge(tvtropes_personas_std, on='movie_name_standardized', how='inner')"
   ]
  },
  {
   "cell_type": "code",
   "execution_count": 70,
   "metadata": {},
   "outputs": [
    {
     "data": {
      "image/png": "[encoded data removed]",
      "text/plain": [
       "<Figure size 1440x1296 with 1 Axes>"
      ]
     },
     "metadata": {
      "needs_background": "light"
     },
     "output_type": "display_data"
    }
   ],
   "source": [
    "trope_value_counts = movies_personas['trope'].value_counts()\n",
    "\n",
    "plt.figure(figsize=(20, 18))\n",
    "trope_value_counts.plot(kind='barh')\n",
    "plt.xlabel('Count')\n",
    "plt.ylabel('Tropes')\n",
    "plt.title('Frequency of Tropes in Movies')\n",
    "plt.gca().invert_yaxis()\n",
    "plt.show()"
   ]
  },
  {
   "cell_type": "markdown",
   "metadata": {},
   "source": [
    "## CMU personas with characters\n",
    "We merge the actors and characters information we extracted in part I with the personas from the original paper"
   ]
  },
  {
   "cell_type": "code",
   "execution_count": 71,
   "metadata": {},
   "outputs": [],
   "source": [
    "cmu_personas = load_personas()"
   ]
  },
  {
   "cell_type": "code",
   "execution_count": 72,
   "metadata": {},
   "outputs": [
    {
     "data": {
      "text/html": [
       "<div>\n",
       "<style scoped>\n",
       "    .dataframe tbody tr th:only-of-type {\n",
       "        vertical-align: middle;\n",
       "    }\n",
       "\n",
       "    .dataframe tbody tr th {\n",
       "        vertical-align: top;\n",
       "    }\n",
       "\n",
       "    .dataframe thead th {\n",
       "        text-align: right;\n",
       "    }\n",
       "</style>\n",
       "<table border=\"1\" class=\"dataframe\">\n",
       "  <thead>\n",
       "    <tr style=\"text-align: right;\">\n",
       "      <th></th>\n",
       "      <th>freebase_id</th>\n",
       "      <th>wiki_id</th>\n",
       "      <th>movie_name</th>\n",
       "      <th>secondary_name</th>\n",
       "      <th>full_name</th>\n",
       "      <th>token_occurences</th>\n",
       "      <th>estimated_trope</th>\n",
       "      <th>trope_distrib</th>\n",
       "    </tr>\n",
       "  </thead>\n",
       "  <tbody>\n",
       "    <tr>\n",
       "      <th>168789</th>\n",
       "      <td>/m/062_92n</td>\n",
       "      <td>8619888</td>\n",
       "      <td>Next Avengers: Heroes of Tomorrow</td>\n",
       "      <td>Iron Man</td>\n",
       "      <td>Iron Man-style</td>\n",
       "      <td>3</td>\n",
       "      <td>29</td>\n",
       "      <td>[0.0, 0.0, 0.0, 0.0, 0.0, 0.02, 0.0, 0.0, 0.0,...</td>\n",
       "    </tr>\n",
       "    <tr>\n",
       "      <th>13319</th>\n",
       "      <td>e14</td>\n",
       "      <td>12098160</td>\n",
       "      <td>Strange Bedfellows</td>\n",
       "      <td>they</td>\n",
       "      <td>the men he was not convinced in the interview</td>\n",
       "      <td>3</td>\n",
       "      <td>23</td>\n",
       "      <td>[0.0, 0.0, 0.03, 0.0, 0.0, 0.01, 0.04, 0.0, 0....</td>\n",
       "    </tr>\n",
       "    <tr>\n",
       "      <th>93093</th>\n",
       "      <td>e12</td>\n",
       "      <td>28195052</td>\n",
       "      <td>Tinker Bell: Secret of the Wings</td>\n",
       "      <td>Tink</td>\n",
       "      <td>Tink</td>\n",
       "      <td>11</td>\n",
       "      <td>1</td>\n",
       "      <td>[0.0, 0.6, 0.0, 0.0, 0.0, 0.0, 0.0, 0.0, 0.0, ...</td>\n",
       "    </tr>\n",
       "    <tr>\n",
       "      <th>97389</th>\n",
       "      <td>e2</td>\n",
       "      <td>2920744</td>\n",
       "      <td>My Favourite Wife</td>\n",
       "      <td>Bianca</td>\n",
       "      <td>Bianca</td>\n",
       "      <td>4</td>\n",
       "      <td>49</td>\n",
       "      <td>[0.0, 0.0, 0.02, 0.03, 0.0, 0.0, 0.0, 0.0, 0.0...</td>\n",
       "    </tr>\n",
       "    <tr>\n",
       "      <th>128527</th>\n",
       "      <td>e3</td>\n",
       "      <td>4109412</td>\n",
       "      <td>Sanctuary</td>\n",
       "      <td>Hojo</td>\n",
       "      <td>Akira Hojo</td>\n",
       "      <td>3</td>\n",
       "      <td>2</td>\n",
       "      <td>[0.0, 0.01, 0.17, 0.16, 0.0, 0.01, 0.0, 0.0, 0...</td>\n",
       "    </tr>\n",
       "  </tbody>\n",
       "</table>\n",
       "</div>"
      ],
      "text/plain": [
       "       freebase_id   wiki_id                         movie_name  \\\n",
       "168789  /m/062_92n   8619888  Next Avengers: Heroes of Tomorrow   \n",
       "13319          e14  12098160                 Strange Bedfellows   \n",
       "93093          e12  28195052   Tinker Bell: Secret of the Wings   \n",
       "97389           e2   2920744                  My Favourite Wife   \n",
       "128527          e3   4109412                          Sanctuary   \n",
       "\n",
       "       secondary_name                                      full_name  \\\n",
       "168789       Iron Man                                 Iron Man-style   \n",
       "13319            they  the men he was not convinced in the interview   \n",
       "93093            Tink                                           Tink   \n",
       "97389          Bianca                                         Bianca   \n",
       "128527           Hojo                                     Akira Hojo   \n",
       "\n",
       "        token_occurences  estimated_trope  \\\n",
       "168789                 3               29   \n",
       "13319                  3               23   \n",
       "93093                 11                1   \n",
       "97389                  4               49   \n",
       "128527                 3                2   \n",
       "\n",
       "                                            trope_distrib  \n",
       "168789  [0.0, 0.0, 0.0, 0.0, 0.0, 0.02, 0.0, 0.0, 0.0,...  \n",
       "13319   [0.0, 0.0, 0.03, 0.0, 0.0, 0.01, 0.04, 0.0, 0....  \n",
       "93093   [0.0, 0.6, 0.0, 0.0, 0.0, 0.0, 0.0, 0.0, 0.0, ...  \n",
       "97389   [0.0, 0.0, 0.02, 0.03, 0.0, 0.0, 0.0, 0.0, 0.0...  \n",
       "128527  [0.0, 0.01, 0.17, 0.16, 0.0, 0.01, 0.0, 0.0, 0...  "
      ]
     },
     "execution_count": 72,
     "metadata": {},
     "output_type": "execute_result"
    }
   ],
   "source": [
    "cmu_personas.sample(5)"
   ]
  },
  {
   "cell_type": "code",
   "execution_count": 73,
   "metadata": {},
   "outputs": [],
   "source": [
    "movies_personas_cmu = cmu_personas.merge(actors_characters, left_on='freebase_id', right_on='freebase_map_id')"
   ]
  },
  {
   "cell_type": "code",
   "execution_count": 74,
   "metadata": {},
   "outputs": [
    {
     "data": {
      "text/html": [
       "<div>\n",
       "<style scoped>\n",
       "    .dataframe tbody tr th:only-of-type {\n",
       "        vertical-align: middle;\n",
       "    }\n",
       "\n",
       "    .dataframe tbody tr th {\n",
       "        vertical-align: top;\n",
       "    }\n",
       "\n",
       "    .dataframe thead th {\n",
       "        text-align: right;\n",
       "    }\n",
       "</style>\n",
       "<table border=\"1\" class=\"dataframe\">\n",
       "  <thead>\n",
       "    <tr style=\"text-align: right;\">\n",
       "      <th></th>\n",
       "      <th>freebase_id_x</th>\n",
       "      <th>wiki_id</th>\n",
       "      <th>movie_name</th>\n",
       "      <th>secondary_name</th>\n",
       "      <th>full_name</th>\n",
       "      <th>token_occurences</th>\n",
       "      <th>estimated_trope</th>\n",
       "      <th>trope_distrib</th>\n",
       "      <th>nconst</th>\n",
       "      <th>knownForTitles</th>\n",
       "      <th>...</th>\n",
       "      <th>wiki_movie_id</th>\n",
       "      <th>release_date</th>\n",
       "      <th>actor_birth</th>\n",
       "      <th>actor_gender</th>\n",
       "      <th>actor_height</th>\n",
       "      <th>actor_ethnicity</th>\n",
       "      <th>actor_name</th>\n",
       "      <th>release_actor_age</th>\n",
       "      <th>freebase_map_id</th>\n",
       "      <th>freebase_character_id</th>\n",
       "    </tr>\n",
       "  </thead>\n",
       "  <tbody>\n",
       "    <tr>\n",
       "      <th>413</th>\n",
       "      <td>/m/0k0jv3</td>\n",
       "      <td>1127093</td>\n",
       "      <td>Mean Creek</td>\n",
       "      <td>Marty</td>\n",
       "      <td>Marty</td>\n",
       "      <td>21</td>\n",
       "      <td>41</td>\n",
       "      <td>[0.0, 0.0, 0.0, 0.0, 0.0, 0.0, 0.0, 0.0, 0.0, ...</td>\n",
       "      <td>nm1310709</td>\n",
       "      <td>tt0356150,tt0482374,tt0377091,tt0438315</td>\n",
       "      <td>...</td>\n",
       "      <td>1127093</td>\n",
       "      <td>2004-01-15</td>\n",
       "      <td>1981-01-17</td>\n",
       "      <td>M</td>\n",
       "      <td>1.829</td>\n",
       "      <td>/m/041rx</td>\n",
       "      <td>Scott Mechlowicz</td>\n",
       "      <td>22.0</td>\n",
       "      <td>/m/0k0jv3</td>\n",
       "      <td>/m/0bjb9z9</td>\n",
       "    </tr>\n",
       "    <tr>\n",
       "      <th>121</th>\n",
       "      <td>/m/02vbmb0</td>\n",
       "      <td>10380700</td>\n",
       "      <td>Trick 'r Treat</td>\n",
       "      <td>Mr. Kreeg</td>\n",
       "      <td>Kreeg</td>\n",
       "      <td>18</td>\n",
       "      <td>21</td>\n",
       "      <td>[0.0, 0.0, 0.0, 0.0, 0.0, 0.0, 0.0, 0.0, 0.0, ...</td>\n",
       "      <td>nm0004051</td>\n",
       "      <td>tt0268126,tt0332452,tt7660850,tt0290334</td>\n",
       "      <td>...</td>\n",
       "      <td>10380700</td>\n",
       "      <td>2008</td>\n",
       "      <td>1946-06-01</td>\n",
       "      <td>M</td>\n",
       "      <td>1.760</td>\n",
       "      <td>/m/02g7sp</td>\n",
       "      <td>Brian Cox</td>\n",
       "      <td>61.0</td>\n",
       "      <td>/m/02vbmb0</td>\n",
       "      <td>/m/0h5kc7m</td>\n",
       "    </tr>\n",
       "    <tr>\n",
       "      <th>9194</th>\n",
       "      <td>/m/0k3nnq</td>\n",
       "      <td>820919</td>\n",
       "      <td>Spies Like Us</td>\n",
       "      <td>Austin Millbarge</td>\n",
       "      <td>Millbarge</td>\n",
       "      <td>4</td>\n",
       "      <td>34</td>\n",
       "      <td>[0.0, 0.0, 0.0, 0.0, 0.0, 0.0, 0.0, 0.0, 0.0, ...</td>\n",
       "      <td>nm0000101</td>\n",
       "      <td>tt0080455,tt0102558,tt0118747,tt0087332</td>\n",
       "      <td>...</td>\n",
       "      <td>820919</td>\n",
       "      <td>1985-12-06</td>\n",
       "      <td>1952-07-01</td>\n",
       "      <td>M</td>\n",
       "      <td>1.850</td>\n",
       "      <td>/m/0g8_vp</td>\n",
       "      <td>Dan Aykroyd</td>\n",
       "      <td>33.0</td>\n",
       "      <td>/m/0k3nnq</td>\n",
       "      <td>/m/0h16qqf</td>\n",
       "    </tr>\n",
       "    <tr>\n",
       "      <th>5095</th>\n",
       "      <td>/m/0jtj13</td>\n",
       "      <td>2852763</td>\n",
       "      <td>Anbe Sivam</td>\n",
       "      <td>Anbarasu</td>\n",
       "      <td>Anbarasu</td>\n",
       "      <td>3</td>\n",
       "      <td>42</td>\n",
       "      <td>[0.0, 0.0, 0.01, 0.04, 0.0, 0.0, 0.0, 0.0, 0.0...</td>\n",
       "      <td>nm0534856</td>\n",
       "      <td>tt9263550,tt6148156,tt5310090,tt1187043</td>\n",
       "      <td>...</td>\n",
       "      <td>2852763</td>\n",
       "      <td>2003</td>\n",
       "      <td>1970-06-01</td>\n",
       "      <td>M</td>\n",
       "      <td>1.770</td>\n",
       "      <td>/m/0cmdl5l</td>\n",
       "      <td>R. Madhavan</td>\n",
       "      <td>32.0</td>\n",
       "      <td>/m/0jtj13</td>\n",
       "      <td>/m/0h2yqk0</td>\n",
       "    </tr>\n",
       "    <tr>\n",
       "      <th>7510</th>\n",
       "      <td>/m/0k6sgw</td>\n",
       "      <td>5275752</td>\n",
       "      <td>The Ultimate Gift</td>\n",
       "      <td>Jason Stevens</td>\n",
       "      <td>he</td>\n",
       "      <td>44</td>\n",
       "      <td>17</td>\n",
       "      <td>[0.0, 0.0, 0.0, 0.0, 0.0, 0.0, 0.0, 0.0, 0.0, ...</td>\n",
       "      <td>nm0298221</td>\n",
       "      <td>tt0859592,tt0310298,tt0158552,tt0482629</td>\n",
       "      <td>...</td>\n",
       "      <td>5275752</td>\n",
       "      <td>2006</td>\n",
       "      <td>1980-05-19</td>\n",
       "      <td>M</td>\n",
       "      <td>1.850</td>\n",
       "      <td>/m/07bch9</td>\n",
       "      <td>Drew Fuller</td>\n",
       "      <td>25.0</td>\n",
       "      <td>/m/0k6sgw</td>\n",
       "      <td>/m/0h5h9_d</td>\n",
       "    </tr>\n",
       "  </tbody>\n",
       "</table>\n",
       "<p>5 rows × 24 columns</p>\n",
       "</div>"
      ],
      "text/plain": [
       "     freebase_id_x   wiki_id         movie_name    secondary_name  full_name  \\\n",
       "413      /m/0k0jv3   1127093         Mean Creek             Marty      Marty   \n",
       "121     /m/02vbmb0  10380700     Trick 'r Treat         Mr. Kreeg      Kreeg   \n",
       "9194     /m/0k3nnq    820919      Spies Like Us  Austin Millbarge  Millbarge   \n",
       "5095     /m/0jtj13   2852763         Anbe Sivam          Anbarasu   Anbarasu   \n",
       "7510     /m/0k6sgw   5275752  The Ultimate Gift     Jason Stevens         he   \n",
       "\n",
       "      token_occurences  estimated_trope  \\\n",
       "413                 21               41   \n",
       "121                 18               21   \n",
       "9194                 4               34   \n",
       "5095                 3               42   \n",
       "7510                44               17   \n",
       "\n",
       "                                          trope_distrib     nconst  \\\n",
       "413   [0.0, 0.0, 0.0, 0.0, 0.0, 0.0, 0.0, 0.0, 0.0, ...  nm1310709   \n",
       "121   [0.0, 0.0, 0.0, 0.0, 0.0, 0.0, 0.0, 0.0, 0.0, ...  nm0004051   \n",
       "9194  [0.0, 0.0, 0.0, 0.0, 0.0, 0.0, 0.0, 0.0, 0.0, ...  nm0000101   \n",
       "5095  [0.0, 0.0, 0.01, 0.04, 0.0, 0.0, 0.0, 0.0, 0.0...  nm0534856   \n",
       "7510  [0.0, 0.0, 0.0, 0.0, 0.0, 0.0, 0.0, 0.0, 0.0, ...  nm0298221   \n",
       "\n",
       "                               knownForTitles  ... wiki_movie_id release_date  \\\n",
       "413   tt0356150,tt0482374,tt0377091,tt0438315  ...       1127093   2004-01-15   \n",
       "121   tt0268126,tt0332452,tt7660850,tt0290334  ...      10380700         2008   \n",
       "9194  tt0080455,tt0102558,tt0118747,tt0087332  ...        820919   1985-12-06   \n",
       "5095  tt9263550,tt6148156,tt5310090,tt1187043  ...       2852763         2003   \n",
       "7510  tt0859592,tt0310298,tt0158552,tt0482629  ...       5275752         2006   \n",
       "\n",
       "     actor_birth actor_gender  actor_height actor_ethnicity        actor_name  \\\n",
       "413   1981-01-17            M         1.829        /m/041rx  Scott Mechlowicz   \n",
       "121   1946-06-01            M         1.760       /m/02g7sp         Brian Cox   \n",
       "9194  1952-07-01            M         1.850       /m/0g8_vp       Dan Aykroyd   \n",
       "5095  1970-06-01            M         1.770      /m/0cmdl5l       R. Madhavan   \n",
       "7510  1980-05-19            M         1.850       /m/07bch9       Drew Fuller   \n",
       "\n",
       "     release_actor_age  freebase_map_id freebase_character_id  \n",
       "413               22.0        /m/0k0jv3            /m/0bjb9z9  \n",
       "121               61.0       /m/02vbmb0            /m/0h5kc7m  \n",
       "9194              33.0        /m/0k3nnq            /m/0h16qqf  \n",
       "5095              32.0        /m/0jtj13            /m/0h2yqk0  \n",
       "7510              25.0        /m/0k6sgw            /m/0h5h9_d  \n",
       "\n",
       "[5 rows x 24 columns]"
      ]
     },
     "execution_count": 74,
     "metadata": {},
     "output_type": "execute_result"
    }
   ],
   "source": [
    "movies_personas_cmu.sample(5)"
   ]
  },
  {
   "cell_type": "code",
   "execution_count": 75,
   "metadata": {},
   "outputs": [
    {
     "name": "stdout",
     "output_type": "stream",
     "text": [
      "We have 9927 records for characters\n"
     ]
    }
   ],
   "source": [
    "print(f\"We have {len(movies_personas_cmu)} records for characters\")"
   ]
  },
  {
   "cell_type": "markdown",
   "metadata": {},
   "source": [
    "This offers us one possiblity for further analysis, as we have more than 10'000 records"
   ]
  },
  {
   "cell_type": "markdown",
   "metadata": {},
   "source": [
    "## Movie-based comfort zones\n",
    "We investigate the possiblity of coming up with comfort zones by analysing movie features for a given actor"
   ]
  },
  {
   "cell_type": "code",
   "execution_count": 76,
   "metadata": {},
   "outputs": [
    {
     "data": {
      "text/html": [
       "<div>\n",
       "<style scoped>\n",
       "    .dataframe tbody tr th:only-of-type {\n",
       "        vertical-align: middle;\n",
       "    }\n",
       "\n",
       "    .dataframe tbody tr th {\n",
       "        vertical-align: top;\n",
       "    }\n",
       "\n",
       "    .dataframe thead th {\n",
       "        text-align: right;\n",
       "    }\n",
       "</style>\n",
       "<table border=\"1\" class=\"dataframe\">\n",
       "  <thead>\n",
       "    <tr style=\"text-align: right;\">\n",
       "      <th></th>\n",
       "      <th>tconst</th>\n",
       "      <th>runtimeMinutes</th>\n",
       "      <th>genres</th>\n",
       "      <th>averageRating</th>\n",
       "      <th>numVotes</th>\n",
       "      <th>freebase_id</th>\n",
       "      <th>wiki_movie_id</th>\n",
       "      <th>movie_name</th>\n",
       "      <th>movie_release_date</th>\n",
       "      <th>box_office</th>\n",
       "      <th>movie_languages</th>\n",
       "      <th>movie_countries</th>\n",
       "      <th>movie_genres</th>\n",
       "      <th>plot_summary</th>\n",
       "    </tr>\n",
       "  </thead>\n",
       "  <tbody>\n",
       "    <tr>\n",
       "      <th>0</th>\n",
       "      <td>tt0000009</td>\n",
       "      <td>45</td>\n",
       "      <td>Romance</td>\n",
       "      <td>5.3</td>\n",
       "      <td>207</td>\n",
       "      <td>/m/02q23xk</td>\n",
       "      <td>10109752</td>\n",
       "      <td>Miss Jerry</td>\n",
       "      <td>1894-10-09</td>\n",
       "      <td>NaN</td>\n",
       "      <td>{'/m/06ppq': 'Silent film'}</td>\n",
       "      <td>{'/m/09c7w0': 'United States of America'}</td>\n",
       "      <td>{'/m/02hmvc': 'Short Film', '/m/06ppq': 'Silen...</td>\n",
       "      <td>After finding out that her father is suffering...</td>\n",
       "    </tr>\n",
       "    <tr>\n",
       "      <th>1</th>\n",
       "      <td>tt0000147</td>\n",
       "      <td>100</td>\n",
       "      <td>Documentary,News,Sport</td>\n",
       "      <td>5.3</td>\n",
       "      <td>484</td>\n",
       "      <td>/m/0czdh_n</td>\n",
       "      <td>28703057</td>\n",
       "      <td>The Corbett-Fitzsimmons Fight</td>\n",
       "      <td>1897-05-22</td>\n",
       "      <td>100000.0</td>\n",
       "      <td>{}</td>\n",
       "      <td>{}</td>\n",
       "      <td>{'/m/01z02hx': 'Sports'}</td>\n",
       "      <td>The film no longer exists in its entirety; how...</td>\n",
       "    </tr>\n",
       "    <tr>\n",
       "      <th>2</th>\n",
       "      <td>tt0000574</td>\n",
       "      <td>70</td>\n",
       "      <td>Action,Adventure,Biography</td>\n",
       "      <td>6.0</td>\n",
       "      <td>854</td>\n",
       "      <td>/m/0120y4</td>\n",
       "      <td>142995</td>\n",
       "      <td>The Story of the Kelly Gang</td>\n",
       "      <td>1906-12-26</td>\n",
       "      <td>NaN</td>\n",
       "      <td>{'/m/02h40lc': 'English Language'}</td>\n",
       "      <td>{'/m/0chghy': 'Australia'}</td>\n",
       "      <td>{'/m/0lsxr': 'Crime Fiction', '/m/06ppq': 'Sil...</td>\n",
       "      <td>The Story of the Kelly Gangs tone is of sorrow...</td>\n",
       "    </tr>\n",
       "    <tr>\n",
       "      <th>3</th>\n",
       "      <td>tt0000591</td>\n",
       "      <td>90</td>\n",
       "      <td>Drama</td>\n",
       "      <td>5.0</td>\n",
       "      <td>21</td>\n",
       "      <td>/m/07s67rr</td>\n",
       "      <td>4849466</td>\n",
       "      <td>L'Enfant prodigue</td>\n",
       "      <td>1907-06-20</td>\n",
       "      <td>NaN</td>\n",
       "      <td>{'/m/064_8sq': 'French Language'}</td>\n",
       "      <td>{'/m/0f8l9c': 'France'}</td>\n",
       "      <td>{'/m/02hmvc': 'Short Film', '/m/06ppq': 'Silen...</td>\n",
       "      <td>None</td>\n",
       "    </tr>\n",
       "    <tr>\n",
       "      <th>4</th>\n",
       "      <td>tt0000679</td>\n",
       "      <td>120</td>\n",
       "      <td>Adventure,Fantasy</td>\n",
       "      <td>5.1</td>\n",
       "      <td>68</td>\n",
       "      <td>/m/0fgfyy</td>\n",
       "      <td>5954041</td>\n",
       "      <td>The Fairylogue and Radio-Plays</td>\n",
       "      <td>1908-09-24</td>\n",
       "      <td>NaN</td>\n",
       "      <td>{'/m/02h40lc': 'English Language'}</td>\n",
       "      <td>{'/m/09c7w0': 'United States of America'}</td>\n",
       "      <td>{'/m/06ppq': 'Silent film', '/m/01g6gs': 'Blac...</td>\n",
       "      <td>None</td>\n",
       "    </tr>\n",
       "  </tbody>\n",
       "</table>\n",
       "</div>"
      ],
      "text/plain": [
       "      tconst runtimeMinutes                      genres  averageRating  \\\n",
       "0  tt0000009             45                     Romance            5.3   \n",
       "1  tt0000147            100      Documentary,News,Sport            5.3   \n",
       "2  tt0000574             70  Action,Adventure,Biography            6.0   \n",
       "3  tt0000591             90                       Drama            5.0   \n",
       "4  tt0000679            120           Adventure,Fantasy            5.1   \n",
       "\n",
       "   numVotes freebase_id  wiki_movie_id                      movie_name  \\\n",
       "0       207  /m/02q23xk       10109752                      Miss Jerry   \n",
       "1       484  /m/0czdh_n       28703057   The Corbett-Fitzsimmons Fight   \n",
       "2       854   /m/0120y4         142995     The Story of the Kelly Gang   \n",
       "3        21  /m/07s67rr        4849466               L'Enfant prodigue   \n",
       "4        68   /m/0fgfyy        5954041  The Fairylogue and Radio-Plays   \n",
       "\n",
       "  movie_release_date  box_office                     movie_languages  \\\n",
       "0         1894-10-09         NaN         {'/m/06ppq': 'Silent film'}   \n",
       "1         1897-05-22    100000.0                                  {}   \n",
       "2         1906-12-26         NaN  {'/m/02h40lc': 'English Language'}   \n",
       "3         1907-06-20         NaN   {'/m/064_8sq': 'French Language'}   \n",
       "4         1908-09-24         NaN  {'/m/02h40lc': 'English Language'}   \n",
       "\n",
       "                             movie_countries  \\\n",
       "0  {'/m/09c7w0': 'United States of America'}   \n",
       "1                                         {}   \n",
       "2                 {'/m/0chghy': 'Australia'}   \n",
       "3                    {'/m/0f8l9c': 'France'}   \n",
       "4  {'/m/09c7w0': 'United States of America'}   \n",
       "\n",
       "                                        movie_genres  \\\n",
       "0  {'/m/02hmvc': 'Short Film', '/m/06ppq': 'Silen...   \n",
       "1                           {'/m/01z02hx': 'Sports'}   \n",
       "2  {'/m/0lsxr': 'Crime Fiction', '/m/06ppq': 'Sil...   \n",
       "3  {'/m/02hmvc': 'Short Film', '/m/06ppq': 'Silen...   \n",
       "4  {'/m/06ppq': 'Silent film', '/m/01g6gs': 'Blac...   \n",
       "\n",
       "                                        plot_summary  \n",
       "0  After finding out that her father is suffering...  \n",
       "1  The film no longer exists in its entirety; how...  \n",
       "2  The Story of the Kelly Gangs tone is of sorrow...  \n",
       "3                                               None  \n",
       "4                                               None  "
      ]
     },
     "execution_count": 76,
     "metadata": {},
     "output_type": "execute_result"
    }
   ],
   "source": [
    "movies.head()"
   ]
  },
  {
   "cell_type": "code",
   "execution_count": 77,
   "metadata": {},
   "outputs": [
    {
     "data": {
      "text/html": [
       "<div>\n",
       "<style scoped>\n",
       "    .dataframe tbody tr th:only-of-type {\n",
       "        vertical-align: middle;\n",
       "    }\n",
       "\n",
       "    .dataframe tbody tr th {\n",
       "        vertical-align: top;\n",
       "    }\n",
       "\n",
       "    .dataframe thead th {\n",
       "        text-align: right;\n",
       "    }\n",
       "</style>\n",
       "<table border=\"1\" class=\"dataframe\">\n",
       "  <thead>\n",
       "    <tr style=\"text-align: right;\">\n",
       "      <th></th>\n",
       "      <th>nconst</th>\n",
       "      <th>knownForTitles</th>\n",
       "      <th>tconst</th>\n",
       "      <th>characters</th>\n",
       "      <th>freebase_id</th>\n",
       "      <th>actor_freebase_id</th>\n",
       "      <th>wiki_movie_id</th>\n",
       "      <th>release_date</th>\n",
       "      <th>actor_birth</th>\n",
       "      <th>actor_gender</th>\n",
       "      <th>actor_height</th>\n",
       "      <th>actor_ethnicity</th>\n",
       "      <th>actor_name</th>\n",
       "      <th>release_actor_age</th>\n",
       "      <th>freebase_map_id</th>\n",
       "      <th>freebase_character_id</th>\n",
       "    </tr>\n",
       "  </thead>\n",
       "  <tbody>\n",
       "    <tr>\n",
       "      <th>0</th>\n",
       "      <td>nm0000001</td>\n",
       "      <td>tt0053137,tt0031983,tt0050419,tt0072308</td>\n",
       "      <td>tt0025164</td>\n",
       "      <td>[\"Guy Holden\"]</td>\n",
       "      <td>/m/0glnm</td>\n",
       "      <td>/m/0h953</td>\n",
       "      <td>61169</td>\n",
       "      <td>1934</td>\n",
       "      <td>1899-05-10</td>\n",
       "      <td>M</td>\n",
       "      <td>1.75</td>\n",
       "      <td>/m/01qhm_</td>\n",
       "      <td>Fred Astaire</td>\n",
       "      <td>NaN</td>\n",
       "      <td>/m/0k557x</td>\n",
       "      <td>/m/0h184w0</td>\n",
       "    </tr>\n",
       "    <tr>\n",
       "      <th>1</th>\n",
       "      <td>nm0000001</td>\n",
       "      <td>tt0053137,tt0031983,tt0050419,tt0072308</td>\n",
       "      <td>tt0026942</td>\n",
       "      <td>[\"Huck Haines\"]</td>\n",
       "      <td>/m/02x5h46</td>\n",
       "      <td>/m/0h953</td>\n",
       "      <td>12800555</td>\n",
       "      <td>1935-03-08</td>\n",
       "      <td>1899-05-10</td>\n",
       "      <td>M</td>\n",
       "      <td>1.75</td>\n",
       "      <td>/m/01qhm_</td>\n",
       "      <td>Fred Astaire</td>\n",
       "      <td>NaN</td>\n",
       "      <td>/m/03l20gb</td>\n",
       "      <td>/m/0h184_z</td>\n",
       "    </tr>\n",
       "    <tr>\n",
       "      <th>2</th>\n",
       "      <td>nm0000001</td>\n",
       "      <td>tt0053137,tt0031983,tt0050419,tt0072308</td>\n",
       "      <td>tt0027125</td>\n",
       "      <td>[\"Jerry Travers\"]</td>\n",
       "      <td>/m/0gnjh</td>\n",
       "      <td>/m/0h953</td>\n",
       "      <td>61501</td>\n",
       "      <td>1935</td>\n",
       "      <td>1899-05-10</td>\n",
       "      <td>M</td>\n",
       "      <td>1.75</td>\n",
       "      <td>/m/01qhm_</td>\n",
       "      <td>Fred Astaire</td>\n",
       "      <td>NaN</td>\n",
       "      <td>/m/0k77vk</td>\n",
       "      <td>/m/0h184_5</td>\n",
       "    </tr>\n",
       "    <tr>\n",
       "      <th>3</th>\n",
       "      <td>nm0000001</td>\n",
       "      <td>tt0053137,tt0031983,tt0050419,tt0072308</td>\n",
       "      <td>tt0027630</td>\n",
       "      <td>[\"Bake Baker\"]</td>\n",
       "      <td>/m/08d56_</td>\n",
       "      <td>/m/0h953</td>\n",
       "      <td>2926860</td>\n",
       "      <td>1936-02-20</td>\n",
       "      <td>1899-05-10</td>\n",
       "      <td>M</td>\n",
       "      <td>1.75</td>\n",
       "      <td>/m/01qhm_</td>\n",
       "      <td>Fred Astaire</td>\n",
       "      <td>NaN</td>\n",
       "      <td>/m/0jybbh</td>\n",
       "      <td>/m/0h184vt</td>\n",
       "    </tr>\n",
       "    <tr>\n",
       "      <th>4</th>\n",
       "      <td>nm0000001</td>\n",
       "      <td>tt0053137,tt0031983,tt0050419,tt0072308</td>\n",
       "      <td>tt0028333</td>\n",
       "      <td>[\"Lucky Garnett\"]</td>\n",
       "      <td>/m/03pw28</td>\n",
       "      <td>/m/0h953</td>\n",
       "      <td>919005</td>\n",
       "      <td>1936</td>\n",
       "      <td>1899-05-10</td>\n",
       "      <td>M</td>\n",
       "      <td>1.75</td>\n",
       "      <td>/m/01qhm_</td>\n",
       "      <td>Fred Astaire</td>\n",
       "      <td>NaN</td>\n",
       "      <td>/m/0k407p</td>\n",
       "      <td>/m/0h184vl</td>\n",
       "    </tr>\n",
       "  </tbody>\n",
       "</table>\n",
       "</div>"
      ],
      "text/plain": [
       "      nconst                           knownForTitles     tconst  \\\n",
       "0  nm0000001  tt0053137,tt0031983,tt0050419,tt0072308  tt0025164   \n",
       "1  nm0000001  tt0053137,tt0031983,tt0050419,tt0072308  tt0026942   \n",
       "2  nm0000001  tt0053137,tt0031983,tt0050419,tt0072308  tt0027125   \n",
       "3  nm0000001  tt0053137,tt0031983,tt0050419,tt0072308  tt0027630   \n",
       "4  nm0000001  tt0053137,tt0031983,tt0050419,tt0072308  tt0028333   \n",
       "\n",
       "          characters freebase_id actor_freebase_id  wiki_movie_id  \\\n",
       "0     [\"Guy Holden\"]    /m/0glnm          /m/0h953          61169   \n",
       "1    [\"Huck Haines\"]  /m/02x5h46          /m/0h953       12800555   \n",
       "2  [\"Jerry Travers\"]    /m/0gnjh          /m/0h953          61501   \n",
       "3     [\"Bake Baker\"]   /m/08d56_          /m/0h953        2926860   \n",
       "4  [\"Lucky Garnett\"]   /m/03pw28          /m/0h953         919005   \n",
       "\n",
       "  release_date actor_birth actor_gender  actor_height actor_ethnicity  \\\n",
       "0         1934  1899-05-10            M          1.75       /m/01qhm_   \n",
       "1   1935-03-08  1899-05-10            M          1.75       /m/01qhm_   \n",
       "2         1935  1899-05-10            M          1.75       /m/01qhm_   \n",
       "3   1936-02-20  1899-05-10            M          1.75       /m/01qhm_   \n",
       "4         1936  1899-05-10            M          1.75       /m/01qhm_   \n",
       "\n",
       "     actor_name  release_actor_age freebase_map_id freebase_character_id  \n",
       "0  Fred Astaire                NaN       /m/0k557x            /m/0h184w0  \n",
       "1  Fred Astaire                NaN      /m/03l20gb            /m/0h184_z  \n",
       "2  Fred Astaire                NaN       /m/0k77vk            /m/0h184_5  \n",
       "3  Fred Astaire                NaN       /m/0jybbh            /m/0h184vt  \n",
       "4  Fred Astaire                NaN       /m/0k407p            /m/0h184vl  "
      ]
     },
     "execution_count": 77,
     "metadata": {},
     "output_type": "execute_result"
    }
   ],
   "source": [
    "actors_characters.head()"
   ]
  },
  {
   "cell_type": "code",
   "execution_count": 78,
   "metadata": {},
   "outputs": [],
   "source": [
    "all_data = movies.merge(actors_characters, how=\"inner\", on=[\"tconst\", \"freebase_id\", \"wiki_movie_id\"])"
   ]
  },
  {
   "cell_type": "code",
   "execution_count": 79,
   "metadata": {},
   "outputs": [
    {
     "data": {
      "text/html": [
       "<div>\n",
       "<style scoped>\n",
       "    .dataframe tbody tr th:only-of-type {\n",
       "        vertical-align: middle;\n",
       "    }\n",
       "\n",
       "    .dataframe tbody tr th {\n",
       "        vertical-align: top;\n",
       "    }\n",
       "\n",
       "    .dataframe thead th {\n",
       "        text-align: right;\n",
       "    }\n",
       "</style>\n",
       "<table border=\"1\" class=\"dataframe\">\n",
       "  <thead>\n",
       "    <tr style=\"text-align: right;\">\n",
       "      <th></th>\n",
       "      <th>tconst</th>\n",
       "      <th>runtimeMinutes</th>\n",
       "      <th>genres</th>\n",
       "      <th>averageRating</th>\n",
       "      <th>numVotes</th>\n",
       "      <th>freebase_id</th>\n",
       "      <th>wiki_movie_id</th>\n",
       "      <th>movie_name</th>\n",
       "      <th>movie_release_date</th>\n",
       "      <th>box_office</th>\n",
       "      <th>...</th>\n",
       "      <th>actor_freebase_id</th>\n",
       "      <th>release_date</th>\n",
       "      <th>actor_birth</th>\n",
       "      <th>actor_gender</th>\n",
       "      <th>actor_height</th>\n",
       "      <th>actor_ethnicity</th>\n",
       "      <th>actor_name</th>\n",
       "      <th>release_actor_age</th>\n",
       "      <th>freebase_map_id</th>\n",
       "      <th>freebase_character_id</th>\n",
       "    </tr>\n",
       "  </thead>\n",
       "  <tbody>\n",
       "    <tr>\n",
       "      <th>0</th>\n",
       "      <td>tt0000591</td>\n",
       "      <td>90</td>\n",
       "      <td>Drama</td>\n",
       "      <td>5.0</td>\n",
       "      <td>21</td>\n",
       "      <td>/m/07s67rr</td>\n",
       "      <td>4849466</td>\n",
       "      <td>L'Enfant prodigue</td>\n",
       "      <td>1907-06-20</td>\n",
       "      <td>NaN</td>\n",
       "      <td>...</td>\n",
       "      <td>/m/0n5_12j</td>\n",
       "      <td>1907-06-20</td>\n",
       "      <td>\\N</td>\n",
       "      <td>M</td>\n",
       "      <td>NaN</td>\n",
       "      <td>None</td>\n",
       "      <td>Henri Gouget</td>\n",
       "      <td>NaN</td>\n",
       "      <td>/m/0n5_12f</td>\n",
       "      <td>None</td>\n",
       "    </tr>\n",
       "    <tr>\n",
       "      <th>1</th>\n",
       "      <td>tt0000591</td>\n",
       "      <td>90</td>\n",
       "      <td>Drama</td>\n",
       "      <td>5.0</td>\n",
       "      <td>21</td>\n",
       "      <td>/m/07s67rr</td>\n",
       "      <td>4849466</td>\n",
       "      <td>L'Enfant prodigue</td>\n",
       "      <td>1907-06-20</td>\n",
       "      <td>NaN</td>\n",
       "      <td>...</td>\n",
       "      <td>/m/0n5_11v</td>\n",
       "      <td>1907-06-20</td>\n",
       "      <td>1874-01-14</td>\n",
       "      <td>M</td>\n",
       "      <td>NaN</td>\n",
       "      <td>None</td>\n",
       "      <td>Georges Wague</td>\n",
       "      <td>NaN</td>\n",
       "      <td>/m/0n5_11r</td>\n",
       "      <td>None</td>\n",
       "    </tr>\n",
       "    <tr>\n",
       "      <th>2</th>\n",
       "      <td>tt0002199</td>\n",
       "      <td>60</td>\n",
       "      <td>Biography,Drama</td>\n",
       "      <td>5.8</td>\n",
       "      <td>621</td>\n",
       "      <td>/m/0jr0h</td>\n",
       "      <td>73497</td>\n",
       "      <td>From the Manger to the Cross</td>\n",
       "      <td>1912-10-03</td>\n",
       "      <td>NaN</td>\n",
       "      <td>...</td>\n",
       "      <td>/m/07ps7s</td>\n",
       "      <td>1912-10-03</td>\n",
       "      <td>1882-08-05</td>\n",
       "      <td>M</td>\n",
       "      <td>NaN</td>\n",
       "      <td>None</td>\n",
       "      <td>Robert G. Vignola</td>\n",
       "      <td>NaN</td>\n",
       "      <td>/m/09z7jx_</td>\n",
       "      <td>/m/075q20p</td>\n",
       "    </tr>\n",
       "    <tr>\n",
       "      <th>3</th>\n",
       "      <td>tt0002461</td>\n",
       "      <td>55</td>\n",
       "      <td>Drama</td>\n",
       "      <td>5.7</td>\n",
       "      <td>305</td>\n",
       "      <td>/m/02vrnr1</td>\n",
       "      <td>12156493</td>\n",
       "      <td>Richard III</td>\n",
       "      <td>1912-10-15</td>\n",
       "      <td>NaN</td>\n",
       "      <td>...</td>\n",
       "      <td>/m/07ns8v</td>\n",
       "      <td>1912-10-15</td>\n",
       "      <td>1851-02-23</td>\n",
       "      <td>M</td>\n",
       "      <td>NaN</td>\n",
       "      <td>None</td>\n",
       "      <td>Frederick Warde</td>\n",
       "      <td>NaN</td>\n",
       "      <td>/m/0ggf7fc</td>\n",
       "      <td>None</td>\n",
       "    </tr>\n",
       "    <tr>\n",
       "      <th>4</th>\n",
       "      <td>tt0002574</td>\n",
       "      <td>150</td>\n",
       "      <td>Action,Drama,Thriller</td>\n",
       "      <td>6.1</td>\n",
       "      <td>33</td>\n",
       "      <td>/m/07yh1s</td>\n",
       "      <td>2695568</td>\n",
       "      <td>What Happened to Mary?</td>\n",
       "      <td>1912-07-26</td>\n",
       "      <td>NaN</td>\n",
       "      <td>...</td>\n",
       "      <td>/m/07yhvx</td>\n",
       "      <td>1912-07-26</td>\n",
       "      <td>1865-06-05</td>\n",
       "      <td>M</td>\n",
       "      <td>NaN</td>\n",
       "      <td>None</td>\n",
       "      <td>Charles Stanton Ogle</td>\n",
       "      <td>NaN</td>\n",
       "      <td>/m/0lcyswt</td>\n",
       "      <td>/m/0lcyswy</td>\n",
       "    </tr>\n",
       "  </tbody>\n",
       "</table>\n",
       "<p>5 rows × 27 columns</p>\n",
       "</div>"
      ],
      "text/plain": [
       "      tconst runtimeMinutes                 genres  averageRating  numVotes  \\\n",
       "0  tt0000591             90                  Drama            5.0        21   \n",
       "1  tt0000591             90                  Drama            5.0        21   \n",
       "2  tt0002199             60        Biography,Drama            5.8       621   \n",
       "3  tt0002461             55                  Drama            5.7       305   \n",
       "4  tt0002574            150  Action,Drama,Thriller            6.1        33   \n",
       "\n",
       "  freebase_id  wiki_movie_id                    movie_name movie_release_date  \\\n",
       "0  /m/07s67rr        4849466             L'Enfant prodigue         1907-06-20   \n",
       "1  /m/07s67rr        4849466             L'Enfant prodigue         1907-06-20   \n",
       "2    /m/0jr0h          73497  From the Manger to the Cross         1912-10-03   \n",
       "3  /m/02vrnr1       12156493                   Richard III         1912-10-15   \n",
       "4   /m/07yh1s        2695568        What Happened to Mary?         1912-07-26   \n",
       "\n",
       "   box_office  ... actor_freebase_id release_date actor_birth actor_gender  \\\n",
       "0         NaN  ...        /m/0n5_12j   1907-06-20          \\N            M   \n",
       "1         NaN  ...        /m/0n5_11v   1907-06-20  1874-01-14            M   \n",
       "2         NaN  ...         /m/07ps7s   1912-10-03  1882-08-05            M   \n",
       "3         NaN  ...         /m/07ns8v   1912-10-15  1851-02-23            M   \n",
       "4         NaN  ...         /m/07yhvx   1912-07-26  1865-06-05            M   \n",
       "\n",
       "  actor_height actor_ethnicity            actor_name release_actor_age  \\\n",
       "0          NaN            None          Henri Gouget               NaN   \n",
       "1          NaN            None         Georges Wague               NaN   \n",
       "2          NaN            None     Robert G. Vignola               NaN   \n",
       "3          NaN            None       Frederick Warde               NaN   \n",
       "4          NaN            None  Charles Stanton Ogle               NaN   \n",
       "\n",
       "  freebase_map_id freebase_character_id  \n",
       "0      /m/0n5_12f                  None  \n",
       "1      /m/0n5_11r                  None  \n",
       "2      /m/09z7jx_            /m/075q20p  \n",
       "3      /m/0ggf7fc                  None  \n",
       "4      /m/0lcyswt            /m/0lcyswy  \n",
       "\n",
       "[5 rows x 27 columns]"
      ]
     },
     "execution_count": 79,
     "metadata": {},
     "output_type": "execute_result"
    }
   ],
   "source": [
    "all_data.head()"
   ]
  },
  {
   "cell_type": "code",
   "execution_count": 80,
   "metadata": {},
   "outputs": [
    {
     "data": {
      "text/plain": [
       "Index(['tconst', 'runtimeMinutes', 'genres', 'averageRating', 'numVotes',\n",
       "       'freebase_id', 'wiki_movie_id', 'movie_name', 'movie_release_date',\n",
       "       'box_office', 'movie_languages', 'movie_countries', 'movie_genres',\n",
       "       'plot_summary', 'nconst', 'knownForTitles', 'characters',\n",
       "       'actor_freebase_id', 'release_date', 'actor_birth', 'actor_gender',\n",
       "       'actor_height', 'actor_ethnicity', 'actor_name', 'release_actor_age',\n",
       "       'freebase_map_id', 'freebase_character_id'],\n",
       "      dtype='object')"
      ]
     },
     "execution_count": 80,
     "metadata": {},
     "output_type": "execute_result"
    }
   ],
   "source": [
    "all_data.columns"
   ]
  },
  {
   "cell_type": "markdown",
   "metadata": {},
   "source": [
    "### Based on movie genre"
   ]
  },
  {
   "cell_type": "code",
   "execution_count": 81,
   "metadata": {},
   "outputs": [],
   "source": [
    "movie_genre_per_actor = all_data[[\"nconst\", \"actor_name\", \"movie_genres\"]].copy()"
   ]
  },
  {
   "cell_type": "code",
   "execution_count": 82,
   "metadata": {},
   "outputs": [],
   "source": [
    "movie_genre_per_actor[\"genres_flattened\"] = movie_genre_per_actor[\"movie_genres\"].apply(lambda genres: list(genres.values()))"
   ]
  },
  {
   "cell_type": "code",
   "execution_count": 83,
   "metadata": {},
   "outputs": [],
   "source": [
    "movie_genre_per_actor = movie_genre_per_actor.drop(\"movie_genres\", axis=1)"
   ]
  },
  {
   "cell_type": "code",
   "execution_count": 84,
   "metadata": {},
   "outputs": [],
   "source": [
    "movie_genre_per_actor = movie_genre_per_actor.groupby([\"nconst\", \"actor_name\"]).agg(list).reset_index()"
   ]
  },
  {
   "cell_type": "code",
   "execution_count": 85,
   "metadata": {},
   "outputs": [],
   "source": [
    "movie_genre_per_actor[\"total_movies\"] = movie_genre_per_actor[\"genres_flattened\"].apply(len)"
   ]
  },
  {
   "cell_type": "code",
   "execution_count": 86,
   "metadata": {},
   "outputs": [],
   "source": [
    "movie_genre_per_actor[\"genres_flattened\"] = movie_genre_per_actor[\"genres_flattened\"].apply(lambda ls: [item for row in ls for item in row])"
   ]
  },
  {
   "cell_type": "code",
   "execution_count": 87,
   "metadata": {},
   "outputs": [],
   "source": [
    "movie_genre_per_actor[\"genres_freq\"] = movie_genre_per_actor[\"genres_flattened\"].apply(lambda ls: dict(sorted(dict(Counter(ls)).items(), key=lambda item: item[1], reverse=True)))"
   ]
  },
  {
   "cell_type": "code",
   "execution_count": 88,
   "metadata": {},
   "outputs": [],
   "source": [
    "movie_genre_per_actor = movie_genre_per_actor.drop(\"genres_flattened\", axis=1)"
   ]
  },
  {
   "cell_type": "code",
   "execution_count": 89,
   "metadata": {},
   "outputs": [
    {
     "data": {
      "text/html": [
       "<div>\n",
       "<style scoped>\n",
       "    .dataframe tbody tr th:only-of-type {\n",
       "        vertical-align: middle;\n",
       "    }\n",
       "\n",
       "    .dataframe tbody tr th {\n",
       "        vertical-align: top;\n",
       "    }\n",
       "\n",
       "    .dataframe thead th {\n",
       "        text-align: right;\n",
       "    }\n",
       "</style>\n",
       "<table border=\"1\" class=\"dataframe\">\n",
       "  <thead>\n",
       "    <tr style=\"text-align: right;\">\n",
       "      <th></th>\n",
       "      <th>nconst</th>\n",
       "      <th>actor_name</th>\n",
       "      <th>total_movies</th>\n",
       "      <th>genres_freq</th>\n",
       "    </tr>\n",
       "  </thead>\n",
       "  <tbody>\n",
       "    <tr>\n",
       "      <th>0</th>\n",
       "      <td>nm0000001</td>\n",
       "      <td>Fred Astaire</td>\n",
       "      <td>33</td>\n",
       "      <td>{'Musical': 28, 'Comedy': 20, 'Romance Film': ...</td>\n",
       "    </tr>\n",
       "    <tr>\n",
       "      <th>1</th>\n",
       "      <td>nm0000007</td>\n",
       "      <td>Humphrey Bogart</td>\n",
       "      <td>68</td>\n",
       "      <td>{'Drama': 52, 'Black-and-white': 41, 'Crime Fi...</td>\n",
       "    </tr>\n",
       "    <tr>\n",
       "      <th>2</th>\n",
       "      <td>nm0000009</td>\n",
       "      <td>Richard Burton</td>\n",
       "      <td>48</td>\n",
       "      <td>{'Drama': 37, 'Romance Film': 15, 'War film': ...</td>\n",
       "    </tr>\n",
       "    <tr>\n",
       "      <th>3</th>\n",
       "      <td>nm0000011</td>\n",
       "      <td>Gary Cooper</td>\n",
       "      <td>73</td>\n",
       "      <td>{'Drama': 40, 'Black-and-white': 38, 'Romance ...</td>\n",
       "    </tr>\n",
       "    <tr>\n",
       "      <th>4</th>\n",
       "      <td>nm0000015</td>\n",
       "      <td>James Dean</td>\n",
       "      <td>3</td>\n",
       "      <td>{'Drama': 3, 'Family Drama': 2, 'Film adaptati...</td>\n",
       "    </tr>\n",
       "  </tbody>\n",
       "</table>\n",
       "</div>"
      ],
      "text/plain": [
       "      nconst       actor_name  total_movies  \\\n",
       "0  nm0000001     Fred Astaire            33   \n",
       "1  nm0000007  Humphrey Bogart            68   \n",
       "2  nm0000009   Richard Burton            48   \n",
       "3  nm0000011      Gary Cooper            73   \n",
       "4  nm0000015       James Dean             3   \n",
       "\n",
       "                                         genres_freq  \n",
       "0  {'Musical': 28, 'Comedy': 20, 'Romance Film': ...  \n",
       "1  {'Drama': 52, 'Black-and-white': 41, 'Crime Fi...  \n",
       "2  {'Drama': 37, 'Romance Film': 15, 'War film': ...  \n",
       "3  {'Drama': 40, 'Black-and-white': 38, 'Romance ...  \n",
       "4  {'Drama': 3, 'Family Drama': 2, 'Film adaptati...  "
      ]
     },
     "execution_count": 89,
     "metadata": {},
     "output_type": "execute_result"
    }
   ],
   "source": [
    "movie_genre_per_actor.head()"
   ]
  },
  {
   "cell_type": "markdown",
   "metadata": {},
   "source": [
    "#### Distribution of some actors"
   ]
  },
  {
   "cell_type": "code",
   "execution_count": 90,
   "metadata": {},
   "outputs": [],
   "source": [
    "top_actors = movie_genre_per_actor.sort_values(\"total_movies\", ascending=False).copy().head()"
   ]
  },
  {
   "cell_type": "code",
   "execution_count": 91,
   "metadata": {},
   "outputs": [],
   "source": [
    "actor_1 = top_actors[\"genres_freq\"].iloc[0]"
   ]
  },
  {
   "cell_type": "code",
   "execution_count": 92,
   "metadata": {},
   "outputs": [
    {
     "data": {
      "image/png": "[encoded data removed]",
      "text/plain": [
       "<Figure size 720x288 with 1 Axes>"
      ]
     },
     "metadata": {
      "needs_background": "light"
     },
     "output_type": "display_data"
    }
   ],
   "source": [
    "plt.figure(figsize=(10, 4))\n",
    "plt.title('Counts of movie genres for most active actor')\n",
    "sns.barplot(x=list(actor_1.keys()), y=list(actor_1.values()))\n",
    "plt.ylabel(\"Frequency\")\n",
    "plt.xticks(rotation=90)\n",
    "plt.show()"
   ]
  },
  {
   "cell_type": "code",
   "execution_count": 93,
   "metadata": {},
   "outputs": [],
   "source": [
    "actor_2 = top_actors[\"genres_freq\"].iloc[1]"
   ]
  },
  {
   "cell_type": "code",
   "execution_count": 94,
   "metadata": {},
   "outputs": [
    {
     "data": {
      "image/png": "[encoded data removed]",
      "text/plain": [
       "<Figure size 720x288 with 1 Axes>"
      ]
     },
     "metadata": {
      "needs_background": "light"
     },
     "output_type": "display_data"
    }
   ],
   "source": [
    "plt.figure(figsize=(10, 4))\n",
    "plt.title('Counts of movie genres for second most active actor')\n",
    "sns.barplot(x=list(actor_2.keys()), y=list(actor_2.values()))\n",
    "plt.ylabel(\"Frequency\")\n",
    "plt.xticks(rotation=90)\n",
    "plt.show()"
   ]
  },
  {
   "cell_type": "markdown",
   "metadata": {},
   "source": [
    "### Based on runtime minutes"
   ]
  },
  {
   "cell_type": "code",
   "execution_count": 95,
   "metadata": {},
   "outputs": [],
   "source": [
    "runtime_per_actor = all_data[[\"nconst\", \"actor_name\", \"runtimeMinutes\"]].copy()"
   ]
  },
  {
   "cell_type": "code",
   "execution_count": 96,
   "metadata": {},
   "outputs": [],
   "source": [
    "runtime_per_actor = runtime_per_actor[runtime_per_actor[\"runtimeMinutes\"] != \"\\\\N\"]"
   ]
  },
  {
   "cell_type": "code",
   "execution_count": 97,
   "metadata": {},
   "outputs": [],
   "source": [
    "runtime_per_actor = runtime_per_actor.groupby([\"nconst\", \"actor_name\"]).agg(list).reset_index()"
   ]
  },
  {
   "cell_type": "code",
   "execution_count": 98,
   "metadata": {},
   "outputs": [],
   "source": [
    "runtime_per_actor[\"runtimeMinutes\"] = runtime_per_actor[\"runtimeMinutes\"].apply(lambda ls: list(map(lambda elem: int(elem), ls)))"
   ]
  },
  {
   "cell_type": "code",
   "execution_count": 99,
   "metadata": {},
   "outputs": [],
   "source": [
    "runtime_per_actor['len'] = runtime_per_actor['runtimeMinutes'].apply(len)\n",
    "runtime_per_actor = runtime_per_actor.sort_values(by='len', ascending=False).drop(columns='len')"
   ]
  },
  {
   "cell_type": "markdown",
   "metadata": {},
   "source": [
    "#### Distribution of some actors"
   ]
  },
  {
   "cell_type": "code",
   "execution_count": 100,
   "metadata": {},
   "outputs": [
    {
     "data": {
      "image/png": "[encoded data removed]",
      "text/plain": [
       "<Figure size 432x288 with 1 Axes>"
      ]
     },
     "metadata": {
      "needs_background": "light"
     },
     "output_type": "display_data"
    }
   ],
   "source": [
    "plt.title('KDE of movie length for most active actor')\n",
    "sns.kdeplot(runtime_per_actor[\"runtimeMinutes\"].iloc[0])\n",
    "plt.ylabel(\"Density\")\n",
    "plt.xlabel(\"Duration\")\n",
    "plt.show()"
   ]
  },
  {
   "cell_type": "code",
   "execution_count": 101,
   "metadata": {},
   "outputs": [
    {
     "data": {
      "image/png": "[encoded data removed]",
      "text/plain": [
       "<Figure size 432x288 with 1 Axes>"
      ]
     },
     "metadata": {
      "needs_background": "light"
     },
     "output_type": "display_data"
    }
   ],
   "source": [
    "plt.title('KDE of movie length for second most active actor')\n",
    "sns.kdeplot(runtime_per_actor[\"runtimeMinutes\"].iloc[1])\n",
    "plt.ylabel(\"Density\")\n",
    "plt.xlabel(\"Duration\")\n",
    "plt.show()"
   ]
  }
 ],
 "metadata": {
  "kernelspec": {
   "display_name": "Python 3 (ipykernel)",
   "language": "python",
   "name": "python3"
  },
  "language_info": {
   "codemirror_mode": {
    "name": "ipython",
    "version": 3
   },
   "file_extension": ".py",
   "mimetype": "text/x-python",
   "name": "python",
   "nbconvert_exporter": "python",
   "pygments_lexer": "ipython3",
   "version": "3.10.0"
  }
 },
 "nbformat": 4,
 "nbformat_minor": 4
}
