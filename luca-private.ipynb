{
 "cells": [
  {
   "cell_type": "code",
   "execution_count": 1,
   "id": "ecb4ed91",
   "metadata": {},
   "outputs": [],
   "source": [
    "import sys\n",
    "import matplotlib.pyplot as plt\n",
    "import seaborn as sns\n",
    "import numpy as np\n",
    "import math\n",
    "from collections import Counter\n",
    "import pandas as pd\n",
    "import warnings\n",
    "import json\n",
    "import os\n",
    "import scipy\n",
    "\n",
    "# Allow python to import modules from the preprocessing folder\n",
    "sys.path.append(\"src/preprocessing/\")\n",
    "warnings.filterwarnings(\"ignore\") # For seaborn\n",
    "\n",
    "from load_dataset import *\n",
    "\n",
    "SAVE_PATH = \"./data/refined\"\n",
    "if not os.path.exists(SAVE_PATH):\n",
    "    os.mkdir(SAVE_PATH)"
   ]
  },
  {
   "cell_type": "markdown",
   "id": "86f43150",
   "metadata": {},
   "source": [
    "# Load results of part 3"
   ]
  },
  {
   "cell_type": "code",
   "execution_count": 50,
   "id": "f45f8fbb",
   "metadata": {},
   "outputs": [],
   "source": [
    "movies = pd.read_json(os.path.join(SAVE_PATH, \"movies.json\"))\n",
    "movie_genres = pd.read_json(os.path.join(SAVE_PATH, \"movie_genres.json\"))\n",
    "\n",
    "actors_characters = pd.read_json(os.path.join(SAVE_PATH, \"characters.json\")) # Genres freq computed using this, not personas\n",
    "actors_characters_personas = pd.read_json(os.path.join(SAVE_PATH, \"characters_personas.json\"))\n",
    "actors_characters_personas_genres = pd.read_json(os.path.join(SAVE_PATH, \"characters_personas_genres.json\"))"
   ]
  },
  {
   "cell_type": "code",
   "execution_count": 63,
   "id": "2f8c88c9",
   "metadata": {},
   "outputs": [],
   "source": [
    "# Genre frequency vectors are obtained using a much bigger collection of characters than those for which we have personas\n",
    "# which is why we establish the movie entropy baseline using movies from that collection, not the one with personas\n",
    "movies_from_characters = actors_characters.wiki_movie_id.unique()\n",
    "movies_with_characters = movies[movies.wiki_movie_id.isin(movies_from_characters)]"
   ]
  },
  {
   "cell_type": "code",
   "execution_count": 69,
   "id": "23d25275",
   "metadata": {},
   "outputs": [],
   "source": [
    "# Retrieve global genre distribution\n",
    "all_movie_genres = movies_with_characters[\"genres\"].copy()\n",
    "frequency_genre = dict(Counter(all_movie_genres.explode().reset_index(drop=True).to_list()))\n",
    "\n",
    "# Global entropy of movie genres\n",
    "global_entropy_genres = scipy.stats.entropy(list(frequency_genre.values()))"
   ]
  },
  {
   "cell_type": "code",
   "execution_count": 70,
   "id": "0cd481bb",
   "metadata": {},
   "outputs": [],
   "source": [
    "def compute_genre_mutual_information(actor_genres_frac):\n",
    "    entropy_genres_given_actor = scipy.stats.entropy(actor_genres_frac)\n",
    "    return (global_entropy_genres - entropy_genres_given_actor)/global_entropy_genres"
   ]
  },
  {
   "cell_type": "code",
   "execution_count": 74,
   "id": "cdff1e05",
   "metadata": {},
   "outputs": [],
   "source": [
    "# Compute for our final collection, with personas this time\n",
    "actors_characters_personas_genres[\"genre_mu\"] = actors_characters_personas_genres[\"genres_freq\"].apply(compute_genre_mutual_information)\n",
    "# genre_mu close to 1 => very polarized"
   ]
  },
  {
   "cell_type": "markdown",
   "id": "9cf2de97",
   "metadata": {},
   "source": [
    "### Inspecting how good this metric reflects polarization"
   ]
  },
  {
   "cell_type": "code",
   "execution_count": 81,
   "id": "8b9f6960",
   "metadata": {},
   "outputs": [],
   "source": [
    "sorted_mu = actors_characters_personas_genres[actors_characters_personas_genres[\"total_movies\"] > 10].sort_values(\"genre_mu\").copy()"
   ]
  },
  {
   "cell_type": "code",
   "execution_count": 85,
   "id": "deb67b97",
   "metadata": {},
   "outputs": [],
   "source": [
    "sorted_mu_no_dup = sorted_mu.drop_duplicates(\"actor_name\").reset_index(drop=True)"
   ]
  },
  {
   "cell_type": "code",
   "execution_count": 115,
   "id": "bf54fa4a",
   "metadata": {
    "scrolled": false
   },
   "outputs": [
    {
     "name": "stdout",
     "output_type": "stream",
     "text": [
      "(0.1153846154, 'Animation')\n",
      "(0.0384615385, 'Anime')\n",
      "(0.8461538462, 'Japanese Movies')\n"
     ]
    }
   ],
   "source": [
    "roi = -1 # Last\n",
    "inspected_genres = list(zip(sorted_mu_no_dup.iloc[roi][\"genres_freq\"], movie_genres[0].to_list()))\n",
    "for elem in inspected_genres:\n",
    "    if elem[0] == 0:\n",
    "        continue\n",
    "    print(elem)"
   ]
  }
 ],
 "metadata": {
  "kernelspec": {
   "display_name": "Python 3 (ipykernel)",
   "language": "python",
   "name": "python3"
  },
  "language_info": {
   "codemirror_mode": {
    "name": "ipython",
    "version": 3
   },
   "file_extension": ".py",
   "mimetype": "text/x-python",
   "name": "python",
   "nbconvert_exporter": "python",
   "pygments_lexer": "ipython3",
   "version": "3.9.18"
  }
 },
 "nbformat": 4,
 "nbformat_minor": 5
}
