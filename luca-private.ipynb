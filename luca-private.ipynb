{
 "cells": [
  {
   "cell_type": "code",
   "execution_count": 13,
   "id": "ecb4ed91",
   "metadata": {},
   "outputs": [],
   "source": [
    "import sys\n",
    "import matplotlib.pyplot as plt\n",
    "import seaborn as sns\n",
    "import numpy as np\n",
    "import math\n",
    "from collections import Counter\n",
    "import pandas as pd\n",
    "import warnings\n",
    "import json\n",
    "import os\n",
    "import scipy\n",
    "\n",
    "# Allow python to import modules from the preprocessing folder\n",
    "sys.path.append(\"src/preprocessing/\")\n",
    "warnings.filterwarnings(\"ignore\") # For seaborn\n",
    "\n",
    "from load_dataset import *\n",
    "\n",
    "SAVE_PATH = \"./data/refined\"\n",
    "if not os.path.exists(SAVE_PATH):\n",
    "    os.mkdir(SAVE_PATH)"
   ]
  },
  {
   "cell_type": "markdown",
   "id": "86f43150",
   "metadata": {},
   "source": [
    "# Load results of part 3"
   ]
  },
  {
   "cell_type": "code",
   "execution_count": 110,
   "id": "f45f8fbb",
   "metadata": {},
   "outputs": [],
   "source": [
    "movies = pd.read_json(os.path.join(SAVE_PATH, \"movies.json\"))\n",
    "movie_genres = pd.read_json(os.path.join(SAVE_PATH, \"movie_genres.json\"))\n",
    "actors_characters_personas_genres = pd.read_json(os.path.join(SAVE_PATH, \"characters_personas_genres.json\"))"
   ]
  },
  {
   "cell_type": "code",
   "execution_count": 111,
   "id": "23d25275",
   "metadata": {},
   "outputs": [],
   "source": [
    "# Retrieve global genre distribution\n",
    "all_movie_genres = movies[\"genres\"].copy()\n",
    "frequency_genre = dict(Counter(all_movie_genres.explode().reset_index(drop=True).to_list()))\n",
    "\n",
    "# Entropy of movie genres\n",
    "entropy_genres = scipy.stats.entropy(list(frequency_genre.values()))"
   ]
  },
  {
   "cell_type": "code",
   "execution_count": 116,
   "id": "fd7c48a9",
   "metadata": {},
   "outputs": [],
   "source": [
    "# Entropy of an actor\n",
    "actor_of_interest = actors_characters_personas_genres[actors_characters_personas_genres[\"freebase_actor_id\"] == \"/m/02t_w8\"][\"genres_freq\"].iloc[0]\n",
    "entropy_genres_given_actor = scipy.stats.entropy(actor_of_interest)"
   ]
  },
  {
   "cell_type": "code",
   "execution_count": 117,
   "id": "508b08bf",
   "metadata": {},
   "outputs": [
    {
     "data": {
      "text/plain": [
       "0.9969444998221504"
      ]
     },
     "execution_count": 117,
     "metadata": {},
     "output_type": "execute_result"
    }
   ],
   "source": [
    "# Mutual information for given actor\n",
    "(entropy_genres - scipy.stats.entropy([999,1]))/entropy_genres"
   ]
  },
  {
   "cell_type": "code",
   "execution_count": null,
   "id": "cdff1e05",
   "metadata": {},
   "outputs": [],
   "source": []
  }
 ],
 "metadata": {
  "kernelspec": {
   "display_name": "Python 3 (ipykernel)",
   "language": "python",
   "name": "python3"
  },
  "language_info": {
   "codemirror_mode": {
    "name": "ipython",
    "version": 3
   },
   "file_extension": ".py",
   "mimetype": "text/x-python",
   "name": "python",
   "nbconvert_exporter": "python",
   "pygments_lexer": "ipython3",
   "version": "3.9.18"
  }
 },
 "nbformat": 4,
 "nbformat_minor": 5
}
