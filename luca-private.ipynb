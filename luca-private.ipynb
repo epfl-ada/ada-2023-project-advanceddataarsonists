{
 "cells": [
  {
   "cell_type": "code",
   "execution_count": 90,
   "id": "ecb4ed91",
   "metadata": {},
   "outputs": [],
   "source": [
    "import sys\n",
    "import matplotlib.pyplot as plt\n",
    "import seaborn as sns\n",
    "import numpy as np\n",
    "import math\n",
    "from collections import Counter\n",
    "import pandas as pd\n",
    "import warnings\n",
    "import json\n",
    "import os\n",
    "import scipy\n",
    "\n",
    "# Allow python to import modules from the preprocessing folder\n",
    "sys.path.append(\"src/preprocessing/\")\n",
    "warnings.filterwarnings(\"ignore\") # For seaborn\n",
    "\n",
    "from load_dataset import *\n",
    "\n",
    "SAVE_PATH = \"./data/refined\"\n",
    "if not os.path.exists(SAVE_PATH):\n",
    "    os.mkdir(SAVE_PATH)"
   ]
  },
  {
   "cell_type": "markdown",
   "id": "86f43150",
   "metadata": {},
   "source": [
    "# Load results of part 3"
   ]
  },
  {
   "cell_type": "code",
   "execution_count": 91,
   "id": "f45f8fbb",
   "metadata": {},
   "outputs": [],
   "source": [
    "movies = pd.read_json(os.path.join(SAVE_PATH, \"movies.json\"))\n",
    "movie_genres = pd.read_json(os.path.join(SAVE_PATH, \"movie_genres.json\"))\n",
    "\n",
    "actors_characters = pd.read_json(os.path.join(SAVE_PATH, \"characters.json\")) # Genres freq computed using this, not personas\n",
    "actors_characters_personas = pd.read_json(os.path.join(SAVE_PATH, \"characters_personas.json\"))\n",
    "actors_characters_personas_genres = pd.read_json(os.path.join(SAVE_PATH, \"characters_personas_genres.json\"))"
   ]
  },
  {
   "cell_type": "markdown",
   "id": "ce13abdc",
   "metadata": {},
   "source": [
    "# Research question 1\n",
    "### What is the proportion of actors that tend to play the same type of movies ?"
   ]
  },
  {
   "cell_type": "code",
   "execution_count": 92,
   "id": "bd8516cc",
   "metadata": {},
   "outputs": [],
   "source": [
    "# We use:\n",
    "#  - actors_characters\n",
    "#  - movies\n",
    "\n",
    "# Unique identifiers\n",
    "movies_from_characters = actors_characters.wiki_movie_id.unique()\n",
    "movies_with_characters = movies[movies.wiki_movie_id.isin(movies_from_characters)]\n",
    "\n",
    "# Retrieve global genre distribution\n",
    "all_movie_genres = movies_with_characters[\"genres\"].copy()\n",
    "frequency_genre = dict(Counter(all_movie_genres.explode().reset_index(drop=True).to_list()))\n",
    "\n",
    "# Global entropy of movie genres\n",
    "global_entropy_genres = scipy.stats.entropy(list(frequency_genre.values()))\n",
    "\n",
    "def genre_mutual_information_metric(actor_genres_freq):\n",
    "    # Given actor\n",
    "    entropy_genres_given_actor = scipy.stats.entropy(actor_genres_freq)\n",
    "    \n",
    "    # Mutual information metric\n",
    "    return (global_entropy_genres - entropy_genres_given_actor)/global_entropy_genres"
   ]
  },
  {
   "cell_type": "code",
   "execution_count": 93,
   "id": "ca3006da",
   "metadata": {},
   "outputs": [],
   "source": [
    "# Add new column of mutual information to actors, characters and personas\n",
    "actors_characters_personas_genres[\"genre_mutual_info\"] = actors_characters_personas_genres[\"genres_freq\"].apply(genre_mutual_information_metric)\n",
    "\n",
    "genres_mutual_information = actors_characters_personas_genres.copy().sort_values(\"genre_mutual_info\").drop_duplicates(\"freebase_actor_id\").reset_index(drop=True)"
   ]
  },
  {
   "cell_type": "markdown",
   "id": "03f3a4b7",
   "metadata": {},
   "source": [
    "### Inspecting particular actors"
   ]
  },
  {
   "cell_type": "code",
   "execution_count": 110,
   "id": "d28070f2",
   "metadata": {},
   "outputs": [],
   "source": [
    "# Minimum amount of movies\n",
    "min_movies = 10\n",
    "\n",
    "# Inspect actor (0 (first) => least polarized, -1 (last) => most polarized)\n",
    "actor_index = -1\n",
    "\n",
    "genres_mu_inspect = genres_mutual_information[genres_mutual_information.total_movies >= min_movies].reset_index(drop=True).copy()"
   ]
  },
  {
   "cell_type": "code",
   "execution_count": 111,
   "id": "4e8a5e6e",
   "metadata": {},
   "outputs": [
    {
     "name": "stdout",
     "output_type": "stream",
     "text": [
      "Actor name: Noriko Ohara | Total movies: 23\n",
      "\n",
      "Animation: 11.54%\n",
      "Anime: 3.85%\n",
      "Japanese Movies: 84.62%\n"
     ]
    }
   ],
   "source": [
    "inspected_genres = list(zip(genres_mu_inspect.iloc[actor_index][\"genres_freq\"], movie_genres[0].to_list()))\n",
    "print(f\"Actor name: {genres_mu_inspect.iloc[actor_index]['actor_name']} | Total movies: {genres_mu_inspect.iloc[actor_index]['total_movies']}\", end =\"\\n\\n\")\n",
    "for frac, genre in inspected_genres:\n",
    "    if frac != 0:\n",
    "        print(f\"{genre}: {frac*100:.2f}%\")"
   ]
  },
  {
   "cell_type": "code",
   "execution_count": null,
   "id": "9163f4f9",
   "metadata": {},
   "outputs": [],
   "source": []
  }
 ],
 "metadata": {
  "kernelspec": {
   "display_name": "Python 3 (ipykernel)",
   "language": "python",
   "name": "python3"
  },
  "language_info": {
   "codemirror_mode": {
    "name": "ipython",
    "version": 3
   },
   "file_extension": ".py",
   "mimetype": "text/x-python",
   "name": "python",
   "nbconvert_exporter": "python",
   "pygments_lexer": "ipython3",
   "version": "3.9.18"
  }
 },
 "nbformat": 4,
 "nbformat_minor": 5
}
