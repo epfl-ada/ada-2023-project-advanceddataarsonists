{
 "cells": [
  {
   "cell_type": "markdown",
   "metadata": {},
   "source": [
    "# Exploration and initial analyses"
   ]
  },
  {
   "cell_type": "code",
   "execution_count": 1,
   "metadata": {},
   "outputs": [],
   "source": [
    "# Allow python to import modules from src folders\n",
    "import sys\n",
    "sys.path.append(\"src/\")\n",
    "\n",
    "from preprocessing.load_dataset import *"
   ]
  },
  {
   "cell_type": "markdown",
   "metadata": {},
   "source": [
    "## CMU dataset\n",
    "\n",
    "We load the 4 `.tsv` and `.txt` files of the CMU dataset into 4 different dataframes"
   ]
  },
  {
   "cell_type": "code",
   "execution_count": 2,
   "metadata": {
    "tags": []
   },
   "outputs": [],
   "source": [
    "characters_df = load_characters_df()\n",
    "movies_df = load_movies_df()\n",
    "plot_df = load_plot_df()\n",
    "tvtropes_df = load_tvtropes_df()"
   ]
  },
  {
   "cell_type": "markdown",
   "metadata": {},
   "source": [
    "### Characters"
   ]
  },
  {
   "cell_type": "code",
   "execution_count": 3,
   "metadata": {
    "tags": []
   },
   "outputs": [
    {
     "data": {
      "text/html": [
       "<div>\n",
       "<style scoped>\n",
       "    .dataframe tbody tr th:only-of-type {\n",
       "        vertical-align: middle;\n",
       "    }\n",
       "\n",
       "    .dataframe tbody tr th {\n",
       "        vertical-align: top;\n",
       "    }\n",
       "\n",
       "    .dataframe thead th {\n",
       "        text-align: right;\n",
       "    }\n",
       "</style>\n",
       "<table border=\"1\" class=\"dataframe\">\n",
       "  <thead>\n",
       "    <tr style=\"text-align: right;\">\n",
       "      <th></th>\n",
       "      <th>wiki_movie_id</th>\n",
       "      <th>freebase_movie_id</th>\n",
       "      <th>release_date</th>\n",
       "      <th>character_name</th>\n",
       "      <th>actor_birth</th>\n",
       "      <th>actor_gender</th>\n",
       "      <th>actor_height</th>\n",
       "      <th>actor_ethnicity</th>\n",
       "      <th>actor_name</th>\n",
       "      <th>release_actor_age</th>\n",
       "      <th>freebase_map_id</th>\n",
       "      <th>freebase_character_id</th>\n",
       "      <th>freebase_actor_id</th>\n",
       "    </tr>\n",
       "  </thead>\n",
       "  <tbody>\n",
       "    <tr>\n",
       "      <th>125073</th>\n",
       "      <td>18716756</td>\n",
       "      <td>/m/04gq4z4</td>\n",
       "      <td>1976</td>\n",
       "      <td>NaN</td>\n",
       "      <td>1953-08-19</td>\n",
       "      <td>M</td>\n",
       "      <td>NaN</td>\n",
       "      <td>/m/0222qb</td>\n",
       "      <td>Nanni Moretti</td>\n",
       "      <td>22.0</td>\n",
       "      <td>/m/04lrpkd</td>\n",
       "      <td>NaN</td>\n",
       "      <td>/m/06dx0w</td>\n",
       "    </tr>\n",
       "    <tr>\n",
       "      <th>159237</th>\n",
       "      <td>28694282</td>\n",
       "      <td>/m/0czd_vx</td>\n",
       "      <td>1930-10-16</td>\n",
       "      <td>Scotty</td>\n",
       "      <td>1895-07-16</td>\n",
       "      <td>M</td>\n",
       "      <td>NaN</td>\n",
       "      <td>NaN</td>\n",
       "      <td>Hay Petrie</td>\n",
       "      <td>NaN</td>\n",
       "      <td>/m/0l1s393</td>\n",
       "      <td>/m/0l1s396</td>\n",
       "      <td>/m/03mht_b</td>\n",
       "    </tr>\n",
       "    <tr>\n",
       "      <th>266482</th>\n",
       "      <td>13053911</td>\n",
       "      <td>/m/04czgnm</td>\n",
       "      <td>2009-02-09</td>\n",
       "      <td>Trent DeMarco</td>\n",
       "      <td>1982-11-04</td>\n",
       "      <td>M</td>\n",
       "      <td>1.83</td>\n",
       "      <td>NaN</td>\n",
       "      <td>Travis Van Winkle</td>\n",
       "      <td>26.0</td>\n",
       "      <td>/m/052dnlj</td>\n",
       "      <td>/m/0h5p1vg</td>\n",
       "      <td>/m/0ks898</td>\n",
       "    </tr>\n",
       "    <tr>\n",
       "      <th>292142</th>\n",
       "      <td>4566666</td>\n",
       "      <td>/m/0c9755</td>\n",
       "      <td>1982</td>\n",
       "      <td>NaN</td>\n",
       "      <td>1962-05-31</td>\n",
       "      <td>M</td>\n",
       "      <td>NaN</td>\n",
       "      <td>NaN</td>\n",
       "      <td>Tommy Redmond Hicks</td>\n",
       "      <td>19.0</td>\n",
       "      <td>/m/0bwb30n</td>\n",
       "      <td>NaN</td>\n",
       "      <td>/m/0k35y5</td>\n",
       "    </tr>\n",
       "    <tr>\n",
       "      <th>155578</th>\n",
       "      <td>28308054</td>\n",
       "      <td>/m/0cp0w24</td>\n",
       "      <td>1957-07</td>\n",
       "      <td>NaN</td>\n",
       "      <td>1907-04-23</td>\n",
       "      <td>M</td>\n",
       "      <td>NaN</td>\n",
       "      <td>NaN</td>\n",
       "      <td>James Hayter</td>\n",
       "      <td>NaN</td>\n",
       "      <td>/m/0gcsvrm</td>\n",
       "      <td>NaN</td>\n",
       "      <td>/m/03k_xc</td>\n",
       "    </tr>\n",
       "  </tbody>\n",
       "</table>\n",
       "</div>"
      ],
      "text/plain": [
       "        wiki_movie_id freebase_movie_id release_date character_name  \\\n",
       "125073       18716756        /m/04gq4z4         1976            NaN   \n",
       "159237       28694282        /m/0czd_vx   1930-10-16         Scotty   \n",
       "266482       13053911        /m/04czgnm   2009-02-09  Trent DeMarco   \n",
       "292142        4566666         /m/0c9755         1982            NaN   \n",
       "155578       28308054        /m/0cp0w24      1957-07            NaN   \n",
       "\n",
       "       actor_birth actor_gender  actor_height actor_ethnicity  \\\n",
       "125073  1953-08-19            M           NaN       /m/0222qb   \n",
       "159237  1895-07-16            M           NaN             NaN   \n",
       "266482  1982-11-04            M          1.83             NaN   \n",
       "292142  1962-05-31            M           NaN             NaN   \n",
       "155578  1907-04-23            M           NaN             NaN   \n",
       "\n",
       "                 actor_name  release_actor_age freebase_map_id  \\\n",
       "125073        Nanni Moretti               22.0      /m/04lrpkd   \n",
       "159237           Hay Petrie                NaN      /m/0l1s393   \n",
       "266482    Travis Van Winkle               26.0      /m/052dnlj   \n",
       "292142  Tommy Redmond Hicks               19.0      /m/0bwb30n   \n",
       "155578         James Hayter                NaN      /m/0gcsvrm   \n",
       "\n",
       "       freebase_character_id freebase_actor_id  \n",
       "125073                   NaN         /m/06dx0w  \n",
       "159237            /m/0l1s396        /m/03mht_b  \n",
       "266482            /m/0h5p1vg         /m/0ks898  \n",
       "292142                   NaN         /m/0k35y5  \n",
       "155578                   NaN         /m/03k_xc  "
      ]
     },
     "execution_count": 3,
     "metadata": {},
     "output_type": "execute_result"
    }
   ],
   "source": [
    "characters_df.sample(5)"
   ]
  },
  {
   "cell_type": "code",
   "execution_count": 39,
   "metadata": {
    "tags": []
   },
   "outputs": [
    {
     "name": "stdout",
     "output_type": "stream",
     "text": [
      "Number of characters loaded: 450669\n",
      "Number of unique movies: 64330\n",
      "Number of unique actors: 135761\n",
      "\n",
      "Percentage of missing gender: 10.12%\n",
      "Percentage of missing height: 65.65%\n",
      "Percentage of missing ethnicity: 76.47%\n",
      "Percentage of missing age upon release: 35.08%\n"
     ]
    }
   ],
   "source": [
    "total_characters = len(characters_df)\n",
    "print(f\"Number of characters loaded: {total_characters}\")\n",
    "print(f\"Number of unique movies: {len(characters_df['wiki_movie_id'].unique())}\")\n",
    "print(f\"Number of unique actors: {len(characters_df['freebase_actor_id'].unique())}\", end=\"\\n\\n\")\n",
    "\n",
    "print(f\"Percentage of missing gender: {characters_df['actor_gender'].isna().sum()/total_characters*100:.2f}%\")\n",
    "print(f\"Percentage of missing height: {characters_df['actor_height'].isna().sum()/total_characters*100:.2f}%\")\n",
    "print(f\"Percentage of missing ethnicity: {characters_df['actor_ethnicity'].isna().sum()/total_characters*100:.2f}%\")\n",
    "print(f\"Percentage of missing age upon release: {characters_df['release_actor_age'].isna().sum()/total_characters*100:.2f}%\")"
   ]
  },
  {
   "cell_type": "code",
   "execution_count": 35,
   "metadata": {},
   "outputs": [
    {
     "name": "stdout",
     "output_type": "stream",
     "text": [
      "Number of character records for which ethnicity is known: 106058\n",
      "Number of unique actors for which ethnicity is known: 8151\n"
     ]
    }
   ],
   "source": [
    "print(f\"Number of character records for which ethnicity is known: {len(characters_df[~characters_df['actor_ethnicity'].isna()])}\")\n",
    "print(f\"Number of unique actors for which ethnicity is known: {len(characters_df[~characters_df['actor_ethnicity'].isna()]['freebase_actor_id'].unique())}\")"
   ]
  },
  {
   "cell_type": "markdown",
   "metadata": {},
   "source": [
    "### Movies"
   ]
  },
  {
   "cell_type": "code",
   "execution_count": 4,
   "metadata": {},
   "outputs": [
    {
     "data": {
      "text/html": [
       "<div>\n",
       "<style scoped>\n",
       "    .dataframe tbody tr th:only-of-type {\n",
       "        vertical-align: middle;\n",
       "    }\n",
       "\n",
       "    .dataframe tbody tr th {\n",
       "        vertical-align: top;\n",
       "    }\n",
       "\n",
       "    .dataframe thead th {\n",
       "        text-align: right;\n",
       "    }\n",
       "</style>\n",
       "<table border=\"1\" class=\"dataframe\">\n",
       "  <thead>\n",
       "    <tr style=\"text-align: right;\">\n",
       "      <th></th>\n",
       "      <th>wiki_movie_id</th>\n",
       "      <th>freebase_movie_id</th>\n",
       "      <th>movie_name</th>\n",
       "      <th>movie_release_date</th>\n",
       "      <th>box_office</th>\n",
       "      <th>movie_runtime</th>\n",
       "      <th>movie_languages</th>\n",
       "      <th>movie_countries</th>\n",
       "      <th>movie_genres</th>\n",
       "    </tr>\n",
       "  </thead>\n",
       "  <tbody>\n",
       "    <tr>\n",
       "      <th>46401</th>\n",
       "      <td>13806062</td>\n",
       "      <td>/m/05p0pmh</td>\n",
       "      <td>Secret of Giving</td>\n",
       "      <td>1999</td>\n",
       "      <td>NaN</td>\n",
       "      <td>87.0</td>\n",
       "      <td>{'/m/02h40lc': 'English Language'}</td>\n",
       "      <td>{'/m/09c7w0': 'United States of America'}</td>\n",
       "      <td>{'/m/0hfjk': 'Western', '/m/07s9rl0': 'Drama',...</td>\n",
       "    </tr>\n",
       "    <tr>\n",
       "      <th>11698</th>\n",
       "      <td>4541896</td>\n",
       "      <td>/m/0c7z7q</td>\n",
       "      <td>Next Stop Wonderland</td>\n",
       "      <td>1998-08-21</td>\n",
       "      <td>3386698.0</td>\n",
       "      <td>96.0</td>\n",
       "      <td>{'/m/02h40lc': 'English Language'}</td>\n",
       "      <td>{'/m/09c7w0': 'United States of America'}</td>\n",
       "      <td>{'/m/06cvj': 'Romantic comedy', '/m/0219x_': '...</td>\n",
       "    </tr>\n",
       "    <tr>\n",
       "      <th>1026</th>\n",
       "      <td>14613957</td>\n",
       "      <td>/m/03gqmqv</td>\n",
       "      <td>Rose of the Rancho</td>\n",
       "      <td>1914-11-15</td>\n",
       "      <td>87028.0</td>\n",
       "      <td>NaN</td>\n",
       "      <td>{'/m/06ppq': 'Silent film', '/m/02h40lc': 'Eng...</td>\n",
       "      <td>{'/m/09c7w0': 'United States of America'}</td>\n",
       "      <td>{'/m/0hfjk': 'Western', '/m/06ppq': 'Silent fi...</td>\n",
       "    </tr>\n",
       "    <tr>\n",
       "      <th>28643</th>\n",
       "      <td>31156503</td>\n",
       "      <td>/m/0gh6tgn</td>\n",
       "      <td>Inthu Manushyano</td>\n",
       "      <td>1973</td>\n",
       "      <td>NaN</td>\n",
       "      <td>NaN</td>\n",
       "      <td>{'/m/0999q': 'Malayalam Language'}</td>\n",
       "      <td>{'/m/03rk0': 'India'}</td>\n",
       "      <td>{}</td>\n",
       "    </tr>\n",
       "    <tr>\n",
       "      <th>78238</th>\n",
       "      <td>32790121</td>\n",
       "      <td>/m/0h3wxss</td>\n",
       "      <td>Atrocious</td>\n",
       "      <td>NaN</td>\n",
       "      <td>NaN</td>\n",
       "      <td>75.0</td>\n",
       "      <td>{'/m/06nm1': 'Spanish Language'}</td>\n",
       "      <td>{'/m/06mkj': 'Spain'}</td>\n",
       "      <td>{'/m/03npn': 'Horror'}</td>\n",
       "    </tr>\n",
       "  </tbody>\n",
       "</table>\n",
       "</div>"
      ],
      "text/plain": [
       "       wiki_movie_id freebase_movie_id            movie_name  \\\n",
       "46401       13806062        /m/05p0pmh      Secret of Giving   \n",
       "11698        4541896         /m/0c7z7q  Next Stop Wonderland   \n",
       "1026        14613957        /m/03gqmqv    Rose of the Rancho   \n",
       "28643       31156503        /m/0gh6tgn      Inthu Manushyano   \n",
       "78238       32790121        /m/0h3wxss             Atrocious   \n",
       "\n",
       "      movie_release_date  box_office  movie_runtime  \\\n",
       "46401               1999         NaN           87.0   \n",
       "11698         1998-08-21   3386698.0           96.0   \n",
       "1026          1914-11-15     87028.0            NaN   \n",
       "28643               1973         NaN            NaN   \n",
       "78238                NaN         NaN           75.0   \n",
       "\n",
       "                                         movie_languages  \\\n",
       "46401                 {'/m/02h40lc': 'English Language'}   \n",
       "11698                 {'/m/02h40lc': 'English Language'}   \n",
       "1026   {'/m/06ppq': 'Silent film', '/m/02h40lc': 'Eng...   \n",
       "28643                 {'/m/0999q': 'Malayalam Language'}   \n",
       "78238                   {'/m/06nm1': 'Spanish Language'}   \n",
       "\n",
       "                                 movie_countries  \\\n",
       "46401  {'/m/09c7w0': 'United States of America'}   \n",
       "11698  {'/m/09c7w0': 'United States of America'}   \n",
       "1026   {'/m/09c7w0': 'United States of America'}   \n",
       "28643                      {'/m/03rk0': 'India'}   \n",
       "78238                      {'/m/06mkj': 'Spain'}   \n",
       "\n",
       "                                            movie_genres  \n",
       "46401  {'/m/0hfjk': 'Western', '/m/07s9rl0': 'Drama',...  \n",
       "11698  {'/m/06cvj': 'Romantic comedy', '/m/0219x_': '...  \n",
       "1026   {'/m/0hfjk': 'Western', '/m/06ppq': 'Silent fi...  \n",
       "28643                                                 {}  \n",
       "78238                             {'/m/03npn': 'Horror'}  "
      ]
     },
     "execution_count": 4,
     "metadata": {},
     "output_type": "execute_result"
    }
   ],
   "source": [
    "movies_df.sample(5)"
   ]
  },
  {
   "cell_type": "code",
   "execution_count": 5,
   "metadata": {},
   "outputs": [
    {
     "name": "stdout",
     "output_type": "stream",
     "text": [
      "Number of movies loaded: 81741\n",
      "Percentage of box office revenue: 89.72%\n"
     ]
    }
   ],
   "source": [
    "total_movies = len(movies_df)\n",
    "print(f\"Number of movies loaded: {total_movies}\")\n",
    "print(f\"Percentage of box office revenue: {movies_df['box_office'].isna().sum()/total_movies*100:.2f}%\")"
   ]
  },
  {
   "cell_type": "code",
   "execution_count": 50,
   "metadata": {},
   "outputs": [
    {
     "name": "stdout",
     "output_type": "stream",
     "text": [
      "Number of movies for which we have matching character data: 64330\n"
     ]
    }
   ],
   "source": [
    "print(f\"Number of movies for which we have matching character data: {len(movies_df.merge(characters_df, how='inner', on=['wiki_movie_id', 'freebase_movie_id'])['freebase_movie_id'].unique())}\")"
   ]
  },
  {
   "cell_type": "markdown",
   "metadata": {},
   "source": [
    "### Plot"
   ]
  },
  {
   "cell_type": "code",
   "execution_count": 6,
   "metadata": {
    "scrolled": false,
    "tags": []
   },
   "outputs": [
    {
     "data": {
      "text/html": [
       "<div>\n",
       "<style scoped>\n",
       "    .dataframe tbody tr th:only-of-type {\n",
       "        vertical-align: middle;\n",
       "    }\n",
       "\n",
       "    .dataframe tbody tr th {\n",
       "        vertical-align: top;\n",
       "    }\n",
       "\n",
       "    .dataframe thead th {\n",
       "        text-align: right;\n",
       "    }\n",
       "</style>\n",
       "<table border=\"1\" class=\"dataframe\">\n",
       "  <thead>\n",
       "    <tr style=\"text-align: right;\">\n",
       "      <th></th>\n",
       "      <th>wiki_movie_id</th>\n",
       "      <th>plot_summary</th>\n",
       "    </tr>\n",
       "  </thead>\n",
       "  <tbody>\n",
       "    <tr>\n",
       "      <th>20777</th>\n",
       "      <td>6851920</td>\n",
       "      <td>Bobby Deol  is a young man from an upper-middl...</td>\n",
       "    </tr>\n",
       "    <tr>\n",
       "      <th>19408</th>\n",
       "      <td>25681893</td>\n",
       "      <td>Víctor Martínez  is a shy 36-year-old man work...</td>\n",
       "    </tr>\n",
       "    <tr>\n",
       "      <th>38357</th>\n",
       "      <td>13267586</td>\n",
       "      <td>A film maker thinks that he is HIV positive an...</td>\n",
       "    </tr>\n",
       "    <tr>\n",
       "      <th>20493</th>\n",
       "      <td>1931788</td>\n",
       "      <td>Hannie Caulder  is a frontier wife whose husba...</td>\n",
       "    </tr>\n",
       "    <tr>\n",
       "      <th>1297</th>\n",
       "      <td>25899488</td>\n",
       "      <td>Haridas moves to the city after his twin siste...</td>\n",
       "    </tr>\n",
       "  </tbody>\n",
       "</table>\n",
       "</div>"
      ],
      "text/plain": [
       "       wiki_movie_id                                       plot_summary\n",
       "20777        6851920  Bobby Deol  is a young man from an upper-middl...\n",
       "19408       25681893  Víctor Martínez  is a shy 36-year-old man work...\n",
       "38357       13267586  A film maker thinks that he is HIV positive an...\n",
       "20493        1931788  Hannie Caulder  is a frontier wife whose husba...\n",
       "1297        25899488  Haridas moves to the city after his twin siste..."
      ]
     },
     "execution_count": 6,
     "metadata": {},
     "output_type": "execute_result"
    }
   ],
   "source": [
    "plot_df.sample(5)"
   ]
  },
  {
   "cell_type": "code",
   "execution_count": 55,
   "metadata": {},
   "outputs": [
    {
     "name": "stdout",
     "output_type": "stream",
     "text": [
      "Number of plot summaries loaded: 42303\n"
     ]
    }
   ],
   "source": [
    "total_plot = len(plot_df)\n",
    "print(f\"Number of plot summaries loaded: {total_plot}\")"
   ]
  },
  {
   "cell_type": "markdown",
   "metadata": {},
   "source": [
    "### Tropes"
   ]
  },
  {
   "cell_type": "code",
   "execution_count": 57,
   "metadata": {
    "scrolled": true,
    "tags": []
   },
   "outputs": [
    {
     "data": {
      "text/html": [
       "<div>\n",
       "<style scoped>\n",
       "    .dataframe tbody tr th:only-of-type {\n",
       "        vertical-align: middle;\n",
       "    }\n",
       "\n",
       "    .dataframe tbody tr th {\n",
       "        vertical-align: top;\n",
       "    }\n",
       "\n",
       "    .dataframe thead th {\n",
       "        text-align: right;\n",
       "    }\n",
       "</style>\n",
       "<table border=\"1\" class=\"dataframe\">\n",
       "  <thead>\n",
       "    <tr style=\"text-align: right;\">\n",
       "      <th></th>\n",
       "      <th>trope_name</th>\n",
       "      <th>character_data</th>\n",
       "    </tr>\n",
       "  </thead>\n",
       "  <tbody>\n",
       "    <tr>\n",
       "      <th>288</th>\n",
       "      <td>grumpy_old_man</td>\n",
       "      <td>{'char': 'Judge Elihu Smails', 'movie': 'Caddy...</td>\n",
       "    </tr>\n",
       "    <tr>\n",
       "      <th>360</th>\n",
       "      <td>morally_bankrupt_banker</td>\n",
       "      <td>{'char': 'Patrick Bateman', 'movie': 'American...</td>\n",
       "    </tr>\n",
       "    <tr>\n",
       "      <th>357</th>\n",
       "      <td>master_swordsman</td>\n",
       "      <td>{'char': 'Blade', 'movie': 'Blade', 'id': '/m/...</td>\n",
       "    </tr>\n",
       "    <tr>\n",
       "      <th>120</th>\n",
       "      <td>corrupt_corporate_executive</td>\n",
       "      <td>{'char': 'B.Z.', 'movie': 'Santa Claus: The Mo...</td>\n",
       "    </tr>\n",
       "    <tr>\n",
       "      <th>261</th>\n",
       "      <td>final_girl</td>\n",
       "      <td>{'char': 'Laurie Strode', 'movie': 'Halloween'...</td>\n",
       "    </tr>\n",
       "  </tbody>\n",
       "</table>\n",
       "</div>"
      ],
      "text/plain": [
       "                      trope_name  \\\n",
       "288               grumpy_old_man   \n",
       "360      morally_bankrupt_banker   \n",
       "357             master_swordsman   \n",
       "120  corrupt_corporate_executive   \n",
       "261                   final_girl   \n",
       "\n",
       "                                        character_data  \n",
       "288  {'char': 'Judge Elihu Smails', 'movie': 'Caddy...  \n",
       "360  {'char': 'Patrick Bateman', 'movie': 'American...  \n",
       "357  {'char': 'Blade', 'movie': 'Blade', 'id': '/m/...  \n",
       "120  {'char': 'B.Z.', 'movie': 'Santa Claus: The Mo...  \n",
       "261  {'char': 'Laurie Strode', 'movie': 'Halloween'...  "
      ]
     },
     "execution_count": 57,
     "metadata": {},
     "output_type": "execute_result"
    }
   ],
   "source": [
    "tvtropes_df.sample(5)"
   ]
  },
  {
   "cell_type": "code",
   "execution_count": 58,
   "metadata": {},
   "outputs": [
    {
     "name": "stdout",
     "output_type": "stream",
     "text": [
      "Number of tropes loaded: 501\n"
     ]
    }
   ],
   "source": [
    "total_tropes = len(tvtropes_df)\n",
    "print(f\"Number of tropes loaded: {total_tropes}\")"
   ]
  },
  {
   "cell_type": "markdown",
   "metadata": {},
   "source": [
    "# -- Luca stopped cleanup here --"
   ]
  },
  {
   "cell_type": "code",
   "execution_count": 8,
   "metadata": {
    "tags": []
   },
   "outputs": [],
   "source": [
    "# extract years from the release date of movies\n",
    "movies_df.loc[:, 'movie_release_year'] = movies_df['movie_release_date'].astype(str).str[:4]\n",
    "movies_df = movies_df[movies_df['movie_release_year'].str.contains(\"nan\")==False]\n",
    "movies_df['movie_release_year'] = movies_df['movie_release_year'].astype(int)\n"
   ]
  },
  {
   "cell_type": "code",
   "execution_count": 9,
   "metadata": {
    "tags": []
   },
   "outputs": [],
   "source": [
    "wrong_dates = movies_df[movies_df['movie_release_year'] < 1800].index\n",
    "# there is only one movie that has the release date 1010, so we can change 1010 to 2010\n",
    "movies_df.loc[wrong_dates, 'movie_release_year']= 2010\n",
    "movies_df.loc[wrong_dates, 'movie_release_date'] ='2010-12-02'"
   ]
  },
  {
   "cell_type": "markdown",
   "metadata": {},
   "source": [
    "## Perfomance of the movie in terms of revenue"
   ]
  },
  {
   "cell_type": "code",
   "execution_count": 9,
   "metadata": {
    "tags": []
   },
   "outputs": [
    {
     "name": "stdout",
     "output_type": "stream",
     "text": [
      "88.87% values for the box office revenue are missing.\n"
     ]
    }
   ],
   "source": [
    "# how many missing values in the column box_office\n",
    "percentage_missing = movies_df['box_office'].isna().sum() / len(movies_df) * 100\n",
    "print(\"{:.2f}% values for the box office revenue are missing.\".format(percentage_missing))"
   ]
  },
  {
   "cell_type": "markdown",
   "metadata": {},
   "source": [
    "## Extract ratings from the IMDB rating dataset\n",
    "\n",
    "file: title.rating.tsv\n",
    "-    tconst: unique identifier of the movie\n",
    "-    averageRating: average of user ratings\n",
    "-    numVotes: number of ratings submitted for the movie\n"
   ]
  },
  {
   "cell_type": "code",
   "execution_count": null,
   "metadata": {
    "tags": []
   },
   "outputs": [],
   "source": [
    "imdb_ratings_df = load_imdb_ratings()\n",
    "imdb_title_df = load_imdb_title_basics()\n",
    "imdb_principals_df = load_imdb_title_principals()\n",
    "imdb_people_df = load_imdb_person_basics()"
   ]
  },
  {
   "cell_type": "code",
   "execution_count": 17,
   "metadata": {},
   "outputs": [
    {
     "name": "stdout",
     "output_type": "stream",
     "text": [
      "wiki_movie_id         74839\n",
      "freebase_movie_id     74839\n",
      "movie_name            74839\n",
      "movie_release_date    74839\n",
      "box_office             8328\n",
      "movie_runtime         58631\n",
      "movie_languages       74839\n",
      "movie_countries       74839\n",
      "movie_genres          74839\n",
      "movie_release_year    74839\n",
      "dtype: int64\n",
      "==========\n",
      "tconst            661815\n",
      "titleType         661815\n",
      "primaryTitle      661815\n",
      "originalTitle     661815\n",
      "isAdult           661815\n",
      "startYear         661815\n",
      "endYear           661815\n",
      "runtimeMinutes    661815\n",
      "genres            661815\n",
      "dtype: int64\n"
     ]
    }
   ],
   "source": [
    "print(movies_df.count())\n",
    "print('==========')\n",
    "print(imdb_title_df.count())"
   ]
  },
  {
   "cell_type": "code",
   "execution_count": 3,
   "metadata": {
    "tags": []
   },
   "outputs": [
    {
     "ename": "NameError",
     "evalue": "name 'imdb_title_df' is not defined",
     "output_type": "error",
     "traceback": [
      "\u001b[0;31m---------------------------------------------------------------------------\u001b[0m",
      "\u001b[0;31mNameError\u001b[0m                                 Traceback (most recent call last)",
      "Cell \u001b[0;32mIn[3], line 2\u001b[0m\n\u001b[1;32m      1\u001b[0m \u001b[38;5;66;03m# Extract the movies from the title.basics imbd dataset\u001b[39;00m\n\u001b[0;32m----> 2\u001b[0m imdb_title_df\u001b[38;5;241m.\u001b[39msample(\u001b[38;5;241m5\u001b[39m)\n",
      "\u001b[0;31mNameError\u001b[0m: name 'imdb_title_df' is not defined"
     ]
    }
   ],
   "source": [
    "# Extract the movies from the title.basics imbd dataset\n",
    "imdb_title_df.sample(5)"
   ]
  },
  {
   "cell_type": "code",
   "execution_count": 19,
   "metadata": {},
   "outputs": [
    {
     "data": {
      "text/html": [
       "<div>\n",
       "<style scoped>\n",
       "    .dataframe tbody tr th:only-of-type {\n",
       "        vertical-align: middle;\n",
       "    }\n",
       "\n",
       "    .dataframe tbody tr th {\n",
       "        vertical-align: top;\n",
       "    }\n",
       "\n",
       "    .dataframe thead th {\n",
       "        text-align: right;\n",
       "    }\n",
       "</style>\n",
       "<table border=\"1\" class=\"dataframe\">\n",
       "  <thead>\n",
       "    <tr style=\"text-align: right;\">\n",
       "      <th></th>\n",
       "      <th>nconst</th>\n",
       "      <th>primaryName</th>\n",
       "      <th>birthYear</th>\n",
       "      <th>deathYear</th>\n",
       "      <th>primaryProfession</th>\n",
       "      <th>knownForTitles</th>\n",
       "    </tr>\n",
       "  </thead>\n",
       "  <tbody>\n",
       "    <tr>\n",
       "      <th>5565840</th>\n",
       "      <td>nm14995081</td>\n",
       "      <td>Tau Braun</td>\n",
       "      <td>\\N</td>\n",
       "      <td>\\N</td>\n",
       "      <td>NaN</td>\n",
       "      <td>tt22696252</td>\n",
       "    </tr>\n",
       "    <tr>\n",
       "      <th>252954</th>\n",
       "      <td>nm0267003</td>\n",
       "      <td>Tim Faraday</td>\n",
       "      <td>\\N</td>\n",
       "      <td>\\N</td>\n",
       "      <td>actor,director,producer</td>\n",
       "      <td>tt0808096,tt3569230,tt0208092,tt1139328</td>\n",
       "    </tr>\n",
       "    <tr>\n",
       "      <th>1061000</th>\n",
       "      <td>nm10150070</td>\n",
       "      <td>Ivan Aguirre</td>\n",
       "      <td>\\N</td>\n",
       "      <td>\\N</td>\n",
       "      <td>actor</td>\n",
       "      <td>tt7933566</td>\n",
       "    </tr>\n",
       "    <tr>\n",
       "      <th>6520076</th>\n",
       "      <td>nm2185071</td>\n",
       "      <td>Patrick Queen</td>\n",
       "      <td>\\N</td>\n",
       "      <td>\\N</td>\n",
       "      <td>miscellaneous,editorial_department,camera_depa...</td>\n",
       "      <td>tt9814218,tt3097248,tt6223802,tt5976986</td>\n",
       "    </tr>\n",
       "    <tr>\n",
       "      <th>12805530</th>\n",
       "      <td>nm9792012</td>\n",
       "      <td>Skrotes</td>\n",
       "      <td>\\N</td>\n",
       "      <td>\\N</td>\n",
       "      <td>composer</td>\n",
       "      <td>tt8321498</td>\n",
       "    </tr>\n",
       "  </tbody>\n",
       "</table>\n",
       "</div>"
      ],
      "text/plain": [
       "              nconst    primaryName birthYear deathYear  \\\n",
       "5565840   nm14995081      Tau Braun        \\N        \\N   \n",
       "252954     nm0267003    Tim Faraday        \\N        \\N   \n",
       "1061000   nm10150070   Ivan Aguirre        \\N        \\N   \n",
       "6520076    nm2185071  Patrick Queen        \\N        \\N   \n",
       "12805530   nm9792012        Skrotes        \\N        \\N   \n",
       "\n",
       "                                          primaryProfession  \\\n",
       "5565840                                                 NaN   \n",
       "252954                              actor,director,producer   \n",
       "1061000                                               actor   \n",
       "6520076   miscellaneous,editorial_department,camera_depa...   \n",
       "12805530                                           composer   \n",
       "\n",
       "                                   knownForTitles  \n",
       "5565840                                tt22696252  \n",
       "252954    tt0808096,tt3569230,tt0208092,tt1139328  \n",
       "1061000                                 tt7933566  \n",
       "6520076   tt9814218,tt3097248,tt6223802,tt5976986  \n",
       "12805530                                tt8321498  "
      ]
     },
     "execution_count": 19,
     "metadata": {},
     "output_type": "execute_result"
    }
   ],
   "source": [
    "imdb_people_df.sample(5)"
   ]
  },
  {
   "cell_type": "code",
   "execution_count": 20,
   "metadata": {},
   "outputs": [
    {
     "data": {
      "text/html": [
       "<div>\n",
       "<style scoped>\n",
       "    .dataframe tbody tr th:only-of-type {\n",
       "        vertical-align: middle;\n",
       "    }\n",
       "\n",
       "    .dataframe tbody tr th {\n",
       "        vertical-align: top;\n",
       "    }\n",
       "\n",
       "    .dataframe thead th {\n",
       "        text-align: right;\n",
       "    }\n",
       "</style>\n",
       "<table border=\"1\" class=\"dataframe\">\n",
       "  <thead>\n",
       "    <tr style=\"text-align: right;\">\n",
       "      <th></th>\n",
       "      <th>tconst</th>\n",
       "      <th>ordering</th>\n",
       "      <th>nconst</th>\n",
       "      <th>category</th>\n",
       "      <th>job</th>\n",
       "      <th>characters</th>\n",
       "    </tr>\n",
       "  </thead>\n",
       "  <tbody>\n",
       "    <tr>\n",
       "      <th>24420608</th>\n",
       "      <td>tt15564846</td>\n",
       "      <td>7</td>\n",
       "      <td>nm12374146</td>\n",
       "      <td>writer</td>\n",
       "      <td>\\N</td>\n",
       "      <td>\\N</td>\n",
       "    </tr>\n",
       "    <tr>\n",
       "      <th>38145263</th>\n",
       "      <td>tt27609766</td>\n",
       "      <td>2</td>\n",
       "      <td>nm0110828</td>\n",
       "      <td>writer</td>\n",
       "      <td>head writer</td>\n",
       "      <td>\\N</td>\n",
       "    </tr>\n",
       "    <tr>\n",
       "      <th>18788392</th>\n",
       "      <td>tt13648152</td>\n",
       "      <td>2</td>\n",
       "      <td>nm6209025</td>\n",
       "      <td>self</td>\n",
       "      <td>\\N</td>\n",
       "      <td>[\"Self - Co-Host\"]</td>\n",
       "    </tr>\n",
       "    <tr>\n",
       "      <th>13270950</th>\n",
       "      <td>tt11703382</td>\n",
       "      <td>5</td>\n",
       "      <td>nm1168198</td>\n",
       "      <td>director</td>\n",
       "      <td>\\N</td>\n",
       "      <td>\\N</td>\n",
       "    </tr>\n",
       "    <tr>\n",
       "      <th>5412367</th>\n",
       "      <td>tt0725520</td>\n",
       "      <td>3</td>\n",
       "      <td>nm0429809</td>\n",
       "      <td>self</td>\n",
       "      <td>\\N</td>\n",
       "      <td>[\"Self\"]</td>\n",
       "    </tr>\n",
       "  </tbody>\n",
       "</table>\n",
       "</div>"
      ],
      "text/plain": [
       "              tconst  ordering      nconst  category          job  \\\n",
       "24420608  tt15564846         7  nm12374146    writer           \\N   \n",
       "38145263  tt27609766         2   nm0110828    writer  head writer   \n",
       "18788392  tt13648152         2   nm6209025      self           \\N   \n",
       "13270950  tt11703382         5   nm1168198  director           \\N   \n",
       "5412367    tt0725520         3   nm0429809      self           \\N   \n",
       "\n",
       "                  characters  \n",
       "24420608                  \\N  \n",
       "38145263                  \\N  \n",
       "18788392  [\"Self - Co-Host\"]  \n",
       "13270950                  \\N  \n",
       "5412367             [\"Self\"]  "
      ]
     },
     "execution_count": 20,
     "metadata": {},
     "output_type": "execute_result"
    }
   ],
   "source": [
    "imdb_principals_df.sample(5)"
   ]
  },
  {
   "cell_type": "code",
   "execution_count": 21,
   "metadata": {
    "tags": []
   },
   "outputs": [
    {
     "data": {
      "text/html": [
       "<div>\n",
       "<style scoped>\n",
       "    .dataframe tbody tr th:only-of-type {\n",
       "        vertical-align: middle;\n",
       "    }\n",
       "\n",
       "    .dataframe tbody tr th {\n",
       "        vertical-align: top;\n",
       "    }\n",
       "\n",
       "    .dataframe thead th {\n",
       "        text-align: right;\n",
       "    }\n",
       "</style>\n",
       "<table border=\"1\" class=\"dataframe\">\n",
       "  <thead>\n",
       "    <tr style=\"text-align: right;\">\n",
       "      <th></th>\n",
       "      <th>tconst</th>\n",
       "      <th>averageRating</th>\n",
       "      <th>numVotes</th>\n",
       "      <th>titleType</th>\n",
       "      <th>primaryTitle</th>\n",
       "      <th>originalTitle</th>\n",
       "      <th>isAdult</th>\n",
       "      <th>startYear</th>\n",
       "      <th>endYear</th>\n",
       "      <th>runtimeMinutes</th>\n",
       "      <th>genres</th>\n",
       "    </tr>\n",
       "  </thead>\n",
       "  <tbody>\n",
       "    <tr>\n",
       "      <th>0</th>\n",
       "      <td>tt0000009</td>\n",
       "      <td>5.3</td>\n",
       "      <td>207</td>\n",
       "      <td>movie</td>\n",
       "      <td>Miss Jerry</td>\n",
       "      <td>Miss Jerry</td>\n",
       "      <td>0</td>\n",
       "      <td>1894</td>\n",
       "      <td>\\N</td>\n",
       "      <td>45</td>\n",
       "      <td>Romance</td>\n",
       "    </tr>\n",
       "    <tr>\n",
       "      <th>1</th>\n",
       "      <td>tt0000147</td>\n",
       "      <td>5.3</td>\n",
       "      <td>484</td>\n",
       "      <td>movie</td>\n",
       "      <td>The Corbett-Fitzsimmons Fight</td>\n",
       "      <td>The Corbett-Fitzsimmons Fight</td>\n",
       "      <td>0</td>\n",
       "      <td>1897</td>\n",
       "      <td>\\N</td>\n",
       "      <td>100</td>\n",
       "      <td>Documentary,News,Sport</td>\n",
       "    </tr>\n",
       "    <tr>\n",
       "      <th>2</th>\n",
       "      <td>tt0000502</td>\n",
       "      <td>4.1</td>\n",
       "      <td>15</td>\n",
       "      <td>movie</td>\n",
       "      <td>Bohemios</td>\n",
       "      <td>Bohemios</td>\n",
       "      <td>0</td>\n",
       "      <td>1905</td>\n",
       "      <td>\\N</td>\n",
       "      <td>100</td>\n",
       "      <td>\\N</td>\n",
       "    </tr>\n",
       "    <tr>\n",
       "      <th>3</th>\n",
       "      <td>tt0000574</td>\n",
       "      <td>6.0</td>\n",
       "      <td>854</td>\n",
       "      <td>movie</td>\n",
       "      <td>The Story of the Kelly Gang</td>\n",
       "      <td>The Story of the Kelly Gang</td>\n",
       "      <td>0</td>\n",
       "      <td>1906</td>\n",
       "      <td>\\N</td>\n",
       "      <td>70</td>\n",
       "      <td>Action,Adventure,Biography</td>\n",
       "    </tr>\n",
       "    <tr>\n",
       "      <th>4</th>\n",
       "      <td>tt0000591</td>\n",
       "      <td>5.0</td>\n",
       "      <td>21</td>\n",
       "      <td>movie</td>\n",
       "      <td>The Prodigal Son</td>\n",
       "      <td>L'enfant prodigue</td>\n",
       "      <td>0</td>\n",
       "      <td>1907</td>\n",
       "      <td>\\N</td>\n",
       "      <td>90</td>\n",
       "      <td>Drama</td>\n",
       "    </tr>\n",
       "  </tbody>\n",
       "</table>\n",
       "</div>"
      ],
      "text/plain": [
       "      tconst  averageRating  numVotes titleType  \\\n",
       "0  tt0000009            5.3       207     movie   \n",
       "1  tt0000147            5.3       484     movie   \n",
       "2  tt0000502            4.1        15     movie   \n",
       "3  tt0000574            6.0       854     movie   \n",
       "4  tt0000591            5.0        21     movie   \n",
       "\n",
       "                    primaryTitle                  originalTitle isAdult  \\\n",
       "0                     Miss Jerry                     Miss Jerry       0   \n",
       "1  The Corbett-Fitzsimmons Fight  The Corbett-Fitzsimmons Fight       0   \n",
       "2                       Bohemios                       Bohemios       0   \n",
       "3    The Story of the Kelly Gang    The Story of the Kelly Gang       0   \n",
       "4               The Prodigal Son              L'enfant prodigue       0   \n",
       "\n",
       "  startYear endYear runtimeMinutes                      genres  \n",
       "0      1894      \\N             45                     Romance  \n",
       "1      1897      \\N            100      Documentary,News,Sport  \n",
       "2      1905      \\N            100                          \\N  \n",
       "3      1906      \\N             70  Action,Adventure,Biography  \n",
       "4      1907      \\N             90                       Drama  "
      ]
     },
     "execution_count": 21,
     "metadata": {},
     "output_type": "execute_result"
    }
   ],
   "source": [
    "# merge with ratings\n",
    "imdb_ratings_meta = imdb_ratings_df.merge(imdb_title_df, on='tconst', how='inner')\n",
    "imdb_ratings_meta.head()"
   ]
  },
  {
   "cell_type": "markdown",
   "metadata": {},
   "source": [
    "## Merge the CMU dataset with the IMDB\n",
    "\n",
    "We first import the translation dataframe, which includes both the IMDB id and the Freebase id, enabling us to combine the IMDB dataset with the CMU dataset."
   ]
  },
  {
   "cell_type": "code",
   "execution_count": 15,
   "metadata": {},
   "outputs": [
    {
     "data": {
      "text/plain": [
       "Index(['imdb_id', 'freebase_id'], dtype='object')"
      ]
     },
     "execution_count": 15,
     "metadata": {},
     "output_type": "execute_result"
    }
   ],
   "source": [
    "translation_id = load_translation_df()\n",
    "translation_id.columns"
   ]
  },
  {
   "cell_type": "markdown",
   "metadata": {},
   "source": [
    "Then we merge the IMDB ratings with the CMU dataset"
   ]
  },
  {
   "cell_type": "code",
   "execution_count": 16,
   "metadata": {},
   "outputs": [],
   "source": [
    "imdb_ratings_translated_df = imdb_ratings_df.merge(translation_id, how='inner', left_on='tconst', right_on='imdb_id')\n",
    "merged_df = imdb_ratings_translated_df.merge(movies_df, how='inner', left_on='freebase_id', right_on='freebase_movie_id')"
   ]
  },
  {
   "cell_type": "code",
   "execution_count": 17,
   "metadata": {},
   "outputs": [
    {
     "name": "stdout",
     "output_type": "stream",
     "text": [
      "The merged dataframe contains 52003 movies\n"
     ]
    }
   ],
   "source": [
    "print(f\"The merged dataframe contains {len(merged_df)} movies\")"
   ]
  },
  {
   "cell_type": "markdown",
   "metadata": {},
   "source": [
    "## Load personas"
   ]
  },
  {
   "cell_type": "code",
   "execution_count": 10,
   "metadata": {},
   "outputs": [],
   "source": [
    "personas_df = load_personas()"
   ]
  },
  {
   "cell_type": "code",
   "execution_count": 11,
   "metadata": {},
   "outputs": [
    {
     "data": {
      "text/html": [
       "<div>\n",
       "<style scoped>\n",
       "    .dataframe tbody tr th:only-of-type {\n",
       "        vertical-align: middle;\n",
       "    }\n",
       "\n",
       "    .dataframe tbody tr th {\n",
       "        vertical-align: top;\n",
       "    }\n",
       "\n",
       "    .dataframe thead th {\n",
       "        text-align: right;\n",
       "    }\n",
       "</style>\n",
       "<table border=\"1\" class=\"dataframe\">\n",
       "  <thead>\n",
       "    <tr style=\"text-align: right;\">\n",
       "      <th></th>\n",
       "      <th>freebase_id</th>\n",
       "      <th>movie_name</th>\n",
       "      <th>secondary_name</th>\n",
       "      <th>full_name</th>\n",
       "      <th>token_occurences</th>\n",
       "      <th>estimated_trope</th>\n",
       "      <th>trope_distrib</th>\n",
       "    </tr>\n",
       "  </thead>\n",
       "  <tbody>\n",
       "    <tr>\n",
       "      <th>0</th>\n",
       "      <td>e7</td>\n",
       "      <td>The Trap</td>\n",
       "      <td>she</td>\n",
       "      <td>her</td>\n",
       "      <td>5</td>\n",
       "      <td>1</td>\n",
       "      <td>[0.0, 0.63265, 0.0, 0.0, 0.0, 0.0, 0.0, 0.0, 0...</td>\n",
       "    </tr>\n",
       "    <tr>\n",
       "      <th>1</th>\n",
       "      <td>e8</td>\n",
       "      <td>The Trap</td>\n",
       "      <td>she</td>\n",
       "      <td>her</td>\n",
       "      <td>5</td>\n",
       "      <td>1</td>\n",
       "      <td>[0.0, 0.77551, 0.0, 0.0, 0.0, 0.0, 0.0, 0.0, 0...</td>\n",
       "    </tr>\n",
       "    <tr>\n",
       "      <th>2</th>\n",
       "      <td>e12</td>\n",
       "      <td>The Trap</td>\n",
       "      <td>he</td>\n",
       "      <td>his</td>\n",
       "      <td>7</td>\n",
       "      <td>19</td>\n",
       "      <td>[0.0, 0.0, 0.0, 0.0, 0.0, 0.0, 0.0, 0.0, 0.0, ...</td>\n",
       "    </tr>\n",
       "    <tr>\n",
       "      <th>3</th>\n",
       "      <td>e19</td>\n",
       "      <td>The Trap</td>\n",
       "      <td>she</td>\n",
       "      <td>her</td>\n",
       "      <td>6</td>\n",
       "      <td>1</td>\n",
       "      <td>[0.0, 0.67347, 0.0, 0.0, 0.0, 0.0, 0.0, 0.0, 0...</td>\n",
       "    </tr>\n",
       "    <tr>\n",
       "      <th>4</th>\n",
       "      <td>e4</td>\n",
       "      <td>The Trap</td>\n",
       "      <td>Eve</td>\n",
       "      <td>Eve</td>\n",
       "      <td>11</td>\n",
       "      <td>23</td>\n",
       "      <td>[0.0, 0.0, 0.0, 0.0, 0.0, 0.0, 0.0, 0.0, 0.0, ...</td>\n",
       "    </tr>\n",
       "    <tr>\n",
       "      <th>...</th>\n",
       "      <td>...</td>\n",
       "      <td>...</td>\n",
       "      <td>...</td>\n",
       "      <td>...</td>\n",
       "      <td>...</td>\n",
       "      <td>...</td>\n",
       "      <td>...</td>\n",
       "    </tr>\n",
       "    <tr>\n",
       "      <th>178729</th>\n",
       "      <td>e11</td>\n",
       "      <td>Una Aventura Llamada Menudo</td>\n",
       "      <td>Concepci</td>\n",
       "      <td>Danny Concepci</td>\n",
       "      <td>3</td>\n",
       "      <td>1</td>\n",
       "      <td>[0.0, 0.22449, 0.0, 0.0, 0.0, 0.0, 0.0, 0.0, 0...</td>\n",
       "    </tr>\n",
       "    <tr>\n",
       "      <th>178730</th>\n",
       "      <td>e10</td>\n",
       "      <td>Una Aventura Llamada Menudo</td>\n",
       "      <td>he</td>\n",
       "      <td>the son of C sar Concepci n Jr.</td>\n",
       "      <td>4</td>\n",
       "      <td>44</td>\n",
       "      <td>[0.0, 0.02041, 0.0, 0.0, 0.0, 0.0, 0.0, 0.0, 0...</td>\n",
       "    </tr>\n",
       "    <tr>\n",
       "      <th>178731</th>\n",
       "      <td>e1</td>\n",
       "      <td>Una Aventura Llamada Menudo</td>\n",
       "      <td>they</td>\n",
       "      <td>their</td>\n",
       "      <td>6</td>\n",
       "      <td>10</td>\n",
       "      <td>[0.0, 0.0, 0.0, 0.0, 0.0, 0.0, 0.0, 0.0, 0.0, ...</td>\n",
       "    </tr>\n",
       "    <tr>\n",
       "      <th>178732</th>\n",
       "      <td>e0</td>\n",
       "      <td>Plaza de Almas</td>\n",
       "      <td>he</td>\n",
       "      <td>his</td>\n",
       "      <td>6</td>\n",
       "      <td>1</td>\n",
       "      <td>[0.0, 0.46939, 0.0, 0.0, 0.0, 0.0, 0.0, 0.0, 0...</td>\n",
       "    </tr>\n",
       "    <tr>\n",
       "      <th>178733</th>\n",
       "      <td>e2</td>\n",
       "      <td>Plaza de Almas</td>\n",
       "      <td>she</td>\n",
       "      <td>a budding actress</td>\n",
       "      <td>4</td>\n",
       "      <td>27</td>\n",
       "      <td>[0.0, 0.04082, 0.10204, 0.0, 0.0, 0.0, 0.0, 0....</td>\n",
       "    </tr>\n",
       "  </tbody>\n",
       "</table>\n",
       "<p>178734 rows × 7 columns</p>\n",
       "</div>"
      ],
      "text/plain": [
       "       freebase_id                   movie_name secondary_name  \\\n",
       "0               e7                     The Trap            she   \n",
       "1               e8                     The Trap            she   \n",
       "2              e12                     The Trap             he   \n",
       "3              e19                     The Trap            she   \n",
       "4               e4                     The Trap            Eve   \n",
       "...            ...                          ...            ...   \n",
       "178729         e11  Una Aventura Llamada Menudo       Concepci   \n",
       "178730         e10  Una Aventura Llamada Menudo             he   \n",
       "178731          e1  Una Aventura Llamada Menudo           they   \n",
       "178732          e0               Plaza de Almas             he   \n",
       "178733          e2               Plaza de Almas            she   \n",
       "\n",
       "                              full_name  token_occurences  estimated_trope  \\\n",
       "0                                   her                 5                1   \n",
       "1                                   her                 5                1   \n",
       "2                                   his                 7               19   \n",
       "3                                   her                 6                1   \n",
       "4                                   Eve                11               23   \n",
       "...                                 ...               ...              ...   \n",
       "178729                   Danny Concepci                 3                1   \n",
       "178730  the son of C sar Concepci n Jr.                 4               44   \n",
       "178731                            their                 6               10   \n",
       "178732                              his                 6                1   \n",
       "178733                a budding actress                 4               27   \n",
       "\n",
       "                                            trope_distrib  \n",
       "0       [0.0, 0.63265, 0.0, 0.0, 0.0, 0.0, 0.0, 0.0, 0...  \n",
       "1       [0.0, 0.77551, 0.0, 0.0, 0.0, 0.0, 0.0, 0.0, 0...  \n",
       "2       [0.0, 0.0, 0.0, 0.0, 0.0, 0.0, 0.0, 0.0, 0.0, ...  \n",
       "3       [0.0, 0.67347, 0.0, 0.0, 0.0, 0.0, 0.0, 0.0, 0...  \n",
       "4       [0.0, 0.0, 0.0, 0.0, 0.0, 0.0, 0.0, 0.0, 0.0, ...  \n",
       "...                                                   ...  \n",
       "178729  [0.0, 0.22449, 0.0, 0.0, 0.0, 0.0, 0.0, 0.0, 0...  \n",
       "178730  [0.0, 0.02041, 0.0, 0.0, 0.0, 0.0, 0.0, 0.0, 0...  \n",
       "178731  [0.0, 0.0, 0.0, 0.0, 0.0, 0.0, 0.0, 0.0, 0.0, ...  \n",
       "178732  [0.0, 0.46939, 0.0, 0.0, 0.0, 0.0, 0.0, 0.0, 0...  \n",
       "178733  [0.0, 0.04082, 0.10204, 0.0, 0.0, 0.0, 0.0, 0....  \n",
       "\n",
       "[178734 rows x 7 columns]"
      ]
     },
     "execution_count": 11,
     "metadata": {},
     "output_type": "execute_result"
    }
   ],
   "source": [
    "personas_df"
   ]
  },
  {
   "cell_type": "code",
   "execution_count": 22,
   "metadata": {},
   "outputs": [
    {
     "data": {
      "text/html": [
       "<div>\n",
       "<style scoped>\n",
       "    .dataframe tbody tr th:only-of-type {\n",
       "        vertical-align: middle;\n",
       "    }\n",
       "\n",
       "    .dataframe tbody tr th {\n",
       "        vertical-align: top;\n",
       "    }\n",
       "\n",
       "    .dataframe thead th {\n",
       "        text-align: right;\n",
       "    }\n",
       "</style>\n",
       "<table border=\"1\" class=\"dataframe\">\n",
       "  <thead>\n",
       "    <tr style=\"text-align: right;\">\n",
       "      <th></th>\n",
       "      <th>freebase_id</th>\n",
       "      <th>movie_name</th>\n",
       "      <th>secondary_name</th>\n",
       "      <th>full_name</th>\n",
       "      <th>token_occurences</th>\n",
       "      <th>estimated_trope</th>\n",
       "      <th>trope_distrib</th>\n",
       "    </tr>\n",
       "  </thead>\n",
       "  <tbody>\n",
       "    <tr>\n",
       "      <th>105638</th>\n",
       "      <td>e6</td>\n",
       "      <td>The Four-Faced Liar</td>\n",
       "      <td>girlfriend</td>\n",
       "      <td>a girlfriend because no one can hold her inter...</td>\n",
       "      <td>5</td>\n",
       "      <td>26</td>\n",
       "      <td>[0.0, 0.0, 0.0, 0.0, 0.0, 0.0, 0.0, 0.0, 0.0, ...</td>\n",
       "    </tr>\n",
       "    <tr>\n",
       "      <th>178427</th>\n",
       "      <td>e5</td>\n",
       "      <td>The War Between Men and Women</td>\n",
       "      <td>she</td>\n",
       "      <td>her</td>\n",
       "      <td>8</td>\n",
       "      <td>26</td>\n",
       "      <td>[0.0, 0.34694, 0.0, 0.0, 0.0, 0.0, 0.0, 0.0, 0...</td>\n",
       "    </tr>\n",
       "    <tr>\n",
       "      <th>166965</th>\n",
       "      <td>/m/0bvsnb5</td>\n",
       "      <td>Stomp the Yard</td>\n",
       "      <td>Jackie</td>\n",
       "      <td>Jackie</td>\n",
       "      <td>6</td>\n",
       "      <td>26</td>\n",
       "      <td>[0.0, 0.0, 0.0, 0.0, 0.0, 0.0, 0.0, 0.0, 0.0, ...</td>\n",
       "    </tr>\n",
       "    <tr>\n",
       "      <th>137223</th>\n",
       "      <td>e23</td>\n",
       "      <td>Kohtalon kirja</td>\n",
       "      <td>friend</td>\n",
       "      <td>his friend who was on the line of fire</td>\n",
       "      <td>3</td>\n",
       "      <td>9</td>\n",
       "      <td>[0.0, 0.02041, 0.0, 0.0, 0.0, 0.0, 0.0, 0.0, 0...</td>\n",
       "    </tr>\n",
       "    <tr>\n",
       "      <th>8902</th>\n",
       "      <td>e11</td>\n",
       "      <td>That's My Mommy</td>\n",
       "      <td>Jerry</td>\n",
       "      <td>Jerry</td>\n",
       "      <td>17</td>\n",
       "      <td>24</td>\n",
       "      <td>[0.0, 0.0, 0.0, 0.0, 0.0, 0.0, 0.0, 0.0, 0.0, ...</td>\n",
       "    </tr>\n",
       "  </tbody>\n",
       "</table>\n",
       "</div>"
      ],
      "text/plain": [
       "       freebase_id                     movie_name secondary_name  \\\n",
       "105638          e6            The Four-Faced Liar     girlfriend   \n",
       "178427          e5  The War Between Men and Women            she   \n",
       "166965  /m/0bvsnb5                 Stomp the Yard         Jackie   \n",
       "137223         e23                 Kohtalon kirja         friend   \n",
       "8902           e11                That's My Mommy          Jerry   \n",
       "\n",
       "                                                full_name  token_occurences  \\\n",
       "105638  a girlfriend because no one can hold her inter...                 5   \n",
       "178427                                                her                 8   \n",
       "166965                                             Jackie                 6   \n",
       "137223             his friend who was on the line of fire                 3   \n",
       "8902                                                Jerry                17   \n",
       "\n",
       "        estimated_trope                                      trope_distrib  \n",
       "105638               26  [0.0, 0.0, 0.0, 0.0, 0.0, 0.0, 0.0, 0.0, 0.0, ...  \n",
       "178427               26  [0.0, 0.34694, 0.0, 0.0, 0.0, 0.0, 0.0, 0.0, 0...  \n",
       "166965               26  [0.0, 0.0, 0.0, 0.0, 0.0, 0.0, 0.0, 0.0, 0.0, ...  \n",
       "137223                9  [0.0, 0.02041, 0.0, 0.0, 0.0, 0.0, 0.0, 0.0, 0...  \n",
       "8902                 24  [0.0, 0.0, 0.0, 0.0, 0.0, 0.0, 0.0, 0.0, 0.0, ...  "
      ]
     },
     "execution_count": 22,
     "metadata": {},
     "output_type": "execute_result"
    }
   ],
   "source": [
    "personas_df.sample(5)"
   ]
  }
 ],
 "metadata": {
  "kernelspec": {
   "display_name": "Python 3 (ipykernel)",
   "language": "python",
   "name": "python3"
  },
  "language_info": {
   "codemirror_mode": {
    "name": "ipython",
    "version": 3
   },
   "file_extension": ".py",
   "mimetype": "text/x-python",
   "name": "python",
   "nbconvert_exporter": "python",
   "pygments_lexer": "ipython3",
   "version": "3.11.5"
  }
 },
 "nbformat": 4,
 "nbformat_minor": 4
}
