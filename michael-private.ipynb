{
 "cells": [
  {
   "cell_type": "code",
   "execution_count": 5,
   "id": "7304f245-3297-40a7-ab50-1e78cef148a3",
   "metadata": {
    "tags": []
   },
   "outputs": [],
   "source": [
    "import sys\n",
    "import matplotlib.pyplot as plt\n",
    "import seaborn as sns\n",
    "import numpy as np\n",
    "import math\n",
    "from collections import Counter\n",
    "import pandas as pd\n",
    "import warnings\n",
    "import json\n",
    "import os\n",
    "import plotly.figure_factory as ff\n",
    "from dash import Dash, dcc, html, callback, Input, Output\n",
    "\n",
    "import plotly.express as px\n",
    "import chart_studio.plotly as py\n",
    "\n",
    "# Allow python to import modules from the preprocessing folder\n",
    "sys.path.append(\"src/preprocessing/\")\n",
    "warnings.filterwarnings(\"ignore\") # For seaborn\n",
    "\n",
    "from load_dataset import *\n",
    "\n",
    "SAVE_PATH = \"./data/refined\"\n",
    "if not os.path.exists(SAVE_PATH):\n",
    "    os.mkdir(SAVE_PATH)"
   ]
  },
  {
   "cell_type": "code",
   "execution_count": 6,
   "id": "4da414eb-7c58-4aee-baab-000d81eed813",
   "metadata": {
    "tags": []
   },
   "outputs": [],
   "source": [
    "years = range(1960, 2012)\n",
    "movies_df = load_movies_df()"
   ]
  },
  {
   "cell_type": "code",
   "execution_count": 7,
   "id": "fef3bd9a-61f7-4223-8795-6c50f01ff8ae",
   "metadata": {
    "tags": []
   },
   "outputs": [],
   "source": [
    "movies_df['movie_release_year'] = movies_df[~movies_df['movie_release_date'].isna()]['movie_release_date'].astype(str).str[:4].astype(int)\n",
    "wrong_dates = movies_df[movies_df['movie_release_year'] < 1800].index\n",
    "movies_df.loc[wrong_dates]\n",
    "\n",
    "# A movie that has the release date 1010. We fix the typo to 2010\n",
    "movies_df.loc[wrong_dates, 'movie_release_year']= 2010\n",
    "movies_df.loc[wrong_dates, 'movie_release_date'] ='2010-12-02'"
   ]
  },
  {
   "cell_type": "code",
   "execution_count": 8,
   "id": "c6249b0b-0b39-4b95-aeaa-32c29ca27e4c",
   "metadata": {
    "tags": []
   },
   "outputs": [],
   "source": [
    "groupped = movies_df.groupby(\"movie_release_year\").sum().reset_index()\n",
    "groupped = groupped.loc[(groupped[\"movie_release_year\"] > 1960) & (groupped[\"movie_release_year\"] < 2012)]"
   ]
  },
  {
   "cell_type": "code",
   "execution_count": 9,
   "id": "bb9ece24-aeca-4bc8-988b-07e21b666a50",
   "metadata": {
    "tags": []
   },
   "outputs": [],
   "source": [
    "GDP_PATH = \"data/gdp/gdp_data.csv\"\n",
    "gdp_df = pd.read_csv(GDP_PATH)"
   ]
  },
  {
   "cell_type": "code",
   "execution_count": 10,
   "id": "51d2bc5a-163a-45ff-9af5-5d2f99b8e53e",
   "metadata": {
    "tags": []
   },
   "outputs": [],
   "source": [
    "iceland_gdp = gdp_df[gdp_df[\"Country Name\"] == \"Iceland\"]\n",
    "\n",
    "gdp_list = []\n",
    "for year in years:\n",
    "    gdp_list.append(iceland_gdp[str(year)].iloc[0])\n",
    "    \n",
    "iceland_gdp = pd.DataFrame.from_dict({\"year\" : years, \"iceland_gdp\" : gdp_list})"
   ]
  },
  {
   "cell_type": "code",
   "execution_count": 11,
   "id": "f8d32eeb-9b36-46d0-999a-48a619ef7180",
   "metadata": {
    "tags": []
   },
   "outputs": [],
   "source": [
    "groupped = groupped.merge(iceland_gdp, left_on=\"movie_release_year\", right_on=\"year\")\n",
    "groupped = groupped.rename(columns={\"box_office\" : \"Box-office\", \"iceland_gdp\" : \"Iceland GDP\"})\n",
    "groupped = groupped.drop(columns=[\"wiki_movie_id\", \"movie_runtime\", \"movie_release_year\"])"
   ]
  },
  {
   "cell_type": "code",
   "execution_count": 16,
   "id": "975fc8fe-b35d-4de2-bb05-ef1fa3ab6a97",
   "metadata": {
    "tags": []
   },
   "outputs": [],
   "source": [
    "melted = pd.melt(groupped, [\"year\"])\n",
    "melted = melted.rename(columns={\"value\" : \"Revenue (in $)\"})\n",
    "fig = px.line(melted, x=\"year\", y=\"Revenue (in $)\", color='variable')\n",
    "fig.update_layout(title_text=\"Comparison between Iceland GDP and movies' box office each year\", title_x=0.5)\n",
    "fig.write_html('plot/box_office_vs_gdp.html', auto_open=True)"
   ]
  },
  {
   "cell_type": "code",
   "execution_count": 17,
   "id": "d39c1303-3380-44c3-96eb-486f2bb43cd1",
   "metadata": {
    "tags": []
   },
   "outputs": [],
   "source": [
    "imdb_ratings_df = load_imdb_ratings()"
   ]
  },
  {
   "cell_type": "code",
   "execution_count": 18,
   "id": "5ee267a8-9e72-45a0-af24-e2e0b537da96",
   "metadata": {
    "tags": []
   },
   "outputs": [
    {
     "data": {
      "text/html": [
       "<div>\n",
       "<style scoped>\n",
       "    .dataframe tbody tr th:only-of-type {\n",
       "        vertical-align: middle;\n",
       "    }\n",
       "\n",
       "    .dataframe tbody tr th {\n",
       "        vertical-align: top;\n",
       "    }\n",
       "\n",
       "    .dataframe thead th {\n",
       "        text-align: right;\n",
       "    }\n",
       "</style>\n",
       "<table border=\"1\" class=\"dataframe\">\n",
       "  <thead>\n",
       "    <tr style=\"text-align: right;\">\n",
       "      <th></th>\n",
       "      <th>tconst</th>\n",
       "      <th>averageRating</th>\n",
       "      <th>numVotes</th>\n",
       "    </tr>\n",
       "  </thead>\n",
       "  <tbody>\n",
       "    <tr>\n",
       "      <th>0</th>\n",
       "      <td>tt0000001</td>\n",
       "      <td>5.7</td>\n",
       "      <td>2004</td>\n",
       "    </tr>\n",
       "    <tr>\n",
       "      <th>1</th>\n",
       "      <td>tt0000002</td>\n",
       "      <td>5.8</td>\n",
       "      <td>269</td>\n",
       "    </tr>\n",
       "    <tr>\n",
       "      <th>2</th>\n",
       "      <td>tt0000003</td>\n",
       "      <td>6.5</td>\n",
       "      <td>1902</td>\n",
       "    </tr>\n",
       "    <tr>\n",
       "      <th>3</th>\n",
       "      <td>tt0000004</td>\n",
       "      <td>5.5</td>\n",
       "      <td>178</td>\n",
       "    </tr>\n",
       "    <tr>\n",
       "      <th>4</th>\n",
       "      <td>tt0000005</td>\n",
       "      <td>6.2</td>\n",
       "      <td>2685</td>\n",
       "    </tr>\n",
       "    <tr>\n",
       "      <th>...</th>\n",
       "      <td>...</td>\n",
       "      <td>...</td>\n",
       "      <td>...</td>\n",
       "    </tr>\n",
       "    <tr>\n",
       "      <th>1365863</th>\n",
       "      <td>tt9916730</td>\n",
       "      <td>7.6</td>\n",
       "      <td>11</td>\n",
       "    </tr>\n",
       "    <tr>\n",
       "      <th>1365864</th>\n",
       "      <td>tt9916766</td>\n",
       "      <td>7.0</td>\n",
       "      <td>22</td>\n",
       "    </tr>\n",
       "    <tr>\n",
       "      <th>1365865</th>\n",
       "      <td>tt9916778</td>\n",
       "      <td>7.2</td>\n",
       "      <td>36</td>\n",
       "    </tr>\n",
       "    <tr>\n",
       "      <th>1365866</th>\n",
       "      <td>tt9916840</td>\n",
       "      <td>8.8</td>\n",
       "      <td>6</td>\n",
       "    </tr>\n",
       "    <tr>\n",
       "      <th>1365867</th>\n",
       "      <td>tt9916880</td>\n",
       "      <td>8.2</td>\n",
       "      <td>6</td>\n",
       "    </tr>\n",
       "  </tbody>\n",
       "</table>\n",
       "<p>1365868 rows × 3 columns</p>\n",
       "</div>"
      ],
      "text/plain": [
       "            tconst  averageRating  numVotes\n",
       "0        tt0000001            5.7      2004\n",
       "1        tt0000002            5.8       269\n",
       "2        tt0000003            6.5      1902\n",
       "3        tt0000004            5.5       178\n",
       "4        tt0000005            6.2      2685\n",
       "...            ...            ...       ...\n",
       "1365863  tt9916730            7.6        11\n",
       "1365864  tt9916766            7.0        22\n",
       "1365865  tt9916778            7.2        36\n",
       "1365866  tt9916840            8.8         6\n",
       "1365867  tt9916880            8.2         6\n",
       "\n",
       "[1365868 rows x 3 columns]"
      ]
     },
     "execution_count": 18,
     "metadata": {},
     "output_type": "execute_result"
    }
   ],
   "source": [
    "imdb_ratings_df"
   ]
  },
  {
   "cell_type": "code",
   "execution_count": 19,
   "id": "77b960f1-db35-40d9-adb8-184e8e4d3b07",
   "metadata": {
    "tags": []
   },
   "outputs": [],
   "source": [
    "fig = px.histogram(imdb_ratings_df, x=\"averageRating\", labels={\"averageRating\" : \"Rating\"}, nbins=100)\n",
    "fig.update_layout(title_text=\"Distribution of ratings on IMDb\", title_x=0.5)\n",
    "fig.write_html('plot/ratings_histogram.html', auto_open=True)"
   ]
  },
  {
   "cell_type": "code",
   "execution_count": 20,
   "id": "78b32110-96eb-48c7-9271-01c35f4e148c",
   "metadata": {
    "tags": []
   },
   "outputs": [],
   "source": [
    "# ratings_copy = imdb_ratings_df.rename(columns={\"numVotes\" : \"Number of votes\"})\n",
    "fig = fig = px.histogram(imdb_ratings_df, x=\"numVotes\", \n",
    "                         labels={\"numVotes\" : \"Number of votes\"}, \n",
    "                         log_y=True, nbins=100)\n",
    "fig.update_layout(title_text=\"Number of movies over number of votes\", title_x=0.5)\n",
    "fig.write_html('plot/movie_votes.html', auto_open=True)"
   ]
  },
  {
   "cell_type": "markdown",
   "id": "3f233496-0d9a-4713-8601-2e3674bd9ea1",
   "metadata": {},
   "source": [
    "## Personas terms"
   ]
  },
  {
   "cell_type": "code",
   "execution_count": 28,
   "id": "36f46085-6413-4474-9b6a-0b7fa3aafa94",
   "metadata": {
    "tags": []
   },
   "outputs": [],
   "source": [
    "import json\n",
    "import gensim.downloader\n",
    "from sklearn.manifold import TSNE"
   ]
  },
  {
   "cell_type": "code",
   "execution_count": 22,
   "id": "e3630626-6f33-4a40-bc6d-224b585cf83d",
   "metadata": {
    "tags": []
   },
   "outputs": [],
   "source": [
    "with open(\"data/cmu/personas/persona_verbs.json\") as f:\n",
    "    frequent_terms = json.load(f)"
   ]
  },
  {
   "cell_type": "code",
   "execution_count": 25,
   "id": "a1097a03-4492-439e-bb92-3cda933af853",
   "metadata": {
    "tags": []
   },
   "outputs": [
    {
     "name": "stdout",
     "output_type": "stream",
     "text": [
      "['fasttext-wiki-news-subwords-300', 'conceptnet-numberbatch-17-06-300', 'word2vec-ruscorpora-300', 'word2vec-google-news-300', 'glove-wiki-gigaword-50', 'glove-wiki-gigaword-100', 'glove-wiki-gigaword-200', 'glove-wiki-gigaword-300', 'glove-twitter-25', 'glove-twitter-50', 'glove-twitter-100', 'glove-twitter-200', '__testing_word2vec-matrix-synopsis']\n"
     ]
    }
   ],
   "source": [
    "print(list(gensim.downloader.info()['models'].keys()))"
   ]
  },
  {
   "cell_type": "code",
   "execution_count": 26,
   "id": "4c0ce366-f397-4718-acc9-4df62ecfe324",
   "metadata": {
    "tags": []
   },
   "outputs": [],
   "source": [
    "glove_vectors = gensim.downloader.load('glove-wiki-gigaword-50')"
   ]
  },
  {
   "cell_type": "code",
   "execution_count": 27,
   "id": "38d7c480-bc6e-42f2-a685-670dbfc622e3",
   "metadata": {
    "tags": []
   },
   "outputs": [],
   "source": [
    "# nice_personas = {4, 5, 40, 43}\n",
    "\n",
    "cluster_points = dict()\n",
    "word_vectors = []\n",
    "word_personas = []\n",
    "word_labels = []\n",
    "\n",
    "for p in range(1, 51):\n",
    "    words = frequent_terms[str(p)]\n",
    "\n",
    "    for w in words:\n",
    "        word_vectors.append(glove_vectors[w])\n",
    "        word_personas.append(str(p))\n",
    "        word_labels.append(w)"
   ]
  },
  {
   "cell_type": "code",
   "execution_count": 29,
   "id": "60bb7e1a-b433-418d-8474-8b23778ed025",
   "metadata": {
    "tags": []
   },
   "outputs": [],
   "source": [
    "tsne = TSNE(n_components=2, learning_rate='auto', random_state=10,\n",
    "                   init='random', perplexity=3, metric='cosine').fit_transform(np.array(word_vectors))"
   ]
  },
  {
   "cell_type": "code",
   "execution_count": 30,
   "id": "b0cacfca-2d66-45b1-bbe5-78afbc8c9f68",
   "metadata": {
    "tags": []
   },
   "outputs": [],
   "source": [
    "df = pd.DataFrame.from_dict({'tsne_1' : tsne[:,0], 'tsne_2' : tsne[:,1], 'persona' : word_personas, 'label' : word_labels})"
   ]
  },
  {
   "cell_type": "code",
   "execution_count": 33,
   "id": "ecb9d8ad-b4f9-4565-b83e-ce952edf7b65",
   "metadata": {
    "tags": []
   },
   "outputs": [],
   "source": [
    "nice_personas = {\"14\", \"5\", \"27\", \"40\", \"43\"}\n",
    "\n",
    "fig = px.scatter(df[df[\"persona\"].isin(nice_personas)], x=\"tsne_1\", y=\"tsne_2\", color=\"persona\",\n",
    "                 hover_data=['label'],\n",
    "                labels={\"tsne_1\" : \"Dimension 1 of TSNE\", \"tsne_2\" : \"Dimension 2 of TSNE\", \"persona\" : \"Persona ID\"})\n",
    "\n",
    "fig.update_layout(title_text=\"Word2Vec representations (reduced by TSNE) <br> of the most frequent words for some personas\", title_x=0.5)\n",
    "fig.update_traces(marker=dict(size=10))\n",
    "fig.write_html('plot/persona_scatter.html', auto_open=True)"
   ]
  }
 ],
 "metadata": {
  "kernelspec": {
   "display_name": "Python 3 (ipykernel)",
   "language": "python",
   "name": "python3"
  },
  "language_info": {
   "codemirror_mode": {
    "name": "ipython",
    "version": 3
   },
   "file_extension": ".py",
   "mimetype": "text/x-python",
   "name": "python",
   "nbconvert_exporter": "python",
   "pygments_lexer": "ipython3",
   "version": "3.10.0"
  }
 },
 "nbformat": 4,
 "nbformat_minor": 5
}
